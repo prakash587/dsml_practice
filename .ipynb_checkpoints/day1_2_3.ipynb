{
 "cells": [
  {
   "cell_type": "code",
   "execution_count": 1,
   "id": "f5329f40-79fa-4b30-8762-4f01fbd71a0c",
   "metadata": {},
   "outputs": [],
   "source": [
    "import math"
   ]
  },
  {
   "cell_type": "code",
   "execution_count": 3,
   "id": "b180cc4a-6d01-41c2-8e30-c053d5aa17d2",
   "metadata": {},
   "outputs": [
    {
     "data": {
      "text/plain": [
       "True"
      ]
     },
     "execution_count": 3,
     "metadata": {},
     "output_type": "execute_result"
    }
   ],
   "source": [
    "math.isfinite(23)"
   ]
  },
  {
   "cell_type": "code",
   "execution_count": 5,
   "id": "5d27d85d-1c62-4dd4-8bec-b3c0343a9934",
   "metadata": {},
   "outputs": [
    {
     "data": {
      "text/plain": [
       "20.09975124224178"
      ]
     },
     "execution_count": 5,
     "metadata": {},
     "output_type": "execute_result"
    }
   ],
   "source": [
    "math.dist((3,4),(23,2))"
   ]
  },
  {
   "cell_type": "code",
   "execution_count": 13,
   "id": "b1ab90a5-5699-40c3-a6e1-275ed0c7b58c",
   "metadata": {},
   "outputs": [
    {
     "data": {
      "text/plain": [
       "(22+0j)"
      ]
     },
     "execution_count": 13,
     "metadata": {},
     "output_type": "execute_result"
    }
   ],
   "source": [
    "complex(22)"
   ]
  },
  {
   "cell_type": "code",
   "execution_count": 16,
   "id": "3f7e817f-1175-44e9-ad1d-af48164cbabf",
   "metadata": {},
   "outputs": [
    {
     "name": "stdout",
     "output_type": "stream",
     "text": [
      "2\n"
     ]
    }
   ],
   "source": [
    "user=2\n",
    "capacity=128\n",
    "result= min(user, capacity)\n",
    "print(result)"
   ]
  },
  {
   "cell_type": "code",
   "execution_count": 14,
   "id": "2dc21fec-bbd2-4feb-9150-f417083879f4",
   "metadata": {},
   "outputs": [
    {
     "name": "stdout",
     "output_type": "stream",
     "text": [
      "enter the number 22\n"
     ]
    },
    {
     "name": "stdout",
     "output_type": "stream",
     "text": [
      "22\n"
     ]
    }
   ],
   "source": [
    "user=int(input(\"enter the number\"))\n",
    "capacity=128\n",
    "if user >= capacity:\n",
    "    print(capacity)\n",
    "else:\n",
    "    print(user)\n",
    "\n",
    "\n"
   ]
  },
  {
   "cell_type": "code",
   "execution_count": 17,
   "id": "c68cd2d9-ec62-443a-a32f-57819f703729",
   "metadata": {},
   "outputs": [],
   "source": [
    "a=\"   welcome\""
   ]
  },
  {
   "cell_type": "code",
   "execution_count": 19,
   "id": "a0009a81-def4-41c7-ac33-1116882a4ce8",
   "metadata": {},
   "outputs": [
    {
     "data": {
      "text/plain": [
       "'welcome'"
      ]
     },
     "execution_count": 19,
     "metadata": {},
     "output_type": "execute_result"
    }
   ],
   "source": [
    "a.strip()"
   ]
  },
  {
   "cell_type": "code",
   "execution_count": 20,
   "id": "dd18d456-7e0a-404e-b34d-b3bdc5a00185",
   "metadata": {},
   "outputs": [
    {
     "data": {
      "text/plain": [
       "'WELCOME'"
      ]
     },
     "execution_count": 20,
     "metadata": {},
     "output_type": "execute_result"
    }
   ],
   "source": [
    "a.upper()"
   ]
  },
  {
   "cell_type": "code",
   "execution_count": 22,
   "id": "ba23195c-c53a-4ebd-a548-2eafb1aee5ad",
   "metadata": {},
   "outputs": [
    {
     "data": {
      "text/plain": [
       "'weocome'"
      ]
     },
     "execution_count": 22,
     "metadata": {},
     "output_type": "execute_result"
    }
   ],
   "source": [
    "a.replace('l', 'o')"
   ]
  },
  {
   "cell_type": "code",
   "execution_count": 24,
   "id": "e4f05634-dadf-4769-9edc-9c620be3ba26",
   "metadata": {},
   "outputs": [
    {
     "data": {
      "text/plain": [
       "['welc', 'me']"
      ]
     },
     "execution_count": 24,
     "metadata": {},
     "output_type": "execute_result"
    }
   ],
   "source": [
    "a.split('o', 3)"
   ]
  },
  {
   "cell_type": "code",
   "execution_count": 28,
   "id": "ad39f1fb-f0c4-4774-90f8-c1ab8e6638cd",
   "metadata": {},
   "outputs": [
    {
     "data": {
      "text/plain": [
       "True"
      ]
     },
     "execution_count": 28,
     "metadata": {},
     "output_type": "execute_result"
    }
   ],
   "source": [
    "a= 'pkhadka@gmail.com'\n",
    "a.endswith('@gmail.com')"
   ]
  },
  {
   "cell_type": "code",
   "execution_count": 2,
   "id": "9b7f1885-6048-4258-9ca1-2df8e927ed61",
   "metadata": {},
   "outputs": [],
   "source": [
    "address=\"kathmandu\""
   ]
  },
  {
   "cell_type": "code",
   "execution_count": 3,
   "id": "9f616fa3-726f-48e7-a125-18e8b60bd42a",
   "metadata": {},
   "outputs": [
    {
     "data": {
      "text/plain": [
       "'aha'"
      ]
     },
     "execution_count": 3,
     "metadata": {},
     "output_type": "execute_result"
    }
   ],
   "source": [
    "address[1:7:2]"
   ]
  },
  {
   "cell_type": "code",
   "execution_count": 6,
   "id": "3e6efb4a-fbfa-44c1-9735-ed654dbbd13f",
   "metadata": {},
   "outputs": [
    {
     "data": {
      "text/plain": [
       "'udnamhtak'"
      ]
     },
     "execution_count": 6,
     "metadata": {},
     "output_type": "execute_result"
    }
   ],
   "source": [
    "address[::-1 #reverse"
   ]
  },
  {
   "cell_type": "code",
   "execution_count": 7,
   "id": "b57ff79c-466b-440d-9cf0-d4ceaeb579df",
   "metadata": {},
   "outputs": [
    {
     "data": {
      "text/plain": [
       "'mand'"
      ]
     },
     "execution_count": 7,
     "metadata": {},
     "output_type": "execute_result"
    }
   ],
   "source": [
    "address[-5:-1]"
   ]
  },
  {
   "cell_type": "code",
   "execution_count": 10,
   "id": "fca5c559-8ab8-4cae-a6e1-bad0832f6d3a",
   "metadata": {},
   "outputs": [],
   "source": [
    "name=\"prakash khadk\"\n",
    "age= 24"
   ]
  },
  {
   "cell_type": "code",
   "execution_count": 14,
   "id": "3a250523-37bb-4e82-bfb8-f6e38cb8f608",
   "metadata": {},
   "outputs": [
    {
     "name": "stdout",
     "output_type": "stream",
     "text": [
      "your name is prakash khadk and you are 24 years old\n"
     ]
    }
   ],
   "source": [
    "print (f\"your name is {name} and you are {age} years old\")"
   ]
  },
  {
   "cell_type": "code",
   "execution_count": 16,
   "id": "88043632-a4e7-48c7-9263-b352eb1fc4b6",
   "metadata": {},
   "outputs": [
    {
     "ename": "NameError",
     "evalue": "name 'file_path' is not defined",
     "output_type": "error",
     "traceback": [
      "\u001b[1;31m---------------------------------------------------------------------------\u001b[0m",
      "\u001b[1;31mNameError\u001b[0m                                 Traceback (most recent call last)",
      "Cell \u001b[1;32mIn [16], line 3\u001b[0m\n\u001b[0;32m      1\u001b[0m base_path\u001b[38;5;241m=\u001b[39m \u001b[38;5;124m\"\u001b[39m\u001b[38;5;124m/c\u001b[39m\u001b[38;5;124m\"\u001b[39m\n\u001b[0;32m      2\u001b[0m file_name\u001b[38;5;241m=\u001b[39m\u001b[38;5;124m\"\u001b[39m\u001b[38;5;124mhd_vedio\u001b[39m\u001b[38;5;124m\"\u001b[39m\n\u001b[1;32m----> 3\u001b[0m path\u001b[38;5;241m=\u001b[39m \u001b[38;5;124mf\u001b[39m\u001b[38;5;124m\"\u001b[39m\u001b[38;5;132;01m{\u001b[39;00mbase_path\u001b[38;5;132;01m}\u001b[39;00m\u001b[38;5;124m/output/\u001b[39m\u001b[38;5;132;01m{\u001b[39;00mfile_path\u001b[38;5;132;01m}\u001b[39;00m\u001b[38;5;124m.mp4\u001b[39m\u001b[38;5;124m\"\u001b[39m\n",
      "\u001b[1;31mNameError\u001b[0m: name 'file_path' is not defined"
     ]
    }
   ],
   "source": [
    "base_path= \"/c\"\n",
    "file_name=\"hd_vedio\"\n",
    "path= f\"{base_path}/output/{file_path}.mp4\""
   ]
  },
  {
   "cell_type": "code",
   "execution_count": 19,
   "id": "7779663d-af73-498a-b35e-07a2aa142daa",
   "metadata": {},
   "outputs": [
    {
     "name": "stdout",
     "output_type": "stream",
     "text": [
      "<class 'list'>\n",
      "8\n"
     ]
    }
   ],
   "source": [
    "item=[1,2,3,4,5,6,7,8]\n",
    "print(type(item))\n",
    "print(len(item))\n"
   ]
  },
  {
   "cell_type": "code",
   "execution_count": 20,
   "id": "45cbbd84-dc00-40da-8faf-f085c36a5ca7",
   "metadata": {},
   "outputs": [
    {
     "data": {
      "text/plain": [
       "5"
      ]
     },
     "execution_count": 20,
     "metadata": {},
     "output_type": "execute_result"
    }
   ],
   "source": [
    "item[4]\n"
   ]
  },
  {
   "cell_type": "code",
   "execution_count": 28,
   "id": "43165021-4e90-4064-b2dc-2d402bcb7f41",
   "metadata": {},
   "outputs": [],
   "source": [
    "store=[\"ram\", \"harti\", 22 ,[1,2,3,\"hari\",[1,5,6,\"add\"]]]"
   ]
  },
  {
   "cell_type": "code",
   "execution_count": 30,
   "id": "f2aab5f7-8bb3-4080-92e2-447624f188ea",
   "metadata": {},
   "outputs": [
    {
     "data": {
      "text/plain": [
       "'add'"
      ]
     },
     "execution_count": 30,
     "metadata": {},
     "output_type": "execute_result"
    }
   ],
   "source": [
    "store[3][4][3]"
   ]
  },
  {
   "cell_type": "code",
   "execution_count": null,
   "id": "c446af0b-9aad-48dd-821d-63180f8bbbf5",
   "metadata": {},
   "outputs": [],
   "source": []
  },
  {
   "cell_type": "code",
   "execution_count": null,
   "id": "d22a865c-0ddd-41de-87ee-c2826c45b783",
   "metadata": {},
   "outputs": [],
   "source": []
  },
  {
   "cell_type": "code",
   "execution_count": null,
   "id": "6cc2d5da-79bf-494b-a026-b9935f7b0435",
   "metadata": {},
   "outputs": [],
   "source": []
  }
 ],
 "metadata": {
  "kernelspec": {
   "display_name": "\"Python/Mu (mu_venv-38-20250107-135922)\"",
   "language": "python",
   "name": "mu_venv-38-20250107-135922"
  },
  "language_info": {
   "codemirror_mode": {
    "name": "ipython",
    "version": 3
   },
   "file_extension": ".py",
   "mimetype": "text/x-python",
   "name": "python",
   "nbconvert_exporter": "python",
   "pygments_lexer": "ipython3",
   "version": "3.8.12"
  }
 },
 "nbformat": 4,
 "nbformat_minor": 5
}
