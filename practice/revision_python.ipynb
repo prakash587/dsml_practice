{
 "cells": [
  {
   "cell_type": "code",
   "execution_count": 1,
   "id": "cbce1dd1-7f92-4c4d-9b03-fd5ff5115020",
   "metadata": {},
   "outputs": [],
   "source": [
    "## swap two variables"
   ]
  },
  {
   "cell_type": "code",
   "execution_count": 4,
   "id": "3efdc625-b9df-443b-973e-f276e2c9a96c",
   "metadata": {},
   "outputs": [
    {
     "name": "stdout",
     "output_type": "stream",
     "text": [
      "4 10\n"
     ]
    }
   ],
   "source": [
    "a= 10\n",
    "b= 4\n",
    "a,b= b,a\n",
    "print(a,b)"
   ]
  },
  {
   "cell_type": "code",
   "execution_count": 5,
   "id": "05ff25e3-f84f-472e-bf32-2fc29c1d8066",
   "metadata": {},
   "outputs": [],
   "source": [
    "##  Check if number is even or odd"
   ]
  },
  {
   "cell_type": "code",
   "execution_count": 6,
   "id": "027e14a7-4b16-4ca8-868e-60b18a241577",
   "metadata": {},
   "outputs": [
    {
     "name": "stdout",
     "output_type": "stream",
     "text": [
      "even\n"
     ]
    }
   ],
   "source": [
    "num = 2\n",
    "if num % 2  == 0:\n",
    "    print('even') \n",
    "else:\n",
    "    print('odd')\n",
    "    "
   ]
  },
  {
   "cell_type": "code",
   "execution_count": 7,
   "id": "8d1e1e2e-977c-42bc-82d0-42c638e12b00",
   "metadata": {},
   "outputs": [],
   "source": [
    "## Find the factorial of a number"
   ]
  },
  {
   "cell_type": "code",
   "execution_count": 13,
   "id": "a559c11b-b654-472c-920e-86470cf92997",
   "metadata": {},
   "outputs": [
    {
     "name": "stdout",
     "output_type": "stream",
     "text": [
      "1\n"
     ]
    }
   ],
   "source": [
    "def factorial(n):\n",
    "    return 1 if n ==0 else n* factorial(n-1)\n",
    "\n",
    "print(factorial(0))\n"
   ]
  },
  {
   "cell_type": "code",
   "execution_count": 20,
   "id": "2c2ae80f-7eaa-4f14-af59-b662055bf5f4",
   "metadata": {},
   "outputs": [
    {
     "name": "stdout",
     "output_type": "stream",
     "text": [
      "pallindrom\n"
     ]
    }
   ],
   "source": [
    "alp = 'rar'\n",
    "if alp == alp[::-1]:\n",
    "    print(\"pallindrom\")\n",
    "else: \n",
    "    print(\"Not pallindrome\")"
   ]
  },
  {
   "cell_type": "code",
   "execution_count": null,
   "id": "419bdc06-9a2e-4438-ba37-45460673c564",
   "metadata": {},
   "outputs": [],
   "source": [
    "## count vowel in string"
   ]
  },
  {
   "cell_type": "code",
   "execution_count": 31,
   "id": "20d5413c-57b2-4e8e-a960-c915f7171eab",
   "metadata": {},
   "outputs": [
    {
     "name": "stdout",
     "output_type": "stream",
     "text": [
      "not vowel\n",
      "not vowel\n",
      "vowel\n",
      "not vowel\n",
      "not vowel\n",
      "not vowel\n"
     ]
    }
   ],
   "source": [
    "a= 'bbabbb'\n",
    "for vowel in a:\n",
    "    if vowel in 'aeiou':\n",
    "        print('vowel')\n",
    "    else:\n",
    "        print('not vowel')\n"
   ]
  },
  {
   "cell_type": "code",
   "execution_count": 33,
   "id": "898babeb-4e27-485c-892f-dcd3da93e72e",
   "metadata": {},
   "outputs": [
    {
     "name": "stdout",
     "output_type": "stream",
     "text": [
      "vowel\n"
     ]
    }
   ],
   "source": [
    "a = 'bbbib'\n",
    "if any(char in 'aeiou' for char in a):\n",
    "    print('vowel')\n",
    "else:\n",
    "    print('not vowel')\n"
   ]
  },
  {
   "cell_type": "code",
   "execution_count": 34,
   "id": "616dff74-3b52-4691-9e03-9eb5ac72a039",
   "metadata": {},
   "outputs": [],
   "source": [
    " ## Find the max of three numbers"
   ]
  },
  {
   "cell_type": "code",
   "execution_count": 38,
   "id": "2a5eac9d-4ff5-454f-b46a-59669383f1ac",
   "metadata": {},
   "outputs": [
    {
     "name": "stdout",
     "output_type": "stream",
     "text": [
      "4\n"
     ]
    }
   ],
   "source": [
    "a= [1,2,3,4,]\n",
    "print(max(a))"
   ]
  },
  {
   "cell_type": "code",
   "execution_count": null,
   "id": "27382f02-e387-4295-83ce-f5ff6657c9c3",
   "metadata": {},
   "outputs": [],
   "source": [
    "## . FizzBuzz\n",
    "Hint: Print \"Fizz\" for multiples of 3, \"Buzz\" for 5, and both for 15."
   ]
  },
  {
   "cell_type": "code",
   "execution_count": 54,
   "id": "bb0615d3-f2bd-4014-8d5e-700b5d47ad4a",
   "metadata": {},
   "outputs": [
    {
     "name": "stdout",
     "output_type": "stream",
     "text": [
      "1 \n",
      "2 \n",
      "3 FIZZ\n",
      "4 \n",
      "5 BUZZ\n",
      "6 FIZZ\n",
      "7 \n",
      "8 \n",
      "9 FIZZ\n",
      "10 BUZZ\n",
      "11 \n",
      "12 FIZZ\n",
      "13 \n",
      "14 \n",
      "15 FIZZBUZZFIZZBUZZ\n"
     ]
    }
   ],
   "source": [
    "for i in range(1,16):\n",
    "    output = ''\n",
    "    if i % 3 == 0:\n",
    "        output = output+ 'FIZZ'\n",
    "    if i % 5 == 0:\n",
    "        output = output+ 'BUZZ'\n",
    "    if i % 3 ==0 and i%5 ==0:\n",
    "        output =output+ 'FIZZBUZZ'\n",
    "    print(i, output)\n",
    "\n",
    "\n",
    "\n",
    "\n"
   ]
  },
  {
   "cell_type": "code",
   "execution_count": 52,
   "id": "55a076ba-39b6-48da-9c66-4b5670d1134f",
   "metadata": {},
   "outputs": [
    {
     "name": "stdout",
     "output_type": "stream",
     "text": [
      "1\n",
      "2\n",
      "Fizz\n",
      "4\n",
      "Buzz\n",
      "Fizz\n",
      "7\n",
      "8\n",
      "Fizz\n",
      "Buzz\n",
      "11\n",
      "Fizz\n",
      "13\n",
      "14\n",
      "FizzBuzz\n"
     ]
    }
   ],
   "source": [
    "for i in range(1, 16):\n",
    "    output = ''\n",
    "    if i % 3 == 0: output += 'Fizz'\n",
    "    if i % 5 == 0: output += 'Buzz'\n",
    "    print(output or i)\n"
   ]
  },
  {
   "cell_type": "code",
   "execution_count": 55,
   "id": "bbfbc706-de63-4b8a-91aa-33a4b64d6db6",
   "metadata": {},
   "outputs": [],
   "source": [
    "## Check if a number is prime"
   ]
  },
  {
   "cell_type": "code",
   "execution_count": 57,
   "id": "4c19c34e-dfcc-4e6a-b581-e1ee0c27b4ab",
   "metadata": {},
   "outputs": [],
   "source": [
    "def is_prime(n):\n",
    "    if n < 2:\n",
    "        return False\n",
    "    for i in range(2, int(n**0.5)+1):\n",
    "        if n % i ==0:\n",
    "            return False\n",
    "    return True\n"
   ]
  },
  {
   "cell_type": "code",
   "execution_count": 59,
   "id": "e6a30d4e-bdb4-437f-8c3e-b3eaa59253ab",
   "metadata": {},
   "outputs": [
    {
     "data": {
      "text/plain": [
       "True"
      ]
     },
     "execution_count": 59,
     "metadata": {},
     "output_type": "execute_result"
    }
   ],
   "source": [
    "is_prime(3)"
   ]
  },
  {
   "cell_type": "code",
   "execution_count": null,
   "id": "b7fa5cc7-d423-44ba-a336-a08f63608d95",
   "metadata": {},
   "outputs": [],
   "source": [
    "## Reverse a list"
   ]
  },
  {
   "cell_type": "code",
   "execution_count": 60,
   "id": "88b1fadd-e12c-4910-962e-8f29b545251e",
   "metadata": {},
   "outputs": [
    {
     "name": "stdout",
     "output_type": "stream",
     "text": [
      "[5, 4, 3, 2, 1]\n"
     ]
    }
   ],
   "source": [
    "lst= [1,2,3,4,5]\n",
    "print (lst[::-1])"
   ]
  },
  {
   "cell_type": "code",
   "execution_count": null,
   "id": "757dc31e-fe99-4bf9-8de3-d6d1cc01a985",
   "metadata": {},
   "outputs": [],
   "source": [
    "##  Find duplicates in a list"
   ]
  },
  {
   "cell_type": "code",
   "execution_count": 64,
   "id": "222eb10a-83ee-425a-8b4b-626de08f7a74",
   "metadata": {},
   "outputs": [
    {
     "name": "stdout",
     "output_type": "stream",
     "text": [
      "{2, 4}\n"
     ]
    }
   ],
   "source": [
    "def find_duplicates(lst):\n",
    "    return set([x for x in lst if lst.count(x)>1])\n",
    "lst= [1,2,3,4,4,43,2]\n",
    "print(find_duplicates(lst))"
   ]
  },
  {
   "cell_type": "code",
   "execution_count": 66,
   "id": "72756fc7-f979-4747-ba74-f9bbc5ec24ec",
   "metadata": {},
   "outputs": [
    {
     "name": "stdout",
     "output_type": "stream",
     "text": [
      "{2, 4}\n"
     ]
    }
   ],
   "source": [
    "def find_duplicaes(lst):\n",
    "    return set([x for x in lst if lst.count(x)>1])\n",
    "    lst =[1,2,3,4,4,4,5,5,6,]\n",
    "print(find_duplicates(lst))"
   ]
  },
  {
   "cell_type": "code",
   "execution_count": null,
   "id": "b29994b0-2f3a-4869-b369-b88f4aed2582",
   "metadata": {},
   "outputs": [],
   "source": [
    "## Get all duplicates including repetitions"
   ]
  },
  {
   "cell_type": "code",
   "execution_count": 75,
   "id": "89312692-e05c-4256-88d9-b26a191630fd",
   "metadata": {},
   "outputs": [],
   "source": [
    "def get_all_duplicate_entries(lst):\n",
    "    seen =set()\n",
    "    duplicates= []\n",
    "    for item in lst:\n",
    "        if item in seen:\n",
    "            duplicates.append(item)\n",
    "        else:\n",
    "            seen.add(item)\n",
    "    return duplicates"
   ]
  },
  {
   "cell_type": "code",
   "execution_count": 76,
   "id": "3666248b-9572-478f-a6b8-867c6b02b6f7",
   "metadata": {},
   "outputs": [
    {
     "name": "stdout",
     "output_type": "stream",
     "text": [
      "[3, 3, 3, 4, 4, 5]\n"
     ]
    }
   ],
   "source": [
    "my_lst=[11,22,3,33,3,3,3,4,4,4,5,5,]\n",
    "print(get_all_duplicate_entries(my_lst))"
   ]
  },
  {
   "cell_type": "code",
   "execution_count": null,
   "id": "0cbba92c-a57f-4f4c-a5f6-69e5df5268bf",
   "metadata": {},
   "outputs": [],
   "source": []
  }
 ],
 "metadata": {
  "kernelspec": {
   "display_name": "\"Python/Mu (mu_venv-38-20250107-135922)\"",
   "language": "python",
   "name": "mu_venv-38-20250107-135922"
  },
  "language_info": {
   "codemirror_mode": {
    "name": "ipython",
    "version": 3
   },
   "file_extension": ".py",
   "mimetype": "text/x-python",
   "name": "python",
   "nbconvert_exporter": "python",
   "pygments_lexer": "ipython3",
   "version": "3.8.12"
  }
 },
 "nbformat": 4,
 "nbformat_minor": 5
}
