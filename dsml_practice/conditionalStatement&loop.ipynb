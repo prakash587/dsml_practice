{
 "cells": [
  {
   "cell_type": "code",
   "execution_count": 9,
   "id": "de006193-3d14-4d20-8ff8-ba96868c4589",
   "metadata": {},
   "outputs": [
    {
     "name": "stdout",
     "output_type": "stream",
     "text": [
      "pallidrome\n"
     ]
    }
   ],
   "source": [
    "name='aaaaa'\n",
    "name.lower()\n",
    "if name[0]==name[-1] and name[1]==name[-1] and name[2]==name[-2] and name[3]==name[-3] and name[4]==name[-4]:\n",
    "    print(\"pallidrome\")\n",
    "else:\n",
    "    print(\"not pallidrome\")"
   ]
  },
  {
   "cell_type": "code",
   "execution_count": 12,
   "id": "0f3aa3d9-309f-4bb3-b4b1-e5e74a4dafec",
   "metadata": {},
   "outputs": [
    {
     "name": "stdout",
     "output_type": "stream",
     "text": [
      "x is positive\n"
     ]
    }
   ],
   "source": [
    "x=6\n",
    "if x<6:\n",
    "    print(\"x is negative\")\n",
    "elif x<=0:\n",
    "    print(\"x is more\")\n",
    "else:\n",
    "    print(\"x is positive\")"
   ]
  },
  {
   "cell_type": "code",
   "execution_count": 18,
   "id": "ba2d15ee-7c32-4371-bef4-bbfe4f13fa8d",
   "metadata": {},
   "outputs": [
    {
     "name": "stdin",
     "output_type": "stream",
     "text": [
      "enter a number 80\n"
     ]
    },
    {
     "name": "stdout",
     "output_type": "stream",
     "text": [
      "grade b\n"
     ]
    }
   ],
   "source": [
    "number= int(input(\"enter a number\"))\n",
    "if number<100 and number >80:\n",
    "    print(\"grade A\")\n",
    "elif number <=80 and number >=60:\n",
    "    print(\"grade b\")\n",
    "elif number <=60 and number >=40:\n",
    "    print(\"grade c\")\n",
    "elif number <40:\n",
    "    print(\"grade d\")\n",
    "else:\n",
    "    print (\"enter valid number\")"
   ]
  },
  {
   "cell_type": "code",
   "execution_count": 24,
   "id": "8437fd96-17a4-4eff-9e81-af3715428849",
   "metadata": {},
   "outputs": [
    {
     "name": "stdin",
     "output_type": "stream",
     "text": [
      "enter a number 81\n"
     ]
    },
    {
     "name": "stdout",
     "output_type": "stream",
     "text": [
      "grade a\n"
     ]
    }
   ],
   "source": [
    "grade= int(input(\"enter a number\"))\n",
    "if grade>0:\n",
    "\n",
    "    if grade>80:\n",
    "        print(\"grade a\")\n",
    "\n",
    "    else:\n",
    "        print(\"grade other\")\n",
    "\n",
    "else:\n",
    "    print(\"enter positive number\")"
   ]
  },
  {
   "cell_type": "code",
   "execution_count": 25,
   "id": "b08f56ec-17a2-47c9-8485-63e498e0af7a",
   "metadata": {},
   "outputs": [
    {
     "ename": "SyntaxError",
     "evalue": "invalid syntax (1206887574.py, line 1)",
     "output_type": "error",
     "traceback": [
      "\u001b[1;36m  Cell \u001b[1;32mIn[25], line 1\u001b[1;36m\u001b[0m\n\u001b[1;33m    **for wgile loop**\u001b[0m\n\u001b[1;37m    ^\u001b[0m\n\u001b[1;31mSyntaxError\u001b[0m\u001b[1;31m:\u001b[0m invalid syntax\n"
     ]
    }
   ],
   "source": [
    "#**for, while loop**"
   ]
  },
  {
   "cell_type": "code",
   "execution_count": 34,
   "id": "2065ebd3-b9a2-4676-9152-fe5d0430809b",
   "metadata": {},
   "outputs": [],
   "source": [
    "fruits=['apple', 'banana', 'cherry']"
   ]
  },
  {
   "cell_type": "code",
   "execution_count": 36,
   "id": "e25a40da-50c4-450f-bb42-7c3a5f9fc134",
   "metadata": {},
   "outputs": [
    {
     "name": "stdout",
     "output_type": "stream",
     "text": [
      " fruit apple:\n",
      " fruit banana:\n",
      " fruit cherry:\n",
      "completed\n"
     ]
    }
   ],
   "source": [
    "for each in fruits:\n",
    "    print(f\" fruit {each}:\")\n",
    "print(\"completed\")"
   ]
  },
  {
   "cell_type": "code",
   "execution_count": 39,
   "id": "a66f3423-38c7-4baf-bd7d-86347355da6f",
   "metadata": {},
   "outputs": [
    {
     "name": "stdout",
     "output_type": "stream",
     "text": [
      " character is n\n",
      " character is a\n",
      " character is m\n",
      " character is e\n"
     ]
    }
   ],
   "source": [
    "for ch in \"name\":\n",
    "    print(f\" character is {ch}\")"
   ]
  },
  {
   "cell_type": "code",
   "execution_count": 43,
   "id": "479a62e1-0fe1-4e03-a0e6-4fbfc3713238",
   "metadata": {},
   "outputs": [
    {
     "name": "stdout",
     "output_type": "stream",
     "text": [
      "list[range(0, 10)]\n"
     ]
    }
   ],
   "source": [
    "list[range(10)]"
   ]
  },
  {
   "cell_type": "code",
   "execution_count": 44,
   "id": "c30efcdc-f6e5-4afe-ab31-1191aa2a1cac",
   "metadata": {},
   "outputs": [
    {
     "name": "stdout",
     "output_type": "stream",
     "text": [
      "*\n",
      "**\n",
      "***\n",
      "****\n",
      "*****\n"
     ]
    }
   ],
   "source": [
    "a = \"*\"\n",
    "for i in range(5):\n",
    "    print((i+1)*a)\n",
    "    "
   ]
  },
  {
   "cell_type": "code",
   "execution_count": 52,
   "id": "103e6e4b-d5bb-4738-a5ae-6f9673e69b41",
   "metadata": {},
   "outputs": [
    {
     "name": "stdout",
     "output_type": "stream",
     "text": [
      "*\n",
      "**\n",
      "***\n",
      "****\n",
      "*****\n"
     ]
    }
   ],
   "source": [
    "for i in range(1, 6):\n",
    "    print(\"*\" * i)\n"
   ]
  },
  {
   "cell_type": "code",
   "execution_count": 68,
   "id": "6ebfe58d-a629-4b3f-9801-1e229ed996c0",
   "metadata": {},
   "outputs": [
    {
     "name": "stdout",
     "output_type": "stream",
     "text": [
      "*\n",
      "**\n",
      "***\n",
      "****\n",
      "*****\n",
      "******\n",
      "*******\n"
     ]
    }
   ],
   "source": [
    "i = 1\n",
    "while i <= 7:\n",
    "    print(\"*\" * i)\n",
    "    i += 1\n"
   ]
  },
  {
   "cell_type": "code",
   "execution_count": 55,
   "id": "0aae7391-c78f-4115-a61b-2c0f399531fc",
   "metadata": {},
   "outputs": [],
   "source": [
    "fruits=['apple', 'banana', 'cherry']\n",
    "color=['red', 'brown', 'yellow']\n"
   ]
  },
  {
   "cell_type": "code",
   "execution_count": 59,
   "id": "bf7f8d37-f5c3-4f58-9a02-265294dd1dcb",
   "metadata": {},
   "outputs": [
    {
     "name": "stdout",
     "output_type": "stream",
     "text": [
      "apple red\n",
      "banana red\n",
      "cherry red\n",
      "apple brown\n",
      "banana brown\n",
      "cherry brown\n",
      "apple yellow\n",
      "banana yellow\n",
      "cherry yellow\n"
     ]
    }
   ],
   "source": [
    "for a in color:\n",
    "    for f in fruits:\n",
    "        print(f, a)"
   ]
  },
  {
   "cell_type": "code",
   "execution_count": null,
   "id": "e87964c1-8f76-443d-931c-0dd51c007783",
   "metadata": {},
   "outputs": [],
   "source": []
  }
 ],
 "metadata": {
  "kernelspec": {
   "display_name": "Python 3 (ipykernel)",
   "language": "python",
   "name": "python3"
  },
  "language_info": {
   "codemirror_mode": {
    "name": "ipython",
    "version": 3
   },
   "file_extension": ".py",
   "mimetype": "text/x-python",
   "name": "python",
   "nbconvert_exporter": "python",
   "pygments_lexer": "ipython3",
   "version": "3.13.0"
  }
 },
 "nbformat": 4,
 "nbformat_minor": 5
}
