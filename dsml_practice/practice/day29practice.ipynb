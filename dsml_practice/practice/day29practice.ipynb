{
 "cells": [
  {
   "cell_type": "markdown",
   "id": "11efee32-cb94-4826-834d-d7be067f8eda",
   "metadata": {},
   "source": [
    "File Operations and Data Persistence in a To-Do List App\n",
    "Scenario:\n",
    "You're building a command-line To-Do List App that lets users add tasks, view all tasks, and save/load them from a file so that data persists across sessions.\n",
    "\n",
    "Tasks:\n",
    "\n",
    "Create a Task class with attributes like description and completed.\n",
    "\n",
    "Create a ToDoList class with methods to:\n",
    "\n",
    "Add a task\n",
    "\n",
    "Mark a task as completed\n",
    "\n",
    "View all tasks\n",
    "\n",
    "Save tasks to a file\n",
    "\n",
    "Load tasks from a file"
   ]
  },
  {
   "cell_type": "code",
   "execution_count": 11,
   "id": "869b7c60-0b5b-4a77-a510-f59545b8d08e",
   "metadata": {},
   "outputs": [],
   "source": [
    "# 1. File Operations and Data Persistence in a To-Do List App\n",
    "import json\n",
    "\n",
    "class Task:\n",
    "    def __init__(self, description):\n",
    "        self.description = description\n",
    "        self.completed = False\n",
    "\n",
    "    def to_dict(self):\n",
    "        return {\"description\": self.description, \"completed\": self.completed}\n",
    "\n",
    "    @staticmethod\n",
    "    def from_dict(data):\n",
    "        task = Task(data['description'])\n",
    "        task.completed = data['completed']\n",
    "        return task\n",
    "\n",
    "class ToDoList:\n",
    "    def __init__(self):\n",
    "        self.tasks = []\n",
    "\n",
    "    def add_task(self, desc):\n",
    "        self.tasks.append(Task(desc))\n",
    "\n",
    "    def complete_task(self, index):\n",
    "        if 0 <= index < len(self.tasks):\n",
    "            self.tasks[index].completed = True\n",
    "\n",
    "    def view_tasks(self):\n",
    "        for i, task in enumerate(self.tasks):\n",
    "            status = \"✓\" if task.completed else \"✗\"\n",
    "            print(f\"{i + 1}. [{status}] {task.description}\")\n",
    "\n",
    "    def save_to_file(self, filename):\n",
    "        try:\n",
    "            with open(filename, 'w') as f:\n",
    "                json.dump([t.to_dict() for t in self.tasks], f)\n",
    "        except Exception as e:\n",
    "            print(f\"Error saving file: {e}\")\n",
    "\n",
    "    def load_from_file(self, filename):\n",
    "        try:\n",
    "            with open(filename, 'r') as f:\n",
    "                data = json.load(f)\n",
    "                self.tasks = [Task.from_dict(item) for item in data]\n",
    "        except Exception as e:\n",
    "            print(f\"Error loading file: {e}\")"
   ]
  },
  {
   "cell_type": "code",
   "execution_count": 12,
   "id": "3eda5261-06bb-45ea-bbeb-c2f55de30796",
   "metadata": {},
   "outputs": [
    {
     "name": "stdout",
     "output_type": "stream",
     "text": [
      "\n",
      "--- ToDo List Test ---\n",
      "1. [✓] Finish assignment\n",
      "2. [✗] Buy groceries\n",
      "Loaded tasks:\n",
      "1. [✓] Finish assignment\n",
      "2. [✗] Buy groceries\n"
     ]
    }
   ],
   "source": [
    "# Test\n",
    "print(\"\\n--- ToDo List Test ---\")\n",
    "todo = ToDoList()\n",
    "todo.add_task(\"Finish assignment\")\n",
    "todo.add_task(\"Buy groceries\")\n",
    "todo.complete_task(0)\n",
    "todo.view_tasks()\n",
    "todo.save_to_file(\"tasks.json\")\n",
    "todo.load_from_file(\"tasks.json\")\n",
    "print(\"Loaded tasks:\")\n",
    "todo.view_tasks()"
   ]
  },
  {
   "cell_type": "markdown",
   "id": "902d0df3-e074-4825-8ba3-ad8a8a1e2e11",
   "metadata": {},
   "source": [
    "Bank Account Simulation with Inheritance\n",
    "Scenario:\n",
    "You're simulating a basic bank system with different types of accounts using inheritance.\n",
    "\n",
    "Tasks:\n",
    "\n",
    "Create a base BankAccount class with common features like:\n",
    "\n",
    "account_holder, balance\n",
    "\n",
    "deposit() and withdraw() methods\n",
    "\n",
    "Derive two subclasses:\n",
    "\n",
    "SavingsAccount (with an interest method)\n",
    "\n",
    "CheckingAccount (with an overdraft limit)\n",
    "\n",
    "Demonstrate polymorphism by using the same interface to interact with both types of accounts.\n",
    "\n",
    "Concepts: Inheritance, Polymorphism, OOP"
   ]
  },
  {
   "cell_type": "code",
   "execution_count": 13,
   "id": "77a97452-47d3-4abb-a5ab-8c7c9df821ab",
   "metadata": {},
   "outputs": [],
   "source": [
    "# 2. Bank Account Simulation with Inheritance\n",
    "class BankAccount:\n",
    "    def __init__(self, holder, balance=0):\n",
    "        self.holder = holder\n",
    "        self.balance = balance\n",
    "\n",
    "    def deposit(self, amount):\n",
    "        self.balance += amount\n",
    "\n",
    "    def withdraw(self, amount):\n",
    "        if amount <= self.balance:\n",
    "            self.balance -= amount\n",
    "        else:\n",
    "            print(\"Insufficient funds\")\n",
    "\n",
    "class SavingsAccount(BankAccount):\n",
    "    def apply_interest(self):\n",
    "        self.balance *= 1.05\n",
    "\n",
    "class CheckingAccount(BankAccount):\n",
    "    def __init__(self, holder, balance=0, overdraft_limit=100):\n",
    "        super().__init__(holder, balance)\n",
    "        self.overdraft_limit = overdraft_limit\n",
    "\n",
    "    def withdraw(self, amount):\n",
    "        if amount <= self.balance + self.overdraft_limit:\n",
    "            self.balance -= amount\n",
    "        else:\n",
    "            print(\"Overdraft limit exceeded\")"
   ]
  },
  {
   "cell_type": "code",
   "execution_count": 14,
   "id": "e56c73cc-dc0a-4fe3-b84d-c444b6a675e2",
   "metadata": {},
   "outputs": [
    {
     "name": "stdout",
     "output_type": "stream",
     "text": [
      "\n",
      "--- Bank Account Test ---\n",
      "Savings Balance: 1050.0\n",
      "Checking Balance: -150\n"
     ]
    }
   ],
   "source": [
    "# Test\n",
    "print(\"\\n--- Bank Account Test ---\")\n",
    "s = SavingsAccount(\"Alice\", 1000)\n",
    "s.apply_interest()\n",
    "print(\"Savings Balance:\", s.balance)\n",
    "\n",
    "c = CheckingAccount(\"Bob\", 500, 200)\n",
    "c.withdraw(650)\n",
    "print(\"Checking Balance:\", c.balance)"
   ]
  },
  {
   "cell_type": "markdown",
   "id": "4880cca8-465d-4ded-b6c4-82e7a4c08abe",
   "metadata": {},
   "source": [
    "Data Analysis with CSV and Pandas\n",
    "Scenario:\n",
    "You're analyzing a CSV file containing sales data for a retail store.\n",
    "\n",
    "Tasks:\n",
    "\n",
    "Load the data using pandas.\n",
    "\n",
    "Calculate total revenue, average order value, and most sold product.\n",
    "\n",
    "Handle missing or invalid data using try-except.\n",
    "\n",
    "Plot a simple bar chart of top 5 products by sales.\n",
    "\n",
    "Concepts: Pandas, Data Analysis, Exception Handling, Visualization"
   ]
  },
  {
   "cell_type": "code",
   "execution_count": 1,
   "id": "5fb05215-3699-42a6-a67d-f84c775a0e78",
   "metadata": {},
   "outputs": [],
   "source": [
    "# !pip install pandas \n",
    "# !pip install matplotlib"
   ]
  },
  {
   "cell_type": "code",
   "execution_count": 18,
   "id": "e49b8a15-5cbe-4d00-bee7-b8b998651c8e",
   "metadata": {},
   "outputs": [],
   "source": [
    "import pandas as pd\n",
    "import matplotlib.pyplot as plt\n",
    "\n",
    "def analyze_sales_data(filepath):\n",
    "    try:\n",
    "        df = pd.read_csv(filepath)\n",
    "        df.dropna(inplace=True)\n",
    "        df['Total'] = df['Price'] * df['Quantity']\n",
    "\n",
    "        total_revenue = df['Total'].sum()\n",
    "        avg_order = df['Total'].mean()\n",
    "        top_products = df.groupby('Product')['Quantity'].sum().nlargest(5)\n",
    "\n",
    "        print(\"Total Revenue:\", total_revenue)\n",
    "        print(\"Average Order Value:\", avg_order)\n",
    "        print(\"Top 5 Products:\\n\", top_products)\n",
    "\n",
    "        top_products.plot(kind='bar', title='Top 5 Products')\n",
    "        plt.ylabel(\"Units Sold\")\n",
    "        plt.tight_layout()\n",
    "        plt.show()\n",
    "\n",
    "    except Exception as e:\n",
    "        print(\"Error in data analysis:\", e)"
   ]
  },
  {
   "cell_type": "markdown",
   "id": "5e8affc9-d766-489f-ad89-443acb1069f6",
   "metadata": {},
   "source": [
    "API Integration: Weather Forecast App\n",
    "Scenario:\n",
    "You're building a simple weather forecast script that pulls current weather data for a given city using a public API (like OpenWeatherMap).\n",
    "\n",
    "Tasks:\n",
    "\n",
    "Use the requests library to fetch JSON data.\n",
    "\n",
    "Extract temperature, humidity, and weather description.\n",
    "\n",
    "Handle common errors like invalid city names and connection issues.\n",
    "\n",
    "Concepts: APIs, JSON, HTTP Requests, Error Handling"
   ]
  },
  {
   "cell_type": "code",
   "execution_count": 19,
   "id": "ae0b1970-23c4-4822-aff2-0ffd7c0fb182",
   "metadata": {},
   "outputs": [],
   "source": [
    "import requests\n",
    "\n",
    "def get_weather(city):\n",
    "    API_KEY = \"\"  \n",
    "    url = f\"http://api.openweathermap.org/data/2.5/weather?q={city}&appid={API_KEY}&units=metric\"\n",
    "    try:\n",
    "        response = requests.get(url)\n",
    "        response.raise_for_status()\n",
    "        data = response.json()\n",
    "        print(f\"Weather in {city}: {data['weather'][0]['description']}\")\n",
    "        print(f\"Temperature: {data['main']['temp']}°C\")\n",
    "        print(f\"Humidity: {data['main']['humidity']}%\")\n",
    "    except requests.exceptions.HTTPError:\n",
    "        print(\"City not found or bad response.\")\n",
    "    except Exception as e:\n",
    "        print(\"Error fetching weather:\", e)"
   ]
  },
  {
   "cell_type": "code",
   "execution_count": 21,
   "id": "d8fc747b-f0f8-499b-a2b6-3cf12d6c1fff",
   "metadata": {},
   "outputs": [
    {
     "name": "stdout",
     "output_type": "stream",
     "text": [
      "City not found or bad response.\n"
     ]
    }
   ],
   "source": [
    "get_weather(\"London\") "
   ]
  },
  {
   "cell_type": "markdown",
   "id": "a592cef0-7e11-4bdc-ad2f-7c5d2c9d3964",
   "metadata": {},
   "source": [
    "Game Development: Guess the Word (OOP + Random)\n",
    "Scenario:\n",
    "Create a word guessing game where the user has to guess letters to reveal a hidden word randomly selected from a list.\n",
    "\n",
    "Tasks:\n",
    "\n",
    "Use a Game class to manage the game state.\n",
    "\n",
    "Keep track of correct and incorrect guesses.\n",
    "\n",
    "Display the current state of the word after each guess.\n",
    "\n",
    "End the game when the word is guessed or guesses run out.\n",
    "\n",
    "Concepts: Random, Strings, Loops, OOP"
   ]
  },
  {
   "cell_type": "code",
   "execution_count": 20,
   "id": "5d8539f0-cf7a-48ac-b3ed-59c017f70b13",
   "metadata": {},
   "outputs": [
    {
     "name": "stdout",
     "output_type": "stream",
     "text": [
      "\n",
      "--- Guess the Word Game ---\n",
      "_ _ _ _ _ _ _\n",
      "Tries left: 6\n"
     ]
    },
    {
     "name": "stdin",
     "output_type": "stream",
     "text": [
      "Guess a letter:  s\n"
     ]
    },
    {
     "name": "stdout",
     "output_type": "stream",
     "text": [
      "_ _ _ _ _ _ _\n",
      "Tries left: 5\n"
     ]
    },
    {
     "name": "stdin",
     "output_type": "stream",
     "text": [
      "Guess a letter:  python\n"
     ]
    },
    {
     "name": "stdout",
     "output_type": "stream",
     "text": [
      "_ _ _ _ _ _ _\n",
      "Tries left: 4\n"
     ]
    },
    {
     "name": "stdin",
     "output_type": "stream",
     "text": [
      "Guess a letter:  ss\n"
     ]
    },
    {
     "name": "stdout",
     "output_type": "stream",
     "text": [
      "_ _ _ _ _ _ _\n",
      "Tries left: 3\n"
     ]
    },
    {
     "name": "stdin",
     "output_type": "stream",
     "text": [
      "Guess a letter:  fr\n"
     ]
    },
    {
     "name": "stdout",
     "output_type": "stream",
     "text": [
      "_ _ _ _ _ _ _\n",
      "Tries left: 2\n"
     ]
    },
    {
     "name": "stdin",
     "output_type": "stream",
     "text": [
      "Guess a letter:  hangman\n"
     ]
    },
    {
     "name": "stdout",
     "output_type": "stream",
     "text": [
      "_ _ _ _ _ _ _\n",
      "Tries left: 2\n"
     ]
    },
    {
     "name": "stdin",
     "output_type": "stream",
     "text": [
      "Guess a letter:  challenge\n"
     ]
    },
    {
     "name": "stdout",
     "output_type": "stream",
     "text": [
      "_ _ _ _ _ _ _\n",
      "Tries left: 1\n"
     ]
    },
    {
     "name": "stdin",
     "output_type": "stream",
     "text": [
      "Guess a letter:  developer\n"
     ]
    },
    {
     "name": "stdout",
     "output_type": "stream",
     "text": [
      "Game Over. The word was: hangman\n"
     ]
    }
   ],
   "source": [
    "import random\n",
    "\n",
    "class WordGame:\n",
    "    def __init__(self, word_list):\n",
    "        self.word = random.choice(word_list).lower()\n",
    "        self.guessed = set()\n",
    "        self.tries = 6\n",
    "\n",
    "    def display_word(self):\n",
    "        return \" \".join([c if c in self.guessed else '_' for c in self.word])\n",
    "\n",
    "    def guess(self, letter):\n",
    "        letter = letter.lower()\n",
    "        if letter in self.word:\n",
    "            self.guessed.add(letter)\n",
    "        else:\n",
    "            self.tries -= 1\n",
    "\n",
    "    def play(self):\n",
    "        print(\"\\n--- Guess the Word Game ---\")\n",
    "        while self.tries > 0 and set(self.word) != self.guessed:\n",
    "            print(self.display_word())\n",
    "            print(f\"Tries left: {self.tries}\")\n",
    "            self.guess(input(\"Guess a letter: \"))\n",
    "\n",
    "        if set(self.word) == self.guessed:\n",
    "            print(f\"You guessed the word: {self.word}\")\n",
    "        else:\n",
    "            print(f\"Game Over. The word was: {self.word}\")\n",
    "\n",
    "# Test\n",
    "game = WordGame([\"python\", \"developer\", \"hangman\", \"challenge\"])\n",
    "game.play()"
   ]
  },
  {
   "cell_type": "markdown",
   "id": "60e9278e-fdb0-4e54-b115-bbb524226379",
   "metadata": {},
   "source": [
    "1. Inventory Management System\n",
    "Concepts: Classes, File I/O, Lists, Methods, Encapsulation"
   ]
  },
  {
   "cell_type": "code",
   "execution_count": 2,
   "id": "02498966-7290-49e3-9873-de6acbfa02d9",
   "metadata": {},
   "outputs": [
    {
     "name": "stdout",
     "output_type": "stream",
     "text": [
      "Laptop - Qty: 5, Price: $1200\n",
      "Mouse - Qty: 20, Price: $25\n"
     ]
    }
   ],
   "source": [
    "import json\n",
    "\n",
    "class Item:\n",
    "    def __init__(self, name, qty, price):\n",
    "        self.name = name\n",
    "        self.qty = qty\n",
    "        self.price = price\n",
    "\n",
    "    def to_dict(self):\n",
    "        return {'name': self.name, 'qty': self.qty, 'price': self.price}\n",
    "\n",
    "class Inventory:\n",
    "    def __init__(self):\n",
    "        self.items = []\n",
    "\n",
    "    def add_item(self, item):\n",
    "        self.items.append(item)\n",
    "\n",
    "    def view_items(self):\n",
    "        for i in self.items:\n",
    "            print(f\"{i.name} - Qty: {i.qty}, Price: ${i.price}\")\n",
    "\n",
    "    def save_to_file(self, filename):\n",
    "        with open(filename, 'w') as f:\n",
    "            json.dump([i.to_dict() for i in self.items], f)\n",
    "\n",
    "    def load_from_file(self, filename):\n",
    "        with open(filename, 'r') as f:\n",
    "            data = json.load(f)\n",
    "            self.items = [Item(**d) for d in data]\n",
    "\n",
    "# Example\n",
    "inv = Inventory()\n",
    "inv.add_item(Item(\"Laptop\", 5, 1200))\n",
    "inv.add_item(Item(\"Mouse\", 20, 25))\n",
    "inv.view_items()\n"
   ]
  },
  {
   "cell_type": "markdown",
   "id": "0f512097-be40-42ec-b1f5-665f4f872757",
   "metadata": {},
   "source": [
    "2. Student Report Card Generator\n",
    "Concepts: Classes, Dictionaries, Average Calculation, Loops"
   ]
  },
  {
   "cell_type": "code",
   "execution_count": 4,
   "id": "ac61a257-dd5e-4def-bbae-4f8f2711cfc7",
   "metadata": {},
   "outputs": [
    {
     "name": "stdout",
     "output_type": "stream",
     "text": [
      "Report Card for prsh\n",
      "Math: 88\n",
      "Science: 92\n",
      "History: 81\n",
      "Average: 87.00\n"
     ]
    }
   ],
   "source": [
    "class Student:\n",
    "    def __init__(self, name):\n",
    "        self.name = name\n",
    "        self.subjects = {}\n",
    "\n",
    "    def add_score(self, subject, score):\n",
    "        self.subjects[subject] = score\n",
    "\n",
    "    def calculate_average(self):\n",
    "        return sum(self.subjects.values()) / len(self.subjects)\n",
    "\n",
    "    def print_report(self):\n",
    "        print(f\"Report Card for {self.name}\")\n",
    "        for subject, score in self.subjects.items():\n",
    "            print(f\"{subject}: {score}\")\n",
    "        print(f\"Average: {self.calculate_average():.2f}\")\n",
    "\n",
    "# Example\n",
    "student = Student(\"prsh\")\n",
    "student.add_score(\"Math\", 88)\n",
    "student.add_score(\"Science\", 92)\n",
    "student.add_score(\"History\", 81)\n",
    "student.print_report()\n"
   ]
  },
  {
   "cell_type": "markdown",
   "id": "b4367223-470c-49b1-a335-90ab092a69ce",
   "metadata": {},
   "source": [
    "3. File Encryption/Decryption Utility\n",
    "Concepts: File I/O, String Encoding, Functions, Exception Handling"
   ]
  },
  {
   "cell_type": "code",
   "execution_count": 5,
   "id": "e866bdc1-ecd9-443d-908a-299ca2a6e507",
   "metadata": {},
   "outputs": [
    {
     "name": "stdout",
     "output_type": "stream",
     "text": [
      "File not found.\n"
     ]
    }
   ],
   "source": [
    "def encrypt(text, key):\n",
    "    return ''.join(chr(ord(char) + key) for char in text)\n",
    "\n",
    "def decrypt(text, key):\n",
    "    return ''.join(chr(ord(char) - key) for char in text)\n",
    "\n",
    "# File encryption example\n",
    "try:\n",
    "    with open(\"message.txt\", \"r\") as file:\n",
    "        content = file.read()\n",
    "    encrypted = encrypt(content, 3)\n",
    "    with open(\"encrypted.txt\", \"w\") as file:\n",
    "        file.write(encrypted)\n",
    "\n",
    "    decrypted = decrypt(encrypted, 3)\n",
    "    print(\"Decrypted Text:\", decrypted)\n",
    "\n",
    "except FileNotFoundError:\n",
    "    print(\"File not found.\")\n"
   ]
  },
  {
   "cell_type": "markdown",
   "id": "1521445f-eb66-40ea-9563-2d8cc07393f5",
   "metadata": {},
   "source": [
    "4. Basic Chatbot (Rule-Based)\n",
    "Concepts: Loops, Dictionaries, String Matching"
   ]
  },
  {
   "cell_type": "code",
   "execution_count": 6,
   "id": "bdf17c28-13aa-430b-ad2a-10c1092e557b",
   "metadata": {},
   "outputs": [
    {
     "name": "stdout",
     "output_type": "stream",
     "text": [
      "Welcome to ChatBot. Type 'exit' to stop.\n"
     ]
    },
    {
     "name": "stdin",
     "output_type": "stream",
     "text": [
      "You:  hey\n"
     ]
    },
    {
     "name": "stdout",
     "output_type": "stream",
     "text": [
      "Bot: I don't understand that.\n"
     ]
    },
    {
     "name": "stdin",
     "output_type": "stream",
     "text": [
      "You:  hello\n"
     ]
    },
    {
     "name": "stdout",
     "output_type": "stream",
     "text": [
      "Bot: I don't understand that.\n"
     ]
    },
    {
     "name": "stdin",
     "output_type": "stream",
     "text": [
      "You:  hi\n"
     ]
    },
    {
     "name": "stdout",
     "output_type": "stream",
     "text": [
      "Bot: Hello!\n"
     ]
    },
    {
     "name": "stdin",
     "output_type": "stream",
     "text": [
      "You:  how are you\n"
     ]
    },
    {
     "name": "stdout",
     "output_type": "stream",
     "text": [
      "Bot: I'm fine, thank you!\n"
     ]
    },
    {
     "name": "stdin",
     "output_type": "stream",
     "text": [
      "You:  exit\n"
     ]
    }
   ],
   "source": [
    "def simple_chat():\n",
    "    responses = {\n",
    "        \"hi\": \"Hello!\",\n",
    "        \"how are you\": \"I'm fine, thank you!\",\n",
    "        \"bye\": \"Goodbye!\",\n",
    "        \"help\": \"I can chat with you. Try saying hi or bye.\"\n",
    "    }\n",
    "\n",
    "    print(\"Welcome to ChatBot. Type 'exit' to stop.\")\n",
    "    while True:\n",
    "        user_input = input(\"You: \").lower()\n",
    "        if user_input == 'exit':\n",
    "            break\n",
    "        print(\"Bot:\", responses.get(user_input, \"I don't understand that.\"))\n",
    "\n",
    "simple_chat()\n"
   ]
  },
  {
   "cell_type": "markdown",
   "id": "2be3251d-9b9a-48e0-96e8-cb6d620c0a6a",
   "metadata": {},
   "source": [
    "5. Hotel Room Booking System\n",
    "Concepts: OOP, Lists, Boolean Flags, Object Management"
   ]
  },
  {
   "cell_type": "code",
   "execution_count": 7,
   "id": "f8ff00c2-53a0-4734-922c-9cdf21f14e38",
   "metadata": {},
   "outputs": [
    {
     "name": "stdout",
     "output_type": "stream",
     "text": [
      "Room 1 booked.\n",
      "Room 2 booked.\n",
      "Room 1: Booked\n",
      "Room 2: Booked\n",
      "Room 3: Available\n"
     ]
    }
   ],
   "source": [
    "class Room:\n",
    "    def __init__(self, number):\n",
    "        self.number = number\n",
    "        self.booked = False\n",
    "\n",
    "class Hotel:\n",
    "    def __init__(self, name, room_count):\n",
    "        self.name = name\n",
    "        self.rooms = [Room(i+1) for i in range(room_count)]\n",
    "\n",
    "    def book_room(self):\n",
    "        for room in self.rooms:\n",
    "            if not room.booked:\n",
    "                room.booked = True\n",
    "                print(f\"Room {room.number} booked.\")\n",
    "                return\n",
    "        print(\"No rooms available.\")\n",
    "\n",
    "    def view_status(self):\n",
    "        for room in self.rooms:\n",
    "            status = \"Booked\" if room.booked else \"Available\"\n",
    "            print(f\"Room {room.number}: {status}\")\n",
    "\n",
    "# Test\n",
    "hotel = Hotel(\"Grand Stay\", 3)\n",
    "hotel.book_room()\n",
    "hotel.book_room()\n",
    "hotel.view_status()\n"
   ]
  },
  {
   "cell_type": "code",
   "execution_count": null,
   "id": "83114767-1d8f-410f-b7c4-caf3a60b0ac2",
   "metadata": {},
   "outputs": [],
   "source": []
  }
 ],
 "metadata": {
  "kernelspec": {
   "display_name": "Python 3 (ipykernel)",
   "language": "python",
   "name": "python3"
  },
  "language_info": {
   "codemirror_mode": {
    "name": "ipython",
    "version": 3
   },
   "file_extension": ".py",
   "mimetype": "text/x-python",
   "name": "python",
   "nbconvert_exporter": "python",
   "pygments_lexer": "ipython3",
   "version": "3.13.0"
  }
 },
 "nbformat": 4,
 "nbformat_minor": 5
}
