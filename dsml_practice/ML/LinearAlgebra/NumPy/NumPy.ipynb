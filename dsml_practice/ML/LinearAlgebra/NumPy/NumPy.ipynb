{
 "cells": [
  {
   "cell_type": "markdown",
   "id": "481a5b35-87bd-4408-b270-169c8f200ed3",
   "metadata": {},
   "source": [
    "!pip install numpy --upgrade\n",
    "\n"
   ]
  },
  {
   "cell_type": "code",
   "execution_count": 2,
   "id": "ff67570b-0002-4f5e-972f-bd444596eb65",
   "metadata": {},
   "outputs": [],
   "source": [
    "import numpy as np"
   ]
  },
  {
   "cell_type": "code",
   "execution_count": 5,
   "id": "23fd1a63-3ea0-4c23-b07a-ccf951637da8",
   "metadata": {},
   "outputs": [
    {
     "data": {
      "text/plain": [
       "'2.3.1'"
      ]
     },
     "execution_count": 5,
     "metadata": {},
     "output_type": "execute_result"
    }
   ],
   "source": [
    "np.__version__"
   ]
  },
  {
   "cell_type": "markdown",
   "id": "49954512-07e4-4317-9380-d03cbb439989",
   "metadata": {},
   "source": [
    "creating numpy array"
   ]
  },
  {
   "cell_type": "code",
   "execution_count": 13,
   "id": "a744e7f7-63b1-4363-aa64-f83113890cce",
   "metadata": {},
   "outputs": [],
   "source": [
    "list1= [[45,4,32]]"
   ]
  },
  {
   "cell_type": "code",
   "execution_count": 15,
   "id": "b8c2e01f-2cd7-4e8a-b34d-f1a37cae8e31",
   "metadata": {},
   "outputs": [],
   "source": [
    "arr1=np.array(list1)"
   ]
  },
  {
   "cell_type": "code",
   "execution_count": 10,
   "id": "ee12c389-d45d-4885-a741-e284c7054546",
   "metadata": {},
   "outputs": [
    {
     "data": {
      "text/plain": [
       "array([45,  4, 32])"
      ]
     },
     "execution_count": 10,
     "metadata": {},
     "output_type": "execute_result"
    }
   ],
   "source": [
    "arr1"
   ]
  },
  {
   "cell_type": "code",
   "execution_count": 16,
   "id": "4cad1e0d-4fb7-4266-8968-c8f3b4033c93",
   "metadata": {},
   "outputs": [
    {
     "data": {
      "text/plain": [
       "(1, 3)"
      ]
     },
     "execution_count": 16,
     "metadata": {},
     "output_type": "execute_result"
    }
   ],
   "source": [
    "arr1.shape"
   ]
  },
  {
   "cell_type": "code",
   "execution_count": 17,
   "id": "c401a8d3-f2b1-4894-8f28-e4a6c1cfe97f",
   "metadata": {},
   "outputs": [
    {
     "data": {
      "text/plain": [
       "2"
      ]
     },
     "execution_count": 17,
     "metadata": {},
     "output_type": "execute_result"
    }
   ],
   "source": [
    "arr1.ndim"
   ]
  },
  {
   "cell_type": "code",
   "execution_count": 18,
   "id": "d1393e25-08f3-4635-a1bd-0199239e6d3f",
   "metadata": {},
   "outputs": [],
   "source": [
    "list2=[[2,3,4],[6,7,8],[3,5,6]]\n",
    "arr2=np.array(list2)"
   ]
  },
  {
   "cell_type": "code",
   "execution_count": 19,
   "id": "169cab8a-3f17-4c8a-be1a-b7e84ffec70b",
   "metadata": {},
   "outputs": [
    {
     "data": {
      "text/plain": [
       "array([[2, 3, 4],\n",
       "       [6, 7, 8],\n",
       "       [3, 5, 6]])"
      ]
     },
     "execution_count": 19,
     "metadata": {},
     "output_type": "execute_result"
    }
   ],
   "source": [
    "arr2\n"
   ]
  },
  {
   "cell_type": "code",
   "execution_count": 20,
   "id": "be49f710-febc-4981-a2d8-1e76ea524f92",
   "metadata": {},
   "outputs": [
    {
     "data": {
      "text/plain": [
       "(3, 3)"
      ]
     },
     "execution_count": 20,
     "metadata": {},
     "output_type": "execute_result"
    }
   ],
   "source": [
    "arr2.shape\n"
   ]
  },
  {
   "cell_type": "code",
   "execution_count": 21,
   "id": "3d1911e7-895b-4646-b1ea-557f27abe173",
   "metadata": {},
   "outputs": [
    {
     "data": {
      "text/plain": [
       "2"
      ]
     },
     "execution_count": 21,
     "metadata": {},
     "output_type": "execute_result"
    }
   ],
   "source": [
    "arr2.ndim"
   ]
  },
  {
   "cell_type": "code",
   "execution_count": null,
   "id": "9a387295-4f0f-4b3b-9945-52685a6cdb6a",
   "metadata": {},
   "outputs": [],
   "source": []
  },
  {
   "cell_type": "code",
   "execution_count": 24,
   "id": "8b88095c-b986-415d-be4d-5459dfea2581",
   "metadata": {},
   "outputs": [
    {
     "data": {
      "text/plain": [
       "array([[0, 0, 0, 0],\n",
       "       [0, 0, 0, 0],\n",
       "       [0, 0, 0, 0],\n",
       "       [0, 0, 0, 0]])"
      ]
     },
     "execution_count": 24,
     "metadata": {},
     "output_type": "execute_result"
    }
   ],
   "source": [
    "np.zeros(shape=(4,4),dtype='int')"
   ]
  },
  {
   "cell_type": "code",
   "execution_count": 26,
   "id": "a7173570-2407-4b92-97b2-e462dd572f13",
   "metadata": {},
   "outputs": [
    {
     "data": {
      "text/plain": [
       "array([[1, 1, 1, 1, 1, 1],\n",
       "       [1, 1, 1, 1, 1, 1],\n",
       "       [1, 1, 1, 1, 1, 1],\n",
       "       [1, 1, 1, 1, 1, 1],\n",
       "       [1, 1, 1, 1, 1, 1],\n",
       "       [1, 1, 1, 1, 1, 1]])"
      ]
     },
     "execution_count": 26,
     "metadata": {},
     "output_type": "execute_result"
    }
   ],
   "source": [
    "np.ones(shape=(6,6), dtype='int')"
   ]
  },
  {
   "cell_type": "code",
   "execution_count": 28,
   "id": "2d164d96-eb93-470e-9fd8-1cb553faa457",
   "metadata": {},
   "outputs": [
    {
     "data": {
      "text/plain": [
       "array([[6.7, 6.7, 6.7, 6.7],\n",
       "       [6.7, 6.7, 6.7, 6.7],\n",
       "       [6.7, 6.7, 6.7, 6.7]])"
      ]
     },
     "execution_count": 28,
     "metadata": {},
     "output_type": "execute_result"
    }
   ],
   "source": [
    "np.full(shape=(3,4),fill_value=6.7)"
   ]
  },
  {
   "cell_type": "code",
   "execution_count": 31,
   "id": "c933b4c8-5533-4e98-a7fc-57d3e812a860",
   "metadata": {},
   "outputs": [
    {
     "data": {
      "text/plain": [
       "array([ 1,  6, 11, 16, 21, 26, 31, 36, 41, 46, 51, 56, 61, 66, 71, 76, 81,\n",
       "       86])"
      ]
     },
     "execution_count": 31,
     "metadata": {},
     "output_type": "execute_result"
    }
   ],
   "source": [
    "np.arange(1,90,5)"
   ]
  },
  {
   "cell_type": "code",
   "execution_count": 32,
   "id": "a5f371ff-9989-4f3d-93fe-f99241a7200f",
   "metadata": {},
   "outputs": [
    {
     "data": {
      "text/plain": [
       "array([ 1.        ,  1.47368421,  1.94736842,  2.42105263,  2.89473684,\n",
       "        3.36842105,  3.84210526,  4.31578947,  4.78947368,  5.26315789,\n",
       "        5.73684211,  6.21052632,  6.68421053,  7.15789474,  7.63157895,\n",
       "        8.10526316,  8.57894737,  9.05263158,  9.52631579, 10.        ])"
      ]
     },
     "execution_count": 32,
     "metadata": {},
     "output_type": "execute_result"
    }
   ],
   "source": [
    "np.linspace(1,10,num=20)"
   ]
  },
  {
   "cell_type": "code",
   "execution_count": 35,
   "id": "8a8d069d-4745-4ea3-b298-decd86a58971",
   "metadata": {},
   "outputs": [
    {
     "data": {
      "text/plain": [
       "array([[ 0.        ,  1.        ,  2.        ],\n",
       "       [ 0.52631579,  2.        ,  3.47368421],\n",
       "       [ 1.05263158,  3.        ,  4.94736842],\n",
       "       [ 1.57894737,  4.        ,  6.42105263],\n",
       "       [ 2.10526316,  5.        ,  7.89473684],\n",
       "       [ 2.63157895,  6.        ,  9.36842105],\n",
       "       [ 3.15789474,  7.        , 10.84210526],\n",
       "       [ 3.68421053,  8.        , 12.31578947],\n",
       "       [ 4.21052632,  9.        , 13.78947368],\n",
       "       [ 4.73684211, 10.        , 15.26315789],\n",
       "       [ 5.26315789, 11.        , 16.73684211],\n",
       "       [ 5.78947368, 12.        , 18.21052632],\n",
       "       [ 6.31578947, 13.        , 19.68421053],\n",
       "       [ 6.84210526, 14.        , 21.15789474],\n",
       "       [ 7.36842105, 15.        , 22.63157895],\n",
       "       [ 7.89473684, 16.        , 24.10526316],\n",
       "       [ 8.42105263, 17.        , 25.57894737],\n",
       "       [ 8.94736842, 18.        , 27.05263158],\n",
       "       [ 9.47368421, 19.        , 28.52631579],\n",
       "       [10.        , 20.        , 30.        ]])"
      ]
     },
     "execution_count": 35,
     "metadata": {},
     "output_type": "execute_result"
    }
   ],
   "source": [
    "np.linspace((0,1,2),(10,20,30),num=20)\n"
   ]
  },
  {
   "cell_type": "code",
   "execution_count": 36,
   "id": "7bcdd964-e0b2-430f-8ed3-462a62f587b4",
   "metadata": {},
   "outputs": [
    {
     "data": {
      "text/plain": [
       "array([[7, 0],\n",
       "       [9, 5]], dtype=int32)"
      ]
     },
     "execution_count": 36,
     "metadata": {},
     "output_type": "execute_result"
    }
   ],
   "source": [
    "np.random.randint(0,10,size=(2,2))"
   ]
  },
  {
   "cell_type": "code",
   "execution_count": 4,
   "id": "9bd19505-a636-4dd5-bdf7-0322e56d4441",
   "metadata": {},
   "outputs": [
    {
     "data": {
      "text/plain": [
       "array([[[[1, 1, 1]],\n",
       "\n",
       "        [[1, 1, 1]]],\n",
       "\n",
       "\n",
       "       [[[1, 1, 1]],\n",
       "\n",
       "        [[1, 1, 1]]]], dtype=int8)"
      ]
     },
     "execution_count": 4,
     "metadata": {},
     "output_type": "execute_result"
    }
   ],
   "source": [
    "np.ones(shape=(2,2,1,3),dtype= 'int8')"
   ]
  },
  {
   "cell_type": "code",
   "execution_count": 5,
   "id": "d0ed7843-173d-4279-adc3-9086fab706df",
   "metadata": {},
   "outputs": [],
   "source": [
    "a=np.array([1,2,3,4,5])"
   ]
  },
  {
   "cell_type": "code",
   "execution_count": 6,
   "id": "c7b7146f-355d-41ce-83da-3321be3d0e41",
   "metadata": {},
   "outputs": [
    {
     "data": {
      "text/plain": [
       "np.int64(3)"
      ]
     },
     "execution_count": 6,
     "metadata": {},
     "output_type": "execute_result"
    }
   ],
   "source": [
    "a[-3]"
   ]
  },
  {
   "cell_type": "code",
   "execution_count": 7,
   "id": "b8af6afb-a2e9-4b8e-bbd3-21128ea4aeab",
   "metadata": {},
   "outputs": [
    {
     "data": {
      "text/plain": [
       "array([5, 4, 3, 2, 1])"
      ]
     },
     "execution_count": 7,
     "metadata": {},
     "output_type": "execute_result"
    }
   ],
   "source": [
    "a[::-1]"
   ]
  },
  {
   "cell_type": "code",
   "execution_count": 12,
   "id": "8b228aed-9bb3-4239-9488-f99a90d93c24",
   "metadata": {},
   "outputs": [],
   "source": [
    "b= np.random.randint(0,10,size=(3,3))"
   ]
  },
  {
   "cell_type": "code",
   "execution_count": 13,
   "id": "121c68eb-d466-4fd4-89c2-f54b3f440b0a",
   "metadata": {},
   "outputs": [
    {
     "data": {
      "text/plain": [
       "array([[2, 9, 0],\n",
       "       [3, 5, 4],\n",
       "       [0, 9, 9]], dtype=int32)"
      ]
     },
     "execution_count": 13,
     "metadata": {},
     "output_type": "execute_result"
    }
   ],
   "source": [
    "b"
   ]
  },
  {
   "cell_type": "code",
   "execution_count": 10,
   "id": "525f2cc1-1827-4428-bd69-8207f0fa0be0",
   "metadata": {},
   "outputs": [
    {
     "data": {
      "text/plain": [
       "np.int32(6)"
      ]
     },
     "execution_count": 10,
     "metadata": {},
     "output_type": "execute_result"
    }
   ],
   "source": [
    "b[1,1]"
   ]
  },
  {
   "cell_type": "code",
   "execution_count": 11,
   "id": "835787e7-3e22-4ccd-94ef-0fdd06c6945e",
   "metadata": {},
   "outputs": [
    {
     "data": {
      "text/plain": [
       "np.int32(0)"
      ]
     },
     "execution_count": 11,
     "metadata": {},
     "output_type": "execute_result"
    }
   ],
   "source": [
    "b[-1,0]"
   ]
  },
  {
   "cell_type": "code",
   "execution_count": 14,
   "id": "7c4aa71e-7cfd-48b1-8855-a26de6747ffd",
   "metadata": {},
   "outputs": [
    {
     "data": {
      "text/plain": [
       "array([[3, 5],\n",
       "       [0, 9]], dtype=int32)"
      ]
     },
     "execution_count": 14,
     "metadata": {},
     "output_type": "execute_result"
    }
   ],
   "source": [
    "b[1:3,:2]"
   ]
  },
  {
   "cell_type": "code",
   "execution_count": 15,
   "id": "19cfda4b-4542-47e1-8623-38ffd0ea51b0",
   "metadata": {},
   "outputs": [
    {
     "data": {
      "text/plain": [
       "array([3, 5, 4], dtype=int32)"
      ]
     },
     "execution_count": 15,
     "metadata": {},
     "output_type": "execute_result"
    }
   ],
   "source": [
    "b[1,:3]"
   ]
  },
  {
   "cell_type": "code",
   "execution_count": 16,
   "id": "39009b57-6354-4261-ad66-0ec18aa422e2",
   "metadata": {},
   "outputs": [
    {
     "data": {
      "text/plain": [
       "array([3, 5, 4], dtype=int32)"
      ]
     },
     "execution_count": 16,
     "metadata": {},
     "output_type": "execute_result"
    }
   ],
   "source": [
    "b[1,]"
   ]
  },
  {
   "cell_type": "code",
   "execution_count": 17,
   "id": "5265d695-3f93-405f-bc3d-339453ca9f91",
   "metadata": {},
   "outputs": [
    {
     "data": {
      "text/plain": [
       "array([3, 5, 4], dtype=int32)"
      ]
     },
     "execution_count": 17,
     "metadata": {},
     "output_type": "execute_result"
    }
   ],
   "source": [
    "b[1]"
   ]
  },
  {
   "cell_type": "code",
   "execution_count": 18,
   "id": "af23cc23-0483-4ca7-af1a-0895fba885f4",
   "metadata": {},
   "outputs": [
    {
     "data": {
      "text/plain": [
       "array([0, 9, 9], dtype=int32)"
      ]
     },
     "execution_count": 18,
     "metadata": {},
     "output_type": "execute_result"
    }
   ],
   "source": [
    "b[2]"
   ]
  },
  {
   "cell_type": "code",
   "execution_count": 19,
   "id": "73d55b95-6bb1-4ace-8b6a-95c0678d85ca",
   "metadata": {},
   "outputs": [
    {
     "data": {
      "text/plain": [
       "array([0, 4, 9], dtype=int32)"
      ]
     },
     "execution_count": 19,
     "metadata": {},
     "output_type": "execute_result"
    }
   ],
   "source": [
    "b[:,2]"
   ]
  },
  {
   "cell_type": "code",
   "execution_count": 20,
   "id": "5bb08f72-22f3-4669-a758-d3d87c06a624",
   "metadata": {},
   "outputs": [],
   "source": [
    "c=np.random.randint(0,25, size=(3,3,2))"
   ]
  },
  {
   "cell_type": "code",
   "execution_count": 21,
   "id": "d2d17826-b409-42b9-b1f9-8a6a1d6e0dc3",
   "metadata": {},
   "outputs": [
    {
     "data": {
      "text/plain": [
       "array([[[17, 15],\n",
       "        [ 4,  2],\n",
       "        [17, 17]],\n",
       "\n",
       "       [[17,  2],\n",
       "        [18, 16],\n",
       "        [21, 19]],\n",
       "\n",
       "       [[20,  4],\n",
       "        [14,  4],\n",
       "        [10,  9]]], dtype=int32)"
      ]
     },
     "execution_count": 21,
     "metadata": {},
     "output_type": "execute_result"
    }
   ],
   "source": [
    "c"
   ]
  },
  {
   "cell_type": "code",
   "execution_count": 23,
   "id": "032b91ef-318b-43b4-930a-5187fca5f3b4",
   "metadata": {},
   "outputs": [
    {
     "data": {
      "text/plain": [
       "np.int32(17)"
      ]
     },
     "execution_count": 23,
     "metadata": {},
     "output_type": "execute_result"
    }
   ],
   "source": [
    "c[0][2,1]"
   ]
  },
  {
   "cell_type": "code",
   "execution_count": 24,
   "id": "6b384c84-66fc-4b1c-aeaf-55211c95dd05",
   "metadata": {},
   "outputs": [
    {
     "data": {
      "text/plain": [
       "np.int32(17)"
      ]
     },
     "execution_count": 24,
     "metadata": {},
     "output_type": "execute_result"
    }
   ],
   "source": [
    "c[0,2,1]"
   ]
  },
  {
   "cell_type": "code",
   "execution_count": 27,
   "id": "ba141ce3-6aa9-455e-afce-431e72a592b5",
   "metadata": {},
   "outputs": [
    {
     "data": {
      "text/plain": [
       "np.int32(19)"
      ]
     },
     "execution_count": 27,
     "metadata": {},
     "output_type": "execute_result"
    }
   ],
   "source": [
    "c[1][2,1]"
   ]
  },
  {
   "cell_type": "code",
   "execution_count": 29,
   "id": "28eb40d3-3cf8-4606-875c-8f71f9e82a38",
   "metadata": {},
   "outputs": [
    {
     "data": {
      "text/plain": [
       "np.int32(4)"
      ]
     },
     "execution_count": 29,
     "metadata": {},
     "output_type": "execute_result"
    }
   ],
   "source": [
    "c[2][1,1]"
   ]
  },
  {
   "cell_type": "code",
   "execution_count": 31,
   "id": "2cfb8303-c6f8-4b19-be2a-99b0ca889946",
   "metadata": {},
   "outputs": [],
   "source": [
    "dataset=np.random.randint(0,100,(10000,25))"
   ]
  },
  {
   "cell_type": "code",
   "execution_count": 32,
   "id": "1599989e-3da5-424e-8dc3-1f65c62955dd",
   "metadata": {},
   "outputs": [
    {
     "data": {
      "text/plain": [
       "array([[96,  9, 96, ..., 42, 24, 80],\n",
       "       [50, 70,  9, ..., 45, 71, 48],\n",
       "       [46, 11, 23, ..., 78, 78, 13],\n",
       "       ...,\n",
       "       [34, 95, 32, ..., 34, 74, 18],\n",
       "       [ 6, 86,  5, ..., 87, 18, 13],\n",
       "       [41, 20, 48, ..., 83, 10, 84]], shape=(10000, 25), dtype=int32)"
      ]
     },
     "execution_count": 32,
     "metadata": {},
     "output_type": "execute_result"
    }
   ],
   "source": [
    "dataset"
   ]
  },
  {
   "cell_type": "code",
   "execution_count": 34,
   "id": "9cc455ee-ca07-4190-be69-40c20671b224",
   "metadata": {},
   "outputs": [],
   "source": [
    "image_dataset=np.random.randint(0,100,(3,720,720))"
   ]
  },
  {
   "cell_type": "code",
   "execution_count": 35,
   "id": "ec259688-a7b4-46ab-b52e-1dfb9e84d295",
   "metadata": {},
   "outputs": [
    {
     "data": {
      "text/plain": [
       "array([[[97, 90, 73, ...,  2, 48, 81],\n",
       "        [ 9, 52,  6, ..., 68, 16, 89],\n",
       "        [57,  7, 90, ..., 64, 11, 25],\n",
       "        ...,\n",
       "        [96, 88, 37, ..., 82, 93, 40],\n",
       "        [22, 29, 17, ..., 84, 39, 41],\n",
       "        [75, 70, 63, ..., 40, 92, 73]],\n",
       "\n",
       "       [[90, 48, 87, ..., 77, 98, 10],\n",
       "        [75, 29, 12, ..., 14, 64, 65],\n",
       "        [84,  0, 18, ..., 79, 81, 71],\n",
       "        ...,\n",
       "        [56, 86, 14, ..., 14, 93, 74],\n",
       "        [62,  7, 70, ..., 98, 29, 94],\n",
       "        [99,  4, 60, ..., 90, 70, 43]],\n",
       "\n",
       "       [[64, 87, 96, ..., 10, 50, 91],\n",
       "        [37, 66, 20, ...,  8, 16, 10],\n",
       "        [97, 27, 42, ..., 80, 66, 50],\n",
       "        ...,\n",
       "        [38, 64, 44, ..., 39, 11, 37],\n",
       "        [86, 19, 25, ..., 34,  5, 37],\n",
       "        [28, 65, 19, ..., 18, 39, 27]]], shape=(3, 720, 720), dtype=int32)"
      ]
     },
     "execution_count": 35,
     "metadata": {},
     "output_type": "execute_result"
    }
   ],
   "source": [
    "image_dataset"
   ]
  },
  {
   "cell_type": "code",
   "execution_count": 41,
   "id": "411153f2-13f1-435f-8ed9-6aefc655f1d9",
   "metadata": {},
   "outputs": [
    {
     "data": {
      "text/plain": [
       "array([[90, 48, 87, ..., 77, 98, 10],\n",
       "       [75, 29, 12, ..., 14, 64, 65],\n",
       "       [84,  0, 18, ..., 79, 81, 71],\n",
       "       ...,\n",
       "       [56, 86, 14, ..., 14, 93, 74],\n",
       "       [62,  7, 70, ..., 98, 29, 94],\n",
       "       [99,  4, 60, ..., 90, 70, 43]], shape=(720, 720), dtype=int32)"
      ]
     },
     "execution_count": 41,
     "metadata": {},
     "output_type": "execute_result"
    }
   ],
   "source": [
    "image_dataset[1,:,:]"
   ]
  },
  {
   "cell_type": "markdown",
   "id": "b4bee789-a9b0-43aa-8a53-fb1a6b33ec6a",
   "metadata": {},
   "source": [
    "\n",
    "boolean or mask indexing"
   ]
  }
 ],
 "metadata": {
  "kernelspec": {
   "display_name": "Python 3 (ipykernel)",
   "language": "python",
   "name": "python3"
  },
  "language_info": {
   "codemirror_mode": {
    "name": "ipython",
    "version": 3
   },
   "file_extension": ".py",
   "mimetype": "text/x-python",
   "name": "python",
   "nbconvert_exporter": "python",
   "pygments_lexer": "ipython3",
   "version": "3.13.0"
  }
 },
 "nbformat": 4,
 "nbformat_minor": 5
}
