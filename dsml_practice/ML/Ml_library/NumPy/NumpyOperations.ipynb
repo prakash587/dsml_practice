{
 "cells": [
  {
   "cell_type": "code",
   "execution_count": 7,
   "id": "8380de0c-2a97-4f65-8a3b-1c521145746e",
   "metadata": {},
   "outputs": [],
   "source": [
    "import numpy as np"
   ]
  },
  {
   "cell_type": "code",
   "execution_count": 10,
   "id": "95933158-5d1f-4099-bc09-79c86f2b246e",
   "metadata": {},
   "outputs": [],
   "source": [
    "a=np.array([[4,5,6],[5,7,9]])\n",
    "b=np.array([[3,2,1],[5,4,6]])"
   ]
  },
  {
   "cell_type": "code",
   "execution_count": 11,
   "id": "ae78a555-a0c9-49fc-ac2d-685c2f2ba036",
   "metadata": {},
   "outputs": [
    {
     "data": {
      "text/plain": [
       "(array([[4, 5, 6],\n",
       "        [5, 7, 9]]),\n",
       " array([[3, 2, 1],\n",
       "        [5, 4, 6]]))"
      ]
     },
     "execution_count": 11,
     "metadata": {},
     "output_type": "execute_result"
    }
   ],
   "source": [
    "a,b"
   ]
  },
  {
   "cell_type": "markdown",
   "id": "1d4de3c6-aae6-49d7-8dce-2813c8eb1e48",
   "metadata": {},
   "source": [
    "## Arithmetic Operation ##"
   ]
  },
  {
   "cell_type": "code",
   "execution_count": 13,
   "id": "5ca042a0-4d81-42b5-a14f-9f107516e9dd",
   "metadata": {},
   "outputs": [
    {
     "data": {
      "text/plain": [
       "array([[ 7,  7,  7],\n",
       "       [10, 11, 15]])"
      ]
     },
     "execution_count": 13,
     "metadata": {},
     "output_type": "execute_result"
    }
   ],
   "source": [
    "#a + b\n",
    "np.add(a,b)"
   ]
  },
  {
   "cell_type": "code",
   "execution_count": 14,
   "id": "909d8ec8-e09d-42cc-a2ba-113f3411d533",
   "metadata": {},
   "outputs": [
    {
     "data": {
      "text/plain": [
       "array([[1, 3, 5],\n",
       "       [0, 3, 3]])"
      ]
     },
     "execution_count": 14,
     "metadata": {},
     "output_type": "execute_result"
    }
   ],
   "source": [
    "#a - b\n",
    "np.subtract(a,b)"
   ]
  },
  {
   "cell_type": "code",
   "execution_count": 15,
   "id": "810a9b2d-2c35-41c2-afaa-131f12bc04f4",
   "metadata": {},
   "outputs": [
    {
     "data": {
      "text/plain": [
       "array([[12, 10,  6],\n",
       "       [25, 28, 54]])"
      ]
     },
     "execution_count": 15,
     "metadata": {},
     "output_type": "execute_result"
    }
   ],
   "source": [
    "#a * b\n",
    "np.multiply(a,b)"
   ]
  },
  {
   "cell_type": "code",
   "execution_count": 16,
   "id": "7abeab78-5cc1-4ba2-9db6-7fd28b6ccac5",
   "metadata": {},
   "outputs": [
    {
     "data": {
      "text/plain": [
       "array([[16, 25, 36],\n",
       "       [25, 49, 81]])"
      ]
     },
     "execution_count": 16,
     "metadata": {},
     "output_type": "execute_result"
    }
   ],
   "source": [
    "#a ** 2\n",
    "#np.square(a)\n",
    "np.power(a,2)"
   ]
  },
  {
   "cell_type": "code",
   "execution_count": 17,
   "id": "f7192261-c213-4404-84b0-77d1014af84e",
   "metadata": {},
   "outputs": [
    {
     "data": {
      "text/plain": [
       "(array([[1, 2, 6],\n",
       "        [1, 1, 1]]),\n",
       " array([[1, 1, 0],\n",
       "        [0, 3, 3]]))"
      ]
     },
     "execution_count": 17,
     "metadata": {},
     "output_type": "execute_result"
    }
   ],
   "source": [
    "# a % b\n",
    "np.divmod(a,b)"
   ]
  },
  {
   "cell_type": "markdown",
   "id": "5f5d0138-0f48-4e23-af28-4cc89b8ad6f1",
   "metadata": {},
   "source": [
    "## Trignometric ##"
   ]
  },
  {
   "cell_type": "code",
   "execution_count": 20,
   "id": "02780ae9-0b3c-447c-9a6d-827b2d988855",
   "metadata": {},
   "outputs": [
    {
     "data": {
      "text/plain": [
       "array([[-0.7568025 , -0.95892427, -0.2794155 ],\n",
       "       [-0.95892427,  0.6569866 ,  0.41211849]])"
      ]
     },
     "execution_count": 20,
     "metadata": {},
     "output_type": "execute_result"
    }
   ],
   "source": [
    "np.sin(a)"
   ]
  },
  {
   "cell_type": "code",
   "execution_count": 21,
   "id": "3ff31abc-2caf-4a3f-97c8-cecbdff6b868",
   "metadata": {},
   "outputs": [
    {
     "data": {
      "text/plain": [
       "array([[-7.01525255, -0.45765755,  0.64209262],\n",
       "       [-0.29581292,  0.86369115, -3.436353  ]])"
      ]
     },
     "execution_count": 21,
     "metadata": {},
     "output_type": "execute_result"
    }
   ],
   "source": [
    "new= 1/np.tan(b)\n",
    "new"
   ]
  },
  {
   "cell_type": "code",
   "execution_count": 22,
   "id": "6af1dce5-6a22-48ea-abfc-869a0ae6ba65",
   "metadata": {},
   "outputs": [
    {
     "data": {
      "text/plain": [
       "array([[-7. , -0.5,  0.6],\n",
       "       [-0.3,  0.9, -3.4]])"
      ]
     },
     "execution_count": 22,
     "metadata": {},
     "output_type": "execute_result"
    }
   ],
   "source": [
    "np.round(new, decimals=1)"
   ]
  },
  {
   "cell_type": "code",
   "execution_count": 23,
   "id": "16b2f0ac-b6c6-448a-8ea9-07b3f2603e2a",
   "metadata": {},
   "outputs": [
    {
     "data": {
      "text/plain": [
       "array([[-7. , -0.5,  0.6],\n",
       "       [-0.3,  0.9, -3.4]])"
      ]
     },
     "execution_count": 23,
     "metadata": {},
     "output_type": "execute_result"
    }
   ],
   "source": [
    "np.around(new, decimals=1)"
   ]
  },
  {
   "cell_type": "code",
   "execution_count": 4,
   "id": "018fddbf-a287-49bf-b549-419174d51538",
   "metadata": {},
   "outputs": [],
   "source": [
    "import numpy as np"
   ]
  },
  {
   "cell_type": "code",
   "execution_count": 14,
   "id": "de4b82bc-4781-46d6-836b-af2d2982c7b3",
   "metadata": {},
   "outputs": [],
   "source": [
    "a= np.array([[1,2,3],[4,5,6]])\n",
    "b= np.random.randint(0,10,(3,3))\n"
   ]
  },
  {
   "cell_type": "code",
   "execution_count": 15,
   "id": "1866aaa4-fb55-4c1e-813f-6770025e530f",
   "metadata": {},
   "outputs": [
    {
     "data": {
      "text/plain": [
       "array([[1, 2, 3],\n",
       "       [4, 5, 6]])"
      ]
     },
     "execution_count": 15,
     "metadata": {},
     "output_type": "execute_result"
    }
   ],
   "source": [
    "a"
   ]
  },
  {
   "cell_type": "code",
   "execution_count": 16,
   "id": "15eaaf1b-a3ac-4ba3-997e-e681051133af",
   "metadata": {},
   "outputs": [
    {
     "data": {
      "text/plain": [
       "array([[9, 4, 0],\n",
       "       [9, 8, 1],\n",
       "       [6, 2, 1]], dtype=int32)"
      ]
     },
     "execution_count": 16,
     "metadata": {},
     "output_type": "execute_result"
    }
   ],
   "source": [
    "b\n"
   ]
  },
  {
   "cell_type": "code",
   "execution_count": 17,
   "id": "f3501552-6703-446c-98b8-6818d7d3c8b3",
   "metadata": {},
   "outputs": [
    {
     "data": {
      "text/plain": [
       "array([[ 45,  26,   5],\n",
       "       [117,  68,  11]])"
      ]
     },
     "execution_count": 17,
     "metadata": {},
     "output_type": "execute_result"
    }
   ],
   "source": [
    "np.dot(a,b)"
   ]
  },
  {
   "cell_type": "code",
   "execution_count": 18,
   "id": "c09d0bca-20a6-4d9f-8d83-faae982aba5d",
   "metadata": {},
   "outputs": [
    {
     "ename": "ValueError",
     "evalue": "shapes (3,3) and (2,3) not aligned: 3 (dim 1) != 2 (dim 0)",
     "output_type": "error",
     "traceback": [
      "\u001b[1;31m---------------------------------------------------------------------------\u001b[0m",
      "\u001b[1;31mValueError\u001b[0m                                Traceback (most recent call last)",
      "Cell \u001b[1;32mIn[18], line 1\u001b[0m\n\u001b[1;32m----> 1\u001b[0m \u001b[43mnp\u001b[49m\u001b[38;5;241;43m.\u001b[39;49m\u001b[43mdot\u001b[49m\u001b[43m(\u001b[49m\u001b[43mb\u001b[49m\u001b[43m,\u001b[49m\u001b[43ma\u001b[49m\u001b[43m)\u001b[49m\n",
      "\u001b[1;31mValueError\u001b[0m: shapes (3,3) and (2,3) not aligned: 3 (dim 1) != 2 (dim 0)"
     ]
    }
   ],
   "source": [
    "np.dot(b,a)"
   ]
  },
  {
   "cell_type": "code",
   "execution_count": 19,
   "id": "a14077e2-8466-4637-aa48-ab5b9effbd00",
   "metadata": {},
   "outputs": [
    {
     "data": {
      "text/plain": [
       "array([[1, 4],\n",
       "       [2, 5],\n",
       "       [3, 6]])"
      ]
     },
     "execution_count": 19,
     "metadata": {},
     "output_type": "execute_result"
    }
   ],
   "source": [
    "np.transpose(a)"
   ]
  },
  {
   "cell_type": "code",
   "execution_count": 20,
   "id": "d9cda74e-1a50-472b-aa0c-9689cd9834a3",
   "metadata": {},
   "outputs": [
    {
     "data": {
      "text/plain": [
       "np.int64(18)"
      ]
     },
     "execution_count": 20,
     "metadata": {},
     "output_type": "execute_result"
    }
   ],
   "source": [
    "np.trace(b)"
   ]
  },
  {
   "cell_type": "code",
   "execution_count": 21,
   "id": "714f46e8-5b8b-4bfb-a24a-51a1772eb6bd",
   "metadata": {},
   "outputs": [],
   "source": [
    "#inverse of an array"
   ]
  },
  {
   "cell_type": "code",
   "execution_count": 22,
   "id": "0aa5ca8f-ad25-4bab-a9cf-91437ae1643b",
   "metadata": {},
   "outputs": [
    {
     "data": {
      "text/plain": [
       "np.float64(41.999999999999986)"
      ]
     },
     "execution_count": 22,
     "metadata": {},
     "output_type": "execute_result"
    }
   ],
   "source": [
    "np.linalg.det(b)"
   ]
  },
  {
   "cell_type": "code",
   "execution_count": 23,
   "id": "1f4e37af-4ef3-49a5-a37e-6b3ca8cdee71",
   "metadata": {},
   "outputs": [
    {
     "data": {
      "text/plain": [
       "array([[ 0.14285714, -0.0952381 ,  0.0952381 ],\n",
       "       [-0.07142857,  0.21428571, -0.21428571],\n",
       "       [-0.71428571,  0.14285714,  0.85714286]])"
      ]
     },
     "execution_count": 23,
     "metadata": {},
     "output_type": "execute_result"
    }
   ],
   "source": [
    "np.linalg.inv(b)"
   ]
  },
  {
   "cell_type": "code",
   "execution_count": 25,
   "id": "2589c741-d596-42f6-bb90-2efbc5e1910b",
   "metadata": {},
   "outputs": [
    {
     "data": {
      "text/plain": [
       "array([[ 1.,  0.,  0.],\n",
       "       [-0.,  1.,  0.],\n",
       "       [-0., -0.,  1.]])"
      ]
     },
     "execution_count": 25,
     "metadata": {},
     "output_type": "execute_result"
    }
   ],
   "source": [
    "np.dot(\n",
    "    b, np.linalg.inv(b)\n",
    ").round()"
   ]
  },
  {
   "cell_type": "markdown",
   "id": "2fef8b06-5340-4480-9de6-b5571a905409",
   "metadata": {},
   "source": [
    "## solve equation x+2y =1, 3x +5y=2 ##"
   ]
  },
  {
   "cell_type": "code",
   "execution_count": 34,
   "id": "866bf2af-5bab-4fac-8e0d-f2e63edbd5a5",
   "metadata": {},
   "outputs": [],
   "source": [
    "c = np.array([[1,2],[3,5]])\n",
    "d =np.array([1,2])"
   ]
  },
  {
   "cell_type": "code",
   "execution_count": 35,
   "id": "14e58e89-0455-44f6-9eb1-29d9feb9e0de",
   "metadata": {},
   "outputs": [],
   "source": [
    "e =np.linalg.solve(c,d)"
   ]
  },
  {
   "cell_type": "code",
   "execution_count": 36,
   "id": "7d2425ea-990a-4d23-baec-a567f05d1da5",
   "metadata": {},
   "outputs": [
    {
     "data": {
      "text/plain": [
       "array([-1.,  1.])"
      ]
     },
     "execution_count": 36,
     "metadata": {},
     "output_type": "execute_result"
    }
   ],
   "source": [
    "e"
   ]
  },
  {
   "cell_type": "code",
   "execution_count": 37,
   "id": "477c4501-154a-4ccd-a4d1-4548f13cd1f9",
   "metadata": {},
   "outputs": [
    {
     "data": {
      "text/plain": [
       "array([1., 2.])"
      ]
     },
     "execution_count": 37,
     "metadata": {},
     "output_type": "execute_result"
    }
   ],
   "source": [
    "np.dot(a,e)"
   ]
  },
  {
   "cell_type": "code",
   "execution_count": null,
   "id": "1b103e28-93c6-46f7-af69-54f1e1bb7ec5",
   "metadata": {},
   "outputs": [],
   "source": []
  },
  {
   "cell_type": "code",
   "execution_count": 43,
   "id": "bf4703b5-d7ea-4775-a03f-bb3a8f1cad87",
   "metadata": {},
   "outputs": [],
   "source": [
    "e=np.random.rand(90_00_000)\n",
    "f=np.random.rand(90_00_000)\n"
   ]
  },
  {
   "cell_type": "code",
   "execution_count": 45,
   "id": "1a2d1292-2249-4f5b-b569-ba104e97ccbb",
   "metadata": {},
   "outputs": [],
   "source": [
    "import time"
   ]
  },
  {
   "cell_type": "code",
   "execution_count": 48,
   "id": "f94f2299-5892-44bd-9b62-92297aff1dab",
   "metadata": {},
   "outputs": [],
   "source": [
    "# st=time.time()\n",
    "# res=[]\n",
    "# for _e, _f in zip(list(e),list(f)):\n",
    "#     res.append(_e*_f)\n",
    "# end=time.time()"
   ]
  },
  {
   "cell_type": "code",
   "execution_count": 47,
   "id": "42a0de26-3e69-4a8c-afbd-42e0b056b44b",
   "metadata": {},
   "outputs": [
    {
     "name": "stdout",
     "output_type": "stream",
     "text": [
      "1753670019.0784423\n"
     ]
    }
   ],
   "source": [
    "print(end)"
   ]
  },
  {
   "cell_type": "code",
   "execution_count": 52,
   "id": "a45b3cc6-dfe5-475e-b5c0-a51ff8ae6d5a",
   "metadata": {},
   "outputs": [
    {
     "name": "stdout",
     "output_type": "stream",
     "text": [
      "time takein in sec:0.057105064392089844 \n"
     ]
    }
   ],
   "source": [
    "st =time.time()\n",
    "res= e*f\n",
    "end=time.time()\n",
    "print(f\"time takein in sec:{end-st} \")"
   ]
  },
  {
   "cell_type": "code",
   "execution_count": null,
   "id": "a2a09383-78e4-4f25-a5e1-ad3d645f244b",
   "metadata": {},
   "outputs": [],
   "source": []
  },
  {
   "cell_type": "code",
   "execution_count": null,
   "id": "ed1921d3-b366-4801-af97-08445502f279",
   "metadata": {},
   "outputs": [],
   "source": []
  },
  {
   "cell_type": "code",
   "execution_count": null,
   "id": "1c726631-f43d-4d5a-858e-d244aebd5f51",
   "metadata": {},
   "outputs": [],
   "source": []
  }
 ],
 "metadata": {
  "kernelspec": {
   "display_name": "Python 3 (ipykernel)",
   "language": "python",
   "name": "python3"
  },
  "language_info": {
   "codemirror_mode": {
    "name": "ipython",
    "version": 3
   },
   "file_extension": ".py",
   "mimetype": "text/x-python",
   "name": "python",
   "nbconvert_exporter": "python",
   "pygments_lexer": "ipython3",
   "version": "3.13.0"
  }
 },
 "nbformat": 4,
 "nbformat_minor": 5
}
