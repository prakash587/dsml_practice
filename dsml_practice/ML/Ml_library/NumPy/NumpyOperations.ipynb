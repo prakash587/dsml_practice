{
 "cells": [
  {
   "cell_type": "code",
   "execution_count": 7,
   "id": "8380de0c-2a97-4f65-8a3b-1c521145746e",
   "metadata": {},
   "outputs": [],
   "source": [
    "import numpy as np"
   ]
  },
  {
   "cell_type": "code",
   "execution_count": 10,
   "id": "95933158-5d1f-4099-bc09-79c86f2b246e",
   "metadata": {},
   "outputs": [],
   "source": [
    "a=np.array([[4,5,6],[5,7,9]])\n",
    "b=np.array([[3,2,1],[5,4,6]])"
   ]
  },
  {
   "cell_type": "code",
   "execution_count": 11,
   "id": "ae78a555-a0c9-49fc-ac2d-685c2f2ba036",
   "metadata": {},
   "outputs": [
    {
     "data": {
      "text/plain": [
       "(array([[4, 5, 6],\n",
       "        [5, 7, 9]]),\n",
       " array([[3, 2, 1],\n",
       "        [5, 4, 6]]))"
      ]
     },
     "execution_count": 11,
     "metadata": {},
     "output_type": "execute_result"
    }
   ],
   "source": [
    "a,b"
   ]
  },
  {
   "cell_type": "markdown",
   "id": "1d4de3c6-aae6-49d7-8dce-2813c8eb1e48",
   "metadata": {},
   "source": [
    "## Arithmetic Operation ##"
   ]
  },
  {
   "cell_type": "code",
   "execution_count": 13,
   "id": "5ca042a0-4d81-42b5-a14f-9f107516e9dd",
   "metadata": {},
   "outputs": [
    {
     "data": {
      "text/plain": [
       "array([[ 7,  7,  7],\n",
       "       [10, 11, 15]])"
      ]
     },
     "execution_count": 13,
     "metadata": {},
     "output_type": "execute_result"
    }
   ],
   "source": [
    "#a + b\n",
    "np.add(a,b)"
   ]
  },
  {
   "cell_type": "code",
   "execution_count": 14,
   "id": "909d8ec8-e09d-42cc-a2ba-113f3411d533",
   "metadata": {},
   "outputs": [
    {
     "data": {
      "text/plain": [
       "array([[1, 3, 5],\n",
       "       [0, 3, 3]])"
      ]
     },
     "execution_count": 14,
     "metadata": {},
     "output_type": "execute_result"
    }
   ],
   "source": [
    "#a - b\n",
    "np.subtract(a,b)"
   ]
  },
  {
   "cell_type": "code",
   "execution_count": 15,
   "id": "810a9b2d-2c35-41c2-afaa-131f12bc04f4",
   "metadata": {},
   "outputs": [
    {
     "data": {
      "text/plain": [
       "array([[12, 10,  6],\n",
       "       [25, 28, 54]])"
      ]
     },
     "execution_count": 15,
     "metadata": {},
     "output_type": "execute_result"
    }
   ],
   "source": [
    "#a * b\n",
    "np.multiply(a,b)"
   ]
  },
  {
   "cell_type": "code",
   "execution_count": 16,
   "id": "7abeab78-5cc1-4ba2-9db6-7fd28b6ccac5",
   "metadata": {},
   "outputs": [
    {
     "data": {
      "text/plain": [
       "array([[16, 25, 36],\n",
       "       [25, 49, 81]])"
      ]
     },
     "execution_count": 16,
     "metadata": {},
     "output_type": "execute_result"
    }
   ],
   "source": [
    "#a ** 2\n",
    "#np.square(a)\n",
    "np.power(a,2)"
   ]
  },
  {
   "cell_type": "code",
   "execution_count": 17,
   "id": "f7192261-c213-4404-84b0-77d1014af84e",
   "metadata": {},
   "outputs": [
    {
     "data": {
      "text/plain": [
       "(array([[1, 2, 6],\n",
       "        [1, 1, 1]]),\n",
       " array([[1, 1, 0],\n",
       "        [0, 3, 3]]))"
      ]
     },
     "execution_count": 17,
     "metadata": {},
     "output_type": "execute_result"
    }
   ],
   "source": [
    "# a % b\n",
    "np.divmod(a,b)"
   ]
  },
  {
   "cell_type": "markdown",
   "id": "5f5d0138-0f48-4e23-af28-4cc89b8ad6f1",
   "metadata": {},
   "source": [
    "## Trignometric ##"
   ]
  },
  {
   "cell_type": "code",
   "execution_count": 20,
   "id": "02780ae9-0b3c-447c-9a6d-827b2d988855",
   "metadata": {},
   "outputs": [
    {
     "data": {
      "text/plain": [
       "array([[-0.7568025 , -0.95892427, -0.2794155 ],\n",
       "       [-0.95892427,  0.6569866 ,  0.41211849]])"
      ]
     },
     "execution_count": 20,
     "metadata": {},
     "output_type": "execute_result"
    }
   ],
   "source": [
    "np.sin(a)"
   ]
  },
  {
   "cell_type": "code",
   "execution_count": 21,
   "id": "3ff31abc-2caf-4a3f-97c8-cecbdff6b868",
   "metadata": {},
   "outputs": [
    {
     "data": {
      "text/plain": [
       "array([[-7.01525255, -0.45765755,  0.64209262],\n",
       "       [-0.29581292,  0.86369115, -3.436353  ]])"
      ]
     },
     "execution_count": 21,
     "metadata": {},
     "output_type": "execute_result"
    }
   ],
   "source": [
    "new= 1/np.tan(b)\n",
    "new"
   ]
  },
  {
   "cell_type": "code",
   "execution_count": 22,
   "id": "6af1dce5-6a22-48ea-abfc-869a0ae6ba65",
   "metadata": {},
   "outputs": [
    {
     "data": {
      "text/plain": [
       "array([[-7. , -0.5,  0.6],\n",
       "       [-0.3,  0.9, -3.4]])"
      ]
     },
     "execution_count": 22,
     "metadata": {},
     "output_type": "execute_result"
    }
   ],
   "source": [
    "np.round(new, decimals=1)"
   ]
  },
  {
   "cell_type": "code",
   "execution_count": 23,
   "id": "16b2f0ac-b6c6-448a-8ea9-07b3f2603e2a",
   "metadata": {},
   "outputs": [
    {
     "data": {
      "text/plain": [
       "array([[-7. , -0.5,  0.6],\n",
       "       [-0.3,  0.9, -3.4]])"
      ]
     },
     "execution_count": 23,
     "metadata": {},
     "output_type": "execute_result"
    }
   ],
   "source": [
    "np.around(new, decimals=1)"
   ]
  },
  {
   "cell_type": "code",
   "execution_count": null,
   "id": "018fddbf-a287-49bf-b549-419174d51538",
   "metadata": {},
   "outputs": [],
   "source": []
  }
 ],
 "metadata": {
  "kernelspec": {
   "display_name": "Python 3 (ipykernel)",
   "language": "python",
   "name": "python3"
  },
  "language_info": {
   "codemirror_mode": {
    "name": "ipython",
    "version": 3
   },
   "file_extension": ".py",
   "mimetype": "text/x-python",
   "name": "python",
   "nbconvert_exporter": "python",
   "pygments_lexer": "ipython3",
   "version": "3.13.0"
  }
 },
 "nbformat": 4,
 "nbformat_minor": 5
}
