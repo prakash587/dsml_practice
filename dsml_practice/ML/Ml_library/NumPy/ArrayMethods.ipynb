{
 "cells": [
  {
   "cell_type": "code",
   "execution_count": 1,
   "id": "53912a3f-f7e9-4a68-b4c9-bed41c6e35c4",
   "metadata": {},
   "outputs": [],
   "source": [
    "import numpy as np"
   ]
  },
  {
   "cell_type": "code",
   "execution_count": 7,
   "id": "cd1fa5af-4ac3-4f22-b922-435e0797245e",
   "metadata": {},
   "outputs": [],
   "source": [
    "a=np.random.randint(10,50, size=(5,2,3),dtype='int8')"
   ]
  },
  {
   "cell_type": "code",
   "execution_count": 4,
   "id": "745bafe2-6959-4bf8-93c2-5f91404b6f57",
   "metadata": {},
   "outputs": [
    {
     "data": {
      "text/plain": [
       "(5, 2, 3)"
      ]
     },
     "execution_count": 4,
     "metadata": {},
     "output_type": "execute_result"
    }
   ],
   "source": [
    "a.shape"
   ]
  },
  {
   "cell_type": "code",
   "execution_count": 5,
   "id": "9d650520-e563-4cb7-860e-17e68b6f7cb0",
   "metadata": {},
   "outputs": [
    {
     "data": {
      "text/plain": [
       "3"
      ]
     },
     "execution_count": 5,
     "metadata": {},
     "output_type": "execute_result"
    }
   ],
   "source": [
    "a.ndim"
   ]
  },
  {
   "cell_type": "code",
   "execution_count": 8,
   "id": "7a5e1ccb-384b-4c6b-836c-1ff794544523",
   "metadata": {},
   "outputs": [
    {
     "data": {
      "text/plain": [
       "dtype('int8')"
      ]
     },
     "execution_count": 8,
     "metadata": {},
     "output_type": "execute_result"
    }
   ],
   "source": [
    "a.dtype"
   ]
  },
  {
   "cell_type": "code",
   "execution_count": 9,
   "id": "f34f58ff-417a-47cb-b95b-44d2a3ce88db",
   "metadata": {},
   "outputs": [
    {
     "data": {
      "text/plain": [
       "30"
      ]
     },
     "execution_count": 9,
     "metadata": {},
     "output_type": "execute_result"
    }
   ],
   "source": [
    "a.size"
   ]
  },
  {
   "cell_type": "code",
   "execution_count": 10,
   "id": "f48c59bb-6284-4c06-9f7f-cd0537c2153c",
   "metadata": {},
   "outputs": [
    {
     "data": {
      "text/plain": [
       "0.029296875"
      ]
     },
     "execution_count": 10,
     "metadata": {},
     "output_type": "execute_result"
    }
   ],
   "source": [
    "(a.size *8)/8/1024 #number of elements"
   ]
  },
  {
   "cell_type": "code",
   "execution_count": 12,
   "id": "687d97bc-aa2a-446e-82d2-eddda457afdc",
   "metadata": {},
   "outputs": [
    {
     "data": {
      "text/plain": [
       "array([[[25, 43, 20, 40, 22],\n",
       "        [13, 34, 37, 19, 48]],\n",
       "\n",
       "       [[22, 21, 40, 13, 14],\n",
       "        [44, 41, 21, 46, 48]],\n",
       "\n",
       "       [[24, 11, 23, 14, 15],\n",
       "        [17, 33, 35, 28, 39]]], dtype=int8)"
      ]
     },
     "execution_count": 12,
     "metadata": {},
     "output_type": "execute_result"
    }
   ],
   "source": [
    "a.T\n"
   ]
  },
  {
   "cell_type": "code",
   "execution_count": 13,
   "id": "1b7f31e4-3566-48e7-aadf-f1a28abb56ab",
   "metadata": {},
   "outputs": [
    {
     "data": {
      "text/plain": [
       "(5, 2, 3)"
      ]
     },
     "execution_count": 13,
     "metadata": {},
     "output_type": "execute_result"
    }
   ],
   "source": [
    "a.shape"
   ]
  },
  {
   "cell_type": "code",
   "execution_count": 23,
   "id": "1662faa1-c009-48b7-af8c-7c6cb76f2b81",
   "metadata": {},
   "outputs": [
    {
     "data": {
      "text/plain": [
       "array([[[25, 22, 24, 13, 44],\n",
       "        [17, 43, 21, 11, 34],\n",
       "        [41, 33, 20, 40, 23]],\n",
       "\n",
       "       [[37, 21, 35, 40, 13],\n",
       "        [14, 19, 46, 28, 22],\n",
       "        [14, 15, 48, 48, 39]]], dtype=int8)"
      ]
     },
     "execution_count": 23,
     "metadata": {},
     "output_type": "execute_result"
    }
   ],
   "source": [
    "a.reshape(2,3,5)"
   ]
  },
  {
   "cell_type": "code",
   "execution_count": 25,
   "id": "b72e900a-18f4-492a-94e6-ddc8f1c43f46",
   "metadata": {},
   "outputs": [
    {
     "data": {
      "text/plain": [
       "array([[[25, 22, 24, 13, 44],\n",
       "        [17, 43, 21, 11, 34],\n",
       "        [41, 33, 20, 40, 23]],\n",
       "\n",
       "       [[37, 21, 35, 40, 13],\n",
       "        [14, 19, 46, 28, 22],\n",
       "        [14, 15, 48, 48, 39]]], dtype=int8)"
      ]
     },
     "execution_count": 25,
     "metadata": {},
     "output_type": "execute_result"
    }
   ],
   "source": [
    "a.reshape(-1,3,5)"
   ]
  },
  {
   "cell_type": "code",
   "execution_count": 26,
   "id": "8cd6b14c-cd06-4b07-937f-a01e968b8e0f",
   "metadata": {},
   "outputs": [
    {
     "data": {
      "text/plain": [
       "array([25, 22, 24, 13, 44, 17, 43, 21, 11, 34, 41, 33, 20, 40, 23, 37, 21,\n",
       "       35, 40, 13, 14, 19, 46, 28, 22, 14, 15, 48, 48, 39], dtype=int8)"
      ]
     },
     "execution_count": 26,
     "metadata": {},
     "output_type": "execute_result"
    }
   ],
   "source": [
    "a.ravel()"
   ]
  },
  {
   "cell_type": "code",
   "execution_count": 27,
   "id": "f5d7ace2-d564-4691-a240-2a66901f2a79",
   "metadata": {},
   "outputs": [
    {
     "data": {
      "text/plain": [
       "array([25, 22, 24, 13, 44, 17, 43, 21, 11, 34, 41, 33, 20, 40, 23, 37, 21,\n",
       "       35, 40, 13, 14, 19, 46, 28, 22, 14, 15, 48, 48, 39], dtype=int8)"
      ]
     },
     "execution_count": 27,
     "metadata": {},
     "output_type": "execute_result"
    }
   ],
   "source": [
    "a.flatten()"
   ]
  },
  {
   "cell_type": "code",
   "execution_count": 54,
   "id": "013b6214-99f2-4cf8-b81f-18c8899fec93",
   "metadata": {},
   "outputs": [],
   "source": [
    "b=np.random.randint(1,10,(2,3))\n",
    "c=np.random.randint(1,10,(2,3))"
   ]
  },
  {
   "cell_type": "code",
   "execution_count": 55,
   "id": "7e2142fa-485f-4ec0-a314-98faa5d37303",
   "metadata": {},
   "outputs": [
    {
     "data": {
      "text/plain": [
       "(array([[2, 1, 6],\n",
       "        [8, 6, 7]], dtype=int32),\n",
       " array([[8, 9, 6],\n",
       "        [4, 6, 9]], dtype=int32))"
      ]
     },
     "execution_count": 55,
     "metadata": {},
     "output_type": "execute_result"
    }
   ],
   "source": [
    "b,c"
   ]
  },
  {
   "cell_type": "markdown",
   "id": "b90fb811-181f-4560-baf9-78757c7bf28e",
   "metadata": {},
   "source": [
    "**0>column wise >vstack**"
   ]
  },
  {
   "cell_type": "markdown",
   "id": "d68bd2ef-5b0f-47d7-b764-145fe303029a",
   "metadata": {},
   "source": [
    "**1>rowwise >hstack**"
   ]
  },
  {
   "cell_type": "code",
   "execution_count": 56,
   "id": "d4eff5de-6bd7-4c72-bfbb-11b5c5da5e6b",
   "metadata": {},
   "outputs": [],
   "source": [
    "d=np.concatenate((b,c),axis=1)"
   ]
  },
  {
   "cell_type": "code",
   "execution_count": null,
   "id": "40c6a4cc-3024-437b-bff9-e22cfbbf6fa1",
   "metadata": {},
   "outputs": [],
   "source": []
  },
  {
   "cell_type": "code",
   "execution_count": 57,
   "id": "3d9fcbca-e7b4-49a9-baf6-5708c0640ac7",
   "metadata": {},
   "outputs": [
    {
     "data": {
      "text/plain": [
       "array([[2, 1, 6, 8, 9, 6],\n",
       "       [8, 6, 7, 4, 6, 9]], dtype=int32)"
      ]
     },
     "execution_count": 57,
     "metadata": {},
     "output_type": "execute_result"
    }
   ],
   "source": [
    "d"
   ]
  },
  {
   "cell_type": "code",
   "execution_count": 58,
   "id": "3005929e-1d15-4607-af3e-a43d524fbf1b",
   "metadata": {},
   "outputs": [],
   "source": [
    "d=np.concatenate((b,c),axis=0)"
   ]
  },
  {
   "cell_type": "code",
   "execution_count": 59,
   "id": "765037ff-1167-4814-9e8d-2dbd5b29cc80",
   "metadata": {},
   "outputs": [
    {
     "data": {
      "text/plain": [
       "array([[2, 1, 6],\n",
       "       [8, 6, 7],\n",
       "       [8, 9, 6],\n",
       "       [4, 6, 9]], dtype=int32)"
      ]
     },
     "execution_count": 59,
     "metadata": {},
     "output_type": "execute_result"
    }
   ],
   "source": [
    "d"
   ]
  },
  {
   "cell_type": "code",
   "execution_count": 60,
   "id": "5f51924c-692c-4115-b00f-3d966358553d",
   "metadata": {
    "scrolled": true
   },
   "outputs": [
    {
     "data": {
      "text/plain": [
       "array([[2, 1, 6],\n",
       "       [8, 6, 7],\n",
       "       [8, 9, 6],\n",
       "       [4, 6, 9]], dtype=int32)"
      ]
     },
     "execution_count": 60,
     "metadata": {},
     "output_type": "execute_result"
    }
   ],
   "source": [
    "np.vstack((b,c))"
   ]
  },
  {
   "cell_type": "code",
   "execution_count": 61,
   "id": "1659070e-6784-43c6-a5ac-2e52ed72c066",
   "metadata": {},
   "outputs": [
    {
     "data": {
      "text/plain": [
       "array([[2, 1, 6, 8, 9, 6],\n",
       "       [8, 6, 7, 4, 6, 9]], dtype=int32)"
      ]
     },
     "execution_count": 61,
     "metadata": {},
     "output_type": "execute_result"
    }
   ],
   "source": [
    "np.hstack((b,c))"
   ]
  },
  {
   "cell_type": "code",
   "execution_count": 63,
   "id": "33b118b0-cb20-4a72-9460-02844bb0af65",
   "metadata": {},
   "outputs": [
    {
     "data": {
      "text/plain": [
       "[array([[2, 1, 6],\n",
       "        [8, 6, 7]], dtype=int32),\n",
       " array([[8, 9, 6],\n",
       "        [4, 6, 9]], dtype=int32)]"
      ]
     },
     "execution_count": 63,
     "metadata": {},
     "output_type": "execute_result"
    }
   ],
   "source": [
    "np.split(d, 2,axis =0)"
   ]
  },
  {
   "cell_type": "code",
   "execution_count": 64,
   "id": "d0ba6679-cc25-4c5c-ae05-16d2165671ba",
   "metadata": {},
   "outputs": [
    {
     "data": {
      "text/plain": [
       "[array([[2, 1, 6],\n",
       "        [8, 6, 7],\n",
       "        [8, 9, 6],\n",
       "        [4, 6, 9]], dtype=int32)]"
      ]
     },
     "execution_count": 64,
     "metadata": {},
     "output_type": "execute_result"
    }
   ],
   "source": [
    "np.split(d, 1,axis =1)"
   ]
  },
  {
   "cell_type": "code",
   "execution_count": 65,
   "id": "334d1317-924c-4fca-96a6-71e296b576f2",
   "metadata": {},
   "outputs": [
    {
     "data": {
      "text/plain": [
       "[array([[2],\n",
       "        [8],\n",
       "        [8],\n",
       "        [4]], dtype=int32),\n",
       " array([[1],\n",
       "        [6],\n",
       "        [9],\n",
       "        [6]], dtype=int32),\n",
       " array([[6],\n",
       "        [7],\n",
       "        [6],\n",
       "        [9]], dtype=int32)]"
      ]
     },
     "execution_count": 65,
     "metadata": {},
     "output_type": "execute_result"
    }
   ],
   "source": [
    "np.split(d, 3,axis =1)"
   ]
  },
  {
   "cell_type": "code",
   "execution_count": 1,
   "id": "2c78cfe8-7dd6-46a1-a783-c06ab7f172ac",
   "metadata": {},
   "outputs": [
    {
     "name": "stdout",
     "output_type": "stream",
     "text": [
      "[1 2 3 4]\n"
     ]
    }
   ],
   "source": [
    "# How do you create a NumPy array from a Python list?\n",
    "\n",
    "import numpy as np\n",
    "arr = np.array([1, 2, 3, 4])\n",
    "print(arr)"
   ]
  },
  {
   "cell_type": "code",
   "execution_count": 4,
   "id": "39535f81-af1c-4410-b22c-f68cc1788875",
   "metadata": {},
   "outputs": [],
   "source": [
    "# How do you create an array of all zeros or ones?\n",
    "\n",
    "zeros = np.zeros((2, 3))  # 2x3 array of zeros\n",
    "ones = np.ones((3, 2))    # 3x2 array of ones\n"
   ]
  },
  {
   "cell_type": "code",
   "execution_count": 3,
   "id": "2a471557-0228-4a31-8c1e-3beb3fa39fb2",
   "metadata": {},
   "outputs": [
    {
     "name": "stdout",
     "output_type": "stream",
     "text": [
      "[[1 2 3]\n",
      " [4 5 6]]\n"
     ]
    }
   ],
   "source": [
    "#How do you reshape a NumPy array?\n",
    "arr = np.array([1, 2, 3, 4, 5, 6])\n",
    "reshaped = arr.reshape((2, 3))\n",
    "print(reshaped)\n"
   ]
  },
  {
   "cell_type": "code",
   "execution_count": 5,
   "id": "07d521f9-6e72-411c-8df3-a7cf2b782998",
   "metadata": {},
   "outputs": [
    {
     "name": "stdout",
     "output_type": "stream",
     "text": [
      "(2, 2)\n",
      "4\n"
     ]
    }
   ],
   "source": [
    "# How to find the shape and size of a NumPy array?\n",
    "arr = np.array([[1, 2], [3, 4]])\n",
    "print(arr.shape)  # Output: (2, 2)\n",
    "print(arr.size)   # Output: 4\n"
   ]
  },
  {
   "cell_type": "code",
   "execution_count": 6,
   "id": "25831dae-c839-4f6b-b991-b2faf8496dd6",
   "metadata": {},
   "outputs": [
    {
     "name": "stdout",
     "output_type": "stream",
     "text": [
      "[5 7 9]\n",
      "[ 4 10 18]\n"
     ]
    }
   ],
   "source": [
    "# How do you perform element-wise operations?\n",
    "a = np.array([1, 2, 3])\n",
    "b = np.array([4, 5, 6])\n",
    "print(a + b)  # Output: [5 7 9]\n",
    "print(a * b)  # Output: [ 4 10 18]\n"
   ]
  },
  {
   "cell_type": "code",
   "execution_count": 7,
   "id": "0e082cf4-a1dd-4b87-8b30-ea75bd4a0659",
   "metadata": {},
   "outputs": [
    {
     "name": "stdout",
     "output_type": "stream",
     "text": [
      "[1 2 3 4]\n"
     ]
    }
   ],
   "source": [
    "# How do you flatten a multi-dimensional array?\n",
    "arr = np.array([[1, 2], [3, 4]])\n",
    "flat = arr.flatten()\n",
    "print(flat)  # Output: [1 2 3 4]\n"
   ]
  },
  {
   "cell_type": "code",
   "execution_count": 8,
   "id": "3daebdaf-6128-4922-a9d3-a95adb02816f",
   "metadata": {},
   "outputs": [
    {
     "name": "stdout",
     "output_type": "stream",
     "text": [
      "[[1 2]\n",
      " [3 4]]\n"
     ]
    }
   ],
   "source": [
    "# How do you concatenate two arrays?\n",
    "a = np.array([[1, 2]])\n",
    "b = np.array([[3, 4]])\n",
    "result = np.concatenate((a, b), axis=0)\n",
    "print(result)\n",
    "\n"
   ]
  },
  {
   "cell_type": "code",
   "execution_count": 9,
   "id": "54f0cb09-5a60-4e70-9773-27f9140b07a8",
   "metadata": {},
   "outputs": [
    {
     "name": "stdout",
     "output_type": "stream",
     "text": [
      "4\n",
      "1\n",
      "10\n"
     ]
    }
   ],
   "source": [
    "# How do you get the maximum, minimum, and sum of a NumPy array?\n",
    "arr = np.array([1, 2, 3, 4])\n",
    "print(np.max(arr))  # Output: 4\n",
    "print(np.min(arr))  # Output: 1\n",
    "print(np.sum(arr))  # Output: 10\n"
   ]
  },
  {
   "cell_type": "code",
   "execution_count": 11,
   "id": "307ad6a2-2ba8-4ed7-aa32-dc31a5d4528a",
   "metadata": {},
   "outputs": [
    {
     "name": "stdout",
     "output_type": "stream",
     "text": [
      "3\n",
      "2\n"
     ]
    }
   ],
   "source": [
    "# **How do you get the index of the max/min element?**\n",
    "arr = np.array([10, 20, 5, 30])\n",
    "print(np.argmax(arr))  # Output: 3\n",
    "print(np.argmin(arr))  # Output: 2\n"
   ]
  },
  {
   "cell_type": "code",
   "execution_count": 12,
   "id": "87036bb8-2a5a-4595-82c4-2f421a737c87",
   "metadata": {},
   "outputs": [
    {
     "name": "stdout",
     "output_type": "stream",
     "text": [
      "[1 1 3 4 5]\n"
     ]
    }
   ],
   "source": [
    "#How do you sort a NumPy array?\n",
    "arr = np.array([3, 1, 4, 1, 5])\n",
    "sorted_arr = np.sort(arr)\n",
    "print(sorted_arr)\n"
   ]
  },
  {
   "cell_type": "code",
   "execution_count": 7,
   "id": "8f041560-5500-4196-a696-f4e5fac3f773",
   "metadata": {},
   "outputs": [],
   "source": [
    "import numpy as np"
   ]
  },
  {
   "cell_type": "code",
   "execution_count": 8,
   "id": "9d920c6e-cc79-4c9f-a060-ebc13b7d4c36",
   "metadata": {},
   "outputs": [],
   "source": [
    "z=np.random.randint(1,10,(4,6))"
   ]
  },
  {
   "cell_type": "code",
   "execution_count": 9,
   "id": "96de8914-e930-4022-b031-431ea735bbdd",
   "metadata": {},
   "outputs": [
    {
     "data": {
      "text/plain": [
       "array([13, 21, 18, 11, 25, 14])"
      ]
     },
     "execution_count": 9,
     "metadata": {},
     "output_type": "execute_result"
    }
   ],
   "source": [
    "z.sum(axis=0)"
   ]
  },
  {
   "cell_type": "code",
   "execution_count": 11,
   "id": "b8d1794d-2a2d-4975-8763-5c068bcf06de",
   "metadata": {},
   "outputs": [
    {
     "data": {
      "text/plain": [
       "array([ 90, 576, 360,  30, 972,  75])"
      ]
     },
     "execution_count": 11,
     "metadata": {},
     "output_type": "execute_result"
    }
   ],
   "source": [
    "z.prod(axis=0)"
   ]
  },
  {
   "cell_type": "code",
   "execution_count": 12,
   "id": "8b58427a-172d-4e38-9501-7be3b49244c2",
   "metadata": {},
   "outputs": [
    {
     "data": {
      "text/plain": [
       "array([ 2400,  1620,   810, 12960])"
      ]
     },
     "execution_count": 12,
     "metadata": {},
     "output_type": "execute_result"
    }
   ],
   "source": [
    "z.prod(axis=1)"
   ]
  },
  {
   "cell_type": "code",
   "execution_count": 13,
   "id": "0e7f0608-38a8-44a2-bb19-5d3418570514",
   "metadata": {},
   "outputs": [
    {
     "data": {
      "text/plain": [
       "array([[ 2,  4,  3,  5,  4,  5],\n",
       "       [ 5,  7,  9,  7,  7, 10],\n",
       "       [ 8, 13, 14,  8, 16, 11],\n",
       "       [13, 21, 18, 11, 25, 14]])"
      ]
     },
     "execution_count": 13,
     "metadata": {},
     "output_type": "execute_result"
    }
   ],
   "source": [
    "z.cumsum(axis=0)"
   ]
  },
  {
   "cell_type": "code",
   "execution_count": 14,
   "id": "6b7a9928-1743-4b71-b810-8583cf339ecb",
   "metadata": {},
   "outputs": [
    {
     "data": {
      "text/plain": [
       "array([2, 2, 1, 3], dtype=int32)"
      ]
     },
     "execution_count": 14,
     "metadata": {},
     "output_type": "execute_result"
    }
   ],
   "source": [
    "z.min(axis=1)"
   ]
  },
  {
   "cell_type": "code",
   "execution_count": 15,
   "id": "bb478bc3-a64c-4108-a21e-d7ffcfaa322d",
   "metadata": {},
   "outputs": [
    {
     "data": {
      "text/plain": [
       "array([5, 6, 9, 9], dtype=int32)"
      ]
     },
     "execution_count": 15,
     "metadata": {},
     "output_type": "execute_result"
    }
   ],
   "source": [
    "z.max(axis=1)"
   ]
  },
  {
   "cell_type": "code",
   "execution_count": null,
   "id": "6fa349ef-dfef-4476-8466-cb004106237f",
   "metadata": {},
   "outputs": [],
   "source": []
  }
 ],
 "metadata": {
  "kernelspec": {
   "display_name": "Python 3 (ipykernel)",
   "language": "python",
   "name": "python3"
  },
  "language_info": {
   "codemirror_mode": {
    "name": "ipython",
    "version": 3
   },
   "file_extension": ".py",
   "mimetype": "text/x-python",
   "name": "python",
   "nbconvert_exporter": "python",
   "pygments_lexer": "ipython3",
   "version": "3.13.0"
  }
 },
 "nbformat": 4,
 "nbformat_minor": 5
}
