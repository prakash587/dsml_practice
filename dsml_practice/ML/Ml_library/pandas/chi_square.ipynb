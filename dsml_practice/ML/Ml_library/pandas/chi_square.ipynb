{
 "cells": [
  {
   "cell_type": "code",
   "execution_count": 1,
   "id": "843d906b-6e36-41d0-bdec-37fb1815c582",
   "metadata": {},
   "outputs": [],
   "source": [
    "import pandas as pd"
   ]
  },
  {
   "cell_type": "code",
   "execution_count": 2,
   "id": "32faedc2-7564-4bee-b6cd-4da4e6505e0e",
   "metadata": {},
   "outputs": [],
   "source": [
    "titanic_df = pd.read_csv(\"titanic-data.csv\")\n",
    "\n"
   ]
  },
  {
   "cell_type": "code",
   "execution_count": 4,
   "id": "4e319094-683a-48c4-89a4-fe37f50f0ffc",
   "metadata": {},
   "outputs": [
    {
     "data": {
      "text/plain": [
       "<Axes: xlabel='Pclass', ylabel='SibSp'>"
      ]
     },
     "execution_count": 4,
     "metadata": {},
     "output_type": "execute_result"
    },
    {
     "data": {
      "image/png": "[encoded data removed]",
      "text/plain": [
       "<Figure size 640x480 with 1 Axes>"
      ]
     },
     "metadata": {},
     "output_type": "display_data"
    }
   ],
   "source": [
    "titanic_df.plot.scatter('Pclass','SibSp')"
   ]
  },
  {
   "cell_type": "code",
   "execution_count": 5,
   "id": "9a3f58a4-17a4-4e43-a164-3ed00673bf73",
   "metadata": {},
   "outputs": [
    {
     "data": {
      "text/html": [
       "<div>\n",
       "<style scoped>\n",
       "    .dataframe tbody tr th:only-of-type {\n",
       "        vertical-align: middle;\n",
       "    }\n",
       "\n",
       "    .dataframe tbody tr th {\n",
       "        vertical-align: top;\n",
       "    }\n",
       "\n",
       "    .dataframe thead th {\n",
       "        text-align: right;\n",
       "    }\n",
       "</style>\n",
       "<table border=\"1\" class=\"dataframe\">\n",
       "  <thead>\n",
       "    <tr style=\"text-align: right;\">\n",
       "      <th></th>\n",
       "      <th>Pclass</th>\n",
       "      <th>SibSp</th>\n",
       "    </tr>\n",
       "  </thead>\n",
       "  <tbody>\n",
       "    <tr>\n",
       "      <th>Pclass</th>\n",
       "      <td>1.000000</td>\n",
       "      <td>0.083081</td>\n",
       "    </tr>\n",
       "    <tr>\n",
       "      <th>SibSp</th>\n",
       "      <td>0.083081</td>\n",
       "      <td>1.000000</td>\n",
       "    </tr>\n",
       "  </tbody>\n",
       "</table>\n",
       "</div>"
      ],
      "text/plain": [
       "          Pclass     SibSp\n",
       "Pclass  1.000000  0.083081\n",
       "SibSp   0.083081  1.000000"
      ]
     },
     "execution_count": 5,
     "metadata": {},
     "output_type": "execute_result"
    }
   ],
   "source": [
    "titanic_df[['Pclass', 'SibSp']].corr()"
   ]
  },
  {
   "cell_type": "markdown",
   "id": "08ad5d14-8507-4b11-9a41-624caa4be561",
   "metadata": {},
   "source": [
    "## chi-square test"
   ]
  },
  {
   "cell_type": "code",
   "execution_count": 6,
   "id": "fea7bacc-be47-4541-b9ee-6d248594e337",
   "metadata": {},
   "outputs": [],
   "source": [
    "\n",
    "import scipy.stats as stats"
   ]
  },
  {
   "cell_type": "code",
   "execution_count": 10,
   "id": "22d290d6-e2f5-4fef-b5a3-4d81ce55b0d4",
   "metadata": {},
   "outputs": [],
   "source": [
    "contingency_table= pd.crosstab(titanic_df.Pclass, titanic_df.SibSp)"
   ]
  },
  {
   "cell_type": "code",
   "execution_count": 11,
   "id": "f1326623-20db-4c3d-8578-5ae408f9c457",
   "metadata": {},
   "outputs": [],
   "source": [
    "chi2_score, pvalue, dof, expected_f= stats.chi2_contingency(contingency_table)"
   ]
  },
  {
   "cell_type": "code",
   "execution_count": 21,
   "id": "e3803d63-ff14-4552-8908-0842f68b075b",
   "metadata": {},
   "outputs": [
    {
     "name": "stdout",
     "output_type": "stream",
     "text": [
      "chi_square = 50.86189\n",
      "p-value = 0.00000\n"
     ]
    }
   ],
   "source": [
    "print(f'chi_square = {chi2_score :.5f}' )\n",
    "print(f'p-value = {pvalue :.5f}')"
   ]
  },
  {
   "cell_type": "code",
   "execution_count": null,
   "id": "837352de-5161-4790-871b-cbbe9948df1b",
   "metadata": {},
   "outputs": [],
   "source": []
  },
  {
   "cell_type": "code",
   "execution_count": null,
   "id": "44861afc-36a1-4649-8606-1e5b30b2385b",
   "metadata": {},
   "outputs": [],
   "source": []
  },
  {
   "cell_type": "code",
   "execution_count": null,
   "id": "20c6ce1e-95e9-454c-9352-9d632c512258",
   "metadata": {},
   "outputs": [],
   "source": []
  },
  {
   "cell_type": "code",
   "execution_count": null,
   "id": "8a1b00e3-9af5-4076-91d1-4819dd2c25d8",
   "metadata": {},
   "outputs": [],
   "source": []
  },
  {
   "cell_type": "code",
   "execution_count": null,
   "id": "8a63eae8-9444-4a18-a677-927d4a91121b",
   "metadata": {},
   "outputs": [],
   "source": []
  },
  {
   "cell_type": "code",
   "execution_count": null,
   "id": "b524092b-9f7b-4d28-a9ef-fedabfd9a95f",
   "metadata": {},
   "outputs": [],
   "source": []
  },
  {
   "cell_type": "code",
   "execution_count": null,
   "id": "657dee9e-4c31-4846-956d-cb0db0fa3cc0",
   "metadata": {},
   "outputs": [],
   "source": []
  }
 ],
 "metadata": {
  "kernelspec": {
   "display_name": "Python 3 (ipykernel)",
   "language": "python",
   "name": "python3"
  },
  "language_info": {
   "codemirror_mode": {
    "name": "ipython",
    "version": 3
   },
   "file_extension": ".py",
   "mimetype": "text/x-python",
   "name": "python",
   "nbconvert_exporter": "python",
   "pygments_lexer": "ipython3",
   "version": "3.13.0"
  }
 },
 "nbformat": 4,
 "nbformat_minor": 5
}
