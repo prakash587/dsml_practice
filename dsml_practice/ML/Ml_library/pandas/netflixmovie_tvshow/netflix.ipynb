{
 "cells": [
  {
   "cell_type": "code",
   "execution_count": 1,
   "id": "270d96c9-97b9-4b45-af90-34b87d1d4976",
   "metadata": {},
   "outputs": [],
   "source": [
    "import pandas as pd"
   ]
  },
  {
   "cell_type": "code",
   "execution_count": 3,
   "id": "1e6c59af-3603-4e6a-a696-ae7271fb582b",
   "metadata": {},
   "outputs": [],
   "source": [
    "netflix_df= pd.read_csv('netflix_titles.csv')"
   ]
  },
  {
   "cell_type": "code",
   "execution_count": 4,
   "id": "6c40670c-336b-4a99-a314-04f5b4dfaca2",
   "metadata": {},
   "outputs": [
    {
     "data": {
      "text/html": [
       "<div>\n",
       "<style scoped>\n",
       "    .dataframe tbody tr th:only-of-type {\n",
       "        vertical-align: middle;\n",
       "    }\n",
       "\n",
       "    .dataframe tbody tr th {\n",
       "        vertical-align: top;\n",
       "    }\n",
       "\n",
       "    .dataframe thead th {\n",
       "        text-align: right;\n",
       "    }\n",
       "</style>\n",
       "<table border=\"1\" class=\"dataframe\">\n",
       "  <thead>\n",
       "    <tr style=\"text-align: right;\">\n",
       "      <th></th>\n",
       "      <th>show_id</th>\n",
       "      <th>type</th>\n",
       "      <th>title</th>\n",
       "      <th>director</th>\n",
       "      <th>cast</th>\n",
       "      <th>country</th>\n",
       "      <th>date_added</th>\n",
       "      <th>release_year</th>\n",
       "      <th>rating</th>\n",
       "      <th>duration</th>\n",
       "      <th>listed_in</th>\n",
       "      <th>description</th>\n",
       "    </tr>\n",
       "  </thead>\n",
       "  <tbody>\n",
       "    <tr>\n",
       "      <th>0</th>\n",
       "      <td>s1</td>\n",
       "      <td>Movie</td>\n",
       "      <td>Dick Johnson Is Dead</td>\n",
       "      <td>Kirsten Johnson</td>\n",
       "      <td>NaN</td>\n",
       "      <td>United States</td>\n",
       "      <td>September 25, 2021</td>\n",
       "      <td>2020</td>\n",
       "      <td>PG-13</td>\n",
       "      <td>90 min</td>\n",
       "      <td>Documentaries</td>\n",
       "      <td>As her father nears the end of his life, filmm...</td>\n",
       "    </tr>\n",
       "    <tr>\n",
       "      <th>1</th>\n",
       "      <td>s2</td>\n",
       "      <td>TV Show</td>\n",
       "      <td>Blood &amp; Water</td>\n",
       "      <td>NaN</td>\n",
       "      <td>Ama Qamata, Khosi Ngema, Gail Mabalane, Thaban...</td>\n",
       "      <td>South Africa</td>\n",
       "      <td>September 24, 2021</td>\n",
       "      <td>2021</td>\n",
       "      <td>TV-MA</td>\n",
       "      <td>2 Seasons</td>\n",
       "      <td>International TV Shows, TV Dramas, TV Mysteries</td>\n",
       "      <td>After crossing paths at a party, a Cape Town t...</td>\n",
       "    </tr>\n",
       "    <tr>\n",
       "      <th>2</th>\n",
       "      <td>s3</td>\n",
       "      <td>TV Show</td>\n",
       "      <td>Ganglands</td>\n",
       "      <td>Julien Leclercq</td>\n",
       "      <td>Sami Bouajila, Tracy Gotoas, Samuel Jouy, Nabi...</td>\n",
       "      <td>NaN</td>\n",
       "      <td>September 24, 2021</td>\n",
       "      <td>2021</td>\n",
       "      <td>TV-MA</td>\n",
       "      <td>1 Season</td>\n",
       "      <td>Crime TV Shows, International TV Shows, TV Act...</td>\n",
       "      <td>To protect his family from a powerful drug lor...</td>\n",
       "    </tr>\n",
       "  </tbody>\n",
       "</table>\n",
       "</div>"
      ],
      "text/plain": [
       "  show_id     type                 title         director  \\\n",
       "0      s1    Movie  Dick Johnson Is Dead  Kirsten Johnson   \n",
       "1      s2  TV Show         Blood & Water              NaN   \n",
       "2      s3  TV Show             Ganglands  Julien Leclercq   \n",
       "\n",
       "                                                cast        country  \\\n",
       "0                                                NaN  United States   \n",
       "1  Ama Qamata, Khosi Ngema, Gail Mabalane, Thaban...   South Africa   \n",
       "2  Sami Bouajila, Tracy Gotoas, Samuel Jouy, Nabi...            NaN   \n",
       "\n",
       "           date_added  release_year rating   duration  \\\n",
       "0  September 25, 2021          2020  PG-13     90 min   \n",
       "1  September 24, 2021          2021  TV-MA  2 Seasons   \n",
       "2  September 24, 2021          2021  TV-MA   1 Season   \n",
       "\n",
       "                                           listed_in  \\\n",
       "0                                      Documentaries   \n",
       "1    International TV Shows, TV Dramas, TV Mysteries   \n",
       "2  Crime TV Shows, International TV Shows, TV Act...   \n",
       "\n",
       "                                         description  \n",
       "0  As her father nears the end of his life, filmm...  \n",
       "1  After crossing paths at a party, a Cape Town t...  \n",
       "2  To protect his family from a powerful drug lor...  "
      ]
     },
     "execution_count": 4,
     "metadata": {},
     "output_type": "execute_result"
    }
   ],
   "source": [
    "netflix_df.head(3)"
   ]
  },
  {
   "cell_type": "code",
   "execution_count": 5,
   "id": "51b1036e-6647-4b81-b884-de7be34de799",
   "metadata": {},
   "outputs": [
    {
     "data": {
      "text/plain": [
       "Index(['show_id', 'type', 'title', 'director', 'cast', 'country', 'date_added',\n",
       "       'release_year', 'rating', 'duration', 'listed_in', 'description'],\n",
       "      dtype='object')"
      ]
     },
     "execution_count": 5,
     "metadata": {},
     "output_type": "execute_result"
    }
   ],
   "source": [
    "netflix_df.columns"
   ]
  },
  {
   "cell_type": "code",
   "execution_count": 6,
   "id": "12019ee4-e45a-47a4-b0c3-a6e8c56e4abc",
   "metadata": {},
   "outputs": [
    {
     "data": {
      "text/html": [
       "<div>\n",
       "<style scoped>\n",
       "    .dataframe tbody tr th:only-of-type {\n",
       "        vertical-align: middle;\n",
       "    }\n",
       "\n",
       "    .dataframe tbody tr th {\n",
       "        vertical-align: top;\n",
       "    }\n",
       "\n",
       "    .dataframe thead th {\n",
       "        text-align: right;\n",
       "    }\n",
       "</style>\n",
       "<table border=\"1\" class=\"dataframe\">\n",
       "  <thead>\n",
       "    <tr style=\"text-align: right;\">\n",
       "      <th></th>\n",
       "      <th>show_id</th>\n",
       "      <th>type</th>\n",
       "      <th>title</th>\n",
       "      <th>director</th>\n",
       "      <th>cast</th>\n",
       "      <th>country</th>\n",
       "      <th>date_added</th>\n",
       "      <th>release_year</th>\n",
       "      <th>rating</th>\n",
       "      <th>duration</th>\n",
       "      <th>listed_in</th>\n",
       "      <th>description</th>\n",
       "    </tr>\n",
       "  </thead>\n",
       "  <tbody>\n",
       "    <tr>\n",
       "      <th>8804</th>\n",
       "      <td>s8805</td>\n",
       "      <td>Movie</td>\n",
       "      <td>Zombieland</td>\n",
       "      <td>Ruben Fleischer</td>\n",
       "      <td>Jesse Eisenberg, Woody Harrelson, Emma Stone, ...</td>\n",
       "      <td>United States</td>\n",
       "      <td>November 1, 2019</td>\n",
       "      <td>2009</td>\n",
       "      <td>R</td>\n",
       "      <td>88 min</td>\n",
       "      <td>Comedies, Horror Movies</td>\n",
       "      <td>Looking to survive in a world taken over by zo...</td>\n",
       "    </tr>\n",
       "    <tr>\n",
       "      <th>8805</th>\n",
       "      <td>s8806</td>\n",
       "      <td>Movie</td>\n",
       "      <td>Zoom</td>\n",
       "      <td>Peter Hewitt</td>\n",
       "      <td>Tim Allen, Courteney Cox, Chevy Chase, Kate Ma...</td>\n",
       "      <td>United States</td>\n",
       "      <td>January 11, 2020</td>\n",
       "      <td>2006</td>\n",
       "      <td>PG</td>\n",
       "      <td>88 min</td>\n",
       "      <td>Children &amp; Family Movies, Comedies</td>\n",
       "      <td>Dragged from civilian life, a former superhero...</td>\n",
       "    </tr>\n",
       "    <tr>\n",
       "      <th>8806</th>\n",
       "      <td>s8807</td>\n",
       "      <td>Movie</td>\n",
       "      <td>Zubaan</td>\n",
       "      <td>Mozez Singh</td>\n",
       "      <td>Vicky Kaushal, Sarah-Jane Dias, Raaghav Chanan...</td>\n",
       "      <td>India</td>\n",
       "      <td>March 2, 2019</td>\n",
       "      <td>2015</td>\n",
       "      <td>TV-14</td>\n",
       "      <td>111 min</td>\n",
       "      <td>Dramas, International Movies, Music &amp; Musicals</td>\n",
       "      <td>A scrappy but poor boy worms his way into a ty...</td>\n",
       "    </tr>\n",
       "  </tbody>\n",
       "</table>\n",
       "</div>"
      ],
      "text/plain": [
       "     show_id   type       title         director  \\\n",
       "8804   s8805  Movie  Zombieland  Ruben Fleischer   \n",
       "8805   s8806  Movie        Zoom     Peter Hewitt   \n",
       "8806   s8807  Movie      Zubaan      Mozez Singh   \n",
       "\n",
       "                                                   cast        country  \\\n",
       "8804  Jesse Eisenberg, Woody Harrelson, Emma Stone, ...  United States   \n",
       "8805  Tim Allen, Courteney Cox, Chevy Chase, Kate Ma...  United States   \n",
       "8806  Vicky Kaushal, Sarah-Jane Dias, Raaghav Chanan...          India   \n",
       "\n",
       "            date_added  release_year rating duration  \\\n",
       "8804  November 1, 2019          2009      R   88 min   \n",
       "8805  January 11, 2020          2006     PG   88 min   \n",
       "8806     March 2, 2019          2015  TV-14  111 min   \n",
       "\n",
       "                                           listed_in  \\\n",
       "8804                         Comedies, Horror Movies   \n",
       "8805              Children & Family Movies, Comedies   \n",
       "8806  Dramas, International Movies, Music & Musicals   \n",
       "\n",
       "                                            description  \n",
       "8804  Looking to survive in a world taken over by zo...  \n",
       "8805  Dragged from civilian life, a former superhero...  \n",
       "8806  A scrappy but poor boy worms his way into a ty...  "
      ]
     },
     "execution_count": 6,
     "metadata": {},
     "output_type": "execute_result"
    }
   ],
   "source": [
    "netflix_df.tail(3)"
   ]
  },
  {
   "cell_type": "code",
   "execution_count": 7,
   "id": "c80e1cbb-2773-4d95-8deb-9f81cd6993d4",
   "metadata": {},
   "outputs": [
    {
     "data": {
      "text/plain": [
       "(8807, 12)"
      ]
     },
     "execution_count": 7,
     "metadata": {},
     "output_type": "execute_result"
    }
   ],
   "source": [
    "netflix_df.shape"
   ]
  },
  {
   "cell_type": "code",
   "execution_count": 8,
   "id": "3683ba9d-3c76-4183-a6b8-95e0685aa40a",
   "metadata": {},
   "outputs": [
    {
     "name": "stdout",
     "output_type": "stream",
     "text": [
      "<class 'pandas.core.frame.DataFrame'>\n",
      "RangeIndex: 8807 entries, 0 to 8806\n",
      "Data columns (total 12 columns):\n",
      " #   Column        Non-Null Count  Dtype \n",
      "---  ------        --------------  ----- \n",
      " 0   show_id       8807 non-null   object\n",
      " 1   type          8807 non-null   object\n",
      " 2   title         8807 non-null   object\n",
      " 3   director      6173 non-null   object\n",
      " 4   cast          7982 non-null   object\n",
      " 5   country       7976 non-null   object\n",
      " 6   date_added    8797 non-null   object\n",
      " 7   release_year  8807 non-null   int64 \n",
      " 8   rating        8803 non-null   object\n",
      " 9   duration      8804 non-null   object\n",
      " 10  listed_in     8807 non-null   object\n",
      " 11  description   8807 non-null   object\n",
      "dtypes: int64(1), object(11)\n",
      "memory usage: 825.8+ KB\n"
     ]
    }
   ],
   "source": [
    "netflix_df.info()"
   ]
  },
  {
   "cell_type": "code",
   "execution_count": 10,
   "id": "c26e7462-0389-4362-b169-fc9041270d4a",
   "metadata": {},
   "outputs": [
    {
     "data": {
      "text/plain": [
       "type\n",
       "Movie      6131\n",
       "TV Show    2676\n",
       "Name: count, dtype: int64"
      ]
     },
     "execution_count": 10,
     "metadata": {},
     "output_type": "execute_result"
    }
   ],
   "source": [
    "netflix_df['type'].value_counts()"
   ]
  },
  {
   "cell_type": "code",
   "execution_count": 11,
   "id": "454b34c0-9f9c-4397-91b7-0ad42acad2e5",
   "metadata": {},
   "outputs": [
    {
     "data": {
      "text/plain": [
       "RangeIndex(start=0, stop=8807, step=1)"
      ]
     },
     "execution_count": 11,
     "metadata": {},
     "output_type": "execute_result"
    }
   ],
   "source": [
    "netflix_df.index"
   ]
  },
  {
   "cell_type": "code",
   "execution_count": 12,
   "id": "c1ec18f0-9197-404d-b0cd-c2e8a3fa4d39",
   "metadata": {},
   "outputs": [
    {
     "data": {
      "text/html": [
       "<div>\n",
       "<style scoped>\n",
       "    .dataframe tbody tr th:only-of-type {\n",
       "        vertical-align: middle;\n",
       "    }\n",
       "\n",
       "    .dataframe tbody tr th {\n",
       "        vertical-align: top;\n",
       "    }\n",
       "\n",
       "    .dataframe thead th {\n",
       "        text-align: right;\n",
       "    }\n",
       "</style>\n",
       "<table border=\"1\" class=\"dataframe\">\n",
       "  <thead>\n",
       "    <tr style=\"text-align: right;\">\n",
       "      <th></th>\n",
       "      <th>title</th>\n",
       "      <th>release_year</th>\n",
       "      <th>rating</th>\n",
       "    </tr>\n",
       "  </thead>\n",
       "  <tbody>\n",
       "    <tr>\n",
       "      <th>0</th>\n",
       "      <td>Dick Johnson Is Dead</td>\n",
       "      <td>2020</td>\n",
       "      <td>PG-13</td>\n",
       "    </tr>\n",
       "    <tr>\n",
       "      <th>1</th>\n",
       "      <td>Blood &amp; Water</td>\n",
       "      <td>2021</td>\n",
       "      <td>TV-MA</td>\n",
       "    </tr>\n",
       "    <tr>\n",
       "      <th>2</th>\n",
       "      <td>Ganglands</td>\n",
       "      <td>2021</td>\n",
       "      <td>TV-MA</td>\n",
       "    </tr>\n",
       "    <tr>\n",
       "      <th>3</th>\n",
       "      <td>Jailbirds New Orleans</td>\n",
       "      <td>2021</td>\n",
       "      <td>TV-MA</td>\n",
       "    </tr>\n",
       "    <tr>\n",
       "      <th>4</th>\n",
       "      <td>Kota Factory</td>\n",
       "      <td>2021</td>\n",
       "      <td>TV-MA</td>\n",
       "    </tr>\n",
       "    <tr>\n",
       "      <th>...</th>\n",
       "      <td>...</td>\n",
       "      <td>...</td>\n",
       "      <td>...</td>\n",
       "    </tr>\n",
       "    <tr>\n",
       "      <th>8802</th>\n",
       "      <td>Zodiac</td>\n",
       "      <td>2007</td>\n",
       "      <td>R</td>\n",
       "    </tr>\n",
       "    <tr>\n",
       "      <th>8803</th>\n",
       "      <td>Zombie Dumb</td>\n",
       "      <td>2018</td>\n",
       "      <td>TV-Y7</td>\n",
       "    </tr>\n",
       "    <tr>\n",
       "      <th>8804</th>\n",
       "      <td>Zombieland</td>\n",
       "      <td>2009</td>\n",
       "      <td>R</td>\n",
       "    </tr>\n",
       "    <tr>\n",
       "      <th>8805</th>\n",
       "      <td>Zoom</td>\n",
       "      <td>2006</td>\n",
       "      <td>PG</td>\n",
       "    </tr>\n",
       "    <tr>\n",
       "      <th>8806</th>\n",
       "      <td>Zubaan</td>\n",
       "      <td>2015</td>\n",
       "      <td>TV-14</td>\n",
       "    </tr>\n",
       "  </tbody>\n",
       "</table>\n",
       "<p>8807 rows × 3 columns</p>\n",
       "</div>"
      ],
      "text/plain": [
       "                      title  release_year rating\n",
       "0      Dick Johnson Is Dead          2020  PG-13\n",
       "1             Blood & Water          2021  TV-MA\n",
       "2                 Ganglands          2021  TV-MA\n",
       "3     Jailbirds New Orleans          2021  TV-MA\n",
       "4              Kota Factory          2021  TV-MA\n",
       "...                     ...           ...    ...\n",
       "8802                 Zodiac          2007      R\n",
       "8803            Zombie Dumb          2018  TV-Y7\n",
       "8804             Zombieland          2009      R\n",
       "8805                   Zoom          2006     PG\n",
       "8806                 Zubaan          2015  TV-14\n",
       "\n",
       "[8807 rows x 3 columns]"
      ]
     },
     "execution_count": 12,
     "metadata": {},
     "output_type": "execute_result"
    }
   ],
   "source": [
    "netflix_df[['title','release_year','rating']]"
   ]
  },
  {
   "cell_type": "code",
   "execution_count": 14,
   "id": "ca2f8e68-5089-4401-9341-66d20c0fcf54",
   "metadata": {},
   "outputs": [
    {
     "data": {
      "text/plain": [
       "(8807,)"
      ]
     },
     "execution_count": 14,
     "metadata": {},
     "output_type": "execute_result"
    }
   ],
   "source": [
    "netflix_df['rating'].shape"
   ]
  },
  {
   "cell_type": "code",
   "execution_count": 17,
   "id": "d2eedbd7-aa25-4863-bf9c-b6d1a50113b6",
   "metadata": {},
   "outputs": [
    {
     "data": {
      "text/plain": [
       "array(['PG-13', 'TV-MA', 'PG', 'TV-14', 'TV-PG', 'TV-Y', 'TV-Y7', 'R',\n",
       "       'TV-G', 'G', 'NC-17', '74 min', '84 min', '66 min', 'NR', nan,\n",
       "       'TV-Y7-FV', 'UR'], dtype=object)"
      ]
     },
     "execution_count": 17,
     "metadata": {},
     "output_type": "execute_result"
    }
   ],
   "source": [
    "netflix_df['rating'].unique()"
   ]
  },
  {
   "cell_type": "code",
   "execution_count": 20,
   "id": "79d743e1-e7d8-4f6b-a30f-3a2c97543162",
   "metadata": {},
   "outputs": [
    {
     "data": {
      "text/plain": [
       "0       False\n",
       "1       False\n",
       "2       False\n",
       "3       False\n",
       "4       False\n",
       "        ...  \n",
       "8802    False\n",
       "8803    False\n",
       "8804    False\n",
       "8805    False\n",
       "8806    False\n",
       "Name: rating, Length: 8807, dtype: bool"
      ]
     },
     "execution_count": 20,
     "metadata": {},
     "output_type": "execute_result"
    }
   ],
   "source": [
    "netflix_df['rating'].isnull()"
   ]
  },
  {
   "cell_type": "code",
   "execution_count": 21,
   "id": "cefd6089-000d-4bb2-b291-e59dc2520fd2",
   "metadata": {},
   "outputs": [
    {
     "data": {
      "text/plain": [
       "0       PG-13\n",
       "1       TV-MA\n",
       "2       TV-MA\n",
       "3       TV-MA\n",
       "4       TV-MA\n",
       "        ...  \n",
       "8802        R\n",
       "8803    TV-Y7\n",
       "8804        R\n",
       "8805       PG\n",
       "8806    TV-14\n",
       "Name: rating, Length: 8807, dtype: object"
      ]
     },
     "execution_count": 21,
     "metadata": {},
     "output_type": "execute_result"
    }
   ],
   "source": [
    "netflix_df['rating'].fillna('TV-14')"
   ]
  },
  {
   "cell_type": "code",
   "execution_count": 22,
   "id": "c581aaa5-0029-4a7e-9183-81b168b18d57",
   "metadata": {},
   "outputs": [
    {
     "data": {
      "text/plain": [
       "<bound method IndexOpsMixin.nunique of 0       PG-13\n",
       "1       TV-MA\n",
       "2       TV-MA\n",
       "3       TV-MA\n",
       "4       TV-MA\n",
       "        ...  \n",
       "8802        R\n",
       "8803    TV-Y7\n",
       "8804        R\n",
       "8805       PG\n",
       "8806    TV-14\n",
       "Name: rating, Length: 8807, dtype: object>"
      ]
     },
     "execution_count": 22,
     "metadata": {},
     "output_type": "execute_result"
    }
   ],
   "source": [
    "netflix_df['rating'].nunique"
   ]
  },
  {
   "cell_type": "code",
   "execution_count": 24,
   "id": "27e3ad84-bc9d-4e97-955c-f233f6eda2db",
   "metadata": {},
   "outputs": [
    {
     "data": {
      "text/plain": [
       "type\n",
       "Movie      6131\n",
       "TV Show    2676\n",
       "Name: count, dtype: int64"
      ]
     },
     "execution_count": 24,
     "metadata": {},
     "output_type": "execute_result"
    }
   ],
   "source": [
    "netflix_df['type'].value_counts()"
   ]
  },
  {
   "cell_type": "markdown",
   "id": "dd3448d6-c7a8-47ba-a26c-5174ab9a2f8f",
   "metadata": {},
   "source": [
    "##  Top 10 most common genres on Netflix"
   ]
  },
  {
   "cell_type": "code",
   "execution_count": 28,
   "id": "a05b2a26-eda6-4036-b573-4d3e9a5032bd",
   "metadata": {},
   "outputs": [
    {
     "data": {
      "text/plain": [
       "listed_in\n",
       " International Movies     2624\n",
       "Dramas                    1600\n",
       "Comedies                  1210\n",
       "Action & Adventure         859\n",
       "Documentaries              829\n",
       " Dramas                    827\n",
       "International TV Shows     774\n",
       " Independent Movies        736\n",
       " TV Dramas                 696\n",
       " Romantic Movies           613\n",
       "Name: count, dtype: int64"
      ]
     },
     "execution_count": 28,
     "metadata": {},
     "output_type": "execute_result"
    }
   ],
   "source": [
    "netflix_df['listed_in'].str.split(',').explode().value_counts().head(10)"
   ]
  },
  {
   "cell_type": "markdown",
   "id": "9d9c8fb7-bd31-4c83-bcf6-e8784f41668c",
   "metadata": {},
   "source": [
    "## the top 10 countries producing content on Netflix?"
   ]
  },
  {
   "cell_type": "code",
   "execution_count": 31,
   "id": "8beb081e-7759-4c0d-9b0e-5e20b0b9afa3",
   "metadata": {},
   "outputs": [
    {
     "data": {
      "text/plain": [
       "country\n",
       "United States     3211\n",
       "India             1008\n",
       "United Kingdom     628\n",
       " United States     479\n",
       "Canada             271\n",
       "Japan              259\n",
       "France             212\n",
       "South Korea        211\n",
       " France            181\n",
       "Spain              181\n",
       "Name: count, dtype: int64"
      ]
     },
     "execution_count": 31,
     "metadata": {},
     "output_type": "execute_result"
    }
   ],
   "source": [
    "netflix_df['country'].dropna().str.split(',').explode().value_counts().head(10)"
   ]
  },
  {
   "cell_type": "code",
   "execution_count": 32,
   "id": "9680dc01-dcd0-4031-af3f-daeb2df49d95",
   "metadata": {},
   "outputs": [
    {
     "data": {
      "text/plain": [
       "country\n",
       "United States     3211\n",
       "India             1008\n",
       "United Kingdom     628\n",
       " United States     479\n",
       "Canada             271\n",
       "Japan              259\n",
       "France             212\n",
       "South Korea        211\n",
       " France            181\n",
       "Spain              181\n",
       "Name: count, dtype: int64"
      ]
     },
     "execution_count": 32,
     "metadata": {},
     "output_type": "execute_result"
    }
   ],
   "source": [
    "netflix_df['country'].str.split(',').explode().value_counts().head(10)"
   ]
  },
  {
   "cell_type": "markdown",
   "id": "586304a1-bc32-4c0f-be7b-1a620a151901",
   "metadata": {},
   "source": [
    "## the distribution of content ratings?"
   ]
  },
  {
   "cell_type": "code",
   "execution_count": 33,
   "id": "2e01382f-a2d9-425c-8224-38b5ccf7c8d8",
   "metadata": {},
   "outputs": [
    {
     "data": {
      "text/plain": [
       "rating\n",
       "TV-MA       3207\n",
       "TV-14       2160\n",
       "TV-PG        863\n",
       "R            799\n",
       "PG-13        490\n",
       "TV-Y7        334\n",
       "TV-Y         307\n",
       "PG           287\n",
       "TV-G         220\n",
       "NR            80\n",
       "G             41\n",
       "TV-Y7-FV       6\n",
       "NC-17          3\n",
       "UR             3\n",
       "74 min         1\n",
       "84 min         1\n",
       "66 min         1\n",
       "Name: count, dtype: int64"
      ]
     },
     "execution_count": 33,
     "metadata": {},
     "output_type": "execute_result"
    }
   ],
   "source": [
    "netflix_df['rating'].value_counts()"
   ]
  },
  {
   "cell_type": "code",
   "execution_count": 34,
   "id": "35d03713-5de8-4bf6-90ad-be61268a72e5",
   "metadata": {},
   "outputs": [
    {
     "data": {
      "text/plain": [
       "<Axes: title={'center': ' Content rating distribution'}, xlabel='rating'>"
      ]
     },
     "execution_count": 34,
     "metadata": {},
     "output_type": "execute_result"
    },
    {
     "data": {
      "image/png": "[encoded data removed]",
      "text/plain": [
       "<Figure size 640x480 with 1 Axes>"
      ]
     },
     "metadata": {},
     "output_type": "display_data"
    }
   ],
   "source": [
    "netflix_df['rating'].value_counts().plot(kind='bar', title=' Content rating distribution')"
   ]
  },
  {
   "cell_type": "markdown",
   "id": "9be1ebb8-49a3-4f31-96aa-7e373e09d216",
   "metadata": {},
   "source": [
    "## Which years had the most content released?"
   ]
  },
  {
   "cell_type": "code",
   "execution_count": 40,
   "id": "a70e9b6d-2dc6-4324-94de-19b59988a8ee",
   "metadata": {},
   "outputs": [
    {
     "data": {
      "text/plain": [
       "<Axes: title={'center': 'most content release'}, xlabel='release_year'>"
      ]
     },
     "execution_count": 40,
     "metadata": {},
     "output_type": "execute_result"
    },
    {
     "data": {
      "image/png": "[encoded data removed]",
      "text/plain": [
       "<Figure size 1200x1200 with 1 Axes>"
      ]
     },
     "metadata": {},
     "output_type": "display_data"
    }
   ],
   "source": [
    "netflix_df['release_year'].value_counts().sort_index().plot(kind='bar', title= 'most content release', figsize= (12,12))"
   ]
  },
  {
   "cell_type": "markdown",
   "id": "17d8d152-4a58-4c3d-8346-01c47ee1b676",
   "metadata": {},
   "source": [
    "## How many shows/movies were added per year?"
   ]
  },
  {
   "cell_type": "code",
   "execution_count": 49,
   "id": "d50fda01-2b14-4500-b926-e7addebd4211",
   "metadata": {},
   "outputs": [
    {
     "data": {
      "text/plain": [
       "<Axes: title={'center': 'Content Added Per Year'}, xlabel='year_added'>"
      ]
     },
     "execution_count": 49,
     "metadata": {},
     "output_type": "execute_result"
    },
    {
     "data": {
      "image/png": "[encoded data removed]",
      "text/plain": [
       "<Figure size 640x480 with 1 Axes>"
      ]
     },
     "metadata": {},
     "output_type": "display_data"
    }
   ],
   "source": [
    "netflix_df['date_added'] = pd.to_datetime(netflix_df['date_added'].str.strip(), errors='coerce')\n",
    "netflix_df['year_added'] = netflix_df['date_added'].dt.year\n",
    "\n",
    "netflix_df['year_added'].value_counts().sort_index().plot(kind='bar', title='Content Added Per Year')\n"
   ]
  },
  {
   "cell_type": "code",
   "execution_count": 43,
   "id": "a276a96f-9529-4456-89e1-484ebd3ae8a2",
   "metadata": {},
   "outputs": [
    {
     "data": {
      "text/plain": [
       "Index(['show_id', 'type', 'title', 'director', 'cast', 'country', 'date_added',\n",
       "       'release_year', 'rating', 'duration', 'listed_in', 'description'],\n",
       "      dtype='object')"
      ]
     },
     "execution_count": 43,
     "metadata": {},
     "output_type": "execute_result"
    }
   ],
   "source": [
    "netflix_df.columns"
   ]
  },
  {
   "cell_type": "code",
   "execution_count": 48,
   "id": "102d55d5-45fe-41e7-b77f-6c7040fb171b",
   "metadata": {},
   "outputs": [
    {
     "data": {
      "text/plain": [
       "0       September 25, 2021\n",
       "1       September 24, 2021\n",
       "2       September 24, 2021\n",
       "3       September 24, 2021\n",
       "4       September 24, 2021\n",
       "               ...        \n",
       "8802     November 20, 2019\n",
       "8803          July 1, 2019\n",
       "8804      November 1, 2019\n",
       "8805      January 11, 2020\n",
       "8806         March 2, 2019\n",
       "Name: date_added, Length: 8807, dtype: object"
      ]
     },
     "execution_count": 48,
     "metadata": {},
     "output_type": "execute_result"
    }
   ],
   "source": [
    "netflix_df['date_added']"
   ]
  },
  {
   "cell_type": "markdown",
   "id": "b8e9af72-5614-4018-913c-1ed429249432",
   "metadata": {},
   "source": [
    "## Show count of content type per year"
   ]
  },
  {
   "cell_type": "code",
   "execution_count": 50,
   "id": "0ef9f580-756e-4f5c-a948-9013066fdd86",
   "metadata": {},
   "outputs": [
    {
     "data": {
      "text/plain": [
       "<Axes: xlabel='release_year'>"
      ]
     },
     "execution_count": 50,
     "metadata": {},
     "output_type": "execute_result"
    },
    {
     "data": {
      "image/png": "[encoded data removed]",
      "text/plain": [
       "<Figure size 1200x1200 with 1 Axes>"
      ]
     },
     "metadata": {},
     "output_type": "display_data"
    }
   ],
   "source": [
    "netflix_df.groupby(['release_year', 'type']).size().unstack().fillna(0).plot(kind='bar', stacked= True, figsize= (12,12))"
   ]
  },
  {
   "cell_type": "markdown",
   "id": "99a441e7-1223-4bd4-986b-dc84fe5e64f6",
   "metadata": {},
   "source": [
    "## What is the average duration of movies?"
   ]
  },
  {
   "cell_type": "code",
   "execution_count": 53,
   "id": "e732370b-5631-4506-b6cc-702036e5ca72",
   "metadata": {},
   "outputs": [],
   "source": [
    "movies= netflix_df[netflix_df['type'] == 'Movie'].copy()\n",
    "movies['duration_mins']= movies['duration'].str.replace('min', '').astype(float)"
   ]
  },
  {
   "cell_type": "code",
   "execution_count": 55,
   "id": "af622605-f149-40e1-b7dd-2ed5f05c931f",
   "metadata": {},
   "outputs": [
    {
     "data": {
      "text/plain": [
       "np.float64(99.57718668407311)"
      ]
     },
     "execution_count": 55,
     "metadata": {},
     "output_type": "execute_result"
    }
   ],
   "source": [
    "movies['duration_mins'].mean()"
   ]
  },
  {
   "cell_type": "markdown",
   "id": "089fbe16-0edd-4cc2-b0f7-53d2ce139a0d",
   "metadata": {},
   "source": [
    "##  Which directors have the most content on Netflix?"
   ]
  },
  {
   "cell_type": "code",
   "execution_count": 56,
   "id": "716dfdb6-a3b7-412b-bdd7-4acc8a8d676c",
   "metadata": {},
   "outputs": [
    {
     "data": {
      "text/plain": [
       "director\n",
       "Rajiv Chilaka             19\n",
       "Raúl Campos, Jan Suter    18\n",
       "Suhas Kadav               16\n",
       "Marcus Raboy              16\n",
       "Jay Karas                 14\n",
       "Cathy Garcia-Molina       13\n",
       "Martin Scorsese           12\n",
       "Youssef Chahine           12\n",
       "Jay Chapman               12\n",
       "Steven Spielberg          11\n",
       "Name: count, dtype: int64"
      ]
     },
     "execution_count": 56,
     "metadata": {},
     "output_type": "execute_result"
    }
   ],
   "source": [
    "netflix_df['director'].dropna().value_counts().head(10)"
   ]
  },
  {
   "cell_type": "markdown",
   "id": "869889d4-e9f3-40ea-99bf-80673a76faa4",
   "metadata": {},
   "source": [
    "## Find all Indian Movies released after 2018"
   ]
  },
  {
   "cell_type": "code",
   "execution_count": 58,
   "id": "4bfdb7c2-b45a-4c46-8dfa-2714e5b63c5c",
   "metadata": {},
   "outputs": [
    {
     "data": {
      "text/html": [
       "<div>\n",
       "<style scoped>\n",
       "    .dataframe tbody tr th:only-of-type {\n",
       "        vertical-align: middle;\n",
       "    }\n",
       "\n",
       "    .dataframe tbody tr th {\n",
       "        vertical-align: top;\n",
       "    }\n",
       "\n",
       "    .dataframe thead th {\n",
       "        text-align: right;\n",
       "    }\n",
       "</style>\n",
       "<table border=\"1\" class=\"dataframe\">\n",
       "  <thead>\n",
       "    <tr style=\"text-align: right;\">\n",
       "      <th></th>\n",
       "      <th>show_id</th>\n",
       "      <th>type</th>\n",
       "      <th>title</th>\n",
       "      <th>director</th>\n",
       "      <th>cast</th>\n",
       "      <th>country</th>\n",
       "      <th>date_added</th>\n",
       "      <th>release_year</th>\n",
       "      <th>rating</th>\n",
       "      <th>duration</th>\n",
       "      <th>listed_in</th>\n",
       "      <th>description</th>\n",
       "      <th>year_added</th>\n",
       "    </tr>\n",
       "  </thead>\n",
       "  <tbody>\n",
       "    <tr>\n",
       "      <th>126</th>\n",
       "      <td>s127</td>\n",
       "      <td>Movie</td>\n",
       "      <td>Shikara</td>\n",
       "      <td>Vidhu Vinod Chopra</td>\n",
       "      <td>Aadil Khan, Sadia Khateeb, Zain Khan Durrani, ...</td>\n",
       "      <td>India</td>\n",
       "      <td>2021-09-02</td>\n",
       "      <td>2020</td>\n",
       "      <td>TV-14</td>\n",
       "      <td>115 min</td>\n",
       "      <td>Dramas, International Movies, Romantic Movies</td>\n",
       "      <td>A couple must strive to remain resilient after...</td>\n",
       "      <td>2021.0</td>\n",
       "    </tr>\n",
       "    <tr>\n",
       "      <th>190</th>\n",
       "      <td>s191</td>\n",
       "      <td>Movie</td>\n",
       "      <td>Thimmarusu</td>\n",
       "      <td>Sharan Koppisetty</td>\n",
       "      <td>Satya Dev, Priyanka Jawalkar, Brahmaji</td>\n",
       "      <td>India</td>\n",
       "      <td>2021-08-28</td>\n",
       "      <td>2021</td>\n",
       "      <td>TV-14</td>\n",
       "      <td>125 min</td>\n",
       "      <td>Dramas, International Movies</td>\n",
       "      <td>Eight years after a young man is framed for mu...</td>\n",
       "      <td>2021.0</td>\n",
       "    </tr>\n",
       "    <tr>\n",
       "      <th>518</th>\n",
       "      <td>s519</td>\n",
       "      <td>Movie</td>\n",
       "      <td>Har Kisse Ke Hisse: Kaamyaab</td>\n",
       "      <td>Hardik Mehta</td>\n",
       "      <td>Sanjay Mishra, Deepak Dobriyal, Sarika Singh, ...</td>\n",
       "      <td>India</td>\n",
       "      <td>2021-07-06</td>\n",
       "      <td>2020</td>\n",
       "      <td>TV-14</td>\n",
       "      <td>105 min</td>\n",
       "      <td>Dramas, International Movies</td>\n",
       "      <td>After a career of thankless credits, a retired...</td>\n",
       "      <td>2021.0</td>\n",
       "    </tr>\n",
       "    <tr>\n",
       "      <th>551</th>\n",
       "      <td>s552</td>\n",
       "      <td>Movie</td>\n",
       "      <td>Haseen Dillruba</td>\n",
       "      <td>Vinil Mathew</td>\n",
       "      <td>Taapsee Pannu, Vikrant Massey, Harshvardhan Ra...</td>\n",
       "      <td>India</td>\n",
       "      <td>2021-07-02</td>\n",
       "      <td>2021</td>\n",
       "      <td>TV-MA</td>\n",
       "      <td>136 min</td>\n",
       "      <td>International Movies, Romantic Movies, Thrillers</td>\n",
       "      <td>Under investigation as a suspect in her husban...</td>\n",
       "      <td>2021.0</td>\n",
       "    </tr>\n",
       "    <tr>\n",
       "      <th>735</th>\n",
       "      <td>s736</td>\n",
       "      <td>Movie</td>\n",
       "      <td>Sarbath</td>\n",
       "      <td>Prabhakaran</td>\n",
       "      <td>Kathir, Soori, Rahasya Gorak, Ashvatt</td>\n",
       "      <td>India</td>\n",
       "      <td>2021-06-11</td>\n",
       "      <td>2021</td>\n",
       "      <td>TV-PG</td>\n",
       "      <td>113 min</td>\n",
       "      <td>Comedies, Dramas, International Movies</td>\n",
       "      <td>When a city man returns to his native village ...</td>\n",
       "      <td>2021.0</td>\n",
       "    </tr>\n",
       "    <tr>\n",
       "      <th>...</th>\n",
       "      <td>...</td>\n",
       "      <td>...</td>\n",
       "      <td>...</td>\n",
       "      <td>...</td>\n",
       "      <td>...</td>\n",
       "      <td>...</td>\n",
       "      <td>...</td>\n",
       "      <td>...</td>\n",
       "      <td>...</td>\n",
       "      <td>...</td>\n",
       "      <td>...</td>\n",
       "      <td>...</td>\n",
       "      <td>...</td>\n",
       "    </tr>\n",
       "    <tr>\n",
       "      <th>5961</th>\n",
       "      <td>s5962</td>\n",
       "      <td>Movie</td>\n",
       "      <td>706</td>\n",
       "      <td>Shravan Kumar</td>\n",
       "      <td>Divya Dutta, Atul Kulkarni, Mohan Agashe, Anup...</td>\n",
       "      <td>India</td>\n",
       "      <td>2019-04-01</td>\n",
       "      <td>2019</td>\n",
       "      <td>TV-14</td>\n",
       "      <td>118 min</td>\n",
       "      <td>Horror Movies, International Movies</td>\n",
       "      <td>When a doctor goes missing, his psychiatrist w...</td>\n",
       "      <td>2019.0</td>\n",
       "    </tr>\n",
       "    <tr>\n",
       "      <th>5966</th>\n",
       "      <td>s5967</td>\n",
       "      <td>Movie</td>\n",
       "      <td>15-Aug</td>\n",
       "      <td>Swapnaneel Jayakar</td>\n",
       "      <td>Rahul Pethe, Mrunmayee Deshpande, Adinath Koth...</td>\n",
       "      <td>India</td>\n",
       "      <td>2019-03-29</td>\n",
       "      <td>2019</td>\n",
       "      <td>TV-14</td>\n",
       "      <td>124 min</td>\n",
       "      <td>Comedies, Dramas, Independent Movies</td>\n",
       "      <td>On India's Independence Day, a zany mishap in ...</td>\n",
       "      <td>2019.0</td>\n",
       "    </tr>\n",
       "    <tr>\n",
       "      <th>6464</th>\n",
       "      <td>s6465</td>\n",
       "      <td>Movie</td>\n",
       "      <td>Chhota Bheem Kungfu Dhamaka</td>\n",
       "      <td>Rajiv Chilaka, Binayak Das</td>\n",
       "      <td>Sonal Kaushal, Rupa Bhimani, Jigna Bharadhwaj,...</td>\n",
       "      <td>India</td>\n",
       "      <td>2019-08-15</td>\n",
       "      <td>2019</td>\n",
       "      <td>TV-Y7</td>\n",
       "      <td>112 min</td>\n",
       "      <td>Children &amp; Family Movies</td>\n",
       "      <td>Chhota Bheem is in China for a martial arts co...</td>\n",
       "      <td>2019.0</td>\n",
       "    </tr>\n",
       "    <tr>\n",
       "      <th>7595</th>\n",
       "      <td>s7596</td>\n",
       "      <td>Movie</td>\n",
       "      <td>Norm of the North: Keys to the Kingdom</td>\n",
       "      <td>Tim Maltby</td>\n",
       "      <td>Andrew Toth, Cole Howard, Maya Kay, Jennifer C...</td>\n",
       "      <td>India, United States</td>\n",
       "      <td>2020-08-21</td>\n",
       "      <td>2019</td>\n",
       "      <td>TV-PG</td>\n",
       "      <td>92 min</td>\n",
       "      <td>Children &amp; Family Movies</td>\n",
       "      <td>When Norm the polar bear is framed for a crime...</td>\n",
       "      <td>2020.0</td>\n",
       "    </tr>\n",
       "    <tr>\n",
       "      <th>7596</th>\n",
       "      <td>s7597</td>\n",
       "      <td>Movie</td>\n",
       "      <td>Norm of the North: King Sized Adventure</td>\n",
       "      <td>Richard Finn, Tim Maltby</td>\n",
       "      <td>Alan Marriott, Andrew Toth, Brian Dobson, Cole...</td>\n",
       "      <td>United States, India, South Korea, China</td>\n",
       "      <td>2019-09-09</td>\n",
       "      <td>2019</td>\n",
       "      <td>TV-PG</td>\n",
       "      <td>90 min</td>\n",
       "      <td>Children &amp; Family Movies, Comedies</td>\n",
       "      <td>Before planning an awesome wedding for his gra...</td>\n",
       "      <td>2019.0</td>\n",
       "    </tr>\n",
       "  </tbody>\n",
       "</table>\n",
       "<p>164 rows × 13 columns</p>\n",
       "</div>"
      ],
      "text/plain": [
       "     show_id   type                                    title  \\\n",
       "126     s127  Movie                                  Shikara   \n",
       "190     s191  Movie                               Thimmarusu   \n",
       "518     s519  Movie             Har Kisse Ke Hisse: Kaamyaab   \n",
       "551     s552  Movie                          Haseen Dillruba   \n",
       "735     s736  Movie                                  Sarbath   \n",
       "...      ...    ...                                      ...   \n",
       "5961   s5962  Movie                                      706   \n",
       "5966   s5967  Movie                                   15-Aug   \n",
       "6464   s6465  Movie              Chhota Bheem Kungfu Dhamaka   \n",
       "7595   s7596  Movie   Norm of the North: Keys to the Kingdom   \n",
       "7596   s7597  Movie  Norm of the North: King Sized Adventure   \n",
       "\n",
       "                        director  \\\n",
       "126           Vidhu Vinod Chopra   \n",
       "190            Sharan Koppisetty   \n",
       "518                 Hardik Mehta   \n",
       "551                 Vinil Mathew   \n",
       "735                  Prabhakaran   \n",
       "...                          ...   \n",
       "5961               Shravan Kumar   \n",
       "5966          Swapnaneel Jayakar   \n",
       "6464  Rajiv Chilaka, Binayak Das   \n",
       "7595                  Tim Maltby   \n",
       "7596    Richard Finn, Tim Maltby   \n",
       "\n",
       "                                                   cast  \\\n",
       "126   Aadil Khan, Sadia Khateeb, Zain Khan Durrani, ...   \n",
       "190              Satya Dev, Priyanka Jawalkar, Brahmaji   \n",
       "518   Sanjay Mishra, Deepak Dobriyal, Sarika Singh, ...   \n",
       "551   Taapsee Pannu, Vikrant Massey, Harshvardhan Ra...   \n",
       "735               Kathir, Soori, Rahasya Gorak, Ashvatt   \n",
       "...                                                 ...   \n",
       "5961  Divya Dutta, Atul Kulkarni, Mohan Agashe, Anup...   \n",
       "5966  Rahul Pethe, Mrunmayee Deshpande, Adinath Koth...   \n",
       "6464  Sonal Kaushal, Rupa Bhimani, Jigna Bharadhwaj,...   \n",
       "7595  Andrew Toth, Cole Howard, Maya Kay, Jennifer C...   \n",
       "7596  Alan Marriott, Andrew Toth, Brian Dobson, Cole...   \n",
       "\n",
       "                                       country date_added  release_year  \\\n",
       "126                                      India 2021-09-02          2020   \n",
       "190                                      India 2021-08-28          2021   \n",
       "518                                      India 2021-07-06          2020   \n",
       "551                                      India 2021-07-02          2021   \n",
       "735                                      India 2021-06-11          2021   \n",
       "...                                        ...        ...           ...   \n",
       "5961                                     India 2019-04-01          2019   \n",
       "5966                                     India 2019-03-29          2019   \n",
       "6464                                     India 2019-08-15          2019   \n",
       "7595                      India, United States 2020-08-21          2019   \n",
       "7596  United States, India, South Korea, China 2019-09-09          2019   \n",
       "\n",
       "     rating duration                                         listed_in  \\\n",
       "126   TV-14  115 min     Dramas, International Movies, Romantic Movies   \n",
       "190   TV-14  125 min                      Dramas, International Movies   \n",
       "518   TV-14  105 min                      Dramas, International Movies   \n",
       "551   TV-MA  136 min  International Movies, Romantic Movies, Thrillers   \n",
       "735   TV-PG  113 min            Comedies, Dramas, International Movies   \n",
       "...     ...      ...                                               ...   \n",
       "5961  TV-14  118 min               Horror Movies, International Movies   \n",
       "5966  TV-14  124 min              Comedies, Dramas, Independent Movies   \n",
       "6464  TV-Y7  112 min                          Children & Family Movies   \n",
       "7595  TV-PG   92 min                          Children & Family Movies   \n",
       "7596  TV-PG   90 min                Children & Family Movies, Comedies   \n",
       "\n",
       "                                            description  year_added  \n",
       "126   A couple must strive to remain resilient after...      2021.0  \n",
       "190   Eight years after a young man is framed for mu...      2021.0  \n",
       "518   After a career of thankless credits, a retired...      2021.0  \n",
       "551   Under investigation as a suspect in her husban...      2021.0  \n",
       "735   When a city man returns to his native village ...      2021.0  \n",
       "...                                                 ...         ...  \n",
       "5961  When a doctor goes missing, his psychiatrist w...      2019.0  \n",
       "5966  On India's Independence Day, a zany mishap in ...      2019.0  \n",
       "6464  Chhota Bheem is in China for a martial arts co...      2019.0  \n",
       "7595  When Norm the polar bear is framed for a crime...      2020.0  \n",
       "7596  Before planning an awesome wedding for his gra...      2019.0  \n",
       "\n",
       "[164 rows x 13 columns]"
      ]
     },
     "execution_count": 58,
     "metadata": {},
     "output_type": "execute_result"
    }
   ],
   "source": [
    "netflix_df[(netflix_df['country'].str.contains('India', na= False)) & (netflix_df['release_year'] >2018) & (netflix_df['type']== 'Movie')]"
   ]
  },
  {
   "cell_type": "code",
   "execution_count": 60,
   "id": "7459b267-27cb-4a3b-a7d3-1f0e80b1bffb",
   "metadata": {},
   "outputs": [
    {
     "data": {
      "text/plain": [
       "show_id            0\n",
       "type               0\n",
       "title              0\n",
       "director        2634\n",
       "cast             825\n",
       "country          831\n",
       "date_added        10\n",
       "release_year       0\n",
       "rating             4\n",
       "duration           3\n",
       "listed_in          0\n",
       "description        0\n",
       "year_added        10\n",
       "dtype: int64"
      ]
     },
     "execution_count": 60,
     "metadata": {},
     "output_type": "execute_result"
    }
   ],
   "source": [
    "netflix_df.isnull().sum()\n"
   ]
  },
  {
   "cell_type": "code",
   "execution_count": null,
   "id": "6e45d432-c717-49f1-b2f5-cb942097a49a",
   "metadata": {},
   "outputs": [],
   "source": []
  }
 ],
 "metadata": {
  "kernelspec": {
   "display_name": "Python 3 (ipykernel)",
   "language": "python",
   "name": "python3"
  },
  "language_info": {
   "codemirror_mode": {
    "name": "ipython",
    "version": 3
   },
   "file_extension": ".py",
   "mimetype": "text/x-python",
   "name": "python",
   "nbconvert_exporter": "python",
   "pygments_lexer": "ipython3",
   "version": "3.13.0"
  }
 },
 "nbformat": 4,
 "nbformat_minor": 5
}
