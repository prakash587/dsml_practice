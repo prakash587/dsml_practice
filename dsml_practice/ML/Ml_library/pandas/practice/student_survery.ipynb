{
 "cells": [
  {
   "cell_type": "code",
   "execution_count": 1,
   "id": "d77494e3-5468-4bb9-b631-052ac1484e93",
   "metadata": {},
   "outputs": [],
   "source": [
    "import pandas as pd"
   ]
  },
  {
   "cell_type": "code",
   "execution_count": 6,
   "id": "7a4a4ed2-faa3-4217-96f8-13abcb625c41",
   "metadata": {},
   "outputs": [],
   "source": [
    "std_df= pd.read_csv(\"student_survey.csv\")\n"
   ]
  },
  {
   "cell_type": "code",
   "execution_count": 7,
   "id": "94424eb7-d291-44f7-80a0-080cba7f0f71",
   "metadata": {},
   "outputs": [
    {
     "data": {
      "text/html": [
       "<div>\n",
       "<style scoped>\n",
       "    .dataframe tbody tr th:only-of-type {\n",
       "        vertical-align: middle;\n",
       "    }\n",
       "\n",
       "    .dataframe tbody tr th {\n",
       "        vertical-align: top;\n",
       "    }\n",
       "\n",
       "    .dataframe thead th {\n",
       "        text-align: right;\n",
       "    }\n",
       "</style>\n",
       "<table border=\"1\" class=\"dataframe\">\n",
       "  <thead>\n",
       "    <tr style=\"text-align: right;\">\n",
       "      <th></th>\n",
       "      <th>Timestamp</th>\n",
       "      <th>Your Sex?</th>\n",
       "      <th>Your Matric (grade 12) Average/ GPA (in %)</th>\n",
       "      <th>What year were you in last year (2023) ?</th>\n",
       "      <th>What faculty does your degree fall under?</th>\n",
       "      <th>Your 2023 academic year average/GPA in % (Ignore if you are 2024 1st year student)</th>\n",
       "      <th>Your Accommodation Status Last Year (2023)</th>\n",
       "      <th>Monthly Allowance in 2023</th>\n",
       "      <th>Were you on scholarship/bursary in 2023?</th>\n",
       "      <th>Additional amount of studying (in hrs) per week</th>\n",
       "      <th>How often do you go out partying/socialising during the week?</th>\n",
       "      <th>On a night out, how many alcoholic drinks do you consume?</th>\n",
       "      <th>How many classes do you miss per week due to alcohol reasons, (i.e: being hungover or too tired?)</th>\n",
       "      <th>How many modules have you failed thus far into your studies?</th>\n",
       "      <th>Are you currently in a romantic relationship?</th>\n",
       "      <th>Do your parents approve alcohol consumption?</th>\n",
       "      <th>How strong is your relationship with your parent/s?</th>\n",
       "    </tr>\n",
       "  </thead>\n",
       "  <tbody>\n",
       "    <tr>\n",
       "      <th>0</th>\n",
       "      <td>2024/03/07 5:12:01 pm EET</td>\n",
       "      <td>Female</td>\n",
       "      <td>76.0</td>\n",
       "      <td>2nd Year</td>\n",
       "      <td>Arts &amp; Social Sciences</td>\n",
       "      <td>72.0</td>\n",
       "      <td>Private accommodation/ stay with family/friends</td>\n",
       "      <td>R 4001- R 5000</td>\n",
       "      <td>No</td>\n",
       "      <td>8+</td>\n",
       "      <td>Only weekends</td>\n",
       "      <td>8+</td>\n",
       "      <td>3</td>\n",
       "      <td>0</td>\n",
       "      <td>Yes</td>\n",
       "      <td>Yes</td>\n",
       "      <td>Very close</td>\n",
       "    </tr>\n",
       "  </tbody>\n",
       "</table>\n",
       "</div>"
      ],
      "text/plain": [
       "                   Timestamp Your Sex?  \\\n",
       "0  2024/03/07 5:12:01 pm EET    Female   \n",
       "\n",
       "   Your Matric (grade 12) Average/ GPA (in %)  \\\n",
       "0                                        76.0   \n",
       "\n",
       "  What year were you in last year (2023) ?  \\\n",
       "0                                 2nd Year   \n",
       "\n",
       "  What faculty does your degree fall under?  \\\n",
       "0                    Arts & Social Sciences   \n",
       "\n",
       "   Your 2023 academic year average/GPA in % (Ignore if you are 2024 1st year student)  \\\n",
       "0                                               72.0                                    \n",
       "\n",
       "        Your Accommodation Status Last Year (2023) Monthly Allowance in 2023  \\\n",
       "0  Private accommodation/ stay with family/friends            R 4001- R 5000   \n",
       "\n",
       "  Were you on scholarship/bursary in 2023?  \\\n",
       "0                                       No   \n",
       "\n",
       "  Additional amount of studying (in hrs) per week  \\\n",
       "0                                              8+   \n",
       "\n",
       "  How often do you go out partying/socialising during the week?   \\\n",
       "0                                      Only weekends               \n",
       "\n",
       "  On a night out, how many alcoholic drinks do you consume?  \\\n",
       "0                                                 8+          \n",
       "\n",
       "  How many classes do you miss per week due to alcohol reasons, (i.e: being hungover or too tired?)  \\\n",
       "0                                                  3                                                  \n",
       "\n",
       "  How many modules have you failed thus far into your studies?  \\\n",
       "0                                                  0             \n",
       "\n",
       "  Are you currently in a romantic relationship?  \\\n",
       "0                                           Yes   \n",
       "\n",
       "  Do your parents approve alcohol consumption?  \\\n",
       "0                                          Yes   \n",
       "\n",
       "  How strong is your relationship with your parent/s?  \n",
       "0                                         Very close   "
      ]
     },
     "execution_count": 7,
     "metadata": {},
     "output_type": "execute_result"
    }
   ],
   "source": [
    "std_df.head(1)"
   ]
  },
  {
   "cell_type": "code",
   "execution_count": 8,
   "id": "b32f01ca-349a-457e-a339-5c4f149a0483",
   "metadata": {},
   "outputs": [],
   "source": [
    "std_df.rename(columns={'Your Sex?': 'gender', \n",
    "                       'Your Matric (grade 12) Average/ GPA (in %)' :'grade12_avg',\n",
    "                     'What year were you in last year (2023) ?':'year_2023_level', \n",
    "                       'What faculty does your degree fall under?':'degree_faculty',\n",
    "                       'Your 2023 academic year average/GPA in % (Ignore if you are 2024 1st year student)':'gpa_percent_2023',\n",
    "                       'Your Accommodation Status Last Year (2023)':'living_status_2023',\n",
    "                       'Monthly Allowance in 2023':'monthly_allowance_2023',\n",
    "                       'Were you on scholarship/bursary in 2023?':'scholarship_status_2023',\n",
    "                       'Additional amount of studying (in hrs) per week':'extra_study_hours_week',\n",
    "                       'How often do you go out partying/socialising during the week? ':'party_per_week',\n",
    "                       'On a night out, how many alcoholic drinks do you consume?':'drinks_per_night',\n",
    "                       'How many classes do you miss per week due to alcohol reasons, (i.e: being hungover or too tired?)':'classes_missed_alcohol',\n",
    "                       'How many modules have you failed thus far into your studies?':'modules_failed',\n",
    "                       'Are you currently in a romantic relationship?':'in_relationship',\n",
    "                       'Do your parents approve alcohol consumption?':'parents_approve_alcohol',\n",
    "                       'How strong is your relationship with your parent/s?':'parent_relationship_strength'\n",
    "                       \n",
    "                       \n",
    "                      \n",
    "                      }, inplace=True)\n"
   ]
  },
  {
   "cell_type": "code",
   "execution_count": 9,
   "id": "1e308960-3d96-4beb-aaa6-69006e10f5e7",
   "metadata": {},
   "outputs": [
    {
     "data": {
      "text/html": [
       "<div>\n",
       "<style scoped>\n",
       "    .dataframe tbody tr th:only-of-type {\n",
       "        vertical-align: middle;\n",
       "    }\n",
       "\n",
       "    .dataframe tbody tr th {\n",
       "        vertical-align: top;\n",
       "    }\n",
       "\n",
       "    .dataframe thead th {\n",
       "        text-align: right;\n",
       "    }\n",
       "</style>\n",
       "<table border=\"1\" class=\"dataframe\">\n",
       "  <thead>\n",
       "    <tr style=\"text-align: right;\">\n",
       "      <th></th>\n",
       "      <th>Timestamp</th>\n",
       "      <th>gender</th>\n",
       "      <th>grade12_avg</th>\n",
       "      <th>year_2023_level</th>\n",
       "      <th>degree_faculty</th>\n",
       "      <th>gpa_percent_2023</th>\n",
       "      <th>living_status_2023</th>\n",
       "      <th>monthly_allowance_2023</th>\n",
       "      <th>scholarship_status_2023</th>\n",
       "      <th>extra_study_hours_week</th>\n",
       "      <th>party_per_week</th>\n",
       "      <th>drinks_per_night</th>\n",
       "      <th>classes_missed_alcohol</th>\n",
       "      <th>modules_failed</th>\n",
       "      <th>in_relationship</th>\n",
       "      <th>parents_approve_alcohol</th>\n",
       "      <th>parent_relationship_strength</th>\n",
       "    </tr>\n",
       "  </thead>\n",
       "  <tbody>\n",
       "    <tr>\n",
       "      <th>0</th>\n",
       "      <td>2024/03/07 5:12:01 pm EET</td>\n",
       "      <td>Female</td>\n",
       "      <td>76.0</td>\n",
       "      <td>2nd Year</td>\n",
       "      <td>Arts &amp; Social Sciences</td>\n",
       "      <td>72.0</td>\n",
       "      <td>Private accommodation/ stay with family/friends</td>\n",
       "      <td>R 4001- R 5000</td>\n",
       "      <td>No</td>\n",
       "      <td>8+</td>\n",
       "      <td>Only weekends</td>\n",
       "      <td>8+</td>\n",
       "      <td>3</td>\n",
       "      <td>0</td>\n",
       "      <td>Yes</td>\n",
       "      <td>Yes</td>\n",
       "      <td>Very close</td>\n",
       "    </tr>\n",
       "    <tr>\n",
       "      <th>1</th>\n",
       "      <td>2024/03/07 5:12:08 pm EET</td>\n",
       "      <td>Male</td>\n",
       "      <td>89.0</td>\n",
       "      <td>2nd Year</td>\n",
       "      <td>Economic &amp; Management Sciences</td>\n",
       "      <td>75.0</td>\n",
       "      <td>Private accommodation/ stay with family/friends</td>\n",
       "      <td>R 7001 - R 8000</td>\n",
       "      <td>Yes (NSFAS, etc...)</td>\n",
       "      <td>8+</td>\n",
       "      <td>Only weekends</td>\n",
       "      <td>3-5</td>\n",
       "      <td>4+</td>\n",
       "      <td>0</td>\n",
       "      <td>No</td>\n",
       "      <td>Yes</td>\n",
       "      <td>Very close</td>\n",
       "    </tr>\n",
       "    <tr>\n",
       "      <th>2</th>\n",
       "      <td>2024/03/07 5:12:25 pm EET</td>\n",
       "      <td>Male</td>\n",
       "      <td>76.0</td>\n",
       "      <td>1st Year</td>\n",
       "      <td>AgriSciences</td>\n",
       "      <td>55.0</td>\n",
       "      <td>Private accommodation/ stay with family/friends</td>\n",
       "      <td>R 4001- R 5000</td>\n",
       "      <td>No</td>\n",
       "      <td>3-5</td>\n",
       "      <td>2</td>\n",
       "      <td>8+</td>\n",
       "      <td>3</td>\n",
       "      <td>0</td>\n",
       "      <td>No</td>\n",
       "      <td>Yes</td>\n",
       "      <td>Very close</td>\n",
       "    </tr>\n",
       "    <tr>\n",
       "      <th>3</th>\n",
       "      <td>2024/03/07 5:12:28 pm EET</td>\n",
       "      <td>Male</td>\n",
       "      <td>89.0</td>\n",
       "      <td>2nd Year</td>\n",
       "      <td>Engineering</td>\n",
       "      <td>84.0</td>\n",
       "      <td>Private accommodation/ stay with family/friends</td>\n",
       "      <td>R 6001 - R 7000</td>\n",
       "      <td>No</td>\n",
       "      <td>3-5</td>\n",
       "      <td>3</td>\n",
       "      <td>8+</td>\n",
       "      <td>2</td>\n",
       "      <td>0</td>\n",
       "      <td>Yes</td>\n",
       "      <td>Yes</td>\n",
       "      <td>Very close</td>\n",
       "    </tr>\n",
       "  </tbody>\n",
       "</table>\n",
       "</div>"
      ],
      "text/plain": [
       "                   Timestamp  gender  grade12_avg year_2023_level  \\\n",
       "0  2024/03/07 5:12:01 pm EET  Female         76.0        2nd Year   \n",
       "1  2024/03/07 5:12:08 pm EET    Male         89.0        2nd Year   \n",
       "2  2024/03/07 5:12:25 pm EET    Male         76.0        1st Year   \n",
       "3  2024/03/07 5:12:28 pm EET    Male         89.0        2nd Year   \n",
       "\n",
       "                   degree_faculty  gpa_percent_2023  \\\n",
       "0          Arts & Social Sciences              72.0   \n",
       "1  Economic & Management Sciences              75.0   \n",
       "2                    AgriSciences              55.0   \n",
       "3                     Engineering              84.0   \n",
       "\n",
       "                                living_status_2023 monthly_allowance_2023  \\\n",
       "0  Private accommodation/ stay with family/friends         R 4001- R 5000   \n",
       "1  Private accommodation/ stay with family/friends        R 7001 - R 8000   \n",
       "2  Private accommodation/ stay with family/friends         R 4001- R 5000   \n",
       "3  Private accommodation/ stay with family/friends        R 6001 - R 7000   \n",
       "\n",
       "  scholarship_status_2023 extra_study_hours_week party_per_week  \\\n",
       "0                      No                     8+  Only weekends   \n",
       "1     Yes (NSFAS, etc...)                     8+  Only weekends   \n",
       "2                      No                    3-5              2   \n",
       "3                      No                    3-5              3   \n",
       "\n",
       "  drinks_per_night classes_missed_alcohol modules_failed in_relationship  \\\n",
       "0               8+                      3              0             Yes   \n",
       "1              3-5                     4+              0              No   \n",
       "2               8+                      3              0              No   \n",
       "3               8+                      2              0             Yes   \n",
       "\n",
       "  parents_approve_alcohol parent_relationship_strength  \n",
       "0                     Yes                   Very close  \n",
       "1                     Yes                   Very close  \n",
       "2                     Yes                   Very close  \n",
       "3                     Yes                   Very close  "
      ]
     },
     "execution_count": 9,
     "metadata": {},
     "output_type": "execute_result"
    }
   ],
   "source": [
    "std_df.head(4)"
   ]
  },
  {
   "cell_type": "code",
   "execution_count": 10,
   "id": "677b286c-cdf4-49b2-b5dd-c563c063c14e",
   "metadata": {},
   "outputs": [
    {
     "data": {
      "text/plain": [
       "Index(['Timestamp', 'gender', 'grade12_avg', 'year_2023_level',\n",
       "       'degree_faculty', 'gpa_percent_2023', 'living_status_2023',\n",
       "       'monthly_allowance_2023', 'scholarship_status_2023',\n",
       "       'extra_study_hours_week', 'party_per_week', 'drinks_per_night',\n",
       "       'classes_missed_alcohol', 'modules_failed', 'in_relationship',\n",
       "       'parents_approve_alcohol', 'parent_relationship_strength'],\n",
       "      dtype='object')"
      ]
     },
     "execution_count": 10,
     "metadata": {},
     "output_type": "execute_result"
    }
   ],
   "source": [
    "std_df.columns"
   ]
  },
  {
   "cell_type": "code",
   "execution_count": 11,
   "id": "7ad7c81e-d6b0-4428-afa6-7dd05a3a1135",
   "metadata": {},
   "outputs": [
    {
     "data": {
      "text/plain": [
       "grade12_avg         106.504793\n",
       "gpa_percent_2023     89.829547\n",
       "dtype: float64"
      ]
     },
     "execution_count": 11,
     "metadata": {},
     "output_type": "execute_result"
    }
   ],
   "source": [
    "std_df.describe().mean()"
   ]
  },
  {
   "cell_type": "markdown",
   "id": "3e517f09-ac00-4848-82b6-9d81734013d2",
   "metadata": {},
   "source": [
    "## Handling null value"
   ]
  },
  {
   "cell_type": "code",
   "execution_count": 12,
   "id": "34df01ff-75d9-4474-86ec-a76f13455a4a",
   "metadata": {},
   "outputs": [
    {
     "data": {
      "text/plain": [
       "Timestamp                        0\n",
       "gender                           2\n",
       "grade12_avg                      7\n",
       "year_2023_level                 73\n",
       "degree_faculty                   7\n",
       "gpa_percent_2023                86\n",
       "living_status_2023              23\n",
       "monthly_allowance_2023          31\n",
       "scholarship_status_2023          8\n",
       "extra_study_hours_week           3\n",
       "party_per_week                   2\n",
       "drinks_per_night                 2\n",
       "classes_missed_alcohol           3\n",
       "modules_failed                   3\n",
       "in_relationship                  3\n",
       "parents_approve_alcohol          4\n",
       "parent_relationship_strength     3\n",
       "dtype: int64"
      ]
     },
     "execution_count": 12,
     "metadata": {},
     "output_type": "execute_result"
    }
   ],
   "source": [
    "std_df.isnull().sum()"
   ]
  },
  {
   "cell_type": "code",
   "execution_count": 13,
   "id": "5637c1ac-7c34-48f3-8fc6-7c5a678266d6",
   "metadata": {},
   "outputs": [
    {
     "data": {
      "text/plain": [
       "gender\n",
       "Male      216\n",
       "Female    188\n",
       "Name: count, dtype: int64"
      ]
     },
     "execution_count": 13,
     "metadata": {},
     "output_type": "execute_result"
    }
   ],
   "source": [
    "std_df['gender'].value_counts()"
   ]
  },
  {
   "cell_type": "code",
   "execution_count": 14,
   "id": "2018f024-35e3-485f-9271-55c721dbcc10",
   "metadata": {},
   "outputs": [],
   "source": [
    "##std_df['gender'].fillna('Male',inplace=True)"
   ]
  },
  {
   "cell_type": "code",
   "execution_count": 15,
   "id": "a4b82efe-3b62-4f75-a77f-878f851eafd9",
   "metadata": {},
   "outputs": [],
   "source": [
    "std_df.fillna({'gender':'Male'}, inplace= True)"
   ]
  },
  {
   "cell_type": "code",
   "execution_count": 16,
   "id": "3e9b091a-e456-4c06-967f-ca7d042f27e2",
   "metadata": {},
   "outputs": [
    {
     "data": {
      "text/plain": [
       "gender\n",
       "Male      218\n",
       "Female    188\n",
       "Name: count, dtype: int64"
      ]
     },
     "execution_count": 16,
     "metadata": {},
     "output_type": "execute_result"
    }
   ],
   "source": [
    "std_df['gender'].value_counts()"
   ]
  },
  {
   "cell_type": "code",
   "execution_count": 17,
   "id": "42824f45-93cb-4e02-b9f4-6d87833d8267",
   "metadata": {},
   "outputs": [
    {
     "data": {
      "text/plain": [
       "np.int64(0)"
      ]
     },
     "execution_count": 17,
     "metadata": {},
     "output_type": "execute_result"
    }
   ],
   "source": [
    "std_df['gender'].isnull().sum()"
   ]
  },
  {
   "cell_type": "code",
   "execution_count": 18,
   "id": "cda85e6c-ac7e-4f3d-9f2b-6b5e207a4a5b",
   "metadata": {},
   "outputs": [
    {
     "data": {
      "text/plain": [
       "np.int64(7)"
      ]
     },
     "execution_count": 18,
     "metadata": {},
     "output_type": "execute_result"
    }
   ],
   "source": [
    "std_df['grade12_avg'].isnull().sum()"
   ]
  },
  {
   "cell_type": "code",
   "execution_count": 19,
   "id": "ed5dd37b-f547-4513-b753-fc49261c5264",
   "metadata": {},
   "outputs": [
    {
     "data": {
      "text/plain": [
       "grade12_avg\n",
       "76.00    33\n",
       "78.00    32\n",
       "80.00    31\n",
       "75.00    29\n",
       "83.00    25\n",
       "85.00    22\n",
       "84.00    20\n",
       "74.00    19\n",
       "72.00    18\n",
       "73.00    17\n",
       "79.00    16\n",
       "82.00    16\n",
       "70.00    15\n",
       "86.00    13\n",
       "77.00     9\n",
       "68.00     9\n",
       "81.00     9\n",
       "65.00     8\n",
       "87.00     7\n",
       "67.00     7\n",
       "71.00     6\n",
       "89.00     5\n",
       "69.00     4\n",
       "88.00     3\n",
       "60.00     3\n",
       "90.00     3\n",
       "66.00     2\n",
       "94.00     2\n",
       "92.00     2\n",
       "82.60     1\n",
       "99.00     1\n",
       "98.33     1\n",
       "98.00     1\n",
       "91.86     1\n",
       "63.00     1\n",
       "95.00     1\n",
       "34.00     1\n",
       "86.40     1\n",
       "95.50     1\n",
       "55.00     1\n",
       "91.21     1\n",
       "96.00     1\n",
       "64.00     1\n",
       "Name: count, dtype: int64"
      ]
     },
     "execution_count": 19,
     "metadata": {},
     "output_type": "execute_result"
    }
   ],
   "source": [
    "std_df['grade12_avg'].value_counts()"
   ]
  },
  {
   "cell_type": "code",
   "execution_count": 20,
   "id": "50db4d4b-83af-48df-956f-6db8f7b3e1d8",
   "metadata": {},
   "outputs": [],
   "source": [
    "std_df.fillna({'grade12_avg':76}, inplace = True)"
   ]
  },
  {
   "cell_type": "code",
   "execution_count": 21,
   "id": "3b27d078-d35b-43b7-8a8f-41191d6e8c73",
   "metadata": {},
   "outputs": [
    {
     "data": {
      "text/plain": [
       "np.int64(0)"
      ]
     },
     "execution_count": 21,
     "metadata": {},
     "output_type": "execute_result"
    }
   ],
   "source": [
    "std_df['grade12_avg'].isnull().sum()"
   ]
  },
  {
   "cell_type": "code",
   "execution_count": 22,
   "id": "d033382a-6feb-4b7a-ab7d-cf734842becb",
   "metadata": {},
   "outputs": [
    {
     "data": {
      "text/plain": [
       "np.int64(73)"
      ]
     },
     "execution_count": 22,
     "metadata": {},
     "output_type": "execute_result"
    }
   ],
   "source": [
    "std_df['year_2023_level'].isnull().sum()"
   ]
  },
  {
   "cell_type": "code",
   "execution_count": 23,
   "id": "b3e2a6eb-8aaa-4b3e-a27a-a0b1f3c07b01",
   "metadata": {},
   "outputs": [
    {
     "data": {
      "text/plain": [
       "year_2023_level\n",
       "2nd Year        153\n",
       "1st Year        128\n",
       "3rd Year         40\n",
       "4th Year          7\n",
       "Postgraduate      5\n",
       "Name: count, dtype: int64"
      ]
     },
     "execution_count": 23,
     "metadata": {},
     "output_type": "execute_result"
    }
   ],
   "source": [
    "std_df['year_2023_level'].value_counts()"
   ]
  },
  {
   "cell_type": "code",
   "execution_count": 24,
   "id": "e6663999-6665-4db9-9005-e278258f2026",
   "metadata": {},
   "outputs": [],
   "source": [
    "std_df['year_2023_level'] = std_df['year_2023_level'].fillna(std_df['year_2023_level'].mode()[0])\n"
   ]
  },
  {
   "cell_type": "code",
   "execution_count": 25,
   "id": "3a98d221-3242-4ba3-a6eb-7e32abfc9beb",
   "metadata": {},
   "outputs": [],
   "source": [
    "#std_df.fillna({'year_2023_level': std_df['year_2023_level'].mode()[0]}, inplace=True)\n"
   ]
  },
  {
   "cell_type": "code",
   "execution_count": 26,
   "id": "0b924c64-3484-4b85-be6e-537966801512",
   "metadata": {},
   "outputs": [
    {
     "data": {
      "text/plain": [
       "np.int64(0)"
      ]
     },
     "execution_count": 26,
     "metadata": {},
     "output_type": "execute_result"
    }
   ],
   "source": [
    "std_df['year_2023_level'].isnull().sum()"
   ]
  },
  {
   "cell_type": "code",
   "execution_count": 27,
   "id": "f19cdf60-bf25-4a30-8560-3582b82890be",
   "metadata": {},
   "outputs": [
    {
     "data": {
      "text/plain": [
       "year_2023_level\n",
       "2nd Year        226\n",
       "1st Year        128\n",
       "3rd Year         40\n",
       "4th Year          7\n",
       "Postgraduate      5\n",
       "Name: count, dtype: int64"
      ]
     },
     "execution_count": 27,
     "metadata": {},
     "output_type": "execute_result"
    }
   ],
   "source": [
    "std_df['year_2023_level'].value_counts()"
   ]
  },
  {
   "cell_type": "code",
   "execution_count": 28,
   "id": "85c0cc2d-fdfe-49cc-933d-5a8ab55a2c46",
   "metadata": {},
   "outputs": [
    {
     "data": {
      "text/plain": [
       "degree_faculty\n",
       "Economic & Management Sciences    211\n",
       "Science                            56\n",
       "Arts & Social Sciences             47\n",
       "Engineering                        37\n",
       "AgriSciences                       22\n",
       "Medicine and Health Services       10\n",
       "Law                                10\n",
       "Education                           6\n",
       "Name: count, dtype: int64"
      ]
     },
     "execution_count": 28,
     "metadata": {},
     "output_type": "execute_result"
    }
   ],
   "source": [
    "std_df['degree_faculty'].value_counts()"
   ]
  },
  {
   "cell_type": "code",
   "execution_count": 29,
   "id": "86614314-6fa3-4d30-9e31-5ffe23e4c1dd",
   "metadata": {},
   "outputs": [
    {
     "data": {
      "text/plain": [
       "np.int64(7)"
      ]
     },
     "execution_count": 29,
     "metadata": {},
     "output_type": "execute_result"
    }
   ],
   "source": [
    "std_df['degree_faculty'].isnull().sum()"
   ]
  },
  {
   "cell_type": "code",
   "execution_count": 30,
   "id": "0d1493fb-806b-410d-a824-0d8a7401586a",
   "metadata": {},
   "outputs": [],
   "source": [
    "std_df['degree_faculty']= std_df['degree_faculty'].fillna(std_df['degree_faculty'].mode()[0])"
   ]
  },
  {
   "cell_type": "code",
   "execution_count": 31,
   "id": "5a8eec1b-07a9-4bdc-af83-617b8d127410",
   "metadata": {},
   "outputs": [
    {
     "data": {
      "text/plain": [
       "np.int64(0)"
      ]
     },
     "execution_count": 31,
     "metadata": {},
     "output_type": "execute_result"
    }
   ],
   "source": [
    "std_df['degree_faculty'].isnull().sum()"
   ]
  },
  {
   "cell_type": "code",
   "execution_count": 32,
   "id": "0a8d69d2-f1d0-46ce-844f-62f33e3044dc",
   "metadata": {},
   "outputs": [
    {
     "data": {
      "text/plain": [
       "np.int64(86)"
      ]
     },
     "execution_count": 32,
     "metadata": {},
     "output_type": "execute_result"
    }
   ],
   "source": [
    "std_df['gpa_percent_2023'].isnull().sum()"
   ]
  },
  {
   "cell_type": "code",
   "execution_count": 33,
   "id": "490dabf7-a94f-45b5-88d6-23a4e77da8ba",
   "metadata": {},
   "outputs": [
    {
     "data": {
      "text/plain": [
       "gpa_percent_2023\n",
       "60.00    35\n",
       "65.00    27\n",
       "70.00    18\n",
       "63.00    17\n",
       "75.00    14\n",
       "55.00    14\n",
       "61.00    13\n",
       "64.00    13\n",
       "76.00    12\n",
       "73.00    12\n",
       "80.00    11\n",
       "57.00    10\n",
       "62.00    10\n",
       "58.00    10\n",
       "74.00     9\n",
       "77.00     7\n",
       "50.00     7\n",
       "72.00     7\n",
       "68.00     7\n",
       "69.00     6\n",
       "54.00     6\n",
       "71.00     5\n",
       "66.00     5\n",
       "56.00     4\n",
       "59.00     4\n",
       "51.00     3\n",
       "84.00     3\n",
       "78.00     3\n",
       "53.00     3\n",
       "83.00     3\n",
       "67.00     3\n",
       "52.00     2\n",
       "88.00     2\n",
       "85.00     2\n",
       "79.00     2\n",
       "89.00     2\n",
       "90.00     1\n",
       "95.22     1\n",
       "65.89     1\n",
       "73.50     1\n",
       "92.00     1\n",
       "87.60     1\n",
       "30.00     1\n",
       "81.00     1\n",
       "69.70     1\n",
       "Name: count, dtype: int64"
      ]
     },
     "execution_count": 33,
     "metadata": {},
     "output_type": "execute_result"
    }
   ],
   "source": [
    "std_df['gpa_percent_2023'].value_counts(ascending = False)"
   ]
  },
  {
   "cell_type": "code",
   "execution_count": 34,
   "id": "4032f444-7cb4-401a-8605-e3cb4c541549",
   "metadata": {},
   "outputs": [],
   "source": [
    "std_df['gpa_percent_2023']= std_df['gpa_percent_2023'].fillna(std_df['gpa_percent_2023'].median())"
   ]
  },
  {
   "cell_type": "code",
   "execution_count": 35,
   "id": "0b66b8cd-b783-4e7d-9374-47e2f870e5f5",
   "metadata": {},
   "outputs": [
    {
     "data": {
      "text/plain": [
       "np.int64(0)"
      ]
     },
     "execution_count": 35,
     "metadata": {},
     "output_type": "execute_result"
    }
   ],
   "source": [
    "std_df['gpa_percent_2023'].isnull().sum()"
   ]
  },
  {
   "cell_type": "code",
   "execution_count": 36,
   "id": "5f584fbb-cf3e-4f86-a770-4d7110aea8d0",
   "metadata": {},
   "outputs": [
    {
     "data": {
      "text/plain": [
       "living_status_2023\n",
       "Private accommodation/ stay with family/friends    335\n",
       "Non-private accommodation ie. Res                   48\n",
       "Name: count, dtype: int64"
      ]
     },
     "execution_count": 36,
     "metadata": {},
     "output_type": "execute_result"
    }
   ],
   "source": [
    "std_df['living_status_2023'].value_counts()"
   ]
  },
  {
   "cell_type": "code",
   "execution_count": 37,
   "id": "4f35f4a1-473e-4fba-a7a5-dd67fde344b1",
   "metadata": {},
   "outputs": [],
   "source": [
    "std_df['living_status_2023']= std_df['living_status_2023'].fillna(std_df['living_status_2023'].mode()[0])"
   ]
  },
  {
   "cell_type": "code",
   "execution_count": 38,
   "id": "3598b0e5-58c1-4c69-9ace-bdd796e1952f",
   "metadata": {},
   "outputs": [
    {
     "data": {
      "text/plain": [
       "np.int64(0)"
      ]
     },
     "execution_count": 38,
     "metadata": {},
     "output_type": "execute_result"
    }
   ],
   "source": [
    "std_df['living_status_2023'].isnull().sum()"
   ]
  },
  {
   "cell_type": "code",
   "execution_count": 39,
   "id": "84469064-ae4d-44df-aa62-43f6f04744cc",
   "metadata": {},
   "outputs": [
    {
     "data": {
      "text/plain": [
       "np.int64(31)"
      ]
     },
     "execution_count": 39,
     "metadata": {},
     "output_type": "execute_result"
    }
   ],
   "source": [
    "std_df['monthly_allowance_2023'].isnull().sum()"
   ]
  },
  {
   "cell_type": "code",
   "execution_count": 40,
   "id": "a8370934-2161-42c9-ae96-e3995ccff0d7",
   "metadata": {},
   "outputs": [
    {
     "data": {
      "text/plain": [
       "monthly_allowance_2023\n",
       "R 4001- R 5000     159\n",
       "R 5001 - R 6000    101\n",
       "R 6001 - R 7000     58\n",
       "R 7001 - R 8000     30\n",
       "R 8000+             27\n",
       "Name: count, dtype: int64"
      ]
     },
     "execution_count": 40,
     "metadata": {},
     "output_type": "execute_result"
    }
   ],
   "source": [
    "std_df['monthly_allowance_2023'].value_counts()"
   ]
  },
  {
   "cell_type": "code",
   "execution_count": 41,
   "id": "8e2860e7-0b52-4657-b6f8-e8f1243161ff",
   "metadata": {},
   "outputs": [],
   "source": [
    "std_df['monthly_allowance_2023']= std_df['monthly_allowance_2023'].fillna(std_df['monthly_allowance_2023'].mode()[0])"
   ]
  },
  {
   "cell_type": "code",
   "execution_count": 42,
   "id": "2d8529de-6eaa-4b56-bb11-8900281d4a76",
   "metadata": {},
   "outputs": [
    {
     "data": {
      "text/plain": [
       "np.int64(0)"
      ]
     },
     "execution_count": 42,
     "metadata": {},
     "output_type": "execute_result"
    }
   ],
   "source": [
    "std_df['monthly_allowance_2023'].isnull().sum()"
   ]
  },
  {
   "cell_type": "code",
   "execution_count": 43,
   "id": "d06c77ec-99f9-45e7-9693-1500d6367c4f",
   "metadata": {},
   "outputs": [
    {
     "data": {
      "text/plain": [
       "Timestamp                       0\n",
       "gender                          0\n",
       "grade12_avg                     0\n",
       "year_2023_level                 0\n",
       "degree_faculty                  0\n",
       "gpa_percent_2023                0\n",
       "living_status_2023              0\n",
       "monthly_allowance_2023          0\n",
       "scholarship_status_2023         8\n",
       "extra_study_hours_week          3\n",
       "party_per_week                  2\n",
       "drinks_per_night                2\n",
       "classes_missed_alcohol          3\n",
       "modules_failed                  3\n",
       "in_relationship                 3\n",
       "parents_approve_alcohol         4\n",
       "parent_relationship_strength    3\n",
       "dtype: int64"
      ]
     },
     "execution_count": 43,
     "metadata": {},
     "output_type": "execute_result"
    }
   ],
   "source": [
    "std_df.isnull().sum()"
   ]
  },
  {
   "cell_type": "code",
   "execution_count": 44,
   "id": "a56a85e1-e294-4835-a16c-c30deef9ca97",
   "metadata": {},
   "outputs": [
    {
     "data": {
      "text/plain": [
       "scholarship_status_2023\n",
       "No                     352\n",
       "Yes (NSFAS, etc...)     46\n",
       "Name: count, dtype: int64"
      ]
     },
     "execution_count": 44,
     "metadata": {},
     "output_type": "execute_result"
    }
   ],
   "source": [
    "std_df['scholarship_status_2023'].value_counts()"
   ]
  },
  {
   "cell_type": "code",
   "execution_count": 45,
   "id": "3d195847-15e1-465f-b9d6-f641d02cc96d",
   "metadata": {},
   "outputs": [
    {
     "data": {
      "text/plain": [
       "extra_study_hours_week\n",
       "8+     114\n",
       "3-5    105\n",
       "1-3     83\n",
       "5-8     81\n",
       "0       20\n",
       "Name: count, dtype: int64"
      ]
     },
     "execution_count": 45,
     "metadata": {},
     "output_type": "execute_result"
    }
   ],
   "source": [
    "std_df['extra_study_hours_week'].value_counts()"
   ]
  },
  {
   "cell_type": "code",
   "execution_count": 46,
   "id": "f82241b5-ac2b-472a-96d7-f632821bb0da",
   "metadata": {},
   "outputs": [
    {
     "data": {
      "text/plain": [
       "party_per_week\n",
       "Only weekends    113\n",
       "1                108\n",
       "2                 87\n",
       "3                 63\n",
       "0                 17\n",
       "4+                16\n",
       "Name: count, dtype: int64"
      ]
     },
     "execution_count": 46,
     "metadata": {},
     "output_type": "execute_result"
    }
   ],
   "source": [
    "std_df['party_per_week'].value_counts()"
   ]
  },
  {
   "cell_type": "code",
   "execution_count": 47,
   "id": "e36d8dbe-4179-4f85-a28d-1fd6320d72ee",
   "metadata": {},
   "outputs": [
    {
     "data": {
      "text/plain": [
       "drinks_per_night\n",
       "5-8    111\n",
       "3-5     91\n",
       "1-3     90\n",
       "8+      86\n",
       "0       26\n",
       "Name: count, dtype: int64"
      ]
     },
     "execution_count": 47,
     "metadata": {},
     "output_type": "execute_result"
    }
   ],
   "source": [
    "std_df['drinks_per_night'].value_counts()"
   ]
  },
  {
   "cell_type": "code",
   "execution_count": 48,
   "id": "2e7e23e7-16ef-4208-ba69-9c9c7da83557",
   "metadata": {},
   "outputs": [
    {
     "data": {
      "text/plain": [
       "classes_missed_alcohol\n",
       "0     214\n",
       "1      75\n",
       "2      63\n",
       "4+     27\n",
       "3      24\n",
       "Name: count, dtype: int64"
      ]
     },
     "execution_count": 48,
     "metadata": {},
     "output_type": "execute_result"
    }
   ],
   "source": [
    "std_df['classes_missed_alcohol'].value_counts()\n"
   ]
  },
  {
   "cell_type": "code",
   "execution_count": 49,
   "id": "1c48f0a2-292f-44d5-b978-6d4e7d618753",
   "metadata": {},
   "outputs": [
    {
     "data": {
      "text/plain": [
       "modules_failed\n",
       "0     263\n",
       "1      58\n",
       "2      31\n",
       "4+     27\n",
       "3      24\n",
       "Name: count, dtype: int64"
      ]
     },
     "execution_count": 49,
     "metadata": {},
     "output_type": "execute_result"
    }
   ],
   "source": [
    "std_df['modules_failed'].value_counts()"
   ]
  },
  {
   "cell_type": "code",
   "execution_count": 50,
   "id": "7b10f76f-2b6d-410e-a78b-db285975803a",
   "metadata": {},
   "outputs": [
    {
     "data": {
      "text/plain": [
       "in_relationship\n",
       "No     239\n",
       "Yes    164\n",
       "Name: count, dtype: int64"
      ]
     },
     "execution_count": 50,
     "metadata": {},
     "output_type": "execute_result"
    }
   ],
   "source": [
    "std_df['in_relationship'].value_counts()\n"
   ]
  },
  {
   "cell_type": "code",
   "execution_count": 51,
   "id": "e77e738d-2210-4038-9594-86c04d17455b",
   "metadata": {},
   "outputs": [
    {
     "data": {
      "text/plain": [
       "parents_approve_alcohol\n",
       "Yes    353\n",
       "No      49\n",
       "Name: count, dtype: int64"
      ]
     },
     "execution_count": 51,
     "metadata": {},
     "output_type": "execute_result"
    }
   ],
   "source": [
    "std_df['parents_approve_alcohol'].value_counts()\n"
   ]
  },
  {
   "cell_type": "code",
   "execution_count": 52,
   "id": "999e9ad0-f4ee-49ac-be8e-7d79214269ab",
   "metadata": {},
   "outputs": [
    {
     "data": {
      "text/plain": [
       "parent_relationship_strength\n",
       "Very close    269\n",
       "Close          97\n",
       "Fair           35\n",
       "Distant         2\n",
       "Name: count, dtype: int64"
      ]
     },
     "execution_count": 52,
     "metadata": {},
     "output_type": "execute_result"
    }
   ],
   "source": [
    "std_df['parent_relationship_strength'].value_counts()\n"
   ]
  },
  {
   "cell_type": "code",
   "execution_count": 53,
   "id": "32014165-c041-4701-bf06-b1c84c32941f",
   "metadata": {},
   "outputs": [],
   "source": [
    "std_df.fillna(\n",
    "    {\n",
    "        'scholarship_status_2023':std_df['scholarship_status_2023'].mode()[0],\n",
    "        'extra_study_hours_week':std_df['extra_study_hours_week'].mode()[0],\n",
    "        'party_per_week':std_df['party_per_week'].mode()[0],\n",
    "        'drinks_per_night':std_df['drinks_per_night'].mode()[0],\n",
    "        'classes_missed_alcohol':std_df['classes_missed_alcohol'].mode()[0],\n",
    "        'modules_failed':std_df['modules_failed'].mode()[0],\n",
    "        'parents_approve_alcohol':std_df['parents_approve_alcohol'].mode()[0],\n",
    "        'in_relationship':std_df['in_relationship'].mode()[0],\n",
    "        'parent_relationship_strength':std_df['parent_relationship_strength'].mode()[0],\n",
    "        \n",
    "    }, inplace = True\n",
    ")"
   ]
  },
  {
   "cell_type": "code",
   "execution_count": 54,
   "id": "e4a9a7d6-cac3-42cd-be34-147c4a9585c4",
   "metadata": {},
   "outputs": [
    {
     "data": {
      "text/plain": [
       "Timestamp                       0\n",
       "gender                          0\n",
       "grade12_avg                     0\n",
       "year_2023_level                 0\n",
       "degree_faculty                  0\n",
       "gpa_percent_2023                0\n",
       "living_status_2023              0\n",
       "monthly_allowance_2023          0\n",
       "scholarship_status_2023         0\n",
       "extra_study_hours_week          0\n",
       "party_per_week                  0\n",
       "drinks_per_night                0\n",
       "classes_missed_alcohol          0\n",
       "modules_failed                  0\n",
       "in_relationship                 0\n",
       "parents_approve_alcohol         0\n",
       "parent_relationship_strength    0\n",
       "dtype: int64"
      ]
     },
     "execution_count": 54,
     "metadata": {},
     "output_type": "execute_result"
    }
   ],
   "source": [
    "std_df.isnull().sum()"
   ]
  },
  {
   "cell_type": "code",
   "execution_count": 55,
   "id": "e67cba2e-0e52-4bb3-8d6b-8cf68b703417",
   "metadata": {},
   "outputs": [],
   "source": [
    "## Data type checking & conversion"
   ]
  },
  {
   "cell_type": "code",
   "execution_count": 56,
   "id": "2ae42b99-9685-4135-ad4d-87d119961496",
   "metadata": {},
   "outputs": [
    {
     "name": "stdout",
     "output_type": "stream",
     "text": [
      "<class 'pandas.core.frame.DataFrame'>\n",
      "RangeIndex: 406 entries, 0 to 405\n",
      "Data columns (total 17 columns):\n",
      " #   Column                        Non-Null Count  Dtype  \n",
      "---  ------                        --------------  -----  \n",
      " 0   Timestamp                     406 non-null    object \n",
      " 1   gender                        406 non-null    object \n",
      " 2   grade12_avg                   406 non-null    float64\n",
      " 3   year_2023_level               406 non-null    object \n",
      " 4   degree_faculty                406 non-null    object \n",
      " 5   gpa_percent_2023              406 non-null    float64\n",
      " 6   living_status_2023            406 non-null    object \n",
      " 7   monthly_allowance_2023        406 non-null    object \n",
      " 8   scholarship_status_2023       406 non-null    object \n",
      " 9   extra_study_hours_week        406 non-null    object \n",
      " 10  party_per_week                406 non-null    object \n",
      " 11  drinks_per_night              406 non-null    object \n",
      " 12  classes_missed_alcohol        406 non-null    object \n",
      " 13  modules_failed                406 non-null    object \n",
      " 14  in_relationship               406 non-null    object \n",
      " 15  parents_approve_alcohol       406 non-null    object \n",
      " 16  parent_relationship_strength  406 non-null    object \n",
      "dtypes: float64(2), object(15)\n",
      "memory usage: 54.1+ KB\n"
     ]
    }
   ],
   "source": [
    "std_df.info()\n"
   ]
  },
  {
   "cell_type": "code",
   "execution_count": 57,
   "id": "0b474798-b963-454a-ac07-b2e8f4603cd8",
   "metadata": {},
   "outputs": [
    {
     "data": {
      "text/html": [
       "<div>\n",
       "<style scoped>\n",
       "    .dataframe tbody tr th:only-of-type {\n",
       "        vertical-align: middle;\n",
       "    }\n",
       "\n",
       "    .dataframe tbody tr th {\n",
       "        vertical-align: top;\n",
       "    }\n",
       "\n",
       "    .dataframe thead th {\n",
       "        text-align: right;\n",
       "    }\n",
       "</style>\n",
       "<table border=\"1\" class=\"dataframe\">\n",
       "  <thead>\n",
       "    <tr style=\"text-align: right;\">\n",
       "      <th></th>\n",
       "      <th>grade12_avg</th>\n",
       "      <th>gpa_percent_2023</th>\n",
       "    </tr>\n",
       "  </thead>\n",
       "  <tbody>\n",
       "    <tr>\n",
       "      <th>count</th>\n",
       "      <td>406.000000</td>\n",
       "      <td>406.000000</td>\n",
       "    </tr>\n",
       "    <tr>\n",
       "      <th>mean</th>\n",
       "      <td>77.955419</td>\n",
       "      <td>65.999778</td>\n",
       "    </tr>\n",
       "    <tr>\n",
       "      <th>std</th>\n",
       "      <td>6.992249</td>\n",
       "      <td>8.135325</td>\n",
       "    </tr>\n",
       "    <tr>\n",
       "      <th>min</th>\n",
       "      <td>34.000000</td>\n",
       "      <td>30.000000</td>\n",
       "    </tr>\n",
       "    <tr>\n",
       "      <th>25%</th>\n",
       "      <td>74.000000</td>\n",
       "      <td>61.000000</td>\n",
       "    </tr>\n",
       "    <tr>\n",
       "      <th>50%</th>\n",
       "      <td>78.000000</td>\n",
       "      <td>65.000000</td>\n",
       "    </tr>\n",
       "    <tr>\n",
       "      <th>75%</th>\n",
       "      <td>83.000000</td>\n",
       "      <td>70.000000</td>\n",
       "    </tr>\n",
       "    <tr>\n",
       "      <th>max</th>\n",
       "      <td>99.000000</td>\n",
       "      <td>95.220000</td>\n",
       "    </tr>\n",
       "  </tbody>\n",
       "</table>\n",
       "</div>"
      ],
      "text/plain": [
       "       grade12_avg  gpa_percent_2023\n",
       "count   406.000000        406.000000\n",
       "mean     77.955419         65.999778\n",
       "std       6.992249          8.135325\n",
       "min      34.000000         30.000000\n",
       "25%      74.000000         61.000000\n",
       "50%      78.000000         65.000000\n",
       "75%      83.000000         70.000000\n",
       "max      99.000000         95.220000"
      ]
     },
     "execution_count": 57,
     "metadata": {},
     "output_type": "execute_result"
    }
   ],
   "source": [
    "std_df.describe()"
   ]
  },
  {
   "cell_type": "markdown",
   "id": "68bed4a6-cdf5-45bf-8486-2456ead9db04",
   "metadata": {},
   "source": [
    "## Fix inconsistent categories (clean text)"
   ]
  },
  {
   "cell_type": "code",
   "execution_count": 58,
   "id": "d8374fca-6558-43a6-aefb-f7c3eaa7552b",
   "metadata": {},
   "outputs": [],
   "source": [
    "# Example: standardize text to lowercase and strip spaces\n",
    "std_df['parents_approve_alcohol'] = std_df['parents_approve_alcohol'].str.lower().str.strip()\n",
    "std_df['parent_relationship_strength'] = std_df['parent_relationship_strength'].str.lower().str.strip()\n"
   ]
  },
  {
   "cell_type": "code",
   "execution_count": 59,
   "id": "e1e3eda8-98be-4a5b-8bef-1a7077f72b44",
   "metadata": {},
   "outputs": [
    {
     "data": {
      "text/plain": [
       "np.False_"
      ]
     },
     "execution_count": 59,
     "metadata": {},
     "output_type": "execute_result"
    }
   ],
   "source": [
    "# Check if there are any nulls in the whole DataFrame (True/False)\n",
    "std_df.isnull().values.any()\n",
    "\n"
   ]
  },
  {
   "cell_type": "code",
   "execution_count": null,
   "id": "5ba30a10-72d0-4403-97df-28446f917b34",
   "metadata": {},
   "outputs": [],
   "source": []
  },
  {
   "cell_type": "code",
   "execution_count": 60,
   "id": "1583cbbd-3369-44ff-8e9d-bf03eb5f422a",
   "metadata": {},
   "outputs": [
    {
     "name": "stdout",
     "output_type": "stream",
     "text": [
      "Correlation between Grade 12 Avg and 2023 GPA: 0.2542962390311695\n"
     ]
    },
    {
     "data": {
      "image/png": "[encoded data removed]",
      "text/plain": [
       "<Figure size 640x480 with 1 Axes>"
      ]
     },
     "metadata": {},
     "output_type": "display_data"
    }
   ],
   "source": [
    "import matplotlib.pyplot as plt\n",
    "import seaborn as sns\n",
    "\n",
    "# Correlation\n",
    "corr = std_df['grade12_avg'].corr(std_df['gpa_percent_2023'])\n",
    "print(\"Correlation between Grade 12 Avg and 2023 GPA:\", corr)\n",
    "\n",
    "# Visualization\n",
    "sns.scatterplot(data=std_df, x='grade12_avg', y='gpa_percent_2023')\n",
    "sns.regplot(data=std_df, x='grade12_avg', y='gpa_percent_2023', scatter=False, color='red')\n",
    "plt.show()\n"
   ]
  },
  {
   "cell_type": "markdown",
   "id": "ac8c01a2-7133-4812-98c1-925f68204e54",
   "metadata": {},
   "source": [
    " ## Relationship between partying and GPA\n",
    "Question: Does going out more often relate to lower academic performance?"
   ]
  },
  {
   "cell_type": "code",
   "execution_count": 61,
   "id": "17e50076-2b01-4b26-958a-d4ad23d526f2",
   "metadata": {},
   "outputs": [
    {
     "data": {
      "image/png": "[encoded data removed]",
      "text/plain": [
       "<Figure size 800x800 with 1 Axes>"
      ]
     },
     "metadata": {},
     "output_type": "display_data"
    }
   ],
   "source": [
    "import seaborn as sns\n",
    "import matplotlib.pyplot as plt\n",
    "\n",
    "plt.figure(figsize =(8,8))\n",
    "sns.boxplot(data=std_df, x= 'party_per_week', y = 'gpa_percent_2023')\n",
    "plt.title('party frequency vs GPA')\n",
    "plt.xlabel('Parties per week')\n",
    "plt.ylabel('GPA (%)')\n",
    "plt.show()"
   ]
  },
  {
   "cell_type": "markdown",
   "id": "9993e519-6ed2-4845-be6c-234227a87197",
   "metadata": {},
   "source": [
    "## Drinks per night and missed classes\n",
    "Question: Do students who drink more miss more classes?"
   ]
  },
  {
   "cell_type": "code",
   "execution_count": 62,
   "id": "97a72993-370d-4120-bc5d-3448c6b0e18a",
   "metadata": {},
   "outputs": [
    {
     "data": {
      "image/png": "[encoded data removed]",
      "text/plain": [
       "<Figure size 800x800 with 1 Axes>"
      ]
     },
     "metadata": {},
     "output_type": "display_data"
    }
   ],
   "source": [
    "plt.figure(figsize=(8,8))\n",
    "sns.boxplot(data=std_df, x= 'drinks_per_night', y= 'classes_missed_alcohol')\n",
    "plt.title('drinks per night vs classes missed')\n",
    "plt.ylabel('classes missed per week(alcohol related)')\n",
    "plt.show()"
   ]
  },
  {
   "cell_type": "code",
   "execution_count": 63,
   "id": "9c835845-80b3-4d78-a458-fbf5e81dbc84",
   "metadata": {},
   "outputs": [
    {
     "data": {
      "text/plain": [
       "<Axes: xlabel='drinks_per_night', ylabel='classes_missed_alcohol'>"
      ]
     },
     "execution_count": 63,
     "metadata": {},
     "output_type": "execute_result"
    },
    {
     "data": {
      "image/png": "[encoded data removed]",
      "text/plain": [
       "<Figure size 640x480 with 1 Axes>"
      ]
     },
     "metadata": {},
     "output_type": "display_data"
    }
   ],
   "source": [
    "sns.barplot(x='drinks_per_night', y='classes_missed_alcohol', data=std_df, errorbar=None)\n"
   ]
  },
  {
   "cell_type": "code",
   "execution_count": 64,
   "id": "1d1d716d-b578-4783-a514-9718c29e4a63",
   "metadata": {},
   "outputs": [
    {
     "data": {
      "text/plain": [
       "<Axes: xlabel='classes_missed_alcohol', ylabel='drinks_per_night'>"
      ]
     },
     "execution_count": 64,
     "metadata": {},
     "output_type": "execute_result"
    },
    {
     "data": {
      "image/png": "[encoded data removed]",
      "text/plain": [
       "<Figure size 640x480 with 2 Axes>"
      ]
     },
     "metadata": {},
     "output_type": "display_data"
    }
   ],
   "source": [
    "pd.crosstab(std_df['drinks_per_night'], std_df['classes_missed_alcohol'])\n",
    "sns.heatmap(pd.crosstab(std_df['drinks_per_night'], std_df['classes_missed_alcohol']), annot=True, cmap='Blues')\n"
   ]
  },
  {
   "cell_type": "code",
   "execution_count": 65,
   "id": "31d129a7-fc41-4ce2-ae92-5ceb04583c4b",
   "metadata": {},
   "outputs": [
    {
     "data": {
      "text/plain": [
       "Index(['Timestamp', 'gender', 'grade12_avg', 'year_2023_level',\n",
       "       'degree_faculty', 'gpa_percent_2023', 'living_status_2023',\n",
       "       'monthly_allowance_2023', 'scholarship_status_2023',\n",
       "       'extra_study_hours_week', 'party_per_week', 'drinks_per_night',\n",
       "       'classes_missed_alcohol', 'modules_failed', 'in_relationship',\n",
       "       'parents_approve_alcohol', 'parent_relationship_strength'],\n",
       "      dtype='object')"
      ]
     },
     "execution_count": 65,
     "metadata": {},
     "output_type": "execute_result"
    }
   ],
   "source": [
    "std_df.columns"
   ]
  },
  {
   "cell_type": "markdown",
   "id": "b9cd972a-fd02-4dab-9334-0faae1c99558",
   "metadata": {},
   "source": [
    "## Distribution of Parent Relationship Strength"
   ]
  },
  {
   "cell_type": "code",
   "execution_count": 66,
   "id": "5e46ab56-7731-4504-8636-8f3a0aec2ffd",
   "metadata": {},
   "outputs": [
    {
     "data": {
      "image/png": "[encoded data removed]",
      "text/plain": [
       "<Figure size 640x480 with 1 Axes>"
      ]
     },
     "metadata": {},
     "output_type": "display_data"
    },
    {
     "name": "stdout",
     "output_type": "stream",
     "text": [
      "in_relationship           No  Yes\n",
      "parents_approve_alcohol          \n",
      "no                        32   17\n",
      "yes                      210  147\n"
     ]
    }
   ],
   "source": [
    "import seaborn as sns\n",
    "import matplotlib.pyplot as plt\n",
    "\n",
    "# Plot distribution of parent_relationship_strength\n",
    "sns.countplot(data=std_df, x='parent_relationship_strength')\n",
    "plt.title('Distribution of Parent Relationship Strength')\n",
    "plt.show()\n",
    "\n",
    "# Crosstab parents_approve_alcohol vs in_relationship\n",
    "print(pd.crosstab(std_df['parents_approve_alcohol'], std_df['in_relationship']))\n"
   ]
  },
  {
   "cell_type": "markdown",
   "id": "95d8fbe7-a754-477c-afd9-276a86dc3d96",
   "metadata": {},
   "source": [
    "## Does gender affect GPA percentage in 2023?"
   ]
  },
  {
   "cell_type": "code",
   "execution_count": 67,
   "id": "a7346612-bcd1-4dc5-81bd-562b8a19c509",
   "metadata": {},
   "outputs": [
    {
     "data": {
      "text/plain": [
       "<Axes: title={'center': 'Average GPA by Gender'}, xlabel='gender'>"
      ]
     },
     "execution_count": 67,
     "metadata": {},
     "output_type": "execute_result"
    },
    {
     "data": {
      "image/png": "[encoded data removed]",
      "text/plain": [
       "<Figure size 640x480 with 1 Axes>"
      ]
     },
     "metadata": {},
     "output_type": "display_data"
    }
   ],
   "source": [
    "std_df.groupby('gender')['gpa_percent_2023'].mean().plot(kind= 'bar', title = 'Average GPA by Gender')"
   ]
  },
  {
   "cell_type": "markdown",
   "id": "27778020-cfd2-47dd-9761-9a68eab8c456",
   "metadata": {},
   "source": [
    "## scholarship status relate to average monthly allowance?"
   ]
  },
  {
   "cell_type": "code",
   "execution_count": 68,
   "id": "0c7f6239-cd01-4da5-99f5-c4509ba906c0",
   "metadata": {},
   "outputs": [],
   "source": [
    "mapping = {\n",
    "    \"R 4001- R 5000\": 4500,\n",
    "    \"R 5001 - R 6000\": 5500,\n",
    "    \"R 6001 - R 7000\": 6500,\n",
    "    \"R 7001 - R 8000\": 7500,\n",
    "    \"8000+\": 8500\n",
    "}\n",
    "std_df['monthly_allowance_numeric'] = std_df['monthly_allowance_2023'].map(mapping)\n"
   ]
  },
  {
   "cell_type": "code",
   "execution_count": 69,
   "id": "e22e083d-6373-4115-ad0b-67597a63cd65",
   "metadata": {},
   "outputs": [
    {
     "name": "stdout",
     "output_type": "stream",
     "text": [
      "  monthly_allowance_2023  monthly_allowance_numeric\n",
      "0         R 4001- R 5000                     4500.0\n",
      "1        R 7001 - R 8000                     7500.0\n",
      "2         R 4001- R 5000                     4500.0\n",
      "3        R 6001 - R 7000                     6500.0\n",
      "4         R 4001- R 5000                     4500.0\n"
     ]
    }
   ],
   "source": [
    "print(std_df[['monthly_allowance_2023', 'monthly_allowance_numeric']].head())\n"
   ]
  },
  {
   "cell_type": "code",
   "execution_count": 70,
   "id": "55daa11e-4481-41b0-8d2f-5a9258676c91",
   "metadata": {},
   "outputs": [
    {
     "data": {
      "text/plain": [
       "<Axes: title={'center': 'Monthly Allowance by Scholarship Status'}, xlabel='scholarship_status_2023'>"
      ]
     },
     "execution_count": 70,
     "metadata": {},
     "output_type": "execute_result"
    },
    {
     "data": {
      "image/png": "[encoded data removed]",
      "text/plain": [
       "<Figure size 640x480 with 1 Axes>"
      ]
     },
     "metadata": {},
     "output_type": "display_data"
    }
   ],
   "source": [
    "std_df.groupby('scholarship_status_2023')['monthly_allowance_numeric'].mean().plot(\n",
    "    kind='bar', title='Monthly Allowance by Scholarship Status')\n"
   ]
  },
  {
   "cell_type": "markdown",
   "id": "5f95e9f5-02b1-4d32-ad7d-d4384a993777",
   "metadata": {},
   "source": [
    "## average number of study hours per week by year level?"
   ]
  },
  {
   "cell_type": "code",
   "execution_count": 71,
   "id": "eff3d127-ef8a-4460-86c4-78a60cbeae77",
   "metadata": {},
   "outputs": [
    {
     "ename": "TypeError",
     "evalue": "agg function failed [how->mean,dtype->object]",
     "output_type": "error",
     "traceback": [
      "\u001b[1;31m---------------------------------------------------------------------------\u001b[0m",
      "\u001b[1;31mTypeError\u001b[0m                                 Traceback (most recent call last)",
      "File \u001b[1;32m~\\AppData\\Roaming\\Python\\Python313\\site-packages\\pandas\\core\\groupby\\groupby.py:1943\u001b[0m, in \u001b[0;36mGroupBy._agg_py_fallback\u001b[1;34m(self, how, values, ndim, alt)\u001b[0m\n\u001b[0;32m   1942\u001b[0m \u001b[38;5;28;01mtry\u001b[39;00m:\n\u001b[1;32m-> 1943\u001b[0m     res_values \u001b[38;5;241m=\u001b[39m \u001b[38;5;28;43mself\u001b[39;49m\u001b[38;5;241;43m.\u001b[39;49m\u001b[43m_grouper\u001b[49m\u001b[38;5;241;43m.\u001b[39;49m\u001b[43magg_series\u001b[49m\u001b[43m(\u001b[49m\u001b[43mser\u001b[49m\u001b[43m,\u001b[49m\u001b[43m \u001b[49m\u001b[43malt\u001b[49m\u001b[43m,\u001b[49m\u001b[43m \u001b[49m\u001b[43mpreserve_dtype\u001b[49m\u001b[38;5;241;43m=\u001b[39;49m\u001b[38;5;28;43;01mTrue\u001b[39;49;00m\u001b[43m)\u001b[49m\n\u001b[0;32m   1944\u001b[0m \u001b[38;5;28;01mexcept\u001b[39;00m \u001b[38;5;167;01mException\u001b[39;00m \u001b[38;5;28;01mas\u001b[39;00m err:\n",
      "File \u001b[1;32m~\\AppData\\Roaming\\Python\\Python313\\site-packages\\pandas\\core\\groupby\\ops.py:864\u001b[0m, in \u001b[0;36mBaseGrouper.agg_series\u001b[1;34m(self, obj, func, preserve_dtype)\u001b[0m\n\u001b[0;32m    862\u001b[0m     preserve_dtype \u001b[38;5;241m=\u001b[39m \u001b[38;5;28;01mTrue\u001b[39;00m\n\u001b[1;32m--> 864\u001b[0m result \u001b[38;5;241m=\u001b[39m \u001b[38;5;28;43mself\u001b[39;49m\u001b[38;5;241;43m.\u001b[39;49m\u001b[43m_aggregate_series_pure_python\u001b[49m\u001b[43m(\u001b[49m\u001b[43mobj\u001b[49m\u001b[43m,\u001b[49m\u001b[43m \u001b[49m\u001b[43mfunc\u001b[49m\u001b[43m)\u001b[49m\n\u001b[0;32m    866\u001b[0m npvalues \u001b[38;5;241m=\u001b[39m lib\u001b[38;5;241m.\u001b[39mmaybe_convert_objects(result, try_float\u001b[38;5;241m=\u001b[39m\u001b[38;5;28;01mFalse\u001b[39;00m)\n",
      "File \u001b[1;32m~\\AppData\\Roaming\\Python\\Python313\\site-packages\\pandas\\core\\groupby\\ops.py:885\u001b[0m, in \u001b[0;36mBaseGrouper._aggregate_series_pure_python\u001b[1;34m(self, obj, func)\u001b[0m\n\u001b[0;32m    884\u001b[0m \u001b[38;5;28;01mfor\u001b[39;00m i, group \u001b[38;5;129;01min\u001b[39;00m \u001b[38;5;28menumerate\u001b[39m(splitter):\n\u001b[1;32m--> 885\u001b[0m     res \u001b[38;5;241m=\u001b[39m \u001b[43mfunc\u001b[49m\u001b[43m(\u001b[49m\u001b[43mgroup\u001b[49m\u001b[43m)\u001b[49m\n\u001b[0;32m    886\u001b[0m     res \u001b[38;5;241m=\u001b[39m extract_result(res)\n",
      "File \u001b[1;32m~\\AppData\\Roaming\\Python\\Python313\\site-packages\\pandas\\core\\groupby\\groupby.py:2460\u001b[0m, in \u001b[0;36mGroupBy.mean.<locals>.<lambda>\u001b[1;34m(x)\u001b[0m\n\u001b[0;32m   2457\u001b[0m \u001b[38;5;28;01melse\u001b[39;00m:\n\u001b[0;32m   2458\u001b[0m     result \u001b[38;5;241m=\u001b[39m \u001b[38;5;28mself\u001b[39m\u001b[38;5;241m.\u001b[39m_cython_agg_general(\n\u001b[0;32m   2459\u001b[0m         \u001b[38;5;124m\"\u001b[39m\u001b[38;5;124mmean\u001b[39m\u001b[38;5;124m\"\u001b[39m,\n\u001b[1;32m-> 2460\u001b[0m         alt\u001b[38;5;241m=\u001b[39m\u001b[38;5;28;01mlambda\u001b[39;00m x: \u001b[43mSeries\u001b[49m\u001b[43m(\u001b[49m\u001b[43mx\u001b[49m\u001b[43m,\u001b[49m\u001b[43m \u001b[49m\u001b[43mcopy\u001b[49m\u001b[38;5;241;43m=\u001b[39;49m\u001b[38;5;28;43;01mFalse\u001b[39;49;00m\u001b[43m)\u001b[49m\u001b[38;5;241;43m.\u001b[39;49m\u001b[43mmean\u001b[49m\u001b[43m(\u001b[49m\u001b[43mnumeric_only\u001b[49m\u001b[38;5;241;43m=\u001b[39;49m\u001b[43mnumeric_only\u001b[49m\u001b[43m)\u001b[49m,\n\u001b[0;32m   2461\u001b[0m         numeric_only\u001b[38;5;241m=\u001b[39mnumeric_only,\n\u001b[0;32m   2462\u001b[0m     )\n\u001b[0;32m   2463\u001b[0m     \u001b[38;5;28;01mreturn\u001b[39;00m result\u001b[38;5;241m.\u001b[39m__finalize__(\u001b[38;5;28mself\u001b[39m\u001b[38;5;241m.\u001b[39mobj, method\u001b[38;5;241m=\u001b[39m\u001b[38;5;124m\"\u001b[39m\u001b[38;5;124mgroupby\u001b[39m\u001b[38;5;124m\"\u001b[39m)\n",
      "File \u001b[1;32m~\\AppData\\Roaming\\Python\\Python313\\site-packages\\pandas\\core\\series.py:6560\u001b[0m, in \u001b[0;36mSeries.mean\u001b[1;34m(self, axis, skipna, numeric_only, **kwargs)\u001b[0m\n\u001b[0;32m   6552\u001b[0m \u001b[38;5;129m@doc\u001b[39m(make_doc(\u001b[38;5;124m\"\u001b[39m\u001b[38;5;124mmean\u001b[39m\u001b[38;5;124m\"\u001b[39m, ndim\u001b[38;5;241m=\u001b[39m\u001b[38;5;241m1\u001b[39m))\n\u001b[0;32m   6553\u001b[0m \u001b[38;5;28;01mdef\u001b[39;00m \u001b[38;5;21mmean\u001b[39m(\n\u001b[0;32m   6554\u001b[0m     \u001b[38;5;28mself\u001b[39m,\n\u001b[1;32m   (...)\u001b[0m\n\u001b[0;32m   6558\u001b[0m     \u001b[38;5;241m*\u001b[39m\u001b[38;5;241m*\u001b[39mkwargs,\n\u001b[0;32m   6559\u001b[0m ):\n\u001b[1;32m-> 6560\u001b[0m     \u001b[38;5;28;01mreturn\u001b[39;00m \u001b[43mNDFrame\u001b[49m\u001b[38;5;241;43m.\u001b[39;49m\u001b[43mmean\u001b[49m\u001b[43m(\u001b[49m\u001b[38;5;28;43mself\u001b[39;49m\u001b[43m,\u001b[49m\u001b[43m \u001b[49m\u001b[43maxis\u001b[49m\u001b[43m,\u001b[49m\u001b[43m \u001b[49m\u001b[43mskipna\u001b[49m\u001b[43m,\u001b[49m\u001b[43m \u001b[49m\u001b[43mnumeric_only\u001b[49m\u001b[43m,\u001b[49m\u001b[43m \u001b[49m\u001b[38;5;241;43m*\u001b[39;49m\u001b[38;5;241;43m*\u001b[39;49m\u001b[43mkwargs\u001b[49m\u001b[43m)\u001b[49m\n",
      "File \u001b[1;32m~\\AppData\\Roaming\\Python\\Python313\\site-packages\\pandas\\core\\generic.py:12439\u001b[0m, in \u001b[0;36mNDFrame.mean\u001b[1;34m(self, axis, skipna, numeric_only, **kwargs)\u001b[0m\n\u001b[0;32m  12432\u001b[0m \u001b[38;5;28;01mdef\u001b[39;00m \u001b[38;5;21mmean\u001b[39m(\n\u001b[0;32m  12433\u001b[0m     \u001b[38;5;28mself\u001b[39m,\n\u001b[0;32m  12434\u001b[0m     axis: Axis \u001b[38;5;241m|\u001b[39m \u001b[38;5;28;01mNone\u001b[39;00m \u001b[38;5;241m=\u001b[39m \u001b[38;5;241m0\u001b[39m,\n\u001b[1;32m   (...)\u001b[0m\n\u001b[0;32m  12437\u001b[0m     \u001b[38;5;241m*\u001b[39m\u001b[38;5;241m*\u001b[39mkwargs,\n\u001b[0;32m  12438\u001b[0m ) \u001b[38;5;241m-\u001b[39m\u001b[38;5;241m>\u001b[39m Series \u001b[38;5;241m|\u001b[39m \u001b[38;5;28mfloat\u001b[39m:\n\u001b[1;32m> 12439\u001b[0m     \u001b[38;5;28;01mreturn\u001b[39;00m \u001b[38;5;28;43mself\u001b[39;49m\u001b[38;5;241;43m.\u001b[39;49m\u001b[43m_stat_function\u001b[49m\u001b[43m(\u001b[49m\n\u001b[0;32m  12440\u001b[0m \u001b[43m        \u001b[49m\u001b[38;5;124;43m\"\u001b[39;49m\u001b[38;5;124;43mmean\u001b[39;49m\u001b[38;5;124;43m\"\u001b[39;49m\u001b[43m,\u001b[49m\u001b[43m \u001b[49m\u001b[43mnanops\u001b[49m\u001b[38;5;241;43m.\u001b[39;49m\u001b[43mnanmean\u001b[49m\u001b[43m,\u001b[49m\u001b[43m \u001b[49m\u001b[43maxis\u001b[49m\u001b[43m,\u001b[49m\u001b[43m \u001b[49m\u001b[43mskipna\u001b[49m\u001b[43m,\u001b[49m\u001b[43m \u001b[49m\u001b[43mnumeric_only\u001b[49m\u001b[43m,\u001b[49m\u001b[43m \u001b[49m\u001b[38;5;241;43m*\u001b[39;49m\u001b[38;5;241;43m*\u001b[39;49m\u001b[43mkwargs\u001b[49m\n\u001b[0;32m  12441\u001b[0m \u001b[43m    \u001b[49m\u001b[43m)\u001b[49m\n",
      "File \u001b[1;32m~\\AppData\\Roaming\\Python\\Python313\\site-packages\\pandas\\core\\generic.py:12396\u001b[0m, in \u001b[0;36mNDFrame._stat_function\u001b[1;34m(self, name, func, axis, skipna, numeric_only, **kwargs)\u001b[0m\n\u001b[0;32m  12394\u001b[0m validate_bool_kwarg(skipna, \u001b[38;5;124m\"\u001b[39m\u001b[38;5;124mskipna\u001b[39m\u001b[38;5;124m\"\u001b[39m, none_allowed\u001b[38;5;241m=\u001b[39m\u001b[38;5;28;01mFalse\u001b[39;00m)\n\u001b[1;32m> 12396\u001b[0m \u001b[38;5;28;01mreturn\u001b[39;00m \u001b[38;5;28;43mself\u001b[39;49m\u001b[38;5;241;43m.\u001b[39;49m\u001b[43m_reduce\u001b[49m\u001b[43m(\u001b[49m\n\u001b[0;32m  12397\u001b[0m \u001b[43m    \u001b[49m\u001b[43mfunc\u001b[49m\u001b[43m,\u001b[49m\u001b[43m \u001b[49m\u001b[43mname\u001b[49m\u001b[38;5;241;43m=\u001b[39;49m\u001b[43mname\u001b[49m\u001b[43m,\u001b[49m\u001b[43m \u001b[49m\u001b[43maxis\u001b[49m\u001b[38;5;241;43m=\u001b[39;49m\u001b[43maxis\u001b[49m\u001b[43m,\u001b[49m\u001b[43m \u001b[49m\u001b[43mskipna\u001b[49m\u001b[38;5;241;43m=\u001b[39;49m\u001b[43mskipna\u001b[49m\u001b[43m,\u001b[49m\u001b[43m \u001b[49m\u001b[43mnumeric_only\u001b[49m\u001b[38;5;241;43m=\u001b[39;49m\u001b[43mnumeric_only\u001b[49m\n\u001b[0;32m  12398\u001b[0m \u001b[43m\u001b[49m\u001b[43m)\u001b[49m\n",
      "File \u001b[1;32m~\\AppData\\Roaming\\Python\\Python313\\site-packages\\pandas\\core\\series.py:6468\u001b[0m, in \u001b[0;36mSeries._reduce\u001b[1;34m(self, op, name, axis, skipna, numeric_only, filter_type, **kwds)\u001b[0m\n\u001b[0;32m   6464\u001b[0m     \u001b[38;5;28;01mraise\u001b[39;00m \u001b[38;5;167;01mTypeError\u001b[39;00m(\n\u001b[0;32m   6465\u001b[0m         \u001b[38;5;124mf\u001b[39m\u001b[38;5;124m\"\u001b[39m\u001b[38;5;124mSeries.\u001b[39m\u001b[38;5;132;01m{\u001b[39;00mname\u001b[38;5;132;01m}\u001b[39;00m\u001b[38;5;124m does not allow \u001b[39m\u001b[38;5;132;01m{\u001b[39;00mkwd_name\u001b[38;5;132;01m}\u001b[39;00m\u001b[38;5;124m=\u001b[39m\u001b[38;5;132;01m{\u001b[39;00mnumeric_only\u001b[38;5;132;01m}\u001b[39;00m\u001b[38;5;124m \u001b[39m\u001b[38;5;124m\"\u001b[39m\n\u001b[0;32m   6466\u001b[0m         \u001b[38;5;124m\"\u001b[39m\u001b[38;5;124mwith non-numeric dtypes.\u001b[39m\u001b[38;5;124m\"\u001b[39m\n\u001b[0;32m   6467\u001b[0m     )\n\u001b[1;32m-> 6468\u001b[0m \u001b[38;5;28;01mreturn\u001b[39;00m \u001b[43mop\u001b[49m\u001b[43m(\u001b[49m\u001b[43mdelegate\u001b[49m\u001b[43m,\u001b[49m\u001b[43m \u001b[49m\u001b[43mskipna\u001b[49m\u001b[38;5;241;43m=\u001b[39;49m\u001b[43mskipna\u001b[49m\u001b[43m,\u001b[49m\u001b[43m \u001b[49m\u001b[38;5;241;43m*\u001b[39;49m\u001b[38;5;241;43m*\u001b[39;49m\u001b[43mkwds\u001b[49m\u001b[43m)\u001b[49m\n",
      "File \u001b[1;32m~\\AppData\\Roaming\\Python\\Python313\\site-packages\\pandas\\core\\nanops.py:147\u001b[0m, in \u001b[0;36mbottleneck_switch.__call__.<locals>.f\u001b[1;34m(values, axis, skipna, **kwds)\u001b[0m\n\u001b[0;32m    146\u001b[0m \u001b[38;5;28;01melse\u001b[39;00m:\n\u001b[1;32m--> 147\u001b[0m     result \u001b[38;5;241m=\u001b[39m \u001b[43malt\u001b[49m\u001b[43m(\u001b[49m\u001b[43mvalues\u001b[49m\u001b[43m,\u001b[49m\u001b[43m \u001b[49m\u001b[43maxis\u001b[49m\u001b[38;5;241;43m=\u001b[39;49m\u001b[43maxis\u001b[49m\u001b[43m,\u001b[49m\u001b[43m \u001b[49m\u001b[43mskipna\u001b[49m\u001b[38;5;241;43m=\u001b[39;49m\u001b[43mskipna\u001b[49m\u001b[43m,\u001b[49m\u001b[43m \u001b[49m\u001b[38;5;241;43m*\u001b[39;49m\u001b[38;5;241;43m*\u001b[39;49m\u001b[43mkwds\u001b[49m\u001b[43m)\u001b[49m\n\u001b[0;32m    149\u001b[0m \u001b[38;5;28;01mreturn\u001b[39;00m result\n",
      "File \u001b[1;32m~\\AppData\\Roaming\\Python\\Python313\\site-packages\\pandas\\core\\nanops.py:404\u001b[0m, in \u001b[0;36m_datetimelike_compat.<locals>.new_func\u001b[1;34m(values, axis, skipna, mask, **kwargs)\u001b[0m\n\u001b[0;32m    402\u001b[0m     mask \u001b[38;5;241m=\u001b[39m isna(values)\n\u001b[1;32m--> 404\u001b[0m result \u001b[38;5;241m=\u001b[39m \u001b[43mfunc\u001b[49m\u001b[43m(\u001b[49m\u001b[43mvalues\u001b[49m\u001b[43m,\u001b[49m\u001b[43m \u001b[49m\u001b[43maxis\u001b[49m\u001b[38;5;241;43m=\u001b[39;49m\u001b[43maxis\u001b[49m\u001b[43m,\u001b[49m\u001b[43m \u001b[49m\u001b[43mskipna\u001b[49m\u001b[38;5;241;43m=\u001b[39;49m\u001b[43mskipna\u001b[49m\u001b[43m,\u001b[49m\u001b[43m \u001b[49m\u001b[43mmask\u001b[49m\u001b[38;5;241;43m=\u001b[39;49m\u001b[43mmask\u001b[49m\u001b[43m,\u001b[49m\u001b[43m \u001b[49m\u001b[38;5;241;43m*\u001b[39;49m\u001b[38;5;241;43m*\u001b[39;49m\u001b[43mkwargs\u001b[49m\u001b[43m)\u001b[49m\n\u001b[0;32m    406\u001b[0m \u001b[38;5;28;01mif\u001b[39;00m datetimelike:\n",
      "File \u001b[1;32m~\\AppData\\Roaming\\Python\\Python313\\site-packages\\pandas\\core\\nanops.py:720\u001b[0m, in \u001b[0;36mnanmean\u001b[1;34m(values, axis, skipna, mask)\u001b[0m\n\u001b[0;32m    719\u001b[0m the_sum \u001b[38;5;241m=\u001b[39m values\u001b[38;5;241m.\u001b[39msum(axis, dtype\u001b[38;5;241m=\u001b[39mdtype_sum)\n\u001b[1;32m--> 720\u001b[0m the_sum \u001b[38;5;241m=\u001b[39m \u001b[43m_ensure_numeric\u001b[49m\u001b[43m(\u001b[49m\u001b[43mthe_sum\u001b[49m\u001b[43m)\u001b[49m\n\u001b[0;32m    722\u001b[0m \u001b[38;5;28;01mif\u001b[39;00m axis \u001b[38;5;129;01mis\u001b[39;00m \u001b[38;5;129;01mnot\u001b[39;00m \u001b[38;5;28;01mNone\u001b[39;00m \u001b[38;5;129;01mand\u001b[39;00m \u001b[38;5;28mgetattr\u001b[39m(the_sum, \u001b[38;5;124m\"\u001b[39m\u001b[38;5;124mndim\u001b[39m\u001b[38;5;124m\"\u001b[39m, \u001b[38;5;28;01mFalse\u001b[39;00m):\n",
      "File \u001b[1;32m~\\AppData\\Roaming\\Python\\Python313\\site-packages\\pandas\\core\\nanops.py:1701\u001b[0m, in \u001b[0;36m_ensure_numeric\u001b[1;34m(x)\u001b[0m\n\u001b[0;32m   1699\u001b[0m \u001b[38;5;28;01mif\u001b[39;00m \u001b[38;5;28misinstance\u001b[39m(x, \u001b[38;5;28mstr\u001b[39m):\n\u001b[0;32m   1700\u001b[0m     \u001b[38;5;66;03m# GH#44008, GH#36703 avoid casting e.g. strings to numeric\u001b[39;00m\n\u001b[1;32m-> 1701\u001b[0m     \u001b[38;5;28;01mraise\u001b[39;00m \u001b[38;5;167;01mTypeError\u001b[39;00m(\u001b[38;5;124mf\u001b[39m\u001b[38;5;124m\"\u001b[39m\u001b[38;5;124mCould not convert string \u001b[39m\u001b[38;5;124m'\u001b[39m\u001b[38;5;132;01m{\u001b[39;00mx\u001b[38;5;132;01m}\u001b[39;00m\u001b[38;5;124m'\u001b[39m\u001b[38;5;124m to numeric\u001b[39m\u001b[38;5;124m\"\u001b[39m)\n\u001b[0;32m   1702\u001b[0m \u001b[38;5;28;01mtry\u001b[39;00m:\n",
      "\u001b[1;31mTypeError\u001b[0m: Could not convert string '3-58+1-38+3-58+3-55-81-33-51-33-51-31-38+1-35-88+8+3-55-83-55-83-55-83-58+05-81-38+3-58+1-31-31-31-33-53-501-33-53-55-83-51-38+8+5-88+8+5-81-35-81-31-35-83-51-33-503-501-31-31-31-35-83-51-33-51-33-58+8+8+5-81-31-35-88+5-81-31-35-83-51-35-83-55-83-55-85-85-81-31-35-83-51-38+5-81-35-803-58+1-38+1-33-55-81-303-51-38+3-51-38+1-31-38+01-31-35-85-83-5' to numeric",
      "\nThe above exception was the direct cause of the following exception:\n",
      "\u001b[1;31mTypeError\u001b[0m                                 Traceback (most recent call last)",
      "Cell \u001b[1;32mIn[71], line 1\u001b[0m\n\u001b[1;32m----> 1\u001b[0m \u001b[43mstd_df\u001b[49m\u001b[38;5;241;43m.\u001b[39;49m\u001b[43mgroupby\u001b[49m\u001b[43m(\u001b[49m\u001b[38;5;124;43m'\u001b[39;49m\u001b[38;5;124;43myear_2023_level\u001b[39;49m\u001b[38;5;124;43m'\u001b[39;49m\u001b[43m)\u001b[49m\u001b[43m[\u001b[49m\u001b[38;5;124;43m'\u001b[39;49m\u001b[38;5;124;43mextra_study_hours_week\u001b[39;49m\u001b[38;5;124;43m'\u001b[39;49m\u001b[43m]\u001b[49m\u001b[38;5;241;43m.\u001b[39;49m\u001b[43mmean\u001b[49m\u001b[43m(\u001b[49m\u001b[43m)\u001b[49m\u001b[38;5;241m.\u001b[39mplot(kind\u001b[38;5;241m=\u001b[39m\u001b[38;5;124m'\u001b[39m\u001b[38;5;124mbar\u001b[39m\u001b[38;5;124m'\u001b[39m, title\u001b[38;5;241m=\u001b[39m\u001b[38;5;124m'\u001b[39m\u001b[38;5;124mAvg Study Hours per Week by Year Level\u001b[39m\u001b[38;5;124m'\u001b[39m)\n",
      "File \u001b[1;32m~\\AppData\\Roaming\\Python\\Python313\\site-packages\\pandas\\core\\groupby\\groupby.py:2458\u001b[0m, in \u001b[0;36mGroupBy.mean\u001b[1;34m(self, numeric_only, engine, engine_kwargs)\u001b[0m\n\u001b[0;32m   2451\u001b[0m     \u001b[38;5;28;01mreturn\u001b[39;00m \u001b[38;5;28mself\u001b[39m\u001b[38;5;241m.\u001b[39m_numba_agg_general(\n\u001b[0;32m   2452\u001b[0m         grouped_mean,\n\u001b[0;32m   2453\u001b[0m         executor\u001b[38;5;241m.\u001b[39mfloat_dtype_mapping,\n\u001b[0;32m   2454\u001b[0m         engine_kwargs,\n\u001b[0;32m   2455\u001b[0m         min_periods\u001b[38;5;241m=\u001b[39m\u001b[38;5;241m0\u001b[39m,\n\u001b[0;32m   2456\u001b[0m     )\n\u001b[0;32m   2457\u001b[0m \u001b[38;5;28;01melse\u001b[39;00m:\n\u001b[1;32m-> 2458\u001b[0m     result \u001b[38;5;241m=\u001b[39m \u001b[38;5;28;43mself\u001b[39;49m\u001b[38;5;241;43m.\u001b[39;49m\u001b[43m_cython_agg_general\u001b[49m\u001b[43m(\u001b[49m\n\u001b[0;32m   2459\u001b[0m \u001b[43m        \u001b[49m\u001b[38;5;124;43m\"\u001b[39;49m\u001b[38;5;124;43mmean\u001b[39;49m\u001b[38;5;124;43m\"\u001b[39;49m\u001b[43m,\u001b[49m\n\u001b[0;32m   2460\u001b[0m \u001b[43m        \u001b[49m\u001b[43malt\u001b[49m\u001b[38;5;241;43m=\u001b[39;49m\u001b[38;5;28;43;01mlambda\u001b[39;49;00m\u001b[43m \u001b[49m\u001b[43mx\u001b[49m\u001b[43m:\u001b[49m\u001b[43m \u001b[49m\u001b[43mSeries\u001b[49m\u001b[43m(\u001b[49m\u001b[43mx\u001b[49m\u001b[43m,\u001b[49m\u001b[43m \u001b[49m\u001b[43mcopy\u001b[49m\u001b[38;5;241;43m=\u001b[39;49m\u001b[38;5;28;43;01mFalse\u001b[39;49;00m\u001b[43m)\u001b[49m\u001b[38;5;241;43m.\u001b[39;49m\u001b[43mmean\u001b[49m\u001b[43m(\u001b[49m\u001b[43mnumeric_only\u001b[49m\u001b[38;5;241;43m=\u001b[39;49m\u001b[43mnumeric_only\u001b[49m\u001b[43m)\u001b[49m\u001b[43m,\u001b[49m\n\u001b[0;32m   2461\u001b[0m \u001b[43m        \u001b[49m\u001b[43mnumeric_only\u001b[49m\u001b[38;5;241;43m=\u001b[39;49m\u001b[43mnumeric_only\u001b[49m\u001b[43m,\u001b[49m\n\u001b[0;32m   2462\u001b[0m \u001b[43m    \u001b[49m\u001b[43m)\u001b[49m\n\u001b[0;32m   2463\u001b[0m     \u001b[38;5;28;01mreturn\u001b[39;00m result\u001b[38;5;241m.\u001b[39m__finalize__(\u001b[38;5;28mself\u001b[39m\u001b[38;5;241m.\u001b[39mobj, method\u001b[38;5;241m=\u001b[39m\u001b[38;5;124m\"\u001b[39m\u001b[38;5;124mgroupby\u001b[39m\u001b[38;5;124m\"\u001b[39m)\n",
      "File \u001b[1;32m~\\AppData\\Roaming\\Python\\Python313\\site-packages\\pandas\\core\\groupby\\groupby.py:2004\u001b[0m, in \u001b[0;36mGroupBy._cython_agg_general\u001b[1;34m(self, how, alt, numeric_only, min_count, **kwargs)\u001b[0m\n\u001b[0;32m   2001\u001b[0m     result \u001b[38;5;241m=\u001b[39m \u001b[38;5;28mself\u001b[39m\u001b[38;5;241m.\u001b[39m_agg_py_fallback(how, values, ndim\u001b[38;5;241m=\u001b[39mdata\u001b[38;5;241m.\u001b[39mndim, alt\u001b[38;5;241m=\u001b[39malt)\n\u001b[0;32m   2002\u001b[0m     \u001b[38;5;28;01mreturn\u001b[39;00m result\n\u001b[1;32m-> 2004\u001b[0m new_mgr \u001b[38;5;241m=\u001b[39m \u001b[43mdata\u001b[49m\u001b[38;5;241;43m.\u001b[39;49m\u001b[43mgrouped_reduce\u001b[49m\u001b[43m(\u001b[49m\u001b[43marray_func\u001b[49m\u001b[43m)\u001b[49m\n\u001b[0;32m   2005\u001b[0m res \u001b[38;5;241m=\u001b[39m \u001b[38;5;28mself\u001b[39m\u001b[38;5;241m.\u001b[39m_wrap_agged_manager(new_mgr)\n\u001b[0;32m   2006\u001b[0m \u001b[38;5;28;01mif\u001b[39;00m how \u001b[38;5;129;01min\u001b[39;00m [\u001b[38;5;124m\"\u001b[39m\u001b[38;5;124midxmin\u001b[39m\u001b[38;5;124m\"\u001b[39m, \u001b[38;5;124m\"\u001b[39m\u001b[38;5;124midxmax\u001b[39m\u001b[38;5;124m\"\u001b[39m]:\n",
      "File \u001b[1;32m~\\AppData\\Roaming\\Python\\Python313\\site-packages\\pandas\\core\\internals\\base.py:367\u001b[0m, in \u001b[0;36mSingleDataManager.grouped_reduce\u001b[1;34m(self, func)\u001b[0m\n\u001b[0;32m    365\u001b[0m \u001b[38;5;28;01mdef\u001b[39;00m \u001b[38;5;21mgrouped_reduce\u001b[39m(\u001b[38;5;28mself\u001b[39m, func):\n\u001b[0;32m    366\u001b[0m     arr \u001b[38;5;241m=\u001b[39m \u001b[38;5;28mself\u001b[39m\u001b[38;5;241m.\u001b[39marray\n\u001b[1;32m--> 367\u001b[0m     res \u001b[38;5;241m=\u001b[39m \u001b[43mfunc\u001b[49m\u001b[43m(\u001b[49m\u001b[43marr\u001b[49m\u001b[43m)\u001b[49m\n\u001b[0;32m    368\u001b[0m     index \u001b[38;5;241m=\u001b[39m default_index(\u001b[38;5;28mlen\u001b[39m(res))\n\u001b[0;32m    370\u001b[0m     mgr \u001b[38;5;241m=\u001b[39m \u001b[38;5;28mtype\u001b[39m(\u001b[38;5;28mself\u001b[39m)\u001b[38;5;241m.\u001b[39mfrom_array(res, index)\n",
      "File \u001b[1;32m~\\AppData\\Roaming\\Python\\Python313\\site-packages\\pandas\\core\\groupby\\groupby.py:2001\u001b[0m, in \u001b[0;36mGroupBy._cython_agg_general.<locals>.array_func\u001b[1;34m(values)\u001b[0m\n\u001b[0;32m   1998\u001b[0m     \u001b[38;5;28;01mreturn\u001b[39;00m result\n\u001b[0;32m   2000\u001b[0m \u001b[38;5;28;01massert\u001b[39;00m alt \u001b[38;5;129;01mis\u001b[39;00m \u001b[38;5;129;01mnot\u001b[39;00m \u001b[38;5;28;01mNone\u001b[39;00m\n\u001b[1;32m-> 2001\u001b[0m result \u001b[38;5;241m=\u001b[39m \u001b[38;5;28;43mself\u001b[39;49m\u001b[38;5;241;43m.\u001b[39;49m\u001b[43m_agg_py_fallback\u001b[49m\u001b[43m(\u001b[49m\u001b[43mhow\u001b[49m\u001b[43m,\u001b[49m\u001b[43m \u001b[49m\u001b[43mvalues\u001b[49m\u001b[43m,\u001b[49m\u001b[43m \u001b[49m\u001b[43mndim\u001b[49m\u001b[38;5;241;43m=\u001b[39;49m\u001b[43mdata\u001b[49m\u001b[38;5;241;43m.\u001b[39;49m\u001b[43mndim\u001b[49m\u001b[43m,\u001b[49m\u001b[43m \u001b[49m\u001b[43malt\u001b[49m\u001b[38;5;241;43m=\u001b[39;49m\u001b[43malt\u001b[49m\u001b[43m)\u001b[49m\n\u001b[0;32m   2002\u001b[0m \u001b[38;5;28;01mreturn\u001b[39;00m result\n",
      "File \u001b[1;32m~\\AppData\\Roaming\\Python\\Python313\\site-packages\\pandas\\core\\groupby\\groupby.py:1947\u001b[0m, in \u001b[0;36mGroupBy._agg_py_fallback\u001b[1;34m(self, how, values, ndim, alt)\u001b[0m\n\u001b[0;32m   1945\u001b[0m     msg \u001b[38;5;241m=\u001b[39m \u001b[38;5;124mf\u001b[39m\u001b[38;5;124m\"\u001b[39m\u001b[38;5;124magg function failed [how->\u001b[39m\u001b[38;5;132;01m{\u001b[39;00mhow\u001b[38;5;132;01m}\u001b[39;00m\u001b[38;5;124m,dtype->\u001b[39m\u001b[38;5;132;01m{\u001b[39;00mser\u001b[38;5;241m.\u001b[39mdtype\u001b[38;5;132;01m}\u001b[39;00m\u001b[38;5;124m]\u001b[39m\u001b[38;5;124m\"\u001b[39m\n\u001b[0;32m   1946\u001b[0m     \u001b[38;5;66;03m# preserve the kind of exception that raised\u001b[39;00m\n\u001b[1;32m-> 1947\u001b[0m     \u001b[38;5;28;01mraise\u001b[39;00m \u001b[38;5;28mtype\u001b[39m(err)(msg) \u001b[38;5;28;01mfrom\u001b[39;00m \u001b[38;5;21;01merr\u001b[39;00m\n\u001b[0;32m   1949\u001b[0m dtype \u001b[38;5;241m=\u001b[39m ser\u001b[38;5;241m.\u001b[39mdtype\n\u001b[0;32m   1950\u001b[0m \u001b[38;5;28;01mif\u001b[39;00m dtype \u001b[38;5;241m==\u001b[39m \u001b[38;5;28mobject\u001b[39m:\n",
      "\u001b[1;31mTypeError\u001b[0m: agg function failed [how->mean,dtype->object]"
     ]
    }
   ],
   "source": [
    "std_df.groupby('year_2023_level')['extra_study_hours_week'].mean().plot(kind='bar', title='Avg Study Hours per Week by Year Level')\n"
   ]
  },
  {
   "cell_type": "code",
   "execution_count": 72,
   "id": "fa2751d5-33cb-4831-b55f-49d6f9e97a8a",
   "metadata": {},
   "outputs": [
    {
     "name": "stdout",
     "output_type": "stream",
     "text": [
      "['8+' '3-5' '5-8' '1-3' '0']\n"
     ]
    }
   ],
   "source": [
    "print(std_df['extra_study_hours_week'].unique())\n"
   ]
  },
  {
   "cell_type": "code",
   "execution_count": 77,
   "id": "72d12fc8-a5d5-4733-896d-c3d66fe729df",
   "metadata": {},
   "outputs": [],
   "source": [
    "def convert_study_hours(x):\n",
    "    if pd.isna(x):  # handle NaNs safely\n",
    "        return None\n",
    "    if isinstance(x, float):  # already a float (maybe NaN)\n",
    "        return x\n",
    "    if x == '8+':\n",
    "        return 8.5\n",
    "    elif '-' in x:\n",
    "        low, high = x.split('-')\n",
    "        return (float(low) + float(high)) / 2\n",
    "    else:\n",
    "        try:\n",
    "            return float(x)\n",
    "        except:\n",
    "            return None\n"
   ]
  },
  {
   "cell_type": "code",
   "execution_count": 78,
   "id": "44375ce5-bbae-46c1-aeed-0c25129e66ad",
   "metadata": {},
   "outputs": [
    {
     "data": {
      "text/plain": [
       "<Axes: title={'center': 'Avg Study Hours per Week by Year Level'}, xlabel='year_2023_level'>"
      ]
     },
     "execution_count": 78,
     "metadata": {},
     "output_type": "execute_result"
    },
    {
     "data": {
      "image/png": "[encoded data removed]",
      "text/plain": [
       "<Figure size 640x480 with 1 Axes>"
      ]
     },
     "metadata": {},
     "output_type": "display_data"
    }
   ],
   "source": [
    "std_df_clean = std_df.dropna(subset=['extra_study_hours_week'])\n",
    "std_df_clean.groupby('year_2023_level')['extra_study_hours_week'].mean().plot(kind='bar', title='Avg Study Hours per Week by Year Level')\n"
   ]
  },
  {
   "cell_type": "code",
   "execution_count": 75,
   "id": "8f74ba8b-ec87-42c5-86f1-a752c68ed826",
   "metadata": {},
   "outputs": [
    {
     "data": {
      "text/plain": [
       "0      8.0\n",
       "1      8.0\n",
       "2      3.0\n",
       "3      3.0\n",
       "4      3.0\n",
       "      ... \n",
       "401    3.0\n",
       "402    5.0\n",
       "403    5.0\n",
       "404    1.0\n",
       "405    3.0\n",
       "Name: extra_study_hours_week, Length: 406, dtype: float64"
      ]
     },
     "execution_count": 75,
     "metadata": {},
     "output_type": "execute_result"
    }
   ],
   "source": [
    "std_df['extra_study_hours_week'] "
   ]
  },
  {
   "cell_type": "code",
   "execution_count": null,
   "id": "539a5802-d203-459c-a6f3-6af1ca1d2674",
   "metadata": {},
   "outputs": [],
   "source": []
  },
  {
   "cell_type": "code",
   "execution_count": null,
   "id": "c3c93e44-43a1-431f-b325-83f391866a8f",
   "metadata": {},
   "outputs": [],
   "source": []
  },
  {
   "cell_type": "code",
   "execution_count": null,
   "id": "810b6348-6eda-462b-9580-28a8d55b8120",
   "metadata": {},
   "outputs": [],
   "source": []
  },
  {
   "cell_type": "code",
   "execution_count": null,
   "id": "94d0190f-ef3d-4ca2-8a13-fec900055f5c",
   "metadata": {},
   "outputs": [],
   "source": []
  },
  {
   "cell_type": "code",
   "execution_count": null,
   "id": "96bf061c-f583-488f-b0ae-67356e206875",
   "metadata": {},
   "outputs": [],
   "source": []
  },
  {
   "cell_type": "code",
   "execution_count": null,
   "id": "0376dead-3ee9-44cc-9dbb-1cbfdb4f4a89",
   "metadata": {},
   "outputs": [],
   "source": []
  },
  {
   "cell_type": "code",
   "execution_count": null,
   "id": "b547d899-f541-45c8-8fd1-085e387f85ef",
   "metadata": {},
   "outputs": [],
   "source": []
  }
 ],
 "metadata": {
  "kernelspec": {
   "display_name": "Python 3 (ipykernel)",
   "language": "python",
   "name": "python3"
  },
  "language_info": {
   "codemirror_mode": {
    "name": "ipython",
    "version": 3
   },
   "file_extension": ".py",
   "mimetype": "text/x-python",
   "name": "python",
   "nbconvert_exporter": "python",
   "pygments_lexer": "ipython3",
   "version": "3.13.0"
  }
 },
 "nbformat": 4,
 "nbformat_minor": 5
}
