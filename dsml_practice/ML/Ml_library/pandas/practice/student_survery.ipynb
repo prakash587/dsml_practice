{
 "cells": [
  {
   "cell_type": "code",
   "execution_count": 1,
   "id": "d77494e3-5468-4bb9-b631-052ac1484e93",
   "metadata": {},
   "outputs": [],
   "source": [
    "import pandas as pd"
   ]
  },
  {
   "cell_type": "code",
   "execution_count": 19,
   "id": "7a4a4ed2-faa3-4217-96f8-13abcb625c41",
   "metadata": {},
   "outputs": [],
   "source": [
    "std_df= pd.read_csv(\"student_survey.csv\")\n"
   ]
  },
  {
   "cell_type": "code",
   "execution_count": 20,
   "id": "94424eb7-d291-44f7-80a0-080cba7f0f71",
   "metadata": {},
   "outputs": [
    {
     "data": {
      "text/html": [
       "<div>\n",
       "<style scoped>\n",
       "    .dataframe tbody tr th:only-of-type {\n",
       "        vertical-align: middle;\n",
       "    }\n",
       "\n",
       "    .dataframe tbody tr th {\n",
       "        vertical-align: top;\n",
       "    }\n",
       "\n",
       "    .dataframe thead th {\n",
       "        text-align: right;\n",
       "    }\n",
       "</style>\n",
       "<table border=\"1\" class=\"dataframe\">\n",
       "  <thead>\n",
       "    <tr style=\"text-align: right;\">\n",
       "      <th></th>\n",
       "      <th>Timestamp</th>\n",
       "      <th>Your Sex?</th>\n",
       "      <th>Your Matric (grade 12) Average/ GPA (in %)</th>\n",
       "      <th>What year were you in last year (2023) ?</th>\n",
       "      <th>What faculty does your degree fall under?</th>\n",
       "      <th>Your 2023 academic year average/GPA in % (Ignore if you are 2024 1st year student)</th>\n",
       "      <th>Your Accommodation Status Last Year (2023)</th>\n",
       "      <th>Monthly Allowance in 2023</th>\n",
       "      <th>Were you on scholarship/bursary in 2023?</th>\n",
       "      <th>Additional amount of studying (in hrs) per week</th>\n",
       "      <th>How often do you go out partying/socialising during the week?</th>\n",
       "      <th>On a night out, how many alcoholic drinks do you consume?</th>\n",
       "      <th>How many classes do you miss per week due to alcohol reasons, (i.e: being hungover or too tired?)</th>\n",
       "      <th>How many modules have you failed thus far into your studies?</th>\n",
       "      <th>Are you currently in a romantic relationship?</th>\n",
       "      <th>Do your parents approve alcohol consumption?</th>\n",
       "      <th>How strong is your relationship with your parent/s?</th>\n",
       "    </tr>\n",
       "  </thead>\n",
       "  <tbody>\n",
       "    <tr>\n",
       "      <th>0</th>\n",
       "      <td>2024/03/07 5:12:01 pm EET</td>\n",
       "      <td>Female</td>\n",
       "      <td>76.0</td>\n",
       "      <td>2nd Year</td>\n",
       "      <td>Arts &amp; Social Sciences</td>\n",
       "      <td>72.0</td>\n",
       "      <td>Private accommodation/ stay with family/friends</td>\n",
       "      <td>R 4001- R 5000</td>\n",
       "      <td>No</td>\n",
       "      <td>8+</td>\n",
       "      <td>Only weekends</td>\n",
       "      <td>8+</td>\n",
       "      <td>3</td>\n",
       "      <td>0</td>\n",
       "      <td>Yes</td>\n",
       "      <td>Yes</td>\n",
       "      <td>Very close</td>\n",
       "    </tr>\n",
       "  </tbody>\n",
       "</table>\n",
       "</div>"
      ],
      "text/plain": [
       "                   Timestamp Your Sex?  \\\n",
       "0  2024/03/07 5:12:01 pm EET    Female   \n",
       "\n",
       "   Your Matric (grade 12) Average/ GPA (in %)  \\\n",
       "0                                        76.0   \n",
       "\n",
       "  What year were you in last year (2023) ?  \\\n",
       "0                                 2nd Year   \n",
       "\n",
       "  What faculty does your degree fall under?  \\\n",
       "0                    Arts & Social Sciences   \n",
       "\n",
       "   Your 2023 academic year average/GPA in % (Ignore if you are 2024 1st year student)  \\\n",
       "0                                               72.0                                    \n",
       "\n",
       "        Your Accommodation Status Last Year (2023) Monthly Allowance in 2023  \\\n",
       "0  Private accommodation/ stay with family/friends            R 4001- R 5000   \n",
       "\n",
       "  Were you on scholarship/bursary in 2023?  \\\n",
       "0                                       No   \n",
       "\n",
       "  Additional amount of studying (in hrs) per week  \\\n",
       "0                                              8+   \n",
       "\n",
       "  How often do you go out partying/socialising during the week?   \\\n",
       "0                                      Only weekends               \n",
       "\n",
       "  On a night out, how many alcoholic drinks do you consume?  \\\n",
       "0                                                 8+          \n",
       "\n",
       "  How many classes do you miss per week due to alcohol reasons, (i.e: being hungover or too tired?)  \\\n",
       "0                                                  3                                                  \n",
       "\n",
       "  How many modules have you failed thus far into your studies?  \\\n",
       "0                                                  0             \n",
       "\n",
       "  Are you currently in a romantic relationship?  \\\n",
       "0                                           Yes   \n",
       "\n",
       "  Do your parents approve alcohol consumption?  \\\n",
       "0                                          Yes   \n",
       "\n",
       "  How strong is your relationship with your parent/s?  \n",
       "0                                         Very close   "
      ]
     },
     "execution_count": 20,
     "metadata": {},
     "output_type": "execute_result"
    }
   ],
   "source": [
    "std_df.head(1)"
   ]
  },
  {
   "cell_type": "code",
   "execution_count": 21,
   "id": "b32f01ca-349a-457e-a339-5c4f149a0483",
   "metadata": {},
   "outputs": [],
   "source": [
    "std_df.rename(columns={'Your Sex?': 'gender', \n",
    "                       'Your Matric (grade 12) Average/ GPA (in %)' :'grade12_avg',\n",
    "                     'What year were you in last year (2023) ?':'year_2023_level', \n",
    "                       'What faculty does your degree fall under?':'degree_faculty',\n",
    "                       'Your 2023 academic year average/GPA in % (Ignore if you are 2024 1st year student)':'gpa_percent_2023',\n",
    "                       'Your Accommodation Status Last Year (2023)':'living_status_2023',\n",
    "                       'Monthly Allowance in 2023':'monthly_allowance_2023',\n",
    "                       'Were you on scholarship/bursary in 2023?':'scholarship_status_2023',\n",
    "                       'Additional amount of studying (in hrs) per week':'extra_study_hours_week',\n",
    "                       'How often do you go out partying/socialising during the week? ':'party_per_week',\n",
    "                       'On a night out, how many alcoholic drinks do you consume?':'drinks_per_night',\n",
    "                       'How many classes do you miss per week due to alcohol reasons, (i.e: being hungover or too tired?)':'classes_missed_alcohol',\n",
    "                       'How many modules have you failed thus far into your studies?':'modules_failed',\n",
    "                       'Are you currently in a romantic relationship?':'in_relationship',\n",
    "                       'Do your parents approve alcohol consumption?':'parents_approve_alcohol',\n",
    "                       'How strong is your relationship with your parent/s?':'parent_relationship_strength'\n",
    "                       \n",
    "                       \n",
    "                      \n",
    "                      }, inplace=True)\n"
   ]
  },
  {
   "cell_type": "code",
   "execution_count": 22,
   "id": "1e308960-3d96-4beb-aaa6-69006e10f5e7",
   "metadata": {},
   "outputs": [
    {
     "data": {
      "text/html": [
       "<div>\n",
       "<style scoped>\n",
       "    .dataframe tbody tr th:only-of-type {\n",
       "        vertical-align: middle;\n",
       "    }\n",
       "\n",
       "    .dataframe tbody tr th {\n",
       "        vertical-align: top;\n",
       "    }\n",
       "\n",
       "    .dataframe thead th {\n",
       "        text-align: right;\n",
       "    }\n",
       "</style>\n",
       "<table border=\"1\" class=\"dataframe\">\n",
       "  <thead>\n",
       "    <tr style=\"text-align: right;\">\n",
       "      <th></th>\n",
       "      <th>Timestamp</th>\n",
       "      <th>gender</th>\n",
       "      <th>grade12_avg</th>\n",
       "      <th>year_2023_level</th>\n",
       "      <th>degree_faculty</th>\n",
       "      <th>gpa_percent_2023</th>\n",
       "      <th>living_status_2023</th>\n",
       "      <th>monthly_allowance_2023</th>\n",
       "      <th>scholarship_status_2023</th>\n",
       "      <th>extra_study_hours_week</th>\n",
       "      <th>party_per_week</th>\n",
       "      <th>drinks_per_night</th>\n",
       "      <th>classes_missed_alcohol</th>\n",
       "      <th>modules_failed</th>\n",
       "      <th>in_relationship</th>\n",
       "      <th>parents_approve_alcohol</th>\n",
       "      <th>parent_relationship_strength</th>\n",
       "    </tr>\n",
       "  </thead>\n",
       "  <tbody>\n",
       "    <tr>\n",
       "      <th>0</th>\n",
       "      <td>2024/03/07 5:12:01 pm EET</td>\n",
       "      <td>Female</td>\n",
       "      <td>76.0</td>\n",
       "      <td>2nd Year</td>\n",
       "      <td>Arts &amp; Social Sciences</td>\n",
       "      <td>72.0</td>\n",
       "      <td>Private accommodation/ stay with family/friends</td>\n",
       "      <td>R 4001- R 5000</td>\n",
       "      <td>No</td>\n",
       "      <td>8+</td>\n",
       "      <td>Only weekends</td>\n",
       "      <td>8+</td>\n",
       "      <td>3</td>\n",
       "      <td>0</td>\n",
       "      <td>Yes</td>\n",
       "      <td>Yes</td>\n",
       "      <td>Very close</td>\n",
       "    </tr>\n",
       "    <tr>\n",
       "      <th>1</th>\n",
       "      <td>2024/03/07 5:12:08 pm EET</td>\n",
       "      <td>Male</td>\n",
       "      <td>89.0</td>\n",
       "      <td>2nd Year</td>\n",
       "      <td>Economic &amp; Management Sciences</td>\n",
       "      <td>75.0</td>\n",
       "      <td>Private accommodation/ stay with family/friends</td>\n",
       "      <td>R 7001 - R 8000</td>\n",
       "      <td>Yes (NSFAS, etc...)</td>\n",
       "      <td>8+</td>\n",
       "      <td>Only weekends</td>\n",
       "      <td>3-5</td>\n",
       "      <td>4+</td>\n",
       "      <td>0</td>\n",
       "      <td>No</td>\n",
       "      <td>Yes</td>\n",
       "      <td>Very close</td>\n",
       "    </tr>\n",
       "    <tr>\n",
       "      <th>2</th>\n",
       "      <td>2024/03/07 5:12:25 pm EET</td>\n",
       "      <td>Male</td>\n",
       "      <td>76.0</td>\n",
       "      <td>1st Year</td>\n",
       "      <td>AgriSciences</td>\n",
       "      <td>55.0</td>\n",
       "      <td>Private accommodation/ stay with family/friends</td>\n",
       "      <td>R 4001- R 5000</td>\n",
       "      <td>No</td>\n",
       "      <td>3-5</td>\n",
       "      <td>2</td>\n",
       "      <td>8+</td>\n",
       "      <td>3</td>\n",
       "      <td>0</td>\n",
       "      <td>No</td>\n",
       "      <td>Yes</td>\n",
       "      <td>Very close</td>\n",
       "    </tr>\n",
       "    <tr>\n",
       "      <th>3</th>\n",
       "      <td>2024/03/07 5:12:28 pm EET</td>\n",
       "      <td>Male</td>\n",
       "      <td>89.0</td>\n",
       "      <td>2nd Year</td>\n",
       "      <td>Engineering</td>\n",
       "      <td>84.0</td>\n",
       "      <td>Private accommodation/ stay with family/friends</td>\n",
       "      <td>R 6001 - R 7000</td>\n",
       "      <td>No</td>\n",
       "      <td>3-5</td>\n",
       "      <td>3</td>\n",
       "      <td>8+</td>\n",
       "      <td>2</td>\n",
       "      <td>0</td>\n",
       "      <td>Yes</td>\n",
       "      <td>Yes</td>\n",
       "      <td>Very close</td>\n",
       "    </tr>\n",
       "  </tbody>\n",
       "</table>\n",
       "</div>"
      ],
      "text/plain": [
       "                   Timestamp  gender  grade12_avg year_2023_level  \\\n",
       "0  2024/03/07 5:12:01 pm EET  Female         76.0        2nd Year   \n",
       "1  2024/03/07 5:12:08 pm EET    Male         89.0        2nd Year   \n",
       "2  2024/03/07 5:12:25 pm EET    Male         76.0        1st Year   \n",
       "3  2024/03/07 5:12:28 pm EET    Male         89.0        2nd Year   \n",
       "\n",
       "                   degree_faculty  gpa_percent_2023  \\\n",
       "0          Arts & Social Sciences              72.0   \n",
       "1  Economic & Management Sciences              75.0   \n",
       "2                    AgriSciences              55.0   \n",
       "3                     Engineering              84.0   \n",
       "\n",
       "                                living_status_2023 monthly_allowance_2023  \\\n",
       "0  Private accommodation/ stay with family/friends         R 4001- R 5000   \n",
       "1  Private accommodation/ stay with family/friends        R 7001 - R 8000   \n",
       "2  Private accommodation/ stay with family/friends         R 4001- R 5000   \n",
       "3  Private accommodation/ stay with family/friends        R 6001 - R 7000   \n",
       "\n",
       "  scholarship_status_2023 extra_study_hours_week party_per_week  \\\n",
       "0                      No                     8+  Only weekends   \n",
       "1     Yes (NSFAS, etc...)                     8+  Only weekends   \n",
       "2                      No                    3-5              2   \n",
       "3                      No                    3-5              3   \n",
       "\n",
       "  drinks_per_night classes_missed_alcohol modules_failed in_relationship  \\\n",
       "0               8+                      3              0             Yes   \n",
       "1              3-5                     4+              0              No   \n",
       "2               8+                      3              0              No   \n",
       "3               8+                      2              0             Yes   \n",
       "\n",
       "  parents_approve_alcohol parent_relationship_strength  \n",
       "0                     Yes                   Very close  \n",
       "1                     Yes                   Very close  \n",
       "2                     Yes                   Very close  \n",
       "3                     Yes                   Very close  "
      ]
     },
     "execution_count": 22,
     "metadata": {},
     "output_type": "execute_result"
    }
   ],
   "source": [
    "std_df.head(4)"
   ]
  },
  {
   "cell_type": "code",
   "execution_count": 23,
   "id": "677b286c-cdf4-49b2-b5dd-c563c063c14e",
   "metadata": {},
   "outputs": [
    {
     "data": {
      "text/plain": [
       "Index(['Timestamp', 'gender', 'grade12_avg', 'year_2023_level',\n",
       "       'degree_faculty', 'gpa_percent_2023', 'living_status_2023',\n",
       "       'monthly_allowance_2023', 'scholarship_status_2023',\n",
       "       'extra_study_hours_week', 'party_per_week', 'drinks_per_night',\n",
       "       'classes_missed_alcohol', 'modules_failed', 'in_relationship',\n",
       "       'parents_approve_alcohol', 'parent_relationship_strength'],\n",
       "      dtype='object')"
      ]
     },
     "execution_count": 23,
     "metadata": {},
     "output_type": "execute_result"
    }
   ],
   "source": [
    "std_df.columns"
   ]
  },
  {
   "cell_type": "code",
   "execution_count": 24,
   "id": "7ad7c81e-d6b0-4428-afa6-7dd05a3a1135",
   "metadata": {},
   "outputs": [
    {
     "data": {
      "text/html": [
       "<div>\n",
       "<style scoped>\n",
       "    .dataframe tbody tr th:only-of-type {\n",
       "        vertical-align: middle;\n",
       "    }\n",
       "\n",
       "    .dataframe tbody tr th {\n",
       "        vertical-align: top;\n",
       "    }\n",
       "\n",
       "    .dataframe thead th {\n",
       "        text-align: right;\n",
       "    }\n",
       "</style>\n",
       "<table border=\"1\" class=\"dataframe\">\n",
       "  <thead>\n",
       "    <tr style=\"text-align: right;\">\n",
       "      <th></th>\n",
       "      <th>grade12_avg</th>\n",
       "      <th>gpa_percent_2023</th>\n",
       "    </tr>\n",
       "  </thead>\n",
       "  <tbody>\n",
       "    <tr>\n",
       "      <th>count</th>\n",
       "      <td>399.000000</td>\n",
       "      <td>320.000000</td>\n",
       "    </tr>\n",
       "    <tr>\n",
       "      <th>mean</th>\n",
       "      <td>77.989724</td>\n",
       "      <td>66.268469</td>\n",
       "    </tr>\n",
       "    <tr>\n",
       "      <th>std</th>\n",
       "      <td>7.048618</td>\n",
       "      <td>9.147906</td>\n",
       "    </tr>\n",
       "    <tr>\n",
       "      <th>min</th>\n",
       "      <td>34.000000</td>\n",
       "      <td>30.000000</td>\n",
       "    </tr>\n",
       "    <tr>\n",
       "      <th>25%</th>\n",
       "      <td>74.000000</td>\n",
       "      <td>60.000000</td>\n",
       "    </tr>\n",
       "    <tr>\n",
       "      <th>50%</th>\n",
       "      <td>78.000000</td>\n",
       "      <td>65.000000</td>\n",
       "    </tr>\n",
       "    <tr>\n",
       "      <th>75%</th>\n",
       "      <td>83.000000</td>\n",
       "      <td>73.000000</td>\n",
       "    </tr>\n",
       "    <tr>\n",
       "      <th>max</th>\n",
       "      <td>99.000000</td>\n",
       "      <td>95.220000</td>\n",
       "    </tr>\n",
       "  </tbody>\n",
       "</table>\n",
       "</div>"
      ],
      "text/plain": [
       "       grade12_avg  gpa_percent_2023\n",
       "count   399.000000        320.000000\n",
       "mean     77.989724         66.268469\n",
       "std       7.048618          9.147906\n",
       "min      34.000000         30.000000\n",
       "25%      74.000000         60.000000\n",
       "50%      78.000000         65.000000\n",
       "75%      83.000000         73.000000\n",
       "max      99.000000         95.220000"
      ]
     },
     "execution_count": 24,
     "metadata": {},
     "output_type": "execute_result"
    }
   ],
   "source": [
    "std_df.describe()"
   ]
  },
  {
   "cell_type": "markdown",
   "id": "3e517f09-ac00-4848-82b6-9d81734013d2",
   "metadata": {},
   "source": [
    "## Handling null value"
   ]
  },
  {
   "cell_type": "code",
   "execution_count": 25,
   "id": "34df01ff-75d9-4474-86ec-a76f13455a4a",
   "metadata": {},
   "outputs": [
    {
     "data": {
      "text/plain": [
       "Timestamp                        0\n",
       "gender                           2\n",
       "grade12_avg                      7\n",
       "year_2023_level                 73\n",
       "degree_faculty                   7\n",
       "gpa_percent_2023                86\n",
       "living_status_2023              23\n",
       "monthly_allowance_2023          31\n",
       "scholarship_status_2023          8\n",
       "extra_study_hours_week           3\n",
       "party_per_week                   2\n",
       "drinks_per_night                 2\n",
       "classes_missed_alcohol           3\n",
       "modules_failed                   3\n",
       "in_relationship                  3\n",
       "parents_approve_alcohol          4\n",
       "parent_relationship_strength     3\n",
       "dtype: int64"
      ]
     },
     "execution_count": 25,
     "metadata": {},
     "output_type": "execute_result"
    }
   ],
   "source": [
    "std_df.isnull().sum()"
   ]
  },
  {
   "cell_type": "code",
   "execution_count": 26,
   "id": "5637c1ac-7c34-48f3-8fc6-7c5a678266d6",
   "metadata": {},
   "outputs": [
    {
     "data": {
      "text/plain": [
       "gender\n",
       "Male      216\n",
       "Female    188\n",
       "Name: count, dtype: int64"
      ]
     },
     "execution_count": 26,
     "metadata": {},
     "output_type": "execute_result"
    }
   ],
   "source": [
    "std_df['gender'].value_counts()"
   ]
  },
  {
   "cell_type": "code",
   "execution_count": 27,
   "id": "2018f024-35e3-485f-9271-55c721dbcc10",
   "metadata": {},
   "outputs": [],
   "source": [
    "##std_df['gender'].fillna('Male',inplace=True)"
   ]
  },
  {
   "cell_type": "code",
   "execution_count": 28,
   "id": "a4b82efe-3b62-4f75-a77f-878f851eafd9",
   "metadata": {},
   "outputs": [],
   "source": [
    "std_df.fillna({'gender':'Male'}, inplace= True)"
   ]
  },
  {
   "cell_type": "code",
   "execution_count": 29,
   "id": "3e9b091a-e456-4c06-967f-ca7d042f27e2",
   "metadata": {},
   "outputs": [
    {
     "data": {
      "text/plain": [
       "gender\n",
       "Male      218\n",
       "Female    188\n",
       "Name: count, dtype: int64"
      ]
     },
     "execution_count": 29,
     "metadata": {},
     "output_type": "execute_result"
    }
   ],
   "source": [
    "std_df['gender'].value_counts()"
   ]
  },
  {
   "cell_type": "code",
   "execution_count": 30,
   "id": "42824f45-93cb-4e02-b9f4-6d87833d8267",
   "metadata": {},
   "outputs": [
    {
     "data": {
      "text/plain": [
       "np.int64(0)"
      ]
     },
     "execution_count": 30,
     "metadata": {},
     "output_type": "execute_result"
    }
   ],
   "source": [
    "std_df['gender'].isnull().sum()"
   ]
  },
  {
   "cell_type": "code",
   "execution_count": 31,
   "id": "cda85e6c-ac7e-4f3d-9f2b-6b5e207a4a5b",
   "metadata": {},
   "outputs": [
    {
     "data": {
      "text/plain": [
       "np.int64(7)"
      ]
     },
     "execution_count": 31,
     "metadata": {},
     "output_type": "execute_result"
    }
   ],
   "source": [
    "std_df['grade12_avg'].isnull().sum()"
   ]
  },
  {
   "cell_type": "code",
   "execution_count": 32,
   "id": "ed5dd37b-f547-4513-b753-fc49261c5264",
   "metadata": {},
   "outputs": [
    {
     "data": {
      "text/plain": [
       "grade12_avg\n",
       "76.00    33\n",
       "78.00    32\n",
       "80.00    31\n",
       "75.00    29\n",
       "83.00    25\n",
       "85.00    22\n",
       "84.00    20\n",
       "74.00    19\n",
       "72.00    18\n",
       "73.00    17\n",
       "79.00    16\n",
       "82.00    16\n",
       "70.00    15\n",
       "86.00    13\n",
       "77.00     9\n",
       "68.00     9\n",
       "81.00     9\n",
       "65.00     8\n",
       "87.00     7\n",
       "67.00     7\n",
       "71.00     6\n",
       "89.00     5\n",
       "69.00     4\n",
       "88.00     3\n",
       "60.00     3\n",
       "90.00     3\n",
       "66.00     2\n",
       "94.00     2\n",
       "92.00     2\n",
       "82.60     1\n",
       "99.00     1\n",
       "98.33     1\n",
       "98.00     1\n",
       "91.86     1\n",
       "63.00     1\n",
       "95.00     1\n",
       "34.00     1\n",
       "86.40     1\n",
       "95.50     1\n",
       "55.00     1\n",
       "91.21     1\n",
       "96.00     1\n",
       "64.00     1\n",
       "Name: count, dtype: int64"
      ]
     },
     "execution_count": 32,
     "metadata": {},
     "output_type": "execute_result"
    }
   ],
   "source": [
    "std_df['grade12_avg'].value_counts()"
   ]
  },
  {
   "cell_type": "code",
   "execution_count": 33,
   "id": "50db4d4b-83af-48df-956f-6db8f7b3e1d8",
   "metadata": {},
   "outputs": [],
   "source": [
    "std_df.fillna({'grade12_avg':76}, inplace = True)"
   ]
  },
  {
   "cell_type": "code",
   "execution_count": 34,
   "id": "3b27d078-d35b-43b7-8a8f-41191d6e8c73",
   "metadata": {},
   "outputs": [
    {
     "data": {
      "text/plain": [
       "np.int64(0)"
      ]
     },
     "execution_count": 34,
     "metadata": {},
     "output_type": "execute_result"
    }
   ],
   "source": [
    "std_df['grade12_avg'].isnull().sum()"
   ]
  },
  {
   "cell_type": "code",
   "execution_count": 35,
   "id": "d033382a-6feb-4b7a-ab7d-cf734842becb",
   "metadata": {},
   "outputs": [
    {
     "data": {
      "text/plain": [
       "np.int64(73)"
      ]
     },
     "execution_count": 35,
     "metadata": {},
     "output_type": "execute_result"
    }
   ],
   "source": [
    "std_df['year_2023_level'].isnull().sum()"
   ]
  },
  {
   "cell_type": "code",
   "execution_count": 36,
   "id": "b3e2a6eb-8aaa-4b3e-a27a-a0b1f3c07b01",
   "metadata": {},
   "outputs": [
    {
     "data": {
      "text/plain": [
       "year_2023_level\n",
       "2nd Year        153\n",
       "1st Year        128\n",
       "3rd Year         40\n",
       "4th Year          7\n",
       "Postgraduate      5\n",
       "Name: count, dtype: int64"
      ]
     },
     "execution_count": 36,
     "metadata": {},
     "output_type": "execute_result"
    }
   ],
   "source": [
    "std_df['year_2023_level'].value_counts()"
   ]
  },
  {
   "cell_type": "code",
   "execution_count": 37,
   "id": "e6663999-6665-4db9-9005-e278258f2026",
   "metadata": {},
   "outputs": [],
   "source": [
    "std_df['year_2023_level'] = std_df['year_2023_level'].fillna(std_df['year_2023_level'].mode()[0])\n"
   ]
  },
  {
   "cell_type": "code",
   "execution_count": 38,
   "id": "3a98d221-3242-4ba3-a6eb-7e32abfc9beb",
   "metadata": {},
   "outputs": [],
   "source": [
    "#std_df.fillna({'year_2023_level': std_df['year_2023_level'].mode()[0]}, inplace=True)\n"
   ]
  },
  {
   "cell_type": "code",
   "execution_count": 39,
   "id": "0b924c64-3484-4b85-be6e-537966801512",
   "metadata": {},
   "outputs": [
    {
     "data": {
      "text/plain": [
       "np.int64(0)"
      ]
     },
     "execution_count": 39,
     "metadata": {},
     "output_type": "execute_result"
    }
   ],
   "source": [
    "std_df['year_2023_level'].isnull().sum()"
   ]
  },
  {
   "cell_type": "code",
   "execution_count": 40,
   "id": "f19cdf60-bf25-4a30-8560-3582b82890be",
   "metadata": {},
   "outputs": [
    {
     "data": {
      "text/plain": [
       "year_2023_level\n",
       "2nd Year        226\n",
       "1st Year        128\n",
       "3rd Year         40\n",
       "4th Year          7\n",
       "Postgraduate      5\n",
       "Name: count, dtype: int64"
      ]
     },
     "execution_count": 40,
     "metadata": {},
     "output_type": "execute_result"
    }
   ],
   "source": [
    "std_df['year_2023_level'].value_counts()"
   ]
  },
  {
   "cell_type": "code",
   "execution_count": 41,
   "id": "85c0cc2d-fdfe-49cc-933d-5a8ab55a2c46",
   "metadata": {},
   "outputs": [
    {
     "data": {
      "text/plain": [
       "degree_faculty\n",
       "Economic & Management Sciences    211\n",
       "Science                            56\n",
       "Arts & Social Sciences             47\n",
       "Engineering                        37\n",
       "AgriSciences                       22\n",
       "Medicine and Health Services       10\n",
       "Law                                10\n",
       "Education                           6\n",
       "Name: count, dtype: int64"
      ]
     },
     "execution_count": 41,
     "metadata": {},
     "output_type": "execute_result"
    }
   ],
   "source": [
    "std_df['degree_faculty'].value_counts()"
   ]
  },
  {
   "cell_type": "code",
   "execution_count": 42,
   "id": "86614314-6fa3-4d30-9e31-5ffe23e4c1dd",
   "metadata": {},
   "outputs": [
    {
     "data": {
      "text/plain": [
       "np.int64(7)"
      ]
     },
     "execution_count": 42,
     "metadata": {},
     "output_type": "execute_result"
    }
   ],
   "source": [
    "std_df['degree_faculty'].isnull().sum()"
   ]
  },
  {
   "cell_type": "code",
   "execution_count": 43,
   "id": "0d1493fb-806b-410d-a824-0d8a7401586a",
   "metadata": {},
   "outputs": [],
   "source": [
    "std_df['degree_faculty']= std_df['degree_faculty'].fillna(std_df['degree_faculty'].mode()[0])"
   ]
  },
  {
   "cell_type": "code",
   "execution_count": 44,
   "id": "5a8eec1b-07a9-4bdc-af83-617b8d127410",
   "metadata": {},
   "outputs": [
    {
     "data": {
      "text/plain": [
       "np.int64(0)"
      ]
     },
     "execution_count": 44,
     "metadata": {},
     "output_type": "execute_result"
    }
   ],
   "source": [
    "std_df['degree_faculty'].isnull().sum()"
   ]
  },
  {
   "cell_type": "code",
   "execution_count": 45,
   "id": "0a8d69d2-f1d0-46ce-844f-62f33e3044dc",
   "metadata": {},
   "outputs": [
    {
     "data": {
      "text/plain": [
       "np.int64(86)"
      ]
     },
     "execution_count": 45,
     "metadata": {},
     "output_type": "execute_result"
    }
   ],
   "source": [
    "std_df['gpa_percent_2023'].isnull().sum()"
   ]
  },
  {
   "cell_type": "code",
   "execution_count": 46,
   "id": "490dabf7-a94f-45b5-88d6-23a4e77da8ba",
   "metadata": {},
   "outputs": [
    {
     "data": {
      "text/plain": [
       "gpa_percent_2023\n",
       "60.00    35\n",
       "65.00    27\n",
       "70.00    18\n",
       "63.00    17\n",
       "75.00    14\n",
       "55.00    14\n",
       "61.00    13\n",
       "64.00    13\n",
       "76.00    12\n",
       "73.00    12\n",
       "80.00    11\n",
       "57.00    10\n",
       "62.00    10\n",
       "58.00    10\n",
       "74.00     9\n",
       "77.00     7\n",
       "50.00     7\n",
       "72.00     7\n",
       "68.00     7\n",
       "69.00     6\n",
       "54.00     6\n",
       "71.00     5\n",
       "66.00     5\n",
       "56.00     4\n",
       "59.00     4\n",
       "51.00     3\n",
       "84.00     3\n",
       "78.00     3\n",
       "53.00     3\n",
       "83.00     3\n",
       "67.00     3\n",
       "52.00     2\n",
       "88.00     2\n",
       "85.00     2\n",
       "79.00     2\n",
       "89.00     2\n",
       "90.00     1\n",
       "95.22     1\n",
       "65.89     1\n",
       "73.50     1\n",
       "92.00     1\n",
       "87.60     1\n",
       "30.00     1\n",
       "81.00     1\n",
       "69.70     1\n",
       "Name: count, dtype: int64"
      ]
     },
     "execution_count": 46,
     "metadata": {},
     "output_type": "execute_result"
    }
   ],
   "source": [
    "std_df['gpa_percent_2023'].value_counts(ascending = False)"
   ]
  },
  {
   "cell_type": "code",
   "execution_count": 47,
   "id": "4032f444-7cb4-401a-8605-e3cb4c541549",
   "metadata": {},
   "outputs": [],
   "source": [
    "std_df['gpa_percent_2023']= std_df['gpa_percent_2023'].fillna(std_df['gpa_percent_2023'].median())"
   ]
  },
  {
   "cell_type": "code",
   "execution_count": 48,
   "id": "0b66b8cd-b783-4e7d-9374-47e2f870e5f5",
   "metadata": {},
   "outputs": [
    {
     "data": {
      "text/plain": [
       "np.int64(0)"
      ]
     },
     "execution_count": 48,
     "metadata": {},
     "output_type": "execute_result"
    }
   ],
   "source": [
    "std_df['gpa_percent_2023'].isnull().sum()"
   ]
  },
  {
   "cell_type": "code",
   "execution_count": 49,
   "id": "5f584fbb-cf3e-4f86-a770-4d7110aea8d0",
   "metadata": {},
   "outputs": [
    {
     "data": {
      "text/plain": [
       "living_status_2023\n",
       "Private accommodation/ stay with family/friends    335\n",
       "Non-private accommodation ie. Res                   48\n",
       "Name: count, dtype: int64"
      ]
     },
     "execution_count": 49,
     "metadata": {},
     "output_type": "execute_result"
    }
   ],
   "source": [
    "std_df['living_status_2023'].value_counts()"
   ]
  },
  {
   "cell_type": "code",
   "execution_count": 50,
   "id": "4f35f4a1-473e-4fba-a7a5-dd67fde344b1",
   "metadata": {},
   "outputs": [],
   "source": [
    "std_df['living_status_2023']= std_df['living_status_2023'].fillna(std_df['living_status_2023'].mode()[0])"
   ]
  },
  {
   "cell_type": "code",
   "execution_count": 51,
   "id": "3598b0e5-58c1-4c69-9ace-bdd796e1952f",
   "metadata": {},
   "outputs": [
    {
     "data": {
      "text/plain": [
       "np.int64(0)"
      ]
     },
     "execution_count": 51,
     "metadata": {},
     "output_type": "execute_result"
    }
   ],
   "source": [
    "std_df['living_status_2023'].isnull().sum()"
   ]
  },
  {
   "cell_type": "code",
   "execution_count": 52,
   "id": "84469064-ae4d-44df-aa62-43f6f04744cc",
   "metadata": {},
   "outputs": [
    {
     "data": {
      "text/plain": [
       "np.int64(31)"
      ]
     },
     "execution_count": 52,
     "metadata": {},
     "output_type": "execute_result"
    }
   ],
   "source": [
    "std_df['monthly_allowance_2023'].isnull().sum()"
   ]
  },
  {
   "cell_type": "code",
   "execution_count": 53,
   "id": "a8370934-2161-42c9-ae96-e3995ccff0d7",
   "metadata": {},
   "outputs": [
    {
     "data": {
      "text/plain": [
       "monthly_allowance_2023\n",
       "R 4001- R 5000     159\n",
       "R 5001 - R 6000    101\n",
       "R 6001 - R 7000     58\n",
       "R 7001 - R 8000     30\n",
       "R 8000+             27\n",
       "Name: count, dtype: int64"
      ]
     },
     "execution_count": 53,
     "metadata": {},
     "output_type": "execute_result"
    }
   ],
   "source": [
    "std_df['monthly_allowance_2023'].value_counts()"
   ]
  },
  {
   "cell_type": "code",
   "execution_count": 54,
   "id": "8e2860e7-0b52-4657-b6f8-e8f1243161ff",
   "metadata": {},
   "outputs": [],
   "source": [
    "std_df['monthly_allowance_2023']= std_df['monthly_allowance_2023'].fillna(std_df['monthly_allowance_2023'].mode()[0])"
   ]
  },
  {
   "cell_type": "code",
   "execution_count": 55,
   "id": "2d8529de-6eaa-4b56-bb11-8900281d4a76",
   "metadata": {},
   "outputs": [
    {
     "data": {
      "text/plain": [
       "np.int64(0)"
      ]
     },
     "execution_count": 55,
     "metadata": {},
     "output_type": "execute_result"
    }
   ],
   "source": [
    "std_df['monthly_allowance_2023'].isnull().sum()"
   ]
  },
  {
   "cell_type": "code",
   "execution_count": 56,
   "id": "d06c77ec-99f9-45e7-9693-1500d6367c4f",
   "metadata": {},
   "outputs": [
    {
     "data": {
      "text/plain": [
       "Timestamp                       0\n",
       "gender                          0\n",
       "grade12_avg                     0\n",
       "year_2023_level                 0\n",
       "degree_faculty                  0\n",
       "gpa_percent_2023                0\n",
       "living_status_2023              0\n",
       "monthly_allowance_2023          0\n",
       "scholarship_status_2023         8\n",
       "extra_study_hours_week          3\n",
       "party_per_week                  2\n",
       "drinks_per_night                2\n",
       "classes_missed_alcohol          3\n",
       "modules_failed                  3\n",
       "in_relationship                 3\n",
       "parents_approve_alcohol         4\n",
       "parent_relationship_strength    3\n",
       "dtype: int64"
      ]
     },
     "execution_count": 56,
     "metadata": {},
     "output_type": "execute_result"
    }
   ],
   "source": [
    "std_df.isnull().sum()"
   ]
  },
  {
   "cell_type": "code",
   "execution_count": 57,
   "id": "a56a85e1-e294-4835-a16c-c30deef9ca97",
   "metadata": {},
   "outputs": [
    {
     "data": {
      "text/plain": [
       "scholarship_status_2023\n",
       "No                     352\n",
       "Yes (NSFAS, etc...)     46\n",
       "Name: count, dtype: int64"
      ]
     },
     "execution_count": 57,
     "metadata": {},
     "output_type": "execute_result"
    }
   ],
   "source": [
    "std_df['scholarship_status_2023'].value_counts()"
   ]
  },
  {
   "cell_type": "code",
   "execution_count": 58,
   "id": "3d195847-15e1-465f-b9d6-f641d02cc96d",
   "metadata": {},
   "outputs": [
    {
     "data": {
      "text/plain": [
       "extra_study_hours_week\n",
       "8+     114\n",
       "3-5    105\n",
       "1-3     83\n",
       "5-8     81\n",
       "0       20\n",
       "Name: count, dtype: int64"
      ]
     },
     "execution_count": 58,
     "metadata": {},
     "output_type": "execute_result"
    }
   ],
   "source": [
    "std_df['extra_study_hours_week'].value_counts()"
   ]
  },
  {
   "cell_type": "code",
   "execution_count": 59,
   "id": "f82241b5-ac2b-472a-96d7-f632821bb0da",
   "metadata": {},
   "outputs": [
    {
     "data": {
      "text/plain": [
       "party_per_week\n",
       "Only weekends    113\n",
       "1                108\n",
       "2                 87\n",
       "3                 63\n",
       "0                 17\n",
       "4+                16\n",
       "Name: count, dtype: int64"
      ]
     },
     "execution_count": 59,
     "metadata": {},
     "output_type": "execute_result"
    }
   ],
   "source": [
    "std_df['party_per_week'].value_counts()"
   ]
  },
  {
   "cell_type": "code",
   "execution_count": 60,
   "id": "e36d8dbe-4179-4f85-a28d-1fd6320d72ee",
   "metadata": {},
   "outputs": [
    {
     "data": {
      "text/plain": [
       "drinks_per_night\n",
       "5-8    111\n",
       "3-5     91\n",
       "1-3     90\n",
       "8+      86\n",
       "0       26\n",
       "Name: count, dtype: int64"
      ]
     },
     "execution_count": 60,
     "metadata": {},
     "output_type": "execute_result"
    }
   ],
   "source": [
    "std_df['drinks_per_night'].value_counts()"
   ]
  },
  {
   "cell_type": "code",
   "execution_count": 61,
   "id": "2e7e23e7-16ef-4208-ba69-9c9c7da83557",
   "metadata": {},
   "outputs": [
    {
     "data": {
      "text/plain": [
       "classes_missed_alcohol\n",
       "0     214\n",
       "1      75\n",
       "2      63\n",
       "4+     27\n",
       "3      24\n",
       "Name: count, dtype: int64"
      ]
     },
     "execution_count": 61,
     "metadata": {},
     "output_type": "execute_result"
    }
   ],
   "source": [
    "std_df['classes_missed_alcohol'].value_counts()\n"
   ]
  },
  {
   "cell_type": "code",
   "execution_count": 62,
   "id": "1c48f0a2-292f-44d5-b978-6d4e7d618753",
   "metadata": {},
   "outputs": [
    {
     "data": {
      "text/plain": [
       "modules_failed\n",
       "0     263\n",
       "1      58\n",
       "2      31\n",
       "4+     27\n",
       "3      24\n",
       "Name: count, dtype: int64"
      ]
     },
     "execution_count": 62,
     "metadata": {},
     "output_type": "execute_result"
    }
   ],
   "source": [
    "std_df['modules_failed'].value_counts()"
   ]
  },
  {
   "cell_type": "code",
   "execution_count": 63,
   "id": "7b10f76f-2b6d-410e-a78b-db285975803a",
   "metadata": {},
   "outputs": [
    {
     "data": {
      "text/plain": [
       "in_relationship\n",
       "No     239\n",
       "Yes    164\n",
       "Name: count, dtype: int64"
      ]
     },
     "execution_count": 63,
     "metadata": {},
     "output_type": "execute_result"
    }
   ],
   "source": [
    "std_df['in_relationship'].value_counts()\n"
   ]
  },
  {
   "cell_type": "code",
   "execution_count": 64,
   "id": "e77e738d-2210-4038-9594-86c04d17455b",
   "metadata": {},
   "outputs": [
    {
     "data": {
      "text/plain": [
       "parents_approve_alcohol\n",
       "Yes    353\n",
       "No      49\n",
       "Name: count, dtype: int64"
      ]
     },
     "execution_count": 64,
     "metadata": {},
     "output_type": "execute_result"
    }
   ],
   "source": [
    "std_df['parents_approve_alcohol'].value_counts()\n"
   ]
  },
  {
   "cell_type": "code",
   "execution_count": 65,
   "id": "999e9ad0-f4ee-49ac-be8e-7d79214269ab",
   "metadata": {},
   "outputs": [
    {
     "data": {
      "text/plain": [
       "parent_relationship_strength\n",
       "Very close    269\n",
       "Close          97\n",
       "Fair           35\n",
       "Distant         2\n",
       "Name: count, dtype: int64"
      ]
     },
     "execution_count": 65,
     "metadata": {},
     "output_type": "execute_result"
    }
   ],
   "source": [
    "std_df['parent_relationship_strength'].value_counts()\n"
   ]
  },
  {
   "cell_type": "code",
   "execution_count": 66,
   "id": "32014165-c041-4701-bf06-b1c84c32941f",
   "metadata": {},
   "outputs": [],
   "source": [
    "std_df.fillna(\n",
    "    {\n",
    "        'scholarship_status_2023':std_df['scholarship_status_2023'].mode()[0],\n",
    "        'extra_study_hours_week':std_df['extra_study_hours_week'].mode()[0],\n",
    "        'party_per_week':std_df['party_per_week'].mode()[0],\n",
    "        'drinks_per_night':std_df['drinks_per_night'].mode()[0],\n",
    "        'classes_missed_alcohol':std_df['classes_missed_alcohol'].mode()[0],\n",
    "        'modules_failed':std_df['modules_failed'].mode()[0],\n",
    "        'parents_approve_alcohol':std_df['parents_approve_alcohol'].mode()[0],\n",
    "        'in_relationship':std_df['in_relationship'].mode()[0],\n",
    "        'parent_relationship_strength':std_df['parent_relationship_strength'].mode()[0],\n",
    "        \n",
    "    }, inplace = True\n",
    ")"
   ]
  },
  {
   "cell_type": "code",
   "execution_count": 67,
   "id": "e4a9a7d6-cac3-42cd-be34-147c4a9585c4",
   "metadata": {},
   "outputs": [
    {
     "data": {
      "text/plain": [
       "Timestamp                       0\n",
       "gender                          0\n",
       "grade12_avg                     0\n",
       "year_2023_level                 0\n",
       "degree_faculty                  0\n",
       "gpa_percent_2023                0\n",
       "living_status_2023              0\n",
       "monthly_allowance_2023          0\n",
       "scholarship_status_2023         0\n",
       "extra_study_hours_week          0\n",
       "party_per_week                  0\n",
       "drinks_per_night                0\n",
       "classes_missed_alcohol          0\n",
       "modules_failed                  0\n",
       "in_relationship                 0\n",
       "parents_approve_alcohol         0\n",
       "parent_relationship_strength    0\n",
       "dtype: int64"
      ]
     },
     "execution_count": 67,
     "metadata": {},
     "output_type": "execute_result"
    }
   ],
   "source": [
    "std_df.isnull().sum()"
   ]
  },
  {
   "cell_type": "code",
   "execution_count": 68,
   "id": "e67cba2e-0e52-4bb3-8d6b-8cf68b703417",
   "metadata": {},
   "outputs": [],
   "source": [
    "## Data type checking & conversion"
   ]
  },
  {
   "cell_type": "code",
   "execution_count": 69,
   "id": "2ae42b99-9685-4135-ad4d-87d119961496",
   "metadata": {},
   "outputs": [
    {
     "name": "stdout",
     "output_type": "stream",
     "text": [
      "<class 'pandas.core.frame.DataFrame'>\n",
      "RangeIndex: 406 entries, 0 to 405\n",
      "Data columns (total 17 columns):\n",
      " #   Column                        Non-Null Count  Dtype  \n",
      "---  ------                        --------------  -----  \n",
      " 0   Timestamp                     406 non-null    object \n",
      " 1   gender                        406 non-null    object \n",
      " 2   grade12_avg                   406 non-null    float64\n",
      " 3   year_2023_level               406 non-null    object \n",
      " 4   degree_faculty                406 non-null    object \n",
      " 5   gpa_percent_2023              406 non-null    float64\n",
      " 6   living_status_2023            406 non-null    object \n",
      " 7   monthly_allowance_2023        406 non-null    object \n",
      " 8   scholarship_status_2023       406 non-null    object \n",
      " 9   extra_study_hours_week        406 non-null    object \n",
      " 10  party_per_week                406 non-null    object \n",
      " 11  drinks_per_night              406 non-null    object \n",
      " 12  classes_missed_alcohol        406 non-null    object \n",
      " 13  modules_failed                406 non-null    object \n",
      " 14  in_relationship               406 non-null    object \n",
      " 15  parents_approve_alcohol       406 non-null    object \n",
      " 16  parent_relationship_strength  406 non-null    object \n",
      "dtypes: float64(2), object(15)\n",
      "memory usage: 54.1+ KB\n"
     ]
    }
   ],
   "source": [
    "std_df.info()\n"
   ]
  },
  {
   "cell_type": "code",
   "execution_count": 70,
   "id": "0b474798-b963-454a-ac07-b2e8f4603cd8",
   "metadata": {},
   "outputs": [
    {
     "data": {
      "text/html": [
       "<div>\n",
       "<style scoped>\n",
       "    .dataframe tbody tr th:only-of-type {\n",
       "        vertical-align: middle;\n",
       "    }\n",
       "\n",
       "    .dataframe tbody tr th {\n",
       "        vertical-align: top;\n",
       "    }\n",
       "\n",
       "    .dataframe thead th {\n",
       "        text-align: right;\n",
       "    }\n",
       "</style>\n",
       "<table border=\"1\" class=\"dataframe\">\n",
       "  <thead>\n",
       "    <tr style=\"text-align: right;\">\n",
       "      <th></th>\n",
       "      <th>grade12_avg</th>\n",
       "      <th>gpa_percent_2023</th>\n",
       "    </tr>\n",
       "  </thead>\n",
       "  <tbody>\n",
       "    <tr>\n",
       "      <th>count</th>\n",
       "      <td>406.000000</td>\n",
       "      <td>406.000000</td>\n",
       "    </tr>\n",
       "    <tr>\n",
       "      <th>mean</th>\n",
       "      <td>77.955419</td>\n",
       "      <td>65.999778</td>\n",
       "    </tr>\n",
       "    <tr>\n",
       "      <th>std</th>\n",
       "      <td>6.992249</td>\n",
       "      <td>8.135325</td>\n",
       "    </tr>\n",
       "    <tr>\n",
       "      <th>min</th>\n",
       "      <td>34.000000</td>\n",
       "      <td>30.000000</td>\n",
       "    </tr>\n",
       "    <tr>\n",
       "      <th>25%</th>\n",
       "      <td>74.000000</td>\n",
       "      <td>61.000000</td>\n",
       "    </tr>\n",
       "    <tr>\n",
       "      <th>50%</th>\n",
       "      <td>78.000000</td>\n",
       "      <td>65.000000</td>\n",
       "    </tr>\n",
       "    <tr>\n",
       "      <th>75%</th>\n",
       "      <td>83.000000</td>\n",
       "      <td>70.000000</td>\n",
       "    </tr>\n",
       "    <tr>\n",
       "      <th>max</th>\n",
       "      <td>99.000000</td>\n",
       "      <td>95.220000</td>\n",
       "    </tr>\n",
       "  </tbody>\n",
       "</table>\n",
       "</div>"
      ],
      "text/plain": [
       "       grade12_avg  gpa_percent_2023\n",
       "count   406.000000        406.000000\n",
       "mean     77.955419         65.999778\n",
       "std       6.992249          8.135325\n",
       "min      34.000000         30.000000\n",
       "25%      74.000000         61.000000\n",
       "50%      78.000000         65.000000\n",
       "75%      83.000000         70.000000\n",
       "max      99.000000         95.220000"
      ]
     },
     "execution_count": 70,
     "metadata": {},
     "output_type": "execute_result"
    }
   ],
   "source": [
    "std_df.describe()"
   ]
  },
  {
   "cell_type": "markdown",
   "id": "68bed4a6-cdf5-45bf-8486-2456ead9db04",
   "metadata": {},
   "source": [
    "## Fix inconsistent categories (clean text)"
   ]
  },
  {
   "cell_type": "code",
   "execution_count": 71,
   "id": "d8374fca-6558-43a6-aefb-f7c3eaa7552b",
   "metadata": {},
   "outputs": [],
   "source": [
    "# Example: standardize text to lowercase and strip spaces\n",
    "std_df['parents_approve_alcohol'] = std_df['parents_approve_alcohol'].str.lower().str.strip()\n",
    "std_df['parent_relationship_strength'] = std_df['parent_relationship_strength'].str.lower().str.strip()\n"
   ]
  },
  {
   "cell_type": "code",
   "execution_count": 96,
   "id": "e1e3eda8-98be-4a5b-8bef-1a7077f72b44",
   "metadata": {},
   "outputs": [
    {
     "data": {
      "text/plain": [
       "np.False_"
      ]
     },
     "execution_count": 96,
     "metadata": {},
     "output_type": "execute_result"
    }
   ],
   "source": [
    "# Check if there are any nulls in the whole DataFrame (True/False)\n",
    "std_df.isnull().values.any()\n",
    "\n"
   ]
  },
  {
   "cell_type": "markdown",
   "id": "b378b4a2-14fc-4303-a7f5-ade732a13aa2",
   "metadata": {},
   "source": [
    " ## Does high school performance predict university GPA?"
   ]
  },
  {
   "cell_type": "code",
   "execution_count": 97,
   "id": "e929d931-a2bd-4219-b323-564952630df4",
   "metadata": {},
   "outputs": [
    {
     "data": {
      "text/html": [
       "<div>\n",
       "<style scoped>\n",
       "    .dataframe tbody tr th:only-of-type {\n",
       "        vertical-align: middle;\n",
       "    }\n",
       "\n",
       "    .dataframe tbody tr th {\n",
       "        vertical-align: top;\n",
       "    }\n",
       "\n",
       "    .dataframe thead th {\n",
       "        text-align: right;\n",
       "    }\n",
       "</style>\n",
       "<table border=\"1\" class=\"dataframe\">\n",
       "  <thead>\n",
       "    <tr style=\"text-align: right;\">\n",
       "      <th></th>\n",
       "      <th>grade12_avg</th>\n",
       "      <th>gpa_percent_2023</th>\n",
       "    </tr>\n",
       "  </thead>\n",
       "  <tbody>\n",
       "    <tr>\n",
       "      <th>grade12_avg</th>\n",
       "      <td>1.000000</td>\n",
       "      <td>0.254296</td>\n",
       "    </tr>\n",
       "    <tr>\n",
       "      <th>gpa_percent_2023</th>\n",
       "      <td>0.254296</td>\n",
       "      <td>1.000000</td>\n",
       "    </tr>\n",
       "  </tbody>\n",
       "</table>\n",
       "</div>"
      ],
      "text/plain": [
       "                  grade12_avg  gpa_percent_2023\n",
       "grade12_avg          1.000000          0.254296\n",
       "gpa_percent_2023     0.254296          1.000000"
      ]
     },
     "execution_count": 97,
     "metadata": {},
     "output_type": "execute_result"
    }
   ],
   "source": [
    "std_df[['grade12_avg','gpa_percent_2023' ]].corr()"
   ]
  },
  {
   "cell_type": "markdown",
   "id": "7da2e09f-35f9-4ab7-bebe-6f955d6f7f6c",
   "metadata": {},
   "source": [
    "## Which gender has the higher average GPA in 2023?"
   ]
  },
  {
   "cell_type": "code",
   "execution_count": 99,
   "id": "f29640df-5705-47a2-b541-d4bb81d21da4",
   "metadata": {},
   "outputs": [
    {
     "data": {
      "text/plain": [
       "gender\n",
       "Female    67.071330\n",
       "Male      65.075688\n",
       "Name: gpa_percent_2023, dtype: float64"
      ]
     },
     "execution_count": 99,
     "metadata": {},
     "output_type": "execute_result"
    }
   ],
   "source": [
    "std_df.groupby('gender')['gpa_percent_2023'].mean()"
   ]
  },
  {
   "cell_type": "markdown",
   "id": "27c39b19-410b-4d31-8ff2-b96253c20392",
   "metadata": {},
   "source": [
    "## Which year level has the highest GPA?"
   ]
  },
  {
   "cell_type": "code",
   "execution_count": 106,
   "id": "ecd7f885-95b6-429d-91fb-ac5d2f8bf20e",
   "metadata": {},
   "outputs": [
    {
     "data": {
      "text/plain": [
       "year_2023_level\n",
       "1st Year        67.000000\n",
       "2nd Year        65.291637\n",
       "3rd Year        65.775000\n",
       "4th Year        68.714286\n",
       "Postgraduate    70.400000\n",
       "Name: gpa_percent_2023, dtype: float64"
      ]
     },
     "execution_count": 106,
     "metadata": {},
     "output_type": "execute_result"
    }
   ],
   "source": [
    "std_df.groupby('year_2023_level')['gpa_percent_2023'].mean()"
   ]
  },
  {
   "cell_type": "markdown",
   "id": "08f76007-4b3a-4a29-b378-366384749d67",
   "metadata": {},
   "source": [
    "## Which faculty produces the highest GPA achievers?"
   ]
  },
  {
   "cell_type": "code",
   "execution_count": 112,
   "id": "92f76aa3-4d27-42b5-8039-cea336d086bb",
   "metadata": {},
   "outputs": [
    {
     "data": {
      "text/plain": [
       "degree_faculty\n",
       "AgriSciences                      64.545455\n",
       "Arts & Social Sciences            66.021277\n",
       "Economic & Management Sciences    65.906468\n",
       "Education                         70.166667\n",
       "Engineering                       65.070270\n",
       "Law                               64.800000\n",
       "Medicine and Health Services      70.170000\n",
       "Science                           66.553571\n",
       "Name: gpa_percent_2023, dtype: float64"
      ]
     },
     "execution_count": 112,
     "metadata": {},
     "output_type": "execute_result"
    }
   ],
   "source": [
    "std_df.groupby('degree_faculty')['gpa_percent_2023'].mean()"
   ]
  },
  {
   "cell_type": "markdown",
   "id": "080d8481-9bb3-4782-88be-2eb1871317d5",
   "metadata": {},
   "source": [
    "## Does living status affect GPA?"
   ]
  },
  {
   "cell_type": "code",
   "execution_count": 113,
   "id": "74ecc963-d3d5-4dc3-97df-d439acc5b7a5",
   "metadata": {},
   "outputs": [
    {
     "data": {
      "text/plain": [
       "living_status_2023\n",
       "Non-private accommodation ie. Res                  66.712917\n",
       "Private accommodation/ stay with family/friends    65.904162\n",
       "Name: gpa_percent_2023, dtype: float64"
      ]
     },
     "execution_count": 113,
     "metadata": {},
     "output_type": "execute_result"
    }
   ],
   "source": [
    "std_df.groupby('living_status_2023')['gpa_percent_2023'].mean()"
   ]
  },
  {
   "cell_type": "markdown",
   "id": "eed578f1-f44c-4a58-96c5-5be2c2cd21e6",
   "metadata": {},
   "source": [
    "## Do students with scholarships have higher GPAs?"
   ]
  },
  {
   "cell_type": "code",
   "execution_count": 114,
   "id": "a1babaa6-188c-4d12-8ab6-a5a5399b3701",
   "metadata": {},
   "outputs": [
    {
     "data": {
      "text/plain": [
       "scholarship_status_2023\n",
       "No                     65.950056\n",
       "Yes (NSFAS, etc...)    66.388913\n",
       "Name: gpa_percent_2023, dtype: float64"
      ]
     },
     "execution_count": 114,
     "metadata": {},
     "output_type": "execute_result"
    }
   ],
   "source": [
    "std_df.groupby('scholarship_status_2023')['gpa_percent_2023'].mean()"
   ]
  },
  {
   "cell_type": "markdown",
   "id": "e1c9aae0-5f3c-41a5-aa00-267de554068a",
   "metadata": {},
   "source": [
    "## How does monthly allowance relate to GPA?"
   ]
  },
  {
   "cell_type": "code",
   "execution_count": 115,
   "id": "4ef1b16a-fa9f-4616-8803-02632ef8d1f9",
   "metadata": {},
   "outputs": [
    {
     "data": {
      "text/plain": [
       "monthly_allowance_2023\n",
       "R 4001- R 5000     65.408474\n",
       "R 5001 - R 6000    65.630693\n",
       "R 6001 - R 7000    68.068966\n",
       "R 7001 - R 8000    66.566667\n",
       "R 8000+            66.466667\n",
       "Name: gpa_percent_2023, dtype: float64"
      ]
     },
     "execution_count": 115,
     "metadata": {},
     "output_type": "execute_result"
    }
   ],
   "source": [
    "std_df.groupby('monthly_allowance_2023')['gpa_percent_2023'].mean()"
   ]
  },
  {
   "cell_type": "markdown",
   "id": "431f3b58-d616-4fb2-be5b-0774ae392413",
   "metadata": {},
   "source": [
    "##  Do students who study more hours score higher GPAs?"
   ]
  },
  {
   "cell_type": "code",
   "execution_count": 116,
   "id": "8acb1773-cbca-4178-bc1a-89d86f39cc3b",
   "metadata": {},
   "outputs": [
    {
     "data": {
      "text/plain": [
       "extra_study_hours_week\n",
       "0      67.300000\n",
       "1-3    66.108434\n",
       "3-5    64.885714\n",
       "5-8    65.897531\n",
       "8+     66.771026\n",
       "Name: gpa_percent_2023, dtype: float64"
      ]
     },
     "execution_count": 116,
     "metadata": {},
     "output_type": "execute_result"
    }
   ],
   "source": [
    "std_df.groupby('extra_study_hours_week')['gpa_percent_2023'].mean()"
   ]
  },
  {
   "cell_type": "markdown",
   "id": "086b316d-5034-4f3c-a9b9-c53a6f2124f7",
   "metadata": {},
   "source": [
    "## Does partying affect GPA?"
   ]
  },
  {
   "cell_type": "code",
   "execution_count": 119,
   "id": "0ba8827b-49a9-4891-9519-e84a47bd7d45",
   "metadata": {},
   "outputs": [
    {
     "data": {
      "text/plain": [
       "party_per_week\n",
       "0                66.405294\n",
       "1                65.677963\n",
       "2                66.229885\n",
       "3                67.328571\n",
       "4+               64.312500\n",
       "Only weekends    65.574783\n",
       "Name: gpa_percent_2023, dtype: float64"
      ]
     },
     "execution_count": 119,
     "metadata": {},
     "output_type": "execute_result"
    }
   ],
   "source": [
    "std_df.groupby('party_per_week')['gpa_percent_2023'].mean()"
   ]
  },
  {
   "cell_type": "markdown",
   "id": "dd39b7bc-e7d6-410e-a3b7-2c1e3e68d6a1",
   "metadata": {},
   "source": [
    "## How does drinking affect GPA?"
   ]
  },
  {
   "cell_type": "code",
   "execution_count": 120,
   "id": "1c15469c-bff6-4942-b8d9-a9f4526387f8",
   "metadata": {},
   "outputs": [
    {
     "data": {
      "text/plain": [
       "drinks_per_night\n",
       "0      66.427308\n",
       "1-3    66.395556\n",
       "3-5    67.291209\n",
       "5-8    64.876106\n",
       "8+     65.566279\n",
       "Name: gpa_percent_2023, dtype: float64"
      ]
     },
     "execution_count": 120,
     "metadata": {},
     "output_type": "execute_result"
    }
   ],
   "source": [
    "std_df.groupby('drinks_per_night')['gpa_percent_2023'].mean()"
   ]
  },
  {
   "cell_type": "markdown",
   "id": "7d1116b8-f5b0-4063-b2e2-07d5918610f2",
   "metadata": {},
   "source": [
    "## Are missed classes due to alcohol linked to GPA drops?"
   ]
  },
  {
   "cell_type": "code",
   "execution_count": 122,
   "id": "750dcede-2e1d-417f-9146-8659cb6ee581",
   "metadata": {},
   "outputs": [
    {
     "data": {
      "text/plain": [
       "classes_missed_alcohol\n",
       "0     66.715253\n",
       "1     65.706667\n",
       "2     64.804762\n",
       "3     65.208333\n",
       "4+    64.555556\n",
       "Name: gpa_percent_2023, dtype: float64"
      ]
     },
     "execution_count": 122,
     "metadata": {},
     "output_type": "execute_result"
    }
   ],
   "source": [
    "std_df.groupby('classes_missed_alcohol')['gpa_percent_2023'].mean()"
   ]
  },
  {
   "cell_type": "markdown",
   "id": "260c64fd-d35b-4323-afea-cd20104b769a",
   "metadata": {},
   "source": [
    "## Do failed modules correlate with GPA?"
   ]
  },
  {
   "cell_type": "code",
   "execution_count": 124,
   "id": "497fbe03-d9ff-436e-8c40-8ecde17ead8e",
   "metadata": {},
   "outputs": [
    {
     "data": {
      "text/plain": [
       "modules_failed\n",
       "0     68.353459\n",
       "1     62.756724\n",
       "2     63.032258\n",
       "3     58.458333\n",
       "4+    59.888889\n",
       "Name: gpa_percent_2023, dtype: float64"
      ]
     },
     "execution_count": 124,
     "metadata": {},
     "output_type": "execute_result"
    }
   ],
   "source": [
    "std_df.groupby('modules_failed')['gpa_percent_2023'].mean()"
   ]
  },
  {
   "cell_type": "markdown",
   "id": "9210df39-dca1-4f48-ad55-31296bf87a86",
   "metadata": {},
   "source": [
    "## Does being in a relationship affect GPA?"
   ]
  },
  {
   "cell_type": "code",
   "execution_count": 131,
   "id": "71cfb623-7794-44be-850b-ef884b9a5d8a",
   "metadata": {},
   "outputs": [
    {
     "data": {
      "text/plain": [
       "in_relationship\n",
       "No     65.622769\n",
       "Yes    66.556098\n",
       "Name: gpa_percent_2023, dtype: float64"
      ]
     },
     "execution_count": 131,
     "metadata": {},
     "output_type": "execute_result"
    }
   ],
   "source": [
    "std_df.groupby('in_relationship')['gpa_percent_2023'].mean()"
   ]
  },
  {
   "cell_type": "markdown",
   "id": "1da48147-dfd9-47d7-b055-a63d0269bc7c",
   "metadata": {},
   "source": [
    "## Does parental approval of alcohol impact GPA?"
   ]
  },
  {
   "cell_type": "code",
   "execution_count": 132,
   "id": "b8b9cfef-1cac-4f69-b4f8-867dcafc23f5",
   "metadata": {},
   "outputs": [
    {
     "data": {
      "text/plain": [
       "parents_approve_alcohol\n",
       "no     64.038571\n",
       "yes    66.268964\n",
       "Name: gpa_percent_2023, dtype: float64"
      ]
     },
     "execution_count": 132,
     "metadata": {},
     "output_type": "execute_result"
    }
   ],
   "source": [
    "std_df.groupby('parents_approve_alcohol')['gpa_percent_2023'].mean()"
   ]
  },
  {
   "cell_type": "markdown",
   "id": "21f7ee1e-ec30-49cf-b224-e53f79addf9a",
   "metadata": {},
   "source": [
    "##  Is stronger parent-child relationship linked to better grades?"
   ]
  },
  {
   "cell_type": "code",
   "execution_count": 133,
   "id": "13a91074-9753-4fe0-bb4f-e91e12f27b75",
   "metadata": {},
   "outputs": [
    {
     "data": {
      "text/plain": [
       "parent_relationship_strength\n",
       "close         65.177526\n",
       "distant       88.500000\n",
       "fair          66.114286\n",
       "very close    66.112831\n",
       "Name: gpa_percent_2023, dtype: float64"
      ]
     },
     "execution_count": 133,
     "metadata": {},
     "output_type": "execute_result"
    }
   ],
   "source": [
    "std_df.groupby('parent_relationship_strength')['gpa_percent_2023'].mean()"
   ]
  },
  {
   "cell_type": "code",
   "execution_count": null,
   "id": "d129e5db-b042-4069-9729-4475a009bb5b",
   "metadata": {},
   "outputs": [],
   "source": []
  },
  {
   "cell_type": "markdown",
   "id": "ab5d1e71-eda2-444f-92af-32bd5a53cd9a",
   "metadata": {},
   "source": [
    "## Which living status group parties the most?"
   ]
  },
  {
   "cell_type": "code",
   "execution_count": 139,
   "id": "6b19d196-e2d4-4b69-9c46-e432083517c1",
   "metadata": {},
   "outputs": [
    {
     "name": "stdout",
     "output_type": "stream",
     "text": [
      "living_status_2023\n",
      "Non-private accommodation ie. Res                  1.895833\n",
      "Private accommodation/ stay with family/friends    1.882682\n",
      "Name: party_per_week_num, dtype: float64\n"
     ]
    }
   ],
   "source": [
    "mapping = {\n",
    "    \"Only weekends\": 2,  # Example: assuming 2 parties/week\n",
    "    \"4+\": 4,\n",
    "    \"0\": 0,\n",
    "    \"1\": 1,\n",
    "    \"2\": 2,\n",
    "    \"3\": 3\n",
    "}\n",
    "std_df['party_per_week_num'] = std_df['party_per_week'].map(mapping)\n",
    "\n",
    "result = std_df.groupby('living_status_2023')['party_per_week_num'].mean()\n",
    "print(result)\n"
   ]
  },
  {
   "cell_type": "markdown",
   "id": "5b9ba8a4-9c48-4ee3-84bb-06a7c15b9bad",
   "metadata": {},
   "source": [
    "## Which faculty has the highest study hours?\n"
   ]
  },
  {
   "cell_type": "code",
   "execution_count": 144,
   "id": "d8732148-e499-44a4-be8a-297336b0a485",
   "metadata": {},
   "outputs": [],
   "source": [
    "import re\n",
    "import numpy as np\n",
    "\n",
    "def parse_hours(value):\n",
    "    if pd.isna(value):\n",
    "        return np.nan\n",
    "    value = str(value).strip()\n",
    "    # Range like \"3-5\"\n",
    "    if \"-\" in value:\n",
    "        parts = re.split(r'-', value)\n",
    "        try:\n",
    "            nums = [float(p) for p in parts]\n",
    "            return sum(nums) / len(nums)  # midpoint\n",
    "        except:\n",
    "            return np.nan\n",
    "    # \"8+\" case\n",
    "    if value.endswith(\"+\"):\n",
    "        try:\n",
    "            return float(value[:-1])\n",
    "        except:\n",
    "            return np.nan\n",
    "    # Plain number\n",
    "    try:\n",
    "        return float(value)\n",
    "    except:\n",
    "        return np.nan\n",
    "\n"
   ]
  },
  {
   "cell_type": "code",
   "execution_count": 145,
   "id": "d401a395-2a30-4edb-ad9a-f83d44822a04",
   "metadata": {},
   "outputs": [
    {
     "name": "stdout",
     "output_type": "stream",
     "text": [
      "degree_faculty\n",
      "AgriSciences                      4.977273\n",
      "Arts & Social Sciences            4.702128\n",
      "Economic & Management Sciences    4.947248\n",
      "Education                         5.916667\n",
      "Engineering                       6.121622\n",
      "Law                               3.850000\n",
      "Medicine and Health Services      4.300000\n",
      "Science                           5.285714\n",
      "Name: extra_study_hours_week_num, dtype: float64\n"
     ]
    }
   ],
   "source": [
    "std_df[\"extra_study_hours_week_num\"] = std_df[\"extra_study_hours_week\"].apply(parse_hours)\n",
    "\n",
    "result = std_df.groupby(\"degree_faculty\")[\"extra_study_hours_week_num\"].mean()\n",
    "print(result)\n"
   ]
  },
  {
   "cell_type": "markdown",
   "id": "f48de693-f997-48ab-9578-687e416700ea",
   "metadata": {},
   "source": [
    "## Which year level drinks the most?"
   ]
  },
  {
   "cell_type": "code",
   "execution_count": 147,
   "id": "ca37a54c-9e4b-4162-a50f-87d3a660eadf",
   "metadata": {},
   "outputs": [],
   "source": [
    "import pandas as pd\n",
    "import numpy as np\n",
    "import re\n",
    "\n",
    "def to_numeric_value(val):\n",
    "    \"\"\"Convert ranges, plus signs, and plain numbers to float.\"\"\"\n",
    "    if pd.isna(val):\n",
    "        return np.nan\n",
    "    val = str(val).strip()\n",
    "\n",
    "    # Handle ranges like \"3-5\"\n",
    "    if \"-\" in val:\n",
    "        try:\n",
    "            low, high = re.split(r'\\s*-\\s*', val)\n",
    "            return (float(low) + float(high)) / 2\n",
    "        except:\n",
    "            return np.nan\n",
    "\n",
    "    # Handle \"8+\" style\n",
    "    if val.endswith(\"+\"):\n",
    "        try:\n",
    "            return float(val[:-1])\n",
    "        except:\n",
    "            return np.nan\n",
    "\n",
    "    # Plain number\n",
    "    try:\n",
    "        return float(val)\n",
    "    except:\n",
    "        return np.nan\n"
   ]
  },
  {
   "cell_type": "code",
   "execution_count": 148,
   "id": "76ed1803-e55f-475c-a3ed-09a8e35bb407",
   "metadata": {},
   "outputs": [
    {
     "name": "stdout",
     "output_type": "stream",
     "text": [
      "year_2023_level\n",
      "1st Year        4.828125\n",
      "2nd Year        4.798673\n",
      "3rd Year        4.862500\n",
      "4th Year        5.642857\n",
      "Postgraduate    6.000000\n",
      "Name: drinks_per_night_num, dtype: float64\n"
     ]
    }
   ],
   "source": [
    "# List of all problematic columns you want to groupby and average\n",
    "cols_to_clean = [\"party_per_week\", \"extra_study_hours_week\", \"drinks_per_night\"]\n",
    "\n",
    "for col in cols_to_clean:\n",
    "    std_df[col + \"_num\"] = std_df[col].apply(to_numeric_value)\n",
    "\n",
    "# Example: drinks per night mean by year_2023_level\n",
    "result = std_df.groupby(\"year_2023_level\")[\"drinks_per_night_num\"].mean()\n",
    "print(result)\n"
   ]
  },
  {
   "cell_type": "markdown",
   "id": "8ae57312-6666-4a42-8c90-9bb35562ad4a",
   "metadata": {},
   "source": [
    "## Do scholarship students miss fewer classes due to alcohol?"
   ]
  },
  {
   "cell_type": "code",
   "execution_count": 150,
   "id": "4ae236d2-8f22-4d49-8e9b-106e66ea78fc",
   "metadata": {},
   "outputs": [],
   "source": [
    "import pandas as pd\n",
    "import numpy as np\n",
    "import re\n",
    "\n",
    "def to_numeric_value(val):\n",
    "    \"\"\"Convert ranges, plus signs, and plain numbers to float.\"\"\"\n",
    "    if pd.isna(val):\n",
    "        return np.nan\n",
    "    val = str(val).strip()\n",
    "\n",
    "    # Handle ranges like \"3-5\"\n",
    "    if \"-\" in val:\n",
    "        try:\n",
    "            low, high = re.split(r'\\s*-\\s*', val)\n",
    "            return (float(low) + float(high)) / 2\n",
    "        except:\n",
    "            return np.nan\n",
    "\n",
    "    # Handle \"8+\" style\n",
    "    if val.endswith(\"+\"):\n",
    "        try:\n",
    "            return float(val[:-1])\n",
    "        except:\n",
    "            return np.nan\n",
    "\n",
    "    # Remove leading zeros safely\n",
    "    try:\n",
    "        return float(val.lstrip(\"0\") or \"0\")\n",
    "    except:\n",
    "        return np.nan\n"
   ]
  },
  {
   "cell_type": "code",
   "execution_count": 151,
   "id": "e95a112f-2c36-4805-972a-eda307c910fa",
   "metadata": {},
   "outputs": [
    {
     "name": "stdout",
     "output_type": "stream",
     "text": [
      "scholarship_status_2023\n",
      "No                     0.972222\n",
      "Yes (NSFAS, etc...)    0.673913\n",
      "Name: classes_missed_alcohol_num, dtype: float64\n"
     ]
    }
   ],
   "source": [
    "std_df[\"classes_missed_alcohol_num\"] = std_df[\"classes_missed_alcohol\"].apply(to_numeric_value)\n",
    "\n",
    "result = std_df.groupby(\"scholarship_status_2023\")[\"classes_missed_alcohol_num\"].mean()\n",
    "print(result)\n"
   ]
  },
  {
   "cell_type": "code",
   "execution_count": 152,
   "id": "fdae58f7-aa05-42c5-88b0-1c2191f5f444",
   "metadata": {},
   "outputs": [],
   "source": [
    "## Are students with higher GPAs also the ones with fewer parties and drinks?"
   ]
  },
  {
   "cell_type": "code",
   "execution_count": 154,
   "id": "b9dde2f8-19b9-4955-a20c-2d5226c6777d",
   "metadata": {},
   "outputs": [],
   "source": [
    "text_map = {\n",
    "    \"None\": 0,\n",
    "    \"Never\": 0,\n",
    "    \"Rarely\": 1,\n",
    "    \"Sometimes\": 2,\n",
    "    \"Often\": 3,\n",
    "    \"Very often\": 4,\n",
    "    \"Only weekends\": 2,  # adjust based on your scale\n",
    "}\n",
    "\n",
    "def to_numeric_value(val):\n",
    "    if pd.isna(val):\n",
    "        return np.nan\n",
    "    val = str(val).strip()\n",
    "\n",
    "    # Map direct text responses\n",
    "    if val in text_map:\n",
    "        return text_map[val]\n",
    "\n",
    "    # Handle ranges like \"3-5\"\n",
    "    if \"-\" in val:\n",
    "        try:\n",
    "            low, high = re.split(r'\\s*-\\s*', val)\n",
    "            return (float(low) + float(high)) / 2\n",
    "        except:\n",
    "            return np.nan\n",
    "\n",
    "    # Handle \"8+\" style\n",
    "    if val.endswith(\"+\"):\n",
    "        try:\n",
    "            return float(val[:-1])\n",
    "        except:\n",
    "            return np.nan\n",
    "\n",
    "    # Plain number\n",
    "    try:\n",
    "        return float(val)\n",
    "    except:\n",
    "        return np.nan\n"
   ]
  },
  {
   "cell_type": "code",
   "execution_count": 155,
   "id": "b317157a-a26b-4fb6-abbd-81a1adac6cd3",
   "metadata": {},
   "outputs": [
    {
     "name": "stderr",
     "output_type": "stream",
     "text": [
      "C:\\Users\\pkhad\\AppData\\Local\\Temp\\ipykernel_13896\\2555297346.py:2: FutureWarning: DataFrame.applymap has been deprecated. Use DataFrame.map instead.\n",
      "  df_num = std_df[cols].applymap(to_numeric_value)\n"
     ]
    },
    {
     "data": {
      "text/html": [
       "<div>\n",
       "<style scoped>\n",
       "    .dataframe tbody tr th:only-of-type {\n",
       "        vertical-align: middle;\n",
       "    }\n",
       "\n",
       "    .dataframe tbody tr th {\n",
       "        vertical-align: top;\n",
       "    }\n",
       "\n",
       "    .dataframe thead th {\n",
       "        text-align: right;\n",
       "    }\n",
       "</style>\n",
       "<table border=\"1\" class=\"dataframe\">\n",
       "  <thead>\n",
       "    <tr style=\"text-align: right;\">\n",
       "      <th></th>\n",
       "      <th>gpa_percent_2023</th>\n",
       "      <th>party_per_week</th>\n",
       "      <th>drinks_per_night</th>\n",
       "    </tr>\n",
       "  </thead>\n",
       "  <tbody>\n",
       "    <tr>\n",
       "      <th>gpa_percent_2023</th>\n",
       "      <td>1.000000</td>\n",
       "      <td>0.017949</td>\n",
       "      <td>-0.070163</td>\n",
       "    </tr>\n",
       "    <tr>\n",
       "      <th>party_per_week</th>\n",
       "      <td>0.017949</td>\n",
       "      <td>1.000000</td>\n",
       "      <td>0.214039</td>\n",
       "    </tr>\n",
       "    <tr>\n",
       "      <th>drinks_per_night</th>\n",
       "      <td>-0.070163</td>\n",
       "      <td>0.214039</td>\n",
       "      <td>1.000000</td>\n",
       "    </tr>\n",
       "  </tbody>\n",
       "</table>\n",
       "</div>"
      ],
      "text/plain": [
       "                  gpa_percent_2023  party_per_week  drinks_per_night\n",
       "gpa_percent_2023          1.000000        0.017949         -0.070163\n",
       "party_per_week            0.017949        1.000000          0.214039\n",
       "drinks_per_night         -0.070163        0.214039          1.000000"
      ]
     },
     "execution_count": 155,
     "metadata": {},
     "output_type": "execute_result"
    }
   ],
   "source": [
    "cols = ['gpa_percent_2023', 'party_per_week', 'drinks_per_night']\n",
    "df_num = std_df[cols].applymap(to_numeric_value)\n",
    "\n",
    "df_num.corr()\n"
   ]
  },
  {
   "cell_type": "code",
   "execution_count": null,
   "id": "e3a26eef-229b-4ca2-825e-f780bb14d892",
   "metadata": {},
   "outputs": [],
   "source": []
  },
  {
   "cell_type": "code",
   "execution_count": null,
   "id": "92d496ee-1154-4777-b200-f953c2e6beeb",
   "metadata": {},
   "outputs": [],
   "source": []
  },
  {
   "cell_type": "code",
   "execution_count": null,
   "id": "e3961140-afa6-444d-bfce-1d46404ef1ed",
   "metadata": {},
   "outputs": [],
   "source": []
  },
  {
   "cell_type": "code",
   "execution_count": null,
   "id": "709471f9-e9e8-4068-b226-097c0fbe6132",
   "metadata": {},
   "outputs": [],
   "source": []
  },
  {
   "cell_type": "code",
   "execution_count": 73,
   "id": "1583cbbd-3369-44ff-8e9d-bf03eb5f422a",
   "metadata": {},
   "outputs": [
    {
     "name": "stdout",
     "output_type": "stream",
     "text": [
      "Correlation between Grade 12 Avg and 2023 GPA: 0.2542962390311695\n"
     ]
    },
    {
     "data": {
      "image/png": "[encoded data removed]",
      "text/plain": [
       "<Figure size 640x480 with 1 Axes>"
      ]
     },
     "metadata": {},
     "output_type": "display_data"
    }
   ],
   "source": [
    "import matplotlib.pyplot as plt\n",
    "import seaborn as sns\n",
    "\n",
    "# Correlation\n",
    "corr = std_df['grade12_avg'].corr(std_df['gpa_percent_2023'])\n",
    "print(\"Correlation between Grade 12 Avg and 2023 GPA:\", corr)\n",
    "\n",
    "# Visualization\n",
    "sns.scatterplot(data=std_df, x='grade12_avg', y='gpa_percent_2023')\n",
    "sns.regplot(data=std_df, x='grade12_avg', y='gpa_percent_2023', scatter=False, color='red')\n",
    "plt.show()\n"
   ]
  },
  {
   "cell_type": "markdown",
   "id": "ac8c01a2-7133-4812-98c1-925f68204e54",
   "metadata": {},
   "source": [
    " ## Relationship between partying and GPA\n",
    "Question: Does going out more often relate to lower academic performance?"
   ]
  },
  {
   "cell_type": "code",
   "execution_count": 9,
   "id": "17e50076-2b01-4b26-958a-d4ad23d526f2",
   "metadata": {},
   "outputs": [
    {
     "data": {
      "image/png": "[encoded data removed]",
      "text/plain": [
       "<Figure size 800x600 with 1 Axes>"
      ]
     },
     "metadata": {},
     "output_type": "display_data"
    }
   ],
   "source": [
    "import seaborn as sns\n",
    "import matplotlib.pyplot as plt\n",
    "\n",
    "plt.figure(figsize =(8,6))\n",
    "sns.boxplot(data=std_df, x= 'party_per_week', y = 'gpa_percent_2023')\n",
    "plt.title('party frequency vs GPA')\n",
    "plt.xlabel('Parties per week')\n",
    "plt.ylabel('GPA (%)')\n",
    "plt.show()"
   ]
  },
  {
   "cell_type": "markdown",
   "id": "9993e519-6ed2-4845-be6c-234227a87197",
   "metadata": {},
   "source": [
    "## Drinks per night and missed classes\n",
    "Question: Do students who drink more miss more classes?"
   ]
  },
  {
   "cell_type": "code",
   "execution_count": 11,
   "id": "97a72993-370d-4120-bc5d-3448c6b0e18a",
   "metadata": {},
   "outputs": [
    {
     "data": {
      "image/png": "[encoded data removed]",
      "text/plain": [
       "<Figure size 600x600 with 1 Axes>"
      ]
     },
     "metadata": {},
     "output_type": "display_data"
    }
   ],
   "source": [
    "plt.figure(figsize=(6,6))\n",
    "sns.boxplot(data=std_df, x= 'drinks_per_night', y= 'classes_missed_alcohol')\n",
    "plt.title('drinks per night vs classes missed')\n",
    "plt.ylabel('classes missed per week(alcohol related)')\n",
    "plt.show()"
   ]
  },
  {
   "cell_type": "code",
   "execution_count": 63,
   "id": "9c835845-80b3-4d78-a458-fbf5e81dbc84",
   "metadata": {},
   "outputs": [
    {
     "data": {
      "text/plain": [
       "<Axes: xlabel='drinks_per_night', ylabel='classes_missed_alcohol'>"
      ]
     },
     "execution_count": 63,
     "metadata": {},
     "output_type": "execute_result"
    },
    {
     "data": {
      "image/png": "[encoded data removed]",
      "text/plain": [
       "<Figure size 640x480 with 1 Axes>"
      ]
     },
     "metadata": {},
     "output_type": "display_data"
    }
   ],
   "source": [
    "sns.barplot(x='drinks_per_night', y='classes_missed_alcohol', data=std_df, errorbar=None)\n"
   ]
  },
  {
   "cell_type": "code",
   "execution_count": 64,
   "id": "1d1d716d-b578-4783-a514-9718c29e4a63",
   "metadata": {},
   "outputs": [
    {
     "data": {
      "text/plain": [
       "<Axes: xlabel='classes_missed_alcohol', ylabel='drinks_per_night'>"
      ]
     },
     "execution_count": 64,
     "metadata": {},
     "output_type": "execute_result"
    },
    {
     "data": {
      "image/png": "[encoded data removed]",
      "text/plain": [
       "<Figure size 640x480 with 2 Axes>"
      ]
     },
     "metadata": {},
     "output_type": "display_data"
    }
   ],
   "source": [
    "pd.crosstab(std_df['drinks_per_night'], std_df['classes_missed_alcohol'])\n",
    "sns.heatmap(pd.crosstab(std_df['drinks_per_night'], std_df['classes_missed_alcohol']), annot=True, cmap='Blues')\n"
   ]
  },
  {
   "cell_type": "code",
   "execution_count": 65,
   "id": "31d129a7-fc41-4ce2-ae92-5ceb04583c4b",
   "metadata": {},
   "outputs": [
    {
     "data": {
      "text/plain": [
       "Index(['Timestamp', 'gender', 'grade12_avg', 'year_2023_level',\n",
       "       'degree_faculty', 'gpa_percent_2023', 'living_status_2023',\n",
       "       'monthly_allowance_2023', 'scholarship_status_2023',\n",
       "       'extra_study_hours_week', 'party_per_week', 'drinks_per_night',\n",
       "       'classes_missed_alcohol', 'modules_failed', 'in_relationship',\n",
       "       'parents_approve_alcohol', 'parent_relationship_strength'],\n",
       "      dtype='object')"
      ]
     },
     "execution_count": 65,
     "metadata": {},
     "output_type": "execute_result"
    }
   ],
   "source": [
    "std_df.columns"
   ]
  },
  {
   "cell_type": "markdown",
   "id": "b9cd972a-fd02-4dab-9334-0faae1c99558",
   "metadata": {},
   "source": [
    "## Distribution of Parent Relationship Strength"
   ]
  },
  {
   "cell_type": "code",
   "execution_count": 66,
   "id": "5e46ab56-7731-4504-8636-8f3a0aec2ffd",
   "metadata": {},
   "outputs": [
    {
     "data": {
      "image/png": "[encoded data removed]",
      "text/plain": [
       "<Figure size 640x480 with 1 Axes>"
      ]
     },
     "metadata": {},
     "output_type": "display_data"
    },
    {
     "name": "stdout",
     "output_type": "stream",
     "text": [
      "in_relationship           No  Yes\n",
      "parents_approve_alcohol          \n",
      "no                        32   17\n",
      "yes                      210  147\n"
     ]
    }
   ],
   "source": [
    "import seaborn as sns\n",
    "import matplotlib.pyplot as plt\n",
    "\n",
    "# Plot distribution of parent_relationship_strength\n",
    "sns.countplot(data=std_df, x='parent_relationship_strength')\n",
    "plt.title('Distribution of Parent Relationship Strength')\n",
    "plt.show()\n",
    "\n",
    "# Crosstab parents_approve_alcohol vs in_relationship\n",
    "print(pd.crosstab(std_df['parents_approve_alcohol'], std_df['in_relationship']))\n"
   ]
  },
  {
   "cell_type": "markdown",
   "id": "95d8fbe7-a754-477c-afd9-276a86dc3d96",
   "metadata": {},
   "source": [
    "## Does gender affect GPA percentage in 2023?"
   ]
  },
  {
   "cell_type": "code",
   "execution_count": 67,
   "id": "a7346612-bcd1-4dc5-81bd-562b8a19c509",
   "metadata": {},
   "outputs": [
    {
     "data": {
      "text/plain": [
       "<Axes: title={'center': 'Average GPA by Gender'}, xlabel='gender'>"
      ]
     },
     "execution_count": 67,
     "metadata": {},
     "output_type": "execute_result"
    },
    {
     "data": {
      "image/png": "[encoded data removed]",
      "text/plain": [
       "<Figure size 640x480 with 1 Axes>"
      ]
     },
     "metadata": {},
     "output_type": "display_data"
    }
   ],
   "source": [
    "std_df.groupby('gender')['gpa_percent_2023'].mean().plot(kind= 'bar', title = 'Average GPA by Gender')"
   ]
  },
  {
   "cell_type": "markdown",
   "id": "27778020-cfd2-47dd-9761-9a68eab8c456",
   "metadata": {},
   "source": [
    "## scholarship status relate to average monthly allowance?"
   ]
  },
  {
   "cell_type": "code",
   "execution_count": 68,
   "id": "0c7f6239-cd01-4da5-99f5-c4509ba906c0",
   "metadata": {},
   "outputs": [],
   "source": [
    "mapping = {\n",
    "    \"R 4001- R 5000\": 4500,\n",
    "    \"R 5001 - R 6000\": 5500,\n",
    "    \"R 6001 - R 7000\": 6500,\n",
    "    \"R 7001 - R 8000\": 7500,\n",
    "    \"8000+\": 8500\n",
    "}\n",
    "std_df['monthly_allowance_numeric'] = std_df['monthly_allowance_2023'].map(mapping)\n"
   ]
  },
  {
   "cell_type": "code",
   "execution_count": 69,
   "id": "e22e083d-6373-4115-ad0b-67597a63cd65",
   "metadata": {},
   "outputs": [
    {
     "name": "stdout",
     "output_type": "stream",
     "text": [
      "  monthly_allowance_2023  monthly_allowance_numeric\n",
      "0         R 4001- R 5000                     4500.0\n",
      "1        R 7001 - R 8000                     7500.0\n",
      "2         R 4001- R 5000                     4500.0\n",
      "3        R 6001 - R 7000                     6500.0\n",
      "4         R 4001- R 5000                     4500.0\n"
     ]
    }
   ],
   "source": [
    "print(std_df[['monthly_allowance_2023', 'monthly_allowance_numeric']].head())\n"
   ]
  },
  {
   "cell_type": "code",
   "execution_count": 70,
   "id": "55daa11e-4481-41b0-8d2f-5a9258676c91",
   "metadata": {},
   "outputs": [
    {
     "data": {
      "text/plain": [
       "<Axes: title={'center': 'Monthly Allowance by Scholarship Status'}, xlabel='scholarship_status_2023'>"
      ]
     },
     "execution_count": 70,
     "metadata": {},
     "output_type": "execute_result"
    },
    {
     "data": {
      "image/png": "[encoded data removed]",
      "text/plain": [
       "<Figure size 640x480 with 1 Axes>"
      ]
     },
     "metadata": {},
     "output_type": "display_data"
    }
   ],
   "source": [
    "std_df.groupby('scholarship_status_2023')['monthly_allowance_numeric'].mean().plot(\n",
    "    kind='bar', title='Monthly Allowance by Scholarship Status')\n"
   ]
  },
  {
   "cell_type": "markdown",
   "id": "5f95e9f5-02b1-4d32-ad7d-d4384a993777",
   "metadata": {},
   "source": [
    "## average number of study hours per week by year level?"
   ]
  },
  {
   "cell_type": "code",
   "execution_count": 74,
   "id": "eff3d127-ef8a-4460-86c4-78a60cbeae77",
   "metadata": {},
   "outputs": [],
   "source": [
    "#std_df.groupby('year_2023_level')['extra_study_hours_week'].mean().plot(kind='bar', title='Avg Study Hours per Week by Year Level')\n"
   ]
  },
  {
   "cell_type": "code",
   "execution_count": 72,
   "id": "fa2751d5-33cb-4831-b55f-49d6f9e97a8a",
   "metadata": {},
   "outputs": [
    {
     "name": "stdout",
     "output_type": "stream",
     "text": [
      "['8+' '3-5' '5-8' '1-3' '0']\n"
     ]
    }
   ],
   "source": [
    "print(std_df['extra_study_hours_week'].unique())\n"
   ]
  },
  {
   "cell_type": "code",
   "execution_count": 77,
   "id": "72d12fc8-a5d5-4733-896d-c3d66fe729df",
   "metadata": {},
   "outputs": [],
   "source": [
    "def convert_study_hours(x):\n",
    "    if pd.isna(x):  # handle NaNs safely\n",
    "        return None\n",
    "    if isinstance(x, float):  # already a float (maybe NaN)\n",
    "        return x\n",
    "    if x == '8+':\n",
    "        return 8.5\n",
    "    elif '-' in x:\n",
    "        low, high = x.split('-')\n",
    "        return (float(low) + float(high)) / 2\n",
    "    else:\n",
    "        try:\n",
    "            return float(x)\n",
    "        except:\n",
    "            return None\n"
   ]
  },
  {
   "cell_type": "code",
   "execution_count": 78,
   "id": "44375ce5-bbae-46c1-aeed-0c25129e66ad",
   "metadata": {},
   "outputs": [
    {
     "data": {
      "text/plain": [
       "<Axes: title={'center': 'Avg Study Hours per Week by Year Level'}, xlabel='year_2023_level'>"
      ]
     },
     "execution_count": 78,
     "metadata": {},
     "output_type": "execute_result"
    },
    {
     "data": {
      "image/png": "[encoded data removed]",
      "text/plain": [
       "<Figure size 640x480 with 1 Axes>"
      ]
     },
     "metadata": {},
     "output_type": "display_data"
    }
   ],
   "source": [
    "std_df_clean = std_df.dropna(subset=['extra_study_hours_week'])\n",
    "std_df_clean.groupby('year_2023_level')['extra_study_hours_week'].mean().plot(kind='bar', title='Avg Study Hours per Week by Year Level')\n"
   ]
  },
  {
   "cell_type": "code",
   "execution_count": 75,
   "id": "8f74ba8b-ec87-42c5-86f1-a752c68ed826",
   "metadata": {},
   "outputs": [
    {
     "data": {
      "text/plain": [
       "0      8.0\n",
       "1      8.0\n",
       "2      3.0\n",
       "3      3.0\n",
       "4      3.0\n",
       "      ... \n",
       "401    3.0\n",
       "402    5.0\n",
       "403    5.0\n",
       "404    1.0\n",
       "405    3.0\n",
       "Name: extra_study_hours_week, Length: 406, dtype: float64"
      ]
     },
     "execution_count": 75,
     "metadata": {},
     "output_type": "execute_result"
    }
   ],
   "source": [
    "std_df['extra_study_hours_week'] "
   ]
  },
  {
   "cell_type": "code",
   "execution_count": 81,
   "id": "5ee637be-a5da-4335-a766-ca4bd2fcdc10",
   "metadata": {},
   "outputs": [],
   "source": [
    "def grade_from_percent(p):\n",
    "    if pd.isna(p):\n",
    "        return None\n",
    "    if p >= 85:\n",
    "        return 'A'\n",
    "    elif p >= 75:\n",
    "        return 'B'\n",
    "    elif p >= 65:\n",
    "        return 'C'\n",
    "    elif p >= 50:\n",
    "        return 'D'\n",
    "    else:\n",
    "        return 'E'\n",
    "\n",
    "def gpa_from_percent(p):\n",
    "    if pd.isna(p):\n",
    "        return None\n",
    "    if p >= 85:\n",
    "        return 4.0\n",
    "    elif p >= 75:\n",
    "        return 3.0\n",
    "    elif p >= 65:\n",
    "        return 2.0\n",
    "    elif p >= 50:\n",
    "        return 1.0\n",
    "    else:\n",
    "        return 0.0\n",
    "\n",
    "std_df['grade_letter'] = std_df['gpa_percent_2023'].apply(grade_from_percent)\n",
    "std_df['gpa_4_scale'] = std_df['gpa_percent_2023'].apply(gpa_from_percent)\n"
   ]
  },
  {
   "cell_type": "code",
   "execution_count": 91,
   "id": "5b858a9f-23c7-458a-86d9-d628eaf501e3",
   "metadata": {},
   "outputs": [
    {
     "data": {
      "text/plain": [
       "<Axes: title={'center': 'Living Status vs GPA Count'}, xlabel='Living Status', ylabel='Count'>"
      ]
     },
     "execution_count": 91,
     "metadata": {},
     "output_type": "execute_result"
    },
    {
     "data": {
      "image/png": "[encoded data removed]",
      "text/plain": [
       "<Figure size 640x480 with 1 Axes>"
      ]
     },
     "metadata": {},
     "output_type": "display_data"
    }
   ],
   "source": [
    "std_df.pivot_table(index='living_status_2023',\n",
    "                   columns='gpa_4_scale',\n",
    "                   aggfunc='size',\n",
    "                   fill_value=0) \\\n",
    "      .plot(kind='bar',\n",
    "            title='Living Status vs GPA Count',\n",
    "            xlabel='Living Status',\n",
    "            ylabel='Count')\n"
   ]
  },
  {
   "cell_type": "code",
   "execution_count": 90,
   "id": "539a5802-d203-459c-a6f3-6af1ca1d2674",
   "metadata": {},
   "outputs": [
    {
     "data": {
      "text/plain": [
       "<Axes: title={'center': 'Living Status vs GPA Score'}, xlabel='Living Status', ylabel='Average GPA (4.0 scale)'>"
      ]
     },
     "execution_count": 90,
     "metadata": {},
     "output_type": "execute_result"
    },
    {
     "data": {
      "image/png": "[encoded data removed]",
      "text/plain": [
       "<Figure size 640x480 with 1 Axes>"
      ]
     },
     "metadata": {},
     "output_type": "display_data"
    }
   ],
   "source": [
    "std_df.groupby('living_status_2023')['gpa_4_scale'] \\\n",
    "      .mean() \\\n",
    "      .plot(kind='bar',\n",
    "            title='Living Status vs GPA Score',\n",
    "            xlabel='Living Status',\n",
    "            ylabel='Average GPA (4.0 scale)')\n"
   ]
  },
  {
   "cell_type": "markdown",
   "id": "1e04447f-a331-4ff1-97ff-cc2b9a0d9b19",
   "metadata": {},
   "source": [
    " ## In Relationship\n",
    "Q: Do students in relationships have higher or lower GPAs?"
   ]
  },
  {
   "cell_type": "code",
   "execution_count": 92,
   "id": "810b6348-6eda-462b-9580-28a8d55b8120",
   "metadata": {},
   "outputs": [
    {
     "ename": "TypeError",
     "evalue": "no numeric data to plot",
     "output_type": "error",
     "traceback": [
      "\u001b[1;31m---------------------------------------------------------------------------\u001b[0m",
      "\u001b[1;31mTypeError\u001b[0m                                 Traceback (most recent call last)",
      "Cell \u001b[1;32mIn[92], line 1\u001b[0m\n\u001b[1;32m----> 1\u001b[0m \u001b[43mstd_df\u001b[49m\u001b[38;5;241;43m.\u001b[39;49m\u001b[43mgroupby\u001b[49m\u001b[43m(\u001b[49m\u001b[38;5;124;43m'\u001b[39;49m\u001b[38;5;124;43mgpa_percent_2023\u001b[39;49m\u001b[38;5;124;43m'\u001b[39;49m\u001b[43m)\u001b[49m\u001b[43m[\u001b[49m\u001b[38;5;124;43m'\u001b[39;49m\u001b[38;5;124;43min_relationship\u001b[39;49m\u001b[38;5;124;43m'\u001b[39;49m\u001b[43m]\u001b[49m\u001b[38;5;241;43m.\u001b[39;49m\u001b[43mplot\u001b[49m\u001b[43m(\u001b[49m\u001b[43mkind\u001b[49m\u001b[38;5;241;43m=\u001b[39;49m\u001b[43m(\u001b[49m\u001b[38;5;124;43m'\u001b[39;49m\u001b[38;5;124;43mbar\u001b[39;49m\u001b[38;5;124;43m'\u001b[39;49m\u001b[43m)\u001b[49m\u001b[43m)\u001b[49m\n",
      "File \u001b[1;32m~\\AppData\\Roaming\\Python\\Python313\\site-packages\\pandas\\core\\groupby\\groupby.py:744\u001b[0m, in \u001b[0;36mGroupByPlot.__call__\u001b[1;34m(self, *args, **kwargs)\u001b[0m\n\u001b[0;32m    741\u001b[0m     \u001b[38;5;28;01mreturn\u001b[39;00m \u001b[38;5;28mself\u001b[39m\u001b[38;5;241m.\u001b[39mplot(\u001b[38;5;241m*\u001b[39margs, \u001b[38;5;241m*\u001b[39m\u001b[38;5;241m*\u001b[39mkwargs)\n\u001b[0;32m    743\u001b[0m f\u001b[38;5;241m.\u001b[39m\u001b[38;5;18m__name__\u001b[39m \u001b[38;5;241m=\u001b[39m \u001b[38;5;124m\"\u001b[39m\u001b[38;5;124mplot\u001b[39m\u001b[38;5;124m\"\u001b[39m\n\u001b[1;32m--> 744\u001b[0m \u001b[38;5;28;01mreturn\u001b[39;00m \u001b[38;5;28;43mself\u001b[39;49m\u001b[38;5;241;43m.\u001b[39;49m\u001b[43m_groupby\u001b[49m\u001b[38;5;241;43m.\u001b[39;49m\u001b[43m_python_apply_general\u001b[49m\u001b[43m(\u001b[49m\u001b[43mf\u001b[49m\u001b[43m,\u001b[49m\u001b[43m \u001b[49m\u001b[38;5;28;43mself\u001b[39;49m\u001b[38;5;241;43m.\u001b[39;49m\u001b[43m_groupby\u001b[49m\u001b[38;5;241;43m.\u001b[39;49m\u001b[43m_selected_obj\u001b[49m\u001b[43m)\u001b[49m\n",
      "File \u001b[1;32m~\\AppData\\Roaming\\Python\\Python313\\site-packages\\pandas\\core\\groupby\\groupby.py:1886\u001b[0m, in \u001b[0;36mGroupBy._python_apply_general\u001b[1;34m(self, f, data, not_indexed_same, is_transform, is_agg)\u001b[0m\n\u001b[0;32m   1851\u001b[0m \u001b[38;5;129m@final\u001b[39m\n\u001b[0;32m   1852\u001b[0m \u001b[38;5;28;01mdef\u001b[39;00m \u001b[38;5;21m_python_apply_general\u001b[39m(\n\u001b[0;32m   1853\u001b[0m     \u001b[38;5;28mself\u001b[39m,\n\u001b[1;32m   (...)\u001b[0m\n\u001b[0;32m   1858\u001b[0m     is_agg: \u001b[38;5;28mbool\u001b[39m \u001b[38;5;241m=\u001b[39m \u001b[38;5;28;01mFalse\u001b[39;00m,\n\u001b[0;32m   1859\u001b[0m ) \u001b[38;5;241m-\u001b[39m\u001b[38;5;241m>\u001b[39m NDFrameT:\n\u001b[0;32m   1860\u001b[0m \u001b[38;5;250m    \u001b[39m\u001b[38;5;124;03m\"\"\"\u001b[39;00m\n\u001b[0;32m   1861\u001b[0m \u001b[38;5;124;03m    Apply function f in python space\u001b[39;00m\n\u001b[0;32m   1862\u001b[0m \n\u001b[1;32m   (...)\u001b[0m\n\u001b[0;32m   1884\u001b[0m \u001b[38;5;124;03m        data after applying f\u001b[39;00m\n\u001b[0;32m   1885\u001b[0m \u001b[38;5;124;03m    \"\"\"\u001b[39;00m\n\u001b[1;32m-> 1886\u001b[0m     values, mutated \u001b[38;5;241m=\u001b[39m \u001b[38;5;28;43mself\u001b[39;49m\u001b[38;5;241;43m.\u001b[39;49m\u001b[43m_grouper\u001b[49m\u001b[38;5;241;43m.\u001b[39;49m\u001b[43mapply_groupwise\u001b[49m\u001b[43m(\u001b[49m\u001b[43mf\u001b[49m\u001b[43m,\u001b[49m\u001b[43m \u001b[49m\u001b[43mdata\u001b[49m\u001b[43m,\u001b[49m\u001b[43m \u001b[49m\u001b[38;5;28;43mself\u001b[39;49m\u001b[38;5;241;43m.\u001b[39;49m\u001b[43maxis\u001b[49m\u001b[43m)\u001b[49m\n\u001b[0;32m   1887\u001b[0m     \u001b[38;5;28;01mif\u001b[39;00m not_indexed_same \u001b[38;5;129;01mis\u001b[39;00m \u001b[38;5;28;01mNone\u001b[39;00m:\n\u001b[0;32m   1888\u001b[0m         not_indexed_same \u001b[38;5;241m=\u001b[39m mutated\n",
      "File \u001b[1;32m~\\AppData\\Roaming\\Python\\Python313\\site-packages\\pandas\\core\\groupby\\ops.py:919\u001b[0m, in \u001b[0;36mBaseGrouper.apply_groupwise\u001b[1;34m(self, f, data, axis)\u001b[0m\n\u001b[0;32m    917\u001b[0m \u001b[38;5;66;03m# group might be modified\u001b[39;00m\n\u001b[0;32m    918\u001b[0m group_axes \u001b[38;5;241m=\u001b[39m group\u001b[38;5;241m.\u001b[39maxes\n\u001b[1;32m--> 919\u001b[0m res \u001b[38;5;241m=\u001b[39m \u001b[43mf\u001b[49m\u001b[43m(\u001b[49m\u001b[43mgroup\u001b[49m\u001b[43m)\u001b[49m\n\u001b[0;32m    920\u001b[0m \u001b[38;5;28;01mif\u001b[39;00m \u001b[38;5;129;01mnot\u001b[39;00m mutated \u001b[38;5;129;01mand\u001b[39;00m \u001b[38;5;129;01mnot\u001b[39;00m _is_indexed_like(res, group_axes, axis):\n\u001b[0;32m    921\u001b[0m     mutated \u001b[38;5;241m=\u001b[39m \u001b[38;5;28;01mTrue\u001b[39;00m\n",
      "File \u001b[1;32m~\\AppData\\Roaming\\Python\\Python313\\site-packages\\pandas\\core\\groupby\\groupby.py:741\u001b[0m, in \u001b[0;36mGroupByPlot.__call__.<locals>.f\u001b[1;34m(self)\u001b[0m\n\u001b[0;32m    740\u001b[0m \u001b[38;5;28;01mdef\u001b[39;00m \u001b[38;5;21mf\u001b[39m(\u001b[38;5;28mself\u001b[39m):\n\u001b[1;32m--> 741\u001b[0m     \u001b[38;5;28;01mreturn\u001b[39;00m \u001b[38;5;28;43mself\u001b[39;49m\u001b[38;5;241;43m.\u001b[39;49m\u001b[43mplot\u001b[49m\u001b[43m(\u001b[49m\u001b[38;5;241;43m*\u001b[39;49m\u001b[43margs\u001b[49m\u001b[43m,\u001b[49m\u001b[43m \u001b[49m\u001b[38;5;241;43m*\u001b[39;49m\u001b[38;5;241;43m*\u001b[39;49m\u001b[43mkwargs\u001b[49m\u001b[43m)\u001b[49m\n",
      "File \u001b[1;32m~\\AppData\\Roaming\\Python\\Python313\\site-packages\\pandas\\plotting\\_core.py:1030\u001b[0m, in \u001b[0;36mPlotAccessor.__call__\u001b[1;34m(self, *args, **kwargs)\u001b[0m\n\u001b[0;32m   1027\u001b[0m             label_name \u001b[38;5;241m=\u001b[39m label_kw \u001b[38;5;129;01mor\u001b[39;00m data\u001b[38;5;241m.\u001b[39mcolumns\n\u001b[0;32m   1028\u001b[0m             data\u001b[38;5;241m.\u001b[39mcolumns \u001b[38;5;241m=\u001b[39m label_name\n\u001b[1;32m-> 1030\u001b[0m \u001b[38;5;28;01mreturn\u001b[39;00m \u001b[43mplot_backend\u001b[49m\u001b[38;5;241;43m.\u001b[39;49m\u001b[43mplot\u001b[49m\u001b[43m(\u001b[49m\u001b[43mdata\u001b[49m\u001b[43m,\u001b[49m\u001b[43m \u001b[49m\u001b[43mkind\u001b[49m\u001b[38;5;241;43m=\u001b[39;49m\u001b[43mkind\u001b[49m\u001b[43m,\u001b[49m\u001b[43m \u001b[49m\u001b[38;5;241;43m*\u001b[39;49m\u001b[38;5;241;43m*\u001b[39;49m\u001b[43mkwargs\u001b[49m\u001b[43m)\u001b[49m\n",
      "File \u001b[1;32m~\\AppData\\Roaming\\Python\\Python313\\site-packages\\pandas\\plotting\\_matplotlib\\__init__.py:71\u001b[0m, in \u001b[0;36mplot\u001b[1;34m(data, kind, **kwargs)\u001b[0m\n\u001b[0;32m     69\u001b[0m         kwargs[\u001b[38;5;124m\"\u001b[39m\u001b[38;5;124max\u001b[39m\u001b[38;5;124m\"\u001b[39m] \u001b[38;5;241m=\u001b[39m \u001b[38;5;28mgetattr\u001b[39m(ax, \u001b[38;5;124m\"\u001b[39m\u001b[38;5;124mleft_ax\u001b[39m\u001b[38;5;124m\"\u001b[39m, ax)\n\u001b[0;32m     70\u001b[0m plot_obj \u001b[38;5;241m=\u001b[39m PLOT_CLASSES[kind](data, \u001b[38;5;241m*\u001b[39m\u001b[38;5;241m*\u001b[39mkwargs)\n\u001b[1;32m---> 71\u001b[0m \u001b[43mplot_obj\u001b[49m\u001b[38;5;241;43m.\u001b[39;49m\u001b[43mgenerate\u001b[49m\u001b[43m(\u001b[49m\u001b[43m)\u001b[49m\n\u001b[0;32m     72\u001b[0m plot_obj\u001b[38;5;241m.\u001b[39mdraw()\n\u001b[0;32m     73\u001b[0m \u001b[38;5;28;01mreturn\u001b[39;00m plot_obj\u001b[38;5;241m.\u001b[39mresult\n",
      "File \u001b[1;32m~\\AppData\\Roaming\\Python\\Python313\\site-packages\\pandas\\plotting\\_matplotlib\\core.py:499\u001b[0m, in \u001b[0;36mMPLPlot.generate\u001b[1;34m(self)\u001b[0m\n\u001b[0;32m    497\u001b[0m \u001b[38;5;129m@final\u001b[39m\n\u001b[0;32m    498\u001b[0m \u001b[38;5;28;01mdef\u001b[39;00m \u001b[38;5;21mgenerate\u001b[39m(\u001b[38;5;28mself\u001b[39m) \u001b[38;5;241m-\u001b[39m\u001b[38;5;241m>\u001b[39m \u001b[38;5;28;01mNone\u001b[39;00m:\n\u001b[1;32m--> 499\u001b[0m     \u001b[38;5;28;43mself\u001b[39;49m\u001b[38;5;241;43m.\u001b[39;49m\u001b[43m_compute_plot_data\u001b[49m\u001b[43m(\u001b[49m\u001b[43m)\u001b[49m\n\u001b[0;32m    500\u001b[0m     fig \u001b[38;5;241m=\u001b[39m \u001b[38;5;28mself\u001b[39m\u001b[38;5;241m.\u001b[39mfig\n\u001b[0;32m    501\u001b[0m     \u001b[38;5;28mself\u001b[39m\u001b[38;5;241m.\u001b[39m_make_plot(fig)\n",
      "File \u001b[1;32m~\\AppData\\Roaming\\Python\\Python313\\site-packages\\pandas\\plotting\\_matplotlib\\core.py:698\u001b[0m, in \u001b[0;36mMPLPlot._compute_plot_data\u001b[1;34m(self)\u001b[0m\n\u001b[0;32m    696\u001b[0m \u001b[38;5;66;03m# no non-numeric frames or series allowed\u001b[39;00m\n\u001b[0;32m    697\u001b[0m \u001b[38;5;28;01mif\u001b[39;00m is_empty:\n\u001b[1;32m--> 698\u001b[0m     \u001b[38;5;28;01mraise\u001b[39;00m \u001b[38;5;167;01mTypeError\u001b[39;00m(\u001b[38;5;124m\"\u001b[39m\u001b[38;5;124mno numeric data to plot\u001b[39m\u001b[38;5;124m\"\u001b[39m)\n\u001b[0;32m    700\u001b[0m \u001b[38;5;28mself\u001b[39m\u001b[38;5;241m.\u001b[39mdata \u001b[38;5;241m=\u001b[39m numeric_data\u001b[38;5;241m.\u001b[39mapply(\u001b[38;5;28mtype\u001b[39m(\u001b[38;5;28mself\u001b[39m)\u001b[38;5;241m.\u001b[39m_convert_to_ndarray)\n",
      "\u001b[1;31mTypeError\u001b[0m: no numeric data to plot"
     ]
    }
   ],
   "source": [
    "std_df.groupby('gpa_percent_2023')['in_relationship'].plot(kind=('bar'))"
   ]
  },
  {
   "cell_type": "code",
   "execution_count": null,
   "id": "94d0190f-ef3d-4ca2-8a13-fec900055f5c",
   "metadata": {},
   "outputs": [],
   "source": []
  },
  {
   "cell_type": "code",
   "execution_count": null,
   "id": "96bf061c-f583-488f-b0ae-67356e206875",
   "metadata": {},
   "outputs": [],
   "source": []
  },
  {
   "cell_type": "code",
   "execution_count": null,
   "id": "0376dead-3ee9-44cc-9dbb-1cbfdb4f4a89",
   "metadata": {},
   "outputs": [],
   "source": []
  },
  {
   "cell_type": "code",
   "execution_count": null,
   "id": "b547d899-f541-45c8-8fd1-085e387f85ef",
   "metadata": {},
   "outputs": [],
   "source": []
  }
 ],
 "metadata": {
  "kernelspec": {
   "display_name": "Python 3 (ipykernel)",
   "language": "python",
   "name": "python3"
  },
  "language_info": {
   "codemirror_mode": {
    "name": "ipython",
    "version": 3
   },
   "file_extension": ".py",
   "mimetype": "text/x-python",
   "name": "python",
   "nbconvert_exporter": "python",
   "pygments_lexer": "ipython3",
   "version": "3.13.0"
  }
 },
 "nbformat": 4,
 "nbformat_minor": 5
}
