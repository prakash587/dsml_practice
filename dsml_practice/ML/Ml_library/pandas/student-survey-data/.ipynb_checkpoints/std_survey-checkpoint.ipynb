{
 "cells": [
  {
   "cell_type": "code",
   "execution_count": 45,
   "id": "24ad3803-fdbf-4457-9147-7a6c358b98a4",
   "metadata": {},
   "outputs": [],
   "source": [
    "import os\n",
    "\n",
    "import numpy as np\n",
    "import pandas as pd\n",
    "import seaborn as sns"
   ]
  },
  {
   "cell_type": "code",
   "execution_count": 46,
   "id": "3e573ac4-3d78-4f0f-bcab-f8cd68f3d5e2",
   "metadata": {},
   "outputs": [],
   "source": [
    "# Reading CSV File\n",
    "columns_name = [\n",
    "    \"time\", \"gender\", \"matric_%\", \"study_year\",\"faculty\",\"gpa_2023\",\"accomodation\",\"allowance\",\"scholarship\",\"study_hours\",\n",
    "    \"party_week\",\"drinks_night\",\"missed_classes\", \"failed_classes\", \"in_relationship\",\"parent_approve\",\"relation_parent\"\n",
    "]\n",
    "student_data = pd.read_csv(\"survey_student.csv\", names = columns_name, header = 0)"
   ]
  },
  {
   "cell_type": "code",
   "execution_count": 47,
   "id": "5f0598ef-ef9d-4de5-bfc8-59fa347b5366",
   "metadata": {},
   "outputs": [
    {
     "data": {
      "text/html": [
       "<div>\n",
       "<style scoped>\n",
       "    .dataframe tbody tr th:only-of-type {\n",
       "        vertical-align: middle;\n",
       "    }\n",
       "\n",
       "    .dataframe tbody tr th {\n",
       "        vertical-align: top;\n",
       "    }\n",
       "\n",
       "    .dataframe thead th {\n",
       "        text-align: right;\n",
       "    }\n",
       "</style>\n",
       "<table border=\"1\" class=\"dataframe\">\n",
       "  <thead>\n",
       "    <tr style=\"text-align: right;\">\n",
       "      <th></th>\n",
       "      <th>time</th>\n",
       "      <th>gender</th>\n",
       "      <th>matric_%</th>\n",
       "      <th>study_year</th>\n",
       "      <th>faculty</th>\n",
       "      <th>gpa_2023</th>\n",
       "      <th>accomodation</th>\n",
       "      <th>allowance</th>\n",
       "      <th>scholarship</th>\n",
       "      <th>study_hours</th>\n",
       "      <th>party_week</th>\n",
       "      <th>drinks_night</th>\n",
       "      <th>missed_classes</th>\n",
       "      <th>failed_classes</th>\n",
       "      <th>in_relationship</th>\n",
       "      <th>parent_approve</th>\n",
       "      <th>relation_parent</th>\n",
       "    </tr>\n",
       "  </thead>\n",
       "  <tbody>\n",
       "    <tr>\n",
       "      <th>0</th>\n",
       "      <td>2024/03/07 5:12:01 pm EET</td>\n",
       "      <td>Female</td>\n",
       "      <td>76.0</td>\n",
       "      <td>2nd Year</td>\n",
       "      <td>Arts &amp; Social Sciences</td>\n",
       "      <td>72.0</td>\n",
       "      <td>Private accommodation/ stay with family/friends</td>\n",
       "      <td>R 4001- R 5000</td>\n",
       "      <td>No</td>\n",
       "      <td>8+</td>\n",
       "      <td>Only weekends</td>\n",
       "      <td>8+</td>\n",
       "      <td>3</td>\n",
       "      <td>0</td>\n",
       "      <td>Yes</td>\n",
       "      <td>Yes</td>\n",
       "      <td>Very close</td>\n",
       "    </tr>\n",
       "    <tr>\n",
       "      <th>1</th>\n",
       "      <td>2024/03/07 5:12:08 pm EET</td>\n",
       "      <td>Male</td>\n",
       "      <td>89.0</td>\n",
       "      <td>2nd Year</td>\n",
       "      <td>Economic &amp; Management Sciences</td>\n",
       "      <td>75.0</td>\n",
       "      <td>Private accommodation/ stay with family/friends</td>\n",
       "      <td>R 7001 - R 8000</td>\n",
       "      <td>Yes (NSFAS, etc...)</td>\n",
       "      <td>8+</td>\n",
       "      <td>Only weekends</td>\n",
       "      <td>3-5</td>\n",
       "      <td>4+</td>\n",
       "      <td>0</td>\n",
       "      <td>No</td>\n",
       "      <td>Yes</td>\n",
       "      <td>Very close</td>\n",
       "    </tr>\n",
       "    <tr>\n",
       "      <th>2</th>\n",
       "      <td>2024/03/07 5:12:25 pm EET</td>\n",
       "      <td>Male</td>\n",
       "      <td>76.0</td>\n",
       "      <td>1st Year</td>\n",
       "      <td>AgriSciences</td>\n",
       "      <td>55.0</td>\n",
       "      <td>Private accommodation/ stay with family/friends</td>\n",
       "      <td>R 4001- R 5000</td>\n",
       "      <td>No</td>\n",
       "      <td>3-5</td>\n",
       "      <td>2</td>\n",
       "      <td>8+</td>\n",
       "      <td>3</td>\n",
       "      <td>0</td>\n",
       "      <td>No</td>\n",
       "      <td>Yes</td>\n",
       "      <td>Very close</td>\n",
       "    </tr>\n",
       "    <tr>\n",
       "      <th>3</th>\n",
       "      <td>2024/03/07 5:12:28 pm EET</td>\n",
       "      <td>Male</td>\n",
       "      <td>89.0</td>\n",
       "      <td>2nd Year</td>\n",
       "      <td>Engineering</td>\n",
       "      <td>84.0</td>\n",
       "      <td>Private accommodation/ stay with family/friends</td>\n",
       "      <td>R 6001 - R 7000</td>\n",
       "      <td>No</td>\n",
       "      <td>3-5</td>\n",
       "      <td>3</td>\n",
       "      <td>8+</td>\n",
       "      <td>2</td>\n",
       "      <td>0</td>\n",
       "      <td>Yes</td>\n",
       "      <td>Yes</td>\n",
       "      <td>Very close</td>\n",
       "    </tr>\n",
       "    <tr>\n",
       "      <th>4</th>\n",
       "      <td>2024/03/07 5:13:00 pm EET</td>\n",
       "      <td>Female</td>\n",
       "      <td>74.0</td>\n",
       "      <td>2nd Year</td>\n",
       "      <td>Arts &amp; Social Sciences</td>\n",
       "      <td>52.0</td>\n",
       "      <td>Private accommodation/ stay with family/friends</td>\n",
       "      <td>R 4001- R 5000</td>\n",
       "      <td>No</td>\n",
       "      <td>3-5</td>\n",
       "      <td>Only weekends</td>\n",
       "      <td>5-8</td>\n",
       "      <td>1</td>\n",
       "      <td>3</td>\n",
       "      <td>No</td>\n",
       "      <td>Yes</td>\n",
       "      <td>Fair</td>\n",
       "    </tr>\n",
       "  </tbody>\n",
       "</table>\n",
       "</div>"
      ],
      "text/plain": [
       "                        time  gender  matric_% study_year  \\\n",
       "0  2024/03/07 5:12:01 pm EET  Female      76.0   2nd Year   \n",
       "1  2024/03/07 5:12:08 pm EET    Male      89.0   2nd Year   \n",
       "2  2024/03/07 5:12:25 pm EET    Male      76.0   1st Year   \n",
       "3  2024/03/07 5:12:28 pm EET    Male      89.0   2nd Year   \n",
       "4  2024/03/07 5:13:00 pm EET  Female      74.0   2nd Year   \n",
       "\n",
       "                          faculty  gpa_2023  \\\n",
       "0          Arts & Social Sciences      72.0   \n",
       "1  Economic & Management Sciences      75.0   \n",
       "2                    AgriSciences      55.0   \n",
       "3                     Engineering      84.0   \n",
       "4          Arts & Social Sciences      52.0   \n",
       "\n",
       "                                      accomodation        allowance  \\\n",
       "0  Private accommodation/ stay with family/friends   R 4001- R 5000   \n",
       "1  Private accommodation/ stay with family/friends  R 7001 - R 8000   \n",
       "2  Private accommodation/ stay with family/friends   R 4001- R 5000   \n",
       "3  Private accommodation/ stay with family/friends  R 6001 - R 7000   \n",
       "4  Private accommodation/ stay with family/friends   R 4001- R 5000   \n",
       "\n",
       "           scholarship study_hours     party_week drinks_night missed_classes  \\\n",
       "0                   No          8+  Only weekends           8+              3   \n",
       "1  Yes (NSFAS, etc...)          8+  Only weekends          3-5             4+   \n",
       "2                   No         3-5              2           8+              3   \n",
       "3                   No         3-5              3           8+              2   \n",
       "4                   No         3-5  Only weekends          5-8              1   \n",
       "\n",
       "  failed_classes in_relationship parent_approve relation_parent  \n",
       "0              0             Yes            Yes      Very close  \n",
       "1              0              No            Yes      Very close  \n",
       "2              0              No            Yes      Very close  \n",
       "3              0             Yes            Yes      Very close  \n",
       "4              3              No            Yes            Fair  "
      ]
     },
     "execution_count": 47,
     "metadata": {},
     "output_type": "execute_result"
    }
   ],
   "source": [
    "student_data.head()"
   ]
  },
  {
   "cell_type": "code",
   "execution_count": 48,
   "id": "e6fd4f44-beda-4a64-9672-7ac9cbd4f92e",
   "metadata": {},
   "outputs": [
    {
     "name": "stdout",
     "output_type": "stream",
     "text": [
      "<class 'pandas.core.frame.DataFrame'>\n",
      "RangeIndex: 406 entries, 0 to 405\n",
      "Data columns (total 17 columns):\n",
      " #   Column           Non-Null Count  Dtype  \n",
      "---  ------           --------------  -----  \n",
      " 0   time             406 non-null    object \n",
      " 1   gender           404 non-null    object \n",
      " 2   matric_%         399 non-null    float64\n",
      " 3   study_year       333 non-null    object \n",
      " 4   faculty          399 non-null    object \n",
      " 5   gpa_2023         320 non-null    float64\n",
      " 6   accomodation     383 non-null    object \n",
      " 7   allowance        375 non-null    object \n",
      " 8   scholarship      398 non-null    object \n",
      " 9   study_hours      403 non-null    object \n",
      " 10  party_week       404 non-null    object \n",
      " 11  drinks_night     404 non-null    object \n",
      " 12  missed_classes   403 non-null    object \n",
      " 13  failed_classes   403 non-null    object \n",
      " 14  in_relationship  403 non-null    object \n",
      " 15  parent_approve   402 non-null    object \n",
      " 16  relation_parent  403 non-null    object \n",
      "dtypes: float64(2), object(15)\n",
      "memory usage: 54.0+ KB\n"
     ]
    }
   ],
   "source": [
    "student_data.info()"
   ]
  },
  {
   "cell_type": "markdown",
   "id": "2327e07c-7625-4d98-a864-4594b24c5b1e",
   "metadata": {},
   "source": [
    "### Manipulation and/or Cleaning Data\n",
    "\n",
    "* remove unnecessary columns\n",
    "* Null Value Handling\n",
    "* Outliers Handling\n",
    "* Feature Engineering\n",
    "* Encoding / NOrmalization / Post Processing"
   ]
  },
  {
   "cell_type": "code",
   "execution_count": 49,
   "id": "fe778c64-3f09-48e4-baa0-91ef02905204",
   "metadata": {},
   "outputs": [],
   "source": [
    "# Deleting columns\n",
    "student_data.drop('time', axis= 1, inplace = True)"
   ]
  },
  {
   "cell_type": "code",
   "execution_count": 50,
   "id": "4e7578a0-900f-4815-aea7-f2dd146974fb",
   "metadata": {},
   "outputs": [
    {
     "data": {
      "text/html": [
       "<div>\n",
       "<style scoped>\n",
       "    .dataframe tbody tr th:only-of-type {\n",
       "        vertical-align: middle;\n",
       "    }\n",
       "\n",
       "    .dataframe tbody tr th {\n",
       "        vertical-align: top;\n",
       "    }\n",
       "\n",
       "    .dataframe thead th {\n",
       "        text-align: right;\n",
       "    }\n",
       "</style>\n",
       "<table border=\"1\" class=\"dataframe\">\n",
       "  <thead>\n",
       "    <tr style=\"text-align: right;\">\n",
       "      <th></th>\n",
       "      <th>gender</th>\n",
       "      <th>matric_%</th>\n",
       "      <th>study_year</th>\n",
       "      <th>faculty</th>\n",
       "      <th>gpa_2023</th>\n",
       "      <th>accomodation</th>\n",
       "      <th>allowance</th>\n",
       "      <th>scholarship</th>\n",
       "      <th>study_hours</th>\n",
       "      <th>party_week</th>\n",
       "      <th>drinks_night</th>\n",
       "      <th>missed_classes</th>\n",
       "      <th>failed_classes</th>\n",
       "      <th>in_relationship</th>\n",
       "      <th>parent_approve</th>\n",
       "      <th>relation_parent</th>\n",
       "    </tr>\n",
       "  </thead>\n",
       "  <tbody>\n",
       "    <tr>\n",
       "      <th>0</th>\n",
       "      <td>Female</td>\n",
       "      <td>76.0</td>\n",
       "      <td>2nd Year</td>\n",
       "      <td>Arts &amp; Social Sciences</td>\n",
       "      <td>72.0</td>\n",
       "      <td>Private accommodation/ stay with family/friends</td>\n",
       "      <td>R 4001- R 5000</td>\n",
       "      <td>No</td>\n",
       "      <td>8+</td>\n",
       "      <td>Only weekends</td>\n",
       "      <td>8+</td>\n",
       "      <td>3</td>\n",
       "      <td>0</td>\n",
       "      <td>Yes</td>\n",
       "      <td>Yes</td>\n",
       "      <td>Very close</td>\n",
       "    </tr>\n",
       "    <tr>\n",
       "      <th>1</th>\n",
       "      <td>Male</td>\n",
       "      <td>89.0</td>\n",
       "      <td>2nd Year</td>\n",
       "      <td>Economic &amp; Management Sciences</td>\n",
       "      <td>75.0</td>\n",
       "      <td>Private accommodation/ stay with family/friends</td>\n",
       "      <td>R 7001 - R 8000</td>\n",
       "      <td>Yes (NSFAS, etc...)</td>\n",
       "      <td>8+</td>\n",
       "      <td>Only weekends</td>\n",
       "      <td>3-5</td>\n",
       "      <td>4+</td>\n",
       "      <td>0</td>\n",
       "      <td>No</td>\n",
       "      <td>Yes</td>\n",
       "      <td>Very close</td>\n",
       "    </tr>\n",
       "    <tr>\n",
       "      <th>2</th>\n",
       "      <td>Male</td>\n",
       "      <td>76.0</td>\n",
       "      <td>1st Year</td>\n",
       "      <td>AgriSciences</td>\n",
       "      <td>55.0</td>\n",
       "      <td>Private accommodation/ stay with family/friends</td>\n",
       "      <td>R 4001- R 5000</td>\n",
       "      <td>No</td>\n",
       "      <td>3-5</td>\n",
       "      <td>2</td>\n",
       "      <td>8+</td>\n",
       "      <td>3</td>\n",
       "      <td>0</td>\n",
       "      <td>No</td>\n",
       "      <td>Yes</td>\n",
       "      <td>Very close</td>\n",
       "    </tr>\n",
       "    <tr>\n",
       "      <th>3</th>\n",
       "      <td>Male</td>\n",
       "      <td>89.0</td>\n",
       "      <td>2nd Year</td>\n",
       "      <td>Engineering</td>\n",
       "      <td>84.0</td>\n",
       "      <td>Private accommodation/ stay with family/friends</td>\n",
       "      <td>R 6001 - R 7000</td>\n",
       "      <td>No</td>\n",
       "      <td>3-5</td>\n",
       "      <td>3</td>\n",
       "      <td>8+</td>\n",
       "      <td>2</td>\n",
       "      <td>0</td>\n",
       "      <td>Yes</td>\n",
       "      <td>Yes</td>\n",
       "      <td>Very close</td>\n",
       "    </tr>\n",
       "    <tr>\n",
       "      <th>4</th>\n",
       "      <td>Female</td>\n",
       "      <td>74.0</td>\n",
       "      <td>2nd Year</td>\n",
       "      <td>Arts &amp; Social Sciences</td>\n",
       "      <td>52.0</td>\n",
       "      <td>Private accommodation/ stay with family/friends</td>\n",
       "      <td>R 4001- R 5000</td>\n",
       "      <td>No</td>\n",
       "      <td>3-5</td>\n",
       "      <td>Only weekends</td>\n",
       "      <td>5-8</td>\n",
       "      <td>1</td>\n",
       "      <td>3</td>\n",
       "      <td>No</td>\n",
       "      <td>Yes</td>\n",
       "      <td>Fair</td>\n",
       "    </tr>\n",
       "  </tbody>\n",
       "</table>\n",
       "</div>"
      ],
      "text/plain": [
       "   gender  matric_% study_year                         faculty  gpa_2023  \\\n",
       "0  Female      76.0   2nd Year          Arts & Social Sciences      72.0   \n",
       "1    Male      89.0   2nd Year  Economic & Management Sciences      75.0   \n",
       "2    Male      76.0   1st Year                    AgriSciences      55.0   \n",
       "3    Male      89.0   2nd Year                     Engineering      84.0   \n",
       "4  Female      74.0   2nd Year          Arts & Social Sciences      52.0   \n",
       "\n",
       "                                      accomodation        allowance  \\\n",
       "0  Private accommodation/ stay with family/friends   R 4001- R 5000   \n",
       "1  Private accommodation/ stay with family/friends  R 7001 - R 8000   \n",
       "2  Private accommodation/ stay with family/friends   R 4001- R 5000   \n",
       "3  Private accommodation/ stay with family/friends  R 6001 - R 7000   \n",
       "4  Private accommodation/ stay with family/friends   R 4001- R 5000   \n",
       "\n",
       "           scholarship study_hours     party_week drinks_night missed_classes  \\\n",
       "0                   No          8+  Only weekends           8+              3   \n",
       "1  Yes (NSFAS, etc...)          8+  Only weekends          3-5             4+   \n",
       "2                   No         3-5              2           8+              3   \n",
       "3                   No         3-5              3           8+              2   \n",
       "4                   No         3-5  Only weekends          5-8              1   \n",
       "\n",
       "  failed_classes in_relationship parent_approve relation_parent  \n",
       "0              0             Yes            Yes      Very close  \n",
       "1              0              No            Yes      Very close  \n",
       "2              0              No            Yes      Very close  \n",
       "3              0             Yes            Yes      Very close  \n",
       "4              3              No            Yes            Fair  "
      ]
     },
     "execution_count": 50,
     "metadata": {},
     "output_type": "execute_result"
    }
   ],
   "source": [
    "student_data.head()"
   ]
  },
  {
   "cell_type": "code",
   "execution_count": 51,
   "id": "f74ebf43-d549-48b4-bf15-94889859d434",
   "metadata": {},
   "outputs": [
    {
     "data": {
      "text/plain": [
       "gender              2\n",
       "matric_%            7\n",
       "study_year         73\n",
       "faculty             7\n",
       "gpa_2023           86\n",
       "accomodation       23\n",
       "allowance          31\n",
       "scholarship         8\n",
       "study_hours         3\n",
       "party_week          2\n",
       "drinks_night        2\n",
       "missed_classes      3\n",
       "failed_classes      3\n",
       "in_relationship     3\n",
       "parent_approve      4\n",
       "relation_parent     3\n",
       "dtype: int64"
      ]
     },
     "execution_count": 51,
     "metadata": {},
     "output_type": "execute_result"
    }
   ],
   "source": [
    "# Handling Null Values\n",
    "\n",
    "student_data.isna().sum()"
   ]
  },
  {
   "cell_type": "code",
   "execution_count": 52,
   "id": "a124367a-7e5c-4416-9874-350ae9aa1f99",
   "metadata": {},
   "outputs": [],
   "source": [
    "# Cleaning up Traget value null entries\n",
    "student_data_1 = student_data.dropna(subset=\"gpa_2023\")"
   ]
  },
  {
   "cell_type": "code",
   "execution_count": 53,
   "id": "bb51317e-28f2-4d24-b256-74706c02ab65",
   "metadata": {},
   "outputs": [],
   "source": [
    "# student_data_1 = student_data_1.dropna(thresh=5)\n",
    "\n",
    "student_data_1 = student_data_1[~(student_data_1.isna().sum(axis = 1) >=5)]"
   ]
  },
  {
   "cell_type": "code",
   "execution_count": 54,
   "id": "06e7d638-483f-4946-bb3c-8e49f4abd636",
   "metadata": {},
   "outputs": [
    {
     "data": {
      "text/plain": [
       "gender              0\n",
       "matric_%            2\n",
       "study_year          1\n",
       "faculty             3\n",
       "gpa_2023            0\n",
       "accomodation        2\n",
       "allowance          14\n",
       "scholarship         0\n",
       "study_hours         0\n",
       "party_week          0\n",
       "drinks_night        0\n",
       "missed_classes      1\n",
       "failed_classes      0\n",
       "in_relationship     1\n",
       "parent_approve      1\n",
       "relation_parent     1\n",
       "dtype: int64"
      ]
     },
     "execution_count": 54,
     "metadata": {},
     "output_type": "execute_result"
    }
   ],
   "source": [
    "student_data_1.isna().sum()"
   ]
  },
  {
   "cell_type": "code",
   "execution_count": 75,
   "id": "05092e0e-1312-4f69-904f-24a0e84aef15",
   "metadata": {},
   "outputs": [],
   "source": [
    "## Full null values (sum < 5) , check type and impute with mean if numerical , mode if object\n",
    "def imputer(dataframe):\n",
    "    for col in dataframe.columns:\n",
    "        if dataframe[col].isna().sum() < 5:\n",
    "            if dataframe[col].dtype in ['int64','float64']:\n",
    "                dataframe[col].fillna(dataframe[col].mean(), inplace = True)\n",
    "            else:\n",
    "                dataframe[col].fillna(dataframe[col].mode()[0], inplace = True)\n",
    "    # return dataframe"
   ]
  },
  {
   "cell_type": "code",
   "execution_count": 76,
   "id": "329d602e-2ae6-40ef-8381-a51b8bc6ece5",
   "metadata": {},
   "outputs": [
    {
     "name": "stderr",
     "output_type": "stream",
     "text": [
      "/tmp/ipykernel_544538/2026914447.py:6: FutureWarning: A value is trying to be set on a copy of a DataFrame or Series through chained assignment using an inplace method.\n",
      "The behavior will change in pandas 3.0. This inplace method will never work because the intermediate object on which we are setting values always behaves as a copy.\n",
      "\n",
      "For example, when doing 'df[col].method(value, inplace=True)', try using 'df.method({col: value}, inplace=True)' or df[col] = df[col].method(value) instead, to perform the operation inplace on the original object.\n",
      "\n",
      "\n",
      "  dataframe[col].fillna(dataframe[col].mean(), inplace = True)\n",
      "/tmp/ipykernel_544538/2026914447.py:8: FutureWarning: A value is trying to be set on a copy of a DataFrame or Series through chained assignment using an inplace method.\n",
      "The behavior will change in pandas 3.0. This inplace method will never work because the intermediate object on which we are setting values always behaves as a copy.\n",
      "\n",
      "For example, when doing 'df[col].method(value, inplace=True)', try using 'df.method({col: value}, inplace=True)' or df[col] = df[col].method(value) instead, to perform the operation inplace on the original object.\n",
      "\n",
      "\n",
      "  dataframe[col].fillna(dataframe[col].mode()[0], inplace = True)\n"
     ]
    }
   ],
   "source": [
    "imputer(student_data_1)"
   ]
  },
  {
   "cell_type": "code",
   "execution_count": 77,
   "id": "21d261df-18fb-4c97-a9ab-d2ee362b3402",
   "metadata": {},
   "outputs": [
    {
     "data": {
      "text/plain": [
       "gender              0\n",
       "matric_%            0\n",
       "study_year          0\n",
       "faculty             0\n",
       "gpa_2023            0\n",
       "accomodation        0\n",
       "allowance          14\n",
       "scholarship         0\n",
       "study_hours         0\n",
       "party_week          0\n",
       "drinks_night        0\n",
       "missed_classes      0\n",
       "failed_classes      0\n",
       "in_relationship     0\n",
       "parent_approve      0\n",
       "relation_parent     0\n",
       "dtype: int64"
      ]
     },
     "execution_count": 77,
     "metadata": {},
     "output_type": "execute_result"
    }
   ],
   "source": [
    "student_data_1.isna().sum()"
   ]
  },
  {
   "cell_type": "code",
   "execution_count": 78,
   "id": "fbbf5981-6689-4591-9d23-0375cc2b5ad9",
   "metadata": {},
   "outputs": [
    {
     "data": {
      "text/plain": [
       "allowance\n",
       "R 4001- R 5000     125\n",
       "R 5001 - R 6000     88\n",
       "R 6001 - R 7000     44\n",
       "R 7001 - R 8000     25\n",
       "R 8000+             24\n",
       "Name: count, dtype: int64"
      ]
     },
     "execution_count": 78,
     "metadata": {},
     "output_type": "execute_result"
    }
   ],
   "source": [
    "student_data_1.allowance.value_counts()"
   ]
  },
  {
   "cell_type": "code",
   "execution_count": 83,
   "id": "1fd6c778-03ae-46c7-a84b-c486206f9f61",
   "metadata": {},
   "outputs": [],
   "source": [
    "student_data_1.allowance.fillna('Unknown', inplace = True)"
   ]
  },
  {
   "cell_type": "code",
   "execution_count": 84,
   "id": "0e186544-c3fe-4493-bf9c-953e9ea3f2f2",
   "metadata": {},
   "outputs": [
    {
     "data": {
      "text/plain": [
       "allowance\n",
       "R 4001- R 5000     125\n",
       "R 5001 - R 6000     88\n",
       "R 6001 - R 7000     44\n",
       "R 7001 - R 8000     25\n",
       "R 8000+             24\n",
       "Unknown             14\n",
       "Name: count, dtype: int64"
      ]
     },
     "execution_count": 84,
     "metadata": {},
     "output_type": "execute_result"
    }
   ],
   "source": [
    "student_data_1.allowance.value_counts()"
   ]
  },
  {
   "cell_type": "code",
   "execution_count": 86,
   "id": "7ec29283-e63f-4b39-9038-ec5cb8129dc3",
   "metadata": {},
   "outputs": [
    {
     "data": {
      "text/html": [
       "<div>\n",
       "<style scoped>\n",
       "    .dataframe tbody tr th:only-of-type {\n",
       "        vertical-align: middle;\n",
       "    }\n",
       "\n",
       "    .dataframe tbody tr th {\n",
       "        vertical-align: top;\n",
       "    }\n",
       "\n",
       "    .dataframe thead th {\n",
       "        text-align: right;\n",
       "    }\n",
       "</style>\n",
       "<table border=\"1\" class=\"dataframe\">\n",
       "  <thead>\n",
       "    <tr style=\"text-align: right;\">\n",
       "      <th></th>\n",
       "      <th>matric_%</th>\n",
       "      <th>gpa_2023</th>\n",
       "    </tr>\n",
       "  </thead>\n",
       "  <tbody>\n",
       "    <tr>\n",
       "      <th>count</th>\n",
       "      <td>320.000000</td>\n",
       "      <td>320.000000</td>\n",
       "    </tr>\n",
       "    <tr>\n",
       "      <th>mean</th>\n",
       "      <td>78.165692</td>\n",
       "      <td>66.268469</td>\n",
       "    </tr>\n",
       "    <tr>\n",
       "      <th>std</th>\n",
       "      <td>6.600239</td>\n",
       "      <td>9.147906</td>\n",
       "    </tr>\n",
       "    <tr>\n",
       "      <th>min</th>\n",
       "      <td>55.000000</td>\n",
       "      <td>30.000000</td>\n",
       "    </tr>\n",
       "    <tr>\n",
       "      <th>25%</th>\n",
       "      <td>74.000000</td>\n",
       "      <td>60.000000</td>\n",
       "    </tr>\n",
       "    <tr>\n",
       "      <th>50%</th>\n",
       "      <td>78.000000</td>\n",
       "      <td>65.000000</td>\n",
       "    </tr>\n",
       "    <tr>\n",
       "      <th>75%</th>\n",
       "      <td>83.000000</td>\n",
       "      <td>73.000000</td>\n",
       "    </tr>\n",
       "    <tr>\n",
       "      <th>max</th>\n",
       "      <td>99.000000</td>\n",
       "      <td>95.220000</td>\n",
       "    </tr>\n",
       "  </tbody>\n",
       "</table>\n",
       "</div>"
      ],
      "text/plain": [
       "         matric_%    gpa_2023\n",
       "count  320.000000  320.000000\n",
       "mean    78.165692   66.268469\n",
       "std      6.600239    9.147906\n",
       "min     55.000000   30.000000\n",
       "25%     74.000000   60.000000\n",
       "50%     78.000000   65.000000\n",
       "75%     83.000000   73.000000\n",
       "max     99.000000   95.220000"
      ]
     },
     "execution_count": 86,
     "metadata": {},
     "output_type": "execute_result"
    }
   ],
   "source": [
    "# Outlier Handling\n",
    "student_data_1[['matric_%','gpa_2023']].describe()"
   ]
  },
  {
   "cell_type": "code",
   "execution_count": 87,
   "id": "7e62bdce-7016-40b0-a310-b8b206c66c34",
   "metadata": {},
   "outputs": [
    {
     "data": {
      "text/plain": [
       "<Axes: >"
      ]
     },
     "execution_count": 87,
     "metadata": {},
     "output_type": "execute_result"
    },
    {
     "data": {
      "image/png": "[encoded data removed]",
      "text/plain": [
       "<Figure size 640x480 with 1 Axes>"
      ]
     },
     "metadata": {},
     "output_type": "display_data"
    }
   ],
   "source": [
    "student_data_1[['matric_%','gpa_2023']].plot.box()"
   ]
  },
  {
   "cell_type": "code",
   "execution_count": null,
   "id": "9ce412d9-d005-436d-9168-01873ea7aa25",
   "metadata": {},
   "outputs": [],
   "source": []
  },
  {
   "cell_type": "code",
   "execution_count": 92,
   "id": "fa09a451-07ec-47fd-8ec6-4896620826f1",
   "metadata": {},
   "outputs": [],
   "source": [
    "def handle_outlier(series: pd.Series):\n",
    "    \"\"\" DocString \"\"\"\n",
    "    IQR = series.quantile(0.75) - series.quantile(0.25)\n",
    "    max_value = series.quantile(0.75) + 1.5 * IQR\n",
    "    min_value = series.quantile(0.25) - 1.5 * IQR\n",
    "\n",
    "    to_drop = series[(series > max_value) | (series < min_value)]\n",
    "    print(to_drop)\n",
    "    return series.drop(to_drop.index, axis=0)"
   ]
  },
  {
   "cell_type": "code",
   "execution_count": 93,
   "id": "2d70eaea-6ff4-4b10-abf7-d0751a99ab7f",
   "metadata": {},
   "outputs": [
    {
     "name": "stdout",
     "output_type": "stream",
     "text": [
      "73     95.22\n",
      "303    30.00\n",
      "Name: gpa_2023, dtype: float64\n"
     ]
    }
   ],
   "source": [
    "student_data_1.gpa_2023 = handle_outlier(student_data_1.gpa_2023)"
   ]
  },
  {
   "cell_type": "code",
   "execution_count": 95,
   "id": "39fe12b0-f63d-4f35-a4cb-a371eb6d7b5a",
   "metadata": {},
   "outputs": [
    {
     "name": "stdout",
     "output_type": "stream",
     "text": [
      "38     99.00\n",
      "54     98.00\n",
      "73     98.33\n",
      "268    60.00\n",
      "335    55.00\n",
      "358    60.00\n",
      "Name: matric_%, dtype: float64\n"
     ]
    }
   ],
   "source": [
    "student_data_1['matric_%'] = handle_outlier(student_data_1['matric_%'])"
   ]
  },
  {
   "cell_type": "code",
   "execution_count": 96,
   "id": "8a96a80e-2ecc-4604-9600-35f75ebdf679",
   "metadata": {},
   "outputs": [
    {
     "data": {
      "text/plain": [
       "<Axes: >"
      ]
     },
     "execution_count": 96,
     "metadata": {},
     "output_type": "execute_result"
    },
    {
     "data": {
      "image/png": "[encoded data removed]",
      "text/plain": [
       "<Figure size 640x480 with 1 Axes>"
      ]
     },
     "metadata": {},
     "output_type": "display_data"
    }
   ],
   "source": [
    "student_data_1[['matric_%','gpa_2023']].plot.box()"
   ]
  },
  {
   "cell_type": "code",
   "execution_count": 100,
   "id": "5aa6d4cd-8fbb-4df5-9044-d56034acf9b8",
   "metadata": {},
   "outputs": [
    {
     "data": {
      "text/plain": [
       "study_hours\n",
       "8+     97\n",
       "3-5    76\n",
       "1-3    65\n",
       "5-8    65\n",
       "0      17\n",
       "Name: count, dtype: int64"
      ]
     },
     "execution_count": 100,
     "metadata": {},
     "output_type": "execute_result"
    }
   ],
   "source": [
    "student_data_1.study_hours.value_counts()"
   ]
  },
  {
   "cell_type": "code",
   "execution_count": 98,
   "id": "1e990246-ebf4-4911-87bf-b50e40dcb990",
   "metadata": {},
   "outputs": [],
   "source": [
    "student_data_1.to_csv(\"student_survey_clean.csv\", index = False)"
   ]
  },
  {
   "cell_type": "code",
   "execution_count": 10,
   "id": "0d0ac65b-d1bf-45a9-a493-380f5b0d6bfd",
   "metadata": {},
   "outputs": [
    {
     "name": "stdout",
     "output_type": "stream",
     "text": [
      "<class 'pandas.core.frame.DataFrame'>\n",
      "RangeIndex: 406 entries, 0 to 405\n",
      "Data columns (total 17 columns):\n",
      " #   Column           Non-Null Count  Dtype  \n",
      "---  ------           --------------  -----  \n",
      " 0   time             406 non-null    object \n",
      " 1   gender           404 non-null    object \n",
      " 2   matric_%         399 non-null    float64\n",
      " 3   study_year       333 non-null    object \n",
      " 4   faculty          399 non-null    object \n",
      " 5   gpa_2023         320 non-null    float64\n",
      " 6   accomodation     383 non-null    object \n",
      " 7   allowance        375 non-null    object \n",
      " 8   scholarship      398 non-null    object \n",
      " 9   study_hours      403 non-null    object \n",
      " 10  party_week       404 non-null    object \n",
      " 11  drinks_night     404 non-null    object \n",
      " 12  missed_classes   403 non-null    object \n",
      " 13  failed_classes   403 non-null    object \n",
      " 14  in_relationship  403 non-null    object \n",
      " 15  parent_approve   402 non-null    object \n",
      " 16  relation_parent  403 non-null    object \n",
      "dtypes: float64(2), object(15)\n",
      "memory usage: 54.0+ KB\n"
     ]
    }
   ],
   "source": [
    "student_data.info()"
   ]
  },
  {
   "cell_type": "code",
   "execution_count": 14,
   "id": "5882e0d0-56fc-4eb4-87d9-4c92ef5a01e0",
   "metadata": {},
   "outputs": [
    {
     "data": {
      "text/plain": [
       "time                0\n",
       "gender              2\n",
       "matric_%            7\n",
       "study_year         73\n",
       "faculty             7\n",
       "gpa_2023           86\n",
       "accomodation       23\n",
       "allowance          31\n",
       "scholarship         8\n",
       "study_hours         3\n",
       "party_week          2\n",
       "drinks_night        2\n",
       "missed_classes      3\n",
       "failed_classes      3\n",
       "in_relationship     3\n",
       "parent_approve      4\n",
       "relation_parent     3\n",
       "dtype: int64"
      ]
     },
     "execution_count": 14,
     "metadata": {},
     "output_type": "execute_result"
    }
   ],
   "source": [
    "student_data.isna().sum()"
   ]
  },
  {
   "cell_type": "markdown",
   "id": "c44b99b0-5451-4c5a-9aed-a56d8ae4368a",
   "metadata": {},
   "source": [
    "-- description --"
   ]
  },
  {
   "cell_type": "code",
   "execution_count": 17,
   "id": "a677d336-b814-47b6-aa9c-e0abefc98ab6",
   "metadata": {},
   "outputs": [
    {
     "data": {
      "text/plain": [
       "gender\n",
       "Male      0.534653\n",
       "Female    0.465347\n",
       "Name: proportion, dtype: float64"
      ]
     },
     "execution_count": 17,
     "metadata": {},
     "output_type": "execute_result"
    }
   ],
   "source": [
    "student_data.gender.value_counts(normalize = True)"
   ]
  },
  {
   "cell_type": "markdown",
   "id": "98e3d1b4-1ec2-4253-850e-0a12737fad04",
   "metadata": {},
   "source": [
    "In this survey, there are 53% of Male and 47% of Female students."
   ]
  },
  {
   "cell_type": "code",
   "execution_count": 27,
   "id": "b7770eeb-e561-487d-9e35-1ded4d285cf4",
   "metadata": {},
   "outputs": [
    {
     "data": {
      "text/html": [
       "<div>\n",
       "<style scoped>\n",
       "    .dataframe tbody tr th:only-of-type {\n",
       "        vertical-align: middle;\n",
       "    }\n",
       "\n",
       "    .dataframe tbody tr th {\n",
       "        vertical-align: top;\n",
       "    }\n",
       "\n",
       "    .dataframe thead th {\n",
       "        text-align: right;\n",
       "    }\n",
       "</style>\n",
       "<table border=\"1\" class=\"dataframe\">\n",
       "  <thead>\n",
       "    <tr style=\"text-align: right;\">\n",
       "      <th>relation_parent</th>\n",
       "      <th>Distant</th>\n",
       "      <th>Fair</th>\n",
       "      <th>Close</th>\n",
       "      <th>Very close</th>\n",
       "    </tr>\n",
       "    <tr>\n",
       "      <th>parent_approve</th>\n",
       "      <th></th>\n",
       "      <th></th>\n",
       "      <th></th>\n",
       "      <th></th>\n",
       "    </tr>\n",
       "  </thead>\n",
       "  <tbody>\n",
       "    <tr>\n",
       "      <th>No</th>\n",
       "      <td>1</td>\n",
       "      <td>9</td>\n",
       "      <td>18</td>\n",
       "      <td>20</td>\n",
       "    </tr>\n",
       "    <tr>\n",
       "      <th>Yes</th>\n",
       "      <td>1</td>\n",
       "      <td>25</td>\n",
       "      <td>79</td>\n",
       "      <td>248</td>\n",
       "    </tr>\n",
       "  </tbody>\n",
       "</table>\n",
       "</div>"
      ],
      "text/plain": [
       "relation_parent  Distant  Fair  Close  Very close\n",
       "parent_approve                                   \n",
       "No                     1     9     18          20\n",
       "Yes                    1    25     79         248"
      ]
     },
     "execution_count": 27,
     "metadata": {},
     "output_type": "execute_result"
    }
   ],
   "source": [
    "# parent_approve , replation_parent\n",
    "\n",
    "table = pd.crosstab(student_data.parent_approve, student_data.relation_parent)\n",
    "table = table[[\"Distant\",\"Fair\",\"Close\",\"Very close\"]]\n",
    "table"
   ]
  },
  {
   "cell_type": "code",
   "execution_count": 28,
   "id": "2bd2c9fe-e27c-456d-a303-5b570b1256c9",
   "metadata": {},
   "outputs": [
    {
     "data": {
      "text/plain": [
       "<Axes: xlabel='relation_parent'>"
      ]
     },
     "execution_count": 28,
     "metadata": {},
     "output_type": "execute_result"
    },
    {
     "data": {
      "image/png": "[encoded data removed]",
      "text/plain": [
       "<Figure size 640x480 with 1 Axes>"
      ]
     },
     "metadata": {},
     "output_type": "display_data"
    }
   ],
   "source": [
    "table.T.plot.line()"
   ]
  },
  {
   "cell_type": "markdown",
   "id": "e7bb5c77-3c7a-4d0d-80fa-30341a4c86f8",
   "metadata": {},
   "source": [
    "-- description --"
   ]
  },
  {
   "cell_type": "markdown",
   "id": "4dd8762e-e25e-45e5-af40-bf90755b74eb",
   "metadata": {},
   "source": [
    "### Relationship with parent closeness and score gained"
   ]
  },
  {
   "cell_type": "code",
   "execution_count": 37,
   "id": "d6883394-00a0-4a63-87ec-9c3f17d56b88",
   "metadata": {},
   "outputs": [],
   "source": [
    "group_parent = student_data.groupby(by= \"relation_parent\")\n",
    "info = group_parent[\"matric_%\"].aggregate(('min','max','mean'))"
   ]
  },
  {
   "cell_type": "code",
   "execution_count": 38,
   "id": "792cfd0c-f0a2-4a51-b7bb-b94f541bc9e6",
   "metadata": {},
   "outputs": [
    {
     "data": {
      "text/html": [
       "<div>\n",
       "<style scoped>\n",
       "    .dataframe tbody tr th:only-of-type {\n",
       "        vertical-align: middle;\n",
       "    }\n",
       "\n",
       "    .dataframe tbody tr th {\n",
       "        vertical-align: top;\n",
       "    }\n",
       "\n",
       "    .dataframe thead th {\n",
       "        text-align: right;\n",
       "    }\n",
       "</style>\n",
       "<table border=\"1\" class=\"dataframe\">\n",
       "  <thead>\n",
       "    <tr style=\"text-align: right;\">\n",
       "      <th></th>\n",
       "      <th>min</th>\n",
       "      <th>max</th>\n",
       "      <th>mean</th>\n",
       "    </tr>\n",
       "    <tr>\n",
       "      <th>relation_parent</th>\n",
       "      <th></th>\n",
       "      <th></th>\n",
       "      <th></th>\n",
       "    </tr>\n",
       "  </thead>\n",
       "  <tbody>\n",
       "    <tr>\n",
       "      <th>Close</th>\n",
       "      <td>60.0</td>\n",
       "      <td>98.33</td>\n",
       "      <td>77.690000</td>\n",
       "    </tr>\n",
       "    <tr>\n",
       "      <th>Distant</th>\n",
       "      <td>85.0</td>\n",
       "      <td>98.00</td>\n",
       "      <td>91.500000</td>\n",
       "    </tr>\n",
       "    <tr>\n",
       "      <th>Fair</th>\n",
       "      <td>55.0</td>\n",
       "      <td>95.50</td>\n",
       "      <td>78.357143</td>\n",
       "    </tr>\n",
       "    <tr>\n",
       "      <th>Very close</th>\n",
       "      <td>34.0</td>\n",
       "      <td>99.00</td>\n",
       "      <td>77.960114</td>\n",
       "    </tr>\n",
       "  </tbody>\n",
       "</table>\n",
       "</div>"
      ],
      "text/plain": [
       "                  min    max       mean\n",
       "relation_parent                        \n",
       "Close            60.0  98.33  77.690000\n",
       "Distant          85.0  98.00  91.500000\n",
       "Fair             55.0  95.50  78.357143\n",
       "Very close       34.0  99.00  77.960114"
      ]
     },
     "execution_count": 38,
     "metadata": {},
     "output_type": "execute_result"
    }
   ],
   "source": [
    "info"
   ]
  },
  {
   "cell_type": "code",
   "execution_count": 40,
   "id": "d5462c27-fd1a-4b67-92be-c56964357299",
   "metadata": {},
   "outputs": [
    {
     "data": {
      "text/plain": [
       "<Axes: xlabel='relation_parent'>"
      ]
     },
     "execution_count": 40,
     "metadata": {},
     "output_type": "execute_result"
    },
    {
     "data": {
      "image/png": "[encoded data removed]",
      "text/plain": [
       "<Figure size 640x480 with 1 Axes>"
      ]
     },
     "metadata": {},
     "output_type": "display_data"
    }
   ],
   "source": [
    "info.plot.bar()"
   ]
  },
  {
   "cell_type": "code",
   "execution_count": 47,
   "id": "57e54072-63b0-4be4-954f-bd795448f1ae",
   "metadata": {},
   "outputs": [],
   "source": [
    "group_parent = student_data.groupby(by= \"faculty\")\n",
    "info = group_parent[\"drinks_night\"].aggregate(\"count\")"
   ]
  },
  {
   "cell_type": "code",
   "execution_count": 48,
   "id": "dbd2f2ff-8448-4e15-b463-d8c1c7bcdc52",
   "metadata": {},
   "outputs": [
    {
     "data": {
      "text/plain": [
       "faculty\n",
       "AgriSciences                       22\n",
       "Arts & Social Sciences             47\n",
       "Economic & Management Sciences    211\n",
       "Education                           6\n",
       "Engineering                        37\n",
       "Law                                10\n",
       "Medicine and Health Services       10\n",
       "Science                            56\n",
       "Name: drinks_night, dtype: int64"
      ]
     },
     "execution_count": 48,
     "metadata": {},
     "output_type": "execute_result"
    }
   ],
   "source": [
    "info"
   ]
  },
  {
   "cell_type": "code",
   "execution_count": 54,
   "id": "f93ff938-7540-4fbd-be36-aead04926418",
   "metadata": {},
   "outputs": [
    {
     "data": {
      "text/plain": [
       "<Axes: xlabel='matric_%', ylabel='gpa_2023'>"
      ]
     },
     "execution_count": 54,
     "metadata": {},
     "output_type": "execute_result"
    },
    {
     "data": {
      "image/png": "[encoded data removed]",
      "text/plain": [
       "<Figure size 640x480 with 1 Axes>"
      ]
     },
     "metadata": {},
     "output_type": "display_data"
    }
   ],
   "source": [
    "# Bubble Chart\n",
    "\n",
    "sns.scatterplot(student_data,x = \"matric_%\", y = \"gpa_2023\", hue = \"drinks_night\")"
   ]
  },
  {
   "cell_type": "code",
   "execution_count": 66,
   "id": "162f27fd-636e-4b3a-8217-045f58095db7",
   "metadata": {},
   "outputs": [
    {
     "data": {
      "text/html": [
       "<div>\n",
       "<style scoped>\n",
       "    .dataframe tbody tr th:only-of-type {\n",
       "        vertical-align: middle;\n",
       "    }\n",
       "\n",
       "    .dataframe tbody tr th {\n",
       "        vertical-align: top;\n",
       "    }\n",
       "\n",
       "    .dataframe thead tr th {\n",
       "        text-align: left;\n",
       "    }\n",
       "\n",
       "    .dataframe thead tr:last-of-type th {\n",
       "        text-align: right;\n",
       "    }\n",
       "</style>\n",
       "<table border=\"1\" class=\"dataframe\">\n",
       "  <thead>\n",
       "    <tr>\n",
       "      <th></th>\n",
       "      <th colspan=\"3\" halign=\"left\">matric_%</th>\n",
       "      <th colspan=\"3\" halign=\"left\">gpa_2023</th>\n",
       "    </tr>\n",
       "    <tr>\n",
       "      <th></th>\n",
       "      <th>min</th>\n",
       "      <th>max</th>\n",
       "      <th>mean</th>\n",
       "      <th>min</th>\n",
       "      <th>max</th>\n",
       "      <th>mean</th>\n",
       "    </tr>\n",
       "    <tr>\n",
       "      <th>relation_parent</th>\n",
       "      <th></th>\n",
       "      <th></th>\n",
       "      <th></th>\n",
       "      <th></th>\n",
       "      <th></th>\n",
       "      <th></th>\n",
       "    </tr>\n",
       "  </thead>\n",
       "  <tbody>\n",
       "    <tr>\n",
       "      <th>Close</th>\n",
       "      <td>60.0</td>\n",
       "      <td>98.33</td>\n",
       "      <td>77.690000</td>\n",
       "      <td>50.0</td>\n",
       "      <td>95.22</td>\n",
       "      <td>65.220769</td>\n",
       "    </tr>\n",
       "    <tr>\n",
       "      <th>Distant</th>\n",
       "      <td>85.0</td>\n",
       "      <td>98.00</td>\n",
       "      <td>91.500000</td>\n",
       "      <td>88.0</td>\n",
       "      <td>89.00</td>\n",
       "      <td>88.500000</td>\n",
       "    </tr>\n",
       "    <tr>\n",
       "      <th>Fair</th>\n",
       "      <td>55.0</td>\n",
       "      <td>95.50</td>\n",
       "      <td>78.357143</td>\n",
       "      <td>50.0</td>\n",
       "      <td>85.00</td>\n",
       "      <td>66.258065</td>\n",
       "    </tr>\n",
       "    <tr>\n",
       "      <th>Very close</th>\n",
       "      <td>34.0</td>\n",
       "      <td>99.00</td>\n",
       "      <td>77.960114</td>\n",
       "      <td>30.0</td>\n",
       "      <td>92.00</td>\n",
       "      <td>66.527356</td>\n",
       "    </tr>\n",
       "  </tbody>\n",
       "</table>\n",
       "</div>"
      ],
      "text/plain": [
       "                matric_%                   gpa_2023                  \n",
       "                     min    max       mean      min    max       mean\n",
       "relation_parent                                                      \n",
       "Close               60.0  98.33  77.690000     50.0  95.22  65.220769\n",
       "Distant             85.0  98.00  91.500000     88.0  89.00  88.500000\n",
       "Fair                55.0  95.50  78.357143     50.0  85.00  66.258065\n",
       "Very close          34.0  99.00  77.960114     30.0  92.00  66.527356"
      ]
     },
     "execution_count": 66,
     "metadata": {},
     "output_type": "execute_result"
    }
   ],
   "source": [
    "group_parent = student_data.groupby(by= \"relation_parent\")\n",
    "info = group_parent[[\"matric_%\",\"gpa_2023\"]].aggregate(('min','max','mean'))\n",
    "info"
   ]
  },
  {
   "cell_type": "code",
   "execution_count": 74,
   "id": "fa84c1c0-b641-428b-bb02-4c24d84bb52d",
   "metadata": {},
   "outputs": [
    {
     "data": {
      "text/plain": [
       "<Axes: xlabel='relation_parent'>"
      ]
     },
     "execution_count": 74,
     "metadata": {},
     "output_type": "execute_result"
    },
    {
     "data": {
      "image/png": "[encoded data removed]",
      "text/plain": [
       "<Figure size 640x480 with 1 Axes>"
      ]
     },
     "metadata": {},
     "output_type": "display_data"
    }
   ],
   "source": [
    "info.plot.bar()"
   ]
  },
  {
   "cell_type": "code",
   "execution_count": 62,
   "id": "52ddcb1e-eec5-4a8e-8778-5912ceffead9",
   "metadata": {},
   "outputs": [
    {
     "data": {
      "text/plain": [
       "<Axes: ylabel='relation_parent'>"
      ]
     },
     "execution_count": 62,
     "metadata": {},
     "output_type": "execute_result"
    },
    {
     "data": {
      "image/png": "[encoded data removed]",
      "text/plain": [
       "<Figure size 640x480 with 2 Axes>"
      ]
     },
     "metadata": {},
     "output_type": "display_data"
    }
   ],
   "source": [
    "sns.heatmap(info, annot= True, cmap='Dark2')"
   ]
  },
  {
   "cell_type": "code",
   "execution_count": 76,
   "id": "3cf8682f-8995-4122-bd7b-75c3c5d54cad",
   "metadata": {},
   "outputs": [
    {
     "data": {
      "text/plain": [
       "<Axes: xlabel='gpa_2023', ylabel='gender'>"
      ]
     },
     "execution_count": 76,
     "metadata": {},
     "output_type": "execute_result"
    },
    {
     "data": {
      "image/png": "[encoded data removed]",
      "text/plain": [
       "<Figure size 640x480 with 1 Axes>"
      ]
     },
     "metadata": {},
     "output_type": "display_data"
    }
   ],
   "source": [
    "sns.boxplot(student_data, x = 'gpa_2023',y='gender')"
   ]
  },
  {
   "cell_type": "code",
   "execution_count": 77,
   "id": "b61846ac-980f-4fec-b2b0-a5cf963cb3db",
   "metadata": {},
   "outputs": [
    {
     "data": {
      "text/html": [
       "<div>\n",
       "<style scoped>\n",
       "    .dataframe tbody tr th:only-of-type {\n",
       "        vertical-align: middle;\n",
       "    }\n",
       "\n",
       "    .dataframe tbody tr th {\n",
       "        vertical-align: top;\n",
       "    }\n",
       "\n",
       "    .dataframe thead th {\n",
       "        text-align: right;\n",
       "    }\n",
       "</style>\n",
       "<table border=\"1\" class=\"dataframe\">\n",
       "  <thead>\n",
       "    <tr style=\"text-align: right;\">\n",
       "      <th></th>\n",
       "      <th>matric_%</th>\n",
       "      <th>gpa_2023</th>\n",
       "    </tr>\n",
       "  </thead>\n",
       "  <tbody>\n",
       "    <tr>\n",
       "      <th>matric_%</th>\n",
       "      <td>1.000000</td>\n",
       "      <td>0.299104</td>\n",
       "    </tr>\n",
       "    <tr>\n",
       "      <th>gpa_2023</th>\n",
       "      <td>0.299104</td>\n",
       "      <td>1.000000</td>\n",
       "    </tr>\n",
       "  </tbody>\n",
       "</table>\n",
       "</div>"
      ],
      "text/plain": [
       "          matric_%  gpa_2023\n",
       "matric_%  1.000000  0.299104\n",
       "gpa_2023  0.299104  1.000000"
      ]
     },
     "execution_count": 77,
     "metadata": {},
     "output_type": "execute_result"
    }
   ],
   "source": [
    "student_data.corr(numeric_only=True)"
   ]
  },
  {
   "cell_type": "code",
   "execution_count": null,
   "id": "bdd0091d-b103-4388-8978-276427fb02eb",
   "metadata": {},
   "outputs": [],
   "source": []
  }
 ],
 "metadata": {
  "kernelspec": {
   "display_name": "Python 3 (ipykernel)",
   "language": "python",
   "name": "python3"
  },
  "language_info": {
   "codemirror_mode": {
    "name": "ipython",
    "version": 3
   },
   "file_extension": ".py",
   "mimetype": "text/x-python",
   "name": "python",
   "nbconvert_exporter": "python",
   "pygments_lexer": "ipython3",
   "version": "3.10.12"
  }
 },
 "nbformat": 4,
 "nbformat_minor": 5
}
