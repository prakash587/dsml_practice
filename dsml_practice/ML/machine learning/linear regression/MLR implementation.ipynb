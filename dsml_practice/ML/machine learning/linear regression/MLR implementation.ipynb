{
 "cells": [
  {
   "cell_type": "code",
   "execution_count": 14,
   "id": "6f995fec-6360-4e64-91a9-7dd2b4bce1a8",
   "metadata": {},
   "outputs": [],
   "source": [
    "import pandas as pd\n",
    "import numpy as np\n",
    "import matplotlib.pyplot as plt"
   ]
  },
  {
   "cell_type": "code",
   "execution_count": 15,
   "id": "285f28de-8b2a-45f7-b56c-c6ec585fa8cc",
   "metadata": {},
   "outputs": [],
   "source": [
    "data= pd.read_csv('Advertising.csv')"
   ]
  },
  {
   "cell_type": "code",
   "execution_count": 16,
   "id": "df7896bd-7c55-4694-aa0d-334a4c86fe11",
   "metadata": {},
   "outputs": [],
   "source": [
    "X= data[['TV', 'radio']].to_numpy()\n",
    "Y= data[['sales']].to_numpy()"
   ]
  },
  {
   "cell_type": "code",
   "execution_count": 17,
   "id": "3330f299-5d71-4eb1-a0d5-93c598a850a4",
   "metadata": {},
   "outputs": [
    {
     "data": {
      "text/plain": [
       "(200, 2)"
      ]
     },
     "execution_count": 17,
     "metadata": {},
     "output_type": "execute_result"
    }
   ],
   "source": [
    "X.shape"
   ]
  },
  {
   "cell_type": "code",
   "execution_count": 18,
   "id": "663decc8-7f8c-4e0f-82e3-486e77492265",
   "metadata": {},
   "outputs": [
    {
     "data": {
      "text/plain": [
       "(200, 1)"
      ]
     },
     "execution_count": 18,
     "metadata": {},
     "output_type": "execute_result"
    }
   ],
   "source": [
    "Y.shape"
   ]
  },
  {
   "cell_type": "code",
   "execution_count": 19,
   "id": "8524c65a-0fde-4127-add9-327fe52693e2",
   "metadata": {},
   "outputs": [],
   "source": [
    "X= np.concat((np.ones((200,1)), X), axis = 1)"
   ]
  },
  {
   "cell_type": "code",
   "execution_count": 20,
   "id": "eee2ea36-490e-4d05-9ca4-67ac7c1014f3",
   "metadata": {},
   "outputs": [],
   "source": [
    "beats= np.linalg.inv(np.dot(X.T,X)).dot(X.T).dot(Y)"
   ]
  },
  {
   "cell_type": "code",
   "execution_count": 21,
   "id": "ac1d28d4-dc1b-4f98-ad5c-aacae0e42d16",
   "metadata": {},
   "outputs": [],
   "source": [
    "beats = beats.flatten()"
   ]
  },
  {
   "cell_type": "code",
   "execution_count": 22,
   "id": "19fa1799-6580-49cf-8bde-d381d01ce2d8",
   "metadata": {},
   "outputs": [
    {
     "name": "stdout",
     "output_type": "stream",
     "text": [
      "y = 2.921 + 0.046 * x1 + 0.188 * x2\n"
     ]
    }
   ],
   "source": [
    "print(f\"y = {beats[0]:.3f} + {beats[1]:.3f} * x1 + {beats[2]:.3f} * x2\")"
   ]
  },
  {
   "cell_type": "code",
   "execution_count": 23,
   "id": "71aea263-b81d-4d49-910f-96ef7308796c",
   "metadata": {},
   "outputs": [
    {
     "name": "stdout",
     "output_type": "stream",
     "text": [
      "y = 2.921 + 0.046 * x1\n"
     ]
    }
   ],
   "source": [
    "print(f\"y = {beats[0].item():.3f} + {beats[1].item():.3f} * x1\")\n"
   ]
  },
  {
   "cell_type": "code",
   "execution_count": 24,
   "id": "8d17974c-23fe-448a-a28e-aeb52a1702ef",
   "metadata": {},
   "outputs": [
    {
     "name": "stdout",
     "output_type": "stream",
     "text": [
      "(3,)\n",
      "[2.92109991 0.04575482 0.18799423]\n"
     ]
    }
   ],
   "source": [
    "print(beats.shape)\n",
    "print(beats)\n"
   ]
  },
  {
   "cell_type": "code",
   "execution_count": 26,
   "id": "ea508e96-167a-4b9c-bdfa-b6d77b59b4e9",
   "metadata": {},
   "outputs": [],
   "source": [
    "# import numpy as np\n",
    "\n",
    "# # Suppose your features are x1, x2, x3\n",
    "# X = np.column_stack((np.ones(len(x1)), x1, x2, x3))  # add intercept column\n",
    "# y = ...  # your target values\n",
    "\n",
    "# # Normal equation for coefficients\n",
    "# beats = np.linalg.inv(X.T @ X) @ (X.T @ y)\n"
   ]
  },
  {
   "cell_type": "markdown",
   "id": "e7243743-1030-45aa-a1ee-4f1e85d976a1",
   "metadata": {},
   "source": [
    "## sklearn impplementation"
   ]
  },
  {
   "cell_type": "code",
   "execution_count": 29,
   "id": "0c9e7b0f-3f5b-4f68-92aa-f00ddecebb06",
   "metadata": {},
   "outputs": [],
   "source": [
    "from sklearn.model_selection import train_test_split\n",
    "from sklearn.linear_model import LinearRegression\n",
    "from sklearn.metrics import mean_squared_error, r2_score\n",
    "from sklearn.preprocessing import StandardScaler\n"
   ]
  },
  {
   "cell_type": "code",
   "execution_count": 30,
   "id": "d3b4ed0c-5ca6-4c39-b268-67fb92c4a662",
   "metadata": {},
   "outputs": [],
   "source": [
    "scaler = StandardScaler()\n",
    "scaled_X = scaler.fit_transform(X)"
   ]
  },
  {
   "cell_type": "code",
   "execution_count": 33,
   "id": "ffada24d-2c57-4676-9786-77a942d4f694",
   "metadata": {},
   "outputs": [
    {
     "name": "stdout",
     "output_type": "stream",
     "text": [
      "Coefficients: [[0.0447283  0.19066726]]\n",
      "Intercept: [3.02825525]\n",
      "Mean Squared Error: 3.137948009068353\n",
      "R² Score: 0.9005833101920356\n"
     ]
    }
   ],
   "source": [
    "# Train/test split (80% train, 20% test)\n",
    "X= data[['TV', 'radio']].to_numpy()\n",
    "Y= data[['sales']].to_numpy()\n",
    "\n",
    "X_train, X_test, y_train, y_test = train_test_split(X, Y, test_size=0.2, random_state=42)\n",
    "\n",
    "# Initialize and train model\n",
    "model = LinearRegression()\n",
    "model.fit(X_train, y_train)\n",
    "\n",
    "# Make predictions\n",
    "y_pred = model.predict(X_test)\n",
    "\n",
    "# Evaluate\n",
    "print(\"Coefficients:\", model.coef_)\n",
    "print(\"Intercept:\", model.intercept_)\n",
    "print(\"Mean Squared Error:\", mean_squared_error(y_test, y_pred))\n",
    "print(\"R² Score:\", r2_score(y_test, y_pred))"
   ]
  },
  {
   "cell_type": "code",
   "execution_count": null,
   "id": "b2c6a4ec-1823-44a5-8e55-a39bf7861f0b",
   "metadata": {},
   "outputs": [],
   "source": []
  }
 ],
 "metadata": {
  "kernelspec": {
   "display_name": "Python 3 (ipykernel)",
   "language": "python",
   "name": "python3"
  },
  "language_info": {
   "codemirror_mode": {
    "name": "ipython",
    "version": 3
   },
   "file_extension": ".py",
   "mimetype": "text/x-python",
   "name": "python",
   "nbconvert_exporter": "python",
   "pygments_lexer": "ipython3",
   "version": "3.13.0"
  }
 },
 "nbformat": 4,
 "nbformat_minor": 5
}
