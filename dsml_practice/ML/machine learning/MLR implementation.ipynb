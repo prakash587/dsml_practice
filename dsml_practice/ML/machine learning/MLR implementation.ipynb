{
 "cells": [
  {
   "cell_type": "code",
   "execution_count": 1,
   "id": "6f995fec-6360-4e64-91a9-7dd2b4bce1a8",
   "metadata": {},
   "outputs": [],
   "source": [
    "import pandas as pd\n",
    "import numpy as np\n",
    "import matplotlib.pyplot as plt"
   ]
  },
  {
   "cell_type": "code",
   "execution_count": 2,
   "id": "285f28de-8b2a-45f7-b56c-c6ec585fa8cc",
   "metadata": {},
   "outputs": [],
   "source": [
    "data= pd.read_csv('Advertising.csv')"
   ]
  },
  {
   "cell_type": "code",
   "execution_count": 4,
   "id": "df7896bd-7c55-4694-aa0d-334a4c86fe11",
   "metadata": {},
   "outputs": [],
   "source": [
    "X= data[['TV', 'radio']].to_numpy()\n",
    "Y= data[['sales']].to_numpy()"
   ]
  },
  {
   "cell_type": "code",
   "execution_count": 5,
   "id": "3330f299-5d71-4eb1-a0d5-93c598a850a4",
   "metadata": {},
   "outputs": [
    {
     "data": {
      "text/plain": [
       "(200, 2)"
      ]
     },
     "execution_count": 5,
     "metadata": {},
     "output_type": "execute_result"
    }
   ],
   "source": [
    "X.shape"
   ]
  },
  {
   "cell_type": "code",
   "execution_count": 6,
   "id": "663decc8-7f8c-4e0f-82e3-486e77492265",
   "metadata": {},
   "outputs": [
    {
     "data": {
      "text/plain": [
       "(200, 1)"
      ]
     },
     "execution_count": 6,
     "metadata": {},
     "output_type": "execute_result"
    }
   ],
   "source": [
    "Y.shape"
   ]
  },
  {
   "cell_type": "code",
   "execution_count": 9,
   "id": "8524c65a-0fde-4127-add9-327fe52693e2",
   "metadata": {},
   "outputs": [
    {
     "data": {
      "text/plain": [
       "array([[  1. , 230.1,  37.8],\n",
       "       [  1. ,  44.5,  39.3],\n",
       "       [  1. ,  17.2,  45.9],\n",
       "       [  1. , 151.5,  41.3],\n",
       "       [  1. , 180.8,  10.8],\n",
       "       [  1. ,   8.7,  48.9],\n",
       "       [  1. ,  57.5,  32.8],\n",
       "       [  1. , 120.2,  19.6],\n",
       "       [  1. ,   8.6,   2.1],\n",
       "       [  1. , 199.8,   2.6],\n",
       "       [  1. ,  66.1,   5.8],\n",
       "       [  1. , 214.7,  24. ],\n",
       "       [  1. ,  23.8,  35.1],\n",
       "       [  1. ,  97.5,   7.6],\n",
       "       [  1. , 204.1,  32.9],\n",
       "       [  1. , 195.4,  47.7],\n",
       "       [  1. ,  67.8,  36.6],\n",
       "       [  1. , 281.4,  39.6],\n",
       "       [  1. ,  69.2,  20.5],\n",
       "       [  1. , 147.3,  23.9],\n",
       "       [  1. , 218.4,  27.7],\n",
       "       [  1. , 237.4,   5.1],\n",
       "       [  1. ,  13.2,  15.9],\n",
       "       [  1. , 228.3,  16.9],\n",
       "       [  1. ,  62.3,  12.6],\n",
       "       [  1. , 262.9,   3.5],\n",
       "       [  1. , 142.9,  29.3],\n",
       "       [  1. , 240.1,  16.7],\n",
       "       [  1. , 248.8,  27.1],\n",
       "       [  1. ,  70.6,  16. ],\n",
       "       [  1. , 292.9,  28.3],\n",
       "       [  1. , 112.9,  17.4],\n",
       "       [  1. ,  97.2,   1.5],\n",
       "       [  1. , 265.6,  20. ],\n",
       "       [  1. ,  95.7,   1.4],\n",
       "       [  1. , 290.7,   4.1],\n",
       "       [  1. , 266.9,  43.8],\n",
       "       [  1. ,  74.7,  49.4],\n",
       "       [  1. ,  43.1,  26.7],\n",
       "       [  1. , 228. ,  37.7],\n",
       "       [  1. , 202.5,  22.3],\n",
       "       [  1. , 177. ,  33.4],\n",
       "       [  1. , 293.6,  27.7],\n",
       "       [  1. , 206.9,   8.4],\n",
       "       [  1. ,  25.1,  25.7],\n",
       "       [  1. , 175.1,  22.5],\n",
       "       [  1. ,  89.7,   9.9],\n",
       "       [  1. , 239.9,  41.5],\n",
       "       [  1. , 227.2,  15.8],\n",
       "       [  1. ,  66.9,  11.7],\n",
       "       [  1. , 199.8,   3.1],\n",
       "       [  1. , 100.4,   9.6],\n",
       "       [  1. , 216.4,  41.7],\n",
       "       [  1. , 182.6,  46.2],\n",
       "       [  1. , 262.7,  28.8],\n",
       "       [  1. , 198.9,  49.4],\n",
       "       [  1. ,   7.3,  28.1],\n",
       "       [  1. , 136.2,  19.2],\n",
       "       [  1. , 210.8,  49.6],\n",
       "       [  1. , 210.7,  29.5],\n",
       "       [  1. ,  53.5,   2. ],\n",
       "       [  1. , 261.3,  42.7],\n",
       "       [  1. , 239.3,  15.5],\n",
       "       [  1. , 102.7,  29.6],\n",
       "       [  1. , 131.1,  42.8],\n",
       "       [  1. ,  69. ,   9.3],\n",
       "       [  1. ,  31.5,  24.6],\n",
       "       [  1. , 139.3,  14.5],\n",
       "       [  1. , 237.4,  27.5],\n",
       "       [  1. , 216.8,  43.9],\n",
       "       [  1. , 199.1,  30.6],\n",
       "       [  1. , 109.8,  14.3],\n",
       "       [  1. ,  26.8,  33. ],\n",
       "       [  1. , 129.4,   5.7],\n",
       "       [  1. , 213.4,  24.6],\n",
       "       [  1. ,  16.9,  43.7],\n",
       "       [  1. ,  27.5,   1.6],\n",
       "       [  1. , 120.5,  28.5],\n",
       "       [  1. ,   5.4,  29.9],\n",
       "       [  1. , 116. ,   7.7],\n",
       "       [  1. ,  76.4,  26.7],\n",
       "       [  1. , 239.8,   4.1],\n",
       "       [  1. ,  75.3,  20.3],\n",
       "       [  1. ,  68.4,  44.5],\n",
       "       [  1. , 213.5,  43. ],\n",
       "       [  1. , 193.2,  18.4],\n",
       "       [  1. ,  76.3,  27.5],\n",
       "       [  1. , 110.7,  40.6],\n",
       "       [  1. ,  88.3,  25.5],\n",
       "       [  1. , 109.8,  47.8],\n",
       "       [  1. , 134.3,   4.9],\n",
       "       [  1. ,  28.6,   1.5],\n",
       "       [  1. , 217.7,  33.5],\n",
       "       [  1. , 250.9,  36.5],\n",
       "       [  1. , 107.4,  14. ],\n",
       "       [  1. , 163.3,  31.6],\n",
       "       [  1. , 197.6,   3.5],\n",
       "       [  1. , 184.9,  21. ],\n",
       "       [  1. , 289.7,  42.3],\n",
       "       [  1. , 135.2,  41.7],\n",
       "       [  1. , 222.4,   4.3],\n",
       "       [  1. , 296.4,  36.3],\n",
       "       [  1. , 280.2,  10.1],\n",
       "       [  1. , 187.9,  17.2],\n",
       "       [  1. , 238.2,  34.3],\n",
       "       [  1. , 137.9,  46.4],\n",
       "       [  1. ,  25. ,  11. ],\n",
       "       [  1. ,  90.4,   0.3],\n",
       "       [  1. ,  13.1,   0.4],\n",
       "       [  1. , 255.4,  26.9],\n",
       "       [  1. , 225.8,   8.2],\n",
       "       [  1. , 241.7,  38. ],\n",
       "       [  1. , 175.7,  15.4],\n",
       "       [  1. , 209.6,  20.6],\n",
       "       [  1. ,  78.2,  46.8],\n",
       "       [  1. ,  75.1,  35. ],\n",
       "       [  1. , 139.2,  14.3],\n",
       "       [  1. ,  76.4,   0.8],\n",
       "       [  1. , 125.7,  36.9],\n",
       "       [  1. ,  19.4,  16. ],\n",
       "       [  1. , 141.3,  26.8],\n",
       "       [  1. ,  18.8,  21.7],\n",
       "       [  1. , 224. ,   2.4],\n",
       "       [  1. , 123.1,  34.6],\n",
       "       [  1. , 229.5,  32.3],\n",
       "       [  1. ,  87.2,  11.8],\n",
       "       [  1. ,   7.8,  38.9],\n",
       "       [  1. ,  80.2,   0. ],\n",
       "       [  1. , 220.3,  49. ],\n",
       "       [  1. ,  59.6,  12. ],\n",
       "       [  1. ,   0.7,  39.6],\n",
       "       [  1. , 265.2,   2.9],\n",
       "       [  1. ,   8.4,  27.2],\n",
       "       [  1. , 219.8,  33.5],\n",
       "       [  1. ,  36.9,  38.6],\n",
       "       [  1. ,  48.3,  47. ],\n",
       "       [  1. ,  25.6,  39. ],\n",
       "       [  1. , 273.7,  28.9],\n",
       "       [  1. ,  43. ,  25.9],\n",
       "       [  1. , 184.9,  43.9],\n",
       "       [  1. ,  73.4,  17. ],\n",
       "       [  1. , 193.7,  35.4],\n",
       "       [  1. , 220.5,  33.2],\n",
       "       [  1. , 104.6,   5.7],\n",
       "       [  1. ,  96.2,  14.8],\n",
       "       [  1. , 140.3,   1.9],\n",
       "       [  1. , 240.1,   7.3],\n",
       "       [  1. , 243.2,  49. ],\n",
       "       [  1. ,  38. ,  40.3],\n",
       "       [  1. ,  44.7,  25.8],\n",
       "       [  1. , 280.7,  13.9],\n",
       "       [  1. , 121. ,   8.4],\n",
       "       [  1. , 197.6,  23.3],\n",
       "       [  1. , 171.3,  39.7],\n",
       "       [  1. , 187.8,  21.1],\n",
       "       [  1. ,   4.1,  11.6],\n",
       "       [  1. ,  93.9,  43.5],\n",
       "       [  1. , 149.8,   1.3],\n",
       "       [  1. ,  11.7,  36.9],\n",
       "       [  1. , 131.7,  18.4],\n",
       "       [  1. , 172.5,  18.1],\n",
       "       [  1. ,  85.7,  35.8],\n",
       "       [  1. , 188.4,  18.1],\n",
       "       [  1. , 163.5,  36.8],\n",
       "       [  1. , 117.2,  14.7],\n",
       "       [  1. , 234.5,   3.4],\n",
       "       [  1. ,  17.9,  37.6],\n",
       "       [  1. , 206.8,   5.2],\n",
       "       [  1. , 215.4,  23.6],\n",
       "       [  1. , 284.3,  10.6],\n",
       "       [  1. ,  50. ,  11.6],\n",
       "       [  1. , 164.5,  20.9],\n",
       "       [  1. ,  19.6,  20.1],\n",
       "       [  1. , 168.4,   7.1],\n",
       "       [  1. , 222.4,   3.4],\n",
       "       [  1. , 276.9,  48.9],\n",
       "       [  1. , 248.4,  30.2],\n",
       "       [  1. , 170.2,   7.8],\n",
       "       [  1. , 276.7,   2.3],\n",
       "       [  1. , 165.6,  10. ],\n",
       "       [  1. , 156.6,   2.6],\n",
       "       [  1. , 218.5,   5.4],\n",
       "       [  1. ,  56.2,   5.7],\n",
       "       [  1. , 287.6,  43. ],\n",
       "       [  1. , 253.8,  21.3],\n",
       "       [  1. , 205. ,  45.1],\n",
       "       [  1. , 139.5,   2.1],\n",
       "       [  1. , 191.1,  28.7],\n",
       "       [  1. , 286. ,  13.9],\n",
       "       [  1. ,  18.7,  12.1],\n",
       "       [  1. ,  39.5,  41.1],\n",
       "       [  1. ,  75.5,  10.8],\n",
       "       [  1. ,  17.2,   4.1],\n",
       "       [  1. , 166.8,  42. ],\n",
       "       [  1. , 149.7,  35.6],\n",
       "       [  1. ,  38.2,   3.7],\n",
       "       [  1. ,  94.2,   4.9],\n",
       "       [  1. , 177. ,   9.3],\n",
       "       [  1. , 283.6,  42. ],\n",
       "       [  1. , 232.1,   8.6]])"
      ]
     },
     "execution_count": 9,
     "metadata": {},
     "output_type": "execute_result"
    }
   ],
   "source": [
    "np.concat((np.ones((200,1)), X), axis = 1)"
   ]
  },
  {
   "cell_type": "code",
   "execution_count": 19,
   "id": "eee2ea36-490e-4d05-9ca4-67ac7c1014f3",
   "metadata": {},
   "outputs": [],
   "source": [
    "beats= np.linalg.inv(np.dot(X.T,X)).dot(X.T).dot(Y)"
   ]
  },
  {
   "cell_type": "code",
   "execution_count": 20,
   "id": "ac1d28d4-dc1b-4f98-ad5c-aacae0e42d16",
   "metadata": {},
   "outputs": [
    {
     "data": {
      "text/plain": [
       "array([0.0548489 , 0.23561216])"
      ]
     },
     "execution_count": 20,
     "metadata": {},
     "output_type": "execute_result"
    }
   ],
   "source": [
    "beats.flatten()"
   ]
  },
  {
   "cell_type": "code",
   "execution_count": 21,
   "id": "19fa1799-6580-49cf-8bde-d381d01ce2d8",
   "metadata": {},
   "outputs": [
    {
     "ename": "TypeError",
     "evalue": "unsupported format string passed to numpy.ndarray.__format__",
     "output_type": "error",
     "traceback": [
      "\u001b[1;31m---------------------------------------------------------------------------\u001b[0m",
      "\u001b[1;31mTypeError\u001b[0m                                 Traceback (most recent call last)",
      "Cell \u001b[1;32mIn[21], line 1\u001b[0m\n\u001b[1;32m----> 1\u001b[0m \u001b[38;5;28mprint\u001b[39m(\u001b[38;5;124mf\u001b[39m\u001b[38;5;124m\"\u001b[39m\u001b[38;5;124my = \u001b[39m\u001b[38;5;132;01m{\u001b[39;00mbeats[\u001b[38;5;241m0\u001b[39m]\u001b[38;5;132;01m:\u001b[39;00m\u001b[38;5;124m.3f\u001b[39m\u001b[38;5;132;01m}\u001b[39;00m\u001b[38;5;124m + \u001b[39m\u001b[38;5;132;01m{\u001b[39;00mbeats[\u001b[38;5;241m1\u001b[39m]\u001b[38;5;132;01m:\u001b[39;00m\u001b[38;5;124m.3f\u001b[39m\u001b[38;5;132;01m}\u001b[39;00m\u001b[38;5;124m * x1 + \u001b[39m\u001b[38;5;132;01m{\u001b[39;00mbeats[\u001b[38;5;241m2\u001b[39m]\u001b[38;5;132;01m:\u001b[39;00m\u001b[38;5;124m.3f\u001b[39m\u001b[38;5;132;01m}\u001b[39;00m\u001b[38;5;124m * x2\u001b[39m\u001b[38;5;124m\"\u001b[39m)\n",
      "\u001b[1;31mTypeError\u001b[0m: unsupported format string passed to numpy.ndarray.__format__"
     ]
    }
   ],
   "source": [
    "print(f\"y = {beats[0]:.3f} + {beats[1]:.3f} * x1 + {beats[2]:.3f} * x2\")"
   ]
  },
  {
   "cell_type": "code",
   "execution_count": 25,
   "id": "71aea263-b81d-4d49-910f-96ef7308796c",
   "metadata": {},
   "outputs": [
    {
     "name": "stdout",
     "output_type": "stream",
     "text": [
      "y = 0.055 + 0.236 * x1\n"
     ]
    }
   ],
   "source": [
    "print(f\"y = {beats[0].item():.3f} + {beats[1].item():.3f} * x1\")\n"
   ]
  },
  {
   "cell_type": "code",
   "execution_count": 26,
   "id": "8d17974c-23fe-448a-a28e-aeb52a1702ef",
   "metadata": {},
   "outputs": [
    {
     "name": "stdout",
     "output_type": "stream",
     "text": [
      "(2, 1)\n",
      "[[0.0548489 ]\n",
      " [0.23561216]]\n"
     ]
    }
   ],
   "source": [
    "print(beats.shape)\n",
    "print(beats)\n"
   ]
  },
  {
   "cell_type": "code",
   "execution_count": 27,
   "id": "ea508e96-167a-4b9c-bdfa-b6d77b59b4e9",
   "metadata": {},
   "outputs": [
    {
     "ename": "NameError",
     "evalue": "name 'x1' is not defined",
     "output_type": "error",
     "traceback": [
      "\u001b[1;31m---------------------------------------------------------------------------\u001b[0m",
      "\u001b[1;31mNameError\u001b[0m                                 Traceback (most recent call last)",
      "Cell \u001b[1;32mIn[27], line 4\u001b[0m\n\u001b[0;32m      1\u001b[0m \u001b[38;5;28;01mimport\u001b[39;00m \u001b[38;5;21;01mnumpy\u001b[39;00m \u001b[38;5;28;01mas\u001b[39;00m \u001b[38;5;21;01mnp\u001b[39;00m\n\u001b[0;32m      3\u001b[0m \u001b[38;5;66;03m# Suppose your features are x1, x2, x3\u001b[39;00m\n\u001b[1;32m----> 4\u001b[0m X \u001b[38;5;241m=\u001b[39m np\u001b[38;5;241m.\u001b[39mcolumn_stack((np\u001b[38;5;241m.\u001b[39mones(\u001b[38;5;28mlen\u001b[39m(\u001b[43mx1\u001b[49m)), x1, x2, x3))  \u001b[38;5;66;03m# add intercept column\u001b[39;00m\n\u001b[0;32m      5\u001b[0m y \u001b[38;5;241m=\u001b[39m \u001b[38;5;241m.\u001b[39m\u001b[38;5;241m.\u001b[39m\u001b[38;5;241m.\u001b[39m  \u001b[38;5;66;03m# your target values\u001b[39;00m\n\u001b[0;32m      7\u001b[0m \u001b[38;5;66;03m# Normal equation for coefficients\u001b[39;00m\n",
      "\u001b[1;31mNameError\u001b[0m: name 'x1' is not defined"
     ]
    }
   ],
   "source": [
    "import numpy as np\n",
    "\n",
    "# Suppose your features are x1, x2, x3\n",
    "X = np.column_stack((np.ones(len(x1)), x1, x2, x3))  # add intercept column\n",
    "y = ...  # your target values\n",
    "\n",
    "# Normal equation for coefficients\n",
    "beats = np.linalg.inv(X.T @ X) @ (X.T @ y)\n"
   ]
  },
  {
   "cell_type": "markdown",
   "id": "e7243743-1030-45aa-a1ee-4f1e85d976a1",
   "metadata": {},
   "source": [
    "## sklearn impplementation"
   ]
  },
  {
   "cell_type": "code",
   "execution_count": 31,
   "id": "0c9e7b0f-3f5b-4f68-92aa-f00ddecebb06",
   "metadata": {},
   "outputs": [],
   "source": [
    "from sklearn.model_selection import train_test_split\n",
    "from sklearn.linear_model import LinearRegression\n",
    "from sklearn.metrics import mean_squared_error, r2_score\n"
   ]
  },
  {
   "cell_type": "code",
   "execution_count": 33,
   "id": "ffada24d-2c57-4676-9786-77a942d4f694",
   "metadata": {},
   "outputs": [
    {
     "name": "stdout",
     "output_type": "stream",
     "text": [
      "Coefficients: [[0.0447283  0.19066726]]\n",
      "Intercept: [3.02825525]\n",
      "Mean Squared Error: 3.137948009068353\n",
      "R² Score: 0.9005833101920356\n"
     ]
    }
   ],
   "source": [
    "# Train/test split (80% train, 20% test)\n",
    "X= data[['TV', 'radio']].to_numpy()\n",
    "Y= data[['sales']].to_numpy()\n",
    "\n",
    "X_train, X_test, y_train, y_test = train_test_split(X, Y, test_size=0.2, random_state=42)\n",
    "\n",
    "# Initialize and train model\n",
    "model = LinearRegression()\n",
    "model.fit(X_train, y_train)\n",
    "\n",
    "# Make predictions\n",
    "y_pred = model.predict(X_test)\n",
    "\n",
    "# Evaluate\n",
    "print(\"Coefficients:\", model.coef_)\n",
    "print(\"Intercept:\", model.intercept_)\n",
    "print(\"Mean Squared Error:\", mean_squared_error(y_test, y_pred))\n",
    "print(\"R² Score:\", r2_score(y_test, y_pred))"
   ]
  },
  {
   "cell_type": "code",
   "execution_count": null,
   "id": "b2c6a4ec-1823-44a5-8e55-a39bf7861f0b",
   "metadata": {},
   "outputs": [],
   "source": []
  }
 ],
 "metadata": {
  "kernelspec": {
   "display_name": "Python 3 (ipykernel)",
   "language": "python",
   "name": "python3"
  },
  "language_info": {
   "codemirror_mode": {
    "name": "ipython",
    "version": 3
   },
   "file_extension": ".py",
   "mimetype": "text/x-python",
   "name": "python",
   "nbconvert_exporter": "python",
   "pygments_lexer": "ipython3",
   "version": "3.13.0"
  }
 },
 "nbformat": 4,
 "nbformat_minor": 5
}
