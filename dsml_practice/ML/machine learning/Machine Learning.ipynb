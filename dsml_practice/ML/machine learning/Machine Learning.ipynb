{
 "cells": [
  {
   "cell_type": "markdown",
   "id": "c2bd000e-fcae-4dc7-988d-e3dc9aa9e471",
   "metadata": {},
   "source": [
    "# Machine Learning\n",
    "\n",
    "Machine learning is a branch of artificial intelligence (AI) that involves developing algorithms and statistical models that enable computers to automatically learn from data without being explicitly programmed. In machine learning, algorithms use data to identify patterns and make decisions with minimal human intervention. Machine learning is used in a wide range of applications, from self-driving cars and facial recognition technology to medical diagnosis and natural language processing."
   ]
  },
  {
   "cell_type": "markdown",
   "id": "c4b28188-15ce-42cf-ba6f-74b246f9b6c4",
   "metadata": {},
   "source": [
    "### Major Approaches of ML\n",
    "\n",
    "1. **Supervised learning:** This approach involves using a labeled dataset to train a model that can predict output values for new input data. It is called \"supervised\" because the training data includes the correct answers, and the goal is for the model to learn how to produce the correct output for new, unseen data."
   ]
  },
  {
   "cell_type": "markdown",
   "id": "922da40a-8f6c-4ecb-8973-a2c75b79a691",
   "metadata": {},
   "source": [
    "2. **Unsupervised learning:** This approach involves using an unlabeled dataset to train a model that can identify patterns or structure in the data. There is no \"correct answer\" to learn from, so the model is typically used for tasks like clustering, where similar data points are grouped together."
   ]
  },
  {
   "cell_type": "markdown",
   "id": "e1500389-68e6-4017-9064-9629576b6cfa",
   "metadata": {},
   "source": [
    "3. **Reinforcement learning:** This approach involves training a model to make decisions based on rewards or penalties received in response to its actions. The goal is for the model to learn to take actions that maximize its cumulative reward over time. This approach is often used in areas like game-playing and robotics, where an agent must learn to navigate an environment and make decisions based on feedback."
   ]
  },
  {
   "cell_type": "markdown",
   "id": "0c85b7f7-58be-458a-a425-639b63424a1c",
   "metadata": {},
   "source": [
    "## Terminology\n",
    "\n",
    "1. Dataset\n",
    "2. Training and Testing Set\n",
    "3. Inference\n",
    "4. Peformance Metrics"
   ]
  },
  {
   "cell_type": "markdown",
   "id": "8d6b327b-ffa9-4be7-bde0-4e8c0ea697b1",
   "metadata": {},
   "source": [
    "## Supervised Learning\n",
    "\n",
    "1. Regression Algo\n",
    "   * Linear Regression\n",
    "   * Neural Regression\n",
    "   * SVM\n",
    "\n",
    "2. Classification Algo\n",
    "    * Logistic Regression\n",
    "    * Naive Bayes\n",
    "    * Decision Trees\n",
    "    * Neural Classification"
   ]
  },
  {
   "cell_type": "code",
   "execution_count": null,
   "id": "8ef33881-3d48-46b8-a950-c96e24fd6101",
   "metadata": {},
   "outputs": [],
   "source": []
  }
 ],
 "metadata": {
  "kernelspec": {
   "display_name": "Python 3 (ipykernel)",
   "language": "python",
   "name": "python3"
  },
  "language_info": {
   "codemirror_mode": {
    "name": "ipython",
    "version": 3
   },
   "file_extension": ".py",
   "mimetype": "text/x-python",
   "name": "python",
   "nbconvert_exporter": "python",
   "pygments_lexer": "ipython3",
   "version": "3.13.0"
  }
 },
 "nbformat": 4,
 "nbformat_minor": 5
}
