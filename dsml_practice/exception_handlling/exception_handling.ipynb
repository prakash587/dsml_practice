{
 "cells": [
  {
   "cell_type": "code",
   "execution_count": 3,
   "id": "a523ddec-0d93-4f7a-82bf-2980c9676afe",
   "metadata": {},
   "outputs": [
    {
     "name": "stdout",
     "output_type": "stream",
     "text": [
      "Invalid type\n"
     ]
    }
   ],
   "source": [
    "number= 'tt'\n",
    "if isinstance (number, int):\n",
    "    print (f\" swuare of {number} id {number ** 2}\")\n",
    "else:\n",
    "    print('Invalid type')"
   ]
  },
  {
   "cell_type": "code",
   "execution_count": 5,
   "id": "ef29aebe-eb1f-4dd6-ae9f-1ab8c2e7ab6b",
   "metadata": {},
   "outputs": [
    {
     "ename": "TypeError",
     "evalue": "value should be integer",
     "output_type": "error",
     "traceback": [
      "\u001b[1;31m---------------------------------------------------------------------------\u001b[0m",
      "\u001b[1;31mTypeError\u001b[0m                                 Traceback (most recent call last)",
      "Cell \u001b[1;32mIn[5], line 5\u001b[0m\n\u001b[0;32m      3\u001b[0m     \u001b[38;5;28mprint\u001b[39m (\u001b[38;5;124mf\u001b[39m\u001b[38;5;124m\"\u001b[39m\u001b[38;5;124m swuare of \u001b[39m\u001b[38;5;132;01m{\u001b[39;00mnumber\u001b[38;5;132;01m}\u001b[39;00m\u001b[38;5;124m id \u001b[39m\u001b[38;5;132;01m{\u001b[39;00mnumber\u001b[38;5;250m \u001b[39m\u001b[38;5;241m*\u001b[39m\u001b[38;5;241m*\u001b[39m\u001b[38;5;250m \u001b[39m\u001b[38;5;241m2\u001b[39m\u001b[38;5;132;01m}\u001b[39;00m\u001b[38;5;124m\"\u001b[39m)\n\u001b[0;32m      4\u001b[0m \u001b[38;5;28;01melse\u001b[39;00m:\n\u001b[1;32m----> 5\u001b[0m     \u001b[38;5;28;01mraise\u001b[39;00m \u001b[38;5;167;01mTypeError\u001b[39;00m(\u001b[38;5;124m'\u001b[39m\u001b[38;5;124mvalue should be integer\u001b[39m\u001b[38;5;124m'\u001b[39m)\n",
      "\u001b[1;31mTypeError\u001b[0m: value should be integer"
     ]
    }
   ],
   "source": [
    "number= 'tt'\n",
    "if isinstance (number, int):\n",
    "    print (f\" square of {number} id {number ** 2}\")\n",
    "else:\n",
    "    raise TypeError('value should be integer')"
   ]
  },
  {
   "cell_type": "code",
   "execution_count": 6,
   "id": "c4aede65-7ed7-4bfa-b62c-3480caedf6b4",
   "metadata": {},
   "outputs": [
    {
     "ename": "ValueError",
     "evalue": "Divisor should be zero",
     "output_type": "error",
     "traceback": [
      "\u001b[1;31m---------------------------------------------------------------------------\u001b[0m",
      "\u001b[1;31mValueError\u001b[0m                                Traceback (most recent call last)",
      "Cell \u001b[1;32mIn[6], line 5\u001b[0m\n\u001b[0;32m      2\u001b[0m y\u001b[38;5;241m=\u001b[39m\u001b[38;5;241m0\u001b[39m\n\u001b[0;32m      4\u001b[0m \u001b[38;5;28;01mif\u001b[39;00m y \u001b[38;5;241m==\u001b[39m \u001b[38;5;241m0\u001b[39m:\n\u001b[1;32m----> 5\u001b[0m     \u001b[38;5;28;01mraise\u001b[39;00m \u001b[38;5;167;01mValueError\u001b[39;00m(\u001b[38;5;124m\"\u001b[39m\u001b[38;5;124mDivisor should be zero\u001b[39m\u001b[38;5;124m\"\u001b[39m)\n",
      "\u001b[1;31mValueError\u001b[0m: Divisor should be zero"
     ]
    }
   ],
   "source": [
    "x=2\n",
    "y=0\n",
    "\n",
    "if y == 0:\n",
    "    raise ValueError(\"Divisor should be zero\")"
   ]
  },
  {
   "cell_type": "markdown",
   "id": "6a11cdd5-559a-4263-ae45-4c683a45ae8a",
   "metadata": {},
   "source": [
    "user define error"
   ]
  },
  {
   "cell_type": "code",
   "execution_count": 7,
   "id": "191cde0e-d0f5-45d3-a52b-860e5333ee53",
   "metadata": {},
   "outputs": [],
   "source": [
    "class MyException(Exception):\n",
    "    pass"
   ]
  },
  {
   "cell_type": "code",
   "execution_count": 8,
   "id": "1cb7b2f7-ebed-4ab0-a8b9-923fbd41cbc0",
   "metadata": {},
   "outputs": [],
   "source": [
    "class UserNotFound(Exception):\n",
    "    pass"
   ]
  },
  {
   "cell_type": "code",
   "execution_count": 9,
   "id": "2a2f896b-4bb5-496e-a640-f5f6d261925d",
   "metadata": {},
   "outputs": [],
   "source": [
    "def get_user(user_id):\n",
    "    \"\"\"\n",
    "\n",
    "\n",
    "    \"\"\"\n",
    "    raise UserNotFound(f\"No User with id {user_id}\")"
   ]
  },
  {
   "cell_type": "code",
   "execution_count": 10,
   "id": "ab9ac022-ecba-427a-ad99-b1e2024abf7a",
   "metadata": {},
   "outputs": [
    {
     "ename": "UserNotFound",
     "evalue": "No User with id ram",
     "output_type": "error",
     "traceback": [
      "\u001b[1;31m---------------------------------------------------------------------------\u001b[0m",
      "\u001b[1;31mUserNotFound\u001b[0m                              Traceback (most recent call last)",
      "Cell \u001b[1;32mIn[10], line 1\u001b[0m\n\u001b[1;32m----> 1\u001b[0m \u001b[43mget_user\u001b[49m\u001b[43m(\u001b[49m\u001b[38;5;124;43m\"\u001b[39;49m\u001b[38;5;124;43mram\u001b[39;49m\u001b[38;5;124;43m\"\u001b[39;49m\u001b[43m)\u001b[49m\n",
      "Cell \u001b[1;32mIn[9], line 6\u001b[0m, in \u001b[0;36mget_user\u001b[1;34m(user_id)\u001b[0m\n\u001b[0;32m      1\u001b[0m \u001b[38;5;28;01mdef\u001b[39;00m \u001b[38;5;21mget_user\u001b[39m(user_id):\n\u001b[0;32m      2\u001b[0m \u001b[38;5;250m    \u001b[39m\u001b[38;5;124;03m\"\"\"\u001b[39;00m\n\u001b[0;32m      3\u001b[0m \n\u001b[0;32m      4\u001b[0m \n\u001b[0;32m      5\u001b[0m \u001b[38;5;124;03m    \"\"\"\u001b[39;00m\n\u001b[1;32m----> 6\u001b[0m     \u001b[38;5;28;01mraise\u001b[39;00m UserNotFound(\u001b[38;5;124mf\u001b[39m\u001b[38;5;124m\"\u001b[39m\u001b[38;5;124mNo User with id \u001b[39m\u001b[38;5;132;01m{\u001b[39;00muser_id\u001b[38;5;132;01m}\u001b[39;00m\u001b[38;5;124m\"\u001b[39m)\n",
      "\u001b[1;31mUserNotFound\u001b[0m: No User with id ram"
     ]
    }
   ],
   "source": [
    "get_user(\"ram\")"
   ]
  },
  {
   "cell_type": "code",
   "execution_count": 12,
   "id": "af02f12f-fba0-45c3-9d85-8aa052d32b6c",
   "metadata": {},
   "outputs": [
    {
     "name": "stdin",
     "output_type": "stream",
     "text": [
      "enter  A NUMBER dds\n"
     ]
    },
    {
     "name": "stdout",
     "output_type": "stream",
     "text": [
      "Invalid Input, enter a integer value\n",
      "0\n"
     ]
    }
   ],
   "source": [
    "try:\n",
    "    num=int(input(\"enter  A NUMBER\"))\n",
    "    print(num**3)\n",
    "except ValueError:\n",
    "    print(\"Invalid Input, enter a integer value\")\n",
    "    print(0)"
   ]
  },
  {
   "cell_type": "code",
   "execution_count": 14,
   "id": "6e062e04-8e29-49c5-8e1b-40714fd5376f",
   "metadata": {},
   "outputs": [
    {
     "name": "stdin",
     "output_type": "stream",
     "text": [
      "enter  A NUMBER 33\n",
      "enter  another NUMBER 33\n"
     ]
    },
    {
     "name": "stdout",
     "output_type": "stream",
     "text": [
      "Final Result: 66\n"
     ]
    }
   ],
   "source": [
    "try:\n",
    "    num1=int(input(\"enter  A NUMBER\"))\n",
    "    num2=int(input(\"enter  another NUMBER\"))\n",
    "    result=num1+num2\n",
    "except ValueError as error:\n",
    "    print(\"Invalid Input, enter a integer value\", error)\n",
    "    result=1\n",
    "except  ZeroDivisonError:\n",
    "    print(\"Cannot divide by zero\")\n",
    "    result=0\n",
    "print(\"Final Result:\", result)"
   ]
  },
  {
   "cell_type": "code",
   "execution_count": 15,
   "id": "b24a5600-2a41-4ded-9d62-ea30872be795",
   "metadata": {},
   "outputs": [
    {
     "ename": "NameError",
     "evalue": "name 'values' is not defined",
     "output_type": "error",
     "traceback": [
      "\u001b[1;31m---------------------------------------------------------------------------\u001b[0m",
      "\u001b[1;31mNameError\u001b[0m                                 Traceback (most recent call last)",
      "Cell \u001b[1;32mIn[15], line 3\u001b[0m\n\u001b[0;32m      1\u001b[0m value\u001b[38;5;241m=\u001b[39m \u001b[38;5;124m\"\u001b[39m\u001b[38;5;124mabc\u001b[39m\u001b[38;5;124m\"\u001b[39m\n\u001b[0;32m      2\u001b[0m \u001b[38;5;28;01mtry\u001b[39;00m:\n\u001b[1;32m----> 3\u001b[0m     \u001b[38;5;28mprint\u001b[39m(\u001b[38;5;28mint\u001b[39m(\u001b[43mvalues\u001b[49m))\n\u001b[0;32m      4\u001b[0m \u001b[38;5;28;01mexcept\u001b[39;00m (\u001b[38;5;167;01mValueError\u001b[39;00m, \u001b[38;5;167;01mTypeError\u001b[39;00m):\n\u001b[0;32m      5\u001b[0m     \u001b[38;5;28mprint\u001b[39m(\u001b[38;5;124m\"\u001b[39m\u001b[38;5;124mcannot convert to int\u001b[39m\u001b[38;5;124m\"\u001b[39m)\n",
      "\u001b[1;31mNameError\u001b[0m: name 'values' is not defined"
     ]
    }
   ],
   "source": [
    "value= \"abc\"\n",
    "try:\n",
    "    print(int(values))\n",
    "except (ValueError, TypeError):\n",
    "    print(\"cannot convert to int\")"
   ]
  },
  {
   "cell_type": "code",
   "execution_count": 16,
   "id": "4e988bb1-5942-4d3a-a505-e4d88ff2f52b",
   "metadata": {},
   "outputs": [
    {
     "name": "stdout",
     "output_type": "stream",
     "text": [
      "c\n",
      "d\n",
      "['a', 'b', 'c', 'd']\n"
     ]
    }
   ],
   "source": [
    "lst = [\"a\", \"b\", \"c\", \"d\"]\n",
    "\n",
    "def get_list_item(index):\n",
    "    try:\n",
    "        return lst[index]\n",
    "    except IndexError:\n",
    "        return lst[-1]\n",
    "    except Exception:\n",
    "        return lst\n",
    "\n",
    "# Test examples\n",
    "print(get_list_item(2))   \n",
    "print(get_list_item(10))  \n",
    "print(get_list_item(\"x\")) \n"
   ]
  },
  {
   "cell_type": "code",
   "execution_count": 19,
   "id": "6d58810c-ed95-46c0-86b6-4a4c60ee2afa",
   "metadata": {},
   "outputs": [
    {
     "name": "stdin",
     "output_type": "stream",
     "text": [
      "Enter an index:  ds\n"
     ]
    },
    {
     "name": "stdout",
     "output_type": "stream",
     "text": [
      "Some other error occurred: list indices must be integers or slices, not str\n",
      "Returning full list: ['a', 'b', 'c', 'd']\n"
     ]
    }
   ],
   "source": [
    "my_list = ['a', 'b', 'c', 'd']\n",
    "\n",
    "def get_list_item(index):\n",
    "    try:\n",
    "        return f\"Element at index: {my_list[index]}\"\n",
    "    except IndexError:\n",
    "        return f\"IndexError! Returning last element: {my_list[-1]}\"\n",
    "    except Exception as e:\n",
    "        return f\"Some other error occurred: {e}\\nReturning full list: {my_list}\"\n",
    "\n",
    "# Calling the function with user input\n",
    "try:\n",
    "    user_index = int(input(\"Enter an index: \"))\n",
    "except Exception as e:\n",
    "    # If user enters a non-integer, handle it here before calling function\n",
    "    user_index = \"invalid\"\n",
    "\n",
    "# Pass to function\n",
    "print(get_list_item(user_index))\n"
   ]
  },
  {
   "cell_type": "code",
   "execution_count": 20,
   "id": "01f06ec4-ca57-4037-944f-ca0c7ce2960f",
   "metadata": {},
   "outputs": [
    {
     "name": "stdin",
     "output_type": "stream",
     "text": [
      "enter  A NUMBER d'\n"
     ]
    },
    {
     "name": "stdout",
     "output_type": "stream",
     "text": [
      "Invalid Input, enter a integer value invalid literal for int() with base 10: \"d'\"\n"
     ]
    }
   ],
   "source": [
    "try:\n",
    "    num1=int(input(\"enter  A NUMBER\"))\n",
    "    num2=int(input(\"enter  another NUMBER\"))\n",
    "    result=num1+num2\n",
    "except ValueError as error:\n",
    "    print(\"Invalid Input, enter a integer value\", error)\n",
    "    result=1\n",
    "except  ZeroDivisonError:\n",
    "    print(\"Cannot divide by zero\")\n",
    "    result=0\n",
    "else:\n",
    "    print(\"else block\")\n",
    "    print(\"Final Result:\", result)"
   ]
  },
  {
   "cell_type": "code",
   "execution_count": 22,
   "id": "1cdc5c76-c544-4306-9166-9a19daa1adaa",
   "metadata": {},
   "outputs": [
    {
     "name": "stdin",
     "output_type": "stream",
     "text": [
      "enter  A NUMBER 33\n",
      "enter  another NUMBER 33\n"
     ]
    },
    {
     "name": "stdout",
     "output_type": "stream",
     "text": [
      "finally block\n",
      "Final Result: 66\n"
     ]
    }
   ],
   "source": [
    "try:\n",
    "    num1=int(input(\"enter  A NUMBER\"))\n",
    "    num2=int(input(\"enter  another NUMBER\"))\n",
    "    result=num1+num2\n",
    "except ValueError as error:\n",
    "    print(\"Invalid Input, enter a integer value\", error)\n",
    "    result=1\n",
    "except  ZeroDivisonError:\n",
    "    print(\"Cannot divide by zero\")\n",
    "    result=0\n",
    "finally:\n",
    "    print(\"finally block\")\n",
    "    print(\"Final Result:\", result)"
   ]
  },
  {
   "cell_type": "code",
   "execution_count": null,
   "id": "8fbc2a2b-2692-409f-a6c0-2352977901b8",
   "metadata": {},
   "outputs": [],
   "source": []
  }
 ],
 "metadata": {
  "kernelspec": {
   "display_name": "Python 3 (ipykernel)",
   "language": "python",
   "name": "python3"
  },
  "language_info": {
   "codemirror_mode": {
    "name": "ipython",
    "version": 3
   },
   "file_extension": ".py",
   "mimetype": "text/x-python",
   "name": "python",
   "nbconvert_exporter": "python",
   "pygments_lexer": "ipython3",
   "version": "3.13.0"
  }
 },
 "nbformat": 4,
 "nbformat_minor": 5
}
