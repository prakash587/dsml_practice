{
 "cells": [
  {
   "cell_type": "code",
   "execution_count": 1,
   "id": "553cae16-7600-4f2c-9665-0612f9b4f2bf",
   "metadata": {},
   "outputs": [
    {
     "ename": "FileNotFoundError",
     "evalue": "[Errno 2] No such file or directory: 'log.txt'",
     "output_type": "error",
     "traceback": [
      "\u001b[1;31m---------------------------------------------------------------------------\u001b[0m",
      "\u001b[1;31mFileNotFoundError\u001b[0m                         Traceback (most recent call last)",
      "Cell \u001b[1;32mIn[1], line 1\u001b[0m\n\u001b[1;32m----> 1\u001b[0m file \u001b[38;5;241m=\u001b[39m \u001b[38;5;28;43mopen\u001b[39;49m\u001b[43m(\u001b[49m\u001b[38;5;124;43m'\u001b[39;49m\u001b[38;5;124;43mlog.txt\u001b[39;49m\u001b[38;5;124;43m'\u001b[39;49m\u001b[43m,\u001b[49m\u001b[43mmode\u001b[49m\u001b[43m \u001b[49m\u001b[38;5;241;43m=\u001b[39;49m\u001b[38;5;124;43m'\u001b[39;49m\u001b[38;5;124;43mr\u001b[39;49m\u001b[38;5;124;43m'\u001b[39;49m\u001b[43m)\u001b[49m\n\u001b[0;32m      2\u001b[0m \u001b[38;5;28mprint\u001b[39m(file\u001b[38;5;241m.\u001b[39mread())\n\u001b[0;32m      3\u001b[0m file\u001b[38;5;241m.\u001b[39mclose()\n",
      "File \u001b[1;32m~\\AppData\\Roaming\\Python\\Python313\\site-packages\\IPython\\core\\interactiveshell.py:324\u001b[0m, in \u001b[0;36m_modified_open\u001b[1;34m(file, *args, **kwargs)\u001b[0m\n\u001b[0;32m    317\u001b[0m \u001b[38;5;28;01mif\u001b[39;00m file \u001b[38;5;129;01min\u001b[39;00m {\u001b[38;5;241m0\u001b[39m, \u001b[38;5;241m1\u001b[39m, \u001b[38;5;241m2\u001b[39m}:\n\u001b[0;32m    318\u001b[0m     \u001b[38;5;28;01mraise\u001b[39;00m \u001b[38;5;167;01mValueError\u001b[39;00m(\n\u001b[0;32m    319\u001b[0m         \u001b[38;5;124mf\u001b[39m\u001b[38;5;124m\"\u001b[39m\u001b[38;5;124mIPython won\u001b[39m\u001b[38;5;124m'\u001b[39m\u001b[38;5;124mt let you open fd=\u001b[39m\u001b[38;5;132;01m{\u001b[39;00mfile\u001b[38;5;132;01m}\u001b[39;00m\u001b[38;5;124m by default \u001b[39m\u001b[38;5;124m\"\u001b[39m\n\u001b[0;32m    320\u001b[0m         \u001b[38;5;124m\"\u001b[39m\u001b[38;5;124mas it is likely to crash IPython. If you know what you are doing, \u001b[39m\u001b[38;5;124m\"\u001b[39m\n\u001b[0;32m    321\u001b[0m         \u001b[38;5;124m\"\u001b[39m\u001b[38;5;124myou can use builtins\u001b[39m\u001b[38;5;124m'\u001b[39m\u001b[38;5;124m open.\u001b[39m\u001b[38;5;124m\"\u001b[39m\n\u001b[0;32m    322\u001b[0m     )\n\u001b[1;32m--> 324\u001b[0m \u001b[38;5;28;01mreturn\u001b[39;00m \u001b[43mio_open\u001b[49m\u001b[43m(\u001b[49m\u001b[43mfile\u001b[49m\u001b[43m,\u001b[49m\u001b[43m \u001b[49m\u001b[38;5;241;43m*\u001b[39;49m\u001b[43margs\u001b[49m\u001b[43m,\u001b[49m\u001b[43m \u001b[49m\u001b[38;5;241;43m*\u001b[39;49m\u001b[38;5;241;43m*\u001b[39;49m\u001b[43mkwargs\u001b[49m\u001b[43m)\u001b[49m\n",
      "\u001b[1;31mFileNotFoundError\u001b[0m: [Errno 2] No such file or directory: 'log.txt'"
     ]
    }
   ],
   "source": [
    "file = open('log.txt',mode ='r')\n",
    "print(file.read())\n",
    "file.close()"
   ]
  },
  {
   "cell_type": "code",
   "execution_count": 7,
   "id": "c5e42522-3d98-41f9-8ca0-89cc6b1bee33",
   "metadata": {},
   "outputs": [],
   "source": [
    "file = open('message.txt',mode ='w')\n",
    "file.write(\"welcome to dsml claxx\")\n",
    "file.close()"
   ]
  },
  {
   "cell_type": "code",
   "execution_count": 11,
   "id": "a4ac02c0-9c2e-4c78-8789-eeb1a7acf4fd",
   "metadata": {},
   "outputs": [
    {
     "name": "stdout",
     "output_type": "stream",
     "text": [
      "welcome to dsml claxxThis is the first message.\n",
      "\n"
     ]
    }
   ],
   "source": [
    "with open(\"message.txt\", mode=\"r+\") as file:\n",
    "    print(file.read())\n",
    "    file.write(\"This is the first message.\\n\")\n"
   ]
  },
  {
   "cell_type": "code",
   "execution_count": 12,
   "id": "015d2bfa-a7a4-4a99-9f70-4f6c18ef589e",
   "metadata": {},
   "outputs": [
    {
     "name": "stdout",
     "output_type": "stream",
     "text": [
      "\n"
     ]
    }
   ],
   "source": [
    "with open(\"message.txt\", mode=\"w+\") as file:\n",
    "    print(file.read())\n",
    "    file.write(\"This is the beginning.\\n\")\n"
   ]
  },
  {
   "cell_type": "code",
   "execution_count": 15,
   "id": "88e02631-ed05-4df8-84c7-f8078b2742ce",
   "metadata": {},
   "outputs": [],
   "source": [
    "x='ram'"
   ]
  },
  {
   "cell_type": "code",
   "execution_count": 16,
   "id": "13326c40-c47d-4aca-81d4-129edfcf9f89",
   "metadata": {},
   "outputs": [
    {
     "name": "stdout",
     "output_type": "stream",
     "text": [
      "['__add__', '__class__', '__contains__', '__delattr__', '__dir__', '__doc__', '__eq__', '__format__', '__ge__', '__getattribute__', '__getitem__', '__getnewargs__', '__getstate__', '__gt__', '__hash__', '__init__', '__init_subclass__', '__iter__', '__le__', '__len__', '__lt__', '__mod__', '__mul__', '__ne__', '__new__', '__reduce__', '__reduce_ex__', '__repr__', '__rmod__', '__rmul__', '__setattr__', '__sizeof__', '__str__', '__subclasshook__', 'capitalize', 'casefold', 'center', 'count', 'encode', 'endswith', 'expandtabs', 'find', 'format', 'format_map', 'index', 'isalnum', 'isalpha', 'isascii', 'isdecimal', 'isdigit', 'isidentifier', 'islower', 'isnumeric', 'isprintable', 'isspace', 'istitle', 'isupper', 'join', 'ljust', 'lower', 'lstrip', 'maketrans', 'partition', 'removeprefix', 'removesuffix', 'replace', 'rfind', 'rindex', 'rjust', 'rpartition', 'rsplit', 'rstrip', 'split', 'splitlines', 'startswith', 'strip', 'swapcase', 'title', 'translate', 'upper', 'zfill']\n"
     ]
    }
   ],
   "source": [
    "print(dir(x))\n",
    "      "
   ]
  },
  {
   "cell_type": "code",
   "execution_count": 22,
   "id": "0701be27-0456-4f28-ac6e-7f700a6d5e6a",
   "metadata": {},
   "outputs": [
    {
     "data": {
      "text/plain": [
       "[(0, 'ram'), (1, 'hari'), (2, 'shyam')]"
      ]
     },
     "execution_count": 22,
     "metadata": {},
     "output_type": "execute_result"
    }
   ],
   "source": [
    "names=['ram', 'hari', 'shyam']\n",
    "list(enumerate(names))"
   ]
  },
  {
   "cell_type": "code",
   "execution_count": 25,
   "id": "ad26dbd3-41ca-442c-9b92-5c1035836481",
   "metadata": {},
   "outputs": [
    {
     "name": "stdout",
     "output_type": "stream",
     "text": [
      "ram: Roll0\n",
      "hari: Roll1\n",
      "shyam: Roll2\n"
     ]
    }
   ],
   "source": [
    "for (i, name) in enumerate(names):\n",
    "    print(f\"{name}: Roll{i}\")"
   ]
  },
  {
   "cell_type": "code",
   "execution_count": 26,
   "id": "846a2446-2d6e-4d67-a2f8-d5cdf4798b0a",
   "metadata": {},
   "outputs": [
    {
     "name": "stdout",
     "output_type": "stream",
     "text": [
      "ram: Roll1\n",
      "hari: Roll2\n",
      "shyam: Roll3\n"
     ]
    }
   ],
   "source": [
    "for (i, name) in enumerate(names, start=1):\n",
    "    print(f\"{name}: Roll{i}\")"
   ]
  },
  {
   "cell_type": "code",
   "execution_count": 28,
   "id": "d2f40899-b80a-47a1-ad18-4aca8e1d8edf",
   "metadata": {},
   "outputs": [
    {
     "name": "stdout",
     "output_type": "stream",
     "text": [
      "harris->3\n",
      "ricky->4\n",
      "bob->5\n",
      "hari->6\n"
     ]
    }
   ],
   "source": [
    "names=['harris', 'ricky', 'bob', 'hari']\n",
    "score= [3,4,5,6]\n",
    "for (player,s) in zip (names, score):\n",
    "    print(player,s , sep=\"->\")\n"
   ]
  },
  {
   "cell_type": "code",
   "execution_count": 31,
   "id": "669c966e-43db-444b-84e4-7bca09d8dd08",
   "metadata": {},
   "outputs": [
    {
     "data": {
      "text/plain": [
       "[('h', 2, 'u'), ('a', 5, 'e'), ('r', 6, ',')]"
      ]
     },
     "execution_count": 31,
     "metadata": {},
     "output_type": "execute_result"
    }
   ],
   "source": [
    "name='hari'\n",
    "list1= [2,5,6]\n",
    "set1=set('a,e,i,o,u')\n",
    "\n",
    "list(zip(name,list1,set1))"
   ]
  },
  {
   "cell_type": "code",
   "execution_count": 35,
   "id": "4b2285d4-66aa-4b13-b86f-43d75ab3d7a9",
   "metadata": {},
   "outputs": [],
   "source": [
    "def mult(x):\n",
    "    return x*2"
   ]
  },
  {
   "cell_type": "code",
   "execution_count": 36,
   "id": "ffd0d096-43dc-4cc1-a113-52a882a9e5b9",
   "metadata": {},
   "outputs": [],
   "source": [
    "number =[2,3,4,5,6,6,7]\n",
    "map_obj=map(mult, number)"
   ]
  },
  {
   "cell_type": "code",
   "execution_count": 41,
   "id": "a2c8bf8c-103d-4385-a9b5-a21bbc25a4ba",
   "metadata": {},
   "outputs": [
    {
     "data": {
      "text/plain": [
       "[4, 6, 8, 10, 12, 12, 14]"
      ]
     },
     "execution_count": 41,
     "metadata": {},
     "output_type": "execute_result"
    }
   ],
   "source": [
    "[a for a in map_obj]"
   ]
  },
  {
   "cell_type": "code",
   "execution_count": 43,
   "id": "fc9e1189-a84a-48d9-ba00-f3d9b815817a",
   "metadata": {},
   "outputs": [],
   "source": [
    "def even(num):\n",
    "    return num%2==0\n",
    "    "
   ]
  },
  {
   "cell_type": "code",
   "execution_count": 46,
   "id": "ee699d2b-780f-4ce2-80d1-343480adb3a5",
   "metadata": {},
   "outputs": [],
   "source": [
    " f_obj=filter(even,[1,2,3,4,5,6,7,8,9,0])"
   ]
  },
  {
   "cell_type": "code",
   "execution_count": 47,
   "id": "de273838-66d8-4aa5-baf4-8cf275d80139",
   "metadata": {},
   "outputs": [
    {
     "data": {
      "text/plain": [
       "[2, 4, 6, 8, 0]"
      ]
     },
     "execution_count": 47,
     "metadata": {},
     "output_type": "execute_result"
    }
   ],
   "source": [
    "list(f_obj)"
   ]
  },
  {
   "cell_type": "code",
   "execution_count": 48,
   "id": "fc63c93f-35fe-46da-b749-de27f167505d",
   "metadata": {},
   "outputs": [
    {
     "data": {
      "text/plain": [
       "[]"
      ]
     },
     "execution_count": 48,
     "metadata": {},
     "output_type": "execute_result"
    }
   ],
   "source": [
    "list(f_obj)"
   ]
  },
  {
   "cell_type": "code",
   "execution_count": 52,
   "id": "e08629c2-d08e-45be-818a-3b4451a3957b",
   "metadata": {},
   "outputs": [],
   "source": [
    "from functools import reduce"
   ]
  },
  {
   "cell_type": "code",
   "execution_count": 53,
   "id": "ad41d406-2181-45d6-8b09-4ce6c5dbbf3b",
   "metadata": {},
   "outputs": [],
   "source": [
    "mylist=[1,2,3,4,5,6]"
   ]
  },
  {
   "cell_type": "code",
   "execution_count": 56,
   "id": "2d02ab16-3462-4892-95b6-2e0ec13f2b5b",
   "metadata": {},
   "outputs": [],
   "source": [
    "def add(x,y):\n",
    "    return x+y\n",
    "    "
   ]
  },
  {
   "cell_type": "code",
   "execution_count": 58,
   "id": "d2b0b2a8-aa8d-4e42-b525-58bf6252087d",
   "metadata": {},
   "outputs": [],
   "source": [
    "red_obj=reduce(add,mylist)"
   ]
  },
  {
   "cell_type": "code",
   "execution_count": 59,
   "id": "c4123a0c-168c-443c-a065-9285665e65d8",
   "metadata": {},
   "outputs": [
    {
     "data": {
      "text/plain": [
       "21"
      ]
     },
     "execution_count": 59,
     "metadata": {},
     "output_type": "execute_result"
    }
   ],
   "source": [
    "red_obj"
   ]
  },
  {
   "cell_type": "code",
   "execution_count": 66,
   "id": "b5b3209a-3511-414a-8b82-0a2ee0dc38dd",
   "metadata": {},
   "outputs": [
    {
     "name": "stdout",
     "output_type": "stream",
     "text": [
      "Day 1 total score: 22\n",
      "Day 2 total score: 42\n",
      "Day 3 total score: 41\n"
     ]
    }
   ],
   "source": [
    "team_a=[10,20,30]\n",
    "team_b=[12,22,11]\n",
    "paired_scores = list(zip(team_a, team_b))\n",
    "\n",
    "total_scores = list(map(sum, paired_scores))\n",
    "for day_index, score in enumerate(total_scores, start=1):\n",
    "    print(f\"Day {day_index} total score: {score}\")\n",
    "\n",
    "\n"
   ]
  },
  {
   "cell_type": "code",
   "execution_count": 63,
   "id": "73546e04-c566-450e-8353-5a760ac7f1d6",
   "metadata": {},
   "outputs": [],
   "source": [
    "paired_scores = list(zip(team_a, team_b))\n"
   ]
  },
  {
   "cell_type": "code",
   "execution_count": 64,
   "id": "746dbec0-8da7-4541-b551-c35cc5143b27",
   "metadata": {},
   "outputs": [],
   "source": [
    "total_scores = list(map(sum, paired_scores))\n"
   ]
  },
  {
   "cell_type": "code",
   "execution_count": 65,
   "id": "0449db66-4afc-49df-b01e-cd217c22d5fe",
   "metadata": {},
   "outputs": [
    {
     "name": "stdout",
     "output_type": "stream",
     "text": [
      "Day 1 total score: 22\n",
      "Day 2 total score: 42\n",
      "Day 3 total score: 41\n"
     ]
    }
   ],
   "source": [
    "for day_index, score in enumerate(total_scores, start=1):\n",
    "    print(f\"Day {day_index} total score: {score}\")\n"
   ]
  },
  {
   "cell_type": "code",
   "execution_count": 70,
   "id": "903e32af-81e1-4925-9d56-fcfb4e852216",
   "metadata": {},
   "outputs": [
    {
     "name": "stdout",
     "output_type": "stream",
     "text": [
      "any_missed = True\n",
      "all_done = False\n"
     ]
    }
   ],
   "source": [
    "team_tasks = [\n",
    "    [True, True, True],       # Alice\n",
    "    [True, False, True],      # Bob\n",
    "    [False, True, True]        # Carol\n",
    "]\n",
    "\n",
    "any_missed = False\n",
    "all_done = True\n",
    "\n",
    "for i in range(len(team_tasks)):\n",
    "    person = team_tasks[i]\n",
    "\n",
    "    # If someone did not complete all tasks\n",
    "    if not all(person):\n",
    "        any_missed = True\n",
    "\n",
    "    # Only true if everyone did all tasks\n",
    "    all_done = all_done and all(person)\n",
    "\n",
    "print(\"any_missed =\", any_missed)\n",
    "print(\"all_done =\", all_done)\n",
    "\n"
   ]
  },
  {
   "cell_type": "code",
   "execution_count": null,
   "id": "3f87f61b-77b1-4260-a60f-ff055bc09d5f",
   "metadata": {},
   "outputs": [],
   "source": []
  }
 ],
 "metadata": {
  "kernelspec": {
   "display_name": "Python 3 (ipykernel)",
   "language": "python",
   "name": "python3"
  },
  "language_info": {
   "codemirror_mode": {
    "name": "ipython",
    "version": 3
   },
   "file_extension": ".py",
   "mimetype": "text/x-python",
   "name": "python",
   "nbconvert_exporter": "python",
   "pygments_lexer": "ipython3",
   "version": "3.13.0"
  }
 },
 "nbformat": 4,
 "nbformat_minor": 5
}
