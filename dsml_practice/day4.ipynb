{
 "cells": [
  {
   "cell_type": "code",
   "execution_count": 7,
   "id": "449192cb-2308-40c4-91e0-9da45bc71496",
   "metadata": {},
   "outputs": [],
   "source": [
    "person1={\"name\":\"ram\",\n",
    "     \"age\":20,\n",
    "     \"location\":\"chabahil\",\n",
    "    \"Gender\":\"Male\"}"
   ]
  },
  {
   "cell_type": "code",
   "execution_count": 8,
   "id": "d4a9ff46-640a-4aee-84f6-446dca3b97c1",
   "metadata": {},
   "outputs": [
    {
     "data": {
      "text/plain": [
       "dict"
      ]
     },
     "execution_count": 8,
     "metadata": {},
     "output_type": "execute_result"
    }
   ],
   "source": [
    "type(dict)"
   ]
  },
  {
   "cell_type": "code",
   "execution_count": 9,
   "id": "f191fec5-ed8d-4d95-bbc0-8f92a3eac90e",
   "metadata": {},
   "outputs": [
    {
     "data": {
      "text/plain": [
       "20"
      ]
     },
     "execution_count": 9,
     "metadata": {},
     "output_type": "execute_result"
    }
   ],
   "source": [
    "person1['age']"
   ]
  },
  {
   "cell_type": "code",
   "execution_count": 14,
   "id": "f0212be7-4734-4516-a834-c3afa16cfff9",
   "metadata": {},
   "outputs": [
    {
     "data": {
      "text/plain": [
       "20"
      ]
     },
     "execution_count": 14,
     "metadata": {},
     "output_type": "execute_result"
    }
   ],
   "source": [
    "person1.get('age', 1999)"
   ]
  },
  {
   "cell_type": "code",
   "execution_count": null,
   "id": "b97aa827-77c7-4e58-a322-4a3a56db26fb",
   "metadata": {},
   "outputs": [],
   "source": [
    "#modifying"
   ]
  },
  {
   "cell_type": "code",
   "execution_count": 35,
   "id": "2198505b-290c-4df6-b8ea-4720bfe7a28d",
   "metadata": {},
   "outputs": [],
   "source": [
    "person1['age']='40'"
   ]
  },
  {
   "cell_type": "code",
   "execution_count": 36,
   "id": "80082488-ffa9-432e-9c76-4caa98abf0c5",
   "metadata": {},
   "outputs": [],
   "source": [
    "person1['favourite']= 'momo'"
   ]
  },
  {
   "cell_type": "raw",
   "id": "c12380b0-4077-43e4-9e6d-2539815ca80f",
   "metadata": {},
   "source": [
    "pr"
   ]
  },
  {
   "cell_type": "code",
   "execution_count": 37,
   "id": "b52aded9-c176-43b1-b8a3-ffc59910f1e9",
   "metadata": {},
   "outputs": [
    {
     "name": "stdout",
     "output_type": "stream",
     "text": [
      "{'name': 'ram', 'age': '40', 'location': 'chabahil', 'Gender': 'Male', 'favourite': 'momo'}\n"
     ]
    }
   ],
   "source": [
    "print(person1)"
   ]
  },
  {
   "cell_type": "code",
   "execution_count": 38,
   "id": "0c0bb228-bdde-4627-a58d-54b2490bc45f",
   "metadata": {},
   "outputs": [
    {
     "data": {
      "text/plain": [
       "dict_items([('name', 'ram'), ('age', '40'), ('location', 'chabahil'), ('Gender', 'Male'), ('favourite', 'momo')])"
      ]
     },
     "execution_count": 38,
     "metadata": {},
     "output_type": "execute_result"
    }
   ],
   "source": [
    "person1.items()"
   ]
  },
  {
   "cell_type": "code",
   "execution_count": 39,
   "id": "c8720c10-bb89-4dea-9e7e-b8a5f8a17510",
   "metadata": {},
   "outputs": [],
   "source": [
    "dict1={\"name\":\"ram\",\"city\": \"boudha\"}\n",
    "dict2={\"name2\":\"hari\", \"age\":'30'}"
   ]
  },
  {
   "cell_type": "code",
   "execution_count": 40,
   "id": "5fa3da6b-6901-445e-b214-bcadfb8cfd27",
   "metadata": {},
   "outputs": [
    {
     "data": {
      "text/plain": [
       "{'name': 'ram', 'city': 'boudha', 'name2': 'hari', 'age': '30'}"
      ]
     },
     "execution_count": 40,
     "metadata": {},
     "output_type": "execute_result"
    }
   ],
   "source": [
    "dict1| dict2"
   ]
  },
  {
   "cell_type": "code",
   "execution_count": null,
   "id": "b46e60df-2581-447d-b81b-b399004e0b35",
   "metadata": {},
   "outputs": [],
   "source": []
  },
  {
   "cell_type": "code",
   "execution_count": null,
   "id": "05b006d5-aa5d-4d08-bb7a-e33e03dfe293",
   "metadata": {},
   "outputs": [],
   "source": []
  },
  {
   "cell_type": "code",
   "execution_count": 41,
   "id": "3a3ea52b-c1d7-45a1-8d42-65826f87af03",
   "metadata": {},
   "outputs": [
    {
     "ename": "TypeError",
     "evalue": "unhashable type: 'list'",
     "output_type": "error",
     "traceback": [
      "\u001b[1;31m---------------------------------------------------------------------------\u001b[0m",
      "\u001b[1;31mTypeError\u001b[0m                                 Traceback (most recent call last)",
      "Cell \u001b[1;32mIn[41], line 1\u001b[0m\n\u001b[1;32m----> 1\u001b[0m dict1\u001b[38;5;241m=\u001b[39m{\n\u001b[0;32m      2\u001b[0m     \u001b[38;5;28msorted\u001b[39m(person1\u001b[38;5;241m.\u001b[39mitems(), \n\u001b[0;32m      3\u001b[0m     key\u001b[38;5;241m=\u001b[39m \u001b[38;5;28;01mlambda\u001b[39;00m item:item[\u001b[38;5;241m1\u001b[39m])\n\u001b[0;32m      4\u001b[0m }\n",
      "\u001b[1;31mTypeError\u001b[0m: unhashable type: 'list'"
     ]
    }
   ],
   "source": [
    "dict1={\n",
    "    sorted(person1.items(), \n",
    "    key= lambda item:item[1])\n",
    "}"
   ]
  },
  {
   "cell_type": "code",
   "execution_count": null,
   "id": "7be76532-a467-4c2c-a243-4f4fe97efcc0",
   "metadata": {},
   "outputs": [],
   "source": []
  },
  {
   "cell_type": "code",
   "execution_count": null,
   "id": "c8552f2e-e3a4-472b-ab9c-9ea25e6cac26",
   "metadata": {},
   "outputs": [],
   "source": []
  }
 ],
 "metadata": {
  "kernelspec": {
   "display_name": "Python 3 (ipykernel)",
   "language": "python",
   "name": "python3"
  },
  "language_info": {
   "codemirror_mode": {
    "name": "ipython",
    "version": 3
   },
   "file_extension": ".py",
   "mimetype": "text/x-python",
   "name": "python",
   "nbconvert_exporter": "python",
   "pygments_lexer": "ipython3",
   "version": "3.13.0"
  }
 },
 "nbformat": 4,
 "nbformat_minor": 5
}
