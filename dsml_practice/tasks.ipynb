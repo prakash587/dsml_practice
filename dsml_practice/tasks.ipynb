{
 "cells": [
  {
   "cell_type": "markdown",
   "id": "f31703f9-0931-42c3-b5b4-7f66004e9031",
   "metadata": {},
   "source": [
    "Standard Deviation : $\\sqrt{\\frac{\\sum{(X - \\bar{X})}^2}{N}}$"
   ]
  },
  {
   "cell_type": "code",
   "execution_count": 8,
   "id": "b68c617f-93c8-4b49-8963-67c7b8dc7040",
   "metadata": {},
   "outputs": [
    {
     "name": "stdout",
     "output_type": "stream",
     "text": [
      "standard devaition 2.1148823307047775\n"
     ]
    }
   ],
   "source": [
    "def standard_dev(data):\n",
    "    n=len(data)\n",
    "    mean=sum(data)/n\n",
    "    \n",
    "    sqrt_diff= [(x-mean)**2 for x in data]\n",
    "    variance=sum(sqrt_diff)/(n-1)\n",
    "    std_dev= variance **0.5\n",
    "    return std_dev\n",
    "numbers=[4,5,6,7,8,9,2,3,5,5,7]\n",
    "print(\"standard devaition\" ,standard_dev(numbers))    \n",
    "    \n"
   ]
  },
  {
   "cell_type": "code",
   "execution_count": 10,
   "id": "9b8bbb63-80d2-4667-ab0f-4b04617d07ac",
   "metadata": {},
   "outputs": [
    {
     "ename": "TypeError",
     "evalue": "unsupported operand type(s) for +: 'int' and 'list'",
     "output_type": "error",
     "traceback": [
      "\u001b[1;31m---------------------------------------------------------------------------\u001b[0m",
      "\u001b[1;31mTypeError\u001b[0m                                 Traceback (most recent call last)",
      "Cell \u001b[1;32mIn[10], line 12\u001b[0m\n\u001b[0;32m     10\u001b[0m     \u001b[38;5;28;01mreturn\u001b[39;00m std_dev\n\u001b[0;32m     11\u001b[0m numbers\u001b[38;5;241m=\u001b[39m[\u001b[38;5;241m4\u001b[39m,\u001b[38;5;241m5\u001b[39m,\u001b[38;5;241m6\u001b[39m,\u001b[38;5;241m7\u001b[39m,\u001b[38;5;241m8\u001b[39m,\u001b[38;5;241m9\u001b[39m,\u001b[38;5;241m2\u001b[39m,\u001b[38;5;241m3\u001b[39m,\u001b[38;5;241m5\u001b[39m,\u001b[38;5;241m5\u001b[39m,\u001b[38;5;241m7\u001b[39m]\n\u001b[1;32m---> 12\u001b[0m \u001b[38;5;28mprint\u001b[39m(\u001b[38;5;124m\"\u001b[39m\u001b[38;5;124mstandard devaition\u001b[39m\u001b[38;5;124m\"\u001b[39m ,\u001b[43mstandard_dev\u001b[49m\u001b[43m(\u001b[49m\u001b[43mnumbers\u001b[49m\u001b[43m)\u001b[49m)    \n",
      "Cell \u001b[1;32mIn[10], line 5\u001b[0m, in \u001b[0;36mstandard_dev\u001b[1;34m(*data)\u001b[0m\n\u001b[0;32m      3\u001b[0m \u001b[38;5;28;01mif\u001b[39;00m n\u001b[38;5;241m==\u001b[39m\u001b[38;5;241m0\u001b[39m:\n\u001b[0;32m      4\u001b[0m     \u001b[38;5;28;01mreturn\u001b[39;00m \u001b[38;5;241m0\u001b[39m\n\u001b[1;32m----> 5\u001b[0m mean\u001b[38;5;241m=\u001b[39m\u001b[38;5;28;43msum\u001b[39;49m\u001b[43m(\u001b[49m\u001b[43mdata\u001b[49m\u001b[43m)\u001b[49m\u001b[38;5;241m/\u001b[39mn\n\u001b[0;32m      7\u001b[0m sqrt_diff\u001b[38;5;241m=\u001b[39m [(x\u001b[38;5;241m-\u001b[39mmean)\u001b[38;5;241m*\u001b[39m\u001b[38;5;241m*\u001b[39m\u001b[38;5;241m2\u001b[39m \u001b[38;5;28;01mfor\u001b[39;00m x \u001b[38;5;129;01min\u001b[39;00m data]\n\u001b[0;32m      8\u001b[0m variance\u001b[38;5;241m=\u001b[39m\u001b[38;5;28msum\u001b[39m(sqrt_diff)\u001b[38;5;241m/\u001b[39m(n\u001b[38;5;241m-\u001b[39m\u001b[38;5;241m1\u001b[39m)\n",
      "\u001b[1;31mTypeError\u001b[0m: unsupported operand type(s) for +: 'int' and 'list'"
     ]
    }
   ],
   "source": [
    "def standard_dev(*data):\n",
    "    n=len(data)\n",
    "    if n==0:\n",
    "        return 0\n",
    "    mean=sum(data)/n\n",
    "    \n",
    "    sqrt_diff= [(x-mean)**2 for x in data]\n",
    "    variance=sum(sqrt_diff)/(n-1)\n",
    "    std_dev= variance **0.5\n",
    "    return std_dev\n",
    "    \n",
    "numbers=[4,5,6,7,8,9,2,3,5,5,7]\n",
    "print(\"standard devaition\" ,standard_dev(numbers))    \n",
    "    \n"
   ]
  },
  {
   "cell_type": "code",
   "execution_count": null,
   "id": "d6d34853-6b07-471c-a7f6-47236ed94d3c",
   "metadata": {},
   "outputs": [],
   "source": []
  }
 ],
 "metadata": {
  "kernelspec": {
   "display_name": "Python 3 (ipykernel)",
   "language": "python",
   "name": "python3"
  },
  "language_info": {
   "codemirror_mode": {
    "name": "ipython",
    "version": 3
   },
   "file_extension": ".py",
   "mimetype": "text/x-python",
   "name": "python",
   "nbconvert_exporter": "python",
   "pygments_lexer": "ipython3",
   "version": "3.13.0"
  }
 },
 "nbformat": 4,
 "nbformat_minor": 5
}
