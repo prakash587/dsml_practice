{
 "cells": [
  {
   "cell_type": "markdown",
   "id": "f31703f9-0931-42c3-b5b4-7f66004e9031",
   "metadata": {},
   "source": [
    "Standard Deviation : $\\sqrt{\\frac{\\sum{(X - \\bar{X})}^2}{N}}$"
   ]
  },
  {
   "cell_type": "code",
   "execution_count": 8,
   "id": "b68c617f-93c8-4b49-8963-67c7b8dc7040",
   "metadata": {},
   "outputs": [
    {
     "name": "stdout",
     "output_type": "stream",
     "text": [
      "standard devaition 2.1148823307047775\n"
     ]
    }
   ],
   "source": [
    "def standard_dev(data):\n",
    "    n=len(data)\n",
    "    mean=sum(data)/n\n",
    "    \n",
    "    sqrt_diff= [(x-mean)**2 for x in data]\n",
    "    variance=sum(sqrt_diff)/(n-1)\n",
    "    std_dev= variance **0.5\n",
    "    return std_dev\n",
    "numbers=[4,5,6,7,8,9,2,3,5,5,7]\n",
    "print(\"standard devaition\" ,standard_dev(numbers))    \n",
    "    \n"
   ]
  },
  {
   "cell_type": "code",
   "execution_count": 10,
   "id": "9b8bbb63-80d2-4667-ab0f-4b04617d07ac",
   "metadata": {},
   "outputs": [
    {
     "ename": "TypeError",
     "evalue": "unsupported operand type(s) for +: 'int' and 'list'",
     "output_type": "error",
     "traceback": [
      "\u001b[1;31m---------------------------------------------------------------------------\u001b[0m",
      "\u001b[1;31mTypeError\u001b[0m                                 Traceback (most recent call last)",
      "Cell \u001b[1;32mIn[10], line 12\u001b[0m\n\u001b[0;32m     10\u001b[0m     \u001b[38;5;28;01mreturn\u001b[39;00m std_dev\n\u001b[0;32m     11\u001b[0m numbers\u001b[38;5;241m=\u001b[39m[\u001b[38;5;241m4\u001b[39m,\u001b[38;5;241m5\u001b[39m,\u001b[38;5;241m6\u001b[39m,\u001b[38;5;241m7\u001b[39m,\u001b[38;5;241m8\u001b[39m,\u001b[38;5;241m9\u001b[39m,\u001b[38;5;241m2\u001b[39m,\u001b[38;5;241m3\u001b[39m,\u001b[38;5;241m5\u001b[39m,\u001b[38;5;241m5\u001b[39m,\u001b[38;5;241m7\u001b[39m]\n\u001b[1;32m---> 12\u001b[0m \u001b[38;5;28mprint\u001b[39m(\u001b[38;5;124m\"\u001b[39m\u001b[38;5;124mstandard devaition\u001b[39m\u001b[38;5;124m\"\u001b[39m ,\u001b[43mstandard_dev\u001b[49m\u001b[43m(\u001b[49m\u001b[43mnumbers\u001b[49m\u001b[43m)\u001b[49m)    \n",
      "Cell \u001b[1;32mIn[10], line 5\u001b[0m, in \u001b[0;36mstandard_dev\u001b[1;34m(*data)\u001b[0m\n\u001b[0;32m      3\u001b[0m \u001b[38;5;28;01mif\u001b[39;00m n\u001b[38;5;241m==\u001b[39m\u001b[38;5;241m0\u001b[39m:\n\u001b[0;32m      4\u001b[0m     \u001b[38;5;28;01mreturn\u001b[39;00m \u001b[38;5;241m0\u001b[39m\n\u001b[1;32m----> 5\u001b[0m mean\u001b[38;5;241m=\u001b[39m\u001b[38;5;28;43msum\u001b[39;49m\u001b[43m(\u001b[49m\u001b[43mdata\u001b[49m\u001b[43m)\u001b[49m\u001b[38;5;241m/\u001b[39mn\n\u001b[0;32m      7\u001b[0m sqrt_diff\u001b[38;5;241m=\u001b[39m [(x\u001b[38;5;241m-\u001b[39mmean)\u001b[38;5;241m*\u001b[39m\u001b[38;5;241m*\u001b[39m\u001b[38;5;241m2\u001b[39m \u001b[38;5;28;01mfor\u001b[39;00m x \u001b[38;5;129;01min\u001b[39;00m data]\n\u001b[0;32m      8\u001b[0m variance\u001b[38;5;241m=\u001b[39m\u001b[38;5;28msum\u001b[39m(sqrt_diff)\u001b[38;5;241m/\u001b[39m(n\u001b[38;5;241m-\u001b[39m\u001b[38;5;241m1\u001b[39m)\n",
      "\u001b[1;31mTypeError\u001b[0m: unsupported operand type(s) for +: 'int' and 'list'"
     ]
    }
   ],
   "source": [
    "def standard_dev(*data):\n",
    "    n=len(data)\n",
    "    if n==0:\n",
    "        return 0\n",
    "    mean=sum(data)/n\n",
    "    \n",
    "    sqrt_diff= [(x-mean)**2 for x in data]\n",
    "    variance=sum(sqrt_diff)/(n-1)\n",
    "    std_dev= variance **0.5\n",
    "    return std_dev\n",
    "    \n",
    "numbers=[4,5,6,7,8,9,2,3,5,5,7]\n",
    "print(\"standard devaition\" ,standard_dev(numbers))    \n",
    "    \n"
   ]
  },
  {
   "cell_type": "code",
   "execution_count": 1,
   "id": "d6d34853-6b07-471c-a7f6-47236ed94d3c",
   "metadata": {},
   "outputs": [
    {
     "name": "stdout",
     "output_type": "stream",
     "text": [
      "The Great Gatsby by Fitzgerald\n"
     ]
    }
   ],
   "source": [
    "title = \"The Great Gatsby\"\n",
    "author = \"Fitzgerald\"\n",
    "\n",
    "# Write your code below\n",
    "print(f\"{title} by {author}\")\n"
   ]
  },
  {
   "cell_type": "markdown",
   "id": "8068c39e-865d-4576-8d4d-5f6fb31fdcd0",
   "metadata": {},
   "source": [
    "Divide Pens to Students\n",
    "Write a program to divide pens among students.\n",
    "\n",
    "Imagine you have to divide 14 pens among 3 students equally. Your task is to find out:\n",
    "\n",
    "How many pens each student would get when divided equally?\n",
    "The number of pens left over (if any).\n",
    "To solve this problem:\n",
    "\n",
    "Create a variable named pen_number and assign it the value of 14.\n",
    "Create another variable named student_number and assign it the value of 3.\n",
    "Compute the number of pens each student will get and print the result.\n",
    "Compute the number of pens remaining and print the remainder."
   ]
  },
  {
   "cell_type": "code",
   "execution_count": 3,
   "id": "54406e78-b2f1-46f4-ae3b-16c01f9922c4",
   "metadata": {},
   "outputs": [
    {
     "name": "stdout",
     "output_type": "stream",
     "text": [
      "4.666666666666667\n",
      "2\n"
     ]
    }
   ],
   "source": [
    "# Replace ___ with your code below\n",
    "\n",
    "# Create pen_number and student_number variables\n",
    "pen_number= 14\n",
    "student_number=3\n",
    "# Compute the number of pens each student will get and print it\n",
    "# Hint: find the quotient\n",
    "print(pen_number/student_number)\n",
    "# Compute and print the number of remaining pens\n",
    "# Hint: find the remainder\n",
    "print(pen_number%student_number)"
   ]
  },
  {
   "cell_type": "code",
   "execution_count": 8,
   "id": "972f5ed9-ca54-4c1d-99c7-de53478538df",
   "metadata": {},
   "outputs": [
    {
     "name": "stdout",
     "output_type": "stream",
     "text": [
      "Pens for each student: 4.666666666666667\n",
      "Remaining pens: 2\n"
     ]
    }
   ],
   "source": [
    "# Replace ___ with your code below\n",
    "\n",
    "# Create pen_number and student_number variables\n",
    "pen_number= 14\n",
    "student_number=3\n",
    "# Compute the number of pens each student will get and print it\n",
    "# Hint: find the quotient\n",
    "print(f\"Pens for each student: {pen_number/student_number}\")\n",
    "# Compute and print the number of remaining pens\n",
    "# Hint: find the remainder\n",
    "print(f\"Remaining pens: {pen_number%student_number}\")"
   ]
  },
  {
   "cell_type": "code",
   "execution_count": 7,
   "id": "c91ab776-5501-4e84-8fe3-0ace17c20abc",
   "metadata": {},
   "outputs": [
    {
     "name": "stdout",
     "output_type": "stream",
     "text": [
      "Pens for each student: 4\n",
      "Remaining pens: 2\n"
     ]
    }
   ],
   "source": [
    "# Create pen_number and student_number variables\n",
    "pen_number = 14\n",
    "student_number = 3\n",
    "\n",
    "# Compute the number of pens each student will get and print it\n",
    "# Hint: find the quotient\n",
    "print(f\"Pens for each student: {pen_number // student_number}\")\n",
    "\n",
    "# Compute and print the number of remaining pens\n",
    "# Hint: find the remainder\n",
    "print(f\"Remaining pens: {pen_number % student_number}\")\n"
   ]
  },
  {
   "cell_type": "code",
   "execution_count": 10,
   "id": "3a0c10e5-67c0-4d61-9a93-99bb52cd831d",
   "metadata": {},
   "outputs": [
    {
     "name": "stdout",
     "output_type": "stream",
     "text": [
      "125\n"
     ]
    }
   ],
   "source": [
    "# Replace ___ with your code below\n",
    "\n",
    "\n",
    "# Create the length variable\n",
    "length=5\n",
    "\n",
    "\n",
    "# Calculate the volume\n",
    "volume=length**3\n",
    "\n",
    "# Print the volume\n",
    "print(volume)"
   ]
  },
  {
   "cell_type": "markdown",
   "id": "7128b1c6-fb0e-4da1-a616-22fa3a2b7aac",
   "metadata": {},
   "source": [
    "Calculate Fee Discount\n",
    "Write a Python program to calculate the fee amount after applying the discount.\n",
    "\n",
    "You are a university student, and your tuition fee is $1536.\n",
    "\n",
    "The college offers a 10% discount if you pay early.To solve this problem,\n",
    "\n",
    "Create a variable named fee and assign 1536 to it.\n",
    "Create another variable discount_percent and assign 10 to it.\n",
    "Compute the discount by using the formula (discount_percent / 100) * fee and assign it to the discount variable.\n",
    "Subtract the discount from the original fee to get the final amount.\n",
    "Print the final amount you have to pay."
   ]
  },
  {
   "cell_type": "code",
   "execution_count": 1,
   "id": "172aefd8-3a73-454d-8a2d-ffa4df20dc8a",
   "metadata": {},
   "outputs": [
    {
     "name": "stdout",
     "output_type": "stream",
     "text": [
      "153.6\n",
      "1382.4\n"
     ]
    }
   ],
   "source": [
    "# Replace ___ with your code below\n",
    "\n",
    "# Create the fee and discount_percent variables\n",
    "fee = 1536\n",
    "discount_percent=10\n",
    "\n",
    "# Compute discount and assign it to the discount variable\n",
    "discount=fee * discount_percent /100\n",
    "\n",
    "# Compute and print the fee you have to pay\n",
    "print(discount)\n",
    "final_fees_paid=fee-discount\n",
    "print(final_fees_paid)"
   ]
  },
  {
   "cell_type": "markdown",
   "id": "4e2bfb27-2ed1-4e3f-9b10-c5cf1a0af613",
   "metadata": {},
   "source": [
    "1. Student Class with Grade Check\n",
    "Task:\n",
    "Create a Student class with attributes: name, age, and marks (private).\n",
    "Add methods to:\n",
    "\n",
    "Set marks\n",
    "\n",
    "Get marks\n",
    "\n",
    "Print a message if the student passed (marks ≥ 40)\n",
    "\n",
    "Hint:\n",
    "\n",
    "Use self.__marks for private variable.\n",
    "\n",
    "Use if condition inside a method like check_pass()."
   ]
  },
  {
   "cell_type": "code",
   "execution_count": 3,
   "id": "c07c5aa3-8db8-4d46-be15-6fc03071a1e6",
   "metadata": {},
   "outputs": [],
   "source": [
    "class Student:\n",
    "    def __init__(self, name, age,marks):\n",
    "        \n",
    "        self.name=name\n",
    "        self.age=age\n",
    "        self.__marks=marks\n",
    "\n",
    "    def get_marks(self):\n",
    "        return self.__marks\n",
    "\n",
    "    def set_marks(self):\n",
    "        if 0<=marks <=100:\n",
    "            return self.__marks \n",
    "        else:\n",
    "            print(\"Invalild mark. please entere value between 0 to 100\")\n",
    "        "
   ]
  },
  {
   "cell_type": "code",
   "execution_count": 4,
   "id": "69be3500-3986-4290-8417-69e1d57b1c4d",
   "metadata": {},
   "outputs": [],
   "source": [
    "student1=Student('prakssh', 10,45)"
   ]
  },
  {
   "cell_type": "code",
   "execution_count": 5,
   "id": "ac13f628-84c2-495a-9079-ed077966be09",
   "metadata": {},
   "outputs": [
    {
     "data": {
      "text/plain": [
       "45"
      ]
     },
     "execution_count": 5,
     "metadata": {},
     "output_type": "execute_result"
    }
   ],
   "source": [
    "student1.get_marks()"
   ]
  },
  {
   "cell_type": "markdown",
   "id": "c4af8621-dd20-424d-b596-f96730d6e557",
   "metadata": {},
   "source": [
    "3. Employee Salary Raise\n",
    "Task:\n",
    "Create an Employee class with name, and __salary.\n",
    "Add methods:\n",
    "\n",
    "display_salary()\n",
    "\n",
    "apply_raise(percent) — increase salary by given percent.\n",
    "\n",
    "Hint:\n",
    "Use private variable with __salary.\n",
    "Increase using:\n",
    "self.__salary += self.__salary * (percent / 100)"
   ]
  },
  {
   "cell_type": "code",
   "execution_count": 16,
   "id": "06f659aa-a663-42ea-b8c6-80ab6a4e23cc",
   "metadata": {},
   "outputs": [],
   "source": [
    "class Employee:\n",
    "    def __init__(self, name, salary):\n",
    "        self.name=name\n",
    "        self.__salary= salary\n",
    "\n",
    "\n",
    "    def display_salary(self):\n",
    "        return self.__salary\n",
    "\n",
    "    def apply_raise(self,percent):\n",
    "        self.percent=percent\n",
    "        self.__salary += self.__salary *(percent/100)\n",
    "        return self.__salary\n",
    "\n",
    "\n",
    "\n",
    "        \n",
    "        "
   ]
  },
  {
   "cell_type": "code",
   "execution_count": 17,
   "id": "ab1a977e-ad7f-462b-bd61-20e18ca1d9ed",
   "metadata": {},
   "outputs": [],
   "source": [
    "obj=Employee(\"ram\", 20000)\n"
   ]
  },
  {
   "cell_type": "code",
   "execution_count": 18,
   "id": "16827367-aae3-459e-8dcf-8ef53fbe807e",
   "metadata": {},
   "outputs": [
    {
     "data": {
      "text/plain": [
       "20000"
      ]
     },
     "execution_count": 18,
     "metadata": {},
     "output_type": "execute_result"
    }
   ],
   "source": [
    "obj.display_salary()"
   ]
  },
  {
   "cell_type": "code",
   "execution_count": 20,
   "id": "2b7fa6c8-d1df-4660-8647-ae42c9ebd439",
   "metadata": {},
   "outputs": [
    {
     "data": {
      "text/plain": [
       "23540.0"
      ]
     },
     "execution_count": 20,
     "metadata": {},
     "output_type": "execute_result"
    }
   ],
   "source": [
    "obj.apply_raise(10)"
   ]
  },
  {
   "cell_type": "markdown",
   "id": "d58b6d0e-b7dc-47c1-9bd0-13d1d11b2ae6",
   "metadata": {},
   "source": [
    "4. Vehicle and Car (Inheritance)\n",
    "Task:\n",
    "Create a base class Vehicle with attributes: brand, year.\n",
    "Create a subclass Car that adds model.\n",
    "Add a method in both to print full description.\n",
    "\n",
    "Hint:\n",
    "Use super().__init__() in Car class to call the parent constructor."
   ]
  },
  {
   "cell_type": "code",
   "execution_count": 38,
   "id": "a0b04c2e-6974-4dc7-9645-f7ceee86a727",
   "metadata": {},
   "outputs": [],
   "source": [
    "class Vehicle:\n",
    "    def __init__(self, brand, year):\n",
    "        self.brand=brand\n",
    "        self.year=year\n",
    "\n",
    "    def speed(self):\n",
    "        return \"moving fast\"\n",
    "        \n",
    "class Car(Vehicle):\n",
    "    def __init__(self,brand, year, model):\n",
    "        super().__init__(brand, year)\n",
    "        self.model=model\n",
    "        \n",
    "\n",
    "    def speed(self):\n",
    "        return \"moving slow\""
   ]
  },
  {
   "cell_type": "code",
   "execution_count": 42,
   "id": "f7d86acb-1ac4-4875-9090-3e82a4218aca",
   "metadata": {},
   "outputs": [
    {
     "name": "stdout",
     "output_type": "stream",
     "text": [
      "moving fast\n",
      "moving slow\n"
     ]
    }
   ],
   "source": [
    "# Creating Vehicle object\n",
    "vehicle1 = Vehicle(\"BMW\", 2023)\n",
    "print(vehicle1.speed())  # Output: Brand: BMW, Year: 2023\n",
    "\n",
    "# Creating Car object\n",
    "car1 = Car(\"Toyota\", 2024, \"Corolla\")\n",
    "print(car1.speed())  # Output: Brand: Toyota, Year: 2024, Model: Corolla\n"
   ]
  },
  {
   "cell_type": "markdown",
   "id": "201b4526-7c97-4ac0-a92d-c917815aaadb",
   "metadata": {},
   "source": [
    "5. Bank with Minimum Balance Check\n",
    "Task:\n",
    "Create a BankAccount class with a minimum balance requirement (e.g., ₹500).\n",
    "If withdrawal causes balance to go below minimum, reject it.\n",
    "\n",
    "Hint:\n",
    "Add an if check inside withdraw() method:"
   ]
  },
  {
   "cell_type": "code",
   "execution_count": 116,
   "id": "682f5ef7-0064-4603-9002-0607c63d6b66",
   "metadata": {},
   "outputs": [],
   "source": [
    "class BankAccount:\n",
    "    def __init__(self, balance):\n",
    "        self.__balance=balance\n",
    "\n",
    "    def withdraw(self,amount):\n",
    "        self.amount=amount\n",
    "        minimum_balance=500\n",
    "        if self.__balance<=minimum_balance:\n",
    "            return \"can't withdrw\"\n",
    "        else:\n",
    "            return print(f\" amount:{amount} your current balance is {self.__balance-amount}\")\n",
    "        "
   ]
  },
  {
   "cell_type": "code",
   "execution_count": 119,
   "id": "dc5eee89-6d6f-4f01-841f-122ede77e24c",
   "metadata": {},
   "outputs": [],
   "source": [
    "obj1=BankAccount(500)"
   ]
  },
  {
   "cell_type": "code",
   "execution_count": 120,
   "id": "e4d396be-6d49-4ae0-9873-29182b67a357",
   "metadata": {},
   "outputs": [
    {
     "data": {
      "text/plain": [
       "\"can't withdrw\""
      ]
     },
     "execution_count": 120,
     "metadata": {},
     "output_type": "execute_result"
    }
   ],
   "source": [
    "obj1.withdraw(400)"
   ]
  },
  {
   "cell_type": "markdown",
   "id": "e25a83b3-e244-40aa-909e-a84eb1e937b8",
   "metadata": {},
   "source": [
    "\n",
    "6. Book Collection with Search\n",
    "Task:\n",
    "Create a Book class (title, author, year).\n",
    "Create a class Library that stores a list of books.\n",
    "Add methods:\n",
    "\n",
    "add_book()\n",
    "\n",
    "search_by_author()\n",
    "\n",
    "Hint:\n",
    "Use a list of Book objects in Library.\n",
    "Use list comprehension to filter matching books."
   ]
  },
  {
   "cell_type": "code",
   "execution_count": 2,
   "id": "440e40b3-04ec-426f-81b8-21322c0011d1",
   "metadata": {},
   "outputs": [],
   "source": [
    "class Book:\n",
    "    def __init__(self, title, author, year):\n",
    "        self.title = title\n",
    "        self.author = author\n",
    "        self.year = year\n",
    "\n",
    "    def __str__(self):\n",
    "        return f\"{self.title} by {self.author} ({self.year})\"\n",
    "\n",
    "class Library:\n",
    "    def __init__(self):\n",
    "        self.books = []  # list to store Book objects\n",
    "\n",
    "    def add_book(self, book):\n",
    "        self.books.append(book)\n",
    "\n",
    "    def search_by_author(self, author_name):\n",
    "        return [book for book in self.books if book.author.lower() == author_name.lower()]\n"
   ]
  },
  {
   "cell_type": "code",
   "execution_count": 3,
   "id": "b1ec0e7a-c31d-4681-998d-18bcc7c66ff9",
   "metadata": {},
   "outputs": [
    {
     "name": "stdout",
     "output_type": "stream",
     "text": [
      "The Alchemist by Paulo Coelho (1988)\n",
      "Brida by Paulo Coelho (1990)\n"
     ]
    }
   ],
   "source": [
    "# Create books\n",
    "b1 = Book(\"The Alchemist\", \"Paulo Coelho\", 1988)\n",
    "b2 = Book(\"Brida\", \"Paulo Coelho\", 1990)\n",
    "b3 = Book(\"1984\", \"George Orwell\", 1949)\n",
    "\n",
    "# Create library and add books\n",
    "lib = Library()\n",
    "lib.add_book(b1)\n",
    "lib.add_book(b2)\n",
    "lib.add_book(b3)\n",
    "\n",
    "# Search books by author\n",
    "results = lib.search_by_author(\"Paulo Coelho\")\n",
    "for book in results:\n",
    "    print(book)\n"
   ]
  },
  {
   "cell_type": "markdown",
   "id": "2ffb5870-713d-480e-9dd7-47de3c6c61e5",
   "metadata": {},
   "source": [
    "8. Temperature Converter\n",
    "Task:\n",
    "Create a class that converts Celsius ↔ Fahrenheit.\n",
    "\n",
    "Add methods to_fahrenheit() and to_celsius().\n",
    "\n",
    "Hint:\n",
    "F = C × 9/5 + 32\n",
    "C = (F − 32) × 5/9\n",
    "        "
   ]
  },
  {
   "cell_type": "code",
   "execution_count": 60,
   "id": "50fa1361-be47-45ca-a9aa-866edd804550",
   "metadata": {},
   "outputs": [],
   "source": [
    "class Temperature:\n",
    "    def __init__(self, degree, scale=\"C\"):\n",
    "        self.degree = degree\n",
    "        self.scale = scale.upper()  # \"C\" or \"F\"\n",
    "\n",
    "    def to_fahrenheit(self):\n",
    "        if self.scale == \"C\":\n",
    "            return (self.degree * 9/5) + 32\n",
    "        elif self.scale == \"F\":\n",
    "            return self.degree\n",
    "        else:\n",
    "            raise ValueError(\"Scale must be 'C' or 'F'\")\n",
    "\n",
    "    def to_celsius(self):\n",
    "        if self.scale == \"F\":\n",
    "            return (self.degree - 32) * 5/9\n",
    "        elif self.scale == \"C\":\n",
    "            return self.degree\n",
    "        else:\n",
    "            raise ValueError(\"Scale must be 'C' or 'F'\")\n"
   ]
  },
  {
   "cell_type": "code",
   "execution_count": 61,
   "id": "53278725-9df6-4f78-a5bc-047ca7b26b67",
   "metadata": {},
   "outputs": [
    {
     "name": "stdout",
     "output_type": "stream",
     "text": [
      "Celsius to Fahrenheit: 212.0\n",
      "Fahrenheit to Celsius: 100.0\n"
     ]
    }
   ],
   "source": [
    "t1 = Temperature(100, \"C\")\n",
    "print(\"Celsius to Fahrenheit:\", t1.to_fahrenheit())  # 212.0\n",
    "\n",
    "t2 = Temperature(212, \"F\")\n",
    "print(\"Fahrenheit to Celsius:\", t2.to_celsius())  # 100.0\n"
   ]
  },
  {
   "cell_type": "code",
   "execution_count": 65,
   "id": "bb70b518-e57c-4255-8c98-538bdc0aec88",
   "metadata": {},
   "outputs": [
    {
     "data": {
      "text/plain": [
       "212.0"
      ]
     },
     "execution_count": 65,
     "metadata": {},
     "output_type": "execute_result"
    }
   ],
   "source": [
    "t1.to_fahrenheit()"
   ]
  },
  {
   "cell_type": "code",
   "execution_count": 66,
   "id": "dde7872a-c4fe-4fb6-afed-be091e324997",
   "metadata": {},
   "outputs": [
    {
     "data": {
      "text/plain": [
       "100.0"
      ]
     },
     "execution_count": 66,
     "metadata": {},
     "output_type": "execute_result"
    }
   ],
   "source": [
    "t2.to_celsius()"
   ]
  },
  {
   "cell_type": "markdown",
   "id": "b0e2d376-122d-48d5-971e-28c4e96d637f",
   "metadata": {},
   "source": [
    "9. E-Wallet App\n",
    "Task:\n",
    "Create a Wallet class that stores balance (private).\n",
    "Add methods to:\n",
    "\n",
    "Add money\n",
    "\n",
    "Spend money\n",
    "\n",
    "Check balance\n",
    "\n",
    "Hint:\n",
    "Block spending if balance isn't enough."
   ]
  },
  {
   "cell_type": "code",
   "execution_count": 118,
   "id": "4724c583-5689-4de6-a691-a7250aa5eb23",
   "metadata": {},
   "outputs": [],
   "source": [
    "class Wallet:\n",
    "    def __init__(self, balance=0):\n",
    "        self.__balance = balance  # private balance\n",
    "\n",
    "    def add_money(self, amount):\n",
    "        if amount > 0:\n",
    "            self.__balance += amount\n",
    "            return f\"Added ₹{amount}. New balance: ₹{self.__balance}\"\n",
    "        else:\n",
    "            return \"Amount must be positive.\"\n",
    "\n",
    "    def spend_money(self, amount):\n",
    "        if amount <= self.__balance:\n",
    "            self.__balance -= amount\n",
    "            return f\"Spent ₹{amount}. Remaining balance: ₹{self.__balance}\"\n",
    "        else:\n",
    "            return \"Insufficient balance!\"\n",
    "\n",
    "    def check_balance(self):\n",
    "        return f\"Current balance: ₹{self.__balance}\"\n"
   ]
  },
  {
   "cell_type": "code",
   "execution_count": 119,
   "id": "8d06cd22-9c8f-4d41-8fc2-cf5f87a9ede3",
   "metadata": {},
   "outputs": [],
   "source": [
    "bank= Wallet(4000)\n"
   ]
  },
  {
   "cell_type": "code",
   "execution_count": 120,
   "id": "4171b979-24fa-4857-a7f7-ebcd0706385a",
   "metadata": {},
   "outputs": [
    {
     "ename": "AttributeError",
     "evalue": "'Wallet' object has no attribute 'balance'",
     "output_type": "error",
     "traceback": [
      "\u001b[1;31m---------------------------------------------------------------------------\u001b[0m",
      "\u001b[1;31mAttributeError\u001b[0m                            Traceback (most recent call last)",
      "Cell \u001b[1;32mIn[120], line 1\u001b[0m\n\u001b[1;32m----> 1\u001b[0m \u001b[43mbank\u001b[49m\u001b[38;5;241;43m.\u001b[39;49m\u001b[43mbalance\u001b[49m()\n",
      "\u001b[1;31mAttributeError\u001b[0m: 'Wallet' object has no attribute 'balance'"
     ]
    }
   ],
   "source": [
    "bank.balance()"
   ]
  },
  {
   "cell_type": "code",
   "execution_count": 121,
   "id": "ac13e28b-be7c-4c53-9c60-812fb57c1465",
   "metadata": {},
   "outputs": [
    {
     "data": {
      "text/plain": [
       "'Added ₹400. New balance: ₹4400'"
      ]
     },
     "execution_count": 121,
     "metadata": {},
     "output_type": "execute_result"
    }
   ],
   "source": [
    "bank.add_money(400)"
   ]
  },
  {
   "cell_type": "code",
   "execution_count": 122,
   "id": "98dc389b-dc11-48b6-bf89-06e681a9ec58",
   "metadata": {},
   "outputs": [
    {
     "data": {
      "text/plain": [
       "'Spent ₹3000. Remaining balance: ₹1400'"
      ]
     },
     "execution_count": 122,
     "metadata": {},
     "output_type": "execute_result"
    }
   ],
   "source": [
    "bank.spend_money(3000)"
   ]
  },
  {
   "cell_type": "code",
   "execution_count": 123,
   "id": "1ae77436-184b-45b1-9f78-528154576532",
   "metadata": {},
   "outputs": [
    {
     "name": "stdout",
     "output_type": "stream",
     "text": [
      "Current balance: ₹500\n",
      "Added ₹200. New balance: ₹700\n",
      "Spent ₹300. Remaining balance: ₹400\n",
      "Insufficient balance!\n",
      "Current balance: ₹400\n"
     ]
    }
   ],
   "source": [
    "wallet = Wallet(500)\n",
    "\n",
    "print(wallet.check_balance())            # Current balance: ₹500\n",
    "print(wallet.add_money(200))            # Added ₹200. New balance: ₹700\n",
    "print(wallet.spend_money(300))          # Spent ₹300. Remaining balance: ₹400\n",
    "print(wallet.spend_money(500))          # Insufficient balance!\n",
    "print(wallet.check_balance())           # Current balance: ₹400\n"
   ]
  },
  {
   "cell_type": "code",
   "execution_count": null,
   "id": "d30f98d2-a945-4080-b39d-590d3e026fbb",
   "metadata": {},
   "outputs": [],
   "source": []
  }
 ],
 "metadata": {
  "kernelspec": {
   "display_name": "Python 3 (ipykernel)",
   "language": "python",
   "name": "python3"
  },
  "language_info": {
   "codemirror_mode": {
    "name": "ipython",
    "version": 3
   },
   "file_extension": ".py",
   "mimetype": "text/x-python",
   "name": "python",
   "nbconvert_exporter": "python",
   "pygments_lexer": "ipython3",
   "version": "3.13.0"
  }
 },
 "nbformat": 4,
 "nbformat_minor": 5
}
