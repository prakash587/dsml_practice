{
 "cells": [
  {
   "cell_type": "code",
   "execution_count": 2,
   "id": "2590f5e3-1da2-4bb3-8c97-df783b185ddf",
   "metadata": {},
   "outputs": [
    {
     "name": "stdin",
     "output_type": "stream",
     "text": [
      "enter a num 11\n"
     ]
    },
    {
     "name": "stdout",
     "output_type": "stream",
     "text": [
      "11 * 1= 11\n",
      "11 * 2= 22\n",
      "11 * 3= 33\n",
      "11 * 4= 44\n",
      "11 * 5= 55\n",
      "11 * 6= 66\n",
      "11 * 7= 77\n",
      "11 * 8= 88\n",
      "11 * 9= 99\n",
      "11 * 10= 110\n"
     ]
    }
   ],
   "source": [
    "mul=int(input('enter a num'))\n",
    "\n",
    "for i in range(1,11):\n",
    "    print(f\"{mul} * {i}= {mul*i}\")"
   ]
  },
  {
   "cell_type": "code",
   "execution_count": 11,
   "id": "b30dd14d-412f-4801-b168-21e435a24d71",
   "metadata": {},
   "outputs": [
    {
     "name": "stdout",
     "output_type": "stream",
     "text": [
      "1is odd\n",
      "2 is even\n",
      "3is odd\n",
      "4 is even\n",
      "5is odd\n",
      "6 is even\n",
      "7is odd\n",
      "8 is even\n",
      "9is odd\n",
      "0 is even\n"
     ]
    }
   ],
   "source": [
    "lst=[1,2,3,4,5,6,7,8,9,0]\n",
    "for i in lst:\n",
    "    if i % 2== 0:\n",
    "        print(f\"{i} is even\")\n",
    "    else:\n",
    "        print(f\"{i}is odd\")\n",
    "\n",
    "    \n",
    "\n",
    "\n",
    "\n"
   ]
  },
  {
   "cell_type": "code",
   "execution_count": 14,
   "id": "b9c98de9-cdfd-46cc-a242-bc2a7202a55f",
   "metadata": {},
   "outputs": [
    {
     "name": "stdout",
     "output_type": "stream",
     "text": [
      "Even numbers are: [2, 4, 6, 8, 0, 22, 44, 66, 88]\n",
      "Odd numbers are: [1, 3, 5, 7, 9, 11, 33, 55, 777]\n"
     ]
    }
   ],
   "source": [
    "odd, even = [], []\n",
    "\n",
    "numbers = [1, 2, 3, 4, 5, 6, 7, 8, 9, 0, 11, 22, 33, 44, 55, 66, 777, 88]\n",
    "\n",
    "for num in numbers:\n",
    "    if num % 2 == 0:\n",
    "        even.append(num)\n",
    "    else:\n",
    "        odd.append(num)\n",
    "\n",
    "print(f\"Even numbers are: {even}\")\n",
    "print(f\"Odd numbers are: {odd}\")\n"
   ]
  },
  {
   "cell_type": "code",
   "execution_count": null,
   "id": "059a9717-73f8-4c10-8a1e-d2ac6adb8c3a",
   "metadata": {},
   "outputs": [],
   "source": [
    "i=0\n",
    "\n",
    "while i<5:\n",
    "    print(i)\n",
    "    i=i+1"
   ]
  },
  {
   "cell_type": "code",
   "execution_count": 3,
   "id": "cb92777d-0889-497b-9068-3d9f274fe352",
   "metadata": {},
   "outputs": [
    {
     "name": "stdout",
     "output_type": "stream",
     "text": [
      "0\n",
      "1\n",
      "2\n",
      "3\n",
      "4\n"
     ]
    }
   ],
   "source": [
    "i =0\n",
    "while i <10:\n",
    "    print (i)\n",
    "    i=i+1\n",
    "    if i==5:\n",
    "        break"
   ]
  },
  {
   "cell_type": "code",
   "execution_count": 2,
   "id": "7a972745-0a17-4706-94d5-32a78c489ac5",
   "metadata": {},
   "outputs": [
    {
     "name": "stdout",
     "output_type": "stream",
     "text": [
      "0\n",
      "1\n",
      "2\n",
      "3\n",
      "4\n"
     ]
    }
   ],
   "source": [
    "i = 0\n",
    "while i < 10:\n",
    "    print(i)\n",
    "    i = i + 1\n",
    "    if i == 5:\n",
    "        break\n"
   ]
  },
  {
   "cell_type": "code",
   "execution_count": 4,
   "id": "1c200a1a-7ac2-4604-baeb-1d9c6b6e27a0",
   "metadata": {},
   "outputs": [
    {
     "name": "stdout",
     "output_type": "stream",
     "text": [
      "ram\n",
      "ram\n",
      "shyam\n",
      "hari\n",
      "hari\n"
     ]
    }
   ],
   "source": [
    "names=['ram', 'shyam', 'hari']\n",
    "for name in names:\n",
    "    print (name)\n",
    "    if name== 'shyam':\n",
    "        continue\n",
    "    print(name)"
   ]
  },
  {
   "cell_type": "code",
   "execution_count": 14,
   "id": "93024700-faf8-4d56-98d1-ae4747bb4520",
   "metadata": {},
   "outputs": [
    {
     "name": "stdout",
     "output_type": "stream",
     "text": [
      "sum of first five natural number 505 105\n"
     ]
    }
   ],
   "source": [
    "num=505\n",
    "sum=0\n",
    "i=1\n",
    "while i<=num:\n",
    "    sum =sum+i\n",
    "    i=i+1\n",
    "    if sum >100:\n",
    "        break\n",
    "print (\"sum of first five natural number\", num , sum)"
   ]
  },
  {
   "cell_type": "code",
   "execution_count": 15,
   "id": "74c405a8-78fe-485d-9b06-1bf57fcc905d",
   "metadata": {},
   "outputs": [
    {
     "name": "stdout",
     "output_type": "stream",
     "text": [
      "sum of first five natural number 505 127765\n"
     ]
    }
   ],
   "source": [
    "num=505\n",
    "sum=0\n",
    "i=1\n",
    "while i<=num:\n",
    "    sum =sum+i\n",
    "    i=i+1\n",
    "print (\"sum of first five natural number\", num , sum)"
   ]
  },
  {
   "cell_type": "code",
   "execution_count": 20,
   "id": "fe8ffb7f-4f50-4aa7-b03c-f64bda497604",
   "metadata": {},
   "outputs": [
    {
     "name": "stdout",
     "output_type": "stream",
     "text": [
      "sum of first five natural number 10 3628800\n"
     ]
    }
   ],
   "source": [
    "num=10\n",
    "prod=1\n",
    "i=1\n",
    "while i<=num:\n",
    "    prod =prod*i\n",
    "    i=i+1\n",
    "    \n",
    "print (\"sum of first five natural number\", num , prod)"
   ]
  },
  {
   "cell_type": "code",
   "execution_count": 21,
   "id": "4dcf02a8-143a-4fed-b68d-5d51aefffffc",
   "metadata": {},
   "outputs": [
    {
     "name": "stdout",
     "output_type": "stream",
     "text": [
      "A : 1\n",
      "single : 6\n",
      "training : 8\n",
      "set : 3\n",
      "that : 4\n",
      "has : 3\n",
      "already : 7\n",
      "been : 4\n",
      "processed : 9\n",
      "is : 2\n",
      "usually : 7\n",
      "split : 5\n",
      "into : 4\n",
      "several : 7\n",
      "types : 5\n",
      "of : 2\n",
      "datasets : 8\n",
      "in : 2\n",
      "machine : 7\n",
      "learning : 8\n",
      "which : 5\n",
      "is : 2\n",
      "needed : 6\n",
      "to : 2\n",
      "check : 5\n",
      "how : 3\n",
      "well : 4\n",
      "the : 3\n",
      "training : 8\n",
      "of : 2\n",
      "the : 3\n",
      "model : 5\n",
      "went : 4\n"
     ]
    }
   ],
   "source": [
    "sent = \"A single training set that has already been processed is usually split into several types of datasets in machine learning which is needed to check how well the training of the model went\"\n",
    "\n",
    "# Split sentence into words\n",
    "words = sent.split()\n",
    "\n",
    "# Count letters for each word\n",
    "for word in words:\n",
    "    print(f\"{word} : {len(word)}\")\n"
   ]
  },
  {
   "cell_type": "code",
   "execution_count": 1,
   "id": "55943311-13e1-43e9-9240-f51c7c920f74",
   "metadata": {},
   "outputs": [
    {
     "name": "stdout",
     "output_type": "stream",
     "text": [
      "Words: ['A', 'single', 'training', 'set', 'that', 'has', 'already', 'been', 'processed', 'is', 'usually', 'split', 'into', 'several', 'types', 'of', 'datasets', 'in', 'machine', 'learning', 'which', 'is', 'needed', 'to', 'check', 'how', 'well', 'the', 'training', 'of', 'the', 'model', 'went']\n",
      "Lengths: [1, 6, 8, 3, 4, 3, 7, 4, 9, 2, 7, 5, 4, 7, 5, 2, 8, 2, 7, 8, 5, 2, 6, 2, 5, 3, 4, 3, 8, 2, 3, 5, 4]\n"
     ]
    }
   ],
   "source": [
    "sent = \"A single training set that has already been processed is usually split into several types of datasets in machine learning which is needed to check how well the training of the model went\"\n",
    "\n",
    "# Split sentence into words\n",
    "words = sent.split()\n",
    "\n",
    "# Create two separate lists\n",
    "word_list = [word for word in words]\n",
    "length_list = [len(word) for word in words]\n",
    "\n",
    "print(\"Words:\", word_list)\n",
    "print(\"Lengths:\", length_list)\n"
   ]
  },
  {
   "cell_type": "markdown",
   "id": "f115ffe6-9c2f-4b7a-a156-8b3efee26a3e",
   "metadata": {},
   "source": [
    "1. Print numbers from 1 to 10\n",
    "🧠 Hint: for i in range(1, 11):"
   ]
  },
  {
   "cell_type": "code",
   "execution_count": 2,
   "id": "48a92ffa-2bc5-4bfd-9586-1088696b226f",
   "metadata": {},
   "outputs": [
    {
     "name": "stdout",
     "output_type": "stream",
     "text": [
      "1\n",
      "2\n",
      "3\n",
      "4\n",
      "5\n",
      "6\n",
      "7\n",
      "8\n",
      "9\n",
      "10\n"
     ]
    }
   ],
   "source": [
    "for i in range(1, 11):\n",
    "    print(i)"
   ]
  },
  {
   "cell_type": "markdown",
   "id": "2491d9d8-f2b2-4937-973a-49e1eeb913fc",
   "metadata": {},
   "source": [
    "2. Print even numbers from 1 to 50\n",
    "🧠 Hint: Use step in range(start, end, step) → range(2, 51, 2)"
   ]
  },
  {
   "cell_type": "code",
   "execution_count": 10,
   "id": "e97af7c0-e2b8-4cf0-852b-18c68daa3ca3",
   "metadata": {},
   "outputs": [
    {
     "name": "stdout",
     "output_type": "stream",
     "text": [
      "2\n",
      "4\n",
      "6\n",
      "8\n",
      "10\n",
      "12\n",
      "14\n",
      "16\n",
      "18\n",
      "20\n",
      "22\n",
      "24\n",
      "26\n",
      "28\n",
      "30\n",
      "32\n",
      "34\n",
      "36\n",
      "38\n",
      "40\n",
      "42\n",
      "44\n",
      "46\n",
      "48\n",
      "50\n"
     ]
    }
   ],
   "source": [
    "for i in range (2,51,2):\n",
    "    \n",
    "    print(i)"
   ]
  },
  {
   "cell_type": "markdown",
   "id": "37189f3d-17c4-42c3-9601-799f1d625966",
   "metadata": {},
   "source": [
    "3. Print numbers in reverse from 10 to 1\n",
    "🧠 Hint: range(10, 0, -1)"
   ]
  },
  {
   "cell_type": "code",
   "execution_count": 14,
   "id": "a894a3f3-deed-4f67-9c7f-a309f54931f0",
   "metadata": {},
   "outputs": [
    {
     "name": "stdout",
     "output_type": "stream",
     "text": [
      "10\n",
      "9\n",
      "8\n",
      "7\n",
      "6\n",
      "5\n",
      "4\n",
      "3\n",
      "2\n",
      "1\n"
     ]
    }
   ],
   "source": [
    "for i in range(10,0,-1):\n",
    "    print(i)"
   ]
  },
  {
   "cell_type": "markdown",
   "id": "06326039-de0d-4c4a-96a2-a32a8c015fdc",
   "metadata": {},
   "source": [
    "4. Print sum of numbers from 1 to N\n",
    "🧠 Hint: Initialize total = 0, add i in a for or while loop."
   ]
  },
  {
   "cell_type": "code",
   "execution_count": null,
   "id": "8f4b829c-0675-48f6-b404-1f767db73b07",
   "metadata": {},
   "outputs": [],
   "source": [
    "\n",
    "\n",
    "n = int(input(\"Enter a number: \"))\n",
    "total = 0\n",
    "i = 1\n",
    "\n",
    "while i <= n:\n",
    "    total += i\n",
    "    i += 1\n",
    "\n",
    "print(\"Sum from 1 to\", n, \"is:\", total)\n"
   ]
  },
  {
   "cell_type": "markdown",
   "id": "0f569938-0849-4b29-9f13-9fc315b15b5e",
   "metadata": {},
   "source": [
    "7. Count digits in a number\n",
    "Input: 12345 → Output: 5\n",
    "🧠 Hint: Use while num > 0: → num //= 10"
   ]
  },
  {
   "cell_type": "code",
   "execution_count": 3,
   "id": "326bcd01-7251-46cd-a085-bcd7a003ac95",
   "metadata": {},
   "outputs": [
    {
     "name": "stdout",
     "output_type": "stream",
     "text": [
      "Number of digits: 10\n"
     ]
    }
   ],
   "source": [
    "num = 1234562222  # You can change this to any number\n",
    "count = 0\n",
    "\n",
    "while num > 0:\n",
    "    num //= 10\n",
    "    count += 1\n",
    "\n",
    "print(\"Number of digits:\", count)\n"
   ]
  },
  {
   "cell_type": "markdown",
   "id": "c22f5f27-ef6e-4756-87f4-2034058ad715",
   "metadata": {},
   "source": [
    "8. Reverse a number\n",
    "Input: 1234 → Output: 4321\n",
    "🧠 Hint: Use modulus and division"
   ]
  },
  {
   "cell_type": "code",
   "execution_count": 7,
   "id": "6469a70a-1509-4fca-8718-fbc487c03198",
   "metadata": {},
   "outputs": [
    {
     "name": "stdout",
     "output_type": "stream",
     "text": [
      "4321\n"
     ]
    }
   ],
   "source": [
    "num = 1234\n",
    "reversed_num = int(str(num)[::-1])\n",
    "print(reversed_num)\n"
   ]
  },
  {
   "cell_type": "code",
   "execution_count": null,
   "id": "caf9a1c7-cc07-4f1a-8ee1-afbd33186bc8",
   "metadata": {},
   "outputs": [],
   "source": [
    "num = 1234\n",
    "reversed_num = 0\n",
    "\n",
    "while num > 0:\n",
    "    digit = num % 10\n",
    "    reversed_num = reversed_num * 10 + digit\n",
    "    num //= 10\n",
    "\n",
    "print(reversed_num)\n"
   ]
  },
  {
   "cell_type": "markdown",
   "id": "06115374-a805-43ec-9bde-039990c15e7b",
   "metadata": {},
   "source": [
    "Sum of digits\n",
    "Input: 123 → Output: 6\n",
    "🧠 Hint: Add num % 10 in loop"
   ]
  },
  {
   "cell_type": "code",
   "execution_count": null,
   "id": "e825f47f-5718-4b89-819e-4532faa81de1",
   "metadata": {},
   "outputs": [],
   "source": [
    "num = 123\n",
    "add = 0\n",
    "\n",
    "while num > 0:\n",
    "    digit = num % 10\n",
    "    add += digit\n",
    "    num //= 10\n",
    "\n",
    "print(\"Sum of digits:\", add)\n"
   ]
  },
  {
   "cell_type": "code",
   "execution_count": null,
   "id": "cbe4ebf8-6045-424c-8b85-e1b818114022",
   "metadata": {},
   "outputs": [],
   "source": [
    "num = 123\n",
    "add = 0\n",
    "\n",
    "while num > 0:\n",
    "    digit = num % 10\n",
    "    add += digit\n",
    "    num //= 10\n",
    "\n",
    "print(\"Sum of digits:\", add)\n"
   ]
  },
  {
   "cell_type": "code",
   "execution_count": 1,
   "id": "fd3f7773-c7fa-4ed6-9132-9c258a58c1e7",
   "metadata": {},
   "outputs": [
    {
     "name": "stdout",
     "output_type": "stream",
     "text": [
      "12\n"
     ]
    }
   ],
   "source": [
    "num=12324\n",
    "add =0\n",
    "\n",
    "while num >0:\n",
    "    digit = num%10\n",
    "    add=add +digit\n",
    "    num= num //10\n",
    "print(add)"
   ]
  },
  {
   "cell_type": "code",
   "execution_count": 4,
   "id": "271926f1-e31b-492d-baa7-9ad509fe2c00",
   "metadata": {},
   "outputs": [
    {
     "name": "stdout",
     "output_type": "stream",
     "text": [
      "True\n"
     ]
    }
   ],
   "source": [
    "print(False is False is False)"
   ]
  },
  {
   "cell_type": "markdown",
   "id": "2e2b79c2-c6f1-4526-9b1d-0f5e68bdf310",
   "metadata": {},
   "source": [
    "10. Factorial of a number\n",
    "Input: 5 → Output: 120\n",
    "🧠 Hint: result *= i in loop from 1 to n"
   ]
  },
  {
   "cell_type": "code",
   "execution_count": 20,
   "id": "2f474cc7-f1aa-4515-a7c8-bce25528a20b",
   "metadata": {},
   "outputs": [
    {
     "name": "stdout",
     "output_type": "stream",
     "text": [
      "Factorial of 5 is 120\n"
     ]
    }
   ],
   "source": [
    "n = 5\n",
    "fact = 1\n",
    "\n",
    "for i in range(1, n + 1):\n",
    "    fact *= i\n",
    "\n",
    "print(\"Factorial of\", n, \"is\", fact)\n"
   ]
  },
  {
   "cell_type": "code",
   "execution_count": 21,
   "id": "bab7f018-5e91-4b7b-85cc-dc1af2e08aeb",
   "metadata": {},
   "outputs": [
    {
     "name": "stdout",
     "output_type": "stream",
     "text": [
      "Factorial of 5 is 120\n"
     ]
    }
   ],
   "source": [
    "import math\n",
    "\n",
    "n = 5\n",
    "print(\"Factorial of\", n, \"is\", math.factorial(n))\n"
   ]
  },
  {
   "cell_type": "markdown",
   "id": "5b7e3ef8-e0a4-4844-a06d-c9729ef947ed",
   "metadata": {},
   "source": [
    "11. Check if number is prime\n",
    "🧠 Hint: Check divisibility from 2 to n-1. Use break if divisor found."
   ]
  },
  {
   "cell_type": "code",
   "execution_count": null,
   "id": "d4b329f6-2fe2-4348-9879-c9ce0f753533",
   "metadata": {},
   "outputs": [],
   "source": [
    "n = 50  # Change this to any upper limit\n",
    "print(\"Prime numbers up to\", n, \"are:\")\n",
    "\n",
    "for num in range(2, n + 1):\n",
    "    is_prime = True\n",
    "    for i in range(2, int(num**0.5) + 1):\n",
    "        if num % i == 0:\n",
    "            is_prime = False\n",
    "            break\n",
    "    if is_prime:\n",
    "        print(num, end=' ')\n"
   ]
  },
  {
   "cell_type": "code",
   "execution_count": null,
   "id": "0680c182-58a2-4e98-bf7d-12ae104e5eaf",
   "metadata": {},
   "outputs": [],
   "source": []
  }
 ],
 "metadata": {
  "kernelspec": {
   "display_name": "Python 3 (ipykernel)",
   "language": "python",
   "name": "python3"
  },
  "language_info": {
   "codemirror_mode": {
    "name": "ipython",
    "version": 3
   },
   "file_extension": ".py",
   "mimetype": "text/x-python",
   "name": "python",
   "nbconvert_exporter": "python",
   "pygments_lexer": "ipython3",
   "version": "3.13.0"
  }
 },
 "nbformat": 4,
 "nbformat_minor": 5
}
