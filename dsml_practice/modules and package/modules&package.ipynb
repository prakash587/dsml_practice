{
 "cells": [
  {
   "cell_type": "code",
   "execution_count": 5,
   "id": "41b95059-a168-4fc7-917f-8b49af0219a2",
   "metadata": {},
   "outputs": [],
   "source": [
    "import datetime\n"
   ]
  },
  {
   "cell_type": "code",
   "execution_count": 6,
   "id": "10603e32-a3e0-462e-8f15-59f9b97aff0b",
   "metadata": {},
   "outputs": [
    {
     "data": {
      "text/plain": [
       "['MAXYEAR',\n",
       " 'MINYEAR',\n",
       " 'UTC',\n",
       " '__all__',\n",
       " '__builtins__',\n",
       " '__cached__',\n",
       " '__doc__',\n",
       " '__file__',\n",
       " '__loader__',\n",
       " '__name__',\n",
       " '__package__',\n",
       " '__spec__',\n",
       " 'date',\n",
       " 'datetime',\n",
       " 'datetime_CAPI',\n",
       " 'time',\n",
       " 'timedelta',\n",
       " 'timezone',\n",
       " 'tzinfo']"
      ]
     },
     "execution_count": 6,
     "metadata": {},
     "output_type": "execute_result"
    }
   ],
   "source": [
    "dir(datetime)"
   ]
  },
  {
   "cell_type": "code",
   "execution_count": 8,
   "id": "1922365d-99b5-4a75-8cfa-aa422c5e6ce4",
   "metadata": {},
   "outputs": [],
   "source": [
    "date1=datetime.date(2025,7,14)"
   ]
  },
  {
   "cell_type": "code",
   "execution_count": 9,
   "id": "606f1eac-f19f-40a7-808e-8affe33a2691",
   "metadata": {},
   "outputs": [],
   "source": [
    "today = datetime.date.today()"
   ]
  },
  {
   "cell_type": "code",
   "execution_count": 10,
   "id": "785186d4-af78-4198-a228-53f0044e6a32",
   "metadata": {},
   "outputs": [
    {
     "data": {
      "text/plain": [
       "datetime.date(2025, 7, 14)"
      ]
     },
     "execution_count": 10,
     "metadata": {},
     "output_type": "execute_result"
    }
   ],
   "source": [
    "today"
   ]
  },
  {
   "cell_type": "code",
   "execution_count": 11,
   "id": "e1fc13b4-87e8-4d39-a7eb-7e083d1433de",
   "metadata": {},
   "outputs": [
    {
     "data": {
      "text/plain": [
       "False"
      ]
     },
     "execution_count": 11,
     "metadata": {},
     "output_type": "execute_result"
    }
   ],
   "source": [
    "date1>today"
   ]
  },
  {
   "cell_type": "code",
   "execution_count": 13,
   "id": "ca8375d2-c92c-4ebf-81e2-c9a509d8328b",
   "metadata": {},
   "outputs": [
    {
     "data": {
      "text/plain": [
       "True"
      ]
     },
     "execution_count": 13,
     "metadata": {},
     "output_type": "execute_result"
    }
   ],
   "source": [
    "date1==today\n"
   ]
  },
  {
   "cell_type": "code",
   "execution_count": 22,
   "id": "7fd380ab-46b5-47a8-9afc-e989f5b101be",
   "metadata": {},
   "outputs": [
    {
     "ename": "TypeError",
     "evalue": "descriptor 'time' for 'datetime.datetime' objects doesn't apply to a 'int' object",
     "output_type": "error",
     "traceback": [
      "\u001b[1;31m---------------------------------------------------------------------------\u001b[0m",
      "\u001b[1;31mTypeError\u001b[0m                                 Traceback (most recent call last)",
      "Cell \u001b[1;32mIn[22], line 1\u001b[0m\n\u001b[1;32m----> 1\u001b[0m todaytime\u001b[38;5;241m=\u001b[39m\u001b[43mdatetime\u001b[49m\u001b[38;5;241;43m.\u001b[39;49m\u001b[43mtime\u001b[49m\u001b[43m(\u001b[49m\u001b[38;5;241;43m12\u001b[39;49m\u001b[43m,\u001b[49m\u001b[38;5;241;43m43\u001b[39;49m\u001b[43m,\u001b[49m\u001b[38;5;241;43m2\u001b[39;49m\u001b[43m)\u001b[49m\n",
      "\u001b[1;31mTypeError\u001b[0m: descriptor 'time' for 'datetime.datetime' objects doesn't apply to a 'int' object"
     ]
    }
   ],
   "source": [
    "todaytime=datetime.time(12,43,2)"
   ]
  },
  {
   "cell_type": "code",
   "execution_count": 23,
   "id": "21535f39-5025-4678-9ac5-1bb1bf312a34",
   "metadata": {},
   "outputs": [
    {
     "data": {
      "text/plain": [
       "datetime.time(12, 43, 2)"
      ]
     },
     "execution_count": 23,
     "metadata": {},
     "output_type": "execute_result"
    }
   ],
   "source": [
    "todaytime"
   ]
  },
  {
   "cell_type": "code",
   "execution_count": 24,
   "id": "968e8358-b687-4407-b601-0196f2286f97",
   "metadata": {},
   "outputs": [
    {
     "name": "stdout",
     "output_type": "stream",
     "text": [
      "Current time: 08:23:59\n"
     ]
    }
   ],
   "source": [
    "from datetime import datetime\n",
    "\n",
    "now = datetime.now()\n",
    "print(\"Current time:\", now.strftime(\"%H:%M:%S\"))\n"
   ]
  },
  {
   "cell_type": "code",
   "execution_count": 26,
   "id": "4e7806ee-675f-44f8-82fd-2d044f729964",
   "metadata": {},
   "outputs": [],
   "source": [
    "import datetime\n",
    "now1=datetime.datetime.today()"
   ]
  },
  {
   "cell_type": "code",
   "execution_count": 31,
   "id": "596e3a5d-693a-403f-9d7e-e9646656ced6",
   "metadata": {},
   "outputs": [
    {
     "data": {
      "text/plain": [
       "'DATE:2025,26,07/14/25 TIME: 08:26:00'"
      ]
     },
     "execution_count": 31,
     "metadata": {},
     "output_type": "execute_result"
    }
   ],
   "source": [
    "now1.strftime(\"DATE:%Y,%M,%D TIME: %H:%M:%S\")"
   ]
  },
  {
   "cell_type": "code",
   "execution_count": 3,
   "id": "0b18e8ff-de3e-4799-b754-b12291d57471",
   "metadata": {},
   "outputs": [],
   "source": [
    "import time"
   ]
  },
  {
   "cell_type": "code",
   "execution_count": 4,
   "id": "17bc84d0-c0c0-46bf-891e-64925dfe5b40",
   "metadata": {},
   "outputs": [
    {
     "data": {
      "text/plain": [
       "1752544029.3100965"
      ]
     },
     "execution_count": 4,
     "metadata": {},
     "output_type": "execute_result"
    }
   ],
   "source": [
    "time.time()"
   ]
  },
  {
   "cell_type": "code",
   "execution_count": 5,
   "id": "9671bc57-bc41-4139-aa2d-e3b5a04e6951",
   "metadata": {},
   "outputs": [
    {
     "data": {
      "text/plain": [
       "'Tue Jul 15 07:33:03 2025'"
      ]
     },
     "execution_count": 5,
     "metadata": {},
     "output_type": "execute_result"
    }
   ],
   "source": [
    "time.ctime()"
   ]
  },
  {
   "cell_type": "code",
   "execution_count": 6,
   "id": "203fbb0d-e43f-4927-9153-796a0e4ec5d5",
   "metadata": {},
   "outputs": [
    {
     "name": "stdout",
     "output_type": "stream",
     "text": [
      "loading....\n",
      "Completed\n"
     ]
    }
   ],
   "source": [
    "#sleep function\n",
    "print(\"loading....\")\n",
    "time.sleep(5)\n",
    "print(\"Completed\")"
   ]
  },
  {
   "cell_type": "code",
   "execution_count": 9,
   "id": "3ad8009b-ea0f-40c5-90db-e314c8879956",
   "metadata": {},
   "outputs": [
    {
     "data": {
      "text/plain": [
       "time.struct_time(tm_year=2025, tm_mon=7, tm_mday=15, tm_hour=1, tm_min=52, tm_sec=51, tm_wday=1, tm_yday=196, tm_isdst=0)"
      ]
     },
     "execution_count": 9,
     "metadata": {},
     "output_type": "execute_result"
    }
   ],
   "source": [
    "time.gmtime()"
   ]
  },
  {
   "cell_type": "code",
   "execution_count": 10,
   "id": "46e055b5-6dfd-4975-a031-a760927d9d24",
   "metadata": {},
   "outputs": [
    {
     "data": {
      "text/plain": [
       "time.struct_time(tm_year=2025, tm_mon=7, tm_mday=15, tm_hour=7, tm_min=38, tm_sec=22, tm_wday=1, tm_yday=196, tm_isdst=0)"
      ]
     },
     "execution_count": 10,
     "metadata": {},
     "output_type": "execute_result"
    }
   ],
   "source": [
    "time.localtime()"
   ]
  },
  {
   "cell_type": "code",
   "execution_count": 18,
   "id": "323bc189-1854-4c10-b10b-5f39d11642cd",
   "metadata": {},
   "outputs": [
    {
     "data": {
      "text/plain": [
       "'Hour:07, Minute:46, Second:03'"
      ]
     },
     "execution_count": 18,
     "metadata": {},
     "output_type": "execute_result"
    }
   ],
   "source": [
    "time.strftime(\"Hour:%H, Minute:%M, Second:%S\")"
   ]
  },
  {
   "cell_type": "code",
   "execution_count": 21,
   "id": "262a1cfb-29c9-4a4c-9738-bd57818f95a2",
   "metadata": {},
   "outputs": [
    {
     "name": "stdout",
     "output_type": "stream",
     "text": [
      "hello\n"
     ]
    }
   ],
   "source": [
    "start= time.time()\n",
    "print(\"hello\")\n",
    "time.sleep(3)\n",
    "end=time.time()\n"
   ]
  },
  {
   "cell_type": "code",
   "execution_count": 22,
   "id": "1966c307-071e-47eb-a52f-e22bf15fa916",
   "metadata": {},
   "outputs": [
    {
     "name": "stdout",
     "output_type": "stream",
     "text": [
      "total time taken 3.000614881515503\n"
     ]
    }
   ],
   "source": [
    "print(\"total time taken\", end-start)"
   ]
  },
  {
   "cell_type": "code",
   "execution_count": 23,
   "id": "ac824c15-6ad4-4f81-8a94-1b7fe06c8f4c",
   "metadata": {},
   "outputs": [
    {
     "data": {
      "text/plain": [
       "486818.09298924636"
      ]
     },
     "execution_count": 23,
     "metadata": {},
     "output_type": "execute_result"
    }
   ],
   "source": [
    "end /3600"
   ]
  },
  {
   "cell_type": "code",
   "execution_count": null,
   "id": "0685e85f-b4cf-4ac2-9407-4f6b1d4270a9",
   "metadata": {},
   "outputs": [],
   "source": []
  }
 ],
 "metadata": {
  "kernelspec": {
   "display_name": "Python 3 (ipykernel)",
   "language": "python",
   "name": "python3"
  },
  "language_info": {
   "codemirror_mode": {
    "name": "ipython",
    "version": 3
   },
   "file_extension": ".py",
   "mimetype": "text/x-python",
   "name": "python",
   "nbconvert_exporter": "python",
   "pygments_lexer": "ipython3",
   "version": "3.13.0"
  }
 },
 "nbformat": 4,
 "nbformat_minor": 5
}
