{
 "cells": [
  {
   "cell_type": "code",
   "execution_count": 2,
   "id": "ee4fd2e9-b00c-473b-affd-6ad3793f4f7e",
   "metadata": {},
   "outputs": [],
   "source": [
    "import random"
   ]
  },
  {
   "cell_type": "code",
   "execution_count": 8,
   "id": "ea951b6d-dce1-4354-8aea-a7f42d5a3941",
   "metadata": {},
   "outputs": [
    {
     "data": {
      "text/plain": [
       "0.824862802350855"
      ]
     },
     "execution_count": 8,
     "metadata": {},
     "output_type": "execute_result"
    }
   ],
   "source": [
    "random.random()"
   ]
  },
  {
   "cell_type": "code",
   "execution_count": 11,
   "id": "cf442ffe-a52b-42df-bdad-c2033d56e4f1",
   "metadata": {},
   "outputs": [
    {
     "data": {
      "text/plain": [
       "12.157541881365887"
      ]
     },
     "execution_count": 11,
     "metadata": {},
     "output_type": "execute_result"
    }
   ],
   "source": [
    "random.uniform(10,20)"
   ]
  },
  {
   "cell_type": "code",
   "execution_count": 13,
   "id": "d8361a6e-894d-4a0e-b9f2-a6808944f929",
   "metadata": {},
   "outputs": [
    {
     "data": {
      "text/plain": [
       "233"
      ]
     },
     "execution_count": 13,
     "metadata": {},
     "output_type": "execute_result"
    }
   ],
   "source": [
    "random.randint(199,300)"
   ]
  },
  {
   "cell_type": "raw",
   "id": "49a2bb35-2721-4335-8151-6f08e6c9de0e",
   "metadata": {},
   "source": []
  },
  {
   "cell_type": "raw",
   "id": "9588fc9a-cbcc-4fa8-a20f-85ff915b67b7",
   "metadata": {},
   "source": []
  },
  {
   "cell_type": "code",
   "execution_count": 14,
   "id": "dc41403f-18e3-461b-9532-82e841be1c74",
   "metadata": {},
   "outputs": [
    {
     "data": {
      "text/plain": [
       "50"
      ]
     },
     "execution_count": 14,
     "metadata": {},
     "output_type": "execute_result"
    }
   ],
   "source": [
    "random.randrange(10,100,20)"
   ]
  },
  {
   "cell_type": "code",
   "execution_count": 21,
   "id": "298017bf-6208-4256-a845-5823dbbf816f",
   "metadata": {},
   "outputs": [],
   "source": [
    "cards=[\"ace\",\"king\", \"queen\", \"ten\", \"eight\",\"nine\"]"
   ]
  },
  {
   "cell_type": "code",
   "execution_count": 22,
   "id": "2590c0f4-393c-440f-b3a8-c95eef497437",
   "metadata": {},
   "outputs": [
    {
     "data": {
      "text/plain": [
       "'ten'"
      ]
     },
     "execution_count": 22,
     "metadata": {},
     "output_type": "execute_result"
    }
   ],
   "source": [
    "random.choice(cards)"
   ]
  },
  {
   "cell_type": "code",
   "execution_count": 23,
   "id": "43c66a8f-3617-4b14-bca9-4e09f9164518",
   "metadata": {},
   "outputs": [],
   "source": [
    "random.shuffle(cards)"
   ]
  },
  {
   "cell_type": "code",
   "execution_count": 24,
   "id": "748ddda4-91fe-412e-8269-283b21f40d85",
   "metadata": {},
   "outputs": [
    {
     "data": {
      "text/plain": [
       "['ace', 'ten', 'king', 'queen', 'eight', 'nine']"
      ]
     },
     "execution_count": 24,
     "metadata": {},
     "output_type": "execute_result"
    }
   ],
   "source": [
    "cards"
   ]
  },
  {
   "cell_type": "code",
   "execution_count": 25,
   "id": "5b5c06c5-6b70-438d-87cf-3f1ce570a5f2",
   "metadata": {},
   "outputs": [
    {
     "data": {
      "text/plain": [
       "['ace', 'nine', 'eight']"
      ]
     },
     "execution_count": 25,
     "metadata": {},
     "output_type": "execute_result"
    }
   ],
   "source": [
    "random.sample(cards,3)"
   ]
  },
  {
   "cell_type": "code",
   "execution_count": 26,
   "id": "f31eaf0d-ef3b-4cba-b815-5663dd65492f",
   "metadata": {},
   "outputs": [
    {
     "data": {
      "text/plain": [
       "['ace', 'nine']"
      ]
     },
     "execution_count": 26,
     "metadata": {},
     "output_type": "execute_result"
    }
   ],
   "source": [
    "random.choices(cards, weights=[0.2,0.12,0.4,0.15,0.44,0.25],k=2)"
   ]
  },
  {
   "cell_type": "code",
   "execution_count": 29,
   "id": "754dfdda-de3e-423e-badb-bb315ee8c8e9",
   "metadata": {},
   "outputs": [
    {
     "ename": "SyntaxError",
     "evalue": "invalid decimal literal (468411745.py, line 1)",
     "output_type": "error",
     "traceback": [
      "\u001b[1;36m  Cell \u001b[1;32mIn[29], line 1\u001b[1;36m\u001b[0m\n\u001b[1;33m    random.triangular(5,6,7).2f\u001b[0m\n\u001b[1;37m                             ^\u001b[0m\n\u001b[1;31mSyntaxError\u001b[0m\u001b[1;31m:\u001b[0m invalid decimal literal\n"
     ]
    }
   ],
   "source": [
    "random.triangular(5,6,7).2f"
   ]
  },
  {
   "cell_type": "code",
   "execution_count": null,
   "id": "6c2178d7-4711-4869-b53f-9d81428161b0",
   "metadata": {},
   "outputs": [],
   "source": []
  },
  {
   "cell_type": "code",
   "execution_count": 31,
   "id": "5a7e48c6-e40e-4cfa-bf15-b6016a7a28a4",
   "metadata": {},
   "outputs": [],
   "source": [
    "random.seed(555)"
   ]
  },
  {
   "cell_type": "code",
   "execution_count": 32,
   "id": "92b067c7-27b0-477f-aea2-bcff0ad46b56",
   "metadata": {},
   "outputs": [
    {
     "data": {
      "text/plain": [
       "4"
      ]
     },
     "execution_count": 32,
     "metadata": {},
     "output_type": "execute_result"
    }
   ],
   "source": [
    "random.randint(1,10)"
   ]
  },
  {
   "cell_type": "code",
   "execution_count": 36,
   "id": "090bca1a-0af6-44b7-8803-6771bee1fd20",
   "metadata": {},
   "outputs": [
    {
     "name": "stdout",
     "output_type": "stream",
     "text": [
      "9 2 3\n"
     ]
    }
   ],
   "source": [
    "import random\n",
    "state=random.getstate()\n",
    "\n",
    "a=random.randint(1,10)\n",
    "b=random.randint(1,10)\n",
    "c=random.randint(1,10)\n",
    "\n",
    "print(a,b,c)"
   ]
  },
  {
   "cell_type": "code",
   "execution_count": 37,
   "id": "200fb4ec-d532-4d36-815f-c08b98fd1777",
   "metadata": {},
   "outputs": [
    {
     "name": "stdout",
     "output_type": "stream",
     "text": [
      "9 2 3\n"
     ]
    }
   ],
   "source": [
    "import random\n",
    "state=random.setstate(state)\n",
    "\n",
    "a=random.randint(1,10)\n",
    "b=random.randint(1,10)\n",
    "c=random.randint(1,10)\n",
    "\n",
    "print(a,b,c)"
   ]
  },
  {
   "cell_type": "code",
   "execution_count": null,
   "id": "764543b8-d818-4925-8912-56d273f9a7eb",
   "metadata": {},
   "outputs": [],
   "source": []
  }
 ],
 "metadata": {
  "kernelspec": {
   "display_name": "Python 3 (ipykernel)",
   "language": "python",
   "name": "python3"
  },
  "language_info": {
   "codemirror_mode": {
    "name": "ipython",
    "version": 3
   },
   "file_extension": ".py",
   "mimetype": "text/x-python",
   "name": "python",
   "nbconvert_exporter": "python",
   "pygments_lexer": "ipython3",
   "version": "3.13.0"
  }
 },
 "nbformat": 4,
 "nbformat_minor": 5
}
