{
 "cells": [
  {
   "cell_type": "code",
   "execution_count": 1,
   "id": "9395f3fc-3e2c-4dd2-92a8-4e371ee49baf",
   "metadata": {},
   "outputs": [],
   "source": [
    "import os"
   ]
  },
  {
   "cell_type": "code",
   "execution_count": 2,
   "id": "6b26f971-7074-45f9-8c73-200f9c69fac1",
   "metadata": {},
   "outputs": [
    {
     "data": {
      "text/plain": [
       "'C:\\\\Users\\\\pkhad\\\\OneDrive\\\\Desktop\\\\pyton_practice\\\\dsml_practice\\\\dsml_practice\\\\modules and package'"
      ]
     },
     "execution_count": 2,
     "metadata": {},
     "output_type": "execute_result"
    }
   ],
   "source": [
    "os.getcwd()"
   ]
  },
  {
   "cell_type": "code",
   "execution_count": 3,
   "id": "96a77b1f-7013-44c9-9eaf-5a88c1fda32b",
   "metadata": {},
   "outputs": [],
   "source": [
    "os.mkdir(\"text_folder\")"
   ]
  },
  {
   "cell_type": "code",
   "execution_count": 4,
   "id": "2dff2008-4d9c-46c2-a4ba-fd5cde1d646d",
   "metadata": {},
   "outputs": [
    {
     "name": "stdout",
     "output_type": "stream",
     "text": [
      "path exist\n"
     ]
    }
   ],
   "source": [
    "if not os.path.exists(\"text_folder/\"):\n",
    "    os.mkdir(\"text_folder\")\n",
    "else:\n",
    "    print(\"path exist\")"
   ]
  },
  {
   "cell_type": "code",
   "execution_count": 6,
   "id": "97d6ee9e-fddb-42a5-80e3-08e9c746c357",
   "metadata": {},
   "outputs": [],
   "source": [
    "os.makedirs(\"test_folder/\", exist_ok= True)"
   ]
  },
  {
   "cell_type": "code",
   "execution_count": 8,
   "id": "a44ff0d5-0397-4256-8a6b-6c899b184dae",
   "metadata": {},
   "outputs": [
    {
     "name": "stdout",
     "output_type": "stream",
     "text": [
      "C:\\Users\\pkhad\\OneDrive\\Desktop\\pyton_practice\\dsml_practice\\dsml_practice\\modules and package\\test_folder\n",
      "C:\\Users\\pkhad\\OneDrive\\Desktop\\pyton_practice\\dsml_practice\\dsml_practice\\modules and package\n"
     ]
    }
   ],
   "source": [
    "os.chdir(\"test_folder\")\n",
    "print(os.getcwd())\n",
    "os.chdir('..')\n",
    "print(os.getcwd())"
   ]
  },
  {
   "cell_type": "code",
   "execution_count": 12,
   "id": "b0446e5a-e409-493c-b50e-0b8d0f51d754",
   "metadata": {},
   "outputs": [
    {
     "data": {
      "text/plain": [
       "['.ipynb_checkpoints',\n",
       " 'assignment',\n",
       " 'built_in_function.ipynb',\n",
       " 'day4.ipynb',\n",
       " 'day5.ipynb',\n",
       " 'function.ipynb',\n",
       " 'lambda_expression.ipynb',\n",
       " 'lst_comprehension.ipynb',\n",
       " 'message.txt',\n",
       " 'modules and package',\n",
       " 'oops',\n",
       " 'README.md',\n",
       " 'recursive_func.ipynb',\n",
       " 'tasks.ipynb',\n",
       " 'Untitled.ipynb',\n",
       " 'user_define_function.ipynb',\n",
       " 'while_loop.ipynb']"
      ]
     },
     "execution_count": 12,
     "metadata": {},
     "output_type": "execute_result"
    }
   ],
   "source": [
    "os.listdir(\"..\")"
   ]
  },
  {
   "cell_type": "code",
   "execution_count": 13,
   "id": "3ba6ef9e-f3ef-47aa-bc1a-9ac4278c6212",
   "metadata": {},
   "outputs": [
    {
     "ename": "FileNotFoundError",
     "evalue": "[WinError 2] The system cannot find the file specified: 'test'",
     "output_type": "error",
     "traceback": [
      "\u001b[1;31m---------------------------------------------------------------------------\u001b[0m",
      "\u001b[1;31mFileNotFoundError\u001b[0m                         Traceback (most recent call last)",
      "Cell \u001b[1;32mIn[13], line 1\u001b[0m\n\u001b[1;32m----> 1\u001b[0m \u001b[43mos\u001b[49m\u001b[38;5;241;43m.\u001b[39;49m\u001b[43mrmdir\u001b[49m\u001b[43m(\u001b[49m\u001b[38;5;124;43m\"\u001b[39;49m\u001b[38;5;124;43mtest\u001b[39;49m\u001b[38;5;124;43m\"\u001b[39;49m\u001b[43m)\u001b[49m\n",
      "\u001b[1;31mFileNotFoundError\u001b[0m: [WinError 2] The system cannot find the file specified: 'test'"
     ]
    }
   ],
   "source": [
    "os.rmdir(\"test\")"
   ]
  },
  {
   "cell_type": "code",
   "execution_count": 14,
   "id": "6f113299-9ba4-4673-a5ff-236861e7b458",
   "metadata": {},
   "outputs": [
    {
     "ename": "TypeError",
     "evalue": "remove() missing required argument 'path' (pos 1)",
     "output_type": "error",
     "traceback": [
      "\u001b[1;31m---------------------------------------------------------------------------\u001b[0m",
      "\u001b[1;31mTypeError\u001b[0m                                 Traceback (most recent call last)",
      "Cell \u001b[1;32mIn[14], line 1\u001b[0m\n\u001b[1;32m----> 1\u001b[0m \u001b[43mos\u001b[49m\u001b[38;5;241;43m.\u001b[39;49m\u001b[43mremove\u001b[49m\u001b[43m(\u001b[49m\u001b[43m)\u001b[49m\n",
      "\u001b[1;31mTypeError\u001b[0m: remove() missing required argument 'path' (pos 1)"
     ]
    }
   ],
   "source": [
    "os.remove()"
   ]
  },
  {
   "cell_type": "code",
   "execution_count": 17,
   "id": "2e806717-24bd-4699-87fe-6b58724edd77",
   "metadata": {},
   "outputs": [],
   "source": [
    "os.rename(\"good\", \"welcome\")"
   ]
  },
  {
   "cell_type": "code",
   "execution_count": 19,
   "id": "1537debd-6423-4889-906d-a7ad21816411",
   "metadata": {},
   "outputs": [
    {
     "ename": "PermissionError",
     "evalue": "[WinError 5] Access is denied: 'welcome'",
     "output_type": "error",
     "traceback": [
      "\u001b[1;31m---------------------------------------------------------------------------\u001b[0m",
      "\u001b[1;31mPermissionError\u001b[0m                           Traceback (most recent call last)",
      "Cell \u001b[1;32mIn[19], line 1\u001b[0m\n\u001b[1;32m----> 1\u001b[0m \u001b[43mos\u001b[49m\u001b[38;5;241;43m.\u001b[39;49m\u001b[43mremove\u001b[49m\u001b[43m(\u001b[49m\u001b[38;5;124;43m\"\u001b[39;49m\u001b[38;5;124;43mwelcome\u001b[39;49m\u001b[38;5;124;43m\"\u001b[39;49m\u001b[43m)\u001b[49m\n",
      "\u001b[1;31mPermissionError\u001b[0m: [WinError 5] Access is denied: 'welcome'"
     ]
    }
   ],
   "source": [
    "os.remove(\"welcome\")"
   ]
  },
  {
   "cell_type": "markdown",
   "id": "5fa74f36-f2f6-4baf-a34b-cb33e6ba2cb7",
   "metadata": {},
   "source": [
    "shutils high level file operations"
   ]
  },
  {
   "cell_type": "markdown",
   "id": "ad02ba67-768b-43e8-a332-811ddf59d0d6",
   "metadata": {},
   "source": [
    "working with environmental variables"
   ]
  },
  {
   "cell_type": "code",
   "execution_count": 20,
   "id": "2f7e4e93-d9c2-481f-b542-e3c4d10462dd",
   "metadata": {},
   "outputs": [
    {
     "data": {
      "text/plain": [
       "'C:\\\\Users\\\\pkhad'"
      ]
     },
     "execution_count": 20,
     "metadata": {},
     "output_type": "execute_result"
    }
   ],
   "source": [
    "os.getenv(\"home\")"
   ]
  },
  {
   "cell_type": "code",
   "execution_count": 21,
   "id": "b856ef49-1477-4fa3-bc76-c1bb1ac7f940",
   "metadata": {},
   "outputs": [
    {
     "data": {
      "text/plain": [
       "'C:\\\\Users\\\\pkhad\\\\OneDrive'"
      ]
     },
     "execution_count": 21,
     "metadata": {},
     "output_type": "execute_result"
    }
   ],
   "source": [
    "os.getenv(\"oneDrive\")"
   ]
  },
  {
   "cell_type": "code",
   "execution_count": 22,
   "id": "78fdc906-3b4e-4c26-bcbb-56d944e96c82",
   "metadata": {},
   "outputs": [
    {
     "data": {
      "text/plain": [
       "'C:\\\\Users\\\\pkhad\\\\bin;C:\\\\Program Files\\\\Git\\\\mingw64\\\\bin;C:\\\\Program Files\\\\Git\\\\usr\\\\local\\\\bin;C:\\\\Program Files\\\\Git\\\\usr\\\\bin;C:\\\\Program Files\\\\Git\\\\usr\\\\bin;C:\\\\Program Files\\\\Git\\\\mingw64\\\\bin;C:\\\\Program Files\\\\Git\\\\usr\\\\bin;C:\\\\Users\\\\pkhad\\\\bin;C:\\\\Program Files\\\\NVIDIA GPU Computing Toolkit\\\\CUDA\\\\v11.2\\\\bin;C:\\\\Program Files\\\\NVIDIA GPU Computing Toolkit\\\\CUDA\\\\v11.2\\\\libnvvp;C:\\\\Program Files\\\\Python313\\\\Scripts;C:\\\\Program Files\\\\Python313;C:\\\\WINDOWS\\\\system32;C:\\\\WINDOWS;C:\\\\WINDOWS\\\\System32\\\\Wbem;C:\\\\WINDOWS\\\\System32\\\\WindowsPowerShell\\\\v1.0;C:\\\\WINDOWS\\\\System32\\\\OpenSSH;C:\\\\Program Files (x86)\\\\NVIDIA Corporation\\\\PhysX\\\\Common;C:\\\\Program Files\\\\Docker\\\\Docker\\\\resources\\\\bin;C:\\\\Program Files\\\\Microsoft VS Code\\\\bin;C:\\\\Program Files\\\\Git\\\\cmd;C:\\\\Program Files\\\\Arduino PLC IDE Tools;C:\\\\Program Files\\\\Git LFS;C:\\\\Program Files\\\\NVIDIA Corporation\\\\NVIDIA App\\\\NvDLISR;C:\\\\Program Files\\\\NVIDIA Corporation\\\\NVIDIA NvDLISR;C:\\\\Program Files\\\\NVIDIA Corporation\\\\Nsight Compute 2020.3.0;C:\\\\Users\\\\pkhad\\\\miniconda3;C:\\\\Users\\\\pkhad\\\\miniconda3\\\\Library\\\\mingw-w64\\\\bin;C:\\\\Users\\\\pkhad\\\\miniconda3\\\\Library\\\\usr\\\\bin;C:\\\\Users\\\\pkhad\\\\miniconda3\\\\Library\\\\bin;C:\\\\Users\\\\pkhad\\\\miniconda3\\\\Scripts;C:\\\\Users\\\\pkhad\\\\AppData\\\\Local\\\\Programs\\\\Python\\\\Python310\\\\Scripts;C:\\\\Users\\\\pkhad\\\\AppData\\\\Local\\\\Programs\\\\Python\\\\Python310;C:\\\\Users\\\\pkhad\\\\AppData\\\\Local\\\\Microsoft\\\\WindowsApps;C:\\\\Users\\\\pkhad\\\\AppData\\\\Local\\\\GitHubDesktop\\\\bin;C:\\\\Users\\\\pkhad\\\\AppData\\\\Local\\\\Programs\\\\Microsoft VS Code\\\\bin;C:\\\\Program Files\\\\JetBrains\\\\PyCharm 2025.1\\\\bin;C:\\\\Program Files\\\\Git\\\\usr\\\\bin\\\\vendor_perl;C:\\\\Program Files\\\\Git\\\\usr\\\\bin\\\\core_perl'"
      ]
     },
     "execution_count": 22,
     "metadata": {},
     "output_type": "execute_result"
    }
   ],
   "source": [
    "os.getenv(\"Path\")"
   ]
  },
  {
   "cell_type": "code",
   "execution_count": 23,
   "id": "a78c291b-b98f-4631-b998-61fbdd8a3725",
   "metadata": {},
   "outputs": [],
   "source": [
    "os.environ[\"MyPassword\"]= \"secret passwprd\""
   ]
  },
  {
   "cell_type": "code",
   "execution_count": 24,
   "id": "5f7bc05d-d0d8-4356-b6b9-c37f79d66fd8",
   "metadata": {},
   "outputs": [
    {
     "data": {
      "text/plain": [
       "'secret passwprd'"
      ]
     },
     "execution_count": 24,
     "metadata": {},
     "output_type": "execute_result"
    }
   ],
   "source": [
    "os.getenv(\"MyPassword\")"
   ]
  },
  {
   "cell_type": "code",
   "execution_count": 25,
   "id": "5a4d7735-1742-4a45-a1ac-3160baa9db55",
   "metadata": {},
   "outputs": [
    {
     "data": {
      "text/plain": [
       "environ{'ACLOCAL_PATH': 'C:\\\\Program Files\\\\Git\\\\mingw64\\\\share\\\\aclocal;C:\\\\Program Files\\\\Git\\\\usr\\\\share\\\\aclocal',\n",
       "        'ALLUSERSPROFILE': 'C:\\\\ProgramData',\n",
       "        'APPDATA': 'C:\\\\Users\\\\pkhad\\\\AppData\\\\Roaming',\n",
       "        'COMMONPROGRAMFILES': 'C:\\\\Program Files\\\\Common Files',\n",
       "        'COMMONPROGRAMFILES(X86)': 'C:\\\\Program Files (x86)\\\\Common Files',\n",
       "        'COMMONPROGRAMW6432': 'C:\\\\Program Files\\\\Common Files',\n",
       "        'COMPUTERNAME': 'PRS',\n",
       "        'COMSPEC': 'C:\\\\WINDOWS\\\\system32\\\\cmd.exe',\n",
       "        'CONFIG_SITE': 'C:/Program Files/Git/etc/config.site',\n",
       "        'CUDA_PATH': 'C:\\\\Program Files\\\\NVIDIA GPU Computing Toolkit\\\\CUDA\\\\v11.2',\n",
       "        'CUDA_PATH_V11_2': 'C:\\\\Program Files\\\\NVIDIA GPU Computing Toolkit\\\\CUDA\\\\v11.2',\n",
       "        'DISPLAY': 'needs-to-be-defined',\n",
       "        'DRIVERDATA': 'C:\\\\Windows\\\\System32\\\\Drivers\\\\DriverData',\n",
       "        'EFC_3948_1262719628': '1',\n",
       "        'EFC_3948_1592913036': '1',\n",
       "        'EFC_3948_2283032206': '1',\n",
       "        'EFC_3948_2775293581': '1',\n",
       "        'EFC_3948_3789132940': '1',\n",
       "        'EXEPATH': 'C:\\\\Program Files\\\\Git',\n",
       "        'FPS_BROWSER_APP_PROFILE_STRING': 'Internet Explorer',\n",
       "        'FPS_BROWSER_USER_PROFILE_STRING': 'Default',\n",
       "        'GIT_LFS_PATH': 'C:\\\\Program Files\\\\Git LFS',\n",
       "        'HOME': 'C:\\\\Users\\\\pkhad',\n",
       "        'HOMEDRIVE': 'C:',\n",
       "        'HOMEPATH': '\\\\Users\\\\pkhad',\n",
       "        'HOSTNAME': 'prs',\n",
       "        'IGCCSVC_DB': 'AQAAANCMnd8BFdERjHoAwE/Cl+sBAAAA8GOlL1Rz3U2eLDjd4p0M/gQAAAACAAAAAAAQZgAAAAEAACAAAACoFvTGlvoloB7h8QNVXceSGMLWjhNesUllayoxbVNqNwAAAAAOgAAAAAIAACAAAAAr2FFWf/3L8lULB/CBp8BM78b/1sYFNxndwCgYhDuCb2AAAAAYWLve934sNicw5TZJZQDbPKyEaOoX43NfmdLVhTd/YAgqzR0W2RvJeio65UnXDmYE7WGtnmRkBTHSfpAY02ofMM78RwyDcDBa311/nk6vV8T7SrZVaNnGymBOOaZSZPVAAAAAlY5eNFPvok9HPsSEXlUqxe8U76KTamOaecqWq12lTiMbV6EiBlL2EkXuZJUmp0cjcj0Jg7mJLvUOGi0azr7rLA==',\n",
       "        'INFOPATH': 'C:\\\\Program Files\\\\Git\\\\mingw64\\\\local\\\\info;C:\\\\Program Files\\\\Git\\\\mingw64\\\\share\\\\info;C:\\\\Program Files\\\\Git\\\\usr\\\\local\\\\info;C:\\\\Program Files\\\\Git\\\\usr\\\\share\\\\info;C:\\\\Program Files\\\\Git\\\\usr\\\\info;C:\\\\Program Files\\\\Git\\\\share\\\\info',\n",
       "        'IPY_INTERRUPT_EVENT': '1532',\n",
       "        'JPY_INTERRUPT_EVENT': '1532',\n",
       "        'JPY_PARENT_PID': '2012',\n",
       "        'JPY_SESSION_NAME': 'C:\\\\Users\\\\pkhad\\\\OneDrive\\\\Desktop\\\\pyton_practice\\\\dsml_practice\\\\dsml_practice\\\\modules and package\\\\Untitled.ipynb',\n",
       "        'LANG': 'en_US.UTF-8',\n",
       "        'LOCALAPPDATA': 'C:\\\\Users\\\\pkhad\\\\AppData\\\\Local',\n",
       "        'LOGONSERVER': '\\\\\\\\PRS',\n",
       "        'MANPATH': 'C:\\\\Program Files\\\\Git\\\\mingw64\\\\local\\\\man;C:\\\\Program Files\\\\Git\\\\mingw64\\\\share\\\\man;C:\\\\Program Files\\\\Git\\\\usr\\\\local\\\\man;C:\\\\Program Files\\\\Git\\\\usr\\\\share\\\\man;C:\\\\Program Files\\\\Git\\\\usr\\\\man;C:\\\\Program Files\\\\Git\\\\share\\\\man',\n",
       "        'MINGW_CHOST': 'x86_64-w64-mingw32',\n",
       "        'MINGW_PACKAGE_PREFIX': 'mingw-w64-x86_64',\n",
       "        'MINGW_PREFIX': 'C:/Program Files/Git/mingw64',\n",
       "        'MOZ_PLUGIN_PATH': 'C:\\\\Program Files (x86)\\\\Foxit Software\\\\Foxit PDF Reader\\\\plugins\\\\',\n",
       "        'MSYSTEM': 'MINGW64',\n",
       "        'MSYSTEM_CARCH': 'x86_64',\n",
       "        'MSYSTEM_CHOST': 'x86_64-w64-mingw32',\n",
       "        'MSYSTEM_PREFIX': 'C:/Program Files/Git/mingw64',\n",
       "        'NUMBER_OF_PROCESSORS': '12',\n",
       "        'NVCUDASAMPLES11_2_ROOT': 'C:\\\\ProgramData\\\\NVIDIA Corporation\\\\CUDA Samples\\\\v11.2',\n",
       "        'NVCUDASAMPLES_ROOT': 'C:\\\\ProgramData\\\\NVIDIA Corporation\\\\CUDA Samples\\\\v11.2',\n",
       "        'NVTOOLSEXT_PATH': 'C:\\\\Program Files\\\\NVIDIA Corporation\\\\NvToolsExt\\\\',\n",
       "        'ONEDRIVE': 'C:\\\\Users\\\\pkhad\\\\OneDrive',\n",
       "        'ORIGINAL_PATH': 'C:\\\\Program Files\\\\Git\\\\mingw64\\\\bin;C:\\\\Program Files\\\\Git\\\\usr\\\\bin;C:\\\\Users\\\\pkhad\\\\bin;C:\\\\Program Files\\\\NVIDIA GPU Computing Toolkit\\\\CUDA\\\\v11.2\\\\bin;C:\\\\Program Files\\\\NVIDIA GPU Computing Toolkit\\\\CUDA\\\\v11.2\\\\libnvvp;C:\\\\Program Files\\\\Python313\\\\Scripts;C:\\\\Program Files\\\\Python313;C:\\\\WINDOWS\\\\system32;C:\\\\WINDOWS;C:\\\\WINDOWS\\\\System32\\\\Wbem;C:\\\\WINDOWS\\\\System32\\\\WindowsPowerShell\\\\v1.0;C:\\\\WINDOWS\\\\System32\\\\OpenSSH;C:\\\\Program Files (x86)\\\\NVIDIA Corporation\\\\PhysX\\\\Common;C:\\\\Program Files\\\\Docker\\\\Docker\\\\resources\\\\bin;C:\\\\Program Files\\\\Microsoft VS Code\\\\bin;C:\\\\Program Files\\\\Git\\\\cmd;C:\\\\Program Files\\\\Arduino PLC IDE Tools;C:\\\\Program Files\\\\Git LFS;C:\\\\Program Files\\\\NVIDIA Corporation\\\\NVIDIA App\\\\NvDLISR;C:\\\\Program Files\\\\NVIDIA Corporation\\\\NVIDIA NvDLISR;C:\\\\Program Files\\\\NVIDIA Corporation\\\\Nsight Compute 2020.3.0;C:\\\\Users\\\\pkhad\\\\miniconda3;C:\\\\Users\\\\pkhad\\\\miniconda3\\\\Library\\\\mingw-w64\\\\bin;C:\\\\Users\\\\pkhad\\\\miniconda3\\\\Library\\\\usr\\\\bin;C:\\\\Users\\\\pkhad\\\\miniconda3\\\\Library\\\\bin;C:\\\\Users\\\\pkhad\\\\miniconda3\\\\Scripts;C:\\\\Users\\\\pkhad\\\\AppData\\\\Local\\\\Programs\\\\Python\\\\Python310\\\\Scripts;C:\\\\Users\\\\pkhad\\\\AppData\\\\Local\\\\Programs\\\\Python\\\\Python310;C:\\\\Users\\\\pkhad\\\\AppData\\\\Local\\\\Microsoft\\\\WindowsApps;C:\\\\Users\\\\pkhad\\\\AppData\\\\Local\\\\GitHubDesktop\\\\bin;C:\\\\Users\\\\pkhad\\\\AppData\\\\Local\\\\Programs\\\\Microsoft VS Code\\\\bin;C:\\\\Program Files\\\\JetBrains\\\\PyCharm 2025.1\\\\bin',\n",
       "        'ORIGINAL_TEMP': 'C:/Users/pkhad/AppData/Local/Temp',\n",
       "        'ORIGINAL_TMP': 'C:/Users/pkhad/AppData/Local/Temp',\n",
       "        'OS': 'Windows_NT',\n",
       "        'PATH': 'C:\\\\Users\\\\pkhad\\\\bin;C:\\\\Program Files\\\\Git\\\\mingw64\\\\bin;C:\\\\Program Files\\\\Git\\\\usr\\\\local\\\\bin;C:\\\\Program Files\\\\Git\\\\usr\\\\bin;C:\\\\Program Files\\\\Git\\\\usr\\\\bin;C:\\\\Program Files\\\\Git\\\\mingw64\\\\bin;C:\\\\Program Files\\\\Git\\\\usr\\\\bin;C:\\\\Users\\\\pkhad\\\\bin;C:\\\\Program Files\\\\NVIDIA GPU Computing Toolkit\\\\CUDA\\\\v11.2\\\\bin;C:\\\\Program Files\\\\NVIDIA GPU Computing Toolkit\\\\CUDA\\\\v11.2\\\\libnvvp;C:\\\\Program Files\\\\Python313\\\\Scripts;C:\\\\Program Files\\\\Python313;C:\\\\WINDOWS\\\\system32;C:\\\\WINDOWS;C:\\\\WINDOWS\\\\System32\\\\Wbem;C:\\\\WINDOWS\\\\System32\\\\WindowsPowerShell\\\\v1.0;C:\\\\WINDOWS\\\\System32\\\\OpenSSH;C:\\\\Program Files (x86)\\\\NVIDIA Corporation\\\\PhysX\\\\Common;C:\\\\Program Files\\\\Docker\\\\Docker\\\\resources\\\\bin;C:\\\\Program Files\\\\Microsoft VS Code\\\\bin;C:\\\\Program Files\\\\Git\\\\cmd;C:\\\\Program Files\\\\Arduino PLC IDE Tools;C:\\\\Program Files\\\\Git LFS;C:\\\\Program Files\\\\NVIDIA Corporation\\\\NVIDIA App\\\\NvDLISR;C:\\\\Program Files\\\\NVIDIA Corporation\\\\NVIDIA NvDLISR;C:\\\\Program Files\\\\NVIDIA Corporation\\\\Nsight Compute 2020.3.0;C:\\\\Users\\\\pkhad\\\\miniconda3;C:\\\\Users\\\\pkhad\\\\miniconda3\\\\Library\\\\mingw-w64\\\\bin;C:\\\\Users\\\\pkhad\\\\miniconda3\\\\Library\\\\usr\\\\bin;C:\\\\Users\\\\pkhad\\\\miniconda3\\\\Library\\\\bin;C:\\\\Users\\\\pkhad\\\\miniconda3\\\\Scripts;C:\\\\Users\\\\pkhad\\\\AppData\\\\Local\\\\Programs\\\\Python\\\\Python310\\\\Scripts;C:\\\\Users\\\\pkhad\\\\AppData\\\\Local\\\\Programs\\\\Python\\\\Python310;C:\\\\Users\\\\pkhad\\\\AppData\\\\Local\\\\Microsoft\\\\WindowsApps;C:\\\\Users\\\\pkhad\\\\AppData\\\\Local\\\\GitHubDesktop\\\\bin;C:\\\\Users\\\\pkhad\\\\AppData\\\\Local\\\\Programs\\\\Microsoft VS Code\\\\bin;C:\\\\Program Files\\\\JetBrains\\\\PyCharm 2025.1\\\\bin;C:\\\\Program Files\\\\Git\\\\usr\\\\bin\\\\vendor_perl;C:\\\\Program Files\\\\Git\\\\usr\\\\bin\\\\core_perl',\n",
       "        'PATHEXT': '.COM;.EXE;.BAT;.CMD;.VBS;.VBE;.JS;.JSE;.WSF;.WSH;.MSC;.PY;.PYW',\n",
       "        'PKG_CONFIG_PATH': 'C:\\\\Program Files\\\\Git\\\\mingw64\\\\lib\\\\pkgconfig;C:\\\\Program Files\\\\Git\\\\mingw64\\\\share\\\\pkgconfig',\n",
       "        'PKG_CONFIG_SYSTEM_INCLUDE_PATH': 'C:/Program Files/Git/mingw64/include',\n",
       "        'PKG_CONFIG_SYSTEM_LIBRARY_PATH': 'C:/Program Files/Git/mingw64/lib',\n",
       "        'PLINK_PROTOCOL': 'ssh',\n",
       "        'PROCESSOR_ARCHITECTURE': 'AMD64',\n",
       "        'PROCESSOR_IDENTIFIER': 'Intel64 Family 6 Model 154 Stepping 3, GenuineIntel',\n",
       "        'PROCESSOR_LEVEL': '6',\n",
       "        'PROCESSOR_REVISION': '9a03',\n",
       "        'PROGRAMDATA': 'C:\\\\ProgramData',\n",
       "        'PROGRAMFILES': 'C:\\\\Program Files',\n",
       "        'PROGRAMFILES(X86)': 'C:\\\\Program Files (x86)',\n",
       "        'PROGRAMW6432': 'C:\\\\Program Files',\n",
       "        'PROMPT': '$P$G',\n",
       "        'PS1': '\\\\[\\\\033]0;$TITLEPREFIX:$PWD\\\\007\\\\]\\\\n\\\\[\\\\033[32m\\\\]\\\\u@\\\\h \\\\[\\\\033[35m\\\\]$MSYSTEM \\\\[\\\\033[33m\\\\]\\\\w\\\\[\\\\033[36m\\\\]`__git_ps1`\\\\[\\\\033[0m\\\\]\\\\n$ ',\n",
       "        'PSMODULEPATH': 'C:\\\\Program Files\\\\WindowsPowerShell\\\\Modules;C:\\\\WINDOWS\\\\system32\\\\WindowsPowerShell\\\\v1.0\\\\Modules',\n",
       "        'PUBLIC': 'C:\\\\Users\\\\Public',\n",
       "        'PWD': 'C:/Users/pkhad/OneDrive/Desktop/pyton_practice',\n",
       "        'PYCHARM': 'C:\\\\Program Files\\\\JetBrains\\\\PyCharm 2025.1\\\\bin;',\n",
       "        'SESSIONNAME': 'Console',\n",
       "        'SHELL': 'C:\\\\Program Files\\\\Git\\\\usr\\\\bin\\\\bash.exe',\n",
       "        'SHLVL': '1',\n",
       "        'SSH_ASKPASS': 'C:/Program Files/Git/mingw64/bin/git-askpass.exe',\n",
       "        'SYSTEMDRIVE': 'C:',\n",
       "        'SYSTEMROOT': 'C:\\\\WINDOWS',\n",
       "        'TEMP': 'C:\\\\Users\\\\pkhad\\\\AppData\\\\Local\\\\Temp',\n",
       "        'TERM': 'xterm-color',\n",
       "        'TMP': 'C:\\\\Users\\\\pkhad\\\\AppData\\\\Local\\\\Temp',\n",
       "        'TMPDIR': 'C:\\\\Users\\\\pkhad\\\\AppData\\\\Local\\\\Temp',\n",
       "        'USERDOMAIN': 'PRS',\n",
       "        'USERDOMAIN_ROAMINGPROFILE': 'PRS',\n",
       "        'USERNAME': 'pkhad',\n",
       "        'USERPROFILE': 'C:\\\\Users\\\\pkhad',\n",
       "        'WINDIR': 'C:\\\\WINDOWS',\n",
       "        'ZES_ENABLE_SYSMAN': '1',\n",
       "        '_': 'C:/Program Files/Python313/python',\n",
       "        'PYDEVD_USE_FRAME_EVAL': 'NO',\n",
       "        'CLICOLOR': '1',\n",
       "        'FORCE_COLOR': '1',\n",
       "        'CLICOLOR_FORCE': '1',\n",
       "        'PAGER': 'cat',\n",
       "        'GIT_PAGER': 'cat',\n",
       "        'MPLBACKEND': 'module://matplotlib_inline.backend_inline',\n",
       "        'MYPASSWORD': 'secret passwprd'}"
      ]
     },
     "execution_count": 25,
     "metadata": {},
     "output_type": "execute_result"
    }
   ],
   "source": [
    "os.environ"
   ]
  },
  {
   "cell_type": "code",
   "execution_count": null,
   "id": "8f54eee3-690b-42dd-bb05-18b767282ac1",
   "metadata": {},
   "outputs": [],
   "source": []
  }
 ],
 "metadata": {
  "kernelspec": {
   "display_name": "Python 3 (ipykernel)",
   "language": "python",
   "name": "python3"
  },
  "language_info": {
   "codemirror_mode": {
    "name": "ipython",
    "version": 3
   },
   "file_extension": ".py",
   "mimetype": "text/x-python",
   "name": "python",
   "nbconvert_exporter": "python",
   "pygments_lexer": "ipython3",
   "version": "3.13.0"
  }
 },
 "nbformat": 4,
 "nbformat_minor": 5
}
