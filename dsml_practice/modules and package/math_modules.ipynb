{
 "cells": [
  {
   "cell_type": "code",
   "execution_count": 1,
   "id": "f25ff267-5fc4-4109-8f52-02d1c411bfeb",
   "metadata": {},
   "outputs": [],
   "source": [
    "import math"
   ]
  },
  {
   "cell_type": "code",
   "execution_count": 2,
   "id": "58abdffe-92d9-425d-bf8b-34c1a384c48e",
   "metadata": {},
   "outputs": [],
   "source": [
    "from math import sqrt"
   ]
  },
  {
   "cell_type": "code",
   "execution_count": 3,
   "id": "ec6fbffb-6691-432b-9edc-a2ea085fbf0b",
   "metadata": {},
   "outputs": [
    {
     "data": {
      "text/plain": [
       "16.0"
      ]
     },
     "execution_count": 3,
     "metadata": {},
     "output_type": "execute_result"
    }
   ],
   "source": [
    "math.pow(4,2)"
   ]
  },
  {
   "cell_type": "code",
   "execution_count": 4,
   "id": "35e15a98-ed76-4298-ba60-1e36dc9afd80",
   "metadata": {},
   "outputs": [
    {
     "data": {
      "text/plain": [
       "9.9498743710662"
      ]
     },
     "execution_count": 4,
     "metadata": {},
     "output_type": "execute_result"
    }
   ],
   "source": [
    "math.sqrt(99)"
   ]
  },
  {
   "cell_type": "code",
   "execution_count": 5,
   "id": "ed4e481f-4335-4cff-bc4a-a1110fcc3ad7",
   "metadata": {},
   "outputs": [
    {
     "data": {
      "text/plain": [
       "3"
      ]
     },
     "execution_count": 5,
     "metadata": {},
     "output_type": "execute_result"
    }
   ],
   "source": [
    "math.ceil(2.0001)"
   ]
  },
  {
   "cell_type": "code",
   "execution_count": 6,
   "id": "7252b97b-23c2-4d29-8cb9-778330bf91a6",
   "metadata": {},
   "outputs": [
    {
     "data": {
      "text/plain": [
       "2"
      ]
     },
     "execution_count": 6,
     "metadata": {},
     "output_type": "execute_result"
    }
   ],
   "source": [
    "math.floor(2.999999999)"
   ]
  },
  {
   "cell_type": "code",
   "execution_count": 7,
   "id": "2fbd2ca2-cf51-4980-9d88-5916201e50c2",
   "metadata": {},
   "outputs": [
    {
     "data": {
      "text/plain": [
       "2"
      ]
     },
     "execution_count": 7,
     "metadata": {},
     "output_type": "execute_result"
    }
   ],
   "source": [
    "math.trunc(2.89)"
   ]
  },
  {
   "cell_type": "code",
   "execution_count": 8,
   "id": "8584a650-036a-4619-9e65-826038338821",
   "metadata": {},
   "outputs": [
    {
     "data": {
      "text/plain": [
       "45.0"
      ]
     },
     "execution_count": 8,
     "metadata": {},
     "output_type": "execute_result"
    }
   ],
   "source": [
    "math.fabs(-45)"
   ]
  },
  {
   "cell_type": "code",
   "execution_count": 12,
   "id": "7ef6efb8-7fdc-4b31-8089-a286f1c8fef9",
   "metadata": {},
   "outputs": [
    {
     "data": {
      "text/plain": [
       "0.5235987755982988"
      ]
     },
     "execution_count": 12,
     "metadata": {},
     "output_type": "execute_result"
    }
   ],
   "source": [
    "d_to_r=math.radians(30)\n",
    "d_to_r"
   ]
  },
  {
   "cell_type": "code",
   "execution_count": 14,
   "id": "91116159-548b-430f-b5ea-254ab868da6f",
   "metadata": {},
   "outputs": [
    {
     "data": {
      "text/plain": [
       "0.49999999999999994"
      ]
     },
     "execution_count": 14,
     "metadata": {},
     "output_type": "execute_result"
    }
   ],
   "source": [
    "math.sin(d_to_r)"
   ]
  },
  {
   "cell_type": "code",
   "execution_count": 16,
   "id": "08950a0c-6de4-40de-99e9-0c71af56eaa3",
   "metadata": {},
   "outputs": [
    {
     "data": {
      "text/plain": [
       "0.5235987755982988"
      ]
     },
     "execution_count": 16,
     "metadata": {},
     "output_type": "execute_result"
    }
   ],
   "source": [
    "d_to_r=math.radians(30)\n",
    "d_to_r"
   ]
  },
  {
   "cell_type": "code",
   "execution_count": 17,
   "id": "dafc91f7-f7e4-4388-b763-eb3f999fc2de",
   "metadata": {},
   "outputs": [
    {
     "data": {
      "text/plain": [
       "0.8660254037844387"
      ]
     },
     "execution_count": 17,
     "metadata": {},
     "output_type": "execute_result"
    }
   ],
   "source": [
    "math.cos(d_to_r)"
   ]
  },
  {
   "cell_type": "code",
   "execution_count": 18,
   "id": "de9796e5-f986-40fb-a7f0-79846ba76050",
   "metadata": {},
   "outputs": [
    {
     "data": {
      "text/plain": [
       "5.0"
      ]
     },
     "execution_count": 18,
     "metadata": {},
     "output_type": "execute_result"
    }
   ],
   "source": [
    "math.hypot(3,4)"
   ]
  },
  {
   "cell_type": "code",
   "execution_count": 21,
   "id": "4b3c4eb5-0938-41e7-8e53-e8b21c73a5b2",
   "metadata": {},
   "outputs": [
    {
     "data": {
      "text/plain": [
       "1.0"
      ]
     },
     "execution_count": 21,
     "metadata": {},
     "output_type": "execute_result"
    }
   ],
   "source": [
    "math.exp(0)"
   ]
  },
  {
   "cell_type": "code",
   "execution_count": 19,
   "id": "ae07d9f2-ee84-44b3-8799-e5760fe64617",
   "metadata": {},
   "outputs": [
    {
     "data": {
      "text/plain": [
       "2.718281828459045"
      ]
     },
     "execution_count": 19,
     "metadata": {},
     "output_type": "execute_result"
    }
   ],
   "source": [
    "math.exp(1)"
   ]
  },
  {
   "cell_type": "code",
   "execution_count": 20,
   "id": "a2078bb6-d1cc-4f4e-99df-583421d5c155",
   "metadata": {},
   "outputs": [
    {
     "data": {
      "text/plain": [
       "7.38905609893065"
      ]
     },
     "execution_count": 20,
     "metadata": {},
     "output_type": "execute_result"
    }
   ],
   "source": [
    "math.exp(2)"
   ]
  },
  {
   "cell_type": "code",
   "execution_count": 22,
   "id": "d74e961e-e833-4dc6-838e-39c11bc6c2f6",
   "metadata": {},
   "outputs": [
    {
     "data": {
      "text/plain": [
       "4.605170185988092"
      ]
     },
     "execution_count": 22,
     "metadata": {},
     "output_type": "execute_result"
    }
   ],
   "source": [
    "math.log(100)"
   ]
  },
  {
   "cell_type": "code",
   "execution_count": 23,
   "id": "f4b78353-a5f5-459c-a481-c2a074f2b84f",
   "metadata": {},
   "outputs": [
    {
     "data": {
      "text/plain": [
       "74.3758701563694"
      ]
     },
     "execution_count": 23,
     "metadata": {},
     "output_type": "execute_result"
    }
   ],
   "source": [
    "math.log(200000000000000000000000000000000)"
   ]
  },
  {
   "cell_type": "code",
   "execution_count": 25,
   "id": "3dcf0481-8cf5-4f0e-9bdb-f8b97c186c39",
   "metadata": {},
   "outputs": [
    {
     "name": "stdout",
     "output_type": "stream",
     "text": [
      "[4.605170185988092, 4.605170185988092, 4.605170185988092, 4.605170185988092, 4.605170185988092, 4.605170185988092, 4.605170185988092, 4.605170185988092, 4.605170185988092, 4.605170185988092, 4.605170185988092, 4.605170185988092, 4.605170185988092, 4.605170185988092, 4.605170185988092, 4.605170185988092, 4.605170185988092, 4.605170185988092, 4.605170185988092, 4.605170185988092, 4.605170185988092, 4.605170185988092, 4.605170185988092, 4.605170185988092, 4.605170185988092, 4.605170185988092, 4.605170185988092, 4.605170185988092, 4.605170185988092, 4.605170185988092, 4.605170185988092, 4.605170185988092, 4.605170185988092, 4.605170185988092, 4.605170185988092, 4.605170185988092, 4.605170185988092, 4.605170185988092, 4.605170185988092, 4.605170185988092, 4.605170185988092, 4.605170185988092, 4.605170185988092, 4.605170185988092, 4.605170185988092, 4.605170185988092, 4.605170185988092, 4.605170185988092, 4.605170185988092, 4.605170185988092, 4.605170185988092, 4.605170185988092, 4.605170185988092, 4.605170185988092, 4.605170185988092, 4.605170185988092, 4.605170185988092, 4.605170185988092, 4.605170185988092, 4.605170185988092, 4.605170185988092, 4.605170185988092, 4.605170185988092, 4.605170185988092, 4.605170185988092, 4.605170185988092, 4.605170185988092, 4.605170185988092, 4.605170185988092, 4.605170185988092, 4.605170185988092, 4.605170185988092, 4.605170185988092, 4.605170185988092, 4.605170185988092, 4.605170185988092, 4.605170185988092, 4.605170185988092, 4.605170185988092, 4.605170185988092, 4.605170185988092, 4.605170185988092, 4.605170185988092, 4.605170185988092, 4.605170185988092, 4.605170185988092, 4.605170185988092, 4.605170185988092, 4.605170185988092, 4.605170185988092, 4.605170185988092, 4.605170185988092, 4.605170185988092, 4.605170185988092, 4.605170185988092, 4.605170185988092, 4.605170185988092, 4.605170185988092, 4.605170185988092]\n"
     ]
    }
   ],
   "source": [
    "print([math.log(100)for i in range(1,100)])"
   ]
  },
  {
   "cell_type": "code",
   "execution_count": 26,
   "id": "b1761706-697a-4f25-be14-0b4e9a2d0b88",
   "metadata": {},
   "outputs": [
    {
     "data": {
      "text/plain": [
       "3.141592653589793"
      ]
     },
     "execution_count": 26,
     "metadata": {},
     "output_type": "execute_result"
    }
   ],
   "source": [
    "math.pi"
   ]
  },
  {
   "cell_type": "code",
   "execution_count": 27,
   "id": "5af69246-8f61-4477-abb5-356e23158be7",
   "metadata": {},
   "outputs": [
    {
     "data": {
      "text/plain": [
       "inf"
      ]
     },
     "execution_count": 27,
     "metadata": {},
     "output_type": "execute_result"
    }
   ],
   "source": [
    "math.inf"
   ]
  },
  {
   "cell_type": "code",
   "execution_count": 28,
   "id": "736a4e47-9166-4c82-952e-351df491bbc4",
   "metadata": {},
   "outputs": [
    {
     "data": {
      "text/plain": [
       "nan"
      ]
     },
     "execution_count": 28,
     "metadata": {},
     "output_type": "execute_result"
    }
   ],
   "source": [
    "math.nan"
   ]
  },
  {
   "cell_type": "code",
   "execution_count": 30,
   "id": "74e25166-8856-4bbf-8f6a-872df6fda4be",
   "metadata": {},
   "outputs": [
    {
     "data": {
      "text/plain": [
       "720"
      ]
     },
     "execution_count": 30,
     "metadata": {},
     "output_type": "execute_result"
    }
   ],
   "source": [
    "math.factorial(6)"
   ]
  },
  {
   "cell_type": "code",
   "execution_count": 32,
   "id": "b36056dc-27f9-417b-bb87-86d695515651",
   "metadata": {},
   "outputs": [
    {
     "data": {
      "text/plain": [
       "10"
      ]
     },
     "execution_count": 32,
     "metadata": {},
     "output_type": "execute_result"
    }
   ],
   "source": [
    "math.comb(5,2)"
   ]
  },
  {
   "cell_type": "code",
   "execution_count": null,
   "id": "7975bb3b-a417-4482-bafd-0465771c6862",
   "metadata": {},
   "outputs": [],
   "source": []
  },
  {
   "cell_type": "code",
   "execution_count": null,
   "id": "920acda0-bdf9-41d9-a425-f70fc90b45ad",
   "metadata": {},
   "outputs": [],
   "source": []
  },
  {
   "cell_type": "code",
   "execution_count": null,
   "id": "e39d4db5-988c-40e4-a6cd-ef627a666f76",
   "metadata": {},
   "outputs": [],
   "source": []
  },
  {
   "cell_type": "code",
   "execution_count": null,
   "id": "34708564-0be7-4376-9734-7eae2f1f29ce",
   "metadata": {},
   "outputs": [],
   "source": []
  },
  {
   "cell_type": "code",
   "execution_count": null,
   "id": "8af13f2c-ed9b-403c-82cd-1973310a4b4d",
   "metadata": {},
   "outputs": [],
   "source": []
  },
  {
   "cell_type": "code",
   "execution_count": null,
   "id": "a5685b6c-f865-4720-bca3-d88679b5496a",
   "metadata": {},
   "outputs": [],
   "source": []
  }
 ],
 "metadata": {
  "kernelspec": {
   "display_name": "Python 3 (ipykernel)",
   "language": "python",
   "name": "python3"
  },
  "language_info": {
   "codemirror_mode": {
    "name": "ipython",
    "version": 3
   },
   "file_extension": ".py",
   "mimetype": "text/x-python",
   "name": "python",
   "nbconvert_exporter": "python",
   "pygments_lexer": "ipython3",
   "version": "3.13.0"
  }
 },
 "nbformat": 4,
 "nbformat_minor": 5
}
