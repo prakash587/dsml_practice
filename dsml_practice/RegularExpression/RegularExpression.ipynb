{
 "cells": [
  {
   "cell_type": "code",
   "execution_count": null,
   "id": "2d08c79d-80b7-4fc7-bcc1-380b4b6f66be",
   "metadata": {},
   "outputs": [],
   "source": []
  },
  {
   "cell_type": "code",
   "execution_count": null,
   "id": "1144a78b-5346-45c4-a315-7d645e3c94b0",
   "metadata": {},
   "outputs": [],
   "source": []
  },
  {
   "cell_type": "code",
   "execution_count": 7,
   "id": "47214353-135a-4f5c-b985-c3183230be4c",
   "metadata": {},
   "outputs": [],
   "source": [
    "import re\n",
    "\n",
    "txt = \"The rain in Spain\"\n",
    "x = re.search(\"^The.*Spain$\", txt)"
   ]
  },
  {
   "cell_type": "code",
   "execution_count": null,
   "id": "9d6394a2-c3b9-4157-a73c-adf7c63c5f61",
   "metadata": {},
   "outputs": [],
   "source": []
  },
  {
   "cell_type": "code",
   "execution_count": null,
   "id": "5cd6c5ad-578a-4379-b6d7-8e935bd19e87",
   "metadata": {},
   "outputs": [],
   "source": []
  },
  {
   "cell_type": "code",
   "execution_count": 4,
   "id": "f1c3fa8b-a487-41fd-a755-2a9f80b363ae",
   "metadata": {},
   "outputs": [],
   "source": [
    "import re"
   ]
  },
  {
   "cell_type": "code",
   "execution_count": 5,
   "id": "44c0e5da-93a2-4fa3-a771-99d84cfaa23b",
   "metadata": {},
   "outputs": [],
   "source": [
    "string=\"The quick boewn fox jup over the laxu dodc\"\n",
    "pattern= r\"[A-z]*\"\n",
    "\n",
    "match = re.findall(pattern, string)"
   ]
  },
  {
   "cell_type": "code",
   "execution_count": 6,
   "id": "5fdd3698-b82f-48aa-a757-37dc488b674b",
   "metadata": {},
   "outputs": [
    {
     "data": {
      "text/plain": [
       "['The',\n",
       " '',\n",
       " 'quick',\n",
       " '',\n",
       " 'boewn',\n",
       " '',\n",
       " 'fox',\n",
       " '',\n",
       " 'jup',\n",
       " '',\n",
       " 'over',\n",
       " '',\n",
       " 'the',\n",
       " '',\n",
       " 'laxu',\n",
       " '',\n",
       " 'dodc',\n",
       " '']"
      ]
     },
     "execution_count": 6,
     "metadata": {},
     "output_type": "execute_result"
    }
   ],
   "source": [
    "match"
   ]
  },
  {
   "cell_type": "code",
   "execution_count": 8,
   "id": "8d6adb89-5c09-4fc5-9973-4324c66f366a",
   "metadata": {},
   "outputs": [],
   "source": [
    "string=\"The quick boewn fox jup over the laxu dodc\"\n",
    "pattern= r\"[A-z]he*\"\n",
    "repl='the'\n",
    "match = re.sub(pattern, repl, string, count=1)"
   ]
  },
  {
   "cell_type": "code",
   "execution_count": 9,
   "id": "fef995c1-8794-43c2-bcf1-6c3b0902643a",
   "metadata": {},
   "outputs": [
    {
     "data": {
      "text/plain": [
       "'the quick boewn fox jup over the laxu dodc'"
      ]
     },
     "execution_count": 9,
     "metadata": {},
     "output_type": "execute_result"
    }
   ],
   "source": [
    "match"
   ]
  },
  {
   "cell_type": "code",
   "execution_count": null,
   "id": "32fd61c6-308b-4bf4-ad06-58f568a3f1cb",
   "metadata": {},
   "outputs": [],
   "source": []
  }
 ],
 "metadata": {
  "kernelspec": {
   "display_name": "Python 3 (ipykernel)",
   "language": "python",
   "name": "python3"
  },
  "language_info": {
   "codemirror_mode": {
    "name": "ipython",
    "version": 3
   },
   "file_extension": ".py",
   "mimetype": "text/x-python",
   "name": "python",
   "nbconvert_exporter": "python",
   "pygments_lexer": "ipython3",
   "version": "3.13.0"
  }
 },
 "nbformat": 4,
 "nbformat_minor": 5
}
