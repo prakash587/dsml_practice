{
 "cells": [
  {
   "cell_type": "markdown",
   "id": "4653b1cb-c2c8-4e5b-a5de-ed1483ceade0",
   "metadata": {},
   "source": [
    "### Question : Check for Palindrome\n",
    "Write a Python program using a lambda function to check if a given string is a palindrome.\n",
    "\n",
    "Example:\n",
    "\n",
    "Input: `\"level\"`\n",
    "\n",
    "Output: `True`"
   ]
  },
  {
   "cell_type": "code",
   "execution_count": 7,
   "id": "5f752a14-c5b9-41aa-b834-dbe903b8570e",
   "metadata": {},
   "outputs": [
    {
     "name": "stdout",
     "output_type": "stream",
     "text": [
      "True\n"
     ]
    }
   ],
   "source": [
    "word=\"level\"\n",
    "is_palindrome = lambda s: s == s[::-1]\n",
    "\n",
    "# Example usage\n",
    "#word = input(\"Enter a word: \")\n",
    "print(is_palindrome(word))\n"
   ]
  },
  {
   "cell_type": "markdown",
   "id": "0a463a27-b3c1-4601-889d-4f1473801547",
   "metadata": {},
   "source": [
    "### Question: \n",
    "Write a Python program to check whether a given number is an Armstrong number or not.\n",
    "\n",
    "**Definition:**\n",
    "An **Armstrong number** (also known as a **narcissistic number**) is a number that is equal to the sum of its own digits each raised to the power of the number of digits. For example:\n",
    "- 153 is an Armstrong number because \\( 1^3 + 5^3 + 3^3 = 153 \\).\n",
    "- 9474 is an Armstrong number because \\( 9^4 + 4^4 + 7^4 + 4^4 = 9474 \\).\n",
    "\n",
    "**Input:**  \n",
    "An integer (e.g., 153).\n",
    "\n",
    "**Output:**  \n",
    "Output \"Yes, it's an Armstrong number.\" if the number is an Armstrong number. Otherwise, output \"No, it's not an Armstrong number.\"\n",
    "\n",
    "**Constraints:**  \n",
    "- The input should be a positive integer.  \n"
   ]
  },
  {
   "cell_type": "code",
   "execution_count": 11,
   "id": "1fa45d21-fef5-48fa-acbe-28fc1799e795",
   "metadata": {},
   "outputs": [
    {
     "name": "stdin",
     "output_type": "stream",
     "text": [
      "Enter a number:  9474\n"
     ]
    },
    {
     "name": "stdout",
     "output_type": "stream",
     "text": [
      "Yes, it's an Armstrong number.\n"
     ]
    }
   ],
   "source": [
    "num = int(input(\"Enter a number: \"))\n",
    "digits = [int(d) for d in str(num)]\n",
    "power = len(digits)\n",
    "\n",
    "total = sum(d ** power for d in digits)\n",
    "\n",
    "if total == num:\n",
    "    print(\"Yes, it's an Armstrong number.\")\n",
    "else:\n",
    "    print(\"No, it's not an Armstrong number.\")\n"
   ]
  },
  {
   "cell_type": "code",
   "execution_count": 12,
   "id": "8586a0e4-42c6-40a8-9850-d4beef39cfca",
   "metadata": {},
   "outputs": [
    {
     "name": "stdout",
     "output_type": "stream",
     "text": [
      "Yes, it's an Armstrong number.\n"
     ]
    }
   ],
   "source": [
    "num = 9474\n",
    "original = num\n",
    "power = len(str(num))\n",
    "total = 0\n",
    "\n",
    "while num > 0:\n",
    "    digit = num % 10\n",
    "    total += digit ** power\n",
    "    num //= 10\n",
    "\n",
    "if total == original:\n",
    "    print(\"Yes, it's an Armstrong number.\")\n",
    "else:\n",
    "    print(\"No, it's not an Armstrong number.\")\n"
   ]
  },
  {
   "cell_type": "markdown",
   "id": "7683b8da-3cdd-4be5-b99f-8d14fa099eda",
   "metadata": {},
   "source": [
    "### Control Flow with Nested Loops and Complex Logic\n",
    "\n",
    "Write a Python program that simulates a **number guessing game**:\n",
    "\n",
    "1. The program should generate a random number between 1 and 100 and give the user 7 attempts to guess it.\n",
    "\n",
    "2. After each wrong guess, the program should provide a hint whether the guess was too high or too low.\n",
    "\n",
    "3. If the user fails to guess the number within the attempts, the program should reveal the number and ask if they would like to play again."
   ]
  },
  {
   "cell_type": "code",
   "execution_count": 34,
   "id": "d3e22ad8-40b4-4d98-8d95-3742a47a7c0f",
   "metadata": {},
   "outputs": [
    {
     "name": "stdin",
     "output_type": "stream",
     "text": [
      "Attempt 1/7 - Guess the number:  34\n"
     ]
    },
    {
     "name": "stdout",
     "output_type": "stream",
     "text": [
      "Too low! Try a higher number.\n"
     ]
    },
    {
     "name": "stdin",
     "output_type": "stream",
     "text": [
      "Attempt 2/7 - Guess the number:  67\n"
     ]
    },
    {
     "name": "stdout",
     "output_type": "stream",
     "text": [
      "Too high! Try a lower number.\n"
     ]
    },
    {
     "name": "stdin",
     "output_type": "stream",
     "text": [
      "Attempt 3/7 - Guess the number:  54\n"
     ]
    },
    {
     "name": "stdout",
     "output_type": "stream",
     "text": [
      "Too high! Try a lower number.\n"
     ]
    },
    {
     "name": "stdin",
     "output_type": "stream",
     "text": [
      "Attempt 4/7 - Guess the number:  44\n"
     ]
    },
    {
     "name": "stdout",
     "output_type": "stream",
     "text": [
      "Too high! Try a lower number.\n"
     ]
    },
    {
     "name": "stdin",
     "output_type": "stream",
     "text": [
      "Attempt 5/7 - Guess the number:  40\n"
     ]
    },
    {
     "name": "stdout",
     "output_type": "stream",
     "text": [
      "Too low! Try a higher number.\n"
     ]
    },
    {
     "name": "stdin",
     "output_type": "stream",
     "text": [
      "Attempt 6/7 - Guess the number:  43\n"
     ]
    },
    {
     "name": "stdout",
     "output_type": "stream",
     "text": [
      "You guessed it right! You win!\n"
     ]
    },
    {
     "name": "stdin",
     "output_type": "stream",
     "text": [
      "Do you want to play again? (yes/no):  no\n"
     ]
    },
    {
     "name": "stdout",
     "output_type": "stream",
     "text": [
      "Thanks for playing! Goodbye.\n"
     ]
    }
   ],
   "source": [
    "import random\n",
    "\n",
    "def play_game():\n",
    "    number_to_guess = random.randint(1, 100)\n",
    "    max_attempts = 7\n",
    "\n",
    "    for attempt in range(1, max_attempts + 1):\n",
    "        guess = int(input(f\"Attempt {attempt}/7 - Guess the number: \"))\n",
    "\n",
    "        if guess == number_to_guess:\n",
    "            print(\"You guessed it right! You win!\")\n",
    "            break\n",
    "        elif guess < number_to_guess:\n",
    "            print(\"Too low! Try a higher number.\")\n",
    "        else:\n",
    "            print(\"Too high! Try a lower number.\")\n",
    "\n",
    "        if attempt == max_attempts:\n",
    "            print(f\"Out of attempts! The number was {number_to_guess}.\")\n",
    "\n",
    "while True:\n",
    "    play_game()\n",
    "    play_again = input(\"Do you want to play again? (yes/no): \").lower()\n",
    "    if play_again != \"yes\":\n",
    "        print(\"Thanks for playing! Goodbye.\")\n",
    "        break\n"
   ]
  },
  {
   "cell_type": "markdown",
   "id": "92a3f3c1-11f3-4ab8-a005-f094d252ca2f",
   "metadata": {},
   "source": [
    "\n",
    "### Write a Python program that iterates through integers from 1 to 50. For each multiple of three, print \"Fizz\" instead of the number; for each multiple of five, print \"Buzz\". For numbers that are multiples of both three and five, print \"FizzBuzz\".\n",
    "\n",
    "The FizzBuzz problem is a common coding challenge that is often used in programming interviews to test basic programming skills. The problem typically requires writing a function that prints numbers from 1 to a given limit, but with a twist:\n",
    "\n",
    "- For multiples of 3, print \"Fizz\" instead of the number.\n",
    "- For multiples of 5, print \"Buzz\" instead of the number.\n",
    "- For numbers which are multiples of both 3 and 5, print \"FizzBuzz\".\n",
    "\n",
    "\n"
   ]
  },
  {
   "cell_type": "code",
   "execution_count": 53,
   "id": "95d4cdb1-7776-44f9-858b-1611c93832d3",
   "metadata": {},
   "outputs": [
    {
     "name": "stdin",
     "output_type": "stream",
     "text": [
      "Enter a number:  15\n"
     ]
    },
    {
     "name": "stdout",
     "output_type": "stream",
     "text": [
      "FizzBuzz\n"
     ]
    }
   ],
   "source": [
    "num = int(input(\"Enter a number: \"))\n",
    "\n",
    "if num % 3 == 0 and num % 5 == 0:\n",
    "    print(\"FizzBuzz\")\n",
    "elif num % 3 == 0:\n",
    "    print(\"Fizz\")\n",
    "elif num % 5 == 0:\n",
    "    print(\"Buzz\")\n",
    "else:\n",
    "    print(num)\n"
   ]
  },
  {
   "cell_type": "code",
   "execution_count": null,
   "id": "8143b318-ecc7-4c47-a7d1-3776ac67b334",
   "metadata": {},
   "outputs": [],
   "source": []
  },
  {
   "cell_type": "markdown",
   "id": "9d90f8c0-0493-435c-bac5-30fbc8e21215",
   "metadata": {},
   "source": [
    "### Scenario:\n",
    "\n",
    "You are tasked with designing a system for a **vehicle rental company**. The company rents out various types of vehicles like **Cars** and **Bikes**, and each vehicle has some shared characteristics but also some distinct ones. \n",
    "\n",
    "### Requirements:\n",
    "1. Each **Vehicle** has attributes such as:\n",
    "   - `vehicle_id`: A unique identifier for the vehicle.\n",
    "   - `brand`: The brand of the vehicle.\n",
    "   - `rental_price`: Price per day to rent the vehicle.\n",
    "\n",
    "2. Both **Car** and **Bike** are types of **Vehicles**.  \n",
    "   - A **Car** has an additional attribute: `number_of_doors`.  \n",
    "   - A **Bike** has an additional attribute: `bike_type` (e.g., mountain bike, racing bike).\n",
    "\n",
    "3. You should provide methods to:\n",
    "   - **Calculate total rental cost**: Given the number of rental days, calculate the total cost for any vehicle.\n",
    "   - **Display vehicle details**: For both cars and bikes, display details including the unique attributes (e.g., `number_of_doors` for cars, `bike_type` for bikes).\n",
    "\n",
    "4. Implement the following OOP concepts:\n",
    "   - **Abstraction**: Provide a clean interface for calculating the total rental cost and displaying vehicle details, hiding the internal logic.\n",
    "   - **Inheritance**: Both **Car** and **Bike** should inherit common functionality from the **Vehicle** class.\n",
    "   - **Polymorphism**: Use method overriding so that the method for displaying vehicle details works differently for cars and bikes.\n",
    "\n",
    "---\n",
    "\n",
    "### Task:\n",
    "\n",
    "1. **Define a `Vehicle` base class** that implements the common attributes and methods.\n",
    "2. **Define two subclasses `Car` and `Bike`** that inherit from `Vehicle` and implement their specific attributes.\n",
    "3. Use encapsulation by making attributes private and providing public methods to interact with them.\n",
    "4. Use polymorphism to create a `display_details` method that behaves differently for `Car` and `Bike`.\n"
   ]
  },
  {
   "cell_type": "code",
   "execution_count": null,
   "id": "440ecea9-4edf-4b8d-947d-c967bce95821",
   "metadata": {},
   "outputs": [],
   "source": [
    "from abc import ABC, abstractmethod\n",
    "\n",
    "# Base class\n",
    "class Vehicle(ABC):\n",
    "    def __init__(self, vehicle_id, brand, rental_price):\n",
    "        self.__vehicle_id = vehicle_id         # Private attributes\n",
    "        self.__brand = brand\n",
    "        self.__rental_price = rental_price\n",
    "\n",
    "    # Encapsulated getter methods\n",
    "    def get_vehicle_id(self):\n",
    "        return self.__vehicle_id\n",
    "\n",
    "    def get_brand(self):\n",
    "        return self.__brand\n",
    "\n",
    "    def get_rental_price(self):\n",
    "        return self.__rental_price\n",
    "\n",
    "    # Abstract method for polymorphism\n",
    "    @abstractmethod\n",
    "    def display_details(self):\n",
    "        pass\n",
    "\n",
    "    # Shared method: Abstraction for rental cost calculation\n",
    "    def calculate_rental_cost(self, days):\n",
    "        return self.__rental_price * days\n",
    "\n",
    "\n",
    "# Car subclass\n",
    "class Car(Vehicle):\n",
    "    def __init__(self, vehicle_id, brand, rental_price, number_of_doors):\n",
    "        super().__init__(vehicle_id, brand, rental_price)\n",
    "        self.__number_of_doors = number_of_doors\n",
    "\n",
    "    def display_details(self):\n",
    "        print(\"Car Details:\")\n",
    "        print(f\"Vehicle ID   : {self.get_vehicle_id()}\")\n",
    "        print(f\"Brand        : {self.get_brand()}\")\n",
    "        print(f\"Rental Price : ${self.get_rental_price()} per day\")\n",
    "        print(f\"Doors        : {self.__number_of_doors}\")\n",
    "        print(\"-\" * 30)\n",
    "\n",
    "\n",
    "# Bike subclass\n",
    "class Bike(Vehicle):\n",
    "    def __init__(self, vehicle_id, brand, rental_price, bike_type):\n",
    "        super().__init__(vehicle_id, brand, rental_price)\n",
    "        self.__bike_type = bike_type\n",
    "\n",
    "    def display_details(self):\n",
    "        print(\"Bike Details:\")\n",
    "        print(f\"Vehicle ID   : {self.get_vehicle_id()}\")\n",
    "        print(f\"Brand        : {self.get_brand()}\")\n",
    "        print(f\"Rental Price : ${self.get_rental_price()} per day\")\n",
    "        print(f\"Bike Type    : {self.__bike_type}\")\n",
    "        print(\"-\" * 30)\n",
    "\n",
    "\n",
    "\n",
    "car1 = Car(\"CAR101\", \"Toyota\", 40, 4)\n",
    "bike1 = Bike(\"BIKE202\", \"Yamaha\", 15, \"Racing\")\n",
    "\n",
    "car1.display_details()\n",
    "print(\"Total Rental for 3 days: $\", car1.calculate_rental_cost(3))\n",
    "\n",
    "bike1.display_details()\n",
    "print(\"Total Rental for 5 days: $\", bike1.calculate_rental_cost(5))\n",
    "\n"
   ]
  },
  {
   "cell_type": "code",
   "execution_count": null,
   "id": "838ad3c1-7f16-41b6-b770-1cc241c04649",
   "metadata": {},
   "outputs": [],
   "source": []
  },
  {
   "cell_type": "code",
   "execution_count": null,
   "id": "a82826cd-35e8-4589-99d6-7c6a8824d5b7",
   "metadata": {},
   "outputs": [],
   "source": []
  },
  {
   "cell_type": "code",
   "execution_count": null,
   "id": "86afee2d-95fb-44a7-8640-5210e37ac7b2",
   "metadata": {},
   "outputs": [],
   "source": []
  },
  {
   "cell_type": "code",
   "execution_count": null,
   "id": "0cc529d4-8dc9-4aff-9a13-1912ecac24a3",
   "metadata": {},
   "outputs": [],
   "source": []
  },
  {
   "cell_type": "code",
   "execution_count": null,
   "id": "4dd1a62d-181e-4323-9a0c-5813b464386f",
   "metadata": {},
   "outputs": [],
   "source": []
  },
  {
   "cell_type": "code",
   "execution_count": null,
   "id": "491db0aa-62cc-4558-ad64-2d6b60668cbd",
   "metadata": {},
   "outputs": [],
   "source": []
  },
  {
   "cell_type": "code",
   "execution_count": null,
   "id": "acb6e12c-e9cc-488e-b7e1-77c7de037509",
   "metadata": {},
   "outputs": [],
   "source": []
  },
  {
   "cell_type": "code",
   "execution_count": null,
   "id": "18ddadd1-a3c8-4247-87be-c0908914dcc7",
   "metadata": {},
   "outputs": [],
   "source": []
  },
  {
   "cell_type": "code",
   "execution_count": null,
   "id": "43024b1d-a3c9-4573-9627-cbc86daecc4b",
   "metadata": {},
   "outputs": [],
   "source": []
  },
  {
   "cell_type": "code",
   "execution_count": null,
   "id": "c8378f54-8f9a-4fae-908b-eb82ca5ce7cb",
   "metadata": {},
   "outputs": [],
   "source": []
  },
  {
   "cell_type": "code",
   "execution_count": null,
   "id": "307af7fd-0224-457a-b8c8-0f6bfda44228",
   "metadata": {},
   "outputs": [],
   "source": []
  },
  {
   "cell_type": "code",
   "execution_count": null,
   "id": "f868193d-5e39-4481-81b4-ac0dc9a96571",
   "metadata": {},
   "outputs": [],
   "source": []
  },
  {
   "cell_type": "code",
   "execution_count": null,
   "id": "f3e63c2f-ec41-41c7-b89b-34d4240a967b",
   "metadata": {},
   "outputs": [],
   "source": []
  }
 ],
 "metadata": {
  "kernelspec": {
   "display_name": "Python 3 (ipykernel)",
   "language": "python",
   "name": "python3"
  },
  "language_info": {
   "codemirror_mode": {
    "name": "ipython",
    "version": 3
   },
   "file_extension": ".py",
   "mimetype": "text/x-python",
   "name": "python",
   "nbconvert_exporter": "python",
   "pygments_lexer": "ipython3",
   "version": "3.13.0"
  }
 },
 "nbformat": 4,
 "nbformat_minor": 5
}
