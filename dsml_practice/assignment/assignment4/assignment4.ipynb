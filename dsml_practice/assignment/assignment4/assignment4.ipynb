{
 "cells": [
  {
   "cell_type": "markdown",
   "id": "4580ea38-d9c0-4941-99c5-f09caec7c5e3",
   "metadata": {},
   "source": [
    "### **Assignment: Introduction to Linear Algebra and NumPy**\n",
    "\n",
    "#### **Objective:**\n",
    "This assignment will help you build a solid understanding of basic Linear Algebra concepts using Python and the NumPy library. You'll learn to create and manipulate arrays, perform mathematical operations, and explore properties and methods of arrays."
   ]
  },
  {
   "cell_type": "markdown",
   "id": "1d61cef0-1fb6-44e5-982f-85199d471a0c",
   "metadata": {},
   "source": [
    "\n",
    "### **Working with NumPy**\n",
    "\n",
    "NumPy is a powerful Python library for numerical computations, which allows easy manipulation of arrays and matrices."
   ]
  },
  {
   "cell_type": "markdown",
   "id": "52ee2063-c84d-49c6-b476-4c84ceb96c41",
   "metadata": {},
   "source": [
    "**Task 1:** \n",
    "- Import the `numpy` library and check its version.\n"
   ]
  },
  {
   "cell_type": "code",
   "execution_count": 1,
   "id": "94ab7812-260d-43c2-a97b-cced17ff29be",
   "metadata": {},
   "outputs": [
    {
     "name": "stdout",
     "output_type": "stream",
     "text": [
      "2.3.1\n"
     ]
    }
   ],
   "source": [
    "import numpy as np\n",
    "print(np.__version__)"
   ]
  },
  {
   "cell_type": "markdown",
   "id": "527f1367-b1f3-4dba-a43c-042e1a9a185d",
   "metadata": {},
   "source": [
    "\n",
    "### **Creating a NumPy Array:**\n",
    "\n",
    "NumPy arrays are a powerful way to store and process large datasets. In this section, you will learn to create arrays.\n",
    "\n",
    "**Task 2:**\n",
    "- Create a 1D NumPy array from a Python list of numbers: `[1, 2, 3, 4, 5]`.\n",
    "- Create a 2D NumPy array of shape (3x3) using the numbers from 1 to 9.\n",
    "- Generate an array of 10 evenly spaced values between 0 and 5."
   ]
  },
  {
   "cell_type": "code",
   "execution_count": null,
   "id": "a110c147-5ba8-4f29-998d-11288a061e55",
   "metadata": {},
   "outputs": [],
   "source": []
  },
  {
   "cell_type": "markdown",
   "id": "3299357e-5fed-45a4-88a3-002504f7f737",
   "metadata": {},
   "source": [
    "### **Indexing and Slicing Arrays:**\n",
    "\n",
    "Indexing and slicing allow you to access and modify specific elements of an array.\n",
    "\n",
    "**Task 3:**\n",
    "- Access the element in the second row, third column of the 2D array you created above.\n",
    "- Slice the first two rows and the first two columns from the same array.\n",
    "- Modify the value in the last row and first column to 100.\n"
   ]
  },
  {
   "cell_type": "code",
   "execution_count": null,
   "id": "873fc5a9-687f-4d2e-bfe8-cacd912f9b3f",
   "metadata": {},
   "outputs": [],
   "source": []
  },
  {
   "cell_type": "markdown",
   "id": "09b8a63c-ac72-4c13-bc36-c63bf10e72b4",
   "metadata": {},
   "source": [
    "### **Properties and Methods of NumPy Arrays**\n",
    "\n",
    "NumPy arrays have several useful properties and methods.\n",
    "\n",
    "**Task 4:**\n",
    "- Find the shape, size, and data type of the 2D array.\n",
    "- Change the 1D array into a 2D array of shape (5,1).\n",
    "- Flatten a multi-dimensional array back into a 1D array."
   ]
  },
  {
   "cell_type": "code",
   "execution_count": null,
   "id": "8539fc7d-08d2-4f5e-9e7b-aa167dcdce0f",
   "metadata": {},
   "outputs": [],
   "source": []
  },
  {
   "cell_type": "markdown",
   "id": "ac4ba7d5-bd54-429e-ac29-7ae756ff4bef",
   "metadata": {},
   "source": [
    "### **Operations on NumPy Arrays**\n",
    "\n",
    "Perform operations such as addition, subtraction, multiplication, and matrix multiplication on arrays.\n",
    "\n",
    "**Task 5:**\n",
    "- Add 5 to every element in the 1D array.\n",
    "- Multiply the 2D array by 3.\n",
    "- Perform matrix multiplication between the following two arrays:  \n",
    "    ```python\n",
    "    A = np.array([[1, 2], [3, 4]])\n",
    "    B = np.array([[5, 6], [7, 8]])"
   ]
  },
  {
   "cell_type": "code",
   "execution_count": null,
   "id": "a805a732-50a4-4d96-ae16-6fd8fadeee35",
   "metadata": {},
   "outputs": [],
   "source": []
  },
  {
   "cell_type": "markdown",
   "id": "c87bb301-1d09-432e-9ba8-53844b4956f9",
   "metadata": {},
   "source": [
    "### **Understanding Broadcasting**\n",
    "\n",
    "Broadcasting allows NumPy to work with arrays of different shapes during arithmetic operations.\n",
    "\n",
    "**Task 6:**\n",
    "- Create a 3x3 matrix of ones and a 1D array of length 3.\n",
    "- Add the 1D array to each row of the matrix using broadcasting."
   ]
  },
  {
   "cell_type": "code",
   "execution_count": null,
   "id": "9544644e-0cd8-47e6-a83c-471876674cf5",
   "metadata": {},
   "outputs": [],
   "source": []
  },
  {
   "cell_type": "code",
   "execution_count": null,
   "id": "a6531243-3934-4f6d-a39f-67fd49feb1a3",
   "metadata": {},
   "outputs": [],
   "source": []
  },
  {
   "cell_type": "code",
   "execution_count": null,
   "id": "d315ff39-5143-4b06-8a90-f13f76d50457",
   "metadata": {},
   "outputs": [],
   "source": []
  },
  {
   "cell_type": "code",
   "execution_count": null,
   "id": "fb3e037c-b680-4275-8150-f7059c7665b3",
   "metadata": {},
   "outputs": [],
   "source": []
  },
  {
   "cell_type": "code",
   "execution_count": null,
   "id": "bd314b57-183a-40fe-a61c-dcccdcb05630",
   "metadata": {},
   "outputs": [],
   "source": []
  },
  {
   "cell_type": "code",
   "execution_count": null,
   "id": "cab9af80-f85b-4801-8053-f2c526fa1128",
   "metadata": {},
   "outputs": [],
   "source": []
  },
  {
   "cell_type": "code",
   "execution_count": null,
   "id": "99a9b17f-3139-45d0-8b9e-4fc64b9bc666",
   "metadata": {},
   "outputs": [],
   "source": []
  },
  {
   "cell_type": "code",
   "execution_count": null,
   "id": "07412d3d-46c4-4103-89f8-85b61020ab2e",
   "metadata": {},
   "outputs": [],
   "source": []
  },
  {
   "cell_type": "code",
   "execution_count": null,
   "id": "06e22da4-9275-4982-a306-412037fdc582",
   "metadata": {},
   "outputs": [],
   "source": []
  }
 ],
 "metadata": {
  "kernelspec": {
   "display_name": "Python 3 (ipykernel)",
   "language": "python",
   "name": "python3"
  },
  "language_info": {
   "codemirror_mode": {
    "name": "ipython",
    "version": 3
   },
   "file_extension": ".py",
   "mimetype": "text/x-python",
   "name": "python",
   "nbconvert_exporter": "python",
   "pygments_lexer": "ipython3",
   "version": "3.13.0"
  }
 },
 "nbformat": 4,
 "nbformat_minor": 5
}
