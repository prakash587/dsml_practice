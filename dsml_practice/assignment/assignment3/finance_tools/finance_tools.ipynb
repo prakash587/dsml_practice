{
 "cells": [
  {
   "cell_type": "code",
   "execution_count": 3,
   "id": "e2a13e4d-94eb-4d57-b3bf-3e4f372a79e6",
   "metadata": {},
   "outputs": [
    {
     "ename": "ModuleNotFoundError",
     "evalue": "No module named 'finance_tools'",
     "output_type": "error",
     "traceback": [
      "\u001b[1;31m---------------------------------------------------------------------------\u001b[0m",
      "\u001b[1;31mModuleNotFoundError\u001b[0m                       Traceback (most recent call last)",
      "Cell \u001b[1;32mIn[3], line 1\u001b[0m\n\u001b[1;32m----> 1\u001b[0m \u001b[38;5;28;01mfrom\u001b[39;00m \u001b[38;5;21;01mfinance_tools\u001b[39;00m\u001b[38;5;21;01m.\u001b[39;00m\u001b[38;5;21;01mtax\u001b[39;00m \u001b[38;5;28;01mimport\u001b[39;00m calculate_tax\n\u001b[0;32m      2\u001b[0m \u001b[38;5;28;01mfrom\u001b[39;00m \u001b[38;5;21;01mfinance_tools\u001b[39;00m\u001b[38;5;21;01m.\u001b[39;00m\u001b[38;5;21;01mloan\u001b[39;00m \u001b[38;5;28;01mimport\u001b[39;00m calculate_emi\n\u001b[0;32m      4\u001b[0m \u001b[38;5;28;01mdef\u001b[39;00m \u001b[38;5;21mmain\u001b[39m():\n",
      "\u001b[1;31mModuleNotFoundError\u001b[0m: No module named 'finance_tools'"
     ]
    }
   ],
   "source": [
    "from finance_tools.tax import calculate_tax\n",
    "from finance_tools.loan import calculate_emi\n",
    "\n",
    "def main():\n",
    "    print(\"📊 Welcome to the Finance App 📊\")\n",
    "\n",
    "    try:\n",
    "        income = float(input(\"Enter your annual income: \"))\n",
    "        tax = calculate_tax(income)\n",
    "        print(f\"✅ Estimated Tax: ₹{tax:.2f}\")\n",
    "\n",
    "        principal = float(input(\"\\nEnter loan amount (principal): \"))\n",
    "        rate = float(input(\"Enter annual interest rate (%): \"))\n",
    "        years = int(input(\"Enter loan term (years): \"))\n",
    "\n",
    "        emi = calculate_emi(principal, rate, years)\n",
    "        print(f\"✅ Your Monthly EMI: ₹{emi:.2f}\")\n",
    "\n",
    "    except ValueError as ve:\n",
    "        print(f\"⚠️ Input error: {ve}\")\n",
    "\n",
    "if __name__ == \"__main__\":\n",
    "    main()\n"
   ]
  },
  {
   "cell_type": "code",
   "execution_count": null,
   "id": "86f0baa6-ed9a-4583-bf0b-1b28084a0d61",
   "metadata": {},
   "outputs": [],
   "source": []
  },
  {
   "cell_type": "code",
   "execution_count": null,
   "id": "576a7699-da3a-44ba-bb3d-1cd81d5b019d",
   "metadata": {},
   "outputs": [],
   "source": []
  },
  {
   "cell_type": "code",
   "execution_count": null,
   "id": "4f6cd763-dc8b-4a8b-b3fb-7f1b36ce6b36",
   "metadata": {},
   "outputs": [],
   "source": []
  },
  {
   "cell_type": "code",
   "execution_count": null,
   "id": "a44bdf2f-6f41-4017-b997-17a73d90e9f3",
   "metadata": {},
   "outputs": [],
   "source": []
  },
  {
   "cell_type": "code",
   "execution_count": null,
   "id": "0e258f6c-86d8-4418-812b-b9b1b2bdaed8",
   "metadata": {},
   "outputs": [],
   "source": []
  },
  {
   "cell_type": "code",
   "execution_count": null,
   "id": "f7a31f0c-9578-493b-850d-3e43d1ccef36",
   "metadata": {},
   "outputs": [],
   "source": []
  }
 ],
 "metadata": {
  "kernelspec": {
   "display_name": "Python 3 (ipykernel)",
   "language": "python",
   "name": "python3"
  },
  "language_info": {
   "codemirror_mode": {
    "name": "ipython",
    "version": 3
   },
   "file_extension": ".py",
   "mimetype": "text/x-python",
   "name": "python",
   "nbconvert_exporter": "python",
   "pygments_lexer": "ipython3",
   "version": "3.13.0"
  }
 },
 "nbformat": 4,
 "nbformat_minor": 5
}
