{
 "cells": [
  {
   "cell_type": "markdown",
   "id": "566ba18c-7083-4c8a-a08e-ecd63c99b13f",
   "metadata": {},
   "source": [
    "### Math Tutor Using Random, Arithmetic Operators, and OOP\n",
    "\n",
    "*Scenario:*\n",
    "Create a `MathTutor` class that generates random math questions using `random` and `math operators`.\n",
    "\n",
    "* Track correct and incorrect answers.\n",
    "* Provide a score at the end.\n",
    "* Handle invalid input using exception handling.\n",
    "\n",
    "> Concepts: Random, Math, Exception Handling, Classes"
   ]
  },
  {
   "cell_type": "code",
   "execution_count": 14,
   "id": "5406a732-f42f-4db1-bedb-bbbeec6ce5b7",
   "metadata": {},
   "outputs": [],
   "source": [
    "import random \n",
    "\n",
    "class MathTutor:\n",
    "    def __init__(self, num_quesn=5):\n",
    "        self.num_quesn = num_quesn\n",
    "        self.correct=0\n",
    "        self.incorrect=0\n",
    "\n",
    "\n",
    "    def generate_quesn(self):\n",
    "        num1=random.randint(1,10)\n",
    "        num2=random.randint(1,10)\n",
    "        operator=random.choice(['+', '-', '*', '//'])\n",
    "\n",
    "        if operator == '//' and num2 == 0:\n",
    "            num2 = 1\n",
    "\n",
    "        quesn = f\"{num1} {operator} {num2}\"\n",
    "        correct_answer = eval(quesn)\n",
    "        return quesn, correct_answer\n",
    "\n",
    "    def ask_quesn(self):\n",
    "        print(\"welcome to math tutor!\")\n",
    "\n",
    "        for i in range(1,self.num_quesn + 1):\n",
    "            quesn, correct_answer = self.generate_quesn()\n",
    "            try:\n",
    "                user_input= input(f\"Q{i}: what is {quesn}?\")\n",
    "                user_answer=int(user_input)\n",
    "\n",
    "                if user_answer == correct_answer:\n",
    "                    print(\"correct\\n\")\n",
    "                    self.correct= self.correct+1\n",
    "                else:\n",
    "                    print(f\"wrong! the correct ans is {correct_answer}\\n\")\n",
    "                    self.incorrect+=1\n",
    "                    \n",
    "            except ValueError:\n",
    "                print(\"Invalid input. Enter a number\")\n",
    "                self.incorrect += 1\n",
    "\n",
    "    def show_score(self):\n",
    "        print(\"Quiz Complete!\")\n",
    "        print(f\"Correct: {self.correct}\")\n",
    "        print(f\"Incorrect: {self.incorrect}\")\n",
    "        print(f\"Score: {self.correct}/{self.num_quesn}\")\n"
   ]
  },
  {
   "cell_type": "code",
   "execution_count": 15,
   "id": "126e8136-03ec-4fdd-9089-cb2b2b449b4a",
   "metadata": {},
   "outputs": [
    {
     "name": "stdout",
     "output_type": "stream",
     "text": [
      "welcome to math tutor!\n"
     ]
    },
    {
     "name": "stdin",
     "output_type": "stream",
     "text": [
      "Q1: what is 8 + 4? 12\n"
     ]
    },
    {
     "name": "stdout",
     "output_type": "stream",
     "text": [
      "correct\n",
      "\n"
     ]
    },
    {
     "name": "stdin",
     "output_type": "stream",
     "text": [
      "Q2: what is 7 * 2? 14\n"
     ]
    },
    {
     "name": "stdout",
     "output_type": "stream",
     "text": [
      "correct\n",
      "\n"
     ]
    },
    {
     "name": "stdin",
     "output_type": "stream",
     "text": [
      "Q3: what is 2 + 7? 5\n"
     ]
    },
    {
     "name": "stdout",
     "output_type": "stream",
     "text": [
      "wrong! the correct ans is 9\n",
      "\n"
     ]
    },
    {
     "name": "stdin",
     "output_type": "stream",
     "text": [
      "Q4: what is 9 // 3? 4\n"
     ]
    },
    {
     "name": "stdout",
     "output_type": "stream",
     "text": [
      "wrong! the correct ans is 3\n",
      "\n"
     ]
    },
    {
     "name": "stdin",
     "output_type": "stream",
     "text": [
      "Q5: what is 9 - 2? 3\n"
     ]
    },
    {
     "name": "stdout",
     "output_type": "stream",
     "text": [
      "wrong! the correct ans is 7\n",
      "\n",
      "Quiz Complete!\n",
      "Correct: 2\n",
      "Incorrect: 3\n",
      "Score: 2/5\n"
     ]
    }
   ],
   "source": [
    "tutor = MathTutor(num_quesn=5)\n",
    "tutor.ask_quesn()\n",
    "tutor.show_score()"
   ]
  },
  {
   "cell_type": "markdown",
   "id": "609e6c4a-e8a6-4841-8114-48510c30d6f4",
   "metadata": {},
   "source": [
    "### Multi-file Project Using Modules and Packages\n",
    "\n",
    "*Scenario:*\n",
    "You're building a small finance app.\n",
    "\n",
    "* Create a package `finance_tools` with modules: `tax.py` and `loan.py`.\n",
    "* Each module contains utility functions like `calculate_tax()` and `calculate_emi()`.\n",
    "* Import and use them in a main script that takes user input to do both.\n",
    "\n",
    "> Concepts: Packages, Modules, Importing, Separation of Concerns\n"
   ]
  },
  {
   "cell_type": "code",
   "execution_count": 29,
   "id": "c770f674-38db-4299-ba00-92be94b179ad",
   "metadata": {},
   "outputs": [
    {
     "name": "stdout",
     "output_type": "stream",
     "text": [
      "Welcome to the Finance App 📊\n"
     ]
    },
    {
     "name": "stdin",
     "output_type": "stream",
     "text": [
      "Enter your annual income:  283273\n"
     ]
    },
    {
     "name": "stdout",
     "output_type": "stream",
     "text": [
      "Estimated Tax: RS.42490.95\n"
     ]
    },
    {
     "name": "stdin",
     "output_type": "stream",
     "text": [
      "\n",
      "Enter loan amount (principal):  23\n",
      "Enter annual interest rate (%):  4\n",
      "Enter loan term (years):  4\n"
     ]
    },
    {
     "name": "stdout",
     "output_type": "stream",
     "text": [
      "Your Monthly EMI: Rs.0.52\n"
     ]
    }
   ],
   "source": [
    "#main folder \n",
    "\n",
    "from finance_tools.tax import calculate_tax\n",
    "from finance_tools.loan import calculate_emi\n",
    "\n",
    "\n",
    "def main():\n",
    "    print(\"Welcome to the Finance App 📊\")\n",
    "\n",
    "    try:\n",
    "        income = float(input(\"Enter your annual income: \"))\n",
    "        tax = calculate_tax(income)\n",
    "        print(f\"Estimated Tax: RS.{tax:.2f}\")\n",
    "\n",
    "        principal = float(input(\"\\nEnter loan amount (principal): \"))\n",
    "        rate = float(input(\"Enter annual interest rate (%): \"))\n",
    "        years = int(input(\"Enter loan term (years): \"))\n",
    "\n",
    "        emi = calculate_emi(principal, rate, years)\n",
    "        print(f\"Your Monthly EMI: Rs.{emi:.2f}\")\n",
    "\n",
    "    except ValueError as ve:\n",
    "        print(f\"Input error: {ve}\")\n",
    "\n",
    "if __name__ == \"__main__\":\n",
    "    main()\n"
   ]
  },
  {
   "cell_type": "code",
   "execution_count": null,
   "id": "7262ea54-2e1e-4413-aeb5-3791f66fa4ff",
   "metadata": {},
   "outputs": [],
   "source": [
    "#loan.py folder\n",
    "def calculate_emi(principal, rate, years):\n",
    "    \"\"\"\n",
    "    Calculate EMI using formula:\n",
    "    EMI = [P × R × (1 + R)^N] / [(1 + R)^N – 1]\n",
    "    where:\n",
    "      P = loan amount,\n",
    "      R = monthly interest rate,\n",
    "      N = total months\n",
    "    \"\"\"\n",
    "    if principal <= 0 or rate <= 0 or years <= 0:\n",
    "        raise ValueError(\"Values must be greater than zero.\")\n",
    "\n",
    "    monthly_rate = rate / (12 * 100)  # Annual to monthly\n",
    "    months = years * 12\n",
    "    emi = (principal * monthly_rate * (1 + monthly_rate) ** months) / ((1 + monthly_rate) ** months - 1)\n",
    "    return round(emi, 2)\n"
   ]
  },
  {
   "cell_type": "code",
   "execution_count": null,
   "id": "2b9415af-af59-4228-91fe-753e7734e319",
   "metadata": {},
   "outputs": [],
   "source": [
    "#tax folder\n",
    "\n",
    "def calculate_tax(income, tax_rate=0.15):\n",
    "    \"\"\"\n",
    "    Calculate tax based on income and optional tax rate.\n",
    "    Default tax rate = 15%\n",
    "    \"\"\"\n",
    "    if income < 0:\n",
    "        raise ValueError(\"Income cannot be negative.\")\n",
    "    return income * tax_rate\n"
   ]
  },
  {
   "cell_type": "markdown",
   "id": "f3baca02-4c28-41cd-9c2d-cc5d420d4fab",
   "metadata": {},
   "source": [
    "### Exception Handling Scenario: Online Age-Restricted Service\n",
    "\n",
    "**Scenario:**\n",
    "You’re building a sign-up system for an online movie rental platform. Some movies are age-restricted (18+). You need to ensure proper validation and error handling during user registration.\n",
    "\n",
    "**Task:**\n",
    "\n",
    "1. Create a custom exception class called `UnderageError` that inherits from `Exception`.\n",
    "2. Write a function `register_user()` that:\n",
    "\n",
    "   * Takes a user’s `name` and `age` as input.\n",
    "   * Raises `UnderageError` if the user is under 18.\n",
    "   * Otherwise, prints a welcome message.\n",
    "3. Wrap the function call in a `try` block and handle the exception.\n",
    "4. Use `else` to confirm successful registration and `finally` to always print **“Thank you for using MovieTime!”** regardless of outcome.\n",
    "\n",
    "Also try to validate if the age input is numeric. Raise a `ValueError` if not, and handle it separately.\n",
    "\n"
   ]
  },
  {
   "cell_type": "code",
   "execution_count": null,
   "id": "c3be4304-f3ec-41db-b0c2-746797ca694f",
   "metadata": {},
   "outputs": [],
   "source": []
  },
  {
   "cell_type": "code",
   "execution_count": 26,
   "id": "d9a92c0d-1cad-4588-9bef-cebbda8aded7",
   "metadata": {},
   "outputs": [
    {
     "name": "stdin",
     "output_type": "stream",
     "text": [
      "enter your name:  djd\n",
      "Enter your age:  12\n"
     ]
    },
    {
     "name": "stdout",
     "output_type": "stream",
     "text": [
      "registration failed You must be at least 18 year to register.\n",
      "thank you for using movietime\n"
     ]
    }
   ],
   "source": [
    "class UnderageError(Exception):\n",
    "    pass\n",
    "\n",
    "def register_user():\n",
    "    name= input(\"enter your name: \")\n",
    "    age_input = input(\"Enter your age: \")\n",
    "\n",
    "    if not age_input.isdigit():\n",
    "        raise ValueError(\"Age must be numeric\")\n",
    "    age = int(age_input)\n",
    "\n",
    "\n",
    "    if age <18:\n",
    "        raise UnderageError(\"You must be at least 18 year to register.\")\n",
    "\n",
    "\n",
    "    print(f\" Welcome {name}! You are register for MovieTime\")\n",
    "\n",
    "\n",
    "try:\n",
    "    register_user()\n",
    "\n",
    "except UnderageError as ue:\n",
    "    print(\"registration failed\", ue)\n",
    "\n",
    "except ValueError as ve:\n",
    "    print(\"invalid input\", ve)\n",
    "    \n",
    "else:\n",
    "    print(\"registration completed successfully\")\n",
    "    \n",
    "finally:\n",
    "    print(\"thank you for using movietime\")"
   ]
  },
  {
   "cell_type": "code",
   "execution_count": null,
   "id": "5659c35f-2fd4-43e1-a43e-9340ec70e197",
   "metadata": {},
   "outputs": [],
   "source": []
  },
  {
   "cell_type": "markdown",
   "id": "adc99d28-802c-4447-a43b-8a7abd7f6f78",
   "metadata": {},
   "source": [
    "# Problem Statement\n",
    "\n",
    "We want to build an online shopping cart system that allows users to add products to their cart, calculate the total cost, apply discounts, and generate an invoice. The system should include the following functionalities:\n",
    "\n",
    "- Adding products to the cart\n",
    "- Removing products from the cart\n",
    "- Calculating the total cost\n",
    "- Applying discounts based on user type\n",
    "- Generating an invoice\n",
    "\n",
    "### 1. Create the Product class\n",
    "\n",
    "We create a basic `Product` class with attributes for the product name and price."
   ]
  },
  {
   "cell_type": "code",
   "execution_count": 34,
   "id": "3e1d4aec-7798-4610-9cc8-027337fae187",
   "metadata": {},
   "outputs": [],
   "source": [
    "class Product:\n",
    "    def __init__(self, name, price):\n",
    "        self.price = price\n",
    "        self.name=name"
   ]
  },
  {
   "cell_type": "markdown",
   "id": "7181a530-fb08-4c00-94ae-9fb7910a03e0",
   "metadata": {},
   "source": [
    "### 2.  Implement the User class\n",
    "\n",
    "In this step, we create a `User` class with attributes for the user's name and whether they are a premium member."
   ]
  },
  {
   "cell_type": "code",
   "execution_count": 35,
   "id": "14203ba5-2f09-413d-be62-0d86c9706307",
   "metadata": {},
   "outputs": [],
   "source": [
    "class User:\n",
    "    def __init__(self, name, is_premium = True):\n",
    "        self.name=name\n",
    "        self.is_premium=is_premium"
   ]
  },
  {
   "cell_type": "markdown",
   "id": "2c75fde2-4ed0-4e97-8a86-70b0af5e4d1c",
   "metadata": {},
   "source": [
    "### 3. Create the ShoppingCart class\n",
    "\n",
    "In this step, we create a `ShoppingCart` class with methods for adding and removing products from the cart, as well as calculating the total cost of the items in the cart.\n",
    "\n",
    "**Note**: Define `calculate_total_cost` method in the `ShoppingCart` class, that applies a `10%` discount to the total cost if you are `premium` User."
   ]
  },
  {
   "cell_type": "code",
   "execution_count": 48,
   "id": "e8cbc536-1d19-4335-9144-b33a0cc4fa13",
   "metadata": {},
   "outputs": [],
   "source": [
    "class ShoppingCart:\n",
    "    def __init__(self,user):\n",
    "        self.user=user\n",
    "        self.items=[]\n",
    "\n",
    "    def add_products(self,product):\n",
    "        \n",
    "        self.items.append(product)\n",
    "        print(f\" {product.name} added to the cart.\")\n",
    "\n",
    "    def remove_product(self, product_name):\n",
    "        for product in self.items:\n",
    "            if product.name==product_name:\n",
    "                self.items.remove(product)\n",
    "                print(f\"{product.name} removed from the  cart successfully\")\n",
    "                return\n",
    "            print(f\"product {product_name} not found in the cart\")\n",
    "\n",
    "\n",
    "    def calculate_total_cost(self):\n",
    "        total = sum(product.price for product in self.items)\n",
    "        if self.user.is_premium:\n",
    "            total=total *0.1\n",
    "        return total\n",
    "\n",
    "\n",
    "    def generate_invoice(self):\n",
    "        print(\"\\n INVOICE\")\n",
    "        print(f\"Customer: {self.user.name} {'(Premium)' if self.user.is_premium else ''}\")\n",
    "        print(\"-\" * 30)\n",
    "        for product in self.items:\n",
    "            print(f\"{product.name:<20} Rs.{product.price:.2f}\")\n",
    "        print(\"-\" * 30)\n",
    "        print(f\"Total: Rs.{self.calculate_total_cost():.2f}\")\n",
    "\n",
    "        "
   ]
  },
  {
   "cell_type": "markdown",
   "id": "a438446c-b806-40e7-80b8-9c7c72acac20",
   "metadata": {},
   "source": [
    "### 4. Testing the functionality\n",
    "\n",
    "Now that we have implemented the necessary classes and methods, let's test our online shopping cart system:"
   ]
  },
  {
   "cell_type": "code",
   "execution_count": 49,
   "id": "39956393-6a09-4abc-9ba7-1464a701578b",
   "metadata": {},
   "outputs": [
    {
     "name": "stdout",
     "output_type": "stream",
     "text": [
      " Laptop added to the cart.\n",
      " Headphones added to the cart.\n",
      " Mouse added to the cart.\n",
      "product Mouse not found in the cart\n",
      "product Mouse not found in the cart\n",
      "Mouse removed from the  cart successfully\n",
      "\n",
      " INVOICE\n",
      "Customer: Alice (Premium)\n",
      "------------------------------\n",
      "Laptop               Rs.50000.00\n",
      "Headphones           Rs.2500.00\n",
      "------------------------------\n",
      "Total: Rs.5250.00\n"
     ]
    }
   ],
   "source": [
    "\n",
    "# Create user and products\n",
    "user1 = User(\"Alice\", is_premium=True)\n",
    "cart = ShoppingCart(user1)\n",
    "\n",
    "p1 = Product(\"Laptop\", 50000)\n",
    "p2 = Product(\"Headphones\", 2500)\n",
    "p3 = Product(\"Mouse\", 700)\n",
    "\n",
    "# Add and remove items\n",
    "cart.add_products(p1)\n",
    "cart.add_products(p2)\n",
    "cart.add_products(p3)\n",
    "cart.remove_product(\"Mouse\")\n",
    "\n",
    "# Generate Invoice\n",
    "cart.generate_invoice()"
   ]
  },
  {
   "cell_type": "markdown",
   "id": "de601724-692c-489c-85df-0cdede20fcb0",
   "metadata": {},
   "source": [
    "### 5. Generating Invoice for a given cart"
   ]
  },
  {
   "cell_type": "code",
   "execution_count": 40,
   "id": "965eeeca-9ab0-4a35-b5bd-262ad86c5e53",
   "metadata": {},
   "outputs": [],
   "source": [
    "    def generate_invoice(self):\n",
    "        print(\"\\n INVOICE\")\n",
    "        print(f\"Customer: {self.user.name} {'(Premium)' if self.user.is_premium else ''}\")\n",
    "        print(\"-\" * 30)\n",
    "        for product in self.items:\n",
    "            print(f\"{product.name:<20} ₹{product.price:.2f}\")\n",
    "        print(\"-\" * 30)\n",
    "        print(f\"Total: ₹{self.calculate_total_cost():.2f}\")\n"
   ]
  },
  {
   "cell_type": "code",
   "execution_count": null,
   "id": "260d7f4d-9dbd-4377-86ca-ccc34fd48578",
   "metadata": {},
   "outputs": [],
   "source": []
  }
 ],
 "metadata": {
  "kernelspec": {
   "display_name": "Python 3 (ipykernel)",
   "language": "python",
   "name": "python3"
  },
  "language_info": {
   "codemirror_mode": {
    "name": "ipython",
    "version": 3
   },
   "file_extension": ".py",
   "mimetype": "text/x-python",
   "name": "python",
   "nbconvert_exporter": "python",
   "pygments_lexer": "ipython3",
   "version": "3.13.0"
  }
 },
 "nbformat": 4,
 "nbformat_minor": 5
}
