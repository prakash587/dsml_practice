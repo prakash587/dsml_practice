{
 "cells": [
  {
   "cell_type": "markdown",
   "id": "566ba18c-7083-4c8a-a08e-ecd63c99b13f",
   "metadata": {},
   "source": [
    "### Math Tutor Using Random, Arithmetic Operators, and OOP\n",
    "\n",
    "*Scenario:*\n",
    "Create a `MathTutor` class that generates random math questions using `random` and `math operators`.\n",
    "\n",
    "* Track correct and incorrect answers.\n",
    "* Provide a score at the end.\n",
    "* Handle invalid input using exception handling.\n",
    "\n",
    "> Concepts: Random, Math, Exception Handling, Classes"
   ]
  },
  {
   "cell_type": "code",
   "execution_count": null,
   "id": "5406a732-f42f-4db1-bedb-bbbeec6ce5b7",
   "metadata": {},
   "outputs": [],
   "source": []
  },
  {
   "cell_type": "markdown",
   "id": "609e6c4a-e8a6-4841-8114-48510c30d6f4",
   "metadata": {},
   "source": [
    "### Multi-file Project Using Modules and Packages\n",
    "\n",
    "*Scenario:*\n",
    "You're building a small finance app.\n",
    "\n",
    "* Create a package `finance_tools` with modules: `tax.py` and `loan.py`.\n",
    "* Each module contains utility functions like `calculate_tax()` and `calculate_emi()`.\n",
    "* Import and use them in a main script that takes user input to do both.\n",
    "\n",
    "> Concepts: Packages, Modules, Importing, Separation of Concerns\n"
   ]
  },
  {
   "cell_type": "code",
   "execution_count": null,
   "id": "c770f674-38db-4299-ba00-92be94b179ad",
   "metadata": {},
   "outputs": [],
   "source": []
  },
  {
   "cell_type": "markdown",
   "id": "f3baca02-4c28-41cd-9c2d-cc5d420d4fab",
   "metadata": {},
   "source": [
    "### Exception Handling Scenario: Online Age-Restricted Service\n",
    "\n",
    "**Scenario:**\n",
    "You’re building a sign-up system for an online movie rental platform. Some movies are age-restricted (18+). You need to ensure proper validation and error handling during user registration.\n",
    "\n",
    "**Task:**\n",
    "\n",
    "1. Create a custom exception class called `UnderageError` that inherits from `Exception`.\n",
    "2. Write a function `register_user()` that:\n",
    "\n",
    "   * Takes a user’s `name` and `age` as input.\n",
    "   * Raises `UnderageError` if the user is under 18.\n",
    "   * Otherwise, prints a welcome message.\n",
    "3. Wrap the function call in a `try` block and handle the exception.\n",
    "4. Use `else` to confirm successful registration and `finally` to always print **“Thank you for using MovieTime!”** regardless of outcome.\n",
    "\n",
    "Also try to validate if the age input is numeric. Raise a `ValueError` if not, and handle it separately.\n",
    "\n"
   ]
  },
  {
   "cell_type": "code",
   "execution_count": null,
   "id": "d9a92c0d-1cad-4588-9bef-cebbda8aded7",
   "metadata": {},
   "outputs": [],
   "source": []
  },
  {
   "cell_type": "markdown",
   "id": "adc99d28-802c-4447-a43b-8a7abd7f6f78",
   "metadata": {},
   "source": [
    "# Problem Statement\n",
    "\n",
    "We want to build an online shopping cart system that allows users to add products to their cart, calculate the total cost, apply discounts, and generate an invoice. The system should include the following functionalities:\n",
    "\n",
    "- Adding products to the cart\n",
    "- Removing products from the cart\n",
    "- Calculating the total cost\n",
    "- Applying discounts based on user type\n",
    "- Generating an invoice\n",
    "\n",
    "### 1. Create the Product class\n",
    "\n",
    "We create a basic `Product` class with attributes for the product name and price."
   ]
  },
  {
   "cell_type": "code",
   "execution_count": null,
   "id": "3e1d4aec-7798-4610-9cc8-027337fae187",
   "metadata": {},
   "outputs": [],
   "source": []
  },
  {
   "cell_type": "markdown",
   "id": "7181a530-fb08-4c00-94ae-9fb7910a03e0",
   "metadata": {},
   "source": [
    "### 2.  Implement the User class\n",
    "\n",
    "In this step, we create a `User` class with attributes for the user's name and whether they are a premium member."
   ]
  },
  {
   "cell_type": "code",
   "execution_count": null,
   "id": "14203ba5-2f09-413d-be62-0d86c9706307",
   "metadata": {},
   "outputs": [],
   "source": []
  },
  {
   "cell_type": "markdown",
   "id": "2c75fde2-4ed0-4e97-8a86-70b0af5e4d1c",
   "metadata": {},
   "source": [
    "### 3. Create the ShoppingCart class\n",
    "\n",
    "In this step, we create a `ShoppingCart` class with methods for adding and removing products from the cart, as well as calculating the total cost of the items in the cart.\n",
    "\n",
    "**Note**: Define `calculate_total_cost` method in the `ShoppingCart` class, that applies a `10%` discount to the total cost if you are `premium` User."
   ]
  },
  {
   "cell_type": "code",
   "execution_count": null,
   "id": "e8cbc536-1d19-4335-9144-b33a0cc4fa13",
   "metadata": {},
   "outputs": [],
   "source": []
  },
  {
   "cell_type": "markdown",
   "id": "a438446c-b806-40e7-80b8-9c7c72acac20",
   "metadata": {},
   "source": [
    "### 4. Testing the functionality\n",
    "\n",
    "Now that we have implemented the necessary classes and methods, let's test our online shopping cart system:"
   ]
  },
  {
   "cell_type": "code",
   "execution_count": null,
   "id": "39956393-6a09-4abc-9ba7-1464a701578b",
   "metadata": {},
   "outputs": [],
   "source": []
  },
  {
   "cell_type": "markdown",
   "id": "de601724-692c-489c-85df-0cdede20fcb0",
   "metadata": {},
   "source": [
    "### 5. Generating Invoice for a given cart"
   ]
  },
  {
   "cell_type": "code",
   "execution_count": null,
   "id": "965eeeca-9ab0-4a35-b5bd-262ad86c5e53",
   "metadata": {},
   "outputs": [],
   "source": []
  }
 ],
 "metadata": {
  "kernelspec": {
   "display_name": "Python 3 (ipykernel)",
   "language": "python",
   "name": "python3"
  },
  "language_info": {
   "codemirror_mode": {
    "name": "ipython",
    "version": 3
   },
   "file_extension": ".py",
   "mimetype": "text/x-python",
   "name": "python",
   "nbconvert_exporter": "python",
   "pygments_lexer": "ipython3",
   "version": "3.13.0"
  }
 },
 "nbformat": 4,
 "nbformat_minor": 5
}
