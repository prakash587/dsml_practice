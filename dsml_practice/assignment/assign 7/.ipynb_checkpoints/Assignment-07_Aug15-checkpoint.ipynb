{
 "cells": [
  {
   "cell_type": "markdown",
   "id": "d98f7436-b9a6-4547-a9e1-697c33d8782b",
   "metadata": {},
   "source": [
    "### **Coding Assignment: Data Exploration and Visualization Using Pandas**\n",
    "\n",
    "### **Dataset 01:**\n",
    "Use the [Iris Species dataset](https://www.kaggle.com/uciml/iris) from Kaggle, which contains measurements of different species of iris flowers."
   ]
  },
  {
   "cell_type": "markdown",
   "id": "4ae7411e-251d-483a-83ed-97da46878c67",
   "metadata": {},
   "source": [
    "#### **Instructions:**\n",
    "\n",
    "1. **Importing the Dataset:**\n",
    "   - Load the dataset into a pandas DataFrame.\n",
    "   - Display the first 5 rows of the dataset."
   ]
  },
  {
   "cell_type": "code",
   "execution_count": null,
   "id": "a6468392-a099-4385-8f13-0d5d3ed80828",
   "metadata": {},
   "outputs": [],
   "source": []
  },
  {
   "cell_type": "markdown",
   "id": "ddbc3e0a-0026-4b5d-b08f-8886cb86f0f5",
   "metadata": {},
   "source": [
    "2. **Basic Data Exploration:**\n",
    "   - **Data Summary:**\n",
    "     - Display basic information about the dataset, including the number of rows and columns, data types of each column, and memory usage.\n",
    "     - Generate descriptive statistics for the numerical columns (e.g., mean, median, standard deviation).\n",
    "   - **Check for Missing Values:**\n",
    "     - Identify any missing values in the dataset and explain how you would handle them if there were any.\n",
    "   - **Value Counts:**\n",
    "     - Display the count of each unique species in the `species` column."
   ]
  },
  {
   "cell_type": "code",
   "execution_count": null,
   "id": "cc53c984-ac4b-4402-a3d2-267874af64e2",
   "metadata": {},
   "outputs": [],
   "source": []
  },
  {
   "cell_type": "markdown",
   "id": "bb2b341a-ea58-4f85-970f-24def18cef44",
   "metadata": {},
   "source": [
    "3. **Filtering and Sorting:**\n",
    "   - Filter the dataset to show only the rows where the `sepal_length` is greater than 5.0.\n",
    "   - Sort the filtered dataset by `petal_length` in descending order.\n"
   ]
  },
  {
   "cell_type": "code",
   "execution_count": null,
   "id": "3cac6ca7-e5d4-465c-8d6d-f2ad93cad6d2",
   "metadata": {},
   "outputs": [],
   "source": []
  },
  {
   "cell_type": "markdown",
   "id": "af65d06f-e6b9-4a05-ba99-5633956c8e20",
   "metadata": {},
   "source": [
    "5. **Creating New Columns:**\n",
    "   - Create a new column called `sepal_petal_ratio` which is the ratio of `sepal_length` to `petal_length`.\n"
   ]
  },
  {
   "cell_type": "code",
   "execution_count": null,
   "id": "ecf21421-f459-48d4-b902-55341f26820e",
   "metadata": {},
   "outputs": [],
   "source": []
  },
  {
   "cell_type": "markdown",
   "id": "973ac190-9069-4e61-979c-568e350f7020",
   "metadata": {},
   "source": [
    "6. **Data Visualization:**\n",
    "   - **Histogram:**\n",
    "     - Create a histogram to visualize the distribution of `sepal_length` values.\n",
    "   - **Scatter Plot:**\n",
    "     - Create a scatter plot with `sepal_length` on the x-axis and `petal_length` on the y-axis. Use different colors to represent different species.\n",
    "   - **Box Plot:**\n",
    "     - Create a box plot for the `sepal_width` values, grouped by `species`."
   ]
  },
  {
   "cell_type": "code",
   "execution_count": null,
   "id": "f8ace687-3493-4ac4-af5c-eb8606fbc600",
   "metadata": {},
   "outputs": [],
   "source": []
  },
  {
   "cell_type": "markdown",
   "id": "8dfcb981-e8f6-406b-9d78-66deb125b92a",
   "metadata": {},
   "source": [
    "\n",
    "7. **Correlation Matrix**\n",
    "   - Calculate the correlation matrix for the numerical features and create a heatmap to visualize the correlations using `seaborn`.\n",
    "\n"
   ]
  },
  {
   "cell_type": "code",
   "execution_count": null,
   "id": "3b8aef17-64c2-4155-a567-6fe7214fb2b1",
   "metadata": {},
   "outputs": [],
   "source": []
  },
  {
   "cell_type": "markdown",
   "id": "5d692eb9",
   "metadata": {},
   "source": [
    "---"
   ]
  },
  {
   "cell_type": "markdown",
   "id": "c59a11aa",
   "metadata": {},
   "source": [
    "### **Dataset 02 :** [House Prices Dataset](https://www.kaggle.com/competitions/house-prices-advanced-regression-techniques/data)\n",
    "\n",
    "The dataset includes 79 explanatory variables that describe aspects of residential homes.\n",
    "\n",
    "#### **Instructions**:\n",
    "- Use Python and Jupyter Notebook to solve the questions.\n",
    "- Ensure your code is efficient, well-commented, and follows best practices for handling missing data and outliers.\n",
    "- Use appropriate visualizations where needed and include explanations for your analysis."
   ]
  },
  {
   "cell_type": "markdown",
   "id": "c6bfd262",
   "metadata": {},
   "source": [
    "### **Problem 1: Data Exploration with Pandas**  \n",
    "1. Load the House Prices dataset using Pandas and perform initial exploration:\n",
    "   - Display the first and last 5 rows.\n",
    "   - Display the **data types** of each column.\n",
    "   - Check for **missing values** and calculate the percentage of missing data for each column.\n",
    "   - Summarize the **statistical properties** of the numerical columns using `describe()`.\n",
    "\n",
    "2. Based on the dataset, identify the following:\n",
    "   - Columns that are **categorical** and **numerical**.\n",
    "   - Any potential **outliers** in the numerical columns (use visualizations like boxplots)."
   ]
  },
  {
   "cell_type": "code",
   "execution_count": null,
   "id": "4fee5115",
   "metadata": {},
   "outputs": [],
   "source": []
  },
  {
   "cell_type": "code",
   "execution_count": null,
   "id": "024dddc1-a56f-4cd2-a598-f617f857cf3c",
   "metadata": {},
   "outputs": [],
   "source": []
  },
  {
   "cell_type": "code",
   "execution_count": null,
   "id": "5b1ee850-bfb7-476d-af0d-3c2eaa796e6f",
   "metadata": {},
   "outputs": [],
   "source": []
  },
  {
   "cell_type": "markdown",
   "id": "478d006b",
   "metadata": {},
   "source": [
    "### **Problem 2: Data Manipulation with Pandas**  \n",
    "1. Filter the dataset to include only houses where the **SalePrice** is above the **90th percentile**.\n",
    "2. Create a new **calculated column**: `Price_Per_SqFt = SalePrice / GrLivArea`.\n",
    "3. **Group the data** by `Neighborhood` and calculate the **mean** and **median** for `SalePrice`.\n",
    "4. Sort the dataset by `Price_Per_SqFt` and display the **top 10 rows**."
   ]
  },
  {
   "cell_type": "code",
   "execution_count": null,
   "id": "4b138e66",
   "metadata": {},
   "outputs": [],
   "source": []
  },
  {
   "cell_type": "code",
   "execution_count": null,
   "id": "986858e4-d871-4730-9258-852827089e10",
   "metadata": {},
   "outputs": [],
   "source": []
  },
  {
   "cell_type": "code",
   "execution_count": null,
   "id": "d75b0f97-1954-495d-a0de-748f22ba9877",
   "metadata": {},
   "outputs": [],
   "source": []
  },
  {
   "cell_type": "markdown",
   "id": "04861a67",
   "metadata": {},
   "source": [
    "### **Problem 3: Handling Missing Data and Imputation**  \n",
    "1. Identify columns with **missing values**.\n",
    "2. Impute the missing values:\n",
    "   - For **numerical columns**, replace missing values with the **median**.\n",
    "   - For **categorical columns**, replace missing values with the **most frequent** value.\n",
    "3. Justify your choice of imputation methods and check if any missing data remains."
   ]
  },
  {
   "cell_type": "code",
   "execution_count": null,
   "id": "f6681db0",
   "metadata": {},
   "outputs": [],
   "source": []
  },
  {
   "cell_type": "code",
   "execution_count": null,
   "id": "484ca912-618c-47d1-9937-b3fd09f9b720",
   "metadata": {},
   "outputs": [],
   "source": []
  },
  {
   "cell_type": "code",
   "execution_count": null,
   "id": "d928910f-e925-4adc-a2c1-69f22f8f2b6b",
   "metadata": {},
   "outputs": [],
   "source": []
  },
  {
   "cell_type": "markdown",
   "id": "a3db0ce9",
   "metadata": {},
   "source": [
    "### **Problem 4: Numpy Array Operations**  \n",
    "1. Convert the numerical columns (such as `LotArea`, `YearBuilt`, `GrLivArea`, `SalePrice`, etc.) into a **NumPy array**.\n",
    "2. Perform the following NumPy operations on the array:\n",
    "   - Compute the **mean** and **standard deviation** of each column.\n",
    "   - Normalize the data using **min-max scaling** and **z-score normalization**.\n",
    "   - Compute the **dot product** between two numerical columns of your choice."
   ]
  },
  {
   "cell_type": "code",
   "execution_count": null,
   "id": "dac24b00",
   "metadata": {},
   "outputs": [],
   "source": []
  },
  {
   "cell_type": "code",
   "execution_count": null,
   "id": "e6a8f0c4-bc76-40ec-9e12-22f8f230700f",
   "metadata": {},
   "outputs": [],
   "source": []
  },
  {
   "cell_type": "code",
   "execution_count": null,
   "id": "3df214d2-3198-44b5-b3b5-1efc4f4ccd51",
   "metadata": {},
   "outputs": [],
   "source": []
  },
  {
   "cell_type": "markdown",
   "id": "d8c7eb9b",
   "metadata": {},
   "source": [
    "### **Problem 5: Data Visualization**  \n",
    "Using Matplotlib and/or Seaborn, visualize the following:\n",
    "1. **Distribution** of `SalePrice` using a **histogram**.\n",
    "2. **Box plot** of `SalePrice` grouped by `OverallQual` (overall quality of the house).\n",
    "3. **Scatter plot** between `GrLivArea` (Above-ground living area) and `SalePrice`. Analyze the relationship.\n",
    "4. Plot a **correlation heatmap** for the numerical columns."
   ]
  },
  {
   "cell_type": "code",
   "execution_count": null,
   "id": "44ca7f30",
   "metadata": {},
   "outputs": [],
   "source": []
  },
  {
   "cell_type": "code",
   "execution_count": null,
   "id": "dc3ddb7a-34b4-48ba-a241-0b7d7a8b74e9",
   "metadata": {},
   "outputs": [],
   "source": []
  },
  {
   "cell_type": "code",
   "execution_count": null,
   "id": "c7b383b2-a66c-4119-a984-990738428e16",
   "metadata": {},
   "outputs": [],
   "source": []
  },
  {
   "cell_type": "markdown",
   "id": "519934da",
   "metadata": {},
   "source": [
    "### **Problem 6: Aggregation and Transformation**  \n",
    "1. Perform a **groupby** operation on `Neighborhood` and calculate the **mean** and **median** for `SalePrice`.\n",
    "2. Use the `apply()` function to create a custom transformation for `SalePrice` (e.g., scaling or transformation).\n",
    "3. Aggregate multiple statistical values (e.g., **mean**, **median**, and **count**) for `SalePrice` grouped by `OverallQual`."
   ]
  },
  {
   "cell_type": "code",
   "execution_count": null,
   "id": "27d7891c",
   "metadata": {},
   "outputs": [],
   "source": []
  },
  {
   "cell_type": "code",
   "execution_count": null,
   "id": "098662b3-338d-49e7-acbb-30420fa9026d",
   "metadata": {},
   "outputs": [],
   "source": []
  },
  {
   "cell_type": "code",
   "execution_count": null,
   "id": "7d01f146-b293-48af-ae69-22771c995bf4",
   "metadata": {},
   "outputs": [],
   "source": []
  }
 ],
 "metadata": {
  "kernelspec": {
   "display_name": "Python 3 (ipykernel)",
   "language": "python",
   "name": "python3"
  },
  "language_info": {
   "codemirror_mode": {
    "name": "ipython",
    "version": 3
   },
   "file_extension": ".py",
   "mimetype": "text/x-python",
   "name": "python",
   "nbconvert_exporter": "python",
   "pygments_lexer": "ipython3",
   "version": "3.10.12"
  }
 },
 "nbformat": 4,
 "nbformat_minor": 5
}
