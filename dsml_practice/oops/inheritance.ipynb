{
 "cells": [
  {
   "cell_type": "code",
   "execution_count": 20,
   "id": "6e03f52d-5f7d-4d84-b704-0a83d42545c5",
   "metadata": {},
   "outputs": [],
   "source": [
    "class Animal:\n",
    "    def __init__(self, name, age):\n",
    "        self.name=name\n",
    "        self.age=age\n",
    "\n",
    "    def intro(self):\n",
    "        print(f\" my name is {self.name}\")\n",
    "        "
   ]
  },
  {
   "cell_type": "code",
   "execution_count": 21,
   "id": "3e36d389-056b-417c-a261-ed79de7e0ff6",
   "metadata": {},
   "outputs": [],
   "source": [
    "animal=Animal(\"cat\", 2)\n"
   ]
  },
  {
   "cell_type": "code",
   "execution_count": 22,
   "id": "0f5456db-7ec3-4a73-840f-f7ce28b72969",
   "metadata": {},
   "outputs": [
    {
     "data": {
      "text/plain": [
       "'cat'"
      ]
     },
     "execution_count": 22,
     "metadata": {},
     "output_type": "execute_result"
    }
   ],
   "source": [
    "animal.name"
   ]
  },
  {
   "cell_type": "code",
   "execution_count": 11,
   "id": "b7db325d-f70e-4e3f-9a9b-7a818f58ae69",
   "metadata": {},
   "outputs": [],
   "source": [
    "class Cat(Animal):\n",
    "    def __init__(self, name, age,color):\n",
    "        super().__init__(name, age)\n",
    "        self.color=color\n",
    "\n",
    "    def speak(self):\n",
    "        print('meow')\n",
    "        "
   ]
  },
  {
   "cell_type": "code",
   "execution_count": 12,
   "id": "868585d1-af06-42b7-b774-2d7f5cd72bdd",
   "metadata": {},
   "outputs": [],
   "source": [
    "cat=Cat(\"fulffy\",3,'brown')\n"
   ]
  },
  {
   "cell_type": "code",
   "execution_count": 15,
   "id": "d25e22af-687d-4962-b7a3-593be97a002a",
   "metadata": {},
   "outputs": [
    {
     "data": {
      "text/plain": [
       "3"
      ]
     },
     "execution_count": 15,
     "metadata": {},
     "output_type": "execute_result"
    }
   ],
   "source": [
    "cat.name"
   ]
  },
  {
   "cell_type": "code",
   "execution_count": 19,
   "id": "7b563641-f93b-46bc-8334-7e1e62196dd7",
   "metadata": {},
   "outputs": [
    {
     "name": "stdout",
     "output_type": "stream",
     "text": [
      "meow\n"
     ]
    }
   ],
   "source": [
    "cat.speak()"
   ]
  },
  {
   "cell_type": "code",
   "execution_count": 34,
   "id": "04ec0d94-b052-401b-9ae2-5efc4d23d345",
   "metadata": {},
   "outputs": [],
   "source": [
    "class Parent1:\n",
    "    def func1(self):\n",
    "        print('this is parent 1')\n",
    "    \n",
    "\n",
    "class Parent2:\n",
    "    def func2(self):\n",
    "        print('this is parent 2')\n",
    "\n",
    "\n",
    "class Parent3:\n",
    "    def func3(self):\n",
    "        print('this is parent 3')"
   ]
  },
  {
   "cell_type": "code",
   "execution_count": 35,
   "id": "b84af010-b0e8-4708-bcc8-56a66239643b",
   "metadata": {},
   "outputs": [],
   "source": [
    "class Child(Parent1, Parent2, Parent3):\n",
    "    def func4(self):\n",
    "        print('This is child function')"
   ]
  },
  {
   "cell_type": "code",
   "execution_count": 36,
   "id": "125c41df-8812-4188-81d5-64e9f320f57d",
   "metadata": {},
   "outputs": [],
   "source": [
    "obj=Child()"
   ]
  },
  {
   "cell_type": "code",
   "execution_count": 37,
   "id": "93aa8e98-e574-4445-aed7-409933b71087",
   "metadata": {},
   "outputs": [
    {
     "name": "stdout",
     "output_type": "stream",
     "text": [
      "this is parent 2\n"
     ]
    }
   ],
   "source": [
    "obj.func2()"
   ]
  },
  {
   "cell_type": "code",
   "execution_count": 39,
   "id": "74afdcdc-3c66-40e3-8620-cf03717daecc",
   "metadata": {},
   "outputs": [
    {
     "name": "stdout",
     "output_type": "stream",
     "text": [
      "This is child function\n"
     ]
    }
   ],
   "source": [
    "obj.func4()"
   ]
  },
  {
   "cell_type": "markdown",
   "id": "336eee85-1ea7-47f7-b43b-8b17329b0585",
   "metadata": {},
   "source": [
    "Multi-level-inherittance"
   ]
  },
  {
   "cell_type": "code",
   "execution_count": 48,
   "id": "83849517-8f91-4ca7-aeb4-20870b41aea9",
   "metadata": {},
   "outputs": [],
   "source": [
    "class A:\n",
    "    def method_a(self):\n",
    "        print(\"this is method form class a\")\n",
    "\n",
    "class B(A):\n",
    "    def method_b(self):\n",
    "        print(\"this is method form class b\")\n",
    "\n",
    "\n",
    "class C(B):\n",
    "    def method_c(self):\n",
    "        print(\"this is method form class c\")\n",
    "        "
   ]
  },
  {
   "cell_type": "code",
   "execution_count": 49,
   "id": "b1b3f546-c42c-4fc6-ac13-122fef975ab1",
   "metadata": {},
   "outputs": [],
   "source": [
    "obj=C()"
   ]
  },
  {
   "cell_type": "code",
   "execution_count": 50,
   "id": "748b8127-c306-4f9c-bde3-b20fb28c1c48",
   "metadata": {},
   "outputs": [
    {
     "name": "stdout",
     "output_type": "stream",
     "text": [
      "this is method form class a\n"
     ]
    }
   ],
   "source": [
    "obj.method_a()"
   ]
  },
  {
   "cell_type": "code",
   "execution_count": 52,
   "id": "cd1af544-548e-44bf-9af8-52d30176454c",
   "metadata": {},
   "outputs": [
    {
     "name": "stdout",
     "output_type": "stream",
     "text": [
      "this is method form class b\n"
     ]
    }
   ],
   "source": [
    "obj.method_b()"
   ]
  },
  {
   "cell_type": "code",
   "execution_count": null,
   "id": "a0707240-ddcb-4199-b1fc-43f8063288e2",
   "metadata": {},
   "outputs": [],
   "source": []
  },
  {
   "cell_type": "code",
   "execution_count": 57,
   "id": "5056580d-ee3f-4ba7-8c8e-8f2df8c8eb1c",
   "metadata": {},
   "outputs": [],
   "source": [
    "class Person:\n",
    "    def __init__(self, name, age):\n",
    "        self.name=name\n",
    "        self.age=age\n",
    "\n",
    "\n",
    "class Employee(Person):\n",
    "    def __init__(self,employee_id):\n",
    "        self.employee_id=employee_id\n",
    "\n",
    "class Manager(Employee):\n",
    "    def __init__(self,department):\n",
    "        self.department=department\n",
    "\n",
    "    def get_details\n",
    "\n",
    "\n",
    "obj=Person(\"ram\",23)\n",
    "obj1=Employee(22)\n",
    "obj3=Manager(\"science\")\n",
    "\n",
    "    "
   ]
  },
  {
   "cell_type": "code",
   "execution_count": 60,
   "id": "919e207b-f07f-47e7-9343-80681c5a0a20",
   "metadata": {},
   "outputs": [],
   "source": [
    "obj=Person(\"ram\",23)\n",
    "obj1=Employee(22)\n",
    "obj3=Manager(\"science\")"
   ]
  },
  {
   "cell_type": "code",
   "execution_count": 61,
   "id": "f567c16e-60c5-4078-a6a0-67aefbf12984",
   "metadata": {},
   "outputs": [
    {
     "name": "stdout",
     "output_type": "stream",
     "text": [
      "Name: Ram, Age: 23, Employee ID: E123, Department: Science\n"
     ]
    }
   ],
   "source": [
    "class Person:\n",
    "    def __init__(self, name, age):\n",
    "        self.name = name\n",
    "        self.age = age\n",
    "\n",
    "class Employee(Person):\n",
    "    def __init__(self, name, age, employee_id):\n",
    "        super().__init__(name, age)\n",
    "        self.employee_id = employee_id\n",
    "\n",
    "class Manager(Employee):\n",
    "    def __init__(self, name, age, employee_id, department):\n",
    "        super().__init__(name, age, employee_id)\n",
    "        self.department = department\n",
    "\n",
    "    def get_details(self):\n",
    "        return f\"Name: {self.name}, Age: {self.age}, Employee ID: {self.employee_id}, Department: {self.department}\"\n",
    "\n",
    "\n",
    "# Example usage\n",
    "obj = Manager(\"Ram\", 23, \"E123\", \"Science\")\n",
    "print(obj.get_details())\n"
   ]
  },
  {
   "cell_type": "code",
   "execution_count": 65,
   "id": "aedab0c9-aaf7-4e94-b997-4b26d2b3de6a",
   "metadata": {},
   "outputs": [],
   "source": [
    "class Animal:\n",
    "    def __init__(self, name, age):\n",
    "        self.name=name\n",
    "        self.age=age\n",
    "\n",
    "    def intro(self):\n",
    "        print(f\"my name is {self.name}\")\n",
    "\n",
    "\n",
    "\n",
    "class Cat(Animal):\n",
    "    def speak(self):\n",
    "        return \"meow\"\n",
    "\n",
    "class dog(Animal):\n",
    "    def speak(self):\n",
    "        return \"howhwo\"\n",
    "\n",
    "class lion(Animal):\n",
    "    def bark(self):\n",
    "        return \"roar\"\n",
    "    "
   ]
  },
  {
   "cell_type": "code",
   "execution_count": 66,
   "id": "033494e2-5e60-461d-a54b-191a5d1e4a62",
   "metadata": {},
   "outputs": [],
   "source": [
    "cat=Cat(\"fluffy\", 22)"
   ]
  },
  {
   "cell_type": "code",
   "execution_count": 67,
   "id": "0699c913-ab77-4a9a-b22d-445d866ec971",
   "metadata": {},
   "outputs": [
    {
     "name": "stdout",
     "output_type": "stream",
     "text": [
      "my name is fluffy\n"
     ]
    }
   ],
   "source": [
    "cat.intro()"
   ]
  },
  {
   "cell_type": "code",
   "execution_count": 68,
   "id": "20b0dbca-b205-415d-832b-aefceee494c6",
   "metadata": {},
   "outputs": [
    {
     "data": {
      "text/plain": [
       "'meow'"
      ]
     },
     "execution_count": 68,
     "metadata": {},
     "output_type": "execute_result"
    }
   ],
   "source": [
    "cat.speak()"
   ]
  },
  {
   "cell_type": "code",
   "execution_count": null,
   "id": "f85cd37c-17c4-429e-be74-6fdd6474caf0",
   "metadata": {},
   "outputs": [],
   "source": []
  }
 ],
 "metadata": {
  "kernelspec": {
   "display_name": "Python 3 (ipykernel)",
   "language": "python",
   "name": "python3"
  },
  "language_info": {
   "codemirror_mode": {
    "name": "ipython",
    "version": 3
   },
   "file_extension": ".py",
   "mimetype": "text/x-python",
   "name": "python",
   "nbconvert_exporter": "python",
   "pygments_lexer": "ipython3",
   "version": "3.13.0"
  }
 },
 "nbformat": 4,
 "nbformat_minor": 5
}
