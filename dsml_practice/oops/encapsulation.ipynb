{
 "cells": [
  {
   "cell_type": "code",
   "execution_count": 7,
   "id": "91140012-e1ee-401b-9002-053a0a25e82b",
   "metadata": {},
   "outputs": [],
   "source": [
    "class Example:\n",
    "    def __init__(self):\n",
    "        self.public_var=1\n",
    "        self.__private_var=2\n",
    "        self._protected_var=3\n",
    "        \n",
    "    def public_method(self):\n",
    "        \n",
    "        print(\"this is public\")\n",
    "\n",
    "    def __private_method(self):\n",
    "        print(\"this is private\")\n",
    "\n",
    "    def _protected(self):\n",
    "        print(\"this is protected\")"
   ]
  },
  {
   "cell_type": "code",
   "execution_count": 8,
   "id": "94521920-e366-40db-b7f9-6a85492d0d12",
   "metadata": {},
   "outputs": [
    {
     "data": {
      "text/plain": [
       "1"
      ]
     },
     "execution_count": 8,
     "metadata": {},
     "output_type": "execute_result"
    }
   ],
   "source": [
    "obj= Example()\n",
    "obj.public_var"
   ]
  },
  {
   "cell_type": "code",
   "execution_count": 9,
   "id": "d4c0e99a-6974-456d-88f7-133b4d6cc061",
   "metadata": {},
   "outputs": [
    {
     "name": "stdout",
     "output_type": "stream",
     "text": [
      "this is public\n"
     ]
    }
   ],
   "source": [
    "obj.public_method()"
   ]
  },
  {
   "cell_type": "code",
   "execution_count": 10,
   "id": "c8820244-99cb-47d3-b238-c7440a8f9b99",
   "metadata": {},
   "outputs": [
    {
     "ename": "AttributeError",
     "evalue": "'Example' object has no attribute '__private_var'",
     "output_type": "error",
     "traceback": [
      "\u001b[1;31m---------------------------------------------------------------------------\u001b[0m",
      "\u001b[1;31mAttributeError\u001b[0m                            Traceback (most recent call last)",
      "Cell \u001b[1;32mIn[10], line 1\u001b[0m\n\u001b[1;32m----> 1\u001b[0m \u001b[43mobj\u001b[49m\u001b[38;5;241;43m.\u001b[39;49m\u001b[43m__private_var\u001b[49m()\n",
      "\u001b[1;31mAttributeError\u001b[0m: 'Example' object has no attribute '__private_var'"
     ]
    }
   ],
   "source": [
    "obj.__private_var()"
   ]
  },
  {
   "cell_type": "code",
   "execution_count": 12,
   "id": "19bfc128-b94b-4c08-954a-952d3e364333",
   "metadata": {},
   "outputs": [
    {
     "name": "stdout",
     "output_type": "stream",
     "text": [
      "this is protected\n"
     ]
    }
   ],
   "source": [
    "obj._protected()"
   ]
  },
  {
   "cell_type": "code",
   "execution_count": 13,
   "id": "acc9ecde-0040-4128-a4ee-c409d3aa5a5e",
   "metadata": {},
   "outputs": [],
   "source": [
    "class SubClass(Example):\n",
    "    def get_public_member(self):\n",
    "        print(self.public_var)\n",
    "\n",
    "    def get_protected_member(self):\n",
    "        print(self._protected_var)\n",
    "\n",
    "    def get_private_member(self):\n",
    "        print(self.__private_var)"
   ]
  },
  {
   "cell_type": "code",
   "execution_count": 14,
   "id": "c6d5f5bb-43dd-4763-9932-2ff67e01d32b",
   "metadata": {},
   "outputs": [],
   "source": [
    "sub= SubClass()"
   ]
  },
  {
   "cell_type": "code",
   "execution_count": 15,
   "id": "6ed52f14-2570-4a08-b9e1-0a34078c6174",
   "metadata": {},
   "outputs": [
    {
     "ename": "AttributeError",
     "evalue": "'SubClass' object has no attribute 'get_public_var'",
     "output_type": "error",
     "traceback": [
      "\u001b[1;31m---------------------------------------------------------------------------\u001b[0m",
      "\u001b[1;31mAttributeError\u001b[0m                            Traceback (most recent call last)",
      "Cell \u001b[1;32mIn[15], line 1\u001b[0m\n\u001b[1;32m----> 1\u001b[0m \u001b[43msub\u001b[49m\u001b[38;5;241;43m.\u001b[39;49m\u001b[43mget_public_var\u001b[49m\n",
      "\u001b[1;31mAttributeError\u001b[0m: 'SubClass' object has no attribute 'get_public_var'"
     ]
    }
   ],
   "source": [
    "\n",
    "sub.get_public_var\n"
   ]
  },
  {
   "cell_type": "code",
   "execution_count": 16,
   "id": "9c040fed-1c24-4f07-ba2a-d4c2d694c7b5",
   "metadata": {},
   "outputs": [
    {
     "name": "stdout",
     "output_type": "stream",
     "text": [
      "this is public\n"
     ]
    }
   ],
   "source": [
    "sub.public_method()"
   ]
  },
  {
   "cell_type": "markdown",
   "id": "008d4634-44ea-481d-b479-10dede53dd68",
   "metadata": {},
   "source": [
    "Create a class `BankAccount` that:\n",
    "1. Allows a user to create an account by providing a **name** and an initial **balance**. Let **balance** be private variable.\n",
    "\n",
    "2. Includes methods to **deposit**, **withdraw**, and **check balance**. The withdrawal should not allow an account to go negative.\n",
    "\n",
    "4. Uses **Inheritance** to create a subclass `SavingsAccount` that adds an interest rate. Implement a method to calculate interest on the balance and update it accordingly.\n",
    " "
   ]
  },
  {
   "cell_type": "code",
   "execution_count": 19,
   "id": "25051575-68d3-4680-b377-51d828232dbc",
   "metadata": {},
   "outputs": [],
   "source": [
    "class BankAccount:\n",
    "    def __init__(self, name,balance):\n",
    "        self.name=name\n",
    "        self.__balance= balance\n",
    "\n",
    "    def deposit(self):\n",
    "        \n",
    "\n",
    "\n",
    "\n",
    "    def withdraw(self):\n",
    "\n",
    "\n",
    "    def check_balance(self):\n",
    "\n",
    "\n",
    "class SavingAcoount(BankAccount:)"
   ]
  },
  {
   "cell_type": "code",
   "execution_count": 26,
   "id": "d6ba8bea-8040-4ce3-ad30-30a28c58a0b1",
   "metadata": {},
   "outputs": [],
   "source": [
    "# Parent class\n",
    "class BankAccount:\n",
    "    def __init__(self, name, balance):\n",
    "        self.name = name\n",
    "        self.__balance = balance  # Private variable\n",
    "\n",
    "    def deposit(self, amount):\n",
    "        if amount > 0:\n",
    "            self.__balance += amount\n",
    "            print(f\"Deposited Rs.{amount}. New balance: Rs.{self.__balance}\")\n",
    "        else:\n",
    "            print(\"Deposit amount must be positive.\")\n",
    "\n",
    "    def withdraw(self, amount):\n",
    "        if amount <= self.__balance:\n",
    "            self.__balance -= amount\n",
    "            print(f\"Withdrew Rs.{amount}. New balance: Rs.{self.__balance}\")\n",
    "        else:\n",
    "            print(\"Insufficient funds! Withdrawal denied.\")\n",
    "\n",
    "    def check_balance(self):\n",
    "        print(f\"Account holder: {self.name}\")\n",
    "        print(f\"Current balance: Rs.{self.__balance}\")\n",
    "        return self.__balance  # Optionally return it\n",
    "\n",
    "    # Provide access to private balance (if needed in subclass)\n",
    "    def _get_balance(self):\n",
    "        return self.__balance\n",
    "\n",
    "    def _set_balance(self, new_balance):\n",
    "        self.__balance = new_balance\n",
    "\n",
    "\n",
    "# Subclass\n",
    "class SavingsAccount(BankAccount):\n",
    "    def __init__(self, name, balance, interest_rate):\n",
    "        super().__init__(name, balance)\n",
    "        self.interest_rate = interest_rate  # as a percentage, e.g., 5 for 5%\n",
    "\n",
    "    def apply_interest(self):\n",
    "        balance = self._get_balance()\n",
    "        interest = balance * (self.interest_rate / 100)\n",
    "        new_balance = balance + interest\n",
    "        self._set_balance(new_balance)\n",
    "        print(f\"Interest of Rs{interest:.2f} applied. New balance: Rs.{new_balance:.2f}\")\n"
   ]
  },
  {
   "cell_type": "code",
   "execution_count": 27,
   "id": "c224fbed-84ca-4274-88b8-83c1b9d4ce11",
   "metadata": {},
   "outputs": [
    {
     "name": "stdout",
     "output_type": "stream",
     "text": [
      "Account holder: prakash\n",
      "Current balance: Rs.1000\n",
      "Deposited Rs.500. New balance: Rs.1500\n",
      "Withdrew Rs.200. New balance: Rs.1300\n",
      "Interest of Rs65.00 applied. New balance: Rs.1365.00\n",
      "Account holder: prakash\n",
      "Current balance: Rs.1365.0\n"
     ]
    },
    {
     "data": {
      "text/plain": [
       "1365.0"
      ]
     },
     "execution_count": 27,
     "metadata": {},
     "output_type": "execute_result"
    }
   ],
   "source": [
    "# Create a savings account\n",
    "acc = SavingsAccount(\"prakash\", 1000, 5)\n",
    "\n",
    "acc.check_balance()\n",
    "acc.deposit(500)\n",
    "acc.withdraw(200)\n",
    "acc.apply_interest()\n",
    "acc.check_balance()\n"
   ]
  },
  {
   "cell_type": "code",
   "execution_count": 28,
   "id": "cad268e0-3a52-4596-b251-a1494175a444",
   "metadata": {},
   "outputs": [],
   "source": [
    "class BankAccount:\n",
    "    def __init__(self, name, balance):\n",
    "        self.name = name\n",
    "        self.__balance = balance  # private variable\n",
    "\n",
    "    def deposit(self, amount):\n",
    "        if amount > 0:\n",
    "            self.__balance += amount\n",
    "            print(f\"Deposited ₹{amount}. New balance: ₹{self.__balance}\")\n",
    "        else:\n",
    "            print(\"Deposit amount must be positive.\")\n",
    "\n",
    "    def withdraw(self, amount):\n",
    "        if amount <= self.__balance:\n",
    "            self.__balance -= amount\n",
    "            print(f\"Withdrew ₹{amount}. New balance: ₹{self.__balance}\")\n",
    "        else:\n",
    "            print(\"Insufficient funds! Withdrawal denied.\")\n",
    "\n",
    "    def check_balance(self):\n",
    "        print(f\"{self.name}'s current balance: ₹{self.__balance}\")\n",
    "\n",
    "\n",
    "class SavingsAccount(BankAccount):\n",
    "    def __init__(self, name, balance, interest_rate):\n",
    "        super().__init__(name, balance)\n",
    "        self.interest_rate = interest_rate  # as a percentage\n",
    "\n",
    "    def apply_interest(self):\n",
    "        # Accessing the private variable using name mangling\n",
    "        self._BankAccount__balance += self._BankAccount__balance * (self.interest_rate / 100)\n",
    "        print(f\"Interest applied at {self.interest_rate}%. New balance: ₹{self._BankAccount__balance:.2f}\")\n"
   ]
  },
  {
   "cell_type": "code",
   "execution_count": 29,
   "id": "2e8d4702-7194-4ab0-b4ea-62f599f76f83",
   "metadata": {},
   "outputs": [
    {
     "name": "stdout",
     "output_type": "stream",
     "text": [
      "John's current balance: ₹1000\n",
      "Deposited ₹500. New balance: ₹1500\n",
      "Withdrew ₹300. New balance: ₹1200\n",
      "Interest applied at 5%. New balance: ₹1260.00\n",
      "John's current balance: ₹1260.0\n"
     ]
    }
   ],
   "source": [
    "s = SavingsAccount(\"John\", 1000, 5)\n",
    "s.check_balance()\n",
    "s.deposit(500)\n",
    "s.withdraw(300)\n",
    "s.apply_interest()\n",
    "s.check_balance()\n"
   ]
  },
  {
   "cell_type": "code",
   "execution_count": null,
   "id": "b2724d45-3a4f-46b3-bcfb-f41d0fbe6e90",
   "metadata": {},
   "outputs": [],
   "source": []
  }
 ],
 "metadata": {
  "kernelspec": {
   "display_name": "Python 3 (ipykernel)",
   "language": "python",
   "name": "python3"
  },
  "language_info": {
   "codemirror_mode": {
    "name": "ipython",
    "version": 3
   },
   "file_extension": ".py",
   "mimetype": "text/x-python",
   "name": "python",
   "nbconvert_exporter": "python",
   "pygments_lexer": "ipython3",
   "version": "3.13.0"
  }
 },
 "nbformat": 4,
 "nbformat_minor": 5
}
