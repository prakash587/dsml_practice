{
 "cells": [
  {
   "cell_type": "code",
   "execution_count": 1,
   "id": "85c2b82a-e47e-421b-af8e-14983d91504c",
   "metadata": {},
   "outputs": [],
   "source": [
    "class Parent:\n",
    "    def say_hello(self):\n",
    "        print(\"helllo from parent\")\n",
    "        return 0\n",
    "\n",
    "class Child(Parent):\n",
    "    def say_hello(self):\n",
    "        res = super().say_hello()\n",
    "        print(res)\n",
    "        print(\"hello from child\")\n",
    "        "
   ]
  },
  {
   "cell_type": "code",
   "execution_count": 2,
   "id": "72f17121-3e39-4478-91d5-cae66865a51e",
   "metadata": {},
   "outputs": [
    {
     "name": "stdout",
     "output_type": "stream",
     "text": [
      "helllo from parent\n",
      "0\n",
      "hello from child\n"
     ]
    }
   ],
   "source": [
    "obj= Child()\n",
    "obj.say_hello()"
   ]
  },
  {
   "cell_type": "code",
   "execution_count": null,
   "id": "06ae4947-0193-4d8a-a06d-e92174b40b4b",
   "metadata": {},
   "outputs": [],
   "source": []
  }
 ],
 "metadata": {
  "kernelspec": {
   "display_name": "Python 3 (ipykernel)",
   "language": "python",
   "name": "python3"
  },
  "language_info": {
   "codemirror_mode": {
    "name": "ipython",
    "version": 3
   },
   "file_extension": ".py",
   "mimetype": "text/x-python",
   "name": "python",
   "nbconvert_exporter": "python",
   "pygments_lexer": "ipython3",
   "version": "3.13.0"
  }
 },
 "nbformat": 4,
 "nbformat_minor": 5
}
