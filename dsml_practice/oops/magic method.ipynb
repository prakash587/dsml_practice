{
 "cells": [
  {
   "cell_type": "code",
   "execution_count": 7,
   "id": "640828eb-296a-4657-92c8-00df2b42d9b5",
   "metadata": {},
   "outputs": [],
   "source": [
    "class Person:\n",
    "    def __init__(objr, name, age):\n",
    "        objr.name=name\n",
    "        objr.age=age\n",
    "\n",
    "    def __str__(objr):\n",
    "        return f\"{objr.name} of {objr.age} years old\"\n",
    "\n",
    "    def __repr__(objr):\n",
    "        return f\"Person {objr.name}, {objr.age}\"\n",
    "\n",
    "    def __len__(objr):\n",
    "        return objr.age\n",
    "\n",
    "    def __call__(objr, gender=\"M\"):\n",
    "        return f\"{objr.name} is a {gender}\"\n",
    "\n",
    "        \n",
    "    "
   ]
  },
  {
   "cell_type": "code",
   "execution_count": 8,
   "id": "07c741a1-fe0b-4e26-8f53-21aebc4eb157",
   "metadata": {},
   "outputs": [],
   "source": [
    "person= Person(\"prsh\", 32)"
   ]
  },
  {
   "cell_type": "code",
   "execution_count": 9,
   "id": "fceb3442-d122-4f3e-b262-094bd016073b",
   "metadata": {},
   "outputs": [
    {
     "data": {
      "text/plain": [
       "'prsh'"
      ]
     },
     "execution_count": 9,
     "metadata": {},
     "output_type": "execute_result"
    }
   ],
   "source": [
    "person.name"
   ]
  },
  {
   "cell_type": "code",
   "execution_count": 10,
   "id": "23737b86-705b-49dc-9d98-1d934e8c6f54",
   "metadata": {},
   "outputs": [
    {
     "name": "stdout",
     "output_type": "stream",
     "text": [
      "prsh of 32 years old\n"
     ]
    }
   ],
   "source": [
    "print(person)"
   ]
  },
  {
   "cell_type": "code",
   "execution_count": 11,
   "id": "33082472-545b-4c47-a46f-ca32cd020587",
   "metadata": {},
   "outputs": [
    {
     "data": {
      "text/plain": [
       "32"
      ]
     },
     "execution_count": 11,
     "metadata": {},
     "output_type": "execute_result"
    }
   ],
   "source": [
    "len(person)"
   ]
  },
  {
   "cell_type": "code",
   "execution_count": 12,
   "id": "6f377850-b8ea-487a-bfc3-06105351eb95",
   "metadata": {},
   "outputs": [
    {
     "data": {
      "text/plain": [
       "'prsh is a female'"
      ]
     },
     "execution_count": 12,
     "metadata": {},
     "output_type": "execute_result"
    }
   ],
   "source": [
    "person(\"female\")"
   ]
  },
  {
   "cell_type": "code",
   "execution_count": null,
   "id": "ba76da41-db3f-4a31-9b0a-455b9fbc30d6",
   "metadata": {},
   "outputs": [],
   "source": []
  }
 ],
 "metadata": {
  "kernelspec": {
   "display_name": "Python 3 (ipykernel)",
   "language": "python",
   "name": "python3"
  },
  "language_info": {
   "codemirror_mode": {
    "name": "ipython",
    "version": 3
   },
   "file_extension": ".py",
   "mimetype": "text/x-python",
   "name": "python",
   "nbconvert_exporter": "python",
   "pygments_lexer": "ipython3",
   "version": "3.13.0"
  }
 },
 "nbformat": 4,
 "nbformat_minor": 5
}
