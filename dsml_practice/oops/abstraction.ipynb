{
 "cells": [
  {
   "cell_type": "code",
   "execution_count": 1,
   "id": "13dee3a4-99f1-4857-8d8e-16dc82f16d6a",
   "metadata": {},
   "outputs": [],
   "source": [
    "from abc import ABC, abstractmethod\n",
    "\n",
    "class Shape(ABC):\n",
    "\n",
    "    @abstractmethod\n",
    "    def area(self):\n",
    "        pass\n",
    "\n",
    "    def volume(self):\n",
    "        return \"Not Applicable for given shape\""
   ]
  },
  {
   "cell_type": "code",
   "execution_count": 2,
   "id": "b41ac049-6936-4991-91c8-9feb5e2bae7c",
   "metadata": {},
   "outputs": [
    {
     "ename": "TypeError",
     "evalue": "Can't instantiate abstract class Shape without an implementation for abstract method 'area'",
     "output_type": "error",
     "traceback": [
      "\u001b[1;31m---------------------------------------------------------------------------\u001b[0m",
      "\u001b[1;31mTypeError\u001b[0m                                 Traceback (most recent call last)",
      "Cell \u001b[1;32mIn[2], line 1\u001b[0m\n\u001b[1;32m----> 1\u001b[0m shape\u001b[38;5;241m=\u001b[39m\u001b[43mShape\u001b[49m\u001b[43m(\u001b[49m\u001b[43m)\u001b[49m\n",
      "\u001b[1;31mTypeError\u001b[0m: Can't instantiate abstract class Shape without an implementation for abstract method 'area'"
     ]
    }
   ],
   "source": [
    "shape=Shape()"
   ]
  },
  {
   "cell_type": "code",
   "execution_count": 6,
   "id": "76818e17-66de-4773-bcfc-b2de143dfb44",
   "metadata": {},
   "outputs": [],
   "source": [
    "class Rectangle(Shape):\n",
    "    def __init__(self,width,length):\n",
    "        self.w=width\n",
    "        self.l=length\n",
    "\n",
    "    def area(self):\n",
    "        return self.w*self.l\n",
    "        "
   ]
  },
  {
   "cell_type": "code",
   "execution_count": 7,
   "id": "41443912-8cb8-45b9-a43d-b855ce1b98e7",
   "metadata": {},
   "outputs": [],
   "source": [
    "rect=Rectangle(32,32)"
   ]
  },
  {
   "cell_type": "code",
   "execution_count": 8,
   "id": "a46eea68-b7cd-44ff-90e0-6bfef58f8082",
   "metadata": {},
   "outputs": [
    {
     "data": {
      "text/plain": [
       "1024"
      ]
     },
     "execution_count": 8,
     "metadata": {},
     "output_type": "execute_result"
    }
   ],
   "source": [
    "rect.area()"
   ]
  },
  {
   "cell_type": "code",
   "execution_count": 9,
   "id": "d894afea-ba78-4c26-95db-8cab0e38969f",
   "metadata": {},
   "outputs": [
    {
     "data": {
      "text/plain": [
       "'Not Applicable for given shape'"
      ]
     },
     "execution_count": 9,
     "metadata": {},
     "output_type": "execute_result"
    }
   ],
   "source": [
    "rect.volume()"
   ]
  },
  {
   "cell_type": "code",
   "execution_count": 10,
   "id": "f9cd752e-2cc0-4e44-bff2-69acef29219b",
   "metadata": {},
   "outputs": [],
   "source": [
    "class Cuboid(Shape):\n",
    "    def __init__(self,width,length,height):\n",
    "        self.w=width\n",
    "        self.l=length\n",
    "        self.h=height\n",
    "\n",
    "    def area(self):\n",
    "        return self.w*self.l\n",
    "\n",
    "    def volume(self):\n",
    "        return self.w* self.l * self.h"
   ]
  },
  {
   "cell_type": "code",
   "execution_count": 12,
   "id": "82cd57b1-e4f3-45e3-80f2-96ede19b91dd",
   "metadata": {},
   "outputs": [],
   "source": [
    "cub = Cuboid(3,4,5)"
   ]
  },
  {
   "cell_type": "code",
   "execution_count": 13,
   "id": "b0814e35-21c1-47fd-8d36-63d9fd60091f",
   "metadata": {},
   "outputs": [
    {
     "data": {
      "text/plain": [
       "60"
      ]
     },
     "execution_count": 13,
     "metadata": {},
     "output_type": "execute_result"
    }
   ],
   "source": [
    "cub.volume()"
   ]
  },
  {
   "cell_type": "code",
   "execution_count": null,
   "id": "fbecc0cf-572b-4660-9440-58e3df54c1cd",
   "metadata": {},
   "outputs": [],
   "source": []
  }
 ],
 "metadata": {
  "kernelspec": {
   "display_name": "Python 3 (ipykernel)",
   "language": "python",
   "name": "python3"
  },
  "language_info": {
   "codemirror_mode": {
    "name": "ipython",
    "version": 3
   },
   "file_extension": ".py",
   "mimetype": "text/x-python",
   "name": "python",
   "nbconvert_exporter": "python",
   "pygments_lexer": "ipython3",
   "version": "3.13.0"
  }
 },
 "nbformat": 4,
 "nbformat_minor": 5
}
