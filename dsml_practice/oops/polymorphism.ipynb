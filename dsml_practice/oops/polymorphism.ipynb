{
 "cells": [
  {
   "cell_type": "code",
   "execution_count": 15,
   "id": "343a62d8-5666-4aaf-8a8f-e5b8cc360534",
   "metadata": {},
   "outputs": [],
   "source": [
    "class Point:\n",
    "    def __init__(self, x, y):\n",
    "        self.x=x\n",
    "        self.y=y\n",
    "\n",
    "    def __repr__(self):\n",
    "        return f\" Point{self.x}, {self.y}\"\n",
    "\n",
    "    def __add__(self, other):\n",
    "        x=self.x+other.x\n",
    "        y= self.y+other.y\n",
    "        return Point(x,y)\n",
    "\n",
    "    def __sub__(self, other):\n",
    "        x=self.x-other.x\n",
    "        y=self.y-other.y\n",
    "        return Point(x,y)\n",
    "\n",
    "    def __pow__(self,other):\n",
    "        x=self.x**other.x\n",
    "        y=self.y **other.y\n",
    "        return Point(x,y)"
   ]
  },
  {
   "cell_type": "code",
   "execution_count": 16,
   "id": "32bc5733-f71b-4269-ab8c-3c4fea274192",
   "metadata": {},
   "outputs": [],
   "source": [
    "A=Point(2,5)\n",
    "B=Point(4,9)"
   ]
  },
  {
   "cell_type": "code",
   "execution_count": 17,
   "id": "b26bb57a-7ce7-4f5a-a77a-7e6b1fd4f9d5",
   "metadata": {},
   "outputs": [
    {
     "data": {
      "text/plain": [
       " Point6, 14"
      ]
     },
     "execution_count": 17,
     "metadata": {},
     "output_type": "execute_result"
    }
   ],
   "source": [
    "A+B"
   ]
  },
  {
   "cell_type": "code",
   "execution_count": 18,
   "id": "85183d88-ff28-4998-8dbd-ce94626161ef",
   "metadata": {},
   "outputs": [
    {
     "data": {
      "text/plain": [
       " Point-2, -4"
      ]
     },
     "execution_count": 18,
     "metadata": {},
     "output_type": "execute_result"
    }
   ],
   "source": [
    "A-B"
   ]
  },
  {
   "cell_type": "code",
   "execution_count": 19,
   "id": "90b03518-1fcc-4a6d-beec-d375fb90b7bc",
   "metadata": {},
   "outputs": [
    {
     "data": {
      "text/plain": [
       " Point2, 4"
      ]
     },
     "execution_count": 19,
     "metadata": {},
     "output_type": "execute_result"
    }
   ],
   "source": [
    "B-A"
   ]
  },
  {
   "cell_type": "code",
   "execution_count": 22,
   "id": "320a860f-bc74-4870-937b-f4a9e0927b0b",
   "metadata": {},
   "outputs": [
    {
     "ename": "AttributeError",
     "evalue": "'int' object has no attribute 'x'",
     "output_type": "error",
     "traceback": [
      "\u001b[1;31m---------------------------------------------------------------------------\u001b[0m",
      "\u001b[1;31mAttributeError\u001b[0m                            Traceback (most recent call last)",
      "Cell \u001b[1;32mIn[22], line 1\u001b[0m\n\u001b[1;32m----> 1\u001b[0m \u001b[43mA\u001b[49m\u001b[38;5;241;43m*\u001b[39;49m\u001b[38;5;241;43m*\u001b[39;49m\u001b[38;5;241;43m3\u001b[39;49m\n",
      "Cell \u001b[1;32mIn[15], line 20\u001b[0m, in \u001b[0;36mPoint.__pow__\u001b[1;34m(self, other)\u001b[0m\n\u001b[0;32m     19\u001b[0m \u001b[38;5;28;01mdef\u001b[39;00m \u001b[38;5;21m__pow__\u001b[39m(\u001b[38;5;28mself\u001b[39m,other):\n\u001b[1;32m---> 20\u001b[0m     x\u001b[38;5;241m=\u001b[39m\u001b[38;5;28mself\u001b[39m\u001b[38;5;241m.\u001b[39mx\u001b[38;5;241m*\u001b[39m\u001b[38;5;241m*\u001b[39m\u001b[43mother\u001b[49m\u001b[38;5;241;43m.\u001b[39;49m\u001b[43mx\u001b[49m\n\u001b[0;32m     21\u001b[0m     y\u001b[38;5;241m=\u001b[39m\u001b[38;5;28mself\u001b[39m\u001b[38;5;241m.\u001b[39my \u001b[38;5;241m*\u001b[39m\u001b[38;5;241m*\u001b[39mother\u001b[38;5;241m.\u001b[39my\n\u001b[0;32m     22\u001b[0m     \u001b[38;5;28;01mreturn\u001b[39;00m Point(x,y)\n",
      "\u001b[1;31mAttributeError\u001b[0m: 'int' object has no attribute 'x'"
     ]
    }
   ],
   "source": [
    "A**3"
   ]
  },
  {
   "cell_type": "code",
   "execution_count": 25,
   "id": "fe921645-5835-4697-ae64-5d2b968b5d1f",
   "metadata": {},
   "outputs": [
    {
     "ename": "ModuleNotFoundError",
     "evalue": "No module named 'pandas'",
     "output_type": "error",
     "traceback": [
      "\u001b[1;31m---------------------------------------------------------------------------\u001b[0m",
      "\u001b[1;31mModuleNotFoundError\u001b[0m                       Traceback (most recent call last)",
      "Cell \u001b[1;32mIn[25], line 1\u001b[0m\n\u001b[1;32m----> 1\u001b[0m \u001b[38;5;28;01mimport\u001b[39;00m \u001b[38;5;21;01mpandas\u001b[39;00m\n\u001b[0;32m      3\u001b[0m pandas\u001b[38;5;241m.\u001b[39m__version__\n",
      "\u001b[1;31mModuleNotFoundError\u001b[0m: No module named 'pandas'"
     ]
    }
   ],
   "source": [
    "import pandas\n",
    "\n",
    "pandas.__version__"
   ]
  },
  {
   "cell_type": "markdown",
   "id": "6e023546-60fa-49a3-aea7-b4c9384928ef",
   "metadata": {},
   "source": [
    "DUCK TYPING"
   ]
  },
  {
   "cell_type": "code",
   "execution_count": 30,
   "id": "01a79268-aea8-4173-beba-1678f42bdc79",
   "metadata": {},
   "outputs": [],
   "source": [
    "class Car:\n",
    "    def drive(self):\n",
    "        print(\"Drive a Car\")\n",
    "\n",
    "class Bike:\n",
    "    def drive(self):\n",
    "        print(\"riding  A BIKE\")"
   ]
  },
  {
   "cell_type": "code",
   "execution_count": 45,
   "id": "dd8fdd43-3236-48c6-9c98-ed3d1c190dc1",
   "metadata": {},
   "outputs": [],
   "source": [
    "def start_driving(vehicle):\n",
    "    vehicle.drive()"
   ]
  },
  {
   "cell_type": "code",
   "execution_count": 46,
   "id": "a95f5df8-6fce-4514-a8d6-2539b653f583",
   "metadata": {},
   "outputs": [],
   "source": [
    "car=Car()\n",
    "bike=Bike()"
   ]
  },
  {
   "cell_type": "code",
   "execution_count": 47,
   "id": "9135ceb0-a561-4586-87b7-6aac9eb317a8",
   "metadata": {},
   "outputs": [
    {
     "name": "stdout",
     "output_type": "stream",
     "text": [
      "Drive a Car\n"
     ]
    }
   ],
   "source": [
    "start_driving(car)"
   ]
  },
  {
   "cell_type": "code",
   "execution_count": 48,
   "id": "2d6cf485-1a32-42d5-83b2-169728307507",
   "metadata": {},
   "outputs": [
    {
     "name": "stdout",
     "output_type": "stream",
     "text": [
      "riding  A BIKE\n"
     ]
    }
   ],
   "source": [
    "start_driving(bike)"
   ]
  },
  {
   "cell_type": "code",
   "execution_count": null,
   "id": "eddc73e2-ee59-4cc5-8cc0-25c2d19d0c7e",
   "metadata": {},
   "outputs": [],
   "source": []
  }
 ],
 "metadata": {
  "kernelspec": {
   "display_name": "Python 3 (ipykernel)",
   "language": "python",
   "name": "python3"
  },
  "language_info": {
   "codemirror_mode": {
    "name": "ipython",
    "version": 3
   },
   "file_extension": ".py",
   "mimetype": "text/x-python",
   "name": "python",
   "nbconvert_exporter": "python",
   "pygments_lexer": "ipython3",
   "version": "3.13.0"
  }
 },
 "nbformat": 4,
 "nbformat_minor": 5
}
