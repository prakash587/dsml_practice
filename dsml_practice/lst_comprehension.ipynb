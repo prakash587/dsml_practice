{
 "cells": [
  {
   "cell_type": "code",
   "execution_count": null,
   "id": "9afc7370-4111-4bef-b0b4-7fee261caa7f",
   "metadata": {},
   "outputs": [],
   "source": [
    "#list comprehension"
   ]
  },
  {
   "cell_type": "code",
   "execution_count": 3,
   "id": "9fb2a3a5-4d40-4e83-a870-986dbedaf196",
   "metadata": {},
   "outputs": [
    {
     "name": "stdout",
     "output_type": "stream",
     "text": [
      "[1, 4, 9, 16, 25, 36, 49, 64, 81]\n"
     ]
    }
   ],
   "source": [
    "#normalcoding\n",
    "squared=[]\n",
    "for num in range(1,10):\n",
    "    squared.append(num **2)\n",
    "print(squared)"
   ]
  },
  {
   "cell_type": "code",
   "execution_count": 4,
   "id": "d70da7e3-18c9-4ca4-ad4c-b16c24e1728f",
   "metadata": {},
   "outputs": [
    {
     "name": "stdout",
     "output_type": "stream",
     "text": [
      "[1, 4, 9, 16, 25, 36, 49, 64, 81]\n"
     ]
    }
   ],
   "source": [
    "squared= [num **2 for num in range(1,10)]\n",
    "print(squared)"
   ]
  },
  {
   "cell_type": "code",
   "execution_count": 1,
   "id": "996b2aa5-db9f-49dd-8415-5ed014c642f9",
   "metadata": {},
   "outputs": [
    {
     "name": "stdout",
     "output_type": "stream",
     "text": [
      "[2, 4, 6, 8]\n"
     ]
    }
   ],
   "source": [
    "#list comprehension\n",
    "even=[num for num in range(1,10) if num%2 ==0]\n",
    "print (even)"
   ]
  },
  {
   "cell_type": "code",
   "execution_count": 2,
   "id": "8c3e7bcd-383d-4fcb-b291-918cdb9217f5",
   "metadata": {},
   "outputs": [
    {
     "name": "stdout",
     "output_type": "stream",
     "text": [
      "[1, 3, 5, 7, 9]\n"
     ]
    }
   ],
   "source": [
    "odd=[num for num in range (1,10) if num%2 !=0]\n",
    "print(odd)"
   ]
  },
  {
   "cell_type": "code",
   "execution_count": 5,
   "id": "f23099be-17e0-4399-a4ef-e30d6a12323b",
   "metadata": {},
   "outputs": [
    {
     "name": "stdout",
     "output_type": "stream",
     "text": [
      "[1, 4, 3, 16, 5, 36, 7, 64, 9]\n"
     ]
    }
   ],
   "source": [
    "res =[num **2 if num %2 ==0 else num for num in range(1,10)]\n",
    "print (res)"
   ]
  },
  {
   "cell_type": "code",
   "execution_count": 6,
   "id": "430c9bdc-2b97-4f75-b258-7162e22e911b",
   "metadata": {},
   "outputs": [
    {
     "name": "stdout",
     "output_type": "stream",
     "text": [
      "[('red', 'apple'), ('red', 'bananana'), ('red', 'ornage'), ('black', 'apple'), ('black', 'bananana'), ('black', 'ornage'), ('green', 'apple'), ('green', 'bananana'), ('green', 'ornage')]\n"
     ]
    }
   ],
   "source": [
    "color=['red', 'black', 'green']\n",
    "fruits=['apple', 'bananana', 'ornage']\n",
    "\n",
    "\n",
    "pair=[(c,f) for c in color for f in fruits]\n",
    "print (pair)"
   ]
  },
  {
   "cell_type": "code",
   "execution_count": 8,
   "id": "bf2c204d-52a2-4ce4-834e-b5772b8ee4a1",
   "metadata": {},
   "outputs": [
    {
     "name": "stdout",
     "output_type": "stream",
     "text": [
      "A : 1\n",
      "single : 6\n",
      "training : 8\n",
      "set : 3\n",
      "that : 4\n",
      "has : 3\n",
      "already : 7\n",
      "been : 4\n",
      "processed : 9\n",
      "is : 2\n",
      "usually : 7\n",
      "split : 5\n",
      "into : 4\n",
      "several : 7\n",
      "types : 5\n",
      "of : 2\n",
      "datasets : 8\n",
      "in : 2\n",
      "machine : 7\n",
      "learning : 8\n",
      "which : 5\n",
      "is : 2\n",
      "needed : 6\n",
      "to : 2\n",
      "check : 5\n",
      "how : 3\n",
      "well : 4\n",
      "the : 3\n",
      "training : 8\n",
      "of : 2\n",
      "the : 3\n",
      "model : 5\n",
      "went : 4\n",
      "['A', 'single', 'training', 'set', 'that', 'has', 'already', 'been', 'processed', 'is', 'usually', 'split', 'into', 'several', 'types', 'of', 'datasets', 'in', 'machine', 'learning', 'which', 'is', 'needed', 'to', 'check', 'how', 'well', 'the', 'training', 'of', 'the', 'model', 'went']\n",
      "[1, 6, 8, 3, 4, 3, 7, 4, 9, 2, 7, 5, 4, 7, 5, 2, 8, 2, 7, 8, 5, 2, 6, 2, 5, 3, 4, 3, 8, 2, 3, 5, 4]\n"
     ]
    }
   ],
   "source": [
    "sent = \"A single training set that has already been processed is usually split into several types of datasets in machine learning which is needed to check how well the training of the model went\"\n",
    "\n",
    "words = sent.split()\n",
    "\n",
    "word_list = []\n",
    "length_list = []\n",
    "\n",
    "for word in words:\n",
    "    print(f\"{word} : {len(word)}\")\n",
    "    word_list.append(word)\n",
    "    length_list.append(len(word))\n",
    "\n",
    "print( word_list)\n",
    "print(length_list)\n"
   ]
  },
  {
   "cell_type": "code",
   "execution_count": null,
   "id": "1daf0d79-d597-4c3c-b33e-413e06b7f741",
   "metadata": {},
   "outputs": [],
   "source": [
    "#dict comprehension"
   ]
  },
  {
   "cell_type": "code",
   "execution_count": 3,
   "id": "38f75b7e-5efd-40e3-8369-4919acfd588c",
   "metadata": {},
   "outputs": [
    {
     "name": "stdout",
     "output_type": "stream",
     "text": [
      "{1: 1, 2: 4, 3: 9, 4: 16, 5: 25, 6: 36, 7: 49, 8: 64, 9: 81, 10: 100}\n"
     ]
    }
   ],
   "source": [
    "#normal\n",
    "sqr_dict={}\n",
    "for num in range(1,11):\n",
    "    sqr_dict[num]= num **2\n",
    "print (sqr_dict)\n",
    "    "
   ]
  },
  {
   "cell_type": "code",
   "execution_count": 12,
   "id": "9ebac7bd-a375-449f-8379-bfa95d409ed5",
   "metadata": {},
   "outputs": [
    {
     "name": "stdout",
     "output_type": "stream",
     "text": [
      "{1: 1, 2: 4, 3: 9, 4: 16, 5: 25, 6: 36, 7: 49, 8: 64, 9: 81, 10: 100}\n"
     ]
    }
   ],
   "source": [
    "#comprehension\n",
    "sqr_dict={num: num **2 for num in range(1,11)}\n",
    "print (sqr_dict)"
   ]
  },
  {
   "cell_type": "code",
   "execution_count": 13,
   "id": "1530b6e5-643d-4e6c-8a93-a36e4de4cd7c",
   "metadata": {},
   "outputs": [
    {
     "name": "stdout",
     "output_type": "stream",
     "text": [
      "{2: 4, 4: 16, 6: 36, 8: 64, 10: 100}\n"
     ]
    }
   ],
   "source": [
    "#comprehension\n",
    "sqr_dict={num: num **2 for num in range(1,11) if num %2 ==0}\n",
    "print (sqr_dict)"
   ]
  },
  {
   "cell_type": "code",
   "execution_count": 14,
   "id": "98b5e810-b6e1-43b6-a111-5acddf49f4ab",
   "metadata": {},
   "outputs": [
    {
     "name": "stdout",
     "output_type": "stream",
     "text": [
      "A : 1\n",
      "single : 6\n",
      "training : 8\n",
      "set : 3\n",
      "that : 4\n",
      "has : 3\n",
      "already : 7\n",
      "been : 4\n",
      "processed : 9\n",
      "is : 2\n",
      "usually : 7\n",
      "split : 5\n",
      "into : 4\n",
      "several : 7\n",
      "types : 5\n",
      "of : 2\n",
      "datasets : 8\n",
      "in : 2\n",
      "machine : 7\n",
      "learning : 8\n",
      "which : 5\n",
      "is : 2\n",
      "needed : 6\n",
      "to : 2\n",
      "check : 5\n",
      "how : 3\n",
      "well : 4\n",
      "the : 3\n",
      "training : 8\n",
      "of : 2\n",
      "the : 3\n",
      "model : 5\n",
      "went : 4\n"
     ]
    }
   ],
   "source": [
    "sent = \"A single training set that has already been processed is usually split into several types of datasets in machine learning which is needed to check how well the training of the model went\"\n",
    "\n",
    "# Split sentence into words\n",
    "words = sent.split()\n",
    "\n",
    "# Count letters for each word\n",
    "for word in words:\n",
    "    print(f\"{word} : {len(word)}\")\n"
   ]
  },
  {
   "cell_type": "code",
   "execution_count": 15,
   "id": "e6d7600e-4a88-4344-86bb-2be135600e53",
   "metadata": {},
   "outputs": [
    {
     "name": "stdout",
     "output_type": "stream",
     "text": [
      "single : 6\n",
      "training : 8\n",
      "already : 7\n",
      "processed : 9\n",
      "usually : 7\n",
      "several : 7\n",
      "datasets : 8\n",
      "machine : 7\n",
      "learning : 8\n",
      "needed : 6\n"
     ]
    }
   ],
   "source": [
    "sent = \"A single training set that has already been processed is usually split into several types of datasets in machine learning which is needed to check how well the training of the model went\"\n",
    "\n",
    "# Dictionary comprehension with filter\n",
    "word_lengths = {word: len(word) for word in sent.split() if len(word) > 5}\n",
    "\n",
    "# Print the result\n",
    "for word, length in word_lengths.items():\n",
    "    print(f\"{word} : {length}\")\n"
   ]
  },
  {
   "cell_type": "code",
   "execution_count": 16,
   "id": "f03ab991-69f5-41f2-bd2b-401018c912f4",
   "metadata": {},
   "outputs": [
    {
     "name": "stdout",
     "output_type": "stream",
     "text": [
      "{'single': 6, 'training': 8, 'already': 7, 'processed': 9, 'usually': 7, 'several': 7, 'datasets': 8, 'machine': 7, 'learning': 8, 'needed': 6}\n"
     ]
    }
   ],
   "source": [
    "sent = \"A single training set that has already been processed is usually split into several types of datasets in machine learning which is needed to check how well the training of the model went\"\n",
    "\n",
    "# One-line dictionary comprehension with filtering\n",
    "print({word: len(word) for word in sent.split() if len(word) > 5})\n"
   ]
  },
  {
   "cell_type": "code",
   "execution_count": null,
   "id": "80387908-cd5a-405a-9500-fa1583efc796",
   "metadata": {},
   "outputs": [],
   "source": []
  },
  {
   "cell_type": "code",
   "execution_count": 17,
   "id": "d87dbfed-2e28-47a0-aa1f-7652548b441b",
   "metadata": {},
   "outputs": [
    {
     "name": "stdout",
     "output_type": "stream",
     "text": [
      "{1, 121, 225, 289, 9, 169, 361, 441, 81, 49, 529, 625, 729, 25}\n"
     ]
    }
   ],
   "source": [
    "#set comprehensoin\n",
    "sq_odd={num **2 for num in range (1,29) if num %2 !=0}\n",
    "print (sq_odd)"
   ]
  },
  {
   "cell_type": "code",
   "execution_count": 18,
   "id": "6f59bc25-0d32-4af5-9220-a72e10ce9e34",
   "metadata": {},
   "outputs": [
    {
     "data": {
      "text/plain": [
       "['aa', 'ab', 'ac', 'ba', 'bb', 'bc', 'ca', 'cb', 'cc']"
      ]
     },
     "execution_count": 18,
     "metadata": {},
     "output_type": "execute_result"
    }
   ],
   "source": [
    "letters=['a', 'b', 'c']\n",
    "pairs=[let1+let2 for let1 in letters for let2 in letters]\n",
    "pairs"
   ]
  },
  {
   "cell_type": "code",
   "execution_count": 19,
   "id": "341933a8-0515-48b5-b425-5f099a3a2ad7",
   "metadata": {},
   "outputs": [
    {
     "data": {
      "text/plain": [
       "{'aa', 'ab', 'ac', 'ba', 'bb', 'bc', 'ca', 'cb', 'cc'}"
      ]
     },
     "execution_count": 19,
     "metadata": {},
     "output_type": "execute_result"
    }
   ],
   "source": [
    "letters=['c', 'b', 'a']\n",
    "pairs={let1+let2 for let1 in letters for let2 in letters}\n",
    "pairs"
   ]
  },
  {
   "cell_type": "code",
   "execution_count": 24,
   "id": "d0b0a681-20fd-4428-bb40-20bef70f84d2",
   "metadata": {},
   "outputs": [
    {
     "name": "stdout",
     "output_type": "stream",
     "text": [
      "{'a'}\n"
     ]
    }
   ],
   "source": [
    "sentences='prakash'\n",
    "vowel = {char for char in sentences if char.lower() in 'aeiou'}\n",
    "print(vowel)\n"
   ]
  },
  {
   "cell_type": "code",
   "execution_count": 23,
   "id": "3c882375-c054-465b-8ccf-bf1867e59bb2",
   "metadata": {},
   "outputs": [
    {
     "name": "stdout",
     "output_type": "stream",
     "text": [
      "Unique vowels: {'a'}\n"
     ]
    }
   ],
   "source": [
    "text = \"Set comprehensions can be nested\"\n",
    "\n",
    "# Set comprehension to find unique vowels\n",
    "vowels = {char.lower() for char in text if char.lower() in 'aeiou'}\n",
    "\n",
    "print(\"Unique vowels:\", vowels)\n"
   ]
  },
  {
   "cell_type": "code",
   "execution_count": 27,
   "id": "b51380cf-ec04-48bc-a5d9-c65c69388768",
   "metadata": {},
   "outputs": [
    {
     "data": {
      "text/plain": [
       "{'a', 'e', 'i', 'o'}"
      ]
     },
     "execution_count": 27,
     "metadata": {},
     "output_type": "execute_result"
    }
   ],
   "source": [
    "sent= \"set comprehension can be nested\"\n",
    "output={char for char in sent if char in set(\"a,e,i,o,u\")}\n",
    "output"
   ]
  },
  {
   "cell_type": "code",
   "execution_count": 28,
   "id": "81ab1aa5-0c78-4292-bf5d-c729cadd6152",
   "metadata": {},
   "outputs": [
    {
     "data": {
      "text/plain": [
       "{' ', 'b', 'c', 'd', 'h', 'm', 'n', 'p', 'r', 's', 't'}"
      ]
     },
     "execution_count": 28,
     "metadata": {},
     "output_type": "execute_result"
    }
   ],
   "source": [
    "sent= \"set comprehension can be nested\"\n",
    "output={char for char in sent if char not  in set(\"a,e,i,o,u\")}\n",
    "output"
   ]
  },
  {
   "cell_type": "code",
   "execution_count": null,
   "id": "5eddc472-804a-4243-884f-f3eccb4c0cb8",
   "metadata": {},
   "outputs": [],
   "source": []
  }
 ],
 "metadata": {
  "kernelspec": {
   "display_name": "Python 3 (ipykernel)",
   "language": "python",
   "name": "python3"
  },
  "language_info": {
   "codemirror_mode": {
    "name": "ipython",
    "version": 3
   },
   "file_extension": ".py",
   "mimetype": "text/x-python",
   "name": "python",
   "nbconvert_exporter": "python",
   "pygments_lexer": "ipython3",
   "version": "3.13.0"
  }
 },
 "nbformat": 4,
 "nbformat_minor": 5
}
