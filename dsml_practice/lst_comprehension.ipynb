{
 "cells": [
  {
   "cell_type": "code",
   "execution_count": null,
   "id": "9afc7370-4111-4bef-b0b4-7fee261caa7f",
   "metadata": {},
   "outputs": [],
   "source": [
    "#list comprehension"
   ]
  },
  {
   "cell_type": "code",
   "execution_count": 3,
   "id": "9fb2a3a5-4d40-4e83-a870-986dbedaf196",
   "metadata": {},
   "outputs": [
    {
     "name": "stdout",
     "output_type": "stream",
     "text": [
      "[1, 4, 9, 16, 25, 36, 49, 64, 81]\n"
     ]
    }
   ],
   "source": [
    "#normalcoding\n",
    "squared=[]\n",
    "for num in range(1,10):\n",
    "    squared.append(num **2)\n",
    "print(squared)"
   ]
  },
  {
   "cell_type": "code",
   "execution_count": 4,
   "id": "d70da7e3-18c9-4ca4-ad4c-b16c24e1728f",
   "metadata": {},
   "outputs": [
    {
     "name": "stdout",
     "output_type": "stream",
     "text": [
      "[1, 4, 9, 16, 25, 36, 49, 64, 81]\n"
     ]
    }
   ],
   "source": [
    "squared= [num **2 for num in range(1,10)]\n",
    "print(squared)"
   ]
  },
  {
   "cell_type": "code",
   "execution_count": 1,
   "id": "996b2aa5-db9f-49dd-8415-5ed014c642f9",
   "metadata": {},
   "outputs": [
    {
     "name": "stdout",
     "output_type": "stream",
     "text": [
      "[2, 4, 6, 8]\n"
     ]
    }
   ],
   "source": [
    "#list comprehension\n",
    "even=[num for num in range(1,10) if num%2 ==0]\n",
    "print (even)"
   ]
  },
  {
   "cell_type": "code",
   "execution_count": 2,
   "id": "8c3e7bcd-383d-4fcb-b291-918cdb9217f5",
   "metadata": {},
   "outputs": [
    {
     "name": "stdout",
     "output_type": "stream",
     "text": [
      "[1, 3, 5, 7, 9]\n"
     ]
    }
   ],
   "source": [
    "odd=[num for num in range (1,10) if num%2 !=0]\n",
    "print(odd)"
   ]
  },
  {
   "cell_type": "code",
   "execution_count": 5,
   "id": "f23099be-17e0-4399-a4ef-e30d6a12323b",
   "metadata": {},
   "outputs": [
    {
     "name": "stdout",
     "output_type": "stream",
     "text": [
      "[1, 4, 3, 16, 5, 36, 7, 64, 9]\n"
     ]
    }
   ],
   "source": [
    "res =[num **2 if num %2 ==0 else num for num in range(1,10)]\n",
    "print (res)"
   ]
  },
  {
   "cell_type": "code",
   "execution_count": 6,
   "id": "430c9bdc-2b97-4f75-b258-7162e22e911b",
   "metadata": {},
   "outputs": [
    {
     "name": "stdout",
     "output_type": "stream",
     "text": [
      "[('red', 'apple'), ('red', 'bananana'), ('red', 'ornage'), ('black', 'apple'), ('black', 'bananana'), ('black', 'ornage'), ('green', 'apple'), ('green', 'bananana'), ('green', 'ornage')]\n"
     ]
    }
   ],
   "source": [
    "color=['red', 'black', 'green']\n",
    "fruits=['apple', 'bananana', 'ornage']\n",
    "\n",
    "\n",
    "pair=[(c,f) for c in color for f in fruits]\n",
    "print (pair)"
   ]
  },
  {
   "cell_type": "code",
   "execution_count": 8,
   "id": "bf2c204d-52a2-4ce4-834e-b5772b8ee4a1",
   "metadata": {},
   "outputs": [
    {
     "name": "stdout",
     "output_type": "stream",
     "text": [
      "A : 1\n",
      "single : 6\n",
      "training : 8\n",
      "set : 3\n",
      "that : 4\n",
      "has : 3\n",
      "already : 7\n",
      "been : 4\n",
      "processed : 9\n",
      "is : 2\n",
      "usually : 7\n",
      "split : 5\n",
      "into : 4\n",
      "several : 7\n",
      "types : 5\n",
      "of : 2\n",
      "datasets : 8\n",
      "in : 2\n",
      "machine : 7\n",
      "learning : 8\n",
      "which : 5\n",
      "is : 2\n",
      "needed : 6\n",
      "to : 2\n",
      "check : 5\n",
      "how : 3\n",
      "well : 4\n",
      "the : 3\n",
      "training : 8\n",
      "of : 2\n",
      "the : 3\n",
      "model : 5\n",
      "went : 4\n",
      "['A', 'single', 'training', 'set', 'that', 'has', 'already', 'been', 'processed', 'is', 'usually', 'split', 'into', 'several', 'types', 'of', 'datasets', 'in', 'machine', 'learning', 'which', 'is', 'needed', 'to', 'check', 'how', 'well', 'the', 'training', 'of', 'the', 'model', 'went']\n",
      "[1, 6, 8, 3, 4, 3, 7, 4, 9, 2, 7, 5, 4, 7, 5, 2, 8, 2, 7, 8, 5, 2, 6, 2, 5, 3, 4, 3, 8, 2, 3, 5, 4]\n"
     ]
    }
   ],
   "source": [
    "sent = \"A single training set that has already been processed is usually split into several types of datasets in machine learning which is needed to check how well the training of the model went\"\n",
    "\n",
    "words = sent.split()\n",
    "\n",
    "word_list = []\n",
    "length_list = []\n",
    "\n",
    "for word in words:\n",
    "    print(f\"{word} : {len(word)}\")\n",
    "    word_list.append(word)\n",
    "    length_list.append(len(word))\n",
    "\n",
    "print( word_list)\n",
    "print(length_list)\n"
   ]
  },
  {
   "cell_type": "code",
   "execution_count": null,
   "id": "1daf0d79-d597-4c3c-b33e-413e06b7f741",
   "metadata": {},
   "outputs": [],
   "source": []
  }
 ],
 "metadata": {
  "kernelspec": {
   "display_name": "Python 3 (ipykernel)",
   "language": "python",
   "name": "python3"
  },
  "language_info": {
   "codemirror_mode": {
    "name": "ipython",
    "version": 3
   },
   "file_extension": ".py",
   "mimetype": "text/x-python",
   "name": "python",
   "nbconvert_exporter": "python",
   "pygments_lexer": "ipython3",
   "version": "3.13.0"
  }
 },
 "nbformat": 4,
 "nbformat_minor": 5
}
