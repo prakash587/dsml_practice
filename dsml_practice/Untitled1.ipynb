{
 "cells": [
  {
   "cell_type": "code",
   "execution_count": 2,
   "id": "2590f5e3-1da2-4bb3-8c97-df783b185ddf",
   "metadata": {},
   "outputs": [
    {
     "name": "stdin",
     "output_type": "stream",
     "text": [
      "enter a num 11\n"
     ]
    },
    {
     "name": "stdout",
     "output_type": "stream",
     "text": [
      "11 * 1= 11\n",
      "11 * 2= 22\n",
      "11 * 3= 33\n",
      "11 * 4= 44\n",
      "11 * 5= 55\n",
      "11 * 6= 66\n",
      "11 * 7= 77\n",
      "11 * 8= 88\n",
      "11 * 9= 99\n",
      "11 * 10= 110\n"
     ]
    }
   ],
   "source": [
    "mul=int(input('enter a num'))\n",
    "\n",
    "for i in range(1,11):\n",
    "    print(f\"{mul} * {i}= {mul*i}\")"
   ]
  },
  {
   "cell_type": "code",
   "execution_count": 11,
   "id": "b30dd14d-412f-4801-b168-21e435a24d71",
   "metadata": {},
   "outputs": [
    {
     "name": "stdout",
     "output_type": "stream",
     "text": [
      "1is odd\n",
      "2 is even\n",
      "3is odd\n",
      "4 is even\n",
      "5is odd\n",
      "6 is even\n",
      "7is odd\n",
      "8 is even\n",
      "9is odd\n",
      "0 is even\n"
     ]
    }
   ],
   "source": [
    "lst=[1,2,3,4,5,6,7,8,9,0]\n",
    "for i in lst:\n",
    "    if i % 2== 0:\n",
    "        print(f\"{i} is even\")\n",
    "    else:\n",
    "        print(f\"{i}is odd\")\n",
    "\n",
    "    \n",
    "\n",
    "\n",
    "\n"
   ]
  },
  {
   "cell_type": "code",
   "execution_count": 14,
   "id": "b9c98de9-cdfd-46cc-a242-bc2a7202a55f",
   "metadata": {},
   "outputs": [
    {
     "name": "stdout",
     "output_type": "stream",
     "text": [
      "Even numbers are: [2, 4, 6, 8, 0, 22, 44, 66, 88]\n",
      "Odd numbers are: [1, 3, 5, 7, 9, 11, 33, 55, 777]\n"
     ]
    }
   ],
   "source": [
    "odd, even = [], []\n",
    "\n",
    "numbers = [1, 2, 3, 4, 5, 6, 7, 8, 9, 0, 11, 22, 33, 44, 55, 66, 777, 88]\n",
    "\n",
    "for num in numbers:\n",
    "    if num % 2 == 0:\n",
    "        even.append(num)\n",
    "    else:\n",
    "        odd.append(num)\n",
    "\n",
    "print(f\"Even numbers are: {even}\")\n",
    "print(f\"Odd numbers are: {odd}\")\n"
   ]
  },
  {
   "cell_type": "code",
   "execution_count": null,
   "id": "059a9717-73f8-4c10-8a1e-d2ac6adb8c3a",
   "metadata": {},
   "outputs": [],
   "source": [
    "i=0\n",
    "\n",
    "while i<5:\n",
    "    print(i)\n",
    "    i=i+1"
   ]
  },
  {
   "cell_type": "code",
   "execution_count": 3,
   "id": "cb92777d-0889-497b-9068-3d9f274fe352",
   "metadata": {},
   "outputs": [
    {
     "name": "stdout",
     "output_type": "stream",
     "text": [
      "0\n",
      "1\n",
      "2\n",
      "3\n",
      "4\n"
     ]
    }
   ],
   "source": [
    "i =0\n",
    "while i <10:\n",
    "    print (i)\n",
    "    i=i+1\n",
    "    if i==5:\n",
    "        break"
   ]
  },
  {
   "cell_type": "code",
   "execution_count": 2,
   "id": "7a972745-0a17-4706-94d5-32a78c489ac5",
   "metadata": {},
   "outputs": [
    {
     "name": "stdout",
     "output_type": "stream",
     "text": [
      "0\n",
      "1\n",
      "2\n",
      "3\n",
      "4\n"
     ]
    }
   ],
   "source": [
    "i = 0\n",
    "while i < 10:\n",
    "    print(i)\n",
    "    i = i + 1\n",
    "    if i == 5:\n",
    "        break\n"
   ]
  },
  {
   "cell_type": "code",
   "execution_count": 4,
   "id": "1c200a1a-7ac2-4604-baeb-1d9c6b6e27a0",
   "metadata": {},
   "outputs": [
    {
     "name": "stdout",
     "output_type": "stream",
     "text": [
      "ram\n",
      "ram\n",
      "shyam\n",
      "hari\n",
      "hari\n"
     ]
    }
   ],
   "source": [
    "names=['ram', 'shyam', 'hari']\n",
    "for name in names:\n",
    "    print (name)\n",
    "    if name== 'shyam':\n",
    "        continue\n",
    "    print(name)"
   ]
  },
  {
   "cell_type": "code",
   "execution_count": 14,
   "id": "93024700-faf8-4d56-98d1-ae4747bb4520",
   "metadata": {},
   "outputs": [
    {
     "name": "stdout",
     "output_type": "stream",
     "text": [
      "sum of first five natural number 505 105\n"
     ]
    }
   ],
   "source": [
    "num=505\n",
    "sum=0\n",
    "i=1\n",
    "while i<=num:\n",
    "    sum =sum+i\n",
    "    i=i+1\n",
    "    if sum >100:\n",
    "        break\n",
    "print (\"sum of first five natural number\", num , sum)"
   ]
  },
  {
   "cell_type": "code",
   "execution_count": 15,
   "id": "74c405a8-78fe-485d-9b06-1bf57fcc905d",
   "metadata": {},
   "outputs": [
    {
     "name": "stdout",
     "output_type": "stream",
     "text": [
      "sum of first five natural number 505 127765\n"
     ]
    }
   ],
   "source": [
    "num=505\n",
    "sum=0\n",
    "i=1\n",
    "while i<=num:\n",
    "    sum =sum+i\n",
    "    i=i+1\n",
    "print (\"sum of first five natural number\", num , sum)"
   ]
  },
  {
   "cell_type": "code",
   "execution_count": 20,
   "id": "fe8ffb7f-4f50-4aa7-b03c-f64bda497604",
   "metadata": {},
   "outputs": [
    {
     "name": "stdout",
     "output_type": "stream",
     "text": [
      "sum of first five natural number 10 3628800\n"
     ]
    }
   ],
   "source": [
    "num=10\n",
    "prod=1\n",
    "i=1\n",
    "while i<=num:\n",
    "    prod =prod*i\n",
    "    i=i+1\n",
    "    \n",
    "print (\"sum of first five natural number\", num , prod)"
   ]
  },
  {
   "cell_type": "code",
   "execution_count": 21,
   "id": "4dcf02a8-143a-4fed-b68d-5d51aefffffc",
   "metadata": {},
   "outputs": [
    {
     "name": "stdout",
     "output_type": "stream",
     "text": [
      "A : 1\n",
      "single : 6\n",
      "training : 8\n",
      "set : 3\n",
      "that : 4\n",
      "has : 3\n",
      "already : 7\n",
      "been : 4\n",
      "processed : 9\n",
      "is : 2\n",
      "usually : 7\n",
      "split : 5\n",
      "into : 4\n",
      "several : 7\n",
      "types : 5\n",
      "of : 2\n",
      "datasets : 8\n",
      "in : 2\n",
      "machine : 7\n",
      "learning : 8\n",
      "which : 5\n",
      "is : 2\n",
      "needed : 6\n",
      "to : 2\n",
      "check : 5\n",
      "how : 3\n",
      "well : 4\n",
      "the : 3\n",
      "training : 8\n",
      "of : 2\n",
      "the : 3\n",
      "model : 5\n",
      "went : 4\n"
     ]
    }
   ],
   "source": [
    "sent = \"A single training set that has already been processed is usually split into several types of datasets in machine learning which is needed to check how well the training of the model went\"\n",
    "\n",
    "# Split sentence into words\n",
    "words = sent.split()\n",
    "\n",
    "# Count letters for each word\n",
    "for word in words:\n",
    "    print(f\"{word} : {len(word)}\")\n"
   ]
  },
  {
   "cell_type": "code",
   "execution_count": null,
   "id": "55943311-13e1-43e9-9240-f51c7c920f74",
   "metadata": {},
   "outputs": [],
   "source": [
    "sent = \"A single training set that has already been processed is usually split into several types of datasets in machine learning which is needed to check how well the training of the model went\"\n",
    "\n",
    "# Split sentence into words\n",
    "words = sent.split()\n",
    "\n",
    "# Create two separate lists\n",
    "word_list = [word for word in words]\n",
    "length_list = [len(word) for word in words]\n",
    "\n",
    "print(\"Words:\", word_list)\n",
    "print(\"Lengths:\", length_list)\n"
   ]
  }
 ],
 "metadata": {
  "kernelspec": {
   "display_name": "Python 3 (ipykernel)",
   "language": "python",
   "name": "python3"
  },
  "language_info": {
   "codemirror_mode": {
    "name": "ipython",
    "version": 3
   },
   "file_extension": ".py",
   "mimetype": "text/x-python",
   "name": "python",
   "nbconvert_exporter": "python",
   "pygments_lexer": "ipython3",
   "version": "3.13.0"
  }
 },
 "nbformat": 4,
 "nbformat_minor": 5
}
