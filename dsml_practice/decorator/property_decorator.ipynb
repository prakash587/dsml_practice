{
 "cells": [
  {
   "cell_type": "code",
   "execution_count": 37,
   "id": "5efcf639-f99f-43a1-bec7-6c83f3af8f5e",
   "metadata": {},
   "outputs": [],
   "source": [
    "class Person:\n",
    "    def __init__(self, name):\n",
    "        self.__fullname=name\n",
    "\n",
    "    @property\n",
    "    def name(self):\n",
    "        print(\"getting name\")\n",
    "        return self.__fullname"
   ]
  },
  {
   "cell_type": "code",
   "execution_count": 38,
   "id": "4cd967f0-f893-45ee-9e47-7bcda35297b5",
   "metadata": {},
   "outputs": [],
   "source": [
    "person= Person(\"nsd ns\")\n"
   ]
  },
  {
   "cell_type": "code",
   "execution_count": 39,
   "id": "59474ae3-0e7c-4ba1-9a91-176d47bb768d",
   "metadata": {},
   "outputs": [
    {
     "name": "stdout",
     "output_type": "stream",
     "text": [
      "getting name\n"
     ]
    },
    {
     "data": {
      "text/plain": [
       "'nsd ns'"
      ]
     },
     "execution_count": 39,
     "metadata": {},
     "output_type": "execute_result"
    }
   ],
   "source": [
    "person.name"
   ]
  },
  {
   "cell_type": "markdown",
   "id": "db5a66c2-9239-447e-bde5-48776bb26891",
   "metadata": {},
   "source": [
    "setter"
   ]
  },
  {
   "cell_type": "code",
   "execution_count": 40,
   "id": "91e6cb7f-af92-4bb2-b4ad-dc80d8f05134",
   "metadata": {},
   "outputs": [],
   "source": [
    "class Person:\n",
    "    def __init__(self, name):\n",
    "        self.__fullname=name\n",
    "        self.number=0\n",
    "\n",
    "    @property\n",
    "    def name(self):\n",
    "        print(\"getting name\")\n",
    "        return self.__fullname\n",
    "        \n",
    "    @name.setter\n",
    "    def name(self,value):\n",
    "        print(\"setting name\")\n",
    "        self.__fullname=value"
   ]
  },
  {
   "cell_type": "code",
   "execution_count": 41,
   "id": "2907c4ec-10d1-4a71-8ecf-b6e28d54bba2",
   "metadata": {},
   "outputs": [],
   "source": [
    "persosn=Person(\"pk sjs\")\n",
    "\n"
   ]
  },
  {
   "cell_type": "code",
   "execution_count": 42,
   "id": "427b556a-7883-4c56-b72a-5e67f08225f6",
   "metadata": {},
   "outputs": [
    {
     "name": "stdout",
     "output_type": "stream",
     "text": [
      "getting name\n"
     ]
    },
    {
     "data": {
      "text/plain": [
       "'nsd ns'"
      ]
     },
     "execution_count": 42,
     "metadata": {},
     "output_type": "execute_result"
    }
   ],
   "source": [
    "person.name"
   ]
  },
  {
   "cell_type": "code",
   "execution_count": 43,
   "id": "a7145240-af8a-4d8b-baec-23fda01a729c",
   "metadata": {},
   "outputs": [],
   "source": [
    "person.__name='praksj'"
   ]
  },
  {
   "cell_type": "code",
   "execution_count": 46,
   "id": "0b3f22b2-5de9-437e-b129-d89d5577177b",
   "metadata": {},
   "outputs": [
    {
     "ename": "AttributeError",
     "evalue": "'Person' object has no attribute 'value'",
     "output_type": "error",
     "traceback": [
      "\u001b[1;31m---------------------------------------------------------------------------\u001b[0m",
      "\u001b[1;31mAttributeError\u001b[0m                            Traceback (most recent call last)",
      "Cell \u001b[1;32mIn[46], line 1\u001b[0m\n\u001b[1;32m----> 1\u001b[0m \u001b[43mperson\u001b[49m\u001b[38;5;241;43m.\u001b[39;49m\u001b[43mvalue\u001b[49m\n",
      "\u001b[1;31mAttributeError\u001b[0m: 'Person' object has no attribute 'value'"
     ]
    }
   ],
   "source": [
    "person."
   ]
  },
  {
   "cell_type": "code",
   "execution_count": null,
   "id": "a6c52639-0dc0-4ef1-b960-be83979770b5",
   "metadata": {},
   "outputs": [],
   "source": []
  },
  {
   "cell_type": "code",
   "execution_count": 27,
   "id": "33da72b6-2e33-40b5-ab93-05ddeeb4c4a6",
   "metadata": {},
   "outputs": [],
   "source": [
    "class Person:\n",
    "    def __init__(self, name):\n",
    "        \n",
    "        self.__fullname=name\n",
    "\n",
    "    @property\n",
    "    def name(self):\n",
    "        print(\"getting name\")\n",
    "        return self.__fullname\n",
    "        \n",
    "    @name.setter\n",
    "    def name(self,value):\n",
    "        print(\"setting name\")\n",
    "        self.__fullname=value\n",
    "\n",
    "    @name.deleter\n",
    "    def name(self):\n",
    "        print(\"deleting name\")\n",
    "        del self.__fullname"
   ]
  },
  {
   "cell_type": "code",
   "execution_count": 28,
   "id": "b4361179-a4d5-4197-bcc0-9b56268093ed",
   "metadata": {},
   "outputs": [],
   "source": [
    "person=Person(\"prakash kajda\")"
   ]
  },
  {
   "cell_type": "code",
   "execution_count": 29,
   "id": "bb1b3ead-9ae4-401c-93c0-7dc27fbe9326",
   "metadata": {},
   "outputs": [
    {
     "name": "stdout",
     "output_type": "stream",
     "text": [
      "getting name\n"
     ]
    },
    {
     "data": {
      "text/plain": [
       "'prakash kajda'"
      ]
     },
     "execution_count": 29,
     "metadata": {},
     "output_type": "execute_result"
    }
   ],
   "source": [
    "person.name"
   ]
  },
  {
   "cell_type": "code",
   "execution_count": 30,
   "id": "b674cbd7-f80d-4e56-b355-09f19d09e05c",
   "metadata": {},
   "outputs": [
    {
     "name": "stdout",
     "output_type": "stream",
     "text": [
      "deleting name\n"
     ]
    }
   ],
   "source": [
    "del person.name"
   ]
  },
  {
   "cell_type": "code",
   "execution_count": null,
   "id": "1da15adf-5b32-4b56-a21a-a424e50babfe",
   "metadata": {},
   "outputs": [],
   "source": []
  },
  {
   "cell_type": "code",
   "execution_count": null,
   "id": "5b4165dc-3b26-498e-abef-2e1bf867fed3",
   "metadata": {},
   "outputs": [],
   "source": []
  },
  {
   "cell_type": "code",
   "execution_count": 48,
   "id": "1ee909a3-1ae3-4cee-8fa1-9a6e9e8d277c",
   "metadata": {},
   "outputs": [
    {
     "name": "stdout",
     "output_type": "stream",
     "text": [
      "Function took 4.00 seconds.\n"
     ]
    }
   ],
   "source": [
    "import time\n",
    "\n",
    "# Simple decorator\n",
    "def timeit(func):\n",
    "    def wrapper():\n",
    "        start = time.time()\n",
    "        func()\n",
    "        end = time.time()\n",
    "        print(f\"Function took {end - start:.2f} seconds.\")\n",
    "    return wrapper\n",
    "\n",
    "@timeit\n",
    "def takes_time():\n",
    "    time.sleep(4)\n",
    "\n",
    "takes_time()\n"
   ]
  },
  {
   "cell_type": "code",
   "execution_count": null,
   "id": "34dbb058-3f27-4d39-bdfe-83233d68c8ed",
   "metadata": {},
   "outputs": [],
   "source": []
  }
 ],
 "metadata": {
  "kernelspec": {
   "display_name": "Python 3 (ipykernel)",
   "language": "python",
   "name": "python3"
  },
  "language_info": {
   "codemirror_mode": {
    "name": "ipython",
    "version": 3
   },
   "file_extension": ".py",
   "mimetype": "text/x-python",
   "name": "python",
   "nbconvert_exporter": "python",
   "pygments_lexer": "ipython3",
   "version": "3.13.0"
  }
 },
 "nbformat": 4,
 "nbformat_minor": 5
}
