{
 "cells": [
  {
   "cell_type": "code",
   "execution_count": 1,
   "id": "9b9a4517-2daa-42b6-9305-0b64d0eb3fa9",
   "metadata": {},
   "outputs": [],
   "source": [
    "class Test:\n",
    "    @staticmethod\n",
    "    def sonething():\n",
    "        print(1)"
   ]
  },
  {
   "cell_type": "code",
   "execution_count": 3,
   "id": "f4e623ce-2fa5-4908-b5fc-4ff5c6fbff8d",
   "metadata": {},
   "outputs": [],
   "source": [
    "#simple decorator function\n",
    "def decorator(func):  #func as argument\n",
    "    #inner line\n",
    "    def wrapper():\n",
    "        print(\"before functions call\")\n",
    "        func()  #calling actual function\n",
    "        print(\"after function call\")\n",
    "    return wrapper   #returning function as value"
   ]
  },
  {
   "cell_type": "code",
   "execution_count": 5,
   "id": "3f74fdf0-27a4-4d13-846a-aba183f34b29",
   "metadata": {},
   "outputs": [],
   "source": [
    "@decorator\n",
    "def greet():\n",
    "    print(\"hello world\")\n",
    "          "
   ]
  },
  {
   "cell_type": "code",
   "execution_count": 6,
   "id": "42a6be0a-6c1d-4e6c-9031-ef5bb5858ccc",
   "metadata": {},
   "outputs": [
    {
     "name": "stdout",
     "output_type": "stream",
     "text": [
      "before functions call\n",
      "hello world\n",
      "after function call\n"
     ]
    }
   ],
   "source": [
    "greet()"
   ]
  },
  {
   "cell_type": "markdown",
   "id": "f0960c7d-5c93-4f8a-9a9f-a5fe921e8cc6",
   "metadata": {},
   "source": [
    "check email using decorator"
   ]
  },
  {
   "cell_type": "code",
   "execution_count": 18,
   "id": "6318c499-87f8-4806-91d1-e731a5664b01",
   "metadata": {},
   "outputs": [],
   "source": [
    "def validate_email(func):\n",
    "    def wrapper(email,password):\n",
    "        if email.endswith (\"@gmail.com\"):\n",
    "            func(email,password)\n",
    "        else:\n",
    "            print(\"only supported for gmail\")\n",
    "\n",
    "    return wrapper\n",
    "        "
   ]
  },
  {
   "cell_type": "code",
   "execution_count": 19,
   "id": "b6f5a2c9-d996-4c34-9d80-7354f52fd16e",
   "metadata": {},
   "outputs": [],
   "source": [
    "\n",
    "\n",
    "@validate_email\n",
    "def login_user(email, password):\n",
    "#check passowrd\n",
    "    print('logged in')\n",
    "    \n"
   ]
  },
  {
   "cell_type": "code",
   "execution_count": 20,
   "id": "86b5b3ef-bf39-43bf-bcf8-3e23d81a3ada",
   "metadata": {},
   "outputs": [
    {
     "name": "stdout",
     "output_type": "stream",
     "text": [
      "logged in\n"
     ]
    }
   ],
   "source": [
    "login_user(\"p@gmail.com\", \"asdk\")"
   ]
  },
  {
   "cell_type": "code",
   "execution_count": null,
   "id": "576beaee-e0ed-4a78-b3e9-8b7a6b120ac3",
   "metadata": {},
   "outputs": [],
   "source": []
  }
 ],
 "metadata": {
  "kernelspec": {
   "display_name": "Python 3 (ipykernel)",
   "language": "python",
   "name": "python3"
  },
  "language_info": {
   "codemirror_mode": {
    "name": "ipython",
    "version": 3
   },
   "file_extension": ".py",
   "mimetype": "text/x-python",
   "name": "python",
   "nbconvert_exporter": "python",
   "pygments_lexer": "ipython3",
   "version": "3.13.0"
  }
 },
 "nbformat": 4,
 "nbformat_minor": 5
}
