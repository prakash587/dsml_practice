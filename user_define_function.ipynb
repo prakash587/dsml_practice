{
 "cells": [
  {
   "cell_type": "code",
   "execution_count": 10,
   "id": "f67896a9-b391-4a63-8116-721bac073498",
   "metadata": {},
   "outputs": [
    {
     "data": {
      "text/plain": [
       "12"
      ]
     },
     "execution_count": 10,
     "metadata": {},
     "output_type": "execute_result"
    }
   ],
   "source": [
    "\n",
    "def sum_list(inp_list):\n",
    "    result=0\n",
    "    \n",
    "    for x in inp_list:\n",
    "        result += x\n",
    "        \n",
    "    return result\n",
    "\n",
    "sum_list([1,2,3,3,3])\n",
    "\n",
    "    "
   ]
  },
  {
   "cell_type": "code",
   "execution_count": 11,
   "id": "32307074-946b-45f2-a1fb-598d93112917",
   "metadata": {},
   "outputs": [
    {
     "data": {
      "text/plain": [
       "12"
      ]
     },
     "execution_count": 11,
     "metadata": {},
     "output_type": "execute_result"
    }
   ],
   "source": [
    "sum_list([1,2,3,3,3])"
   ]
  },
  {
   "cell_type": "code",
   "execution_count": 15,
   "id": "e94d6fe4-d7d5-488a-943f-16bbd32ae479",
   "metadata": {},
   "outputs": [],
   "source": [
    "def greet(name, greeting='morning'):\n",
    "    return f\"{greeting}, {name}\"\n",
    "    "
   ]
  },
  {
   "cell_type": "code",
   "execution_count": 17,
   "id": "6bf8d604-de5e-4914-be43-7d23a0e5bf98",
   "metadata": {},
   "outputs": [
    {
     "data": {
      "text/plain": [
       "'morning, hari'"
      ]
     },
     "execution_count": 17,
     "metadata": {},
     "output_type": "execute_result"
    }
   ],
   "source": [
    "greet(\"hari\")"
   ]
  },
  {
   "cell_type": "code",
   "execution_count": 16,
   "id": "6f1bd949-1b70-49de-a9ba-3f5f99230fb4",
   "metadata": {},
   "outputs": [
    {
     "data": {
      "text/plain": [
       "'evening, bob'"
      ]
     },
     "execution_count": 16,
     "metadata": {},
     "output_type": "execute_result"
    }
   ],
   "source": [
    "greet(\"bob\",\"evening\")"
   ]
  },
  {
   "cell_type": "code",
   "execution_count": 21,
   "id": "528fc22c-59a9-4329-bb1d-9adc91a4caca",
   "metadata": {},
   "outputs": [],
   "source": [
    "def print_args(*args):\n",
    "    print(\"positional Args\")\n",
    "    for arg in args:\n",
    "        print(arg)"
   ]
  },
  {
   "cell_type": "code",
   "execution_count": 27,
   "id": "278e9ddf-6100-4cec-8b6a-5afae3d36f12",
   "metadata": {},
   "outputs": [
    {
     "name": "stdout",
     "output_type": "stream",
     "text": [
      "positional Args\n",
      "1\n",
      "2\n",
      "3\n",
      "4\n",
      "5\n",
      "6\n",
      "[4, 5]\n",
      "hari\n"
     ]
    }
   ],
   "source": [
    "print_args(1,2,3,4,5,6,[4,5], 'hari')"
   ]
  },
  {
   "cell_type": "raw",
   "id": "03d6eeaf-8b8f-492a-a556-d6055b820d9a",
   "metadata": {},
   "source": []
  },
  {
   "cell_type": "code",
   "execution_count": 29,
   "id": "42fcc0e9-f6f0-423a-997a-c6cab7d386b6",
   "metadata": {},
   "outputs": [],
   "source": [
    "def calculate_area(l,b,h):\n",
    "    return l*b*h\n"
   ]
  },
  {
   "cell_type": "code",
   "execution_count": 30,
   "id": "0f4ae56e-0dc2-40e9-a845-9400e80e0cbc",
   "metadata": {},
   "outputs": [
    {
     "data": {
      "text/plain": [
       "60"
      ]
     },
     "execution_count": 30,
     "metadata": {},
     "output_type": "execute_result"
    }
   ],
   "source": [
    "calculate_area(3,4,5)"
   ]
  },
  {
   "cell_type": "code",
   "execution_count": 32,
   "id": "714d576b-0adc-49ef-a9c3-8f92f33348da",
   "metadata": {},
   "outputs": [],
   "source": [
    "def print_kargs(**kwargs):\n",
    "    print(\"keywordds args\")\n",
    "    print(kwargs)\n",
    "    length=kwargs.get('length')"
   ]
  },
  {
   "cell_type": "code",
   "execution_count": 34,
   "id": "b08bf4f1-4559-4ee0-ace4-1e726a3bd47d",
   "metadata": {},
   "outputs": [
    {
     "name": "stdout",
     "output_type": "stream",
     "text": [
      "keywordds args\n",
      "{'length': 4, 'breadth': 4}\n"
     ]
    }
   ],
   "source": [
    "print_kargs(length=4, breadth=4)"
   ]
  },
  {
   "cell_type": "code",
   "execution_count": 40,
   "id": "709abfef-d6c0-46ab-9255-ab6119fbde56",
   "metadata": {},
   "outputs": [],
   "source": [
    "def print_arguments(*args, **kwargs):\n",
    "    print(\"positional\")\n",
    "    print(args)\n",
    "    print(\"_\" *50)\n",
    "    print(\"keywords\")\n",
    "    print(kwargs)"
   ]
  },
  {
   "cell_type": "code",
   "execution_count": 41,
   "id": "881d57ba-51d1-4db1-9d1b-9d41953eed98",
   "metadata": {},
   "outputs": [
    {
     "name": "stdout",
     "output_type": "stream",
     "text": [
      "positional\n",
      "('ram', 1)\n",
      "__________________________________________________\n",
      "keywords\n",
      "{'score': [1, 2, 3], 'geet': 'ello'}\n"
     ]
    }
   ],
   "source": [
    "print_arguments('ram', 1, score=[1,2,3], geet='ello')"
   ]
  },
  {
   "cell_type": "code",
   "execution_count": null,
   "id": "c58ea73c-a76b-4ebe-922e-f2e347c9e996",
   "metadata": {},
   "outputs": [],
   "source": []
  },
  {
   "cell_type": "code",
   "execution_count": null,
   "id": "ba1db8a9-cc81-4a0d-a97b-4b284de6eb88",
   "metadata": {},
   "outputs": [],
   "source": []
  }
 ],
 "metadata": {
  "kernelspec": {
   "display_name": "Python 3 (ipykernel)",
   "language": "python",
   "name": "python3"
  },
  "language_info": {
   "codemirror_mode": {
    "name": "ipython",
    "version": 3
   },
   "file_extension": ".py",
   "mimetype": "text/x-python",
   "name": "python",
   "nbconvert_exporter": "python",
   "pygments_lexer": "ipython3",
   "version": "3.13.0"
  }
 },
 "nbformat": 4,
 "nbformat_minor": 5
}
