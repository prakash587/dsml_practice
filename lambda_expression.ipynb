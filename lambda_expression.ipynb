{
 "cells": [
  {
   "cell_type": "code",
   "execution_count": 2,
   "id": "0ccaa550-baae-4fc6-abe1-40f5fd0dab7d",
   "metadata": {},
   "outputs": [
    {
     "data": {
      "text/plain": [
       "9"
      ]
     },
     "execution_count": 2,
     "metadata": {},
     "output_type": "execute_result"
    }
   ],
   "source": [
    "def add(x,y):\n",
    "    return x+y\n",
    "add(4,5)"
   ]
  },
  {
   "cell_type": "code",
   "execution_count": 3,
   "id": "576fa7ba-eb1e-40a1-a9f5-4cdd276c005c",
   "metadata": {},
   "outputs": [],
   "source": [
    "add_lambda= lambda x,y:x+y\n"
   ]
  },
  {
   "cell_type": "code",
   "execution_count": 4,
   "id": "94bacd74-3952-41e1-beb3-485c38d56c10",
   "metadata": {},
   "outputs": [
    {
     "data": {
      "text/plain": [
       "function"
      ]
     },
     "execution_count": 4,
     "metadata": {},
     "output_type": "execute_result"
    }
   ],
   "source": [
    "type(add_lambda)"
   ]
  },
  {
   "cell_type": "code",
   "execution_count": 5,
   "id": "5dfd826d-0f7d-43e6-9893-4ebefeb5c258",
   "metadata": {},
   "outputs": [
    {
     "data": {
      "text/plain": [
       "9"
      ]
     },
     "execution_count": 5,
     "metadata": {},
     "output_type": "execute_result"
    }
   ],
   "source": [
    "add_lambda(4,5)"
   ]
  },
  {
   "cell_type": "code",
   "execution_count": 13,
   "id": "d91ca197-e440-4f65-b174-3a3f426edb39",
   "metadata": {},
   "outputs": [
    {
     "data": {
      "text/plain": [
       "148"
      ]
     },
     "execution_count": 13,
     "metadata": {},
     "output_type": "execute_result"
    }
   ],
   "source": [
    "cuboid=lambda l,w,h: 2*(l*w +l*h +w*h)\n",
    "cuboid(4,5,6)"
   ]
  },
  {
   "cell_type": "code",
   "execution_count": 24,
   "id": "95b84a80-b528-45ab-9df3-36431a7b97dd",
   "metadata": {},
   "outputs": [
    {
     "name": "stdout",
     "output_type": "stream",
     "text": [
      "[45, 108.0, 180.0, 75, 135.0]\n"
     ]
    }
   ],
   "source": [
    "price = [45, 120, 200, 75, 150]\n",
    "def get_discount(price):\n",
    "    if price > 100:\n",
    "        return price * 0.9 \n",
    "    return price\n",
    "\n",
    "discount_prices = list(map(get_discount, prices))\n",
    "print(discount_prices)"
   ]
  },
  {
   "cell_type": "code",
   "execution_count": 36,
   "id": "79e364a2-1315-40e2-81cb-71b3839dbcea",
   "metadata": {},
   "outputs": [],
   "source": [
    "price = [45, 120, 200, 75, 150]\n",
    "get_discount= lambda price: price * 0.9  if price > 100 else x\n",
    " "
   ]
  },
  {
   "cell_type": "code",
   "execution_count": null,
   "id": "a79fb51e-f622-4270-9376-6e6bff725d5f",
   "metadata": {},
   "outputs": [],
   "source": []
  },
  {
   "cell_type": "code",
   "execution_count": null,
   "id": "e2f63631-d216-418e-b0f2-7d3ea76cb902",
   "metadata": {},
   "outputs": [],
   "source": []
  },
  {
   "cell_type": "code",
   "execution_count": null,
   "id": "bad5f54e-7055-447f-bdfe-1c609f6cf6e6",
   "metadata": {},
   "outputs": [],
   "source": []
  },
  {
   "cell_type": "code",
   "execution_count": null,
   "id": "a4615508-9cd6-402b-82f4-d1d87fb0e46a",
   "metadata": {},
   "outputs": [],
   "source": [
    "\n"
   ]
  },
  {
   "cell_type": "code",
   "execution_count": 41,
   "id": "0d06e044-dd8f-4a81-8d06-e08f935df260",
   "metadata": {},
   "outputs": [
    {
     "ename": "SyntaxError",
     "evalue": "Lambda expression parameters cannot be parenthesized (<unknown>, line 2)",
     "output_type": "error",
     "traceback": [
      "Traceback \u001b[1;36m(most recent call last)\u001b[0m:\n",
      "\u001b[0m  File \u001b[0;32m~\\AppData\\Roaming\\Python\\Python313\\site-packages\\IPython\\core\\interactiveshell.py:3577\u001b[0m in \u001b[0;35mrun_code\u001b[0m\n    exec(code_obj, self.user_global_ns, self.user_ns)\u001b[0m\n",
      "\u001b[0m  Cell \u001b[0;32mIn[41], line 1\u001b[0m\n    get_ipython().run_cell_magic('time', '', '\\nfor a in large_obj:\\n    res.value.append(get_discount lambda(a))\\n')\u001b[0m\n",
      "\u001b[0m  File \u001b[0;32m~\\AppData\\Roaming\\Python\\Python313\\site-packages\\IPython\\core\\interactiveshell.py:2541\u001b[0m in \u001b[0;35mrun_cell_magic\u001b[0m\n    result = fn(*args, **kwargs)\u001b[0m\n",
      "\u001b[0m  File \u001b[0;32m~\\AppData\\Roaming\\Python\\Python313\\site-packages\\IPython\\core\\magics\\execution.py:1306\u001b[0m in \u001b[0;35mtime\u001b[0m\n    expr_ast = self.shell.compile.ast_parse(expr)\u001b[0m\n",
      "\u001b[1;36m  File \u001b[1;32m~\\AppData\\Roaming\\Python\\Python313\\site-packages\\IPython\\core\\compilerop.py:86\u001b[1;36m in \u001b[1;35mast_parse\u001b[1;36m\n\u001b[1;33m    return compile(source, filename, symbol, self.flags | PyCF_ONLY_AST, 1)\u001b[1;36m\n",
      "\u001b[1;36m  File \u001b[1;32m<unknown>:2\u001b[1;36m\u001b[0m\n\u001b[1;33m    res.value.append(get_discount lambda(a))\u001b[0m\n\u001b[1;37m                                        ^\u001b[0m\n\u001b[1;31mSyntaxError\u001b[0m\u001b[1;31m:\u001b[0m Lambda expression parameters cannot be parenthesized\n"
     ]
    }
   ],
   "source": []
  },
  {
   "cell_type": "code",
   "execution_count": null,
   "id": "4fa37f5c-3dac-4554-8b4b-a9f0e6ae3217",
   "metadata": {},
   "outputs": [],
   "source": []
  }
 ],
 "metadata": {
  "kernelspec": {
   "display_name": "Python 3 (ipykernel)",
   "language": "python",
   "name": "python3"
  },
  "language_info": {
   "codemirror_mode": {
    "name": "ipython",
    "version": 3
   },
   "file_extension": ".py",
   "mimetype": "text/x-python",
   "name": "python",
   "nbconvert_exporter": "python",
   "pygments_lexer": "ipython3",
   "version": "3.13.0"
  }
 },
 "nbformat": 4,
 "nbformat_minor": 5
}
