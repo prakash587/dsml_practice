{
 "cells": [
  {
   "cell_type": "code",
   "execution_count": 1,
   "id": "970dbfd9-0be8-4ee0-8b84-af291d265c04",
   "metadata": {},
   "outputs": [],
   "source": [
    "def number_generators(start,end):\n",
    "    for num in range(start, end+1):\n",
    "        yield num"
   ]
  },
  {
   "cell_type": "code",
   "execution_count": 3,
   "id": "d1b83c66-5c2c-4bf9-a407-5aa1d4699beb",
   "metadata": {},
   "outputs": [],
   "source": [
    "gen =number_generators(10,23)"
   ]
  },
  {
   "cell_type": "code",
   "execution_count": 4,
   "id": "32770722-ef19-4b7d-ace7-ed343674e271",
   "metadata": {},
   "outputs": [
    {
     "data": {
      "text/plain": [
       "<generator object number_generators at 0x0000017214899000>"
      ]
     },
     "execution_count": 4,
     "metadata": {},
     "output_type": "execute_result"
    }
   ],
   "source": [
    "gen"
   ]
  },
  {
   "cell_type": "code",
   "execution_count": 9,
   "id": "c24d83e4-8516-4e20-ad1e-329aac6ff21b",
   "metadata": {},
   "outputs": [
    {
     "data": {
      "text/plain": [
       "17"
      ]
     },
     "execution_count": 9,
     "metadata": {},
     "output_type": "execute_result"
    }
   ],
   "source": [
    "next(gen)\n"
   ]
  },
  {
   "cell_type": "code",
   "execution_count": 11,
   "id": "00b7df72-7cf0-4b75-a729-a2a171464c68",
   "metadata": {},
   "outputs": [
    {
     "name": "stdout",
     "output_type": "stream",
     "text": [
      "1\n",
      "2\n",
      "3\n",
      "4\n",
      "5\n",
      "6\n"
     ]
    }
   ],
   "source": [
    "my_gen = number_generators(1,6)\n",
    "\n",
    "for num in my_gen:\n",
    "    print(num)"
   ]
  },
  {
   "cell_type": "code",
   "execution_count": null,
   "id": "85bc41a6-fe83-4bcf-a5f8-211a0dc1b272",
   "metadata": {},
   "outputs": [],
   "source": []
  }
 ],
 "metadata": {
  "kernelspec": {
   "display_name": "Python 3 (ipykernel)",
   "language": "python",
   "name": "python3"
  },
  "language_info": {
   "codemirror_mode": {
    "name": "ipython",
    "version": 3
   },
   "file_extension": ".py",
   "mimetype": "text/x-python",
   "name": "python",
   "nbconvert_exporter": "python",
   "pygments_lexer": "ipython3",
   "version": "3.13.0"
  }
 },
 "nbformat": 4,
 "nbformat_minor": 5
}
