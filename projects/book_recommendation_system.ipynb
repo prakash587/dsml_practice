{
 "cells": [
  {
   "cell_type": "code",
   "execution_count": 7,
   "id": "9e1e5a56-98ef-4d92-9991-624f761ae0d6",
   "metadata": {},
   "outputs": [],
   "source": [
    "import pandas as pd\n",
    "import numpy as np\n",
    "import matplotlib.pyplot as plt"
   ]
  },
  {
   "cell_type": "markdown",
   "id": "f91a3073-acf6-4dca-b1de-2c8e5616127e",
   "metadata": {},
   "source": [
    "pandas (pd): work with datasets (load, clean, analyze).\n",
    "\n",
    "numpy (np): fast numerical operations (arrays, math).\n",
    "\n",
    "matplotlib (plt): data visualization (plots, charts)."
   ]
  },
  {
   "cell_type": "code",
   "execution_count": 8,
   "id": "98e8a971-4462-44a3-acbc-9b202f1e2c69",
   "metadata": {},
   "outputs": [],
   "source": [
    "# !pip install numpy\n"
   ]
  },
  {
   "cell_type": "code",
   "execution_count": 9,
   "id": "d921cb36-c786-4a6f-ab85-5030cf599ab0",
   "metadata": {},
   "outputs": [
    {
     "name": "stderr",
     "output_type": "stream",
     "text": [
      "C:\\Users\\pkhad\\AppData\\Local\\Temp\\ipykernel_21696\\1932650548.py:1: DtypeWarning: Columns (3) have mixed types. Specify dtype option on import or set low_memory=False.\n",
      "  books= pd.read_csv('books.csv')\n"
     ]
    }
   ],
   "source": [
    "books= pd.read_csv(\n",
    "    '../../../../../../OneDrive/Desktop/dsml_practice-main/dsml_practice-main/dsml_practice/projects/Books.csv')\n",
    "users= pd.read_csv(\n",
    "    '../../../../../../OneDrive/Desktop/dsml_practice-main/dsml_practice-main/dsml_practice/projects/Users.csv')\n",
    "ratings= pd.read_csv(\n",
    "    '../../../../../../OneDrive/Desktop/dsml_practice-main/dsml_practice-main/dsml_practice/projects/Ratings.csv')"
   ]
  },
  {
   "cell_type": "markdown",
   "id": "df69a498-77a9-4a8f-8822-7d50dfc846ba",
   "metadata": {},
   "source": [
    "Uses Pandas (pd) to read CSV files.\n",
    "\n",
    "Loads Books.csv into a DataFrame called books.\n",
    "\n",
    "Loads Users.csv into a DataFrame called users.\n",
    "\n",
    "Loads Ratings.csv into a DataFrame called ratings.\n",
    "\n",
    "The CSV files are read from a folder path on the desktop."
   ]
  },
  {
   "cell_type": "code",
   "execution_count": 10,
   "id": "27b25a33-4daf-440b-9598-f3aca848c2ae",
   "metadata": {},
   "outputs": [
    {
     "data": {
      "text/html": [
       "<div>\n",
       "<style scoped>\n",
       "    .dataframe tbody tr th:only-of-type {\n",
       "        vertical-align: middle;\n",
       "    }\n",
       "\n",
       "    .dataframe tbody tr th {\n",
       "        vertical-align: top;\n",
       "    }\n",
       "\n",
       "    .dataframe thead th {\n",
       "        text-align: right;\n",
       "    }\n",
       "</style>\n",
       "<table border=\"1\" class=\"dataframe\">\n",
       "  <thead>\n",
       "    <tr style=\"text-align: right;\">\n",
       "      <th></th>\n",
       "      <th>ISBN</th>\n",
       "      <th>Book-Title</th>\n",
       "      <th>Book-Author</th>\n",
       "      <th>Year-Of-Publication</th>\n",
       "      <th>Publisher</th>\n",
       "      <th>Image-URL-S</th>\n",
       "      <th>Image-URL-M</th>\n",
       "      <th>Image-URL-L</th>\n",
       "    </tr>\n",
       "  </thead>\n",
       "  <tbody>\n",
       "    <tr>\n",
       "      <th>0</th>\n",
       "      <td>0195153448</td>\n",
       "      <td>Classical Mythology</td>\n",
       "      <td>Mark P. O. Morford</td>\n",
       "      <td>2002</td>\n",
       "      <td>Oxford University Press</td>\n",
       "      <td>http://images.amazon.com/images/P/0195153448.0...</td>\n",
       "      <td>http://images.amazon.com/images/P/0195153448.0...</td>\n",
       "      <td>http://images.amazon.com/images/P/0195153448.0...</td>\n",
       "    </tr>\n",
       "    <tr>\n",
       "      <th>1</th>\n",
       "      <td>0002005018</td>\n",
       "      <td>Clara Callan</td>\n",
       "      <td>Richard Bruce Wright</td>\n",
       "      <td>2001</td>\n",
       "      <td>HarperFlamingo Canada</td>\n",
       "      <td>http://images.amazon.com/images/P/0002005018.0...</td>\n",
       "      <td>http://images.amazon.com/images/P/0002005018.0...</td>\n",
       "      <td>http://images.amazon.com/images/P/0002005018.0...</td>\n",
       "    </tr>\n",
       "  </tbody>\n",
       "</table>\n",
       "</div>"
      ],
      "text/plain": [
       "         ISBN           Book-Title           Book-Author Year-Of-Publication  \\\n",
       "0  0195153448  Classical Mythology    Mark P. O. Morford                2002   \n",
       "1  0002005018         Clara Callan  Richard Bruce Wright                2001   \n",
       "\n",
       "                 Publisher                                        Image-URL-S  \\\n",
       "0  Oxford University Press  http://images.amazon.com/images/P/0195153448.0...   \n",
       "1    HarperFlamingo Canada  http://images.amazon.com/images/P/0002005018.0...   \n",
       "\n",
       "                                         Image-URL-M  \\\n",
       "0  http://images.amazon.com/images/P/0195153448.0...   \n",
       "1  http://images.amazon.com/images/P/0002005018.0...   \n",
       "\n",
       "                                         Image-URL-L  \n",
       "0  http://images.amazon.com/images/P/0195153448.0...  \n",
       "1  http://images.amazon.com/images/P/0002005018.0...  "
      ]
     },
     "execution_count": 10,
     "metadata": {},
     "output_type": "execute_result"
    }
   ],
   "source": [
    "books.head(2)"
   ]
  },
  {
   "cell_type": "markdown",
   "id": "93a606d9-b107-4d29-9e1b-ba8177f203bc",
   "metadata": {},
   "source": [
    "Displays the first 2 rows of the books DataFrame.\n",
    "\n",
    "Useful for previewing the structure of the dataset (like column names, data types, and sample values)."
   ]
  },
  {
   "cell_type": "code",
   "execution_count": 11,
   "id": "a5bb2fd8-972a-46b3-abcf-6720569de68c",
   "metadata": {},
   "outputs": [
    {
     "data": {
      "text/html": [
       "<div>\n",
       "<style scoped>\n",
       "    .dataframe tbody tr th:only-of-type {\n",
       "        vertical-align: middle;\n",
       "    }\n",
       "\n",
       "    .dataframe tbody tr th {\n",
       "        vertical-align: top;\n",
       "    }\n",
       "\n",
       "    .dataframe thead th {\n",
       "        text-align: right;\n",
       "    }\n",
       "</style>\n",
       "<table border=\"1\" class=\"dataframe\">\n",
       "  <thead>\n",
       "    <tr style=\"text-align: right;\">\n",
       "      <th></th>\n",
       "      <th>User-ID</th>\n",
       "      <th>Location</th>\n",
       "      <th>Age</th>\n",
       "    </tr>\n",
       "  </thead>\n",
       "  <tbody>\n",
       "    <tr>\n",
       "      <th>0</th>\n",
       "      <td>1</td>\n",
       "      <td>nyc, new york, usa</td>\n",
       "      <td>NaN</td>\n",
       "    </tr>\n",
       "    <tr>\n",
       "      <th>1</th>\n",
       "      <td>2</td>\n",
       "      <td>stockton, california, usa</td>\n",
       "      <td>18.0</td>\n",
       "    </tr>\n",
       "  </tbody>\n",
       "</table>\n",
       "</div>"
      ],
      "text/plain": [
       "   User-ID                   Location   Age\n",
       "0        1         nyc, new york, usa   NaN\n",
       "1        2  stockton, california, usa  18.0"
      ]
     },
     "execution_count": 11,
     "metadata": {},
     "output_type": "execute_result"
    }
   ],
   "source": [
    "users.head(2)"
   ]
  },
  {
   "cell_type": "markdown",
   "id": "594fce68-ba96-4694-9287-60edeeadef82",
   "metadata": {},
   "source": [
    "Shows the first 2 rows from the users DataFrame.\n",
    "\n",
    "Helps to quickly inspect the structure of the Users dataset (column names and example values)."
   ]
  },
  {
   "cell_type": "code",
   "execution_count": 12,
   "id": "41230015-894c-4c67-8c86-4d35c25bc944",
   "metadata": {
    "scrolled": true
   },
   "outputs": [
    {
     "data": {
      "text/html": [
       "<div>\n",
       "<style scoped>\n",
       "    .dataframe tbody tr th:only-of-type {\n",
       "        vertical-align: middle;\n",
       "    }\n",
       "\n",
       "    .dataframe tbody tr th {\n",
       "        vertical-align: top;\n",
       "    }\n",
       "\n",
       "    .dataframe thead th {\n",
       "        text-align: right;\n",
       "    }\n",
       "</style>\n",
       "<table border=\"1\" class=\"dataframe\">\n",
       "  <thead>\n",
       "    <tr style=\"text-align: right;\">\n",
       "      <th></th>\n",
       "      <th>User-ID</th>\n",
       "      <th>ISBN</th>\n",
       "      <th>Book-Rating</th>\n",
       "    </tr>\n",
       "  </thead>\n",
       "  <tbody>\n",
       "    <tr>\n",
       "      <th>0</th>\n",
       "      <td>276725</td>\n",
       "      <td>034545104X</td>\n",
       "      <td>0</td>\n",
       "    </tr>\n",
       "    <tr>\n",
       "      <th>1</th>\n",
       "      <td>276726</td>\n",
       "      <td>0155061224</td>\n",
       "      <td>5</td>\n",
       "    </tr>\n",
       "  </tbody>\n",
       "</table>\n",
       "</div>"
      ],
      "text/plain": [
       "   User-ID        ISBN  Book-Rating\n",
       "0   276725  034545104X            0\n",
       "1   276726  0155061224            5"
      ]
     },
     "execution_count": 12,
     "metadata": {},
     "output_type": "execute_result"
    }
   ],
   "source": [
    "ratings.head(2)"
   ]
  },
  {
   "cell_type": "code",
   "execution_count": 13,
   "id": "3c1512f4-43b0-45b6-ac06-c35af832c670",
   "metadata": {},
   "outputs": [
    {
     "name": "stdout",
     "output_type": "stream",
     "text": [
      "(271360, 8)\n",
      "(278858, 3)\n",
      "(1149780, 3)\n"
     ]
    }
   ],
   "source": [
    "print(books.shape)\n",
    "print(users.shape)\n",
    "print(ratings.shape)\n"
   ]
  },
  {
   "cell_type": "markdown",
   "id": "e95ab57d-fa31-4f5c-ab51-0953bd6176e6",
   "metadata": {},
   "source": [
    ".shape gives the dimensions of each DataFrame in the form (rows, columns).\n",
    "\n",
    "Prints the number of rows and columns for:"
   ]
  },
  {
   "cell_type": "markdown",
   "id": "1146adb8-47fc-4e90-896b-f15fafaa8175",
   "metadata": {},
   "source": [
    "## checking null values"
   ]
  },
  {
   "cell_type": "code",
   "execution_count": 14,
   "id": "37ce2957-79b8-49ca-b70b-8996c7da0b75",
   "metadata": {},
   "outputs": [
    {
     "data": {
      "text/plain": [
       "ISBN                   0\n",
       "Book-Title             0\n",
       "Book-Author            2\n",
       "Year-Of-Publication    0\n",
       "Publisher              2\n",
       "Image-URL-S            0\n",
       "Image-URL-M            0\n",
       "Image-URL-L            3\n",
       "dtype: int64"
      ]
     },
     "execution_count": 14,
     "metadata": {},
     "output_type": "execute_result"
    }
   ],
   "source": [
    "books.isnull().sum()"
   ]
  },
  {
   "cell_type": "markdown",
   "id": "3f7a3126-af73-433d-a0dd-fa9d624941a2",
   "metadata": {},
   "source": [
    "books.isnull() → checks each cell in the books DataFrame for missing values (NaN).\n",
    "\n",
    ".sum() → counts how many missing values exist in each column.\n",
    "\n",
    "The result: a list of column names with the number of null (missing) values in each."
   ]
  },
  {
   "cell_type": "code",
   "execution_count": 15,
   "id": "e8e9743a-80a3-4fae-8fa8-cbda40c01584",
   "metadata": {},
   "outputs": [],
   "source": [
    "#users.isnull().sum()\n",
    "#soo much null value in age but age column is not importantin out model so we will will leave as it is"
   ]
  },
  {
   "cell_type": "code",
   "execution_count": 16,
   "id": "e5467a35-a0a3-4f36-b048-3d2ddc4c47f6",
   "metadata": {},
   "outputs": [
    {
     "data": {
      "text/plain": [
       "User-ID        0\n",
       "ISBN           0\n",
       "Book-Rating    0\n",
       "dtype: int64"
      ]
     },
     "execution_count": 16,
     "metadata": {},
     "output_type": "execute_result"
    }
   ],
   "source": [
    "ratings.isnull().sum()\n"
   ]
  },
  {
   "cell_type": "markdown",
   "id": "c95f59d6-0826-4d7e-8327-b6677fa47de0",
   "metadata": {},
   "source": [
    "## checking duplicates"
   ]
  },
  {
   "cell_type": "code",
   "execution_count": 17,
   "id": "5513839c-33f6-4854-ae24-18bca8dce59d",
   "metadata": {},
   "outputs": [
    {
     "data": {
      "text/plain": [
       "np.int64(0)"
      ]
     },
     "execution_count": 17,
     "metadata": {},
     "output_type": "execute_result"
    }
   ],
   "source": [
    "books.duplicated().sum()"
   ]
  },
  {
   "cell_type": "code",
   "execution_count": 18,
   "id": "327b96ad-946c-46eb-8950-bfb2d2f4a12a",
   "metadata": {},
   "outputs": [
    {
     "data": {
      "text/plain": [
       "np.int64(0)"
      ]
     },
     "execution_count": 18,
     "metadata": {},
     "output_type": "execute_result"
    }
   ],
   "source": [
    "users.duplicated().sum()"
   ]
  },
  {
   "cell_type": "code",
   "execution_count": 19,
   "id": "626c82ae-64af-4a0b-a09f-fc1fce75daa2",
   "metadata": {},
   "outputs": [
    {
     "data": {
      "text/plain": [
       "np.int64(0)"
      ]
     },
     "execution_count": 19,
     "metadata": {},
     "output_type": "execute_result"
    }
   ],
   "source": [
    "ratings.duplicated().sum()"
   ]
  },
  {
   "cell_type": "markdown",
   "id": "fe785e88-d377-44c3-9ec2-8d8762224ecb",
   "metadata": {},
   "source": [
    "ratings.duplicated() → checks each row in the ratings DataFrame to see if it’s a duplicate of a previous row.\n",
    "\n",
    ".sum() → counts the total number of duplicate rows.\n",
    "\n",
    "Output = number of duplicates present in the ratings dataset."
   ]
  },
  {
   "cell_type": "code",
   "execution_count": 20,
   "id": "13a60c37-ec9b-4aec-83b4-e2f09d4728d5",
   "metadata": {},
   "outputs": [
    {
     "name": "stdout",
     "output_type": "stream",
     "text": [
      "<class 'pandas.core.frame.DataFrame'>\n",
      "RangeIndex: 271360 entries, 0 to 271359\n",
      "Data columns (total 8 columns):\n",
      " #   Column               Non-Null Count   Dtype \n",
      "---  ------               --------------   ----- \n",
      " 0   ISBN                 271360 non-null  object\n",
      " 1   Book-Title           271360 non-null  object\n",
      " 2   Book-Author          271358 non-null  object\n",
      " 3   Year-Of-Publication  271360 non-null  object\n",
      " 4   Publisher            271358 non-null  object\n",
      " 5   Image-URL-S          271360 non-null  object\n",
      " 6   Image-URL-M          271360 non-null  object\n",
      " 7   Image-URL-L          271357 non-null  object\n",
      "dtypes: object(8)\n",
      "memory usage: 16.6+ MB\n"
     ]
    }
   ],
   "source": [
    "books.info()"
   ]
  },
  {
   "cell_type": "markdown",
   "id": "2a48969d-1f2d-4af0-8c66-10b3aad04089",
   "metadata": {},
   "source": [
    "Provides a summary of the books DataFrame.\n",
    "\n",
    "Shows:\n",
    "\n",
    "Number of rows and columns\n",
    "\n",
    "Column names\n",
    "\n",
    "Data type of each column (e.g., int, float, object)\n",
    "\n",
    "Number of non-null values in each column\n",
    "\n",
    "Useful for checking missing values and understanding the dataset structure."
   ]
  },
  {
   "cell_type": "code",
   "execution_count": 21,
   "id": "01519026-6823-4892-9d31-e15d6374b0e3",
   "metadata": {},
   "outputs": [
    {
     "name": "stdout",
     "output_type": "stream",
     "text": [
      "<class 'pandas.core.frame.DataFrame'>\n",
      "RangeIndex: 278858 entries, 0 to 278857\n",
      "Data columns (total 3 columns):\n",
      " #   Column    Non-Null Count   Dtype  \n",
      "---  ------    --------------   -----  \n",
      " 0   User-ID   278858 non-null  int64  \n",
      " 1   Location  278858 non-null  object \n",
      " 2   Age       168096 non-null  float64\n",
      "dtypes: float64(1), int64(1), object(1)\n",
      "memory usage: 6.4+ MB\n"
     ]
    }
   ],
   "source": [
    "users.info()"
   ]
  },
  {
   "cell_type": "code",
   "execution_count": 22,
   "id": "4d6c1f13-65a4-49f8-9894-4c206721b8c9",
   "metadata": {},
   "outputs": [
    {
     "name": "stdout",
     "output_type": "stream",
     "text": [
      "<class 'pandas.core.frame.DataFrame'>\n",
      "RangeIndex: 1149780 entries, 0 to 1149779\n",
      "Data columns (total 3 columns):\n",
      " #   Column       Non-Null Count    Dtype \n",
      "---  ------       --------------    ----- \n",
      " 0   User-ID      1149780 non-null  int64 \n",
      " 1   ISBN         1149780 non-null  object\n",
      " 2   Book-Rating  1149780 non-null  int64 \n",
      "dtypes: int64(2), object(1)\n",
      "memory usage: 26.3+ MB\n"
     ]
    }
   ],
   "source": [
    "ratings.info()\n"
   ]
  },
  {
   "cell_type": "code",
   "execution_count": 23,
   "id": "3921122e-145d-4bdd-b8e6-86b3bee68782",
   "metadata": {},
   "outputs": [
    {
     "name": "stdout",
     "output_type": "stream",
     "text": [
      "Unique ISBNs: 271360\n",
      "Unique Titles: 242135\n",
      "Unique Authors: 102022\n",
      "Unique Publishers: 16807\n"
     ]
    }
   ],
   "source": [
    "## uniques values in books dataset\n",
    "print(\"Unique ISBNs:\", books['ISBN'].nunique())\n",
    "print(\"Unique Titles:\", books['Book-Title'].nunique())\n",
    "print(\"Unique Authors:\", books['Book-Author'].nunique())\n",
    "print(\"Unique Publishers:\", books['Publisher'].nunique())"
   ]
  },
  {
   "cell_type": "markdown",
   "id": "0c35b232-2ac5-462a-837e-2c2ed788d772",
   "metadata": {},
   "source": [
    "nunique() counts the number of unique values in a column.\n",
    "\n",
    "Prints the count of unique entries in the books dataset for:\n",
    "\n",
    "ISBNs → unique book identifiers\n",
    "\n",
    "Book Titles → distinct book names\n",
    "\n",
    "Authors → distinct authors\n",
    "\n",
    "Publishers → distinct publishing companies"
   ]
  },
  {
   "cell_type": "code",
   "execution_count": 24,
   "id": "bd257240-4fcf-466b-97c0-13da0bbcd7e7",
   "metadata": {},
   "outputs": [],
   "source": [
    "#convert year to numeric, invallid became nan\n",
    "books['Year-Of-Publication']= pd.to_numeric(books['Year-Of-Publication'],errors='coerce')"
   ]
  },
  {
   "cell_type": "markdown",
   "id": "4df62fe2-3679-4199-b75d-cb4f0780137f",
   "metadata": {},
   "source": [
    "Converts the Year-Of-Publication column to a numeric type (integers).\n",
    "\n",
    "errors='coerce' → any invalid or non-numeric values are replaced with NaN (missing value).\n",
    "\n",
    "Useful for ensuring the column can be used in numeric calculations or analysis."
   ]
  },
  {
   "cell_type": "code",
   "execution_count": null,
   "id": "7ba10813-30d8-463b-8d4e-91076ba6f2da",
   "metadata": {},
   "outputs": [],
   "source": []
  },
  {
   "cell_type": "code",
   "execution_count": 25,
   "id": "df9e4ff8-42ab-4ba5-93f6-d2095e4034d5",
   "metadata": {},
   "outputs": [
    {
     "name": "stdout",
     "output_type": "stream",
     "text": [
      "Max Year: 2050.0\n",
      "Min Year: 0.0\n"
     ]
    }
   ],
   "source": [
    "print(\"Max Year:\", books['Year-Of-Publication'].max())\n",
    "print(\"Min Year:\", books['Year-Of-Publication'].min())"
   ]
  },
  {
   "cell_type": "markdown",
   "id": "ffe224ed-e49b-41e4-a94b-7bc2d7a3165f",
   "metadata": {},
   "source": [
    "max() → finds the latest (maximum) year in the Year-Of-Publication column.\n",
    "\n",
    "min() → finds the earliest (minimum) year in the same column.\n",
    "\n",
    "Helps to identify the range of publication years in the dataset."
   ]
  },
  {
   "cell_type": "code",
   "execution_count": 26,
   "id": "67880e1c-c4f3-4197-974f-98293d98d7dd",
   "metadata": {},
   "outputs": [
    {
     "name": "stdout",
     "output_type": "stream",
     "text": [
      "\n",
      "Years less than 1000:\n"
     ]
    },
    {
     "data": {
      "text/plain": [
       "Year-Of-Publication\n",
       "0.0    4618\n",
       "Name: count, dtype: int64"
      ]
     },
     "execution_count": 26,
     "metadata": {},
     "output_type": "execute_result"
    }
   ],
   "source": [
    "##check invalid years\n",
    "print('\\nYears less than 1000:')\n",
    "books[books['Year-Of-Publication']<1000]['Year-Of-Publication'].value_counts()"
   ]
  },
  {
   "cell_type": "markdown",
   "id": "0c3d6d1c-e127-4d5d-b871-89f049dbc4db",
   "metadata": {},
   "source": [
    "Filters the books DataFrame to rows where Year-Of-Publication is less than 1000 (likely invalid years).\n",
    "\n",
    "value_counts() counts how many times each invalid year appears.\n",
    "\n",
    "Helps to identify and quantify obviously incorrect year entries in the dataset."
   ]
  },
  {
   "cell_type": "code",
   "execution_count": 27,
   "id": "8818dbe2-9a0c-43cb-92fb-ffe6070271c5",
   "metadata": {},
   "outputs": [
    {
     "name": "stdout",
     "output_type": "stream",
     "text": [
      "\n",
      "Years greater than 2023:\n",
      "Year-Of-Publication\n",
      "2030.0    7\n",
      "2050.0    2\n",
      "2038.0    1\n",
      "2026.0    1\n",
      "2037.0    1\n",
      "Name: count, dtype: int64\n"
     ]
    }
   ],
   "source": [
    "print(\"\\nYears greater than 2023:\")\n",
    "print(books[books['Year-Of-Publication'] > 2025]['Year-Of-Publication'].value_counts())\n"
   ]
  },
  {
   "cell_type": "markdown",
   "id": "1b016988-42df-4a59-af94-69c101a6f23b",
   "metadata": {},
   "source": [
    "Filters the books DataFrame to rows where Year-Of-Publication is greater than 2025 (future years, likely invalid).\n",
    "\n",
    "value_counts() counts how many times each of these invalid future years appears.\n",
    "\n",
    "Helps to identify publication years that are clearly unrealistic."
   ]
  },
  {
   "cell_type": "markdown",
   "id": "d637dfe5-0c3b-42e9-b97a-b45e3c2d66de",
   "metadata": {},
   "source": [
    "## Step 4: Clean Year of Publication\n",
    "\n",
    "We’ll replace invalid years with NaN so they don’t affect analysis."
   ]
  },
  {
   "cell_type": "code",
   "execution_count": 28,
   "id": "83589cdc-5ba8-4500-8aaf-01af1225de32",
   "metadata": {},
   "outputs": [
    {
     "name": "stdout",
     "output_type": "stream",
     "text": [
      "After Cleaning:\n",
      "Min Year: 1806.0\n",
      "Max Year: 2024.0\n"
     ]
    },
    {
     "data": {
      "image/png": "[encoded data removed]",
      "text/plain": [
       "<Figure size 1000x500 with 1 Axes>"
      ]
     },
     "metadata": {},
     "output_type": "display_data"
    }
   ],
   "source": [
    "# Set unrealistic years to NaN\n",
    "books.loc[(books['Year-Of-Publication'] < 1500) | \n",
    "          (books['Year-Of-Publication'] > 2025), 'Year-Of-Publication'] = None\n",
    "\n",
    "print(\"After Cleaning:\")\n",
    "print(\"Min Year:\", books['Year-Of-Publication'].min())\n",
    "print(\"Max Year:\", books['Year-Of-Publication'].max())\n",
    "\n",
    "# Plot distribution\n",
    "import matplotlib.pyplot as plt\n",
    "\n",
    "books['Year-Of-Publication'].dropna().astype(int).hist(bins=50, figsize=(10,5))\n",
    "plt.xlabel(\"Year of Publication\")\n",
    "plt.ylabel(\"Number of Books\")\n",
    "plt.title(\"Books by Year of Publication\")\n",
    "plt.show()\n"
   ]
  },
  {
   "cell_type": "markdown",
   "id": "f21fbf16-7a6a-47ca-ac4b-40612754c9fc",
   "metadata": {},
   "source": [
    "Replaced unrealistic years (<1500 or >2025) with NaN.\n",
    "\n",
    "Checked minimum and maximum valid years → 1806 to 2024.\n",
    "\n",
    "Plotted a histogram of book publication years to visualize distribution."
   ]
  },
  {
   "cell_type": "markdown",
   "id": "8073ff2d-d6be-4e1f-800b-604a5e0168b2",
   "metadata": {},
   "source": [
    "## Step 5: Authors & Publishers\n",
    "\n",
    "Now, let’s explore the top contributors in the books dataset."
   ]
  },
  {
   "cell_type": "code",
   "execution_count": 29,
   "id": "a2f7536f-7750-4c8d-b157-2e1c9b0df7da",
   "metadata": {},
   "outputs": [
    {
     "name": "stdout",
     "output_type": "stream",
     "text": [
      "Top 10 Authors:\n",
      " Book-Author\n",
      "Agatha Christie        632\n",
      "William Shakespeare    567\n",
      "Stephen King           524\n",
      "Ann M. Martin          423\n",
      "Carolyn Keene          373\n",
      "Francine Pascal        372\n",
      "Isaac Asimov           330\n",
      "Nora Roberts           315\n",
      "Barbara Cartland       307\n",
      "Charles Dickens        302\n",
      "Name: count, dtype: int64\n",
      "\n",
      "Top 10 Publishers:\n",
      " Publisher\n",
      "Harlequin                   7535\n",
      "Silhouette                  4220\n",
      "Pocket                      3905\n",
      "Ballantine Books            3783\n",
      "Bantam Books                3646\n",
      "Scholastic                  3160\n",
      "Simon &amp; Schuster        2971\n",
      "Penguin Books               2844\n",
      "Berkley Publishing Group    2771\n",
      "Warner Books                2727\n",
      "Name: count, dtype: int64\n"
     ]
    }
   ],
   "source": [
    "# Top authors\n",
    "top_authors = books['Book-Author'].value_counts().head(10)\n",
    "print(\"Top 10 Authors:\\n\", top_authors)\n",
    "\n",
    "# Top publishers\n",
    "top_publishers = books['Publisher'].value_counts().head(10)\n",
    "print(\"\\nTop 10 Publishers:\\n\", top_publishers)"
   ]
  },
  {
   "cell_type": "markdown",
   "id": "642b4c87-330e-48af-b9e2-b8d6b45a6d2f",
   "metadata": {},
   "source": [
    "Found top 10 authors by number of books in the dataset.\n",
    "\n",
    "Most books: Agatha Christie (632).\n",
    "\n",
    "Found top 10 publishers by number of books.\n",
    "\n",
    "Most books: Harlequin (7535).\n",
    "\n",
    "Shows which authors and publishers are most represented in the dataset."
   ]
  },
  {
   "cell_type": "markdown",
   "id": "f9f5eb25-1cc2-4e59-bea3-5fb643322125",
   "metadata": {},
   "source": [
    "## plot\n",
    "## Top 10 Authors by Number of Books"
   ]
  },
  {
   "cell_type": "code",
   "execution_count": 30,
   "id": "e7ab1140-374e-4765-a612-f3a5e54c09d6",
   "metadata": {},
   "outputs": [
    {
     "data": {
      "image/png": "[encoded data removed]",
      "text/plain": [
       "<Figure size 1200x500 with 1 Axes>"
      ]
     },
     "metadata": {},
     "output_type": "display_data"
    }
   ],
   "source": [
    "plt.figure(figsize=(12,5))\n",
    "top_authors.plot(kind='bar')\n",
    "plt.title(\"Top 10 Authors by Number of Books\")\n",
    "plt.ylabel(\"Number of Books\")\n",
    "plt.show()"
   ]
  },
  {
   "cell_type": "code",
   "execution_count": null,
   "id": "89348f10-ee5a-4eeb-8e7f-e2335efb1594",
   "metadata": {},
   "outputs": [],
   "source": []
  },
  {
   "cell_type": "markdown",
   "id": "bb51eae4-a3dc-4edd-81af-42afe6a1be00",
   "metadata": {},
   "source": [
    "## Top 10 Publishers by Number of Books\n"
   ]
  },
  {
   "cell_type": "code",
   "execution_count": 31,
   "id": "ce678528-7f0b-4d07-ae5e-dfd75643bb77",
   "metadata": {},
   "outputs": [
    {
     "data": {
      "image/png": "[encoded data removed]",
      "text/plain": [
       "<Figure size 1200x500 with 1 Axes>"
      ]
     },
     "metadata": {},
     "output_type": "display_data"
    }
   ],
   "source": [
    "plt.figure(figsize=(12,5))\n",
    "top_publishers.plot(kind='bar', color='orange')\n",
    "plt.title(\"Top 10 Publishers by Number of Books\")\n",
    "plt.ylabel(\"Number of Books\")\n",
    "plt.show()"
   ]
  },
  {
   "cell_type": "markdown",
   "id": "299fc1f9-622f-46db-abc8-4e448a9c50b9",
   "metadata": {},
   "source": [
    "## Users Dataset Exploration\n",
    "\n",
    "Now let’s shift focus to Users. We’ll analyze Age and Location."
   ]
  },
  {
   "cell_type": "code",
   "execution_count": 32,
   "id": "0c88caaa-06d0-46e1-8eb7-35724c632a3e",
   "metadata": {},
   "outputs": [
    {
     "name": "stdout",
     "output_type": "stream",
     "text": [
      "Min Age: 0.0\n",
      "Max Age: 244.0\n"
     ]
    }
   ],
   "source": [
    "# Age distribution\n",
    "print(\"Min Age:\", users['Age'].min())\n",
    "print(\"Max Age:\", users['Age'].max())"
   ]
  },
  {
   "cell_type": "code",
   "execution_count": 33,
   "id": "cfeae18a-88f5-4821-a5f3-53ccad9891f6",
   "metadata": {},
   "outputs": [
    {
     "name": "stdout",
     "output_type": "stream",
     "text": [
      "\n",
      "Users with Age < 5 or > 100:\n",
      "(1248, 3)\n"
     ]
    }
   ],
   "source": [
    "# Check invalid ages\n",
    "print(\"\\nUsers with Age < 5 or > 100:\")\n",
    "print(users[(users['Age'] < 5) | (users['Age'] > 100)].shape)"
   ]
  },
  {
   "cell_type": "markdown",
   "id": "bf45395a-087a-437f-ac06-311a68acac7e",
   "metadata": {},
   "source": [
    "Checked for invalid ages in the users dataset (<5 or >100).\n",
    "\n",
    "Found 1248 users with unrealistic ages.\n",
    "\n",
    "Helps identify rows that may need cleaning or correction."
   ]
  },
  {
   "cell_type": "code",
   "execution_count": 34,
   "id": "8bbeb4f8-84d5-4a14-9511-001a010e9573",
   "metadata": {},
   "outputs": [
    {
     "data": {
      "image/png": "[encoded data removed]",
      "text/plain": [
       "<Figure size 1000x500 with 1 Axes>"
      ]
     },
     "metadata": {},
     "output_type": "display_data"
    }
   ],
   "source": [
    "# Plot histogram of age\n",
    "users['Age'].dropna().hist(bins=50, figsize=(10,5))\n",
    "plt.xlabel(\"Age\")\n",
    "plt.ylabel(\"Number of Users\")\n",
    "plt.title(\"Distribution of User Ages\")\n",
    "plt.show()"
   ]
  },
  {
   "cell_type": "code",
   "execution_count": 35,
   "id": "85fa5652-73b7-4faa-b36f-66dd021785de",
   "metadata": {},
   "outputs": [
    {
     "data": {
      "text/plain": [
       "User-ID  Location                            Age \n",
       "2        stockton, california, usa           18.0    1\n",
       "4        porto, v.n.gaia, portugal           17.0    1\n",
       "6        santa monica, california, usa       61.0    1\n",
       "10       albacete, wisconsin, spain          26.0    1\n",
       "11       melbourne, victoria, australia      14.0    1\n",
       "                                                    ..\n",
       "278849   georgetown, ontario, canada         23.0    1\n",
       "278851   dallas, texas, usa                  33.0    1\n",
       "278852   brisbane, queensland, australia     32.0    1\n",
       "278853   stranraer, n/a, united kingdom      17.0    1\n",
       "278855   tacoma, washington, united kingdom  50.0    1\n",
       "Name: count, Length: 168096, dtype: int64"
      ]
     },
     "execution_count": 35,
     "metadata": {},
     "output_type": "execute_result"
    }
   ],
   "source": [
    "users.value_counts()"
   ]
  },
  {
   "cell_type": "code",
   "execution_count": 36,
   "id": "b2598fba-d622-4d5d-88ec-6aa4db413710",
   "metadata": {},
   "outputs": [],
   "source": [
    "# Split location into parts\n",
    "users[['City','State','Country']] = users['Location'].str.split(',', n=2, expand=True)\n"
   ]
  },
  {
   "cell_type": "markdown",
   "id": "1649f648-fead-450e-8830-4b7a45b5632a",
   "metadata": {},
   "source": [
    "Splits the Location column into three new columns: City, State, Country.\n",
    "\n",
    "Uses comma as the separator.\n",
    "\n",
    "Makes it easier to analyze users by city, state, or country."
   ]
  },
  {
   "cell_type": "code",
   "execution_count": 37,
   "id": "79b31bf1-f6d7-4bbd-a971-d5c346e18237",
   "metadata": {},
   "outputs": [],
   "source": [
    "# Clean whitespace\n",
    "users['Country'] = users['Country'].str.strip()"
   ]
  },
  {
   "cell_type": "markdown",
   "id": "380d3ba0-c6d7-4a95-bd3d-cdcf18b238fa",
   "metadata": {},
   "source": [
    "Removes leading and trailing whitespace from the Country column.\n",
    "\n",
    "Ensures consistent formatting for country names.\n",
    "\n",
    "Helps avoid issues during grouping or analysis by country"
   ]
  },
  {
   "cell_type": "code",
   "execution_count": 38,
   "id": "24732e90-3675-4541-bdfb-b184d22c5e34",
   "metadata": {},
   "outputs": [
    {
     "name": "stdout",
     "output_type": "stream",
     "text": [
      "\n",
      "Top 10 Countries by Users:\n",
      "Country\n",
      "usa               139183\n",
      "canada             21556\n",
      "united kingdom     18286\n",
      "germany            17021\n",
      "spain              13088\n",
      "australia          11719\n",
      "italy              11238\n",
      "                    4561\n",
      "france              3440\n",
      "portugal            3305\n",
      "Name: count, dtype: int64\n"
     ]
    }
   ],
   "source": [
    "# Top 10 countries\n",
    "print(\"\\nTop 10 Countries by Users:\")\n",
    "print(users['Country'].value_counts().head(10))"
   ]
  },
  {
   "cell_type": "markdown",
   "id": "394ef376-e158-4add-994a-40028b78e384",
   "metadata": {},
   "source": [
    "## Ratings Dataset Exploration\n",
    "\n",
    "Now let’s explore ratings behavior: scale, distribution, and activity."
   ]
  },
  {
   "cell_type": "code",
   "execution_count": 39,
   "id": "17fa84bf-911c-47a6-8c08-010d28a1c502",
   "metadata": {},
   "outputs": [
    {
     "name": "stdout",
     "output_type": "stream",
     "text": [
      "Unique Ratings: [ 0  5  3  6  8  7 10  9  4  1  2]\n",
      "Rating Counts:\n",
      " Book-Rating\n",
      "0     716109\n",
      "1       1770\n",
      "2       2759\n",
      "3       5996\n",
      "4       8904\n",
      "5      50974\n",
      "6      36924\n",
      "7      76457\n",
      "8     103736\n",
      "9      67541\n",
      "10     78610\n",
      "Name: count, dtype: int64\n"
     ]
    }
   ],
   "source": [
    "# Rating distribution\n",
    "print(\"Unique Ratings:\", ratings['Book-Rating'].unique())\n",
    "print(\"Rating Counts:\\n\", ratings['Book-Rating'].value_counts().sort_index())"
   ]
  },
  {
   "cell_type": "markdown",
   "id": "475676c0-37a0-4b13-9377-c361c73107ff",
   "metadata": {},
   "source": [
    "Unique ratings in the dataset range from 0 to 10.\n",
    "\n",
    "Rating 0 is by far the most common (716,109 occurrences), likely representing “not rated”.\n",
    "\n",
    "Other ratings (1–10) show the distribution of actual user ratings.\n",
    "\n",
    "Helps understand how users rate books and detect skewed patterns."
   ]
  },
  {
   "cell_type": "code",
   "execution_count": 40,
   "id": "644a44df-4942-402f-865b-ad9a7bf702f3",
   "metadata": {},
   "outputs": [
    {
     "data": {
      "image/png": "[encoded data removed]",
      "text/plain": [
       "<Figure size 800x500 with 1 Axes>"
      ]
     },
     "metadata": {},
     "output_type": "display_data"
    }
   ],
   "source": [
    "# Plot distribution\n",
    "ratings['Book-Rating'].hist(bins=11, figsize=(8,5))\n",
    "plt.xlabel(\"Book Rating\")\n",
    "plt.ylabel(\"Number of Ratings\")\n",
    "plt.title(\"Distribution of Ratings\")\n",
    "plt.show()"
   ]
  },
  {
   "cell_type": "code",
   "execution_count": 41,
   "id": "d6216360-aea8-4b23-a569-8995a2854485",
   "metadata": {},
   "outputs": [
    {
     "name": "stdout",
     "output_type": "stream",
     "text": [
      "Unique Users in Ratings: 105283\n",
      "Unique Books in Ratings: 340556\n"
     ]
    }
   ],
   "source": [
    "# Unique users and books\n",
    "print(\"Unique Users in Ratings:\", ratings['User-ID'].nunique())\n",
    "print(\"Unique Books in Ratings:\", ratings['ISBN'].nunique())"
   ]
  },
  {
   "cell_type": "markdown",
   "id": "251bc6fc-4a33-4c57-8bdb-de92c281c234",
   "metadata": {},
   "source": [
    "105,283 unique users have given ratings.\n",
    "\n",
    "340,556 unique books have been rated.\n",
    "\n",
    "Shows the dataset is large and sparse, with many books per user."
   ]
  },
  {
   "cell_type": "code",
   "execution_count": 42,
   "id": "50e047f6-e41f-4e46-a83d-9e279ac123fe",
   "metadata": {},
   "outputs": [
    {
     "name": "stdout",
     "output_type": "stream",
     "text": [
      "\n",
      "Top 10 Most Active Users:\n",
      "User-ID\n",
      "11676     13602\n",
      "198711     7550\n",
      "153662     6109\n",
      "98391      5891\n",
      "35859      5850\n",
      "212898     4785\n",
      "278418     4533\n",
      "76352      3367\n",
      "110973     3100\n",
      "235105     3067\n",
      "Name: count, dtype: int64\n"
     ]
    }
   ],
   "source": [
    "# Most active users\n",
    "print(\"\\nTop 10 Most Active Users:\")\n",
    "print(ratings['User-ID'].value_counts().head(10))"
   ]
  },
  {
   "cell_type": "markdown",
   "id": "da45b048-12f9-42d0-9b12-24a567b4ef32",
   "metadata": {},
   "source": [
    "Identified top 10 most active users based on number of ratings.\n",
    "\n",
    "User 11676 gave the most ratings (13,602).\n",
    "\n",
    "Helps understand user activity patterns and identify highly engaged users."
   ]
  },
  {
   "cell_type": "code",
   "execution_count": 43,
   "id": "6640c2a3-f991-46d5-893f-d51cbdc725da",
   "metadata": {},
   "outputs": [
    {
     "name": "stdout",
     "output_type": "stream",
     "text": [
      "\n",
      "Top 10 Most Rated Books:\n",
      "ISBN\n",
      "0971880107    2502\n",
      "0316666343    1295\n",
      "0385504209     883\n",
      "0060928336     732\n",
      "0312195516     723\n",
      "044023722X     647\n",
      "0679781587     639\n",
      "0142001740     615\n",
      "067976402X     614\n",
      "0671027360     586\n",
      "Name: count, dtype: int64\n"
     ]
    }
   ],
   "source": [
    "# Most rated books\n",
    "print(\"\\nTop 10 Most Rated Books:\")\n",
    "print(ratings['ISBN'].value_counts().head(10))"
   ]
  },
  {
   "cell_type": "markdown",
   "id": "9a883dea-75ed-4fb4-9dee-cb49942434a2",
   "metadata": {},
   "source": [
    "Found top 10 most rated books based on number of ratings.\n",
    "\n",
    "Book with ISBN 0971880107 received the most ratings (2,502).\n",
    "\n",
    "Helps identify popular or widely read books in the dataset."
   ]
  },
  {
   "cell_type": "markdown",
   "id": "9ce538cc-f7c1-4afd-b7c9-bec31388ae75",
   "metadata": {},
   "source": [
    "## Sparsity Check\n",
    "\n",
    "Let’s calculate how sparse the ratings matrix is (fraction of filled entries)."
   ]
  },
  {
   "cell_type": "code",
   "execution_count": 44,
   "id": "5e8d04f7-b5d8-4bdf-ba01-7a675d9a81fc",
   "metadata": {},
   "outputs": [
    {
     "name": "stdout",
     "output_type": "stream",
     "text": [
      "Sparsity of Ratings Matrix: 0.999968\n"
     ]
    }
   ],
   "source": [
    "import numpy as np\n",
    "\n",
    "num_users = ratings['User-ID'].nunique()\n",
    "num_books = ratings['ISBN'].nunique()\n",
    "num_ratings = ratings.shape[0]\n",
    "\n",
    "# Possible ratings in full matrix\n",
    "possible_ratings = num_users * num_books\n",
    "\n",
    "# Sparsity\n",
    "sparsity = 1 - (num_ratings / possible_ratings)\n",
    "print(f\"Sparsity of Ratings Matrix: {sparsity:.6f}\")\n"
   ]
  },
  {
   "cell_type": "markdown",
   "id": "9383a69c-1598-4413-8188-3954ae6c6eec",
   "metadata": {},
   "source": [
    "# Interpretation:\n",
    "\n",
    "Sparsity = 0.999968 → ~99.997% of matrix is empty!\n",
    "\n",
    "Meaning:\n",
    "\n",
    "Out of all possible (user, book) pairs, only 0.003% have ratings.\n",
    "\n",
    "Most books have very few ratings, and most users rate very few books."
   ]
  },
  {
   "cell_type": "markdown",
   "id": "a02b88eb-e26d-4487-9a8d-07079928e81b",
   "metadata": {},
   "source": [
    "EDA Summary (So Far)\n",
    "\n",
    "Books Dataset:\n",
    "\n",
    "Cleaned years: valid range is 1806–2024.\n",
    "\n",
    "Top authors: Agatha Christie, Shakespeare, Stephen King.\n",
    "\n",
    "Top publishers: Harlequin, Silhouette, Pocket.\n",
    "\n",
    "Few missing values (manageable).\n",
    "\n",
    "Users Dataset:\n",
    "\n",
    "105k unique users.\n",
    "\n",
    "Age column: many missing; ~1,200 outliers (<5 or >100).\n",
    "\n",
    "Dominant countries: USA, Canada, UK.\n",
    "\n",
    "Some missing country values → treat as \"Unknown\".\n",
    "\n",
    "Ratings Dataset:\n",
    "\n",
    "1.1M ratings total.\n",
    "\n",
    "Heavy skew: 716k implicit (0) ratings, ~400k explicit ratings.\n",
    "\n",
    "Rating scale 1–10 is used, but imbalanced (8, 9, 10 more common).\n",
    "\n",
    "Sparsity = 0.999968 → classic challenge for recommender systems.\n",
    "\n",
    "Few “power users” and “popular books” dominate activity."
   ]
  },
  {
   "cell_type": "markdown",
   "id": "dbe5f390-455c-4e33-bd3d-1f8d28d689d8",
   "metadata": {},
   "source": [
    "## popularity based recommendation system"
   ]
  },
  {
   "cell_type": "code",
   "execution_count": 45,
   "id": "159f0ded-f923-4b42-a3f0-a421f9ebffe8",
   "metadata": {},
   "outputs": [],
   "source": [
    "ratings_with_name = ratings.merge(books,on='ISBN')"
   ]
  },
  {
   "cell_type": "markdown",
   "id": "a63d4f71-50a6-43e7-a854-0a10741d1dc1",
   "metadata": {},
   "source": [
    "Merged ratings and books DataFrames on the ISBN column.\n",
    "\n",
    "Adds book information (like title, author, year) to each rating.\n",
    "\n",
    "Creates a combined dataset for easier analysis of ratings along with book details."
   ]
  },
  {
   "cell_type": "code",
   "execution_count": 46,
   "id": "ffe0697f-2c7b-46a6-a867-b257e05680d6",
   "metadata": {},
   "outputs": [
    {
     "data": {
      "text/html": [
       "<div>\n",
       "<style scoped>\n",
       "    .dataframe tbody tr th:only-of-type {\n",
       "        vertical-align: middle;\n",
       "    }\n",
       "\n",
       "    .dataframe tbody tr th {\n",
       "        vertical-align: top;\n",
       "    }\n",
       "\n",
       "    .dataframe thead th {\n",
       "        text-align: right;\n",
       "    }\n",
       "</style>\n",
       "<table border=\"1\" class=\"dataframe\">\n",
       "  <thead>\n",
       "    <tr style=\"text-align: right;\">\n",
       "      <th></th>\n",
       "      <th>Book-Title</th>\n",
       "      <th>num_ratings</th>\n",
       "    </tr>\n",
       "  </thead>\n",
       "  <tbody>\n",
       "    <tr>\n",
       "      <th>0</th>\n",
       "      <td>A Light in the Storm: The Civil War Diary of ...</td>\n",
       "      <td>4</td>\n",
       "    </tr>\n",
       "    <tr>\n",
       "      <th>1</th>\n",
       "      <td>Always Have Popsicles</td>\n",
       "      <td>1</td>\n",
       "    </tr>\n",
       "    <tr>\n",
       "      <th>2</th>\n",
       "      <td>Apple Magic (The Collector's series)</td>\n",
       "      <td>1</td>\n",
       "    </tr>\n",
       "    <tr>\n",
       "      <th>3</th>\n",
       "      <td>Ask Lily (Young Women of Faith: Lily Series, ...</td>\n",
       "      <td>1</td>\n",
       "    </tr>\n",
       "    <tr>\n",
       "      <th>4</th>\n",
       "      <td>Beyond IBM: Leadership Marketing and Finance ...</td>\n",
       "      <td>1</td>\n",
       "    </tr>\n",
       "    <tr>\n",
       "      <th>...</th>\n",
       "      <td>...</td>\n",
       "      <td>...</td>\n",
       "    </tr>\n",
       "    <tr>\n",
       "      <th>241066</th>\n",
       "      <td>Ã?Â?lpiraten.</td>\n",
       "      <td>2</td>\n",
       "    </tr>\n",
       "    <tr>\n",
       "      <th>241067</th>\n",
       "      <td>Ã?Â?rger mit Produkt X. Roman.</td>\n",
       "      <td>4</td>\n",
       "    </tr>\n",
       "    <tr>\n",
       "      <th>241068</th>\n",
       "      <td>Ã?Â?sterlich leben.</td>\n",
       "      <td>1</td>\n",
       "    </tr>\n",
       "    <tr>\n",
       "      <th>241069</th>\n",
       "      <td>Ã?Â?stlich der Berge.</td>\n",
       "      <td>3</td>\n",
       "    </tr>\n",
       "    <tr>\n",
       "      <th>241070</th>\n",
       "      <td>Ã?Â?thique en toc</td>\n",
       "      <td>2</td>\n",
       "    </tr>\n",
       "  </tbody>\n",
       "</table>\n",
       "<p>241071 rows × 2 columns</p>\n",
       "</div>"
      ],
      "text/plain": [
       "                                               Book-Title  num_ratings\n",
       "0        A Light in the Storm: The Civil War Diary of ...            4\n",
       "1                                   Always Have Popsicles            1\n",
       "2                    Apple Magic (The Collector's series)            1\n",
       "3        Ask Lily (Young Women of Faith: Lily Series, ...            1\n",
       "4        Beyond IBM: Leadership Marketing and Finance ...            1\n",
       "...                                                   ...          ...\n",
       "241066                                      Ã?Â?lpiraten.            2\n",
       "241067                     Ã?Â?rger mit Produkt X. Roman.            4\n",
       "241068                                Ã?Â?sterlich leben.            1\n",
       "241069                              Ã?Â?stlich der Berge.            3\n",
       "241070                                  Ã?Â?thique en toc            2\n",
       "\n",
       "[241071 rows x 2 columns]"
      ]
     },
     "execution_count": 46,
     "metadata": {},
     "output_type": "execute_result"
    }
   ],
   "source": [
    "num_rating_df = ratings_with_name.groupby('Book-Title').count()['Book-Rating'].reset_index()\n",
    "num_rating_df.rename(columns={'Book-Rating': 'num_ratings'},inplace=True)\n",
    "num_rating_df"
   ]
  },
  {
   "cell_type": "markdown",
   "id": "af399c4f-0c76-4a96-afe3-ed74c9d6084f",
   "metadata": {},
   "source": [
    "Groups ratings_with_name by Book-Title.\n",
    "\n",
    "Counts the number of ratings each book received → stored as num_ratings.\n",
    "\n",
    "Resets the index to create a clean DataFrame.\n",
    "\n",
    "Result: a table showing each book and how many ratings it has."
   ]
  },
  {
   "cell_type": "code",
   "execution_count": 47,
   "id": "44294f99-86e0-45a4-a48a-bfb8e66c1691",
   "metadata": {},
   "outputs": [
    {
     "data": {
      "text/html": [
       "<div>\n",
       "<style scoped>\n",
       "    .dataframe tbody tr th:only-of-type {\n",
       "        vertical-align: middle;\n",
       "    }\n",
       "\n",
       "    .dataframe tbody tr th {\n",
       "        vertical-align: top;\n",
       "    }\n",
       "\n",
       "    .dataframe thead th {\n",
       "        text-align: right;\n",
       "    }\n",
       "</style>\n",
       "<table border=\"1\" class=\"dataframe\">\n",
       "  <thead>\n",
       "    <tr style=\"text-align: right;\">\n",
       "      <th></th>\n",
       "      <th>Book-Title</th>\n",
       "      <th>avg_ratings</th>\n",
       "    </tr>\n",
       "  </thead>\n",
       "  <tbody>\n",
       "    <tr>\n",
       "      <th>0</th>\n",
       "      <td>A Light in the Storm: The Civil War Diary of ...</td>\n",
       "      <td>2.250000</td>\n",
       "    </tr>\n",
       "    <tr>\n",
       "      <th>1</th>\n",
       "      <td>Always Have Popsicles</td>\n",
       "      <td>0.000000</td>\n",
       "    </tr>\n",
       "    <tr>\n",
       "      <th>2</th>\n",
       "      <td>Apple Magic (The Collector's series)</td>\n",
       "      <td>0.000000</td>\n",
       "    </tr>\n",
       "    <tr>\n",
       "      <th>3</th>\n",
       "      <td>Ask Lily (Young Women of Faith: Lily Series, ...</td>\n",
       "      <td>8.000000</td>\n",
       "    </tr>\n",
       "    <tr>\n",
       "      <th>4</th>\n",
       "      <td>Beyond IBM: Leadership Marketing and Finance ...</td>\n",
       "      <td>0.000000</td>\n",
       "    </tr>\n",
       "    <tr>\n",
       "      <th>...</th>\n",
       "      <td>...</td>\n",
       "      <td>...</td>\n",
       "    </tr>\n",
       "    <tr>\n",
       "      <th>241066</th>\n",
       "      <td>Ã?Â?lpiraten.</td>\n",
       "      <td>0.000000</td>\n",
       "    </tr>\n",
       "    <tr>\n",
       "      <th>241067</th>\n",
       "      <td>Ã?Â?rger mit Produkt X. Roman.</td>\n",
       "      <td>5.250000</td>\n",
       "    </tr>\n",
       "    <tr>\n",
       "      <th>241068</th>\n",
       "      <td>Ã?Â?sterlich leben.</td>\n",
       "      <td>7.000000</td>\n",
       "    </tr>\n",
       "    <tr>\n",
       "      <th>241069</th>\n",
       "      <td>Ã?Â?stlich der Berge.</td>\n",
       "      <td>2.666667</td>\n",
       "    </tr>\n",
       "    <tr>\n",
       "      <th>241070</th>\n",
       "      <td>Ã?Â?thique en toc</td>\n",
       "      <td>4.000000</td>\n",
       "    </tr>\n",
       "  </tbody>\n",
       "</table>\n",
       "<p>241071 rows × 2 columns</p>\n",
       "</div>"
      ],
      "text/plain": [
       "                                               Book-Title  avg_ratings\n",
       "0        A Light in the Storm: The Civil War Diary of ...     2.250000\n",
       "1                                   Always Have Popsicles     0.000000\n",
       "2                    Apple Magic (The Collector's series)     0.000000\n",
       "3        Ask Lily (Young Women of Faith: Lily Series, ...     8.000000\n",
       "4        Beyond IBM: Leadership Marketing and Finance ...     0.000000\n",
       "...                                                   ...          ...\n",
       "241066                                      Ã?Â?lpiraten.     0.000000\n",
       "241067                     Ã?Â?rger mit Produkt X. Roman.     5.250000\n",
       "241068                                Ã?Â?sterlich leben.     7.000000\n",
       "241069                              Ã?Â?stlich der Berge.     2.666667\n",
       "241070                                  Ã?Â?thique en toc     4.000000\n",
       "\n",
       "[241071 rows x 2 columns]"
      ]
     },
     "execution_count": 47,
     "metadata": {},
     "output_type": "execute_result"
    }
   ],
   "source": [
    "avg_rating_df = ratings_with_name.groupby('Book-Title')['Book-Rating'].mean().reset_index()\n",
    "avg_rating_df.rename(columns={'Book-Rating': 'avg_ratings'},inplace=True)\n",
    "avg_rating_df"
   ]
  },
  {
   "cell_type": "markdown",
   "id": "e9178f7c-e21d-4b0c-a568-fc5bbdcc7d42",
   "metadata": {},
   "source": [
    "Groups ratings_with_name by Book-Title.\n",
    "\n",
    "Calculates the average rating for each book → stored as avg_ratings.\n",
    "\n",
    "Resets the index to create a clean DataFrame.\n",
    "\n",
    "Result: a table showing each book and its average rating."
   ]
  },
  {
   "cell_type": "code",
   "execution_count": 48,
   "id": "6dd11405-33cc-48d9-9453-67e60a280a23",
   "metadata": {},
   "outputs": [
    {
     "data": {
      "text/html": [
       "<div>\n",
       "<style scoped>\n",
       "    .dataframe tbody tr th:only-of-type {\n",
       "        vertical-align: middle;\n",
       "    }\n",
       "\n",
       "    .dataframe tbody tr th {\n",
       "        vertical-align: top;\n",
       "    }\n",
       "\n",
       "    .dataframe thead th {\n",
       "        text-align: right;\n",
       "    }\n",
       "</style>\n",
       "<table border=\"1\" class=\"dataframe\">\n",
       "  <thead>\n",
       "    <tr style=\"text-align: right;\">\n",
       "      <th></th>\n",
       "      <th>Book-Title</th>\n",
       "      <th>num_ratings</th>\n",
       "      <th>avg_ratings</th>\n",
       "    </tr>\n",
       "  </thead>\n",
       "  <tbody>\n",
       "    <tr>\n",
       "      <th>0</th>\n",
       "      <td>A Light in the Storm: The Civil War Diary of ...</td>\n",
       "      <td>4</td>\n",
       "      <td>2.250000</td>\n",
       "    </tr>\n",
       "    <tr>\n",
       "      <th>1</th>\n",
       "      <td>Always Have Popsicles</td>\n",
       "      <td>1</td>\n",
       "      <td>0.000000</td>\n",
       "    </tr>\n",
       "    <tr>\n",
       "      <th>2</th>\n",
       "      <td>Apple Magic (The Collector's series)</td>\n",
       "      <td>1</td>\n",
       "      <td>0.000000</td>\n",
       "    </tr>\n",
       "    <tr>\n",
       "      <th>3</th>\n",
       "      <td>Ask Lily (Young Women of Faith: Lily Series, ...</td>\n",
       "      <td>1</td>\n",
       "      <td>8.000000</td>\n",
       "    </tr>\n",
       "    <tr>\n",
       "      <th>4</th>\n",
       "      <td>Beyond IBM: Leadership Marketing and Finance ...</td>\n",
       "      <td>1</td>\n",
       "      <td>0.000000</td>\n",
       "    </tr>\n",
       "    <tr>\n",
       "      <th>...</th>\n",
       "      <td>...</td>\n",
       "      <td>...</td>\n",
       "      <td>...</td>\n",
       "    </tr>\n",
       "    <tr>\n",
       "      <th>241066</th>\n",
       "      <td>Ã?Â?lpiraten.</td>\n",
       "      <td>2</td>\n",
       "      <td>0.000000</td>\n",
       "    </tr>\n",
       "    <tr>\n",
       "      <th>241067</th>\n",
       "      <td>Ã?Â?rger mit Produkt X. Roman.</td>\n",
       "      <td>4</td>\n",
       "      <td>5.250000</td>\n",
       "    </tr>\n",
       "    <tr>\n",
       "      <th>241068</th>\n",
       "      <td>Ã?Â?sterlich leben.</td>\n",
       "      <td>1</td>\n",
       "      <td>7.000000</td>\n",
       "    </tr>\n",
       "    <tr>\n",
       "      <th>241069</th>\n",
       "      <td>Ã?Â?stlich der Berge.</td>\n",
       "      <td>3</td>\n",
       "      <td>2.666667</td>\n",
       "    </tr>\n",
       "    <tr>\n",
       "      <th>241070</th>\n",
       "      <td>Ã?Â?thique en toc</td>\n",
       "      <td>2</td>\n",
       "      <td>4.000000</td>\n",
       "    </tr>\n",
       "  </tbody>\n",
       "</table>\n",
       "<p>241071 rows × 3 columns</p>\n",
       "</div>"
      ],
      "text/plain": [
       "                                               Book-Title  num_ratings  \\\n",
       "0        A Light in the Storm: The Civil War Diary of ...            4   \n",
       "1                                   Always Have Popsicles            1   \n",
       "2                    Apple Magic (The Collector's series)            1   \n",
       "3        Ask Lily (Young Women of Faith: Lily Series, ...            1   \n",
       "4        Beyond IBM: Leadership Marketing and Finance ...            1   \n",
       "...                                                   ...          ...   \n",
       "241066                                      Ã?Â?lpiraten.            2   \n",
       "241067                     Ã?Â?rger mit Produkt X. Roman.            4   \n",
       "241068                                Ã?Â?sterlich leben.            1   \n",
       "241069                              Ã?Â?stlich der Berge.            3   \n",
       "241070                                  Ã?Â?thique en toc            2   \n",
       "\n",
       "        avg_ratings  \n",
       "0          2.250000  \n",
       "1          0.000000  \n",
       "2          0.000000  \n",
       "3          8.000000  \n",
       "4          0.000000  \n",
       "...             ...  \n",
       "241066     0.000000  \n",
       "241067     5.250000  \n",
       "241068     7.000000  \n",
       "241069     2.666667  \n",
       "241070     4.000000  \n",
       "\n",
       "[241071 rows x 3 columns]"
      ]
     },
     "execution_count": 48,
     "metadata": {},
     "output_type": "execute_result"
    }
   ],
   "source": [
    "popular_df = num_rating_df.merge(avg_rating_df, on='Book-Title')\n",
    "popular_df"
   ]
  },
  {
   "cell_type": "markdown",
   "id": "c6d12ece-849e-4e73-adf2-365b0aea667f",
   "metadata": {},
   "source": [
    "Merged num_rating_df and avg_rating_df on Book-Title.\n",
    "\n",
    "Combines number of ratings and average rating for each book.\n",
    "\n",
    "Result: popular_df shows each book, its total ratings, and average rating."
   ]
  },
  {
   "cell_type": "code",
   "execution_count": 49,
   "id": "37d0f5c3-34b8-4e1d-a97b-d8c25c49e4c1",
   "metadata": {},
   "outputs": [],
   "source": [
    "popular_df = popular_df[popular_df['num_ratings'] > 250].sort_values('avg_ratings', ascending = False).head(50)"
   ]
  },
  {
   "cell_type": "markdown",
   "id": "22cc741e-ea78-4d27-b276-3a1a90aab6cb",
   "metadata": {},
   "source": [
    "Filters popular_df to include books with more than 250 ratings.\n",
    "\n",
    "Sorts the books by average rating in descending order.\n",
    "\n",
    "Selects the top 50 highest-rated popular books.\n",
    "\n",
    "Result: a list of well-rated and widely rated books."
   ]
  },
  {
   "cell_type": "code",
   "execution_count": 50,
   "id": "99f6ac63-d07e-4c8a-96c5-fc9e4da5ab26",
   "metadata": {},
   "outputs": [
    {
     "data": {
      "text/html": [
       "<div>\n",
       "<style scoped>\n",
       "    .dataframe tbody tr th:only-of-type {\n",
       "        vertical-align: middle;\n",
       "    }\n",
       "\n",
       "    .dataframe tbody tr th {\n",
       "        vertical-align: top;\n",
       "    }\n",
       "\n",
       "    .dataframe thead th {\n",
       "        text-align: right;\n",
       "    }\n",
       "</style>\n",
       "<table border=\"1\" class=\"dataframe\">\n",
       "  <thead>\n",
       "    <tr style=\"text-align: right;\">\n",
       "      <th></th>\n",
       "      <th>Book-Title</th>\n",
       "      <th>num_ratings</th>\n",
       "      <th>avg_ratings</th>\n",
       "    </tr>\n",
       "  </thead>\n",
       "  <tbody>\n",
       "    <tr>\n",
       "      <th>80434</th>\n",
       "      <td>Harry Potter and the Prisoner of Azkaban (Book 3)</td>\n",
       "      <td>428</td>\n",
       "      <td>5.852804</td>\n",
       "    </tr>\n",
       "    <tr>\n",
       "      <th>80422</th>\n",
       "      <td>Harry Potter and the Goblet of Fire (Book 4)</td>\n",
       "      <td>387</td>\n",
       "      <td>5.824289</td>\n",
       "    </tr>\n",
       "    <tr>\n",
       "      <th>80441</th>\n",
       "      <td>Harry Potter and the Sorcerer's Stone (Book 1)</td>\n",
       "      <td>278</td>\n",
       "      <td>5.737410</td>\n",
       "    </tr>\n",
       "    <tr>\n",
       "      <th>80426</th>\n",
       "      <td>Harry Potter and the Order of the Phoenix (Boo...</td>\n",
       "      <td>347</td>\n",
       "      <td>5.501441</td>\n",
       "    </tr>\n",
       "    <tr>\n",
       "      <th>80414</th>\n",
       "      <td>Harry Potter and the Chamber of Secrets (Book 2)</td>\n",
       "      <td>556</td>\n",
       "      <td>5.183453</td>\n",
       "    </tr>\n",
       "    <tr>\n",
       "      <th>191612</th>\n",
       "      <td>The Hobbit : The Enchanting Prelude to The Lor...</td>\n",
       "      <td>281</td>\n",
       "      <td>5.007117</td>\n",
       "    </tr>\n",
       "    <tr>\n",
       "      <th>187377</th>\n",
       "      <td>The Fellowship of the Ring (The Lord of the Ri...</td>\n",
       "      <td>368</td>\n",
       "      <td>4.948370</td>\n",
       "    </tr>\n",
       "    <tr>\n",
       "      <th>80445</th>\n",
       "      <td>Harry Potter and the Sorcerer's Stone (Harry P...</td>\n",
       "      <td>575</td>\n",
       "      <td>4.895652</td>\n",
       "    </tr>\n",
       "    <tr>\n",
       "      <th>211384</th>\n",
       "      <td>The Two Towers (The Lord of the Rings, Part 2)</td>\n",
       "      <td>260</td>\n",
       "      <td>4.880769</td>\n",
       "    </tr>\n",
       "    <tr>\n",
       "      <th>219741</th>\n",
       "      <td>To Kill a Mockingbird</td>\n",
       "      <td>510</td>\n",
       "      <td>4.700000</td>\n",
       "    </tr>\n",
       "    <tr>\n",
       "      <th>183573</th>\n",
       "      <td>The Da Vinci Code</td>\n",
       "      <td>898</td>\n",
       "      <td>4.642539</td>\n",
       "    </tr>\n",
       "    <tr>\n",
       "      <th>187880</th>\n",
       "      <td>The Five People You Meet in Heaven</td>\n",
       "      <td>430</td>\n",
       "      <td>4.551163</td>\n",
       "    </tr>\n",
       "    <tr>\n",
       "      <th>180556</th>\n",
       "      <td>The Catcher in the Rye</td>\n",
       "      <td>449</td>\n",
       "      <td>4.545657</td>\n",
       "    </tr>\n",
       "    <tr>\n",
       "      <th>196326</th>\n",
       "      <td>The Lovely Bones: A Novel</td>\n",
       "      <td>1295</td>\n",
       "      <td>4.468726</td>\n",
       "    </tr>\n",
       "    <tr>\n",
       "      <th>764</th>\n",
       "      <td>1984</td>\n",
       "      <td>284</td>\n",
       "      <td>4.454225</td>\n",
       "    </tr>\n",
       "    <tr>\n",
       "      <th>144165</th>\n",
       "      <td>Prodigal Summer: A Novel</td>\n",
       "      <td>253</td>\n",
       "      <td>4.450593</td>\n",
       "    </tr>\n",
       "    <tr>\n",
       "      <th>128670</th>\n",
       "      <td>Neverwhere</td>\n",
       "      <td>265</td>\n",
       "      <td>4.449057</td>\n",
       "    </tr>\n",
       "    <tr>\n",
       "      <th>206502</th>\n",
       "      <td>The Secret Life of Bees</td>\n",
       "      <td>774</td>\n",
       "      <td>4.447028</td>\n",
       "    </tr>\n",
       "    <tr>\n",
       "      <th>168719</th>\n",
       "      <td>Stupid White Men ...and Other Sorry Excuses fo...</td>\n",
       "      <td>283</td>\n",
       "      <td>4.356890</td>\n",
       "    </tr>\n",
       "    <tr>\n",
       "      <th>223135</th>\n",
       "      <td>Tuesdays with Morrie: An Old Man, a Young Man,...</td>\n",
       "      <td>493</td>\n",
       "      <td>4.354970</td>\n",
       "    </tr>\n",
       "    <tr>\n",
       "      <th>204387</th>\n",
       "      <td>The Red Tent (Bestselling Backlist)</td>\n",
       "      <td>723</td>\n",
       "      <td>4.334716</td>\n",
       "    </tr>\n",
       "    <tr>\n",
       "      <th>191589</th>\n",
       "      <td>The Hitchhiker's Guide to the Galaxy</td>\n",
       "      <td>268</td>\n",
       "      <td>4.328358</td>\n",
       "    </tr>\n",
       "    <tr>\n",
       "      <th>129379</th>\n",
       "      <td>Nickel and Dimed: On (Not) Getting By in America</td>\n",
       "      <td>335</td>\n",
       "      <td>4.289552</td>\n",
       "    </tr>\n",
       "    <tr>\n",
       "      <th>93381</th>\n",
       "      <td>Into the Wild</td>\n",
       "      <td>252</td>\n",
       "      <td>4.273810</td>\n",
       "    </tr>\n",
       "    <tr>\n",
       "      <th>63867</th>\n",
       "      <td>Fahrenheit 451</td>\n",
       "      <td>409</td>\n",
       "      <td>4.264059</td>\n",
       "    </tr>\n",
       "    <tr>\n",
       "      <th>74750</th>\n",
       "      <td>Girl with a Pearl Earring</td>\n",
       "      <td>526</td>\n",
       "      <td>4.218631</td>\n",
       "    </tr>\n",
       "    <tr>\n",
       "      <th>136145</th>\n",
       "      <td>Outlander</td>\n",
       "      <td>283</td>\n",
       "      <td>4.173145</td>\n",
       "    </tr>\n",
       "    <tr>\n",
       "      <th>233370</th>\n",
       "      <td>Where the Heart Is (Oprah's Book Club (Paperba...</td>\n",
       "      <td>585</td>\n",
       "      <td>4.105983</td>\n",
       "    </tr>\n",
       "    <tr>\n",
       "      <th>156102</th>\n",
       "      <td>Seabiscuit: An American Legend</td>\n",
       "      <td>275</td>\n",
       "      <td>4.098182</td>\n",
       "    </tr>\n",
       "    <tr>\n",
       "      <th>107962</th>\n",
       "      <td>Life of Pi</td>\n",
       "      <td>664</td>\n",
       "      <td>4.088855</td>\n",
       "    </tr>\n",
       "    <tr>\n",
       "      <th>176845</th>\n",
       "      <td>The Bean Trees</td>\n",
       "      <td>389</td>\n",
       "      <td>4.087404</td>\n",
       "    </tr>\n",
       "    <tr>\n",
       "      <th>2281</th>\n",
       "      <td>A Child Called \\It\\\": One Child's Courage to S...</td>\n",
       "      <td>265</td>\n",
       "      <td>4.086792</td>\n",
       "    </tr>\n",
       "    <tr>\n",
       "      <th>8434</th>\n",
       "      <td>ANGELA'S ASHES</td>\n",
       "      <td>279</td>\n",
       "      <td>4.075269</td>\n",
       "    </tr>\n",
       "    <tr>\n",
       "      <th>76343</th>\n",
       "      <td>Good in Bed</td>\n",
       "      <td>490</td>\n",
       "      <td>4.055102</td>\n",
       "    </tr>\n",
       "    <tr>\n",
       "      <th>64931</th>\n",
       "      <td>Fast Food Nation: The Dark Side of the All-Ame...</td>\n",
       "      <td>321</td>\n",
       "      <td>4.037383</td>\n",
       "    </tr>\n",
       "    <tr>\n",
       "      <th>12700</th>\n",
       "      <td>American Gods</td>\n",
       "      <td>302</td>\n",
       "      <td>4.006623</td>\n",
       "    </tr>\n",
       "    <tr>\n",
       "      <th>161645</th>\n",
       "      <td>Skipping Christmas</td>\n",
       "      <td>322</td>\n",
       "      <td>4.006211</td>\n",
       "    </tr>\n",
       "    <tr>\n",
       "      <th>105777</th>\n",
       "      <td>Left Behind: A Novel of the Earth's Last Days ...</td>\n",
       "      <td>318</td>\n",
       "      <td>4.003145</td>\n",
       "    </tr>\n",
       "    <tr>\n",
       "      <th>189551</th>\n",
       "      <td>The Golden Compass (His Dark Materials, Book 1)</td>\n",
       "      <td>336</td>\n",
       "      <td>4.000000</td>\n",
       "    </tr>\n",
       "    <tr>\n",
       "      <th>181679</th>\n",
       "      <td>The Color Purple</td>\n",
       "      <td>314</td>\n",
       "      <td>3.964968</td>\n",
       "    </tr>\n",
       "    <tr>\n",
       "      <th>160336</th>\n",
       "      <td>Silence of the Lambs</td>\n",
       "      <td>256</td>\n",
       "      <td>3.960938</td>\n",
       "    </tr>\n",
       "    <tr>\n",
       "      <th>8752</th>\n",
       "      <td>About a Boy</td>\n",
       "      <td>262</td>\n",
       "      <td>3.900763</td>\n",
       "    </tr>\n",
       "    <tr>\n",
       "      <th>158138</th>\n",
       "      <td>Seven Up (A Stephanie Plum Novel)</td>\n",
       "      <td>278</td>\n",
       "      <td>3.888489</td>\n",
       "    </tr>\n",
       "    <tr>\n",
       "      <th>175097</th>\n",
       "      <td>The Alchemist: A Fable About Following Your Dream</td>\n",
       "      <td>266</td>\n",
       "      <td>3.875940</td>\n",
       "    </tr>\n",
       "    <tr>\n",
       "      <th>80069</th>\n",
       "      <td>Hard Eight : A Stephanie Plum Novel (A Stephan...</td>\n",
       "      <td>269</td>\n",
       "      <td>3.825279</td>\n",
       "    </tr>\n",
       "    <tr>\n",
       "      <th>170101</th>\n",
       "      <td>Suzanne's Diary for Nicholas</td>\n",
       "      <td>457</td>\n",
       "      <td>3.820569</td>\n",
       "    </tr>\n",
       "    <tr>\n",
       "      <th>111073</th>\n",
       "      <td>Lord of the Flies</td>\n",
       "      <td>259</td>\n",
       "      <td>3.818533</td>\n",
       "    </tr>\n",
       "    <tr>\n",
       "      <th>5664</th>\n",
       "      <td>A Prayer for Owen Meany</td>\n",
       "      <td>413</td>\n",
       "      <td>3.796610</td>\n",
       "    </tr>\n",
       "    <tr>\n",
       "      <th>212070</th>\n",
       "      <td>The Vampire Lestat (Vampire Chronicles, Book II)</td>\n",
       "      <td>301</td>\n",
       "      <td>3.777409</td>\n",
       "    </tr>\n",
       "    <tr>\n",
       "      <th>233851</th>\n",
       "      <td>White Oleander : A Novel (Oprah's Book Club)</td>\n",
       "      <td>356</td>\n",
       "      <td>3.772472</td>\n",
       "    </tr>\n",
       "  </tbody>\n",
       "</table>\n",
       "</div>"
      ],
      "text/plain": [
       "                                               Book-Title  num_ratings  \\\n",
       "80434   Harry Potter and the Prisoner of Azkaban (Book 3)          428   \n",
       "80422        Harry Potter and the Goblet of Fire (Book 4)          387   \n",
       "80441      Harry Potter and the Sorcerer's Stone (Book 1)          278   \n",
       "80426   Harry Potter and the Order of the Phoenix (Boo...          347   \n",
       "80414    Harry Potter and the Chamber of Secrets (Book 2)          556   \n",
       "191612  The Hobbit : The Enchanting Prelude to The Lor...          281   \n",
       "187377  The Fellowship of the Ring (The Lord of the Ri...          368   \n",
       "80445   Harry Potter and the Sorcerer's Stone (Harry P...          575   \n",
       "211384     The Two Towers (The Lord of the Rings, Part 2)          260   \n",
       "219741                              To Kill a Mockingbird          510   \n",
       "183573                                  The Da Vinci Code          898   \n",
       "187880                 The Five People You Meet in Heaven          430   \n",
       "180556                             The Catcher in the Rye          449   \n",
       "196326                          The Lovely Bones: A Novel         1295   \n",
       "764                                                  1984          284   \n",
       "144165                           Prodigal Summer: A Novel          253   \n",
       "128670                                         Neverwhere          265   \n",
       "206502                            The Secret Life of Bees          774   \n",
       "168719  Stupid White Men ...and Other Sorry Excuses fo...          283   \n",
       "223135  Tuesdays with Morrie: An Old Man, a Young Man,...          493   \n",
       "204387                The Red Tent (Bestselling Backlist)          723   \n",
       "191589               The Hitchhiker's Guide to the Galaxy          268   \n",
       "129379   Nickel and Dimed: On (Not) Getting By in America          335   \n",
       "93381                                       Into the Wild          252   \n",
       "63867                                      Fahrenheit 451          409   \n",
       "74750                           Girl with a Pearl Earring          526   \n",
       "136145                                          Outlander          283   \n",
       "233370  Where the Heart Is (Oprah's Book Club (Paperba...          585   \n",
       "156102                     Seabiscuit: An American Legend          275   \n",
       "107962                                         Life of Pi          664   \n",
       "176845                                     The Bean Trees          389   \n",
       "2281    A Child Called \\It\\\": One Child's Courage to S...          265   \n",
       "8434                                       ANGELA'S ASHES          279   \n",
       "76343                                         Good in Bed          490   \n",
       "64931   Fast Food Nation: The Dark Side of the All-Ame...          321   \n",
       "12700                                       American Gods          302   \n",
       "161645                                 Skipping Christmas          322   \n",
       "105777  Left Behind: A Novel of the Earth's Last Days ...          318   \n",
       "189551    The Golden Compass (His Dark Materials, Book 1)          336   \n",
       "181679                                   The Color Purple          314   \n",
       "160336                               Silence of the Lambs          256   \n",
       "8752                                          About a Boy          262   \n",
       "158138                  Seven Up (A Stephanie Plum Novel)          278   \n",
       "175097  The Alchemist: A Fable About Following Your Dream          266   \n",
       "80069   Hard Eight : A Stephanie Plum Novel (A Stephan...          269   \n",
       "170101                       Suzanne's Diary for Nicholas          457   \n",
       "111073                                  Lord of the Flies          259   \n",
       "5664                              A Prayer for Owen Meany          413   \n",
       "212070   The Vampire Lestat (Vampire Chronicles, Book II)          301   \n",
       "233851       White Oleander : A Novel (Oprah's Book Club)          356   \n",
       "\n",
       "        avg_ratings  \n",
       "80434      5.852804  \n",
       "80422      5.824289  \n",
       "80441      5.737410  \n",
       "80426      5.501441  \n",
       "80414      5.183453  \n",
       "191612     5.007117  \n",
       "187377     4.948370  \n",
       "80445      4.895652  \n",
       "211384     4.880769  \n",
       "219741     4.700000  \n",
       "183573     4.642539  \n",
       "187880     4.551163  \n",
       "180556     4.545657  \n",
       "196326     4.468726  \n",
       "764        4.454225  \n",
       "144165     4.450593  \n",
       "128670     4.449057  \n",
       "206502     4.447028  \n",
       "168719     4.356890  \n",
       "223135     4.354970  \n",
       "204387     4.334716  \n",
       "191589     4.328358  \n",
       "129379     4.289552  \n",
       "93381      4.273810  \n",
       "63867      4.264059  \n",
       "74750      4.218631  \n",
       "136145     4.173145  \n",
       "233370     4.105983  \n",
       "156102     4.098182  \n",
       "107962     4.088855  \n",
       "176845     4.087404  \n",
       "2281       4.086792  \n",
       "8434       4.075269  \n",
       "76343      4.055102  \n",
       "64931      4.037383  \n",
       "12700      4.006623  \n",
       "161645     4.006211  \n",
       "105777     4.003145  \n",
       "189551     4.000000  \n",
       "181679     3.964968  \n",
       "160336     3.960938  \n",
       "8752       3.900763  \n",
       "158138     3.888489  \n",
       "175097     3.875940  \n",
       "80069      3.825279  \n",
       "170101     3.820569  \n",
       "111073     3.818533  \n",
       "5664       3.796610  \n",
       "212070     3.777409  \n",
       "233851     3.772472  "
      ]
     },
     "execution_count": 50,
     "metadata": {},
     "output_type": "execute_result"
    }
   ],
   "source": [
    "popular_df"
   ]
  },
  {
   "cell_type": "code",
   "execution_count": 51,
   "id": "45d3f928-1de5-438d-9a5f-d130975698f0",
   "metadata": {},
   "outputs": [],
   "source": [
    "popular_df = popular_df.merge(books, on = 'Book-Title').drop_duplicates('Book-Title')[['Book-Title', 'Book-Author', 'Image-URL-M','num_ratings', 'avg_ratings']]"
   ]
  },
  {
   "cell_type": "markdown",
   "id": "9827c876-7a51-4034-8827-652679edc5fb",
   "metadata": {},
   "source": [
    "Merges popular_df with the books DataFrame to add author and image information.\n",
    "\n",
    "Removes duplicate entries for the same Book-Title.\n",
    "\n",
    "Keeps only relevant columns:\n",
    "\n",
    "Book-Title\n",
    "\n",
    "Book-Author\n",
    "\n",
    "Image-URL-M\n",
    "\n",
    "num_ratings\n",
    "\n",
    "avg_ratings\n",
    "\n",
    "Result: a clean, enriched dataset of top popular books with key details."
   ]
  },
  {
   "cell_type": "code",
   "execution_count": 52,
   "id": "854f9c1f-dba8-45ba-881e-7340b6c8e91e",
   "metadata": {},
   "outputs": [
    {
     "data": {
      "text/plain": [
       "(50, 5)"
      ]
     },
     "execution_count": 52,
     "metadata": {},
     "output_type": "execute_result"
    }
   ],
   "source": [
    "popular_df.shape"
   ]
  },
  {
   "cell_type": "code",
   "execution_count": 53,
   "id": "f0673a1f-ef2b-4f6e-b419-2258b9c41fb9",
   "metadata": {},
   "outputs": [
    {
     "data": {
      "text/html": [
       "<div>\n",
       "<style scoped>\n",
       "    .dataframe tbody tr th:only-of-type {\n",
       "        vertical-align: middle;\n",
       "    }\n",
       "\n",
       "    .dataframe tbody tr th {\n",
       "        vertical-align: top;\n",
       "    }\n",
       "\n",
       "    .dataframe thead th {\n",
       "        text-align: right;\n",
       "    }\n",
       "</style>\n",
       "<table border=\"1\" class=\"dataframe\">\n",
       "  <thead>\n",
       "    <tr style=\"text-align: right;\">\n",
       "      <th></th>\n",
       "      <th>Book-Title</th>\n",
       "      <th>Book-Author</th>\n",
       "      <th>Image-URL-M</th>\n",
       "      <th>num_ratings</th>\n",
       "      <th>avg_ratings</th>\n",
       "    </tr>\n",
       "  </thead>\n",
       "  <tbody>\n",
       "    <tr>\n",
       "      <th>0</th>\n",
       "      <td>Harry Potter and the Prisoner of Azkaban (Book 3)</td>\n",
       "      <td>J. K. Rowling</td>\n",
       "      <td>http://images.amazon.com/images/P/0439136350.0...</td>\n",
       "      <td>428</td>\n",
       "      <td>5.852804</td>\n",
       "    </tr>\n",
       "    <tr>\n",
       "      <th>3</th>\n",
       "      <td>Harry Potter and the Goblet of Fire (Book 4)</td>\n",
       "      <td>J. K. Rowling</td>\n",
       "      <td>http://images.amazon.com/images/P/0439139597.0...</td>\n",
       "      <td>387</td>\n",
       "      <td>5.824289</td>\n",
       "    </tr>\n",
       "    <tr>\n",
       "      <th>5</th>\n",
       "      <td>Harry Potter and the Sorcerer's Stone (Book 1)</td>\n",
       "      <td>J. K. Rowling</td>\n",
       "      <td>http://images.amazon.com/images/P/0590353403.0...</td>\n",
       "      <td>278</td>\n",
       "      <td>5.737410</td>\n",
       "    </tr>\n",
       "    <tr>\n",
       "      <th>9</th>\n",
       "      <td>Harry Potter and the Order of the Phoenix (Boo...</td>\n",
       "      <td>J. K. Rowling</td>\n",
       "      <td>http://images.amazon.com/images/P/043935806X.0...</td>\n",
       "      <td>347</td>\n",
       "      <td>5.501441</td>\n",
       "    </tr>\n",
       "    <tr>\n",
       "      <th>13</th>\n",
       "      <td>Harry Potter and the Chamber of Secrets (Book 2)</td>\n",
       "      <td>J. K. Rowling</td>\n",
       "      <td>http://images.amazon.com/images/P/0439064872.0...</td>\n",
       "      <td>556</td>\n",
       "      <td>5.183453</td>\n",
       "    </tr>\n",
       "    <tr>\n",
       "      <th>16</th>\n",
       "      <td>The Hobbit : The Enchanting Prelude to The Lor...</td>\n",
       "      <td>J.R.R. TOLKIEN</td>\n",
       "      <td>http://images.amazon.com/images/P/0345339681.0...</td>\n",
       "      <td>281</td>\n",
       "      <td>5.007117</td>\n",
       "    </tr>\n",
       "    <tr>\n",
       "      <th>17</th>\n",
       "      <td>The Fellowship of the Ring (The Lord of the Ri...</td>\n",
       "      <td>J.R.R. TOLKIEN</td>\n",
       "      <td>http://images.amazon.com/images/P/0345339703.0...</td>\n",
       "      <td>368</td>\n",
       "      <td>4.948370</td>\n",
       "    </tr>\n",
       "    <tr>\n",
       "      <th>26</th>\n",
       "      <td>Harry Potter and the Sorcerer's Stone (Harry P...</td>\n",
       "      <td>J. K. Rowling</td>\n",
       "      <td>http://images.amazon.com/images/P/059035342X.0...</td>\n",
       "      <td>575</td>\n",
       "      <td>4.895652</td>\n",
       "    </tr>\n",
       "    <tr>\n",
       "      <th>28</th>\n",
       "      <td>The Two Towers (The Lord of the Rings, Part 2)</td>\n",
       "      <td>J.R.R. TOLKIEN</td>\n",
       "      <td>http://images.amazon.com/images/P/0345339711.0...</td>\n",
       "      <td>260</td>\n",
       "      <td>4.880769</td>\n",
       "    </tr>\n",
       "    <tr>\n",
       "      <th>39</th>\n",
       "      <td>To Kill a Mockingbird</td>\n",
       "      <td>Harper Lee</td>\n",
       "      <td>http://images.amazon.com/images/P/0446310786.0...</td>\n",
       "      <td>510</td>\n",
       "      <td>4.700000</td>\n",
       "    </tr>\n",
       "    <tr>\n",
       "      <th>47</th>\n",
       "      <td>The Da Vinci Code</td>\n",
       "      <td>Dan Brown</td>\n",
       "      <td>http://images.amazon.com/images/P/0385504209.0...</td>\n",
       "      <td>898</td>\n",
       "      <td>4.642539</td>\n",
       "    </tr>\n",
       "    <tr>\n",
       "      <th>53</th>\n",
       "      <td>The Five People You Meet in Heaven</td>\n",
       "      <td>Mitch Albom</td>\n",
       "      <td>http://images.amazon.com/images/P/0786868716.0...</td>\n",
       "      <td>430</td>\n",
       "      <td>4.551163</td>\n",
       "    </tr>\n",
       "    <tr>\n",
       "      <th>55</th>\n",
       "      <td>The Catcher in the Rye</td>\n",
       "      <td>J.D. Salinger</td>\n",
       "      <td>http://images.amazon.com/images/P/0316769487.0...</td>\n",
       "      <td>449</td>\n",
       "      <td>4.545657</td>\n",
       "    </tr>\n",
       "    <tr>\n",
       "      <th>62</th>\n",
       "      <td>The Lovely Bones: A Novel</td>\n",
       "      <td>Alice Sebold</td>\n",
       "      <td>http://images.amazon.com/images/P/0316666343.0...</td>\n",
       "      <td>1295</td>\n",
       "      <td>4.468726</td>\n",
       "    </tr>\n",
       "    <tr>\n",
       "      <th>63</th>\n",
       "      <td>1984</td>\n",
       "      <td>George Orwell</td>\n",
       "      <td>http://images.amazon.com/images/P/0451524934.0...</td>\n",
       "      <td>284</td>\n",
       "      <td>4.454225</td>\n",
       "    </tr>\n",
       "    <tr>\n",
       "      <th>72</th>\n",
       "      <td>Prodigal Summer: A Novel</td>\n",
       "      <td>Barbara Kingsolver</td>\n",
       "      <td>http://images.amazon.com/images/P/0060959037.0...</td>\n",
       "      <td>253</td>\n",
       "      <td>4.450593</td>\n",
       "    </tr>\n",
       "    <tr>\n",
       "      <th>73</th>\n",
       "      <td>Neverwhere</td>\n",
       "      <td>Neil Gaiman</td>\n",
       "      <td>http://images.amazon.com/images/P/0380789019.0...</td>\n",
       "      <td>265</td>\n",
       "      <td>4.449057</td>\n",
       "    </tr>\n",
       "    <tr>\n",
       "      <th>78</th>\n",
       "      <td>The Secret Life of Bees</td>\n",
       "      <td>Sue Monk Kidd</td>\n",
       "      <td>http://images.amazon.com/images/P/0142001740.0...</td>\n",
       "      <td>774</td>\n",
       "      <td>4.447028</td>\n",
       "    </tr>\n",
       "    <tr>\n",
       "      <th>84</th>\n",
       "      <td>Stupid White Men ...and Other Sorry Excuses fo...</td>\n",
       "      <td>Michael Moore</td>\n",
       "      <td>http://images.amazon.com/images/P/0060392452.0...</td>\n",
       "      <td>283</td>\n",
       "      <td>4.356890</td>\n",
       "    </tr>\n",
       "    <tr>\n",
       "      <th>85</th>\n",
       "      <td>Tuesdays with Morrie: An Old Man, a Young Man,...</td>\n",
       "      <td>MITCH ALBOM</td>\n",
       "      <td>http://images.amazon.com/images/P/0385484518.0...</td>\n",
       "      <td>493</td>\n",
       "      <td>4.354970</td>\n",
       "    </tr>\n",
       "    <tr>\n",
       "      <th>88</th>\n",
       "      <td>The Red Tent (Bestselling Backlist)</td>\n",
       "      <td>Anita Diamant</td>\n",
       "      <td>http://images.amazon.com/images/P/0312195516.0...</td>\n",
       "      <td>723</td>\n",
       "      <td>4.334716</td>\n",
       "    </tr>\n",
       "    <tr>\n",
       "      <th>89</th>\n",
       "      <td>The Hitchhiker's Guide to the Galaxy</td>\n",
       "      <td>Douglas Adams</td>\n",
       "      <td>http://images.amazon.com/images/P/0671461494.0...</td>\n",
       "      <td>268</td>\n",
       "      <td>4.328358</td>\n",
       "    </tr>\n",
       "    <tr>\n",
       "      <th>98</th>\n",
       "      <td>Nickel and Dimed: On (Not) Getting By in America</td>\n",
       "      <td>Barbara Ehrenreich</td>\n",
       "      <td>http://images.amazon.com/images/P/0805063897.0...</td>\n",
       "      <td>335</td>\n",
       "      <td>4.289552</td>\n",
       "    </tr>\n",
       "    <tr>\n",
       "      <th>100</th>\n",
       "      <td>Into the Wild</td>\n",
       "      <td>Jon Krakauer</td>\n",
       "      <td>http://images.amazon.com/images/P/0385486804.0...</td>\n",
       "      <td>252</td>\n",
       "      <td>4.273810</td>\n",
       "    </tr>\n",
       "    <tr>\n",
       "      <th>103</th>\n",
       "      <td>Fahrenheit 451</td>\n",
       "      <td>Ray Bradbury</td>\n",
       "      <td>http://images.amazon.com/images/P/3257208626.0...</td>\n",
       "      <td>409</td>\n",
       "      <td>4.264059</td>\n",
       "    </tr>\n",
       "    <tr>\n",
       "      <th>116</th>\n",
       "      <td>Girl with a Pearl Earring</td>\n",
       "      <td>Tracy Chevalier</td>\n",
       "      <td>http://images.amazon.com/images/P/0452282152.0...</td>\n",
       "      <td>526</td>\n",
       "      <td>4.218631</td>\n",
       "    </tr>\n",
       "    <tr>\n",
       "      <th>117</th>\n",
       "      <td>Outlander</td>\n",
       "      <td>DIANA GABALDON</td>\n",
       "      <td>http://images.amazon.com/images/P/0440222915.0...</td>\n",
       "      <td>283</td>\n",
       "      <td>4.173145</td>\n",
       "    </tr>\n",
       "    <tr>\n",
       "      <th>123</th>\n",
       "      <td>Where the Heart Is (Oprah's Book Club (Paperba...</td>\n",
       "      <td>Billie Letts</td>\n",
       "      <td>http://images.amazon.com/images/P/0446672211.0...</td>\n",
       "      <td>585</td>\n",
       "      <td>4.105983</td>\n",
       "    </tr>\n",
       "    <tr>\n",
       "      <th>124</th>\n",
       "      <td>Seabiscuit: An American Legend</td>\n",
       "      <td>LAURA HILLENBRAND</td>\n",
       "      <td>http://images.amazon.com/images/P/0449005615.0...</td>\n",
       "      <td>275</td>\n",
       "      <td>4.098182</td>\n",
       "    </tr>\n",
       "    <tr>\n",
       "      <th>126</th>\n",
       "      <td>Life of Pi</td>\n",
       "      <td>Yann Martel</td>\n",
       "      <td>http://images.amazon.com/images/P/0151008116.0...</td>\n",
       "      <td>664</td>\n",
       "      <td>4.088855</td>\n",
       "    </tr>\n",
       "    <tr>\n",
       "      <th>130</th>\n",
       "      <td>The Bean Trees</td>\n",
       "      <td>Barbara Kingsolver</td>\n",
       "      <td>http://images.amazon.com/images/P/0060915544.0...</td>\n",
       "      <td>389</td>\n",
       "      <td>4.087404</td>\n",
       "    </tr>\n",
       "    <tr>\n",
       "      <th>133</th>\n",
       "      <td>A Child Called \\It\\\": One Child's Courage to S...</td>\n",
       "      <td>Dave Pelzer</td>\n",
       "      <td>http://images.amazon.com/images/P/1558743669.0...</td>\n",
       "      <td>265</td>\n",
       "      <td>4.086792</td>\n",
       "    </tr>\n",
       "    <tr>\n",
       "      <th>135</th>\n",
       "      <td>ANGELA'S ASHES</td>\n",
       "      <td>Frank McCourt</td>\n",
       "      <td>http://images.amazon.com/images/P/0684874350.0...</td>\n",
       "      <td>279</td>\n",
       "      <td>4.075269</td>\n",
       "    </tr>\n",
       "    <tr>\n",
       "      <th>137</th>\n",
       "      <td>Good in Bed</td>\n",
       "      <td>Jennifer Weiner</td>\n",
       "      <td>http://images.amazon.com/images/P/0743418174.0...</td>\n",
       "      <td>490</td>\n",
       "      <td>4.055102</td>\n",
       "    </tr>\n",
       "    <tr>\n",
       "      <th>139</th>\n",
       "      <td>Fast Food Nation: The Dark Side of the All-Ame...</td>\n",
       "      <td>Eric Schlosser</td>\n",
       "      <td>http://images.amazon.com/images/P/0060938455.0...</td>\n",
       "      <td>321</td>\n",
       "      <td>4.037383</td>\n",
       "    </tr>\n",
       "    <tr>\n",
       "      <th>140</th>\n",
       "      <td>American Gods</td>\n",
       "      <td>Neil Gaiman</td>\n",
       "      <td>http://images.amazon.com/images/P/0380789035.0...</td>\n",
       "      <td>302</td>\n",
       "      <td>4.006623</td>\n",
       "    </tr>\n",
       "    <tr>\n",
       "      <th>141</th>\n",
       "      <td>Skipping Christmas</td>\n",
       "      <td>JOHN GRISHAM</td>\n",
       "      <td>http://images.amazon.com/images/P/0385505833.0...</td>\n",
       "      <td>322</td>\n",
       "      <td>4.006211</td>\n",
       "    </tr>\n",
       "    <tr>\n",
       "      <th>147</th>\n",
       "      <td>Left Behind: A Novel of the Earth's Last Days ...</td>\n",
       "      <td>Tim Lahaye</td>\n",
       "      <td>http://images.amazon.com/images/P/0842329129.0...</td>\n",
       "      <td>318</td>\n",
       "      <td>4.003145</td>\n",
       "    </tr>\n",
       "    <tr>\n",
       "      <th>149</th>\n",
       "      <td>The Golden Compass (His Dark Materials, Book 1)</td>\n",
       "      <td>PHILIP PULLMAN</td>\n",
       "      <td>http://images.amazon.com/images/P/037582345X.0...</td>\n",
       "      <td>336</td>\n",
       "      <td>4.000000</td>\n",
       "    </tr>\n",
       "    <tr>\n",
       "      <th>157</th>\n",
       "      <td>The Color Purple</td>\n",
       "      <td>Alice Walker</td>\n",
       "      <td>http://images.amazon.com/images/P/0671617028.0...</td>\n",
       "      <td>314</td>\n",
       "      <td>3.964968</td>\n",
       "    </tr>\n",
       "    <tr>\n",
       "      <th>163</th>\n",
       "      <td>Silence of the Lambs</td>\n",
       "      <td>Thomas Harris</td>\n",
       "      <td>http://images.amazon.com/images/P/0312924585.0...</td>\n",
       "      <td>256</td>\n",
       "      <td>3.960938</td>\n",
       "    </tr>\n",
       "    <tr>\n",
       "      <th>166</th>\n",
       "      <td>About a Boy</td>\n",
       "      <td>Nick Hornby</td>\n",
       "      <td>http://images.amazon.com/images/P/1573227331.0...</td>\n",
       "      <td>262</td>\n",
       "      <td>3.900763</td>\n",
       "    </tr>\n",
       "    <tr>\n",
       "      <th>173</th>\n",
       "      <td>Seven Up (A Stephanie Plum Novel)</td>\n",
       "      <td>Janet Evanovich</td>\n",
       "      <td>http://images.amazon.com/images/P/0312265840.0...</td>\n",
       "      <td>278</td>\n",
       "      <td>3.888489</td>\n",
       "    </tr>\n",
       "    <tr>\n",
       "      <th>175</th>\n",
       "      <td>The Alchemist: A Fable About Following Your Dream</td>\n",
       "      <td>Paulo Coelho</td>\n",
       "      <td>http://images.amazon.com/images/P/0062502174.0...</td>\n",
       "      <td>266</td>\n",
       "      <td>3.875940</td>\n",
       "    </tr>\n",
       "    <tr>\n",
       "      <th>177</th>\n",
       "      <td>Hard Eight : A Stephanie Plum Novel (A Stephan...</td>\n",
       "      <td>Janet Evanovich</td>\n",
       "      <td>http://images.amazon.com/images/P/0312983867.0...</td>\n",
       "      <td>269</td>\n",
       "      <td>3.825279</td>\n",
       "    </tr>\n",
       "    <tr>\n",
       "      <th>182</th>\n",
       "      <td>Suzanne's Diary for Nicholas</td>\n",
       "      <td>James Patterson</td>\n",
       "      <td>http://images.amazon.com/images/P/0316969443.0...</td>\n",
       "      <td>457</td>\n",
       "      <td>3.820569</td>\n",
       "    </tr>\n",
       "    <tr>\n",
       "      <th>186</th>\n",
       "      <td>Lord of the Flies</td>\n",
       "      <td>William Gerald Golding</td>\n",
       "      <td>http://images.amazon.com/images/P/0399501487.0...</td>\n",
       "      <td>259</td>\n",
       "      <td>3.818533</td>\n",
       "    </tr>\n",
       "    <tr>\n",
       "      <th>192</th>\n",
       "      <td>A Prayer for Owen Meany</td>\n",
       "      <td>John Irving</td>\n",
       "      <td>http://images.amazon.com/images/P/0345361792.0...</td>\n",
       "      <td>413</td>\n",
       "      <td>3.796610</td>\n",
       "    </tr>\n",
       "    <tr>\n",
       "      <th>194</th>\n",
       "      <td>The Vampire Lestat (Vampire Chronicles, Book II)</td>\n",
       "      <td>ANNE RICE</td>\n",
       "      <td>http://images.amazon.com/images/P/0345313860.0...</td>\n",
       "      <td>301</td>\n",
       "      <td>3.777409</td>\n",
       "    </tr>\n",
       "    <tr>\n",
       "      <th>195</th>\n",
       "      <td>White Oleander : A Novel (Oprah's Book Club)</td>\n",
       "      <td>Janet Fitch</td>\n",
       "      <td>http://images.amazon.com/images/P/0316284955.0...</td>\n",
       "      <td>356</td>\n",
       "      <td>3.772472</td>\n",
       "    </tr>\n",
       "  </tbody>\n",
       "</table>\n",
       "</div>"
      ],
      "text/plain": [
       "                                            Book-Title  \\\n",
       "0    Harry Potter and the Prisoner of Azkaban (Book 3)   \n",
       "3         Harry Potter and the Goblet of Fire (Book 4)   \n",
       "5       Harry Potter and the Sorcerer's Stone (Book 1)   \n",
       "9    Harry Potter and the Order of the Phoenix (Boo...   \n",
       "13    Harry Potter and the Chamber of Secrets (Book 2)   \n",
       "16   The Hobbit : The Enchanting Prelude to The Lor...   \n",
       "17   The Fellowship of the Ring (The Lord of the Ri...   \n",
       "26   Harry Potter and the Sorcerer's Stone (Harry P...   \n",
       "28      The Two Towers (The Lord of the Rings, Part 2)   \n",
       "39                               To Kill a Mockingbird   \n",
       "47                                   The Da Vinci Code   \n",
       "53                  The Five People You Meet in Heaven   \n",
       "55                              The Catcher in the Rye   \n",
       "62                           The Lovely Bones: A Novel   \n",
       "63                                                1984   \n",
       "72                            Prodigal Summer: A Novel   \n",
       "73                                          Neverwhere   \n",
       "78                             The Secret Life of Bees   \n",
       "84   Stupid White Men ...and Other Sorry Excuses fo...   \n",
       "85   Tuesdays with Morrie: An Old Man, a Young Man,...   \n",
       "88                 The Red Tent (Bestselling Backlist)   \n",
       "89                The Hitchhiker's Guide to the Galaxy   \n",
       "98    Nickel and Dimed: On (Not) Getting By in America   \n",
       "100                                      Into the Wild   \n",
       "103                                     Fahrenheit 451   \n",
       "116                          Girl with a Pearl Earring   \n",
       "117                                          Outlander   \n",
       "123  Where the Heart Is (Oprah's Book Club (Paperba...   \n",
       "124                     Seabiscuit: An American Legend   \n",
       "126                                         Life of Pi   \n",
       "130                                     The Bean Trees   \n",
       "133  A Child Called \\It\\\": One Child's Courage to S...   \n",
       "135                                     ANGELA'S ASHES   \n",
       "137                                        Good in Bed   \n",
       "139  Fast Food Nation: The Dark Side of the All-Ame...   \n",
       "140                                      American Gods   \n",
       "141                                 Skipping Christmas   \n",
       "147  Left Behind: A Novel of the Earth's Last Days ...   \n",
       "149    The Golden Compass (His Dark Materials, Book 1)   \n",
       "157                                   The Color Purple   \n",
       "163                               Silence of the Lambs   \n",
       "166                                        About a Boy   \n",
       "173                  Seven Up (A Stephanie Plum Novel)   \n",
       "175  The Alchemist: A Fable About Following Your Dream   \n",
       "177  Hard Eight : A Stephanie Plum Novel (A Stephan...   \n",
       "182                       Suzanne's Diary for Nicholas   \n",
       "186                                  Lord of the Flies   \n",
       "192                            A Prayer for Owen Meany   \n",
       "194   The Vampire Lestat (Vampire Chronicles, Book II)   \n",
       "195       White Oleander : A Novel (Oprah's Book Club)   \n",
       "\n",
       "                Book-Author  \\\n",
       "0             J. K. Rowling   \n",
       "3             J. K. Rowling   \n",
       "5             J. K. Rowling   \n",
       "9             J. K. Rowling   \n",
       "13            J. K. Rowling   \n",
       "16           J.R.R. TOLKIEN   \n",
       "17           J.R.R. TOLKIEN   \n",
       "26            J. K. Rowling   \n",
       "28           J.R.R. TOLKIEN   \n",
       "39               Harper Lee   \n",
       "47                Dan Brown   \n",
       "53              Mitch Albom   \n",
       "55            J.D. Salinger   \n",
       "62             Alice Sebold   \n",
       "63            George Orwell   \n",
       "72       Barbara Kingsolver   \n",
       "73              Neil Gaiman   \n",
       "78            Sue Monk Kidd   \n",
       "84            Michael Moore   \n",
       "85              MITCH ALBOM   \n",
       "88            Anita Diamant   \n",
       "89            Douglas Adams   \n",
       "98       Barbara Ehrenreich   \n",
       "100            Jon Krakauer   \n",
       "103            Ray Bradbury   \n",
       "116         Tracy Chevalier   \n",
       "117          DIANA GABALDON   \n",
       "123            Billie Letts   \n",
       "124       LAURA HILLENBRAND   \n",
       "126             Yann Martel   \n",
       "130      Barbara Kingsolver   \n",
       "133             Dave Pelzer   \n",
       "135           Frank McCourt   \n",
       "137         Jennifer Weiner   \n",
       "139          Eric Schlosser   \n",
       "140             Neil Gaiman   \n",
       "141            JOHN GRISHAM   \n",
       "147              Tim Lahaye   \n",
       "149          PHILIP PULLMAN   \n",
       "157            Alice Walker   \n",
       "163           Thomas Harris   \n",
       "166             Nick Hornby   \n",
       "173         Janet Evanovich   \n",
       "175            Paulo Coelho   \n",
       "177         Janet Evanovich   \n",
       "182         James Patterson   \n",
       "186  William Gerald Golding   \n",
       "192             John Irving   \n",
       "194               ANNE RICE   \n",
       "195             Janet Fitch   \n",
       "\n",
       "                                           Image-URL-M  num_ratings  \\\n",
       "0    http://images.amazon.com/images/P/0439136350.0...          428   \n",
       "3    http://images.amazon.com/images/P/0439139597.0...          387   \n",
       "5    http://images.amazon.com/images/P/0590353403.0...          278   \n",
       "9    http://images.amazon.com/images/P/043935806X.0...          347   \n",
       "13   http://images.amazon.com/images/P/0439064872.0...          556   \n",
       "16   http://images.amazon.com/images/P/0345339681.0...          281   \n",
       "17   http://images.amazon.com/images/P/0345339703.0...          368   \n",
       "26   http://images.amazon.com/images/P/059035342X.0...          575   \n",
       "28   http://images.amazon.com/images/P/0345339711.0...          260   \n",
       "39   http://images.amazon.com/images/P/0446310786.0...          510   \n",
       "47   http://images.amazon.com/images/P/0385504209.0...          898   \n",
       "53   http://images.amazon.com/images/P/0786868716.0...          430   \n",
       "55   http://images.amazon.com/images/P/0316769487.0...          449   \n",
       "62   http://images.amazon.com/images/P/0316666343.0...         1295   \n",
       "63   http://images.amazon.com/images/P/0451524934.0...          284   \n",
       "72   http://images.amazon.com/images/P/0060959037.0...          253   \n",
       "73   http://images.amazon.com/images/P/0380789019.0...          265   \n",
       "78   http://images.amazon.com/images/P/0142001740.0...          774   \n",
       "84   http://images.amazon.com/images/P/0060392452.0...          283   \n",
       "85   http://images.amazon.com/images/P/0385484518.0...          493   \n",
       "88   http://images.amazon.com/images/P/0312195516.0...          723   \n",
       "89   http://images.amazon.com/images/P/0671461494.0...          268   \n",
       "98   http://images.amazon.com/images/P/0805063897.0...          335   \n",
       "100  http://images.amazon.com/images/P/0385486804.0...          252   \n",
       "103  http://images.amazon.com/images/P/3257208626.0...          409   \n",
       "116  http://images.amazon.com/images/P/0452282152.0...          526   \n",
       "117  http://images.amazon.com/images/P/0440222915.0...          283   \n",
       "123  http://images.amazon.com/images/P/0446672211.0...          585   \n",
       "124  http://images.amazon.com/images/P/0449005615.0...          275   \n",
       "126  http://images.amazon.com/images/P/0151008116.0...          664   \n",
       "130  http://images.amazon.com/images/P/0060915544.0...          389   \n",
       "133  http://images.amazon.com/images/P/1558743669.0...          265   \n",
       "135  http://images.amazon.com/images/P/0684874350.0...          279   \n",
       "137  http://images.amazon.com/images/P/0743418174.0...          490   \n",
       "139  http://images.amazon.com/images/P/0060938455.0...          321   \n",
       "140  http://images.amazon.com/images/P/0380789035.0...          302   \n",
       "141  http://images.amazon.com/images/P/0385505833.0...          322   \n",
       "147  http://images.amazon.com/images/P/0842329129.0...          318   \n",
       "149  http://images.amazon.com/images/P/037582345X.0...          336   \n",
       "157  http://images.amazon.com/images/P/0671617028.0...          314   \n",
       "163  http://images.amazon.com/images/P/0312924585.0...          256   \n",
       "166  http://images.amazon.com/images/P/1573227331.0...          262   \n",
       "173  http://images.amazon.com/images/P/0312265840.0...          278   \n",
       "175  http://images.amazon.com/images/P/0062502174.0...          266   \n",
       "177  http://images.amazon.com/images/P/0312983867.0...          269   \n",
       "182  http://images.amazon.com/images/P/0316969443.0...          457   \n",
       "186  http://images.amazon.com/images/P/0399501487.0...          259   \n",
       "192  http://images.amazon.com/images/P/0345361792.0...          413   \n",
       "194  http://images.amazon.com/images/P/0345313860.0...          301   \n",
       "195  http://images.amazon.com/images/P/0316284955.0...          356   \n",
       "\n",
       "     avg_ratings  \n",
       "0       5.852804  \n",
       "3       5.824289  \n",
       "5       5.737410  \n",
       "9       5.501441  \n",
       "13      5.183453  \n",
       "16      5.007117  \n",
       "17      4.948370  \n",
       "26      4.895652  \n",
       "28      4.880769  \n",
       "39      4.700000  \n",
       "47      4.642539  \n",
       "53      4.551163  \n",
       "55      4.545657  \n",
       "62      4.468726  \n",
       "63      4.454225  \n",
       "72      4.450593  \n",
       "73      4.449057  \n",
       "78      4.447028  \n",
       "84      4.356890  \n",
       "85      4.354970  \n",
       "88      4.334716  \n",
       "89      4.328358  \n",
       "98      4.289552  \n",
       "100     4.273810  \n",
       "103     4.264059  \n",
       "116     4.218631  \n",
       "117     4.173145  \n",
       "123     4.105983  \n",
       "124     4.098182  \n",
       "126     4.088855  \n",
       "130     4.087404  \n",
       "133     4.086792  \n",
       "135     4.075269  \n",
       "137     4.055102  \n",
       "139     4.037383  \n",
       "140     4.006623  \n",
       "141     4.006211  \n",
       "147     4.003145  \n",
       "149     4.000000  \n",
       "157     3.964968  \n",
       "163     3.960938  \n",
       "166     3.900763  \n",
       "173     3.888489  \n",
       "175     3.875940  \n",
       "177     3.825279  \n",
       "182     3.820569  \n",
       "186     3.818533  \n",
       "192     3.796610  \n",
       "194     3.777409  \n",
       "195     3.772472  "
      ]
     },
     "execution_count": 53,
     "metadata": {},
     "output_type": "execute_result"
    }
   ],
   "source": [
    "popular_df"
   ]
  },
  {
   "cell_type": "markdown",
   "id": "cafec3b2-a2e9-4279-931a-e0fdb80c3966",
   "metadata": {},
   "source": [
    "## collaborative filtering based recommendation system"
   ]
  },
  {
   "cell_type": "code",
   "execution_count": 54,
   "id": "7f9144da-cb8c-4296-8a9a-1023aada46f2",
   "metadata": {},
   "outputs": [],
   "source": [
    "x=ratings_with_name.groupby('User-ID').count()['Book-Rating']>200\n",
    "book_readers= x[x].index"
   ]
  },
  {
   "cell_type": "markdown",
   "id": "ef83dae4-9461-41ed-a874-ab45f1a3aff9",
   "metadata": {},
   "source": [
    "Groups ratings_with_name by User-ID and counts how many books each user has rated.\n",
    "\n",
    "Creates a boolean mask for users who rated more than 200 books.\n",
    "\n",
    "Extracts the User-IDs of these highly active users into book_readers.\n",
    "\n",
    "Result: identifies top readers who rate many books."
   ]
  },
  {
   "cell_type": "code",
   "execution_count": 55,
   "id": "91571095-ff22-4fe2-9219-687a53155405",
   "metadata": {},
   "outputs": [],
   "source": [
    "filtered_rating = ratings_with_name[ratings_with_name['User-ID'].isin(book_readers)]"
   ]
  },
  {
   "cell_type": "markdown",
   "id": "08c679a1-e6d4-40a8-aee3-aa542f98c0fe",
   "metadata": {},
   "source": [
    "Filters ratings_with_name to include only ratings by highly active users (book_readers).\n",
    "\n",
    "Creates filtered_rating DataFrame with ratings from users who rated >200 books.\n",
    "\n",
    "Focuses analysis on engaged users for more reliable recommendations."
   ]
  },
  {
   "cell_type": "code",
   "execution_count": 56,
   "id": "276e6a05-bcf9-4f8e-b406-1b8dac1b6db4",
   "metadata": {},
   "outputs": [],
   "source": [
    "y = filtered_rating.groupby('Book-Title').count()['Book-Rating']>50"
   ]
  },
  {
   "cell_type": "markdown",
   "id": "2ad01096-387e-40a0-8b4c-7d00f927f2f9",
   "metadata": {},
   "source": [
    "Groups filtered_rating by Book-Title and counts the number of ratings per book.\n",
    "\n",
    "Creates a boolean mask for books with more than 50 ratings.\n",
    "\n",
    "Helps focus on books that are sufficiently rated by active users."
   ]
  },
  {
   "cell_type": "code",
   "execution_count": 57,
   "id": "b1a24c40-526f-4d6b-9737-92b1cc204850",
   "metadata": {},
   "outputs": [],
   "source": [
    "famous_books= y[y].index"
   ]
  },
  {
   "cell_type": "markdown",
   "id": "2286d207-6390-43f8-9444-30b65dc37b71",
   "metadata": {},
   "source": [
    "Extracts the titles of books that have more than 50 ratings from highly active users.\n",
    "\n",
    "Stores these book titles in famous_books.\n",
    "\n",
    "Result: identifies popular and well-rated books among engaged readers."
   ]
  },
  {
   "cell_type": "code",
   "execution_count": 58,
   "id": "31234fbc-7e59-43db-9fda-3071754f339d",
   "metadata": {},
   "outputs": [
    {
     "data": {
      "text/plain": [
       "Index(['1984', '1st to Die: A Novel', '2nd Chance', '4 Blondes',\n",
       "       'A Bend in the Road', 'A Case of Need',\n",
       "       'A Child Called \\It\\\": One Child's Courage to Survive\"',\n",
       "       'A Civil Action', 'A Day Late and a Dollar Short', 'A Fine Balance',\n",
       "       ...\n",
       "       'Winter Solstice', 'Wish You Well', 'Without Remorse',\n",
       "       'Wizard and Glass (The Dark Tower, Book 4)', 'Wuthering Heights',\n",
       "       'Year of Wonders', 'You Belong To Me',\n",
       "       'Zen and the Art of Motorcycle Maintenance: An Inquiry into Values',\n",
       "       'Zoya', '\\O\\\" Is for Outlaw\"'],\n",
       "      dtype='object', name='Book-Title', length=679)"
      ]
     },
     "execution_count": 58,
     "metadata": {},
     "output_type": "execute_result"
    }
   ],
   "source": [
    "famous_books"
   ]
  },
  {
   "cell_type": "code",
   "execution_count": 59,
   "id": "296d8a9f-67c2-46cc-b4a5-2cf1c35a6cf7",
   "metadata": {},
   "outputs": [],
   "source": [
    "final_ratings=filtered_rating[filtered_rating['Book-Title'].isin(famous_books)]"
   ]
  },
  {
   "cell_type": "markdown",
   "id": "5a07e843-4c46-44ef-9bfe-6dac60c8ca7c",
   "metadata": {},
   "source": [
    "Filters filtered_rating to include only books in famous_books.\n",
    "\n",
    "Creates final_ratings containing ratings of popular books by highly active users.\n",
    "\n",
    "Result: a refined dataset for building a recommendation system."
   ]
  },
  {
   "cell_type": "code",
   "execution_count": 60,
   "id": "f64f946c-2b48-4ec4-9574-b1c3cd7c5eb8",
   "metadata": {},
   "outputs": [],
   "source": [
    "pt = final_ratings.pivot_table(index='Book-Title',columns='User-ID',values='Book-Rating')"
   ]
  },
  {
   "cell_type": "markdown",
   "id": "0472791d-0eaa-4e5e-8f03-10b3d30b872a",
   "metadata": {},
   "source": [
    "Creates a pivot table pt from final_ratings.\n",
    "\n",
    "Rows: Book-Title\n",
    "\n",
    "Columns: User-ID\n",
    "\n",
    "Values: Book-Rating\n",
    "\n",
    "Result: a user-item matrix for collaborative filtering or recommendation analysis."
   ]
  },
  {
   "cell_type": "code",
   "execution_count": 61,
   "id": "08e9e740-63cc-41ae-8bab-ebeb3c8ba8ff",
   "metadata": {},
   "outputs": [],
   "source": [
    "pt.fillna(0,inplace = True)"
   ]
  },
  {
   "cell_type": "markdown",
   "id": "f1381252-240c-4b0c-982e-adaf084b327d",
   "metadata": {},
   "source": [
    "Replaces all missing values (NaN) in the pivot table pt with 0.\n",
    "\n",
    "Ensures the user-item matrix is complete for calculations like similarity or model training.\n",
    "\n",
    "Missing ratings now indicate no rating given."
   ]
  },
  {
   "cell_type": "code",
   "execution_count": 62,
   "id": "2b614a27-d826-4664-a7fd-c86270d1d93d",
   "metadata": {},
   "outputs": [
    {
     "data": {
      "text/html": [
       "<div>\n",
       "<style scoped>\n",
       "    .dataframe tbody tr th:only-of-type {\n",
       "        vertical-align: middle;\n",
       "    }\n",
       "\n",
       "    .dataframe tbody tr th {\n",
       "        vertical-align: top;\n",
       "    }\n",
       "\n",
       "    .dataframe thead th {\n",
       "        text-align: right;\n",
       "    }\n",
       "</style>\n",
       "<table border=\"1\" class=\"dataframe\">\n",
       "  <thead>\n",
       "    <tr style=\"text-align: right;\">\n",
       "      <th>User-ID</th>\n",
       "      <th>254</th>\n",
       "      <th>2276</th>\n",
       "      <th>2766</th>\n",
       "      <th>2977</th>\n",
       "      <th>3363</th>\n",
       "      <th>4017</th>\n",
       "      <th>4385</th>\n",
       "      <th>6251</th>\n",
       "      <th>6323</th>\n",
       "      <th>6543</th>\n",
       "      <th>...</th>\n",
       "      <th>271705</th>\n",
       "      <th>273979</th>\n",
       "      <th>274004</th>\n",
       "      <th>274061</th>\n",
       "      <th>274301</th>\n",
       "      <th>274308</th>\n",
       "      <th>275970</th>\n",
       "      <th>277427</th>\n",
       "      <th>277639</th>\n",
       "      <th>278418</th>\n",
       "    </tr>\n",
       "    <tr>\n",
       "      <th>Book-Title</th>\n",
       "      <th></th>\n",
       "      <th></th>\n",
       "      <th></th>\n",
       "      <th></th>\n",
       "      <th></th>\n",
       "      <th></th>\n",
       "      <th></th>\n",
       "      <th></th>\n",
       "      <th></th>\n",
       "      <th></th>\n",
       "      <th></th>\n",
       "      <th></th>\n",
       "      <th></th>\n",
       "      <th></th>\n",
       "      <th></th>\n",
       "      <th></th>\n",
       "      <th></th>\n",
       "      <th></th>\n",
       "      <th></th>\n",
       "      <th></th>\n",
       "      <th></th>\n",
       "    </tr>\n",
       "  </thead>\n",
       "  <tbody>\n",
       "    <tr>\n",
       "      <th>1984</th>\n",
       "      <td>9.0</td>\n",
       "      <td>0.0</td>\n",
       "      <td>0.0</td>\n",
       "      <td>0.0</td>\n",
       "      <td>0.0</td>\n",
       "      <td>0.0</td>\n",
       "      <td>0.0</td>\n",
       "      <td>0.0</td>\n",
       "      <td>0.0</td>\n",
       "      <td>0.0</td>\n",
       "      <td>...</td>\n",
       "      <td>10.0</td>\n",
       "      <td>0.0</td>\n",
       "      <td>0.0</td>\n",
       "      <td>0.0</td>\n",
       "      <td>0.0</td>\n",
       "      <td>0.0</td>\n",
       "      <td>0.0</td>\n",
       "      <td>0.0</td>\n",
       "      <td>0.0</td>\n",
       "      <td>0.0</td>\n",
       "    </tr>\n",
       "    <tr>\n",
       "      <th>1st to Die: A Novel</th>\n",
       "      <td>0.0</td>\n",
       "      <td>0.0</td>\n",
       "      <td>0.0</td>\n",
       "      <td>0.0</td>\n",
       "      <td>0.0</td>\n",
       "      <td>0.0</td>\n",
       "      <td>0.0</td>\n",
       "      <td>0.0</td>\n",
       "      <td>0.0</td>\n",
       "      <td>9.0</td>\n",
       "      <td>...</td>\n",
       "      <td>0.0</td>\n",
       "      <td>0.0</td>\n",
       "      <td>0.0</td>\n",
       "      <td>0.0</td>\n",
       "      <td>0.0</td>\n",
       "      <td>0.0</td>\n",
       "      <td>0.0</td>\n",
       "      <td>0.0</td>\n",
       "      <td>0.0</td>\n",
       "      <td>0.0</td>\n",
       "    </tr>\n",
       "    <tr>\n",
       "      <th>2nd Chance</th>\n",
       "      <td>0.0</td>\n",
       "      <td>10.0</td>\n",
       "      <td>0.0</td>\n",
       "      <td>0.0</td>\n",
       "      <td>0.0</td>\n",
       "      <td>0.0</td>\n",
       "      <td>0.0</td>\n",
       "      <td>0.0</td>\n",
       "      <td>0.0</td>\n",
       "      <td>0.0</td>\n",
       "      <td>...</td>\n",
       "      <td>0.0</td>\n",
       "      <td>0.0</td>\n",
       "      <td>0.0</td>\n",
       "      <td>0.0</td>\n",
       "      <td>0.0</td>\n",
       "      <td>0.0</td>\n",
       "      <td>0.0</td>\n",
       "      <td>0.0</td>\n",
       "      <td>0.0</td>\n",
       "      <td>0.0</td>\n",
       "    </tr>\n",
       "    <tr>\n",
       "      <th>4 Blondes</th>\n",
       "      <td>0.0</td>\n",
       "      <td>0.0</td>\n",
       "      <td>0.0</td>\n",
       "      <td>0.0</td>\n",
       "      <td>0.0</td>\n",
       "      <td>0.0</td>\n",
       "      <td>0.0</td>\n",
       "      <td>0.0</td>\n",
       "      <td>0.0</td>\n",
       "      <td>0.0</td>\n",
       "      <td>...</td>\n",
       "      <td>0.0</td>\n",
       "      <td>0.0</td>\n",
       "      <td>0.0</td>\n",
       "      <td>0.0</td>\n",
       "      <td>0.0</td>\n",
       "      <td>0.0</td>\n",
       "      <td>0.0</td>\n",
       "      <td>0.0</td>\n",
       "      <td>0.0</td>\n",
       "      <td>0.0</td>\n",
       "    </tr>\n",
       "    <tr>\n",
       "      <th>A Bend in the Road</th>\n",
       "      <td>0.0</td>\n",
       "      <td>0.0</td>\n",
       "      <td>7.0</td>\n",
       "      <td>0.0</td>\n",
       "      <td>0.0</td>\n",
       "      <td>0.0</td>\n",
       "      <td>0.0</td>\n",
       "      <td>0.0</td>\n",
       "      <td>0.0</td>\n",
       "      <td>0.0</td>\n",
       "      <td>...</td>\n",
       "      <td>0.0</td>\n",
       "      <td>0.0</td>\n",
       "      <td>0.0</td>\n",
       "      <td>0.0</td>\n",
       "      <td>0.0</td>\n",
       "      <td>0.0</td>\n",
       "      <td>0.0</td>\n",
       "      <td>0.0</td>\n",
       "      <td>0.0</td>\n",
       "      <td>0.0</td>\n",
       "    </tr>\n",
       "    <tr>\n",
       "      <th>...</th>\n",
       "      <td>...</td>\n",
       "      <td>...</td>\n",
       "      <td>...</td>\n",
       "      <td>...</td>\n",
       "      <td>...</td>\n",
       "      <td>...</td>\n",
       "      <td>...</td>\n",
       "      <td>...</td>\n",
       "      <td>...</td>\n",
       "      <td>...</td>\n",
       "      <td>...</td>\n",
       "      <td>...</td>\n",
       "      <td>...</td>\n",
       "      <td>...</td>\n",
       "      <td>...</td>\n",
       "      <td>...</td>\n",
       "      <td>...</td>\n",
       "      <td>...</td>\n",
       "      <td>...</td>\n",
       "      <td>...</td>\n",
       "      <td>...</td>\n",
       "    </tr>\n",
       "    <tr>\n",
       "      <th>Year of Wonders</th>\n",
       "      <td>0.0</td>\n",
       "      <td>0.0</td>\n",
       "      <td>0.0</td>\n",
       "      <td>7.0</td>\n",
       "      <td>0.0</td>\n",
       "      <td>0.0</td>\n",
       "      <td>0.0</td>\n",
       "      <td>0.0</td>\n",
       "      <td>0.0</td>\n",
       "      <td>0.0</td>\n",
       "      <td>...</td>\n",
       "      <td>0.0</td>\n",
       "      <td>9.0</td>\n",
       "      <td>0.0</td>\n",
       "      <td>0.0</td>\n",
       "      <td>0.0</td>\n",
       "      <td>0.0</td>\n",
       "      <td>0.0</td>\n",
       "      <td>0.0</td>\n",
       "      <td>0.0</td>\n",
       "      <td>0.0</td>\n",
       "    </tr>\n",
       "    <tr>\n",
       "      <th>You Belong To Me</th>\n",
       "      <td>0.0</td>\n",
       "      <td>0.0</td>\n",
       "      <td>0.0</td>\n",
       "      <td>0.0</td>\n",
       "      <td>0.0</td>\n",
       "      <td>0.0</td>\n",
       "      <td>0.0</td>\n",
       "      <td>0.0</td>\n",
       "      <td>0.0</td>\n",
       "      <td>0.0</td>\n",
       "      <td>...</td>\n",
       "      <td>0.0</td>\n",
       "      <td>0.0</td>\n",
       "      <td>0.0</td>\n",
       "      <td>0.0</td>\n",
       "      <td>0.0</td>\n",
       "      <td>0.0</td>\n",
       "      <td>0.0</td>\n",
       "      <td>0.0</td>\n",
       "      <td>0.0</td>\n",
       "      <td>0.0</td>\n",
       "    </tr>\n",
       "    <tr>\n",
       "      <th>Zen and the Art of Motorcycle Maintenance: An Inquiry into Values</th>\n",
       "      <td>0.0</td>\n",
       "      <td>0.0</td>\n",
       "      <td>0.0</td>\n",
       "      <td>0.0</td>\n",
       "      <td>0.0</td>\n",
       "      <td>0.0</td>\n",
       "      <td>0.0</td>\n",
       "      <td>0.0</td>\n",
       "      <td>0.0</td>\n",
       "      <td>0.0</td>\n",
       "      <td>...</td>\n",
       "      <td>0.0</td>\n",
       "      <td>0.0</td>\n",
       "      <td>0.0</td>\n",
       "      <td>0.0</td>\n",
       "      <td>0.0</td>\n",
       "      <td>0.0</td>\n",
       "      <td>0.0</td>\n",
       "      <td>0.0</td>\n",
       "      <td>0.0</td>\n",
       "      <td>0.0</td>\n",
       "    </tr>\n",
       "    <tr>\n",
       "      <th>Zoya</th>\n",
       "      <td>0.0</td>\n",
       "      <td>0.0</td>\n",
       "      <td>0.0</td>\n",
       "      <td>0.0</td>\n",
       "      <td>0.0</td>\n",
       "      <td>0.0</td>\n",
       "      <td>0.0</td>\n",
       "      <td>0.0</td>\n",
       "      <td>0.0</td>\n",
       "      <td>0.0</td>\n",
       "      <td>...</td>\n",
       "      <td>0.0</td>\n",
       "      <td>0.0</td>\n",
       "      <td>0.0</td>\n",
       "      <td>0.0</td>\n",
       "      <td>0.0</td>\n",
       "      <td>0.0</td>\n",
       "      <td>0.0</td>\n",
       "      <td>0.0</td>\n",
       "      <td>0.0</td>\n",
       "      <td>0.0</td>\n",
       "    </tr>\n",
       "    <tr>\n",
       "      <th>\\O\\\" Is for Outlaw\"</th>\n",
       "      <td>0.0</td>\n",
       "      <td>0.0</td>\n",
       "      <td>0.0</td>\n",
       "      <td>0.0</td>\n",
       "      <td>0.0</td>\n",
       "      <td>0.0</td>\n",
       "      <td>0.0</td>\n",
       "      <td>0.0</td>\n",
       "      <td>0.0</td>\n",
       "      <td>0.0</td>\n",
       "      <td>...</td>\n",
       "      <td>0.0</td>\n",
       "      <td>0.0</td>\n",
       "      <td>0.0</td>\n",
       "      <td>0.0</td>\n",
       "      <td>8.0</td>\n",
       "      <td>0.0</td>\n",
       "      <td>0.0</td>\n",
       "      <td>0.0</td>\n",
       "      <td>0.0</td>\n",
       "      <td>0.0</td>\n",
       "    </tr>\n",
       "  </tbody>\n",
       "</table>\n",
       "<p>679 rows × 810 columns</p>\n",
       "</div>"
      ],
      "text/plain": [
       "User-ID                                             254     2276    2766    \\\n",
       "Book-Title                                                                   \n",
       "1984                                                   9.0     0.0     0.0   \n",
       "1st to Die: A Novel                                    0.0     0.0     0.0   \n",
       "2nd Chance                                             0.0    10.0     0.0   \n",
       "4 Blondes                                              0.0     0.0     0.0   \n",
       "A Bend in the Road                                     0.0     0.0     7.0   \n",
       "...                                                    ...     ...     ...   \n",
       "Year of Wonders                                        0.0     0.0     0.0   \n",
       "You Belong To Me                                       0.0     0.0     0.0   \n",
       "Zen and the Art of Motorcycle Maintenance: An I...     0.0     0.0     0.0   \n",
       "Zoya                                                   0.0     0.0     0.0   \n",
       "\\O\\\" Is for Outlaw\"                                    0.0     0.0     0.0   \n",
       "\n",
       "User-ID                                             2977    3363    4017    \\\n",
       "Book-Title                                                                   \n",
       "1984                                                   0.0     0.0     0.0   \n",
       "1st to Die: A Novel                                    0.0     0.0     0.0   \n",
       "2nd Chance                                             0.0     0.0     0.0   \n",
       "4 Blondes                                              0.0     0.0     0.0   \n",
       "A Bend in the Road                                     0.0     0.0     0.0   \n",
       "...                                                    ...     ...     ...   \n",
       "Year of Wonders                                        7.0     0.0     0.0   \n",
       "You Belong To Me                                       0.0     0.0     0.0   \n",
       "Zen and the Art of Motorcycle Maintenance: An I...     0.0     0.0     0.0   \n",
       "Zoya                                                   0.0     0.0     0.0   \n",
       "\\O\\\" Is for Outlaw\"                                    0.0     0.0     0.0   \n",
       "\n",
       "User-ID                                             4385    6251    6323    \\\n",
       "Book-Title                                                                   \n",
       "1984                                                   0.0     0.0     0.0   \n",
       "1st to Die: A Novel                                    0.0     0.0     0.0   \n",
       "2nd Chance                                             0.0     0.0     0.0   \n",
       "4 Blondes                                              0.0     0.0     0.0   \n",
       "A Bend in the Road                                     0.0     0.0     0.0   \n",
       "...                                                    ...     ...     ...   \n",
       "Year of Wonders                                        0.0     0.0     0.0   \n",
       "You Belong To Me                                       0.0     0.0     0.0   \n",
       "Zen and the Art of Motorcycle Maintenance: An I...     0.0     0.0     0.0   \n",
       "Zoya                                                   0.0     0.0     0.0   \n",
       "\\O\\\" Is for Outlaw\"                                    0.0     0.0     0.0   \n",
       "\n",
       "User-ID                                             6543    ...  271705  \\\n",
       "Book-Title                                                  ...           \n",
       "1984                                                   0.0  ...    10.0   \n",
       "1st to Die: A Novel                                    9.0  ...     0.0   \n",
       "2nd Chance                                             0.0  ...     0.0   \n",
       "4 Blondes                                              0.0  ...     0.0   \n",
       "A Bend in the Road                                     0.0  ...     0.0   \n",
       "...                                                    ...  ...     ...   \n",
       "Year of Wonders                                        0.0  ...     0.0   \n",
       "You Belong To Me                                       0.0  ...     0.0   \n",
       "Zen and the Art of Motorcycle Maintenance: An I...     0.0  ...     0.0   \n",
       "Zoya                                                   0.0  ...     0.0   \n",
       "\\O\\\" Is for Outlaw\"                                    0.0  ...     0.0   \n",
       "\n",
       "User-ID                                             273979  274004  274061  \\\n",
       "Book-Title                                                                   \n",
       "1984                                                   0.0     0.0     0.0   \n",
       "1st to Die: A Novel                                    0.0     0.0     0.0   \n",
       "2nd Chance                                             0.0     0.0     0.0   \n",
       "4 Blondes                                              0.0     0.0     0.0   \n",
       "A Bend in the Road                                     0.0     0.0     0.0   \n",
       "...                                                    ...     ...     ...   \n",
       "Year of Wonders                                        9.0     0.0     0.0   \n",
       "You Belong To Me                                       0.0     0.0     0.0   \n",
       "Zen and the Art of Motorcycle Maintenance: An I...     0.0     0.0     0.0   \n",
       "Zoya                                                   0.0     0.0     0.0   \n",
       "\\O\\\" Is for Outlaw\"                                    0.0     0.0     0.0   \n",
       "\n",
       "User-ID                                             274301  274308  275970  \\\n",
       "Book-Title                                                                   \n",
       "1984                                                   0.0     0.0     0.0   \n",
       "1st to Die: A Novel                                    0.0     0.0     0.0   \n",
       "2nd Chance                                             0.0     0.0     0.0   \n",
       "4 Blondes                                              0.0     0.0     0.0   \n",
       "A Bend in the Road                                     0.0     0.0     0.0   \n",
       "...                                                    ...     ...     ...   \n",
       "Year of Wonders                                        0.0     0.0     0.0   \n",
       "You Belong To Me                                       0.0     0.0     0.0   \n",
       "Zen and the Art of Motorcycle Maintenance: An I...     0.0     0.0     0.0   \n",
       "Zoya                                                   0.0     0.0     0.0   \n",
       "\\O\\\" Is for Outlaw\"                                    8.0     0.0     0.0   \n",
       "\n",
       "User-ID                                             277427  277639  278418  \n",
       "Book-Title                                                                  \n",
       "1984                                                   0.0     0.0     0.0  \n",
       "1st to Die: A Novel                                    0.0     0.0     0.0  \n",
       "2nd Chance                                             0.0     0.0     0.0  \n",
       "4 Blondes                                              0.0     0.0     0.0  \n",
       "A Bend in the Road                                     0.0     0.0     0.0  \n",
       "...                                                    ...     ...     ...  \n",
       "Year of Wonders                                        0.0     0.0     0.0  \n",
       "You Belong To Me                                       0.0     0.0     0.0  \n",
       "Zen and the Art of Motorcycle Maintenance: An I...     0.0     0.0     0.0  \n",
       "Zoya                                                   0.0     0.0     0.0  \n",
       "\\O\\\" Is for Outlaw\"                                    0.0     0.0     0.0  \n",
       "\n",
       "[679 rows x 810 columns]"
      ]
     },
     "execution_count": 62,
     "metadata": {},
     "output_type": "execute_result"
    }
   ],
   "source": [
    "pt"
   ]
  },
  {
   "cell_type": "code",
   "execution_count": 63,
   "id": "a96fd478-3583-4977-93b1-a0b67bc71e10",
   "metadata": {},
   "outputs": [],
   "source": [
    "from sklearn.metrics.pairwise import cosine_similarity"
   ]
  },
  {
   "cell_type": "code",
   "execution_count": 64,
   "id": "6b69057c-8d9b-4e39-88c5-36445ff80182",
   "metadata": {},
   "outputs": [],
   "source": [
    "similarity_scores = cosine_similarity(pt)"
   ]
  },
  {
   "cell_type": "code",
   "execution_count": 65,
   "id": "6ab51169-947f-4104-b69b-224368ee91a1",
   "metadata": {},
   "outputs": [
    {
     "data": {
      "text/plain": [
       "(679, 679)"
      ]
     },
     "execution_count": 65,
     "metadata": {},
     "output_type": "execute_result"
    }
   ],
   "source": [
    "similarity_scores.shape"
   ]
  },
  {
   "cell_type": "markdown",
   "id": "4526bf4e-46db-4055-8d30-956cde42b2cb",
   "metadata": {},
   "source": [
    "Computes cosine similarity between books using the user-item matrix pt.\n",
    "\n",
    "similarity_scores is a 679 × 679 matrix, where each value measures similarity between two books.\n",
    "\n",
    "Used for item-based collaborative filtering in a recommendation system."
   ]
  },
  {
   "cell_type": "code",
   "execution_count": 84,
   "id": "ec9d428d-5fe2-451c-b881-8d703f222ee3",
   "metadata": {},
   "outputs": [],
   "source": [
    "def recommend(book_name):\n",
    "    #fetching index\n",
    "    index = np.where(pt.index == book_name)[0][0]\n",
    "    similar_items = sorted(list(enumerate(similarity_scores[index])),key = lambda x:x[1], reverse= True)[1:6]\n",
    "\n",
    "    data=[]\n",
    "    for i in similar_items:\n",
    "        item=[]\n",
    "        temp_df =books[books['Book-Title'] == pt.index[i[0]]]\n",
    "        item.extend(list(temp_df.drop_duplicates('Book-Title')['Book-Title'].values))\n",
    "        item.extend(list(temp_df.drop_duplicates('Book-Title')['Book-Author'].values))\n",
    "        item.extend(list(temp_df.drop_duplicates('Book-Title')['Image-URL-M'].values))\n",
    "\n",
    "        data.append(item)\n",
    "\n",
    "    return data"
   ]
  },
  {
   "cell_type": "code",
   "execution_count": 85,
   "id": "f2baf939-57f1-4605-b676-a1a2bf533063",
   "metadata": {},
   "outputs": [
    {
     "data": {
      "text/plain": [
       "[['Nights in Rodanthe',\n",
       "  'Nicholas Sparks',\n",
       "  'http://images.amazon.com/images/P/0446531332.01.MZZZZZZZ.jpg'],\n",
       " ['The Mulberry Tree',\n",
       "  'Jude Deveraux',\n",
       "  'http://images.amazon.com/images/P/0743437640.01.MZZZZZZZ.jpg'],\n",
       " ['A Walk to Remember',\n",
       "  'Nicholas Sparks',\n",
       "  'http://images.amazon.com/images/P/0446608955.01.MZZZZZZZ.jpg'],\n",
       " [\"River's End\",\n",
       "  'Nora Roberts',\n",
       "  'http://images.amazon.com/images/P/0515127833.01.MZZZZZZZ.jpg'],\n",
       " ['Nightmares &amp; Dreamscapes',\n",
       "  'Stephen King',\n",
       "  'http://images.amazon.com/images/P/0451180232.01.MZZZZZZZ.jpg']]"
      ]
     },
     "execution_count": 85,
     "metadata": {},
     "output_type": "execute_result"
    }
   ],
   "source": [
    "recommend('Message in a Bottle')"
   ]
  },
  {
   "cell_type": "code",
   "execution_count": 86,
   "id": "44af5f0c-f897-4fb4-abf9-4d981bc9039d",
   "metadata": {},
   "outputs": [],
   "source": [
    "pickle.dump(pt,open('pt.pkl','wb'))\n",
    "pickle.dump(books,open('books.pkl','wb'))\n",
    "pickle.dump(similarity_scores,open('similarity_scores.pkl','wb'))"
   ]
  },
  {
   "cell_type": "code",
   "execution_count": 68,
   "id": "dcaf7337-7dbf-4b56-b918-07b96f95c0df",
   "metadata": {},
   "outputs": [
    {
     "name": "stdout",
     "output_type": "stream",
     "text": [
      "A Walk to Remember\n",
      "The Rescue\n",
      "One Door Away from Heaven\n",
      "Toxin\n",
      "The Five People You Meet in Heaven\n"
     ]
    }
   ],
   "source": [
    "recommend('The Notebook')"
   ]
  },
  {
   "cell_type": "code",
   "execution_count": null,
   "id": "9dd5521b-6653-4e81-a764-666f7f29e2b9",
   "metadata": {},
   "outputs": [],
   "source": []
  },
  {
   "cell_type": "code",
   "execution_count": 69,
   "id": "dc22c2cc-36db-451d-9bfb-deb5622fa5ea",
   "metadata": {},
   "outputs": [
    {
     "data": {
      "text/plain": [
       "'Angels &amp; Demons'"
      ]
     },
     "execution_count": 69,
     "metadata": {},
     "output_type": "execute_result"
    }
   ],
   "source": [
    "pt.index[43]\n"
   ]
  },
  {
   "cell_type": "code",
   "execution_count": 70,
   "id": "c23ab09b-02ca-4f57-9854-ffdae8540d7f",
   "metadata": {},
   "outputs": [],
   "source": [
    "#np.where(pt.index == 'Zoya')[0][0]"
   ]
  },
  {
   "cell_type": "code",
   "execution_count": 71,
   "id": "cd71083d-da65-4627-a5e5-49fdd6eae459",
   "metadata": {},
   "outputs": [],
   "source": [
    "#sorted(list(enumerate(similarity_scores[0])),key = lambda x:x[1], reverse= True)[1:6]"
   ]
  },
  {
   "cell_type": "code",
   "execution_count": 72,
   "id": "a5d8fa95-90b7-40f4-af17-59fcf6444de8",
   "metadata": {},
   "outputs": [
    {
     "data": {
      "text/plain": [
       "'http://images.amazon.com/images/P/0439136350.01.MZZZZZZZ.jpg'"
      ]
     },
     "execution_count": 72,
     "metadata": {},
     "output_type": "execute_result"
    }
   ],
   "source": [
    "popular_df['Image-URL-M'][0]"
   ]
  },
  {
   "cell_type": "code",
   "execution_count": 73,
   "id": "196cc615-828b-4df0-82ad-7232e8bca33c",
   "metadata": {},
   "outputs": [],
   "source": [
    "import pickle\n",
    "pickle.dump(popular_df, open(\n",
    "    '../../../../../../OneDrive/Desktop/dsml_practice-main/dsml_practice-main/dsml_practice/projects/popular.pkl', 'wb'))"
   ]
  },
  {
   "cell_type": "code",
   "execution_count": 74,
   "id": "0632440f-0d49-4fc7-adcb-d625d21f4cbd",
   "metadata": {},
   "outputs": [
    {
     "name": "stdout",
     "output_type": "stream",
     "text": [
      "2.3.1\n"
     ]
    }
   ],
   "source": [
    "import pandas as pd\n",
    "print(pd.__version__)\n"
   ]
  },
  {
   "cell_type": "code",
   "execution_count": null,
   "id": "dc37c0d9-4f99-4d33-8349-b31991cfaece",
   "metadata": {},
   "outputs": [],
   "source": []
  }
 ],
 "metadata": {
  "kernelspec": {
   "display_name": "Python 3 (ipykernel)",
   "language": "python",
   "name": "python3"
  },
  "language_info": {
   "codemirror_mode": {
    "name": "ipython",
    "version": 3
   },
   "file_extension": ".py",
   "mimetype": "text/x-python",
   "name": "python",
   "nbconvert_exporter": "python",
   "pygments_lexer": "ipython3",
   "version": "3.13.0"
  }
 },
 "nbformat": 4,
 "nbformat_minor": 5
}
