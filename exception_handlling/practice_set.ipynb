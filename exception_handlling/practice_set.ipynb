{
 "cells": [
  {
   "cell_type": "markdown",
   "id": "a5a0cfa0-1e26-4bc8-a974-3cb965f3b7db",
   "metadata": {},
   "source": [
    "Exam Proctoring Timer Using Time and Exception Handling\n",
    "*Scenario:*\n",
    "\n",
    "You are simulating an exam timer.\n",
    " \n",
    "* Ask the user how many seconds the test should run.\n",
    "\n",
    "* Use `time.sleep()` to create a countdown.\n",
    "\n",
    "* Handle input errors like non-numeric or negative time using custom exceptions.\n",
    " \n",
    "> Concepts: Time, Exception Handling, Custom Classes\n",
    " "
   ]
  },
  {
   "cell_type": "code",
   "execution_count": 1,
   "id": "ee56b2e5-80bf-425a-9d89-038a5628cf6a",
   "metadata": {},
   "outputs": [
    {
     "name": "stdin",
     "output_type": "stream",
     "text": [
      "Enter exam duration in seconds:  5\n"
     ]
    },
    {
     "name": "stdout",
     "output_type": "stream",
     "text": [
      "Exam started for 5 seconds.\n",
      "Time left: 5 seconds\n",
      "Time left: 4 seconds\n",
      "Time left: 3 seconds\n",
      "Time left: 2 seconds\n",
      "Time left: 1 seconds\n",
      "Time's up! Exam ended.\n"
     ]
    }
   ],
   "source": [
    "import time\n",
    "\n",
    "# Custom exception class\n",
    "class InvalidTimeError(Exception):\n",
    "    pass\n",
    "\n",
    "# Exam timer class\n",
    "class ExamTimer:\n",
    "    def __init__(self, duration):\n",
    "        # Check if duration is a number\n",
    "        if not isinstance(duration, (int, float)):\n",
    "            raise InvalidTimeError(\"Duration must be a number.\")\n",
    "        if duration <= 0:\n",
    "            raise InvalidTimeError(\"Duration must be greater than zero.\")\n",
    "\n",
    "        self.duration = int(duration)  # convert to int for countdown\n",
    "\n",
    "    def timer(self):\n",
    "        print(f\"Exam started for {self.duration} seconds.\")\n",
    "        for i in range(self.duration, 0, -1):\n",
    "            print(f\"Time left: {i} seconds\")\n",
    "            time.sleep(1)\n",
    "        print(\"Time's up! Exam ended.\")\n",
    "\n",
    "# Main try-except block\n",
    "try:\n",
    "    user_input = float(input(\"Enter exam duration in seconds: \"))\n",
    "    timer_obj = ExamTimer(user_input)\n",
    "    timer_obj.timer()\n",
    "\n",
    "except InvalidTimeError as e:\n",
    "    print(\"InvalidTimeError:\", e)\n",
    "\n",
    "except ValueError:\n",
    "    print(\"Please enter a valid numeric value.\")\n",
    "\n",
    "except Exception as e:\n",
    "    print(\"Unexpected error:\", e)\n"
   ]
  },
  {
   "cell_type": "code",
   "execution_count": null,
   "id": "e06d1322-0e49-4c11-8498-8751e582c531",
   "metadata": {},
   "outputs": [],
   "source": []
  },
  {
   "cell_type": "code",
   "execution_count": null,
   "id": "a4083da7-ef43-483e-9bf1-6d9f4731d592",
   "metadata": {},
   "outputs": [],
   "source": []
  },
  {
   "cell_type": "code",
   "execution_count": null,
   "id": "1a71a0f3-bae0-466d-aaa5-66ae66257d01",
   "metadata": {},
   "outputs": [],
   "source": []
  },
  {
   "cell_type": "code",
   "execution_count": null,
   "id": "0a622d37-b058-48ed-bfff-7b4db71490c0",
   "metadata": {},
   "outputs": [],
   "source": []
  }
 ],
 "metadata": {
  "kernelspec": {
   "display_name": "Python 3 (ipykernel)",
   "language": "python",
   "name": "python3"
  },
  "language_info": {
   "codemirror_mode": {
    "name": "ipython",
    "version": 3
   },
   "file_extension": ".py",
   "mimetype": "text/x-python",
   "name": "python",
   "nbconvert_exporter": "python",
   "pygments_lexer": "ipython3",
   "version": "3.13.0"
  }
 },
 "nbformat": 4,
 "nbformat_minor": 5
}
