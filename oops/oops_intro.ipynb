{
 "cells": [
  {
   "cell_type": "code",
   "execution_count": 2,
   "id": "e2ed3bd3-d5d3-4160-b3fe-8db8329b264f",
   "metadata": {},
   "outputs": [],
   "source": [
    "class Calculator:\n",
    "    def __init__ (self, num1,num2):\n",
    "        self.num1=num1\n",
    "        self.num2=num2\n",
    "\n",
    "    def sum(self):\n",
    "        return self.num1 + self.num2"
   ]
  },
  {
   "cell_type": "code",
   "execution_count": 4,
   "id": "c8f5b218-c395-451f-93c9-01f44a9cfe19",
   "metadata": {},
   "outputs": [],
   "source": [
    "cal_obj=Calculator(19,4)"
   ]
  },
  {
   "cell_type": "code",
   "execution_count": 5,
   "id": "e6003f2f-218c-4768-a524-bee6df259481",
   "metadata": {},
   "outputs": [
    {
     "data": {
      "text/plain": [
       "23"
      ]
     },
     "execution_count": 5,
     "metadata": {},
     "output_type": "execute_result"
    }
   ],
   "source": [
    "cal_obj.sum()"
   ]
  },
  {
   "cell_type": "code",
   "execution_count": 16,
   "id": "6f6c9f69-b16a-4168-80de-07d9c8025e22",
   "metadata": {},
   "outputs": [],
   "source": [
    "class Person:\n",
    "    count=0 \n",
    "    def __init__(self, name:str ,address=\"Kathmandu\",): # constructor initilaizer\n",
    "\n",
    "        self.name= name\n",
    "        self.address= address\n",
    "\n",
    "        Person.count+=1\n",
    "    def get_details(self): #instance method\n",
    "        print(f\"I am {self.name} from {self.address}\")\n",
    "\n",
    "    @classmethod\n",
    "\n",
    "    def get_count(cls): #class method\n",
    "        return cls.count\n",
    "\n",
    "    @staticmethod\n",
    "    def create_fullname(firstname, lastname):#static method\n",
    "        return f\"{lastname}, {firstname}\"\n",
    "        "
   ]
  },
  {
   "cell_type": "code",
   "execution_count": 17,
   "id": "a65148ea-56df-4d5f-ab45-7243ca8e0336",
   "metadata": {},
   "outputs": [],
   "source": [
    "student1= Person(\"prakash\")"
   ]
  },
  {
   "cell_type": "code",
   "execution_count": 18,
   "id": "9624dca1-8c72-4dae-91b6-b49e651b056d",
   "metadata": {},
   "outputs": [],
   "source": [
    "student2= Person (\"prakash\", \"khadka\")"
   ]
  },
  {
   "cell_type": "code",
   "execution_count": 19,
   "id": "9f8e9ed0-d15e-42c6-9363-d3372c942b9f",
   "metadata": {},
   "outputs": [
    {
     "data": {
      "text/plain": [
       "2"
      ]
     },
     "execution_count": 19,
     "metadata": {},
     "output_type": "execute_result"
    }
   ],
   "source": [
    "student1.get_count()"
   ]
  },
  {
   "cell_type": "code",
   "execution_count": 20,
   "id": "bf19f67c-7457-4a80-80d7-6d310f224a2d",
   "metadata": {},
   "outputs": [
    {
     "data": {
      "text/plain": [
       "'kdk, pk'"
      ]
     },
     "execution_count": 20,
     "metadata": {},
     "output_type": "execute_result"
    }
   ],
   "source": [
    "student1.create_fullname(\"pk\", \"kdk\")"
   ]
  },
  {
   "cell_type": "markdown",
   "id": "655a0b8d-565d-4be5-be15-514526c3b15d",
   "metadata": {},
   "source": [
    "Library class with student and department\n",
    "method: can_burrow(book_name)\n",
    " \n",
    "books = [\n",
    "            (\"The Alchemist\", 25),\n",
    "            (\"The Da Vinci Code\", 30),\n",
    "            (\"A Brief History of Time\", 15),\n",
    "            (\"Angels & Demons\", 0),\n",
    "            (\"The Grand Design\", 0),\n",
    "            (\"1984\", 19)\n",
    "        ]\n",
    " "
   ]
  },
  {
   "cell_type": "code",
   "execution_count": 36,
   "id": "0b552335-3a42-4b0c-a0e9-bdae3fd32f62",
   "metadata": {},
   "outputs": [],
   "source": [
    "class library:\n",
    "    def __intit__(self, name, depart=\"Math\"):\n",
    "        self.name=name\n",
    "        self.depart=depart\n",
    "        self.book=[\n",
    "              (\"The Alchemist\", 25),\n",
    "            (\"The Da Vinci Code\", 30),\n",
    "            (\"A Brief History of Time\", 15),\n",
    "            (\"Angels & Demons\", 0),\n",
    "            (\"The Grand Design\", 0),\n",
    "            (\"1984\", 19)\n",
    "        ]\n",
    "    def can_borrow(self, book_name):\n",
    "        book_name= book_name.lowe()\n",
    "        for name, amount in self.books:\n",
    "            if name.lower() == book_name and amount>0:\n",
    "                \n",
    "                return \"can borrow\"\n",
    "        return \"can't burrow\""
   ]
  },
  {
   "cell_type": "code",
   "execution_count": 37,
   "id": "a7813e02-1f7a-4367-8b62-32d6514e37b7",
   "metadata": {},
   "outputs": [],
   "source": [
    "student1 = Library('shailesh', 'CSE')"
   ]
  },
  {
   "cell_type": "code",
   "execution_count": 39,
   "id": "c572fe76-f99a-4bd3-be60-f7248a071b50",
   "metadata": {},
   "outputs": [
    {
     "name": "stdout",
     "output_type": "stream",
     "text": [
      " 'Angels & Demons' is currently out of stock.\n"
     ]
    },
    {
     "data": {
      "text/plain": [
       "False"
      ]
     },
     "execution_count": 39,
     "metadata": {},
     "output_type": "execute_result"
    }
   ],
   "source": [
    "student1.can_borrow('Angels & Demons')"
   ]
  },
  {
   "cell_type": "code",
   "execution_count": 24,
   "id": "34e27f2e-e47f-469d-a35f-8137cdd84bb7",
   "metadata": {},
   "outputs": [],
   "source": [
    "# Sample usage\n",
    "books = [\n",
    "    (\"The Alchemist\", 25),\n",
    "    (\"The Da Vinci Code\", 30),\n",
    "    (\"A Brief History of Time\", 15),\n",
    "    (\"Angels & Demons\", 0),\n",
    "    (\"The Grand Design\", 0),\n",
    "    (\"1984\", 19)\n",
    "]\n",
    "\n",
    "\n",
    "class Library:\n",
    "    def __init__(self, books):\n",
    "        self.books = {title: quantity for title, quantity in books}\n",
    "\n",
    "    class Student:\n",
    "        def __init__(self, name, department):\n",
    "            self.name = name\n",
    "            self.department = department\n",
    "\n",
    "    class Department:\n",
    "        def __init__(self, name):\n",
    "            self.name = name\n",
    "\n",
    "    def can_borrow(self, book_name):\n",
    "        quantity = self.books.get(book_name, 0)\n",
    "        if quantity > 0:\n",
    "            print(f\"The book '{book_name}' is available to borrow.\")\n",
    "            return True\n",
    "        else:\n",
    "            print(f\"The book '{book_name}' is not available right now.\")\n",
    "            return False\n",
    "\n",
    "\n",
    "\n",
    "library = Library(books)\n",
    "\n",
    "\n"
   ]
  },
  {
   "cell_type": "code",
   "execution_count": 25,
   "id": "263f969a-32e6-46a5-8b7f-8fb9d9112348",
   "metadata": {},
   "outputs": [
    {
     "name": "stdout",
     "output_type": "stream",
     "text": [
      "The book 'The Alchemist' is available to borrow.\n",
      "The book 'Angels & Demons' is not available right now.\n"
     ]
    },
    {
     "data": {
      "text/plain": [
       "False"
      ]
     },
     "execution_count": 25,
     "metadata": {},
     "output_type": "execute_result"
    }
   ],
   "source": [
    "# Check availability of a book\n",
    "library.can_borrow(\"The Alchemist\")     # Available\n",
    "library.can_borrow(\"Angels & Demons\")   # Not available\n"
   ]
  },
  {
   "cell_type": "code",
   "execution_count": null,
   "id": "922734a8-95a2-4595-bde4-d3c0b5244b34",
   "metadata": {},
   "outputs": [],
   "source": []
  },
  {
   "cell_type": "markdown",
   "id": "19540af8-1f05-45bd-995b-bd6464b1d824",
   "metadata": {},
   "source": [
    "Calculating Student Results\n",
    " \n",
    "Develop a class to accept a student's name and marks in three subjects, then calculate and display the total and average marks.\n",
    " "
   ]
  },
  {
   "cell_type": "code",
   "execution_count": 40,
   "id": "bf528dd7-4a17-4305-ab48-9191ecffef62",
   "metadata": {},
   "outputs": [
    {
     "ename": "IndentationError",
     "evalue": "expected an indented block after class definition on line 1 (1228436904.py, line 2)",
     "output_type": "error",
     "traceback": [
      "\u001b[1;36m  Cell \u001b[1;32mIn[40], line 2\u001b[1;36m\u001b[0m\n\u001b[1;33m    marks=[100,50,30]\u001b[0m\n\u001b[1;37m    ^\u001b[0m\n\u001b[1;31mIndentationError\u001b[0m\u001b[1;31m:\u001b[0m expected an indented block after class definition on line 1\n"
     ]
    }
   ],
   "source": [
    "class StudentResult:\n",
    "marks=[100,50,30]\n",
    "    def __init__(self, name:str, marks:list):\n",
    "        self.name=name\n",
    "        self.marks= mark\n",
    "        \n",
    "    def total(self):\n",
    "        \n",
    "    def average(self):\n",
    "        \n",
    "    def display(self):\n",
    "        "
   ]
  },
  {
   "cell_type": "code",
   "execution_count": 42,
   "id": "871d0b5b-8cb2-4e78-a442-2d40895e19c8",
   "metadata": {},
   "outputs": [
    {
     "name": "stdout",
     "output_type": "stream",
     "text": [
      "Student Name: prakash\n",
      "Marks: [100, 50, 30]\n",
      "Total Marks: 180\n",
      "Average Marks: 60.00\n"
     ]
    }
   ],
   "source": [
    "class StudentResult:\n",
    "    def __init__(self, name: str, marks: list):\n",
    "        self.name = name\n",
    "        self.marks = marks\n",
    "\n",
    "    def total(self):\n",
    "        return sum(self.marks)\n",
    "\n",
    "    def average(self):\n",
    "        return self.total() / len(self.marks)\n",
    "\n",
    "    def display(self):\n",
    "        print(f\"Student Name: {self.name}\")\n",
    "        print(f\"Marks: {self.marks}\")\n",
    "        print(f\"Total Marks: {self.total()}\")\n",
    "        print(f\"Average Marks: {self.average():.2f}\")\n",
    "        \n",
    "\n",
    "# Example usage\n",
    "marks = [100, 50, 30]\n",
    "student = StudentResult(\"prakash\", marks)\n",
    "student.display()\n"
   ]
  },
  {
   "cell_type": "code",
   "execution_count": null,
   "id": "39008370-8442-4b5e-906e-acba64bfc5ce",
   "metadata": {},
   "outputs": [],
   "source": []
  }
 ],
 "metadata": {
  "kernelspec": {
   "display_name": "Python 3 (ipykernel)",
   "language": "python",
   "name": "python3"
  },
  "language_info": {
   "codemirror_mode": {
    "name": "ipython",
    "version": 3
   },
   "file_extension": ".py",
   "mimetype": "text/x-python",
   "name": "python",
   "nbconvert_exporter": "python",
   "pygments_lexer": "ipython3",
   "version": "3.13.0"
  }
 },
 "nbformat": 4,
 "nbformat_minor": 5
}
