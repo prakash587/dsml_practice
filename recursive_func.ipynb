{
 "cells": [
  {
   "cell_type": "code",
   "execution_count": 1,
   "id": "8de80bfe-13b9-4b4e-a083-cc063fee5cc2",
   "metadata": {},
   "outputs": [],
   "source": [
    "def fib(n):\n",
    "    if n ==0:\n",
    "        return 0\n",
    "    elif n==1:\n",
    "        return 1\n",
    "    else:\n",
    "        #recursive case\n",
    "        return fib(n-1) + fib(n-2)"
   ]
  },
  {
   "cell_type": "code",
   "execution_count": 6,
   "id": "35bf90b5-17aa-479a-bb15-92a5c2492270",
   "metadata": {},
   "outputs": [
    {
     "data": {
      "text/plain": [
       "3"
      ]
     },
     "execution_count": 6,
     "metadata": {},
     "output_type": "execute_result"
    }
   ],
   "source": [
    "fib(4)"
   ]
  },
  {
   "cell_type": "code",
   "execution_count": 3,
   "id": "7e587964-9091-450c-bf0a-dce32e9c8764",
   "metadata": {},
   "outputs": [],
   "source": [
    "cache={0:0, 1:1}\n",
    "\n",
    "def fib(n):\n",
    "    #base case\n",
    "    if n in cache:\n",
    "        return cache[n]\n",
    "    else:\n",
    "        result=fib(n-1)+ fib(n-2)\n",
    "        cache[n]= result\n",
    "        return result"
   ]
  },
  {
   "cell_type": "code",
   "execution_count": 4,
   "id": "90bd9dd3-01e1-430d-8d53-647e17e08c4a",
   "metadata": {},
   "outputs": [
    {
     "data": {
      "text/plain": [
       "6765"
      ]
     },
     "execution_count": 4,
     "metadata": {},
     "output_type": "execute_result"
    }
   ],
   "source": [
    "fib(20)"
   ]
  },
  {
   "cell_type": "code",
   "execution_count": null,
   "id": "0716cf1a-fa70-415a-bb92-3ffec36a47f5",
   "metadata": {},
   "outputs": [],
   "source": []
  }
 ],
 "metadata": {
  "kernelspec": {
   "display_name": "Python 3 (ipykernel)",
   "language": "python",
   "name": "python3"
  },
  "language_info": {
   "codemirror_mode": {
    "name": "ipython",
    "version": 3
   },
   "file_extension": ".py",
   "mimetype": "text/x-python",
   "name": "python",
   "nbconvert_exporter": "python",
   "pygments_lexer": "ipython3",
   "version": "3.13.0"
  }
 },
 "nbformat": 4,
 "nbformat_minor": 5
}
