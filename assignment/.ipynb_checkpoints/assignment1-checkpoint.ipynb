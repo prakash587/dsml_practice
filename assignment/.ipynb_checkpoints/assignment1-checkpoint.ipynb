{
 "cells": [
  {
   "cell_type": "markdown",
   "id": "7838bbf4-d56b-43fd-af60-50c53424e189",
   "metadata": {},
   "source": [
    "### Coding Scenario: Personal Profile and Preferences\n",
    "\n",
    "**Objective:** You are tasked with creating a Python script to represent and process personal profile information and preferences. This scenario will test your knowledge of strings, integers, lists, tuples, dictionaries, and boolean data types in Python.\n",
    "\n",
    "#### Scenario Description:\n",
    "\n",
    "Imagine you are designing a simple profile for a social media application. Each user profile contains basic personal information, a list of favorite hobbies, preferred screen dimensions for viewing the app, and a brief description of their pet.\n"
   ]
  },
  {
   "cell_type": "markdown",
   "id": "980230f3-bbb7-4bb7-8400-e0d1321f812e",
   "metadata": {},
   "source": [
    "#### Task Instructions:\n",
    "\n",
    "1. **Personal Information**\n",
    "   - Create a variable `name` (str) to store the user's name.\n",
    "   - Create a variable `age` (int) to store the user's age.\n",
    "   - Print a greeting message using these variables, e.g., `\"Hello, my name is Alice and I am 30 years old.\"`\n"
   ]
  },
  {
   "cell_type": "code",
   "execution_count": 10,
   "id": "e173fee8-2c6d-4d7c-886e-05f6c8de0ac8",
   "metadata": {},
   "outputs": [
    {
     "name": "stdin",
     "output_type": "stream",
     "text": [
      "Enter your name Prakash\n",
      "enter your age 25\n"
     ]
    },
    {
     "name": "stdout",
     "output_type": "stream",
     "text": [
      "hello , my name is Prakash and I am 25 years old\n"
     ]
    }
   ],
   "source": [
    "# Your Solution Here\n",
    "name= input(\"Enter your name:\")\n",
    "\n",
    "age=int(input(\"enter your age:\"))\n",
    "print(f\"hello , my name is {name} and I am {age} years old\")\n"
   ]
  },
  {
   "cell_type": "markdown",
   "id": "5ff8f729-211a-4a88-b492-edd0d08c4fda",
   "metadata": {},
   "source": [
    "2. **Favorite Hobbies**\n",
    "   - Create a list `favorite_hobbies` containing at least three hobbies as strings.\n",
    "   - Add another hobby to this list and print the updated list."
   ]
  },
  {
   "cell_type": "code",
   "execution_count": 32,
   "id": "12663fbf-d9d5-4c10-ad4f-4e98bb98e210",
   "metadata": {},
   "outputs": [
    {
     "name": "stdout",
     "output_type": "stream",
     "text": [
      "['Reading', 'Dancing', 'Playing']\n",
      "['Reading', 'Dancing', 'Playing', 'Singing']\n"
     ]
    }
   ],
   "source": [
    "# Your Solution Here\n",
    "favorite_hobbies=['Reading', 'Dancing','Playing']\n",
    "print (favorite_hobbies)\n",
    "favorite_hobbies.append(\"Singing\",)\n",
    "#print(new_favorite_hobbies)\n",
    "print(favorite_hobbies)\n"
   ]
  },
  {
   "cell_type": "code",
   "execution_count": 30,
   "id": "362aad1a-9de4-4cbe-b2aa-932a601109d7",
   "metadata": {},
   "outputs": [
    {
     "name": "stdout",
     "output_type": "stream",
     "text": [
      "['Reading', 'Singing', 'Dancing', 'Playing']\n"
     ]
    }
   ],
   "source": []
  },
  {
   "cell_type": "markdown",
   "id": "c2ce0a7b-15de-4cb2-a6b3-16c83b817c47",
   "metadata": {},
   "source": [
    "3. **Screen Dimensions**\n",
    "   - Define a tuple `screen_dimensions` with two integers representing the width and height of the user's preferred screen size for the app.\n",
    "   - Attempt to modify one of the values in the tuple to simulate an attempt to change screen preferences and comment on the outcome."
   ]
  },
  {
   "cell_type": "code",
   "execution_count": 44,
   "id": "d7987636-c4d4-487c-9967-4538177292b9",
   "metadata": {},
   "outputs": [
    {
     "ename": "TypeError",
     "evalue": "'tuple' object does not support item assignment",
     "output_type": "error",
     "traceback": [
      "\u001b[1;31m---------------------------------------------------------------------------\u001b[0m",
      "\u001b[1;31mTypeError\u001b[0m                                 Traceback (most recent call last)",
      "Cell \u001b[1;32mIn[44], line 3\u001b[0m\n\u001b[0;32m      1\u001b[0m \u001b[38;5;66;03m# Your Solution Here\u001b[39;00m\n\u001b[0;32m      2\u001b[0m screen_dimensions\u001b[38;5;241m=\u001b[39m(\u001b[38;5;241m200\u001b[39m,\u001b[38;5;241m600\u001b[39m)\n\u001b[1;32m----> 3\u001b[0m \u001b[43mscreen_dimensions\u001b[49m\u001b[43m[\u001b[49m\u001b[38;5;241;43m0\u001b[39;49m\u001b[43m]\u001b[49m \u001b[38;5;241m=\u001b[39m \u001b[38;5;241m1280\u001b[39m  \u001b[38;5;66;03m# Trying to change width\u001b[39;00m\n\u001b[0;32m      4\u001b[0m \u001b[38;5;66;03m#Tuples in Python are immutable, which means you cannot\u001b[39;00m\n\u001b[0;32m      5\u001b[0m \u001b[38;5;66;03m#change their elements after they are created.\u001b[39;00m\n\u001b[0;32m      6\u001b[0m \u001b[38;5;66;03m#If you need to change values, you should use a list or create a new tuple.\u001b[39;00m\n",
      "\u001b[1;31mTypeError\u001b[0m: 'tuple' object does not support item assignment"
     ]
    }
   ],
   "source": [
    "# Your Solution Here\n",
    "screen_dimensions=(200,600)\n",
    "screen_dimensions[0] = 1280  # Trying to change width\n",
    "#Tuples in Python are immutable, which means you cannot\n",
    "#change their elements after they are created.\n",
    "#If you need to change values, you should use a list or create a new tuple.\n"
   ]
  },
  {
   "cell_type": "markdown",
   "id": "1d25aea3-0353-4ce5-a8f6-1377fc9f13c3",
   "metadata": {},
   "source": [
    "4. **Pet Description**\n",
    "   - Create a dictionary `pet` to describe the user's pet. It should include keys for `type`, `name`, `age`, and later, `color`.\n",
    "   - Add a `color` key to the `pet` dictionary with an appropriate value and print the pet's name and color."
   ]
  },
  {
   "cell_type": "code",
   "execution_count": 93,
   "id": "b3aa4e8a-626f-4fee-831a-a6dddbbc4907",
   "metadata": {},
   "outputs": [
    {
     "name": "stdin",
     "output_type": "stream",
     "text": [
      "Enter name of pet lucky\n",
      "Enter age of pet 2\n",
      "Enter color of your pet brown\n",
      "enter pet type cat\n"
     ]
    },
    {
     "name": "stdout",
     "output_type": "stream",
     "text": [
      "lucky brown\n"
     ]
    }
   ],
   "source": [
    "# Your Solution Here\n",
    "pet= {\n",
    "    'names':input('Enter name of pet'),\n",
    "    'age':int(input('Enter age of pet')),\n",
    "    'color':input('Enter color of your pet')\n",
    "}\n",
    "pet['type']= input('enter pet type')\n",
    "\n",
    "\n",
    "print(pet['names'],pet['color'])\n"
   ]
  },
  {
   "cell_type": "code",
   "execution_count": 91,
   "id": "c06aaf78-7a98-4288-b8f6-43e0625cb354",
   "metadata": {},
   "outputs": [
    {
     "name": "stdout",
     "output_type": "stream",
     "text": [
      "pets name:lucky and color: yellow\n"
     ]
    }
   ],
   "source": [
    "# Your Solution Here\n",
    "pet= {\n",
    "    'type': \"dog\",\n",
    "    'name':'lucky',\n",
    "    'age':3,\n",
    "}\n",
    "pet['color']='yellow'\n",
    "print(f\"pets name:{pet['name']} and color: {pet['color']}\")"
   ]
  },
  {
   "cell_type": "markdown",
   "id": "a4552d2b-3432-4263-a7e9-37b72553a957",
   "metadata": {},
   "source": [
    "5. **Adult Status**\n",
    "   - Determine if the user is an adult with a boolean variable `is_adult`. Consider someone an adult if they are 18 years old or more.\n",
    "   - Using conditional logic, print `\"I am an adult.\"` if true, and `\"I am not an adult.\"` if false.\n"
   ]
  },
  {
   "cell_type": "code",
   "execution_count": 101,
   "id": "0173deeb-5ecc-4e80-a6ea-37be98d516cc",
   "metadata": {},
   "outputs": [
    {
     "name": "stdin",
     "output_type": "stream",
     "text": [
      "enter your age 12\n"
     ]
    },
    {
     "name": "stdout",
     "output_type": "stream",
     "text": [
      "I am not an adult\n"
     ]
    }
   ],
   "source": [
    "# Your Solution Here\n",
    "age_limit=18\n",
    "is_adult= int(input(\"enter your age\"))\n",
    "if is_adult  >=  age_limit:\n",
    "    print(\"I am an adult\")\n",
    "else:\n",
    "    print(\"I am not an adult\")\n",
    "\n"
   ]
  },
  {
   "cell_type": "code",
   "execution_count": null,
   "id": "f3feef2e-cb50-4bb1-ad08-5220e5060725",
   "metadata": {},
   "outputs": [],
   "source": []
  },
  {
   "cell_type": "markdown",
   "id": "2fc2b91e-71aa-4883-b3ab-ce6cedd78f6f",
   "metadata": {},
   "source": [
    "### Question: File Read and Write\n",
    "**Write a Program that Uses Functions `write_to_file` and `read_from_file`**:\n",
    "- `write_to_file(filename, content)`: Writes `content` to a file named `filename`. If the file doesn't exist, it should be created.\n",
    "- `read_from_file(filename)`: Reads and prints the content of a file named `filename`.\n",
    "Call `write_to_file` to write \"Hello, Python!\" to a file named \"greetings.txt\", then call `read_from_file` to read and print the content of this file."
   ]
  },
  {
   "cell_type": "code",
   "execution_count": 129,
   "id": "c88de546-8048-4efa-a667-c12f0ed950b9",
   "metadata": {},
   "outputs": [
    {
     "name": "stdout",
     "output_type": "stream",
     "text": [
      "Hello! python\n"
     ]
    }
   ],
   "source": [
    "# YOur Solut# YOur Solution here\n",
    "def write_to_file(filename, content):\n",
    "    with open(filename, mode=\"w\") as f:\n",
    "        f.write(content)\n",
    "\n",
    "def read_from_file(filename):\n",
    "    #open and read the file after the appending:\n",
    "    with open(filename, mode='r') as f:\n",
    "        content=f.read()\n",
    "        print(content)\n",
    "\n",
    "  \n",
    "write_to_file(\"greetings.txt\", \"Hello! python\")\n",
    "read_from_file(\"greetings.txt\")\n",
    "\n"
   ]
  },
  {
   "cell_type": "code",
   "execution_count": 125,
   "id": "c6cf7fd9-da27-4156-b820-edc5d3674956",
   "metadata": {},
   "outputs": [
    {
     "name": "stdout",
     "output_type": "stream",
     "text": [
      "Hello, Python!\n"
     ]
    }
   ],
   "source": []
  },
  {
   "cell_type": "code",
   "execution_count": null,
   "id": "b3f7dd5f-8b4f-4c31-bb17-14023b3487e8",
   "metadata": {},
   "outputs": [],
   "source": []
  },
  {
   "cell_type": "markdown",
   "id": "8a2df04e-f437-4340-a727-368656e06434",
   "metadata": {},
   "source": [
    "### Question : Book Keeper\n",
    "\n",
    "Following the data below , complete the given Tasks :"
   ]
  },
  {
   "cell_type": "code",
   "execution_count": null,
   "id": "a595d425-62e5-425e-837b-a609c158291a",
   "metadata": {},
   "outputs": [],
   "source": [
    "# A list of tuples, where each tuple contains information about a book: (title, genre, year_published, times_borrowed).\n",
    "\n",
    "books = [\n",
    "    (\"The Alchemist\", \"Fiction\", 1988, 250),\n",
    "    (\"The Da Vinci Code\", \"Mystery\", 2003, 300),\n",
    "    (\"A Brief History of Time\", \"Science\", 1988, 150),\n",
    "    (\"The Theory of Everything\", \"Science\", 2002, 100),\n",
    "    (\"Pride and Prejudice\", \"Fiction\", 1813, 200),\n",
    "    (\"To Kill a Mockingbird\", \"Fiction\", 1960, 180),\n",
    "    (\"The Catcher in the Rye\", \"Fiction\", 1991, 220),\n",
    "    (\"Angels & Demons\", \"Mystery\", 2000, 210),\n",
    "    (\"The Grand Design\", \"Science\", 2010, 90),\n",
    "    (\"1984\", \"Fiction\", 1949, 190)\n",
    "]"
   ]
  },
  {
   "cell_type": "markdown",
   "id": "23a76261-ca33-44a6-82b4-e0162ad7899b",
   "metadata": {},
   "source": [
    "**Task 01**: Create a Book Filtering Function\n",
    "\n",
    "Given the list books as shown below, write a Python function named `filter_books` that filters books based on *genre* and *publication year*. The function should take two parameters: `genre (a string)` and `year (an integer)`. It should return a list of book titles that match the given genre and have been **published on or after** the specified year.\n",
    "\n",
    "- Example usage : `print(filter_books(\"Fiction\", 1980))`\n",
    "- Expected output: `['The Alchemist', 'The Catcher in the Rye']`\n",
    "\n",
    "*Try to use List Comprehension with If condition*"
   ]
  },
  {
   "cell_type": "code",
   "execution_count": null,
   "id": "a31e920c-4ec3-4f55-be94-cf02e38e156d",
   "metadata": {},
   "outputs": [],
   "source": [
    "# Your Solution Here\n"
   ]
  },
  {
   "cell_type": "markdown",
   "id": "f8d45b94-411d-49a1-b92e-2b36fd00c675",
   "metadata": {},
   "source": [
    "**Task 02** : Write a Python program that uses a lambda expression to sort this list by publication year in ascending order. Print the sorted list of books.\n",
    "\n",
    "*Try using a lambda expression with the sorted() function*"
   ]
  },
  {
   "cell_type": "code",
   "execution_count": null,
   "id": "30eb81fe-4168-4f7f-ac68-a560e38369a7",
   "metadata": {},
   "outputs": [],
   "source": [
    "# Your Solution Here\n"
   ]
  },
  {
   "cell_type": "code",
   "execution_count": null,
   "id": "3485c193-d331-42d9-8889-cfeb4ab3d6cc",
   "metadata": {},
   "outputs": [],
   "source": []
  }
 ],
 "metadata": {
  "kernelspec": {
   "display_name": "Python 3 (ipykernel)",
   "language": "python",
   "name": "python3"
  },
  "language_info": {
   "codemirror_mode": {
    "name": "ipython",
    "version": 3
   },
   "file_extension": ".py",
   "mimetype": "text/x-python",
   "name": "python",
   "nbconvert_exporter": "python",
   "pygments_lexer": "ipython3",
   "version": "3.13.0"
  }
 },
 "nbformat": 4,
 "nbformat_minor": 5
}
