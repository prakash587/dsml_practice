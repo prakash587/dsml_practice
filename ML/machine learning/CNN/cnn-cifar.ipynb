{
 "cells": [
  {
   "cell_type": "code",
   "execution_count": null,
   "id": "572520af-1b23-4d20-a931-89b60cf7bffc",
   "metadata": {},
   "outputs": [
    {
     "name": "stdout",
     "output_type": "stream",
     "text": [
      "Downloading data from https://www.cs.toronto.edu/~kriz/cifar-10-python.tar.gz\n",
      "\u001b[1m  1024000/170498071\u001b[0m \u001b[37m━━━━━━━━━━━━━━━━━━━━\u001b[0m \u001b[1m46:07\u001b[0m 16us/step"
     ]
    }
   ],
   "source": [
    "# --------------------------\n",
    "# Imports\n",
    "# --------------------------\n",
    "import tensorflow as tf\n",
    "from tensorflow.keras import Sequential\n",
    "from tensorflow.keras.layers import Input, Conv2D, MaxPooling2D, Flatten, Dense, Dropout, BatchNormalization\n",
    "from tensorflow.keras.datasets import cifar10\n",
    "from sklearn.metrics import confusion_matrix, accuracy_score, recall_score, f1_score\n",
    "import matplotlib.pyplot as plt\n",
    "import seaborn as sns\n",
    "import numpy as np\n",
    "import pandas as pd\n",
    "\n",
    "# --------------------------\n",
    "# Load CIFAR-10 data\n",
    "# --------------------------\n",
    "(X_train, y_train), (X_test, y_test) = cifar10.load_data()\n",
    "\n",
    "print(\"Train shape:\", X_train.shape)\n",
    "print(\"Test shape:\", X_test.shape)\n",
    "\n",
    "# --------------------------\n",
    "\n",
    "# --------------------------\n",
    "\n",
    "\n",
    "# --------------------------\n",
    "\n"
   ]
  },
  {
   "cell_type": "code",
   "execution_count": null,
   "id": "039ac297-899a-40c0-9d3c-f79885df0bf6",
   "metadata": {},
   "outputs": [],
   "source": [
    "\n",
    "# Flatten y labels\n",
    "y_train = y_train.ravel()\n",
    "y_test = y_test.ravel()\n"
   ]
  },
  {
   "cell_type": "code",
   "execution_count": null,
   "id": "2472763e-909b-4587-95f1-e361830a672a",
   "metadata": {},
   "outputs": [],
   "source": [
    "# Data preprocessing\n",
    "# --------------------------\n",
    "X_train = X_train.astype(\"float32\") / 255.0\n",
    "X_test  = X_test.astype(\"float32\") / 255.0\n",
    "\n"
   ]
  },
  {
   "cell_type": "code",
   "execution_count": null,
   "id": "cf091d14-7de9-4c52-b0dd-dc70ce392447",
   "metadata": {},
   "outputs": [],
   "source": [
    "# Input shape and number of classes\n",
    "input_shape = X_train.shape[1:]   # (32, 32, 3)\n",
    "num_classes = len(np.unique(y_train))\n"
   ]
  },
  {
   "cell_type": "code",
   "execution_count": null,
   "id": "ce6aeb6e-0a18-4ff6-8c40-cf8770ce0b4f",
   "metadata": {},
   "outputs": [],
   "source": [
    "# Model definition\n",
    "# --------------------------\n",
    "model = Sequential([\n",
    "    Input(shape=input_shape),\n",
    "\n",
    "    Conv2D(32, (3,3), activation='relu', padding='same'),\n",
    "    BatchNormalization(),\n",
    "    MaxPooling2D((2,2)),\n",
    "\n",
    "    Conv2D(64, (3,3), activation='relu', padding='same'),\n",
    "    BatchNormalization(),\n",
    "    MaxPooling2D((2,2)),\n",
    "\n",
    "    Conv2D(128, (3,3), activation='relu', padding='same'),\n",
    "    BatchNormalization(),\n",
    "    MaxPooling2D((2,2)),\n",
    "\n",
    "    Flatten(),\n",
    "    Dense(256, activation='relu'),\n",
    "    Dropout(0.5),\n",
    "    Dense(num_classes, activation='softmax')\n",
    "])\n",
    "\n",
    "\n"
   ]
  },
  {
   "cell_type": "code",
   "execution_count": null,
   "id": "3b6798cd-5b87-4ea4-8af8-c7138ddb443c",
   "metadata": {},
   "outputs": [],
   "source": [
    "model.summary()\n",
    "\n",
    "# --------------------------\n",
    "# Compile\n",
    "# --------------------------\n",
    "model.compile(\n",
    "    optimizer='adam',\n",
    "    loss='sparse_categorical_crossentropy',\n",
    "    metrics=['accuracy']\n",
    ")\n"
   ]
  },
  {
   "cell_type": "code",
   "execution_count": null,
   "id": "4123a6c9-a425-4ad6-b800-ffd07b9c610c",
   "metadata": {},
   "outputs": [],
   "source": []
  },
  {
   "cell_type": "code",
   "execution_count": null,
   "id": "ddbb0325-392b-4d2e-a7a3-a96266720704",
   "metadata": {},
   "outputs": [],
   "source": []
  },
  {
   "cell_type": "code",
   "execution_count": null,
   "id": "4c6b77b0-d058-423b-ae09-3eff796a92a4",
   "metadata": {},
   "outputs": [],
   "source": [
    "# --------------------------\n",
    "# Train\n",
    "# --------------------------\n",
    "history = model.fit(\n",
    "    X_train, y_train,\n",
    "    epochs=10,            # you can increase epochs for better accuracy\n",
    "    batch_size=64,\n",
    "    validation_split=0.2,\n",
    "    verbose=1\n",
    ")\n",
    "\n"
   ]
  },
  {
   "cell_type": "code",
   "execution_count": null,
   "id": "8dd99a1e-72a3-4970-b600-49643cb67804",
   "metadata": {},
   "outputs": [],
   "source": [
    "# --------------------------\n",
    "# Convert history to DataFrame\n",
    "# --------------------------\n",
    "df = pd.DataFrame(history.history)\n",
    "print(df.head())\n"
   ]
  },
  {
   "cell_type": "code",
   "execution_count": null,
   "id": "a18ca63d-7fd0-4f0d-918a-58e06ada8b52",
   "metadata": {},
   "outputs": [],
   "source": [
    "# --------------------------\n",
    "# Predictions on TEST set\n",
    "# --------------------------\n",
    "pred = np.argmax(model.predict(X_test), axis=1)\n",
    "\n",
    "print(\"y_test shape:\", y_test.shape)\n",
    "print(\"pred shape:\", pred.shape)\n"
   ]
  },
  {
   "cell_type": "code",
   "execution_count": null,
   "id": "199189a4-873c-4ee4-b4f9-8a91d5708325",
   "metadata": {},
   "outputs": [],
   "source": [
    "# Confusion Matrix + Metrics\n",
    "# --------------------------\n",
    "cm = confusion_matrix(y_test, pred)\n",
    "print(\"Confusion Matrix:\\n\", cm)\n",
    "\n",
    "print(\"Accuracy:\", accuracy_score(y_test, pred))\n",
    "print(\"Recall:\", recall_score(y_test, pred, average='macro'))\n",
    "print(\"F1 Score:\", f1_score(y_test, pred, average='macro'))\n"
   ]
  },
  {
   "cell_type": "code",
   "execution_count": null,
   "id": "784aeffd-29ba-4d14-a150-2562856fb551",
   "metadata": {},
   "outputs": [],
   "source": [
    "# --------------------------\n",
    "# Plot Confusion Matrix\n",
    "# --------------------------\n",
    "plt.figure(figsize=(10,8))\n",
    "sns.heatmap(cm, annot=False, fmt='d', cmap=\"Blues\", xticklabels=range(num_classes), yticklabels=range(num_classes))\n",
    "plt.xlabel(\"Predicted\")\n",
    "plt.ylabel(\"True\")\n",
    "plt.title(\"Confusion Matrix - CIFAR-10 CNN\")\n",
    "plt.show()\n"
   ]
  }
 ],
 "metadata": {
  "kernelspec": {
   "display_name": "Python 3 (ipykernel)",
   "language": "python",
   "name": "python3"
  },
  "language_info": {
   "codemirror_mode": {
    "name": "ipython",
    "version": 3
   },
   "file_extension": ".py",
   "mimetype": "text/x-python",
   "name": "python",
   "nbconvert_exporter": "python",
   "pygments_lexer": "ipython3",
   "version": "3.13.0"
  }
 },
 "nbformat": 4,
 "nbformat_minor": 5
}
