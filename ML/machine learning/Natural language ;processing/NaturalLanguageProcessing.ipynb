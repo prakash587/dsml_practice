{
 "cells": [
  {
   "cell_type": "code",
   "execution_count": 1,
   "id": "17c83b4e-8b9c-4f55-83f3-216e283eda4e",
   "metadata": {},
   "outputs": [],
   "source": [
    "# !pip install nltk"
   ]
  },
  {
   "cell_type": "markdown",
   "id": "e0ef1337-0776-48b7-944b-b5ebf1942bd0",
   "metadata": {},
   "source": [
    "## Text Preprocessing\n",
    "\n",
    "Text preprocessing is an essential step in natural language processing (NLP) tasks. It involves transforming raw text data into a format that is more suitable for analysis and machine learning algorithms. In this tutorial, we will cover various common techniques for text preprocessing. Let's dive in!\n"
   ]
  },
  {
   "cell_type": "markdown",
   "id": "73b099c7-21b4-493b-9258-cf1de0a4f855",
   "metadata": {},
   "source": [
    "### Lowercasing\n",
    "Converting all text to lowercase can help to normalize the data and reduce the vocabulary size. It ensures that words in different cases are treated as the same word. For example, \"apple\" and \"Apple\" will both be transformed to \"apple\"."
   ]
  },
  {
   "cell_type": "code",
   "execution_count": 2,
   "id": "6c5b5c99-a599-4482-aa6a-de162271d5e0",
   "metadata": {},
   "outputs": [],
   "source": [
    "sent = \"Nepotism is the act of granting an [advantage], privilege, or position to relatives in an occupation or field.\""
   ]
  },
  {
   "cell_type": "code",
   "execution_count": 3,
   "id": "9264230d-921c-45ce-ad1c-b804309e6f46",
   "metadata": {},
   "outputs": [
    {
     "data": {
      "text/plain": [
       "'nepotism is the act of granting an [advantage], privilege, or position to relatives in an occupation or field.'"
      ]
     },
     "execution_count": 3,
     "metadata": {},
     "output_type": "execute_result"
    }
   ],
   "source": [
    "lower_sent = sent.lower()\n",
    "lower_sent"
   ]
  },
  {
   "cell_type": "markdown",
   "id": "34c7118a-926c-470a-ad48-6448e5028563",
   "metadata": {},
   "source": [
    "### Removal of Punctuation and Special Characters\n",
    "Punctuation marks and special characters often do not add much meaning to the text and can be safely removed. Common punctuation marks include periods, commas, question marks, and exclamation marks. You can use regular expressions or string operations to remove them."
   ]
  },
  {
   "cell_type": "code",
   "execution_count": 4,
   "id": "40a06c58-ef02-4f9c-86ba-9ddbdb39d4d2",
   "metadata": {},
   "outputs": [
    {
     "data": {
      "text/plain": [
       "'nepotism is the act of granting an advantage privilege or position to relatives in an occupation or field'"
      ]
     },
     "execution_count": 4,
     "metadata": {},
     "output_type": "execute_result"
    }
   ],
   "source": [
    "result = \"\"\n",
    "punctuautions = [\".\",\",\",\":\",\";\",\"!\",\"?\",\"[\",\"]\",\"'\"]\n",
    "for char in lower_sent:\n",
    "    if char not in punctuautions:\n",
    "        result += char\n",
    "\n",
    "result"
   ]
  },
  {
   "cell_type": "code",
   "execution_count": 5,
   "id": "28bd48bb-1c8a-490f-83aa-5b48dad2790c",
   "metadata": {},
   "outputs": [
    {
     "data": {
      "text/plain": [
       "'nepotism is the act of granting an advantage privilege or position to relatives in an occupation or field'"
      ]
     },
     "execution_count": 5,
     "metadata": {},
     "output_type": "execute_result"
    }
   ],
   "source": [
    "import re\n",
    "\n",
    "cleaned = re.sub(r'[^\\w\\d\\s]', '', lower_sent)\n",
    "cleaned"
   ]
  },
  {
   "cell_type": "markdown",
   "id": "90d7eb74-f100-4611-8546-91b47ea1f4aa",
   "metadata": {},
   "source": [
    "### Stop Word Removal:\n",
    "Stop words are commonly occurring words in a language, such as \"a,\" \"an,\" \"the,\" \"is,\" and \"in.\" These words provide little semantic value and can be removed to reduce noise in the data. Libraries like NLTK provide a list of predefined stop words for different languages.\n",
    "\n",
    "Before using the code make sure you downloaded all the stopwords uning the first shell below."
   ]
  },
  {
   "cell_type": "code",
   "execution_count": 6,
   "id": "5e6c24bc-ea6d-4a82-b8a8-edb130f01606",
   "metadata": {},
   "outputs": [
    {
     "name": "stderr",
     "output_type": "stream",
     "text": [
      "[nltk_data] Downloading package stopwords to\n",
      "[nltk_data]     /home/shailesh/nltk_data...\n",
      "[nltk_data]   Package stopwords is already up-to-date!\n"
     ]
    },
    {
     "data": {
      "text/plain": [
       "True"
      ]
     },
     "execution_count": 6,
     "metadata": {},
     "output_type": "execute_result"
    }
   ],
   "source": [
    "import nltk\n",
    "nltk.download('stopwords')"
   ]
  },
  {
   "cell_type": "code",
   "execution_count": 7,
   "id": "07fb7071-9175-4db5-870b-cb99650f3cec",
   "metadata": {},
   "outputs": [],
   "source": [
    "from nltk.corpus import stopwords"
   ]
  },
  {
   "cell_type": "code",
   "execution_count": 8,
   "id": "7c02bd5a-400d-410b-aea7-3b2dad0f89cd",
   "metadata": {},
   "outputs": [],
   "source": [
    "stopwords_eng = stopwords.words('english')"
   ]
  },
  {
   "cell_type": "code",
   "execution_count": 9,
   "id": "b4e5e013-54ac-441a-8671-2ba9ce9bbaf7",
   "metadata": {},
   "outputs": [],
   "source": [
    "cleaned = [word for word in cleaned.split(\" \") if word not in stopwords_eng]"
   ]
  },
  {
   "cell_type": "code",
   "execution_count": 10,
   "id": "659513aa-f870-46c3-b18d-21c7e8cb0fdc",
   "metadata": {},
   "outputs": [
    {
     "data": {
      "text/plain": [
       "'nepotism act granting advantage privilege position relatives occupation field'"
      ]
     },
     "execution_count": 10,
     "metadata": {},
     "output_type": "execute_result"
    }
   ],
   "source": [
    "cleaned = \" \".join(cleaned)\n",
    "cleaned"
   ]
  },
  {
   "cell_type": "markdown",
   "id": "9c0c645f-015b-45a4-8892-955683d1d382",
   "metadata": {},
   "source": [
    "## Tokenization\n",
    "\n",
    "Tokenization is the process of breaking down a piece of text into smaller units called tokens. These tokens can be words, subwords, or even characters, depending on the level of granularity desired. Tokenization is a fundamental step in text preprocessing and is crucial for various natural language processing (NLP) tasks, such as machine translation, sentiment analysis, and language generation."
   ]
  },
  {
   "cell_type": "markdown",
   "id": "a3784cc2-b9de-477f-8e2a-94b9a8f5990f",
   "metadata": {},
   "source": [
    "### Word Tokenization\n",
    "\n",
    "Word tokenization is the most common form of tokenization, where the text is split into individual words. For example, given the sentence \"Tokenization is important for NLP tasks,\" the word tokens would be: [\"Tokenization\", \"is\", \"important\", \"for\", \"NLP\", \"tasks\"].\n",
    "\n",
    "Word tokenization is typically performed using whitespace as the delimiter. However, it's important to handle cases like punctuation marks, contractions, and hyphenated words correctly. For example, \"don't\" should be tokenized as [\"do\", \"n't\"] instead of [\"don\", \"'\", \"t\"].\n",
    "\n",
    "Libraries like NLTK, spaCy, and the tokenizers package provide ready-to-use word tokenization functions.\n",
    "\n",
    "\n",
    "Before running any of these tokenization techniques, make sure you have `punkt` downloaded. `punkt` refers to the Punkt Tokenizer, which is a pre-trained unsupervised machine learning model for sentence tokenization. The NLTK Punkt Tokenizer is trained on large corpora and is capable of handling a wide range of sentence boundary detection for multiple languages. It uses a combination of rule-based heuristics and statistical models to identify sentence boundaries accurately."
   ]
  },
  {
   "cell_type": "code",
   "execution_count": 11,
   "id": "a9159c38-2b41-44f1-b148-f14c3529f3f7",
   "metadata": {},
   "outputs": [
    {
     "name": "stderr",
     "output_type": "stream",
     "text": [
      "[nltk_data] Downloading package punkt to /home/shailesh/nltk_data...\n",
      "[nltk_data]   Package punkt is already up-to-date!\n",
      "[nltk_data] Downloading package punkt_tab to\n",
      "[nltk_data]     /home/shailesh/nltk_data...\n",
      "[nltk_data]   Package punkt_tab is already up-to-date!\n"
     ]
    },
    {
     "data": {
      "text/plain": [
       "True"
      ]
     },
     "execution_count": 11,
     "metadata": {},
     "output_type": "execute_result"
    }
   ],
   "source": [
    "import nltk\n",
    "nltk.download(\"punkt\")\n",
    "nltk.download(\"punkt_tab\")"
   ]
  },
  {
   "cell_type": "code",
   "execution_count": 12,
   "id": "0076b5ee-b563-46c2-a453-0de02c17b695",
   "metadata": {},
   "outputs": [
    {
     "data": {
      "text/plain": [
       "['nepotism',\n",
       " 'act',\n",
       " 'granting',\n",
       " 'advantage',\n",
       " 'privilege',\n",
       " 'position',\n",
       " 'relatives',\n",
       " 'occupation',\n",
       " 'field']"
      ]
     },
     "execution_count": 12,
     "metadata": {},
     "output_type": "execute_result"
    }
   ],
   "source": [
    "tokens = nltk.word_tokenize(cleaned)\n",
    "tokens"
   ]
  },
  {
   "cell_type": "markdown",
   "id": "813be63f-fb7f-4469-8250-da2848699434",
   "metadata": {},
   "source": [
    "## Stemming and Lemmatization\n",
    "\n",
    "Stemming and lemmatization are techniques used in natural language processing (NLP) to reduce words to their base or root forms. Both approaches aim to normalize words and reduce inflectional variations, enabling better analysis and comparison of words. However, they differ in their methods and outputs. Let's dive into each technique in detail:"
   ]
  },
  {
   "cell_type": "markdown",
   "id": "1da24f2e-6538-401d-82ae-9692f35af0f8",
   "metadata": {},
   "source": [
    "### Stemming\n",
    "\n",
    "Stemming is a process of reducing words to their base or root forms by removing prefixes or suffixes. The resulting form is often a stem, which may not be an actual word itself. The primary goal of stemming is to simplify the vocabulary and group together words with the same base meaning.\n",
    "\n",
    "For example, when using a stemming algorithm on the words \"running,\" \"runs,\" and \"ran,\" the common stem would be \"run.\" The stemming process cuts off the suffixes (\"-ning,\" \"-s,\" and \"-\"), leaving behind the core form of the word.\n",
    "\n",
    "Stemming algorithms follow simple rules and heuristics based on linguistic patterns, rather than considering the context or part of speech of the word. Some popular stemming algorithms include the Porter stemming algorithm, the Snowball stemmer (which supports multiple languages), and the Lancaster stemming algorithm.\n",
    "\n",
    "Stemming is a computationally lightweight approach and can be useful in certain cases where the exact word form is not crucial. However, it may produce stems that are not actual words, leading to potential loss of meaning and ambiguity."
   ]
  },
  {
   "cell_type": "code",
   "execution_count": 13,
   "id": "abd32a8c-dbf9-49d7-b94b-8073200b273c",
   "metadata": {},
   "outputs": [],
   "source": [
    "from nltk.stem import LancasterStemmer, PorterStemmer"
   ]
  },
  {
   "cell_type": "code",
   "execution_count": 14,
   "id": "c461d6e0-d821-4f7a-a3f1-3adfc0074c08",
   "metadata": {},
   "outputs": [
    {
     "data": {
      "text/plain": [
       "'happy'"
      ]
     },
     "execution_count": 14,
     "metadata": {},
     "output_type": "execute_result"
    }
   ],
   "source": [
    "stemmer = LancasterStemmer()\n",
    "stemmer.stem(\"happily\")"
   ]
  },
  {
   "cell_type": "markdown",
   "id": "bc4bb06f-8c45-46f4-99c1-0a08d7a28cba",
   "metadata": {},
   "source": [
    "### Lemmatization\n",
    "\n",
    "Lemmatization, on the other hand, aims to reduce words to their canonical or dictionary forms, known as lemmas. Unlike stemming, lemmatization considers the context and part of speech (POS) of the word to generate meaningful lemmas. The resulting lemmas are actual words found in the language's dictionary.\n",
    "\n",
    "For example, when lemmatizing the words \"running,\" \"runs,\" and \"ran,\" the lemma for each would be \"run.\" Lemmatization takes into account the POS information to accurately determine the base form of the word.\n",
    "\n",
    "Lemmatization algorithms use linguistic rules and morphological analysis to identify the appropriate lemma. They often rely on language-specific resources, such as word lists and morphological databases. Some popular lemmatization tools include the WordNet lemmatizer and the spaCy library (which supports lemmatization for multiple languages).\n",
    "\n",
    "Lemmatization typically produces more accurate and meaningful results compared to stemming because it retains the core meaning of words. It is especially useful in tasks that require precise word analysis, such as information retrieval, question answering, and sentiment analysis.\n",
    "\n",
    "However, lemmatization can be more computationally intensive compared to stemming due to its reliance on POS tagging and language-specific resources.\n",
    "\n",
    "Before running any of these tokenization techniques, make sure you have `wordnet` downloaded."
   ]
  },
  {
   "cell_type": "code",
   "execution_count": 15,
   "id": "9ca16ff5-1bea-421a-871a-72d2ff57f605",
   "metadata": {},
   "outputs": [
    {
     "name": "stderr",
     "output_type": "stream",
     "text": [
      "[nltk_data] Downloading package wordnet to /home/shailesh/nltk_data...\n",
      "[nltk_data]   Package wordnet is already up-to-date!\n"
     ]
    },
    {
     "data": {
      "text/plain": [
       "True"
      ]
     },
     "execution_count": 15,
     "metadata": {},
     "output_type": "execute_result"
    }
   ],
   "source": [
    "nltk.download('wordnet')"
   ]
  },
  {
   "cell_type": "code",
   "execution_count": 16,
   "id": "dc07e5e3-9906-40bc-bc59-ba07120d5723",
   "metadata": {},
   "outputs": [],
   "source": [
    "from nltk.stem import WordNetLemmatizer"
   ]
  },
  {
   "cell_type": "code",
   "execution_count": 17,
   "id": "93b4656d-9839-4257-9d25-c04f1a6da989",
   "metadata": {},
   "outputs": [
    {
     "data": {
      "text/plain": [
       "'tasty'"
      ]
     },
     "execution_count": 17,
     "metadata": {},
     "output_type": "execute_result"
    }
   ],
   "source": [
    "lemmatizer = WordNetLemmatizer()\n",
    "lemmatizer.lemmatize(\"tasty\")"
   ]
  },
  {
   "cell_type": "code",
   "execution_count": 18,
   "id": "cfeac141-9a5e-472e-a83d-a43e123f3674",
   "metadata": {},
   "outputs": [
    {
     "data": {
      "text/plain": [
       "'run'"
      ]
     },
     "execution_count": 18,
     "metadata": {},
     "output_type": "execute_result"
    }
   ],
   "source": [
    "lemmatizer.lemmatize(\"runs\")"
   ]
  },
  {
   "cell_type": "markdown",
   "id": "fa3e6a80-b3a4-44a3-9a8a-f05ab49cb563",
   "metadata": {},
   "source": [
    "When deciding between stemming and lemmatization, consider the trade-off between simplicity and accuracy. If you require speed and a broad reduction of word forms, stemming may be sufficient. However, if you need more accurate analysis and want to preserve the semantic meaning of words, lemmatization is generally the preferred choice.\n",
    "\n",
    "It's important to note that both stemming and lemmatization have limitations. They may not always produce the correct base forms, especially for irregular words or those not present in the chosen language's dictionary. Contextual information, such as word sense disambiguation, can further enhance the accuracy of both techniques."
   ]
  },
  {
   "cell_type": "code",
   "execution_count": 19,
   "id": "bd939644-48fa-471a-82a7-4639729b1be3",
   "metadata": {},
   "outputs": [],
   "source": [
    "cleaned_tokens = [lemmatizer.lemmatize(word) for word in tokens]"
   ]
  },
  {
   "cell_type": "code",
   "execution_count": 20,
   "id": "de9f34b1-1e5f-4262-9c27-bad5f83422d2",
   "metadata": {},
   "outputs": [
    {
     "data": {
      "text/plain": [
       "['nepotism',\n",
       " 'act',\n",
       " 'granting',\n",
       " 'advantage',\n",
       " 'privilege',\n",
       " 'position',\n",
       " 'relative',\n",
       " 'occupation',\n",
       " 'field']"
      ]
     },
     "execution_count": 20,
     "metadata": {},
     "output_type": "execute_result"
    }
   ],
   "source": [
    "cleaned_tokens"
   ]
  },
  {
   "attachments": {
    "a3a9ab39-9389-426e-9d32-04daf1ceb2cb.png": {
     "image/png": "[encoded data removed]"
    }
   },
   "cell_type": "markdown",
   "id": "44ed2c96-a8a7-4422-bca5-d8b5e2f9ae46",
   "metadata": {},
   "source": [
    "## Word Embeddings\n",
    "\n",
    "![image.png](attachment:a3a9ab39-9389-426e-9d32-04daf1ceb2cb.png)"
   ]
  },
  {
   "cell_type": "markdown",
   "id": "556a70a9-8c4f-4576-a46c-6c0bfcae6efe",
   "metadata": {},
   "source": [
    "### Bag of words (BoW)\n",
    "\n",
    "**Bag of Words** model is the simplest and most popular form of word embedding. The key idea of **BoW** models is to encode every word in the vocabulary as one-hot-encoded vector.\n",
    "\n",
    "If r1, r2 and r3 be three records, the vectors corresponding to r1, r2 and r3 be v1, v2 and v3 respectively such that r1 and r2 are more similar to each other as compared to r3. Then, as general understanding, the vector distance between v1 and v2 is less than that between v1 and v3 or v2 and v3.\n",
    "\n",
    "<p align=\"center\"><b>\n",
    "    distance (v1, v2) < distance (v1, v3)<br/>\n",
    "    similarity (r1, r2) > similarity (r1, r3)\n",
    "</b></p>\n",
    "\n",
    "For easy understanding, let us consider a sweet example. Let there be three reviews for a product in ecommerce site as:\n",
    "\n",
    "    r1: This product is good and is affordable.\n",
    "    r2: This product is not good and affordable.\n",
    "    r3: This product is good and cheap.\n",
    "\n",
    "Let's see how BoW encodes the text data to machine compatible form. Follow along with the below points:\n",
    "\n",
    "**I. Construct a set of all the unique words present in the corpus:**\n",
    "\n",
    "    { this, product, is, good, and, affordable, not, cheap }\n",
    "\n",
    "There are a total of 8 uique words in the set formed. So the size of the vector generated for each review will be 8 as well, with the index position starting from 0 and ending to 7 i.e. \n",
    "\n",
    "    { 0: this, 1: product, 2: is, 3: good, 4: and, 5: affordable, 6: not, 7: cheap }\n",
    "\n",
    "**II. Construct a d-dimensional vector for each review separately:**\n",
    "\n",
    "Construct a d-dimensional vector (*d* being the vocabulary size) for each review. Each index/dimension of the vector corresponds to a unique word in the vocabulary. The value in each cell of the vector represents the number of times the word with that index occurs in the corpus.\n",
    "\n",
    " d | 0 | 1 | 2 | 3 | 4 | 5 | 6 | 7 |\n",
    "---|---|---|---|---|---|---|---|---|\n",
    "**v1**| 1 | 1 | 2 | 1 | 1 | 1 | 0 | 0 |\n",
    "**v2**| 1 | 1 | 1 | 1 | 1 | 1 | 1 | 0 |\n",
    "**v3**| 1 | 1 | 1 | 1 | 1 | 0 | 0 | 1 |\n",
    "\n",
    "<p style=\"text-align:center;\"><i><b>Table :</b> 8 dimensional vector representation of each review</i></p>\n",
    "\n",
    "#### Objective\n",
    "\n",
    "Similar texts (reviews, in this case) must result closer vector.\n",
    "\n",
    "    distance(v1-v2) = √((1-1)²+(1-1)²+(2-1)²+(1-1)²+(1-1)²+(1-1)²+(0-1)²+(0-0)²) = √2 = 1.41\n",
    "    distance(v1-v3) = √((1-1)²+(1-1)²+(2-1)²+(1-1)²+(1-1)²+(1-0)²+(0-0)²+(0-1)²) = √3 = 1.73\n",
    "\n",
    "The Euclidean distance between vectors v1 and v2 is less than that between v1 and v3. However the meaning of review r1 is completely opposite to that of review r2. Thus, BoW does not preserve the semantic meaning of a words and fails to work when there is small change in the text statements.\n",
    "\n",
    "#### Limitations\n",
    "\n",
    "- Vector length is insanely large for large corpus.\n",
    "- BoW results to sparse matrix, which is what we would like to avoid.\n",
    "- Retains no information about grammar and ordering of words in a corpus.\n"
   ]
  },
  {
   "cell_type": "code",
   "execution_count": 21,
   "id": "427daf23-c516-417a-a091-721a98576a3b",
   "metadata": {},
   "outputs": [],
   "source": [
    "from sklearn.feature_extraction.text import CountVectorizer"
   ]
  },
  {
   "cell_type": "code",
   "execution_count": 23,
   "id": "da707b1b-b2b2-4031-8d28-385094e328f1",
   "metadata": {},
   "outputs": [],
   "source": [
    "corpus = [\n",
    "    \"This product is good and is affordable.\",\n",
    "    \"This product is not good and affordable.\",\n",
    "    \"This product is good and cheap.\"\n",
    "]\n",
    "\n",
    "vectorizer = CountVectorizer()\n",
    "matrix = vectorizer.fit_transform(corpus)"
   ]
  },
  {
   "cell_type": "code",
   "execution_count": 25,
   "id": "e05810d3-a5d0-45fc-9b0f-8fc65ce41981",
   "metadata": {},
   "outputs": [
    {
     "data": {
      "text/plain": [
       "array([[1, 1, 0, 1, 2, 0, 1, 1],\n",
       "       [1, 1, 0, 1, 1, 1, 1, 1],\n",
       "       [0, 1, 1, 1, 1, 0, 1, 1]])"
      ]
     },
     "execution_count": 25,
     "metadata": {},
     "output_type": "execute_result"
    }
   ],
   "source": [
    "matrix.toarray()"
   ]
  },
  {
   "cell_type": "code",
   "execution_count": 26,
   "id": "1f2ed8f1-958d-40d4-ba7c-d83de935545f",
   "metadata": {},
   "outputs": [
    {
     "data": {
      "text/plain": [
       "{'this': 7,\n",
       " 'product': 6,\n",
       " 'is': 4,\n",
       " 'good': 3,\n",
       " 'and': 1,\n",
       " 'affordable': 0,\n",
       " 'not': 5,\n",
       " 'cheap': 2}"
      ]
     },
     "execution_count": 26,
     "metadata": {},
     "output_type": "execute_result"
    }
   ],
   "source": [
    "vectorizer.vocabulary_"
   ]
  },
  {
   "cell_type": "markdown",
   "id": "81afcc1e-fe1c-4998-b954-a19091e2e840",
   "metadata": {},
   "source": [
    "### TF-IDF\n",
    "\n",
    "In NLP an independent text entity is known as document and the collection of all these documents over the project space is known as corpus. *tf-idf* stands for Term Frequency-Inverse Document Frequency. The entire technique can be studied by studying *tf* and *idf* separately.\n",
    "\n",
    "**Term-Frequency** is a measure of frequency of appearance of term *t* in a document *d*. In other words, the probability of finding term *t* in a document *d*. \n",
    "\n",
    "<p align=\"center\">\n",
    "    \\( \\text{tf}_{t,d} = \\frac{\\text{No of times } t \\text{ appears in } d}{\\text{Total no of terms in } d} \\)\n",
    "</p>\n",
    "\n",
    "\n",
    "**Inverse-Document-Frequency** is a measure of inverse of probability of finding a document that contains term t in a corpus. In other words, a measure of the importance of term t.\n",
    "\n",
    "<p align=\"center\">\n",
    "    \\( \\text{idf}_{t} = \\log \\frac{\\text{Total no of documents in corpus}}{\\text{No of documents with term } t} \\)\n",
    "</p>\n",
    "\n",
    "We can now compute the *tf-idf* score for each word in the corpus. *tf-idf* gives us the similarity between two documents in the corpus. Words with a higher score are more important. *tf-idf* score is high when both *idf* and *tf* values are high. So, *tf-idf* gives more importance to words that are:\n",
    "\n",
    "- More frequent in the entire corpus\n",
    "- Rare in the corpus but frequent in the document.\n",
    "\n",
    "Now this *tf-idf* score is used as a value for each cell of the document-term matrix, just like the frequency of words in case of Bag-of-Words. The formula below is used to compute *tf-idf* score for each cell:\n",
    "\n",
    "<p align=\"center\">\n",
    "    \\( (\\text{tf-idf})_{t,d} = \\text{tf}_{t,d} \\times \\text{idf}_{t} \\)\n",
    "</p>\n",
    "\n",
    "While computing *tf*, all terms are considered equally important. However, it is known that certain terms, such as *is*, *of*, *and*, *that*, *the*, etc may appear a lot of times but have no or little importance. Thus we need to weigh down such frequent terms while scaling the rare ones up using *idf*.\n",
    "\n",
    " Term | tf (r1) | tf (r2) | tf (r3)| idf | tf-idf (r1) | tf-idf (r2) | tf-idf (r3)\n",
    "---|:-:|:-:|:-:|:-:|:-:|:-:|:-:|\n",
    "this| 1/7 | 1/7 | 1/7 | 0.000 | 0.000 | 0.000 | 0.000 |\n",
    "product| 1/7 | 1/7 | 1/7 | 0.000 | 0.000 | 0.000 | 0.000 |\n",
    "is| 2/7 | 1/7 | 1/7 | 0.000 | 0.000 | 0.000 | 0.000 |\n",
    "good| 1/7 | 1/7 | 1/7 | 0.000 | 0.000 | 0.000 | 0.000 |\n",
    "and| 1/7 | 1/7 | 1/7 | 0.000 | 0.000 | 0.000 | 0.000 |\n",
    "affordable| 1/7 | 1/7 | 0 | 0.176 | 0.025 | 0.025 | 0.000 |\n",
    "not| 0 | 1/7 | 0 | 0.477 | 0.000 | 0.068 | 0.000 |\n",
    "cheap| 0 | 0 | 1/7 | 0.477 | 0.000 | 0.000 | 0.068 |\n"
   ]
  },
  {
   "cell_type": "code",
   "execution_count": 27,
   "id": "5c0ee34f-6e9c-431a-aa59-3d051c4104f5",
   "metadata": {},
   "outputs": [],
   "source": [
    "from sklearn.feature_extraction.text import TfidfVectorizer\n",
    "\n",
    "corpus = [\n",
    "    \"This product is good and is affordable.\",\n",
    "    \"This product is not good and affordable.\",\n",
    "    \"This product is good and cheap.\"\n",
    "]\n",
    "\n",
    "vectorizer = TfidfVectorizer()\n",
    "matrix = vectorizer.fit_transform(corpus)"
   ]
  },
  {
   "cell_type": "code",
   "execution_count": 28,
   "id": "81ccc971-df8b-4173-83de-2783a28e9c66",
   "metadata": {},
   "outputs": [
    {
     "data": {
      "text/plain": [
       "array([[0.41434513, 0.32177595, 0.        , 0.32177595, 0.64355191,\n",
       "        0.        , 0.32177595, 0.32177595],\n",
       "       [0.4172334 , 0.32401895, 0.        , 0.32401895, 0.32401895,\n",
       "        0.54861178, 0.32401895, 0.32401895],\n",
       "       [0.        , 0.35653519, 0.60366655, 0.35653519, 0.35653519,\n",
       "        0.        , 0.35653519, 0.35653519]])"
      ]
     },
     "execution_count": 28,
     "metadata": {},
     "output_type": "execute_result"
    }
   ],
   "source": [
    "matrix.toarray()"
   ]
  },
  {
   "cell_type": "markdown",
   "id": "8987a9a4-3e4b-4c3e-9ff5-3de6feb45e96",
   "metadata": {},
   "source": [
    "### Word2Vec\n",
    "\n",
    "Word2Vec is a popular technique for learning word embeddings, which are dense vector representations of words in a continuous vector space. Word embeddings capture semantic relationships between words, allowing machines to understand and work with words in a more meaningful way. Word2Vec was introduced by researchers at Google in 2013, and it has since become one of the foundational techniques in natural language processing (NLP) and other related fields.\n",
    "\n",
    "The basic idea behind Word2Vec is to represent each word in a high-dimensional vector space, where words with similar meanings or contexts are located close to each other. The key intuition behind Word2Vec is the distributional hypothesis, which posits that words appearing in similar contexts tend to have similar meanings. For example, in the sentences \"I love cats\" and \"I adore felines,\" the words \"love\" and \"adore\" are likely to be used in similar contexts and have similar semantic meanings.\n",
    "\n",
    "Word2Vec can be trained using two main architectures: Continuous Bag of Words (CBOW) and Skip-gram. Let's explore each of these in detail:"
   ]
  },
  {
   "cell_type": "markdown",
   "id": "2729fbe0-a5da-4a62-8fb9-6337c5665918",
   "metadata": {},
   "source": [
    "**1. Continuous Bag of Words (CBOW)**\n",
    "\n",
    "CBOW aims to predict a target word based on its surrounding context words. Given a sequence of words in a sentence, CBOW tries to predict the middle word based on the surrounding context words. The context window size determines how many words before and after the target word are considered as the context.\n",
    "\n",
    "For example, consider the sentence: \"The cat sat on the mat.\" If we set the context window size to 2 and assume \"sat\" is the target word, CBOW will use the context words \"The,\" \"cat,\" \"on,\" and \"the\" to predict the word \"sat.\"\n",
    "\n",
    "The architecture involves the following steps:\n",
    "- Convert the context words to their corresponding word embeddings.\n",
    "- Average these embeddings to create a context vector.\n",
    "- Use this context vector as input to a neural network to predict the target word.\n",
    "\n",
    "**2. Skip-gram**\n",
    "\n",
    "Skip-gram works in the opposite way of CBOW. It aims to predict context words given a target word. In other words, it tries to find the context words that are most likely to appear in the given sentence with a particular target word.\n",
    "\n",
    "For the same example sentence, \"The cat sat on the mat,\" if \"sat\" is the target word, Skip-gram will try to predict the context words \"The,\" \"cat,\" \"on,\" and \"the.\"\n",
    "\n",
    "The architecture involves the following steps:\n",
    "- Convert the target word to its corresponding word embedding.\n",
    "- Use this embedding as input to a neural network to predict the context words."
   ]
  },
  {
   "cell_type": "code",
   "execution_count": 3,
   "id": "916b2481-2064-4717-969e-d4961d3dc440",
   "metadata": {},
   "outputs": [
    {
     "name": "stdout",
     "output_type": "stream",
     "text": [
      "Requirement already satisfied: gensim in /home/shailesh/Desktop/VritEducation/.vritenv/lib/python3.10/site-packages (4.3.3)\n",
      "Requirement already satisfied: smart-open>=1.8.1 in /home/shailesh/Desktop/VritEducation/.vritenv/lib/python3.10/site-packages (from gensim) (7.0.5)\n",
      "Requirement already satisfied: numpy<2.0,>=1.18.5 in /home/shailesh/Desktop/VritEducation/.vritenv/lib/python3.10/site-packages (from gensim) (1.26.4)\n",
      "Requirement already satisfied: scipy<1.14.0,>=1.7.0 in /home/shailesh/Desktop/VritEducation/.vritenv/lib/python3.10/site-packages (from gensim) (1.13.1)\n",
      "Requirement already satisfied: wrapt in /home/shailesh/Desktop/VritEducation/.vritenv/lib/python3.10/site-packages (from smart-open>=1.8.1->gensim) (1.16.0)\n"
     ]
    }
   ],
   "source": [
    "!pip install gensim"
   ]
  },
  {
   "cell_type": "code",
   "execution_count": 6,
   "id": "38c14b23-2e2f-48af-b66b-5811105d0248",
   "metadata": {},
   "outputs": [],
   "source": [
    "corpus = [\n",
    "    \"I love cats\",\n",
    "    \"I adore felines\",\n",
    "    \"Dogs are loyal\",\n",
    "    \"Cats and dogs are pets\",\n",
    "    \"The sun is shining\"\n",
    "]\n",
    "tokenized = [document.lower().split() for document in corpus]"
   ]
  },
  {
   "cell_type": "code",
   "execution_count": 7,
   "id": "5c9f7999-8412-4232-b915-e8c781735d4a",
   "metadata": {},
   "outputs": [
    {
     "data": {
      "text/plain": [
       "[['i', 'love', 'cats'],\n",
       " ['i', 'adore', 'felines'],\n",
       " ['dogs', 'are', 'loyal'],\n",
       " ['cats', 'and', 'dogs', 'are', 'pets'],\n",
       " ['the', 'sun', 'is', 'shining']]"
      ]
     },
     "execution_count": 7,
     "metadata": {},
     "output_type": "execute_result"
    }
   ],
   "source": [
    "tokenized"
   ]
  },
  {
   "cell_type": "code",
   "execution_count": 5,
   "id": "61e13e24-cfd6-4f92-a594-76e1d399a383",
   "metadata": {},
   "outputs": [],
   "source": [
    "from gensim.models import Word2Vec"
   ]
  },
  {
   "cell_type": "code",
   "execution_count": 25,
   "id": "d9b85c30-c097-47b9-b8f3-30be30e7791f",
   "metadata": {},
   "outputs": [],
   "source": [
    "cbow_model = Word2Vec(\n",
    "    sentences=tokenized, \n",
    "    vector_size=10,\n",
    "    sg=0,\n",
    "    min_count=1\n",
    ")"
   ]
  },
  {
   "cell_type": "code",
   "execution_count": 30,
   "id": "40f512b5-e3ca-494e-af0a-5e6e6bdf493e",
   "metadata": {},
   "outputs": [
    {
     "data": {
      "text/plain": [
       "[('adore', 0.43408331274986267),\n",
       " ('sun', 0.220225527882576),\n",
       " ('felines', 0.20956431329250336),\n",
       " ('shining', 0.11168702691793442),\n",
       " ('the', 0.07654326409101486),\n",
       " ('and', 0.07346682995557785),\n",
       " ('cats', -0.06334745138883591),\n",
       " ('is', -0.09995532780885696),\n",
       " ('pets', -0.10827530175447464),\n",
       " ('i', -0.19242054224014282)]"
      ]
     },
     "execution_count": 30,
     "metadata": {},
     "output_type": "execute_result"
    }
   ],
   "source": [
    "cbow_model.wv.most_similar([\"love\"])"
   ]
  },
  {
   "cell_type": "code",
   "execution_count": 27,
   "id": "8472f316-3958-42f2-bed7-ee77226de7fe",
   "metadata": {},
   "outputs": [
    {
     "data": {
      "text/plain": [
       "array([ 0.0996485 , -0.04362444, -0.00599338, -0.05695637,  0.03850823,\n",
       "        0.02786627,  0.06891076,  0.06101096,  0.09538497,  0.09273417],\n",
       "      dtype=float32)"
      ]
     },
     "execution_count": 27,
     "metadata": {},
     "output_type": "execute_result"
    }
   ],
   "source": [
    "cbow_model.wv.get_vector('love')"
   ]
  },
  {
   "cell_type": "code",
   "execution_count": 28,
   "id": "04551389-bb24-41f9-b203-e17d218f1838",
   "metadata": {},
   "outputs": [
    {
     "data": {
      "text/plain": [
       "array([ 0.02348376, -0.04519032,  0.08388732, -0.09858163,  0.06764641,\n",
       "        0.02914417, -0.04932832,  0.04398187, -0.01739575,  0.06711384],\n",
       "      dtype=float32)"
      ]
     },
     "execution_count": 28,
     "metadata": {},
     "output_type": "execute_result"
    }
   ],
   "source": [
    "cbow_model.wv.get_vector('adore')"
   ]
  },
  {
   "cell_type": "code",
   "execution_count": 31,
   "id": "8f7cfe1e-ceca-4f55-8b59-a93b2ebe1faa",
   "metadata": {},
   "outputs": [],
   "source": [
    "sg_model = Word2Vec(\n",
    "    sentences=tokenized, \n",
    "    vector_size=10,\n",
    "    sg=1,\n",
    "    min_count=1\n",
    ")"
   ]
  },
  {
   "cell_type": "code",
   "execution_count": 32,
   "id": "5fb27134-5e03-49e2-9e94-38dd4dcbe92c",
   "metadata": {},
   "outputs": [
    {
     "data": {
      "text/plain": [
       "[('adore', 0.43408331274986267),\n",
       " ('sun', 0.22021210193634033),\n",
       " ('felines', 0.20956431329250336),\n",
       " ('shining', 0.11168702691793442),\n",
       " ('the', 0.07654326409101486),\n",
       " ('and', 0.07346682995557785),\n",
       " ('cats', -0.06334745138883591),\n",
       " ('is', -0.09995532780885696),\n",
       " ('pets', -0.10827530175447464),\n",
       " ('i', -0.19242054224014282)]"
      ]
     },
     "execution_count": 32,
     "metadata": {},
     "output_type": "execute_result"
    }
   ],
   "source": [
    "sg_model.wv.most_similar(['love'])"
   ]
  },
  {
   "cell_type": "code",
   "execution_count": 33,
   "id": "a0203c42-d855-4cc2-bf8c-194a5b6922d3",
   "metadata": {},
   "outputs": [
    {
     "data": {
      "text/plain": [
       "array([ 0.02348376, -0.04519032,  0.08388732, -0.09858163,  0.06764641,\n",
       "        0.02914417, -0.04932832,  0.04398187, -0.01739575,  0.06711384],\n",
       "      dtype=float32)"
      ]
     },
     "execution_count": 33,
     "metadata": {},
     "output_type": "execute_result"
    }
   ],
   "source": [
    "sg_model.wv.get_vector('adore')"
   ]
  },
  {
   "cell_type": "markdown",
   "id": "cfa4b157-8856-4f73-b53b-97d90f5de6c8",
   "metadata": {},
   "source": [
    "### BERT\n",
    "BERT (Bidirectional Encoder Representations from Transformers) is a neural network model that was pre-trained on a massive dataset of text and code. It can be used for a variety of natural language processing (NLP) tasks, such as question answering, text classification, and sentiment analysis.\n",
    "\n",
    "**How does BERT work?**\n",
    "\n",
    "BERT is a transformer-based model, which means that it uses a stack of self-attention layers to learn the relationships between words in a sentence. The model is pre-trained on a massive dataset of text and code, which allows it to learn the contextual meaning of words.\n",
    "\n",
    "**How to use BERT for embedding?**\n",
    "\n",
    "BERT can be used to generate word embeddings, which are vector representations of words that capture their semantic meaning. To generate word embeddings using BERT, you first need to tokenize the input text into individual words or subwords (using the BERT tokenizer). You can then pass the tokenized input through the BERT model to generate a sequence of hidden states. The hidden states can then be used to represent the words in the input text.\n",
    "\n",
    "To implement BERT, we will use HuggingFace's `transformers` library and `transformers` requires `pytorch` installed. So let's begin by installing the required libraries.\n",
    "\n",
    "```\n",
    "pip3 install torch\n",
    "pip3 install transformers\n",
    "```"
   ]
  },
  {
   "cell_type": "code",
   "execution_count": 38,
   "id": "3a13c2ab-f2e5-4291-ba86-c790ec83529d",
   "metadata": {},
   "outputs": [
    {
     "name": "stderr",
     "output_type": "stream",
     "text": [
      "2025-09-09 08:53:08.223639: I tensorflow/core/util/port.cc:153] oneDNN custom operations are on. You may see slightly different numerical results due to floating-point round-off errors from different computation orders. To turn them off, set the environment variable `TF_ENABLE_ONEDNN_OPTS=0`.\n",
      "2025-09-09 08:53:08.475062: E external/local_xla/xla/stream_executor/cuda/cuda_fft.cc:477] Unable to register cuFFT factory: Attempting to register factory for plugin cuFFT when one has already been registered\n",
      "WARNING: All log messages before absl::InitializeLog() is called are written to STDERR\n",
      "E0000 00:00:1757387288.575506  589722 cuda_dnn.cc:8310] Unable to register cuDNN factory: Attempting to register factory for plugin cuDNN when one has already been registered\n",
      "E0000 00:00:1757387288.608759  589722 cuda_blas.cc:1418] Unable to register cuBLAS factory: Attempting to register factory for plugin cuBLAS when one has already been registered\n",
      "2025-09-09 08:53:08.836385: I tensorflow/core/platform/cpu_feature_guard.cc:210] This TensorFlow binary is optimized to use available CPU instructions in performance-critical operations.\n",
      "To enable the following instructions: AVX2 AVX_VNNI FMA, in other operations, rebuild TensorFlow with the appropriate compiler flags.\n"
     ]
    }
   ],
   "source": [
    "from transformers import BertTokenizer, BertModel"
   ]
  },
  {
   "cell_type": "code",
   "execution_count": 35,
   "id": "48020d6f-5377-4d75-85f0-a0af25214505",
   "metadata": {},
   "outputs": [],
   "source": [
    "tokenizer = BertTokenizer.from_pretrained('bert-base-uncased')"
   ]
  },
  {
   "cell_type": "code",
   "execution_count": 36,
   "id": "b89ae52c-ec52-4ec1-8e0c-9ba65d65ae33",
   "metadata": {},
   "outputs": [],
   "source": [
    "token = tokenizer(text = \"The quick brown fox jumps over lazy dog\", return_tensors='pt')"
   ]
  },
  {
   "cell_type": "code",
   "execution_count": 39,
   "id": "7e87dc8f-cfaf-4c4e-86ae-23424d2909bf",
   "metadata": {},
   "outputs": [],
   "source": [
    "embed_model = BertModel.from_pretrained('bert-base-uncased')\n"
   ]
  },
  {
   "cell_type": "code",
   "execution_count": 41,
   "id": "27d30d46-dac3-4eac-8115-e77df32eb6e6",
   "metadata": {},
   "outputs": [],
   "source": [
    "embeddings = embed_model(**token)"
   ]
  },
  {
   "cell_type": "code",
   "execution_count": 44,
   "id": "92eeed85-bff0-4436-96ec-1ef904aa982e",
   "metadata": {},
   "outputs": [],
   "source": [
    "embeddings = embeddings.last_hidden_state"
   ]
  },
  {
   "cell_type": "code",
   "execution_count": 46,
   "id": "c33c6b12-9b5b-42c8-9a63-343921a1a231",
   "metadata": {},
   "outputs": [
    {
     "data": {
      "text/plain": [
       "torch.Size([1, 10, 768])"
      ]
     },
     "execution_count": 46,
     "metadata": {},
     "output_type": "execute_result"
    }
   ],
   "source": [
    "embeddings.shape"
   ]
  },
  {
   "cell_type": "code",
   "execution_count": null,
   "id": "b142cb2a-1cd1-4adc-afae-d4c13812b698",
   "metadata": {},
   "outputs": [],
   "source": []
  }
 ],
 "metadata": {
  "kernelspec": {
   "display_name": "Python 3 (ipykernel)",
   "language": "python",
   "name": "python3"
  },
  "language_info": {
   "codemirror_mode": {
    "name": "ipython",
    "version": 3
   },
   "file_extension": ".py",
   "mimetype": "text/x-python",
   "name": "python",
   "nbconvert_exporter": "python",
   "pygments_lexer": "ipython3",
   "version": "3.13.0"
  }
 },
 "nbformat": 4,
 "nbformat_minor": 5
}
