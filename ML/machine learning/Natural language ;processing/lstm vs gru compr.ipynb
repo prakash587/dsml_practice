{
 "cells": [
  {
   "cell_type": "code",
   "execution_count": 1,
   "id": "d6f46848-cfee-44c1-9c9d-3a3192258449",
   "metadata": {},
   "outputs": [],
   "source": [
    "import numpy as np\n",
    "import tensorflow as tf\n",
    "from tensorflow.keras.datasets import imdb\n",
    "from tensorflow.keras.preprocessing.sequence import pad_sequences\n",
    "from tensorflow.keras.models import Sequential\n",
    "from tensorflow.keras.layers import Embedding, LSTM, GRU, Dense, Dropout\n",
    "from sklearn.metrics import accuracy_score\n",
    "\n",
    "\n",
    "\n"
   ]
  },
  {
   "cell_type": "code",
   "execution_count": 2,
   "id": "56d99f33-1206-4d40-95cf-dcb7ccccada6",
   "metadata": {},
   "outputs": [],
   "source": [
    "# Load IMDB Dataset\n",
    "\n",
    "max_features = 10000  # top words\n",
    "maxlen = 200          # cut reviews after 200 words\n",
    "\n",
    "(X_train, y_train), (X_test, y_test) = imdb.load_data(num_words=max_features)\n"
   ]
  },
  {
   "cell_type": "code",
   "execution_count": 3,
   "id": "34407a13-36c0-480b-8b80-3c839b59e94e",
   "metadata": {},
   "outputs": [],
   "source": [
    "# Padding\n",
    "X_train = pad_sequences(X_train, maxlen=maxlen)\n",
    "X_test = pad_sequences(X_test, maxlen=maxlen)\n"
   ]
  },
  {
   "cell_type": "code",
   "execution_count": 4,
   "id": "33ff0b3b-a07c-4955-9278-08f0f967e6b7",
   "metadata": {},
   "outputs": [],
   "source": [
    "# Define Models\n",
    "# ---------------------------\n",
    "def build_lstm():\n",
    "    model = Sequential()\n",
    "    model.add(Embedding(max_features, 128, input_length=maxlen))\n",
    "    model.add(LSTM(128))\n",
    "    model.add(Dropout(0.5))\n",
    "    model.add(Dense(1, activation='sigmoid'))\n",
    "    model.compile(loss='binary_crossentropy', optimizer='adam', metrics=['accuracy'])\n",
    "    return model\n",
    "\n"
   ]
  },
  {
   "cell_type": "code",
   "execution_count": 5,
   "id": "8cc58217-3fff-4b4b-a7fc-dadb4887aa47",
   "metadata": {},
   "outputs": [],
   "source": [
    "def build_gru():\n",
    "    model = Sequential()\n",
    "    model.add(Embedding(max_features, 128, input_length=maxlen))\n",
    "    model.add(GRU(128))\n",
    "    model.add(Dropout(0.5))\n",
    "    model.add(Dense(1, activation='sigmoid'))\n",
    "    model.compile(loss='binary_crossentropy', optimizer='adam', metrics=['accuracy'])\n",
    "    return model"
   ]
  },
  {
   "cell_type": "code",
   "execution_count": 6,
   "id": "1d63ba06-f7ab-4418-ac99-4e70b68501ab",
   "metadata": {},
   "outputs": [
    {
     "name": "stdout",
     "output_type": "stream",
     "text": [
      "\n",
      "Training LSTM...\n",
      "Epoch 1/2\n"
     ]
    },
    {
     "name": "stderr",
     "output_type": "stream",
     "text": [
      "C:\\Users\\pkhad\\AppData\\Roaming\\Python\\Python313\\site-packages\\keras\\src\\layers\\core\\embedding.py:97: UserWarning: Argument `input_length` is deprecated. Just remove it.\n",
      "  warnings.warn(\n"
     ]
    },
    {
     "name": "stdout",
     "output_type": "stream",
     "text": [
      "\u001b[1m313/313\u001b[0m \u001b[32m━━━━━━━━━━━━━━━━━━━━\u001b[0m\u001b[37m\u001b[0m \u001b[1m171s\u001b[0m 530ms/step - accuracy: 0.7570 - loss: 0.4962 - val_accuracy: 0.8018 - val_loss: 0.4419\n",
      "Epoch 2/2\n",
      "\u001b[1m313/313\u001b[0m \u001b[32m━━━━━━━━━━━━━━━━━━━━\u001b[0m\u001b[37m\u001b[0m \u001b[1m162s\u001b[0m 519ms/step - accuracy: 0.8892 - loss: 0.2828 - val_accuracy: 0.8354 - val_loss: 0.3565\n"
     ]
    }
   ],
   "source": [
    "# Train LSTM\n",
    "# ---------------------------\n",
    "lstm_model = build_lstm()\n",
    "print(\"\\nTraining LSTM...\")\n",
    "lstm_history = lstm_model.fit(X_train, y_train, epochs=2, batch_size=64, validation_split=0.2, verbose=1)\n"
   ]
  },
  {
   "cell_type": "code",
   "execution_count": 7,
   "id": "85522a3b-0504-425d-8e74-919ae44ec7b4",
   "metadata": {},
   "outputs": [
    {
     "name": "stdout",
     "output_type": "stream",
     "text": [
      "\u001b[1m782/782\u001b[0m \u001b[32m━━━━━━━━━━━━━━━━━━━━\u001b[0m\u001b[37m\u001b[0m \u001b[1m78s\u001b[0m 100ms/step\n",
      "LSTM Accuracy: 0.84288\n"
     ]
    }
   ],
   "source": [
    "# Evaluate LSTM\n",
    "lstm_preds = (lstm_model.predict(X_test) > 0.5).astype(int)\n",
    "print(\"LSTM Accuracy:\", accuracy_score(y_test, lstm_preds))\n"
   ]
  },
  {
   "cell_type": "code",
   "execution_count": 8,
   "id": "fd0f19f4-3b3f-404d-b4c3-5a984c017284",
   "metadata": {},
   "outputs": [
    {
     "name": "stdout",
     "output_type": "stream",
     "text": [
      "\n",
      "Training GRU...\n",
      "Epoch 1/2\n"
     ]
    },
    {
     "name": "stderr",
     "output_type": "stream",
     "text": [
      "C:\\Users\\pkhad\\AppData\\Roaming\\Python\\Python313\\site-packages\\keras\\src\\layers\\core\\embedding.py:97: UserWarning: Argument `input_length` is deprecated. Just remove it.\n",
      "  warnings.warn(\n"
     ]
    },
    {
     "name": "stdout",
     "output_type": "stream",
     "text": [
      "\u001b[1m313/313\u001b[0m \u001b[32m━━━━━━━━━━━━━━━━━━━━\u001b[0m\u001b[37m\u001b[0m \u001b[1m158s\u001b[0m 493ms/step - accuracy: 0.7580 - loss: 0.4777 - val_accuracy: 0.8480 - val_loss: 0.4094\n",
      "Epoch 2/2\n",
      "\u001b[1m313/313\u001b[0m \u001b[32m━━━━━━━━━━━━━━━━━━━━\u001b[0m\u001b[37m\u001b[0m \u001b[1m149s\u001b[0m 476ms/step - accuracy: 0.8913 - loss: 0.2732 - val_accuracy: 0.8692 - val_loss: 0.3102\n"
     ]
    }
   ],
   "source": [
    "# Train GRU\n",
    "# ---------------------------\n",
    "gru_model = build_gru()\n",
    "print(\"\\nTraining GRU...\")\n",
    "gru_history = gru_model.fit(X_train, y_train, epochs=2, batch_size=64, validation_split=0.2, verbose=1)\n"
   ]
  },
  {
   "cell_type": "code",
   "execution_count": 10,
   "id": "910d1207-90ed-46ff-bb33-86685f6438d6",
   "metadata": {},
   "outputs": [
    {
     "name": "stdout",
     "output_type": "stream",
     "text": [
      "\u001b[1m782/782\u001b[0m \u001b[32m━━━━━━━━━━━━━━━━━━━━\u001b[0m\u001b[37m\u001b[0m \u001b[1m64s\u001b[0m 82ms/step\n",
      "GRU Accuracy: 0.8678\n"
     ]
    }
   ],
   "source": [
    "\n",
    "# Evaluate GRU\n",
    "gru_preds = (gru_model.predict(X_test) > 0.5).astype(int)\n",
    "print(\"GRU Accuracy:\", accuracy_score(y_test, gru_preds))"
   ]
  },
  {
   "cell_type": "code",
   "execution_count": null,
   "id": "d41405b4-53e8-44a9-91ed-e27bdbaaf016",
   "metadata": {},
   "outputs": [],
   "source": []
  },
  {
   "cell_type": "code",
   "execution_count": null,
   "id": "6e59b30b-a9f6-42e8-b35e-7df04448ff16",
   "metadata": {},
   "outputs": [],
   "source": []
  },
  {
   "cell_type": "code",
   "execution_count": null,
   "id": "3b63586f-0b7f-4306-ac2e-7466dc7389f6",
   "metadata": {},
   "outputs": [],
   "source": []
  },
  {
   "cell_type": "code",
   "execution_count": null,
   "id": "25c1727e-5d5a-4c9a-8111-35b823f0c451",
   "metadata": {},
   "outputs": [],
   "source": []
  },
  {
   "cell_type": "code",
   "execution_count": null,
   "id": "251e6508-ea79-47a6-aef1-0cfff192cead",
   "metadata": {},
   "outputs": [],
   "source": []
  },
  {
   "cell_type": "code",
   "execution_count": null,
   "id": "5339e75a-1d11-4752-ae9e-8426cca054c5",
   "metadata": {},
   "outputs": [],
   "source": []
  },
  {
   "cell_type": "code",
   "execution_count": null,
   "id": "b59d553c-f862-4c95-8c20-89e2990a8570",
   "metadata": {},
   "outputs": [],
   "source": []
  },
  {
   "cell_type": "code",
   "execution_count": null,
   "id": "b8f81546-ee48-47f6-9192-eec2403f532f",
   "metadata": {},
   "outputs": [],
   "source": []
  },
  {
   "cell_type": "code",
   "execution_count": null,
   "id": "cb55bec8-b02a-4aa3-a436-5512612f5acb",
   "metadata": {},
   "outputs": [],
   "source": []
  },
  {
   "cell_type": "code",
   "execution_count": null,
   "id": "3441f4a0-2bce-49ae-9ca5-f1821f1d6f39",
   "metadata": {},
   "outputs": [],
   "source": []
  },
  {
   "cell_type": "code",
   "execution_count": null,
   "id": "6809f20a-3633-442a-a3ee-9750038616de",
   "metadata": {},
   "outputs": [],
   "source": []
  },
  {
   "cell_type": "code",
   "execution_count": null,
   "id": "21ed54ba-bed5-4671-8322-2219b102e8f3",
   "metadata": {},
   "outputs": [],
   "source": []
  },
  {
   "cell_type": "code",
   "execution_count": null,
   "id": "a81d462f-62f6-454c-995b-d67c670d33cc",
   "metadata": {},
   "outputs": [],
   "source": [
    "\n",
    "\n",
    "# ---------------------------\n"
   ]
  }
 ],
 "metadata": {
  "kernelspec": {
   "display_name": "Python 3 (ipykernel)",
   "language": "python",
   "name": "python3"
  },
  "language_info": {
   "codemirror_mode": {
    "name": "ipython",
    "version": 3
   },
   "file_extension": ".py",
   "mimetype": "text/x-python",
   "name": "python",
   "nbconvert_exporter": "python",
   "pygments_lexer": "ipython3",
   "version": "3.13.0"
  }
 },
 "nbformat": 4,
 "nbformat_minor": 5
}
