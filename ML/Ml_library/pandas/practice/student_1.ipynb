{
 "cells": [
  {
   "cell_type": "code",
   "execution_count": 2,
   "id": "262851df-aa21-423b-9b5d-b010f84af4f7",
   "metadata": {},
   "outputs": [],
   "source": [
    "import pandas as pd\n",
    "import numpy as np\n",
    "import seaborn as sns\n",
    "import os\n"
   ]
  },
  {
   "cell_type": "code",
   "execution_count": null,
   "id": "4172717a-6d6e-456d-a903-6154b16962d7",
   "metadata": {},
   "outputs": [],
   "source": [
    "columns_name = [\n",
    "    \"time\", \"gender\", \"matric_%\", \"study_year\",\"faculty\",\"gpa_2023\",\"accomodation\",\"allowance\",\"scholarship\",\n",
    "    \"study_hours\",\"party_week\",\"drinks_night\",\"missed_classes\",\"in_relationship\",\"parent_approve\",\"relation_parent\"\n",
    "]\n",
    "student_data"
   ]
  }
 ],
 "metadata": {
  "kernelspec": {
   "display_name": "Python 3 (ipykernel)",
   "language": "python",
   "name": "python3"
  },
  "language_info": {
   "codemirror_mode": {
    "name": "ipython",
    "version": 3
   },
   "file_extension": ".py",
   "mimetype": "text/x-python",
   "name": "python",
   "nbconvert_exporter": "python",
   "pygments_lexer": "ipython3",
   "version": "3.13.0"
  }
 },
 "nbformat": 4,
 "nbformat_minor": 5
}
