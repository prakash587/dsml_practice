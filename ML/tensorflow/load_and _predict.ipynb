{
 "cells": [
  {
   "cell_type": "code",
   "execution_count": 7,
   "id": "82343bbc-35ca-4ec1-bfca-aa72555ce1fd",
   "metadata": {},
   "outputs": [],
   "source": [
    "import pickle\n",
    "import numpy as np"
   ]
  },
  {
   "cell_type": "code",
   "execution_count": 3,
   "id": "ce2b6b75-3b6c-4ed6-b061-3268f053afe5",
   "metadata": {},
   "outputs": [],
   "source": [
    "with open('iris_classifier.pkl', 'rb')as file:\n",
    "    objects= pickle.load(file)"
   ]
  },
  {
   "cell_type": "code",
   "execution_count": 4,
   "id": "dc704316-75f0-45bf-8f55-080370853fdc",
   "metadata": {},
   "outputs": [
    {
     "data": {
      "text/plain": [
       "{'scaler': StandardScaler(),\n",
       " 'encoder': OneHotEncoder(sparse_output=False),\n",
       " 'tf_model': <Sequential name=sequential, built=True>}"
      ]
     },
     "execution_count": 4,
     "metadata": {},
     "output_type": "execute_result"
    }
   ],
   "source": [
    "objects"
   ]
  },
  {
   "cell_type": "code",
   "execution_count": 13,
   "id": "58d63393-8fb4-4285-a55a-1bc0f102d64d",
   "metadata": {},
   "outputs": [],
   "source": [
    "scaler=objects['scaler']\n",
    "ohe_encoder=objects['encoder']\n",
    "model=objects['tf_model']"
   ]
  },
  {
   "cell_type": "code",
   "execution_count": 14,
   "id": "e5910325-4ca3-42a8-aa56-aa0e253b4f7b",
   "metadata": {},
   "outputs": [],
   "source": [
    "my_data= np.array([[12,4,3,5]])"
   ]
  },
  {
   "cell_type": "code",
   "execution_count": 15,
   "id": "4884abaa-d929-4e82-b324-93d20648687c",
   "metadata": {},
   "outputs": [],
   "source": [
    "#preprocessing\n",
    "my_data_scale= scaler.transform(my_data)"
   ]
  },
  {
   "cell_type": "code",
   "execution_count": 16,
   "id": "8e07a2cf-65a7-47a7-a44d-148b5c7a2427",
   "metadata": {},
   "outputs": [
    {
     "name": "stdout",
     "output_type": "stream",
     "text": [
      "\u001b[1m1/1\u001b[0m \u001b[32m━━━━━━━━━━━━━━━━━━━━\u001b[0m\u001b[37m\u001b[0m \u001b[1m0s\u001b[0m 164ms/step\n"
     ]
    }
   ],
   "source": [
    "output= model.predict(my_data_scale)"
   ]
  },
  {
   "cell_type": "code",
   "execution_count": 17,
   "id": "5f3c4a3e-e653-4d1b-b08a-7a950a730d06",
   "metadata": {},
   "outputs": [
    {
     "data": {
      "text/plain": [
       "'Iris-virginica'"
      ]
     },
     "execution_count": 17,
     "metadata": {},
     "output_type": "execute_result"
    }
   ],
   "source": [
    "cats=ohe_encoder.categories_[0]\n",
    "[np.argmax(output, axis=1)[0]]"
   ]
  },
  {
   "cell_type": "code",
   "execution_count": null,
   "id": "63995df3-0256-456f-85d5-dee83a0ab9d6",
   "metadata": {},
   "outputs": [],
   "source": []
  }
 ],
 "metadata": {
  "kernelspec": {
   "display_name": "Python 3 (ipykernel)",
   "language": "python",
   "name": "python3"
  },
  "language_info": {
   "codemirror_mode": {
    "name": "ipython",
    "version": 3
   },
   "file_extension": ".py",
   "mimetype": "text/x-python",
   "name": "python",
   "nbconvert_exporter": "python",
   "pygments_lexer": "ipython3",
   "version": "3.13.0"
  }
 },
 "nbformat": 4,
 "nbformat_minor": 5
}
